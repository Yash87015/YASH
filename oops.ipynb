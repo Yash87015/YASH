{
 "cells": [
  {
   "cell_type": "markdown",
   "id": "40df00f8-6394-45ae-80a4-57fc73fa195a",
   "metadata": {},
   "source": [
    "#oops>> object oriented programming system"
   ]
  },
  {
   "cell_type": "code",
   "execution_count": 2,
   "id": "af7e8bce-7190-40e7-9d3e-7f3b914aa759",
   "metadata": {},
   "outputs": [],
   "source": [
    "#iit form(template) example, cars example, human being example\n",
    "#classes are blueprint/template for creating an object\n",
    "#we are different objects of class human being\n",
    "#gujiya maker, thekua maker"
   ]
  },
  {
   "cell_type": "code",
   "execution_count": 3,
   "id": "b332c71d-33c7-4b5c-8592-f1463bd4869f",
   "metadata": {},
   "outputs": [],
   "source": [
    "#class Car is nothing but a template\n",
    "class Car: #naming convention>> UpperCamelCase\n",
    "    pass"
   ]
  },
  {
   "cell_type": "code",
   "execution_count": 5,
   "id": "f8e196e6-f722-46b6-8c81-a034d46f3dbf",
   "metadata": {},
   "outputs": [],
   "source": [
    "a = Car()#instance/object"
   ]
  },
  {
   "cell_type": "code",
   "execution_count": 6,
   "id": "a2143bc2-66de-43ab-ac40-0b734f9280de",
   "metadata": {},
   "outputs": [
    {
     "data": {
      "text/plain": [
       "__main__.Car"
      ]
     },
     "execution_count": 6,
     "metadata": {},
     "output_type": "execute_result"
    }
   ],
   "source": [
    "type(a)"
   ]
  },
  {
   "cell_type": "code",
   "execution_count": 7,
   "id": "87651a3d-57b5-4e55-85ee-ca0bbd659fd0",
   "metadata": {},
   "outputs": [],
   "source": [
    "#why oops? we already had function\n",
    "#a project can have many components, say backend(f1, f2), frontend(f3, f4), data pipeline(f5, f6)\n",
    "\n",
    "# def f1():\n",
    "#     pass\n",
    "\n",
    "# def f6():\n",
    "#     pass\n",
    "\n",
    "# def f4():\n",
    "#     pass\n",
    "\n",
    "# def f2():\n",
    "#     pass\n",
    "\n",
    "# def d5():\n",
    "#     pass\n",
    "\n",
    "# def f3():\n",
    "#     pass\n",
    "\n",
    "#if a backend developer wants to work/change some backend function>> all the functions are at one place\n",
    "#oops helps you to arrange the required functions in respective classes"
   ]
  },
  {
   "cell_type": "markdown",
   "id": "6b680eb7-37d0-4df4-b509-e395a38b0693",
   "metadata": {},
   "source": [
    "Object-oriented programming is based on the concept of objects. In object-oriented programming data structures, or objects are defined, each with its own properties or attributes. Each object can also contain its own procedures or methods. Software is designed by using objects that interact with one another."
   ]
  },
  {
   "cell_type": "code",
   "execution_count": 8,
   "id": "5dd2d574-e0a2-471d-a24b-d4f51ee1201e",
   "metadata": {},
   "outputs": [],
   "source": [
    "class Topcar:#function/method of a Topcar\n",
    "    pass"
   ]
  },
  {
   "cell_type": "code",
   "execution_count": 9,
   "id": "99155203-8c43-4bf7-9241-c04475b4f542",
   "metadata": {},
   "outputs": [],
   "source": [
    "mahindra=Topcar()"
   ]
  },
  {
   "cell_type": "code",
   "execution_count": 10,
   "id": "1193a072-c966-4f84-bac1-d6ee27323442",
   "metadata": {},
   "outputs": [
    {
     "data": {
      "text/plain": [
       "__main__.Topcar"
      ]
     },
     "execution_count": 10,
     "metadata": {},
     "output_type": "execute_result"
    }
   ],
   "source": [
    "type(mahindra)"
   ]
  },
  {
   "cell_type": "code",
   "execution_count": 20,
   "id": "c327d57f-66b1-4560-a7d4-8e3b71a36780",
   "metadata": {},
   "outputs": [],
   "source": [
    "class Topcar:\n",
    "    def thar(M):\n",
    "        print(\"car is mahindra comnay 4*4\")\n",
    "    def bolero(M):\n",
    "        print(\"car in mahindra secound one\")\n",
    "#M>> a variable that represent instance of the class using which you can access method/function of class, also attribute/property/data of the class\n",
    "#M makes sure that each object knows that the method is associated with it\n",
    "#in other words the method is referenced to that particular object    \n",
    "#IF YOU NOT PUT ANY ARGUMENT THEN IT WILL GIVE YOU ERROR\n",
    "#M is not a python keyword, you can pass any variable name\n",
    "#best practise is to pass M"
   ]
  },
  {
   "cell_type": "code",
   "execution_count": 21,
   "id": "57c9c3e7-d6bc-431c-927f-2ac4d7c7467a",
   "metadata": {},
   "outputs": [],
   "source": [
    "a=Topcar()"
   ]
  },
  {
   "cell_type": "code",
   "execution_count": 22,
   "id": "c8c61841-1be2-4ad4-ba75-5609a4bf5e9a",
   "metadata": {},
   "outputs": [
    {
     "name": "stdout",
     "output_type": "stream",
     "text": [
      "car is mahindra comnay 4*4\n"
     ]
    }
   ],
   "source": [
    "a.thar()"
   ]
  },
  {
   "cell_type": "code",
   "execution_count": 23,
   "id": "9f12ebf8-e2f6-408e-8948-3ab6ff8631bd",
   "metadata": {},
   "outputs": [
    {
     "data": {
      "text/plain": [
       "__main__.Topcar"
      ]
     },
     "execution_count": 23,
     "metadata": {},
     "output_type": "execute_result"
    }
   ],
   "source": [
    "type(a)"
   ]
  },
  {
   "cell_type": "code",
   "execution_count": 24,
   "id": "e8e975b3-d06a-4f6c-99bd-b6b4b109624f",
   "metadata": {},
   "outputs": [],
   "source": [
    "class Bank:\n",
    "    def deposit(self):\n",
    "        print(\"I am depositing the money\")\n",
    "    def withdraw(self):\n",
    "        print(\"I am trying to withdraw money\")"
   ]
  },
  {
   "cell_type": "code",
   "execution_count": 25,
   "id": "a25ce1ea-4ea7-4dd8-bc63-ea3a98331883",
   "metadata": {},
   "outputs": [
    {
     "name": "stdout",
     "output_type": "stream",
     "text": [
      "I am depositing the money\n"
     ]
    }
   ],
   "source": [
    "b=Bank()#you can use any varible and as much as want crate a varible like b but uou need to assign the Bank() class\n",
    "                                                                       #letss see with other variable also\n",
    "b.deposit()"
   ]
  },
  {
   "cell_type": "code",
   "execution_count": 26,
   "id": "44280c8a-25d0-4b10-b6b9-008cbeea7239",
   "metadata": {},
   "outputs": [
    {
     "name": "stdout",
     "output_type": "stream",
     "text": [
      "I am trying to withdraw money\n"
     ]
    }
   ],
   "source": [
    "b.withdraw()"
   ]
  },
  {
   "cell_type": "code",
   "execution_count": 27,
   "id": "5210cc07-bf2e-4a41-8692-0c7c8d5fa1ed",
   "metadata": {},
   "outputs": [
    {
     "name": "stdout",
     "output_type": "stream",
     "text": [
      "I am depositing the money\n"
     ]
    }
   ],
   "source": [
    "c=Bank()\n",
    "c.deposit()#like this"
   ]
  },
  {
   "cell_type": "code",
   "execution_count": 28,
   "id": "b483da4e-c27d-428e-9456-2f2826925068",
   "metadata": {},
   "outputs": [],
   "source": [
    "#passing data in the class>> can also be called as property/attribute\n",
    "class Bank:\n",
    "    def deposit(self, amount):\n",
    "        print(\"I am depositing the money\")\n",
    "    def withdraw(self, amount_withdraw):\n",
    "        print(\"I am trying to withdraw money\")"
   ]
  },
  {
   "cell_type": "code",
   "execution_count": 32,
   "id": "98af66cd-7b35-473d-a7d1-156a6c413faf",
   "metadata": {},
   "outputs": [],
   "source": [
    "milan=Bank()"
   ]
  },
  {
   "cell_type": "code",
   "execution_count": 33,
   "id": "b62b5e69-bb24-4a84-8be5-5480daca8e3d",
   "metadata": {},
   "outputs": [
    {
     "ename": "TypeError",
     "evalue": "Bank.deposit() missing 1 required positional argument: 'amount'",
     "output_type": "error",
     "traceback": [
      "\u001b[0;31m---------------------------------------------------------------------------\u001b[0m",
      "\u001b[0;31mTypeError\u001b[0m                                 Traceback (most recent call last)",
      "Cell \u001b[0;32mIn[33], line 1\u001b[0m\n\u001b[0;32m----> 1\u001b[0m \u001b[43mmilan\u001b[49m\u001b[38;5;241;43m.\u001b[39;49m\u001b[43mdeposit\u001b[49m\u001b[43m(\u001b[49m\u001b[43m)\u001b[49m\n",
      "\u001b[0;31mTypeError\u001b[0m: Bank.deposit() missing 1 required positional argument: 'amount'"
     ]
    }
   ],
   "source": [
    "milan.deposit()#now you put some amaout in the bracket other wise it will give you error "
   ]
  },
  {
   "cell_type": "code",
   "execution_count": 34,
   "id": "cb0fb4fd-1bcd-429c-b13a-d9c43c404628",
   "metadata": {},
   "outputs": [
    {
     "name": "stdout",
     "output_type": "stream",
     "text": [
      "I am depositing the money\n"
     ]
    }
   ],
   "source": [
    "milan.deposit(70000)"
   ]
  },
  {
   "cell_type": "code",
   "execution_count": 35,
   "id": "93b0e094-1587-4255-993c-0132182b86cb",
   "metadata": {},
   "outputs": [
    {
     "name": "stdout",
     "output_type": "stream",
     "text": [
      "I am trying to withdraw money\n"
     ]
    }
   ],
   "source": [
    "milan.withdraw(25000)"
   ]
  },
  {
   "cell_type": "code",
   "execution_count": 36,
   "id": "7accf43d-42ed-4e4f-8414-65badf12de2a",
   "metadata": {},
   "outputs": [],
   "source": [
    "#bank will ask for a default amount, amount is attribute/property/data of class Bank\n",
    "class Bank:\n",
    "    amount = 1000\n",
    "    def deposit(self, amount):\n",
    "        print(\"I am depositing the money\")\n",
    "    def withdraw(self, amount_withdraw):\n",
    "        print(\"I am trying to withdraw money\")"
   ]
  },
  {
   "cell_type": "code",
   "execution_count": 37,
   "id": "9d77e376-76bd-4ed2-a9b0-1b8eacd78a23",
   "metadata": {},
   "outputs": [],
   "source": [
    "d=Bank()"
   ]
  },
  {
   "cell_type": "code",
   "execution_count": 40,
   "id": "e9845ee7-afa4-428a-946f-3b730f9d9bb3",
   "metadata": {},
   "outputs": [
    {
     "ename": "TypeError",
     "evalue": "'int' object is not callable",
     "output_type": "error",
     "traceback": [
      "\u001b[0;31m---------------------------------------------------------------------------\u001b[0m",
      "\u001b[0;31mTypeError\u001b[0m                                 Traceback (most recent call last)",
      "Cell \u001b[0;32mIn[40], line 1\u001b[0m\n\u001b[0;32m----> 1\u001b[0m \u001b[43md\u001b[49m\u001b[38;5;241;43m.\u001b[39;49m\u001b[43mamount\u001b[49m\u001b[43m(\u001b[49m\u001b[38;5;241;43m100\u001b[39;49m\u001b[43m)\u001b[49m\u001b[38;5;66;03m#note int object is not callable \u001b[39;00m\n",
      "\u001b[0;31mTypeError\u001b[0m: 'int' object is not callable"
     ]
    }
   ],
   "source": [
    "d.amount(100)#note int object is not callable "
   ]
  },
  {
   "cell_type": "code",
   "execution_count": 42,
   "id": "ae3ad658-fcea-479b-9367-1e1337c97736",
   "metadata": {},
   "outputs": [
    {
     "name": "stdout",
     "output_type": "stream",
     "text": [
      "I am depositing the money\n"
     ]
    }
   ],
   "source": [
    "d.deposit(100)"
   ]
  },
  {
   "cell_type": "code",
   "execution_count": 43,
   "id": "dab89bbe-9494-4287-be05-b4e3538fb2d6",
   "metadata": {},
   "outputs": [
    {
     "name": "stdout",
     "output_type": "stream",
     "text": [
      "I am trying to withdraw money\n"
     ]
    }
   ],
   "source": [
    "d.withdraw(500)"
   ]
  },
  {
   "cell_type": "code",
   "execution_count": 44,
   "id": "bf4a0f70-5e57-4c7b-866d-819d4f01cc3b",
   "metadata": {},
   "outputs": [
    {
     "data": {
      "text/plain": [
       "1000"
      ]
     },
     "execution_count": 44,
     "metadata": {},
     "output_type": "execute_result"
    }
   ],
   "source": [
    "#attributes/property can be also accessed the same way as methods/functions are accessed but do not use called [()]\n",
    "d.amount"
   ]
  },
  {
   "cell_type": "code",
   "execution_count": 139,
   "id": "a86f6f6e-5252-4040-92df-989f401cdc3f",
   "metadata": {},
   "outputs": [],
   "source": [
    "#extract odd and even nos from a list"
   ]
  },
  {
   "cell_type": "code",
   "execution_count": 112,
   "id": "2c94fd07-16ad-44f0-9209-bf3c48ae6952",
   "metadata": {},
   "outputs": [],
   "source": [
    "class ListOps:\n",
    "    l = [1, 2, 3, 4, 5]\n",
    "    def extract_even(self, l):\n",
    "        l5 = []\n",
    "        for i in l:\n",
    "            if i%2 == 0:\n",
    "                l5.append(i)\n",
    "        return l5\n",
    "    def extract_odd(self, l):\n",
    "        l5 = []\n",
    "        for i in l:\n",
    "            if i%2 != 0:\n",
    "                l5.append(i)\n",
    "        return l5"
   ]
  },
  {
   "cell_type": "code",
   "execution_count": 113,
   "id": "b00f933f-2095-4813-b846-51101b7354f4",
   "metadata": {},
   "outputs": [],
   "source": [
    "ops1 = ListOps()"
   ]
  },
  {
   "cell_type": "code",
   "execution_count": 114,
   "id": "406191f5-6751-403f-a451-95d00fbbca68",
   "metadata": {},
   "outputs": [
    {
     "data": {
      "text/plain": [
       "[1, 2, 3, 4, 5]"
      ]
     },
     "execution_count": 114,
     "metadata": {},
     "output_type": "execute_result"
    }
   ],
   "source": [
    "ops1.l"
   ]
  },
  {
   "cell_type": "code",
   "execution_count": 115,
   "id": "c20301a2-a0f9-414c-9e81-c3c1967227c4",
   "metadata": {},
   "outputs": [
    {
     "data": {
      "text/plain": [
       "[2, 4]"
      ]
     },
     "execution_count": 115,
     "metadata": {},
     "output_type": "execute_result"
    }
   ],
   "source": [
    "ops1.extract_even(ops1.l)"
   ]
  },
  {
   "cell_type": "code",
   "execution_count": 116,
   "id": "b37146ff-073d-43ab-ab48-696ceb407617",
   "metadata": {},
   "outputs": [
    {
     "data": {
      "text/plain": [
       "[5, 9]"
      ]
     },
     "execution_count": 116,
     "metadata": {},
     "output_type": "execute_result"
    }
   ],
   "source": [
    "ops1.extract_odd([2,4,5,8,9])"
   ]
  },
  {
   "cell_type": "code",
   "execution_count": 8,
   "id": "8d26e39b-048d-4e53-b250-94bc190ae816",
   "metadata": {},
   "outputs": [
    {
     "data": {
      "text/plain": [
       "[1, 2, 3, 4, 5]"
      ]
     },
     "execution_count": 8,
     "metadata": {},
     "output_type": "execute_result"
    }
   ],
   "source": [
    "#if you make any object the attribute l is fixed\n",
    "#inspite of passing a different list above you are still getting the fixed l([1, 2, 3, 4,5])\n",
    "ops1.l"
   ]
  },
  {
   "cell_type": "code",
   "execution_count": null,
   "id": "5c98bc5f-3055-4e1e-9e3a-1e525bc09c07",
   "metadata": {},
   "outputs": [],
   "source": [
    "#you want to take the attribute value of the class for each object differently"
   ]
  },
  {
   "cell_type": "code",
   "execution_count": 6,
   "id": "982e3f52-b0f1-4587-b5a8-9c8dff3013d5",
   "metadata": {},
   "outputs": [
    {
     "name": "stdout",
     "output_type": "stream",
     "text": [
      "['__abs__', '__add__', '__and__', '__bool__', '__ceil__', '__class__', '__delattr__', '__dir__', '__divmod__', '__doc__', '__eq__', '__float__', '__floor__', '__floordiv__', '__format__', '__ge__', '__getattribute__', '__getnewargs__', '__gt__', '__hash__', '__index__', '__init__', '__init_subclass__', '__int__', '__invert__', '__le__', '__lshift__', '__lt__', '__mod__', '__mul__', '__ne__', '__neg__', '__new__', '__or__', '__pos__', '__pow__', '__radd__', '__rand__', '__rdivmod__', '__reduce__', '__reduce_ex__', '__repr__', '__rfloordiv__', '__rlshift__', '__rmod__', '__rmul__', '__ror__', '__round__', '__rpow__', '__rrshift__', '__rshift__', '__rsub__', '__rtruediv__', '__rxor__', '__setattr__', '__sizeof__', '__str__', '__sub__', '__subclasshook__', '__truediv__', '__trunc__', '__xor__', 'as_integer_ratio', 'bit_count', 'bit_length', 'conjugate', 'denominator', 'from_bytes', 'imag', 'numerator', 'real', 'to_bytes']\n"
     ]
    }
   ],
   "source": [
    "print(dir(int))#all dunder methods associated with strings"
   ]
  },
  {
   "cell_type": "code",
   "execution_count": 10,
   "id": "1d166bbb-725d-4a48-be84-3ed2abc79462",
   "metadata": {},
   "outputs": [],
   "source": [
    "class ListOps:\n",
    "    def __init__(self, l): #magic method/dunder method. init means initialisation>>of variable\n",
    "        self.l = l\n",
    "        \n",
    "    def extract_even(self,l): #be careful as init has been used only pass self in the method and not the variable again\n",
    "        l = self.l\n",
    "        l1 = []\n",
    "        for i in l:\n",
    "            if i%2 == 0:\n",
    "                l1.append(i)\n",
    "        return l1\n",
    "    \n",
    "    def extract_odd(self,l):\n",
    "        l = self.l\n",
    "        l1 = []\n",
    "        for i in l:\n",
    "            if i%2 != 0:\n",
    "                l1.append(i)\n",
    "        return l1 "
   ]
  },
  {
   "cell_type": "code",
   "execution_count": 11,
   "id": "590e6220-806e-493c-9888-2ea103f3e91e",
   "metadata": {},
   "outputs": [
    {
     "ename": "TypeError",
     "evalue": "ListOps.__init__() missing 1 required positional argument: 'l'",
     "output_type": "error",
     "traceback": [
      "\u001b[0;31m---------------------------------------------------------------------------\u001b[0m",
      "\u001b[0;31mTypeError\u001b[0m                                 Traceback (most recent call last)",
      "Cell \u001b[0;32mIn[11], line 3\u001b[0m\n\u001b[1;32m      1\u001b[0m \u001b[38;5;66;03m#while making object/instance of the class, the first method that is executed is __init__\u001b[39;00m\n\u001b[1;32m      2\u001b[0m \u001b[38;5;66;03m#and init needs an arguement\u001b[39;00m\n\u001b[0;32m----> 3\u001b[0m ops1 \u001b[38;5;241m=\u001b[39m \u001b[43mListOps\u001b[49m\u001b[43m(\u001b[49m\u001b[43m)\u001b[49m\n",
      "\u001b[0;31mTypeError\u001b[0m: ListOps.__init__() missing 1 required positional argument: 'l'"
     ]
    }
   ],
   "source": [
    "#while making object/instance of the class, the first method that is executed is __init__\n",
    "#and init needs an arguement\n",
    "ops1 = ListOps()"
   ]
  },
  {
   "cell_type": "code",
   "execution_count": 12,
   "id": "903af5cb-892d-4556-b88f-dc59aba18bb2",
   "metadata": {},
   "outputs": [],
   "source": [
    "ops1 = ListOps([1,10 ,30, 31, 4, 5])\n"
   ]
  },
  {
   "cell_type": "code",
   "execution_count": 13,
   "id": "237896c9-b0d2-46f3-9e9d-6804db042e18",
   "metadata": {},
   "outputs": [
    {
     "data": {
      "text/plain": [
       "[1, 10, 30, 31, 4, 5]"
      ]
     },
     "execution_count": 13,
     "metadata": {},
     "output_type": "execute_result"
    }
   ],
   "source": [
    "ops1.l"
   ]
  },
  {
   "cell_type": "code",
   "execution_count": 14,
   "id": "20a16686-82aa-4920-90e1-04782e3c670b",
   "metadata": {},
   "outputs": [
    {
     "data": {
      "text/plain": [
       "[1, 1, 1, 30, 31, 4, 5]"
      ]
     },
     "execution_count": 14,
     "metadata": {},
     "output_type": "execute_result"
    }
   ],
   "source": [
    "ops2 = ListOps([1,1, 1 ,30, 31, 4, 5])\n",
    "ops2.l"
   ]
  },
  {
   "cell_type": "code",
   "execution_count": 22,
   "id": "b598e7cb-04b2-45ce-973c-4c1a51f24e1a",
   "metadata": {},
   "outputs": [
    {
     "data": {
      "text/plain": [
       "[10, 30, 4]"
      ]
     },
     "execution_count": 22,
     "metadata": {},
     "output_type": "execute_result"
    }
   ],
   "source": [
    "ops1.extract_even([\"ckow\"])"
   ]
  },
  {
   "cell_type": "code",
   "execution_count": 23,
   "id": "b04b6e7c-eba3-481f-858e-76802532204a",
   "metadata": {},
   "outputs": [],
   "source": [
    "#extract odd and even nos from a list\n",
    "\n",
    "class ListOps:\n",
    "    def __init__(self, l): #magic method/dunder method. init means initialisation>>of variable\n",
    "        self.l2 = l #everywhere you will be able to access l using slef.l2\n",
    "        \n",
    "    def extract_even(self): #be careful as init has been used only pass self in the method and not the variable again\n",
    "        l = self.l2\n",
    "        l1 = []\n",
    "        for i in l:\n",
    "            if i%2 == 0:\n",
    "                l1.append(i)\n",
    "        return l1\n",
    "    \n",
    "    def extract_odd(self):\n",
    "        l = self.l2\n",
    "        l1 = []\n",
    "        for i in l:\n",
    "            if i%2 != 0:\n",
    "                l1.append(i)\n",
    "        return l1 "
   ]
  },
  {
   "cell_type": "code",
   "execution_count": 24,
   "id": "02a1eaf0-d54c-49c0-922a-eb8f35c9ac5c",
   "metadata": {},
   "outputs": [
    {
     "data": {
      "text/plain": [
       "[1, 9, 11]"
      ]
     },
     "execution_count": 24,
     "metadata": {},
     "output_type": "execute_result"
    }
   ],
   "source": [
    "o1 = ListOps([1, 8, 9, 11, 12])\n",
    "o1.extract_odd()"
   ]
  },
  {
   "cell_type": "code",
   "execution_count": 9,
   "id": "e477966f-84be-4969-9149-55ef56757c20",
   "metadata": {},
   "outputs": [],
   "source": [
    "#multiple attributes\n",
    "#in a library a book is associated with author, title, name\n",
    "#every variable is fixed\n",
    "class Book:\n",
    "    def __init__(self):\n",
    "        self.name_of_book = \"DSA\"\n",
    "        self.book_author = \"Cormen\"\n",
    "        self.title_name = \"Stacks\"\n",
    "        \n",
    "    def extract_details_name_title(self):\n",
    "        print(self.name_of_book, self.title_name)\n",
    "        \n",
    "    def extract_details_name_author(self):\n",
    "        print(self.name_of_book, self.book_author)\n",
    "        \n",
    "    def extract_details_name_ar(self):\n",
    "        print(self.book_author, self.title_name)"
   ]
  },
  {
   "cell_type": "code",
   "execution_count": 10,
   "id": "6d34f77f-a5b8-4006-afd0-c1f5b43dae2b",
   "metadata": {},
   "outputs": [
    {
     "name": "stdout",
     "output_type": "stream",
     "text": [
      "DSA Cormen\n"
     ]
    }
   ],
   "source": [
    "student1 = Book()\n",
    "student1.extract_details_name_author()"
   ]
  },
  {
   "cell_type": "code",
   "execution_count": 11,
   "id": "f5fd8bf6-a63d-4ccb-bfdf-d24319b510d6",
   "metadata": {},
   "outputs": [
    {
     "name": "stdout",
     "output_type": "stream",
     "text": [
      "DSA Stacks\n"
     ]
    }
   ],
   "source": [
    "student1.extract_details_name_title()"
   ]
  },
  {
   "cell_type": "code",
   "execution_count": 12,
   "id": "8e31bb1d-817a-44f9-965c-8ed5a6da33e9",
   "metadata": {},
   "outputs": [
    {
     "name": "stdout",
     "output_type": "stream",
     "text": [
      "Cormen Stacks\n"
     ]
    }
   ],
   "source": [
    "student1.extract_details_name_ar()"
   ]
  },
  {
   "cell_type": "code",
   "execution_count": 40,
   "id": "6952bfc5-e340-46f5-a091-4c14b785109d",
   "metadata": {},
   "outputs": [],
   "source": [
    "#inheritance>> refers to process of child class receiving the properties of parent class\n",
    "#syntax\n",
    "# class BaseClass:\n",
    "#     #body of base class\n",
    "# class DerivedClass(BaseClass):\n",
    "#     #body of derived class"
   ]
  },
  {
   "cell_type": "markdown",
   "id": "ce5cb7a8-55e3-4314-a645-89da724695ac",
   "metadata": {},
   "source": [
    "In Python, inheritance is a mechanism that allows you to create a new class (called a child class or derived class) that inherits the attributes and methods of an existing class (called a parent class or base class). This promotes code reusability and helps to establish relationships between classes. \n",
    "\n",
    "\n",
    "Key points:\n",
    "Parent class: The class that provides the attributes and methods to be inherited.\n",
    "Child class: The class that inherits attributes and methods from the parent class. \n",
    "Code reusability: Child classes can use the code defined in the parent class, avoiding duplication.\n",
    "Extensibility: Child classes can add new"
   ]
  },
  {
   "cell_type": "code",
   "execution_count": 17,
   "id": "9a85fb70-03d6-41b7-943a-439d7ba0e319",
   "metadata": {},
   "outputs": [],
   "source": [
    "#single inheritance >> when a derived class has only one parent class"
   ]
  },
  {
   "attachments": {
    "45b2d4f6-3d46-4d0a-8da3-4e979b8d311e.png": {
     "image/png": "[encoded data removed]"
    }
   },
   "cell_type": "markdown",
   "id": "9cb21ee0-4395-43a7-9cb1-ef2a921f5599",
   "metadata": {},
   "source": [
    "![image.png](attachment:45b2d4f6-3d46-4d0a-8da3-4e979b8d311e.png)"
   ]
  },
  {
   "cell_type": "code",
   "execution_count": 19,
   "id": "073e1cb4-1b2d-4be2-b58c-53045af152dd",
   "metadata": {},
   "outputs": [],
   "source": [
    "#example\n",
    "class Father:\n",
    "    def father_property(self):\n",
    "        print(\"This is the father property\")"
   ]
  },
  {
   "cell_type": "code",
   "execution_count": 20,
   "id": "2a598472-6a6c-454b-aa43-08c256fec692",
   "metadata": {},
   "outputs": [],
   "source": [
    "class Son(Father):\n",
    "    def job(self):\n",
    "        print(\"Son has property from job\")"
   ]
  },
  {
   "cell_type": "code",
   "execution_count": 22,
   "id": "0638fd41-44c3-4d55-8ea7-e04adfbf8d7b",
   "metadata": {},
   "outputs": [],
   "source": [
    "ak = Son()"
   ]
  },
  {
   "cell_type": "code",
   "execution_count": 26,
   "id": "b8261784-dca6-4945-a4cc-c57b259189e8",
   "metadata": {},
   "outputs": [
    {
     "data": {
      "text/plain": [
       "__main__.Son"
      ]
     },
     "execution_count": 26,
     "metadata": {},
     "output_type": "execute_result"
    }
   ],
   "source": [
    "type(ak)"
   ]
  },
  {
   "cell_type": "code",
   "execution_count": 27,
   "id": "046642dd-b00d-4c36-ad1e-9b4d93dffb41",
   "metadata": {},
   "outputs": [
    {
     "name": "stdout",
     "output_type": "stream",
     "text": [
      "This is the father property\n"
     ]
    }
   ],
   "source": [
    "ak.father_property()"
   ]
  },
  {
   "cell_type": "code",
   "execution_count": 28,
   "id": "978f73a2-5f8c-4c4c-b3c0-2415d3cbbc9b",
   "metadata": {},
   "outputs": [
    {
     "name": "stdout",
     "output_type": "stream",
     "text": [
      "Son has property from job\n"
     ]
    }
   ],
   "source": [
    "ak.job()"
   ]
  },
  {
   "cell_type": "code",
   "execution_count": 29,
   "id": "6087515f-c22c-454d-a952-43f15ad438ec",
   "metadata": {},
   "outputs": [],
   "source": [
    "kj=Father()"
   ]
  },
  {
   "cell_type": "code",
   "execution_count": 30,
   "id": "ee35c8af-d7fb-48de-a891-ca24d537fbb0",
   "metadata": {},
   "outputs": [
    {
     "name": "stdout",
     "output_type": "stream",
     "text": [
      "This is the father property\n"
     ]
    }
   ],
   "source": [
    "kj.father_property()"
   ]
  },
  {
   "cell_type": "code",
   "execution_count": 31,
   "id": "3918b1e7-3970-4a26-bc46-41d9c61aaa93",
   "metadata": {},
   "outputs": [
    {
     "ename": "AttributeError",
     "evalue": "'Father' object has no attribute 'job'",
     "output_type": "error",
     "traceback": [
      "\u001b[0;31m---------------------------------------------------------------------------\u001b[0m",
      "\u001b[0;31mAttributeError\u001b[0m                            Traceback (most recent call last)",
      "Cell \u001b[0;32mIn[31], line 1\u001b[0m\n\u001b[0;32m----> 1\u001b[0m \u001b[43mkj\u001b[49m\u001b[38;5;241;43m.\u001b[39;49m\u001b[43mjob\u001b[49m()\n",
      "\u001b[0;31mAttributeError\u001b[0m: 'Father' object has no attribute 'job'"
     ]
    }
   ],
   "source": [
    "kj.job()"
   ]
  },
  {
   "cell_type": "code",
   "execution_count": 32,
   "id": "9082a27e-089b-44df-ac2a-231c5fc48b6e",
   "metadata": {},
   "outputs": [],
   "source": [
    "#parent class will not have access to the property(method/attribute) of child class but child class will have access to both"
   ]
  },
  {
   "cell_type": "code",
   "execution_count": 33,
   "id": "3e79e5af-e095-4a24-8b6c-c8029f014808",
   "metadata": {},
   "outputs": [],
   "source": [
    "#use case\n",
    "class Fruit:\n",
    "    def fruit_info(self):\n",
    "        print(\"Inside Parent class\")\n",
    "class Apple(Fruit):\n",
    "    def apple_info(self):\n",
    "        print(\"Inside the child class\")"
   ]
  },
  {
   "cell_type": "code",
   "execution_count": 34,
   "id": "8c07c04c-7015-4f23-abb7-dfe6b8086146",
   "metadata": {},
   "outputs": [],
   "source": [
    "ck=Fruit()"
   ]
  },
  {
   "cell_type": "code",
   "execution_count": 35,
   "id": "f34317b1-cf75-45c2-9450-5b74029fc4d6",
   "metadata": {},
   "outputs": [
    {
     "name": "stdout",
     "output_type": "stream",
     "text": [
      "Inside Parent class\n"
     ]
    }
   ],
   "source": [
    "ck.fruit_info()"
   ]
  },
  {
   "cell_type": "code",
   "execution_count": 36,
   "id": "837e53c6-76d5-4cc2-a43a-e67ae87a8ed4",
   "metadata": {},
   "outputs": [],
   "source": [
    "lk=Apple()"
   ]
  },
  {
   "cell_type": "code",
   "execution_count": 37,
   "id": "d8271de9-df11-4af6-9b97-37d0e86d42de",
   "metadata": {},
   "outputs": [
    {
     "name": "stdout",
     "output_type": "stream",
     "text": [
      "Inside the child class\n"
     ]
    }
   ],
   "source": [
    "lk.apple_info()"
   ]
  },
  {
   "cell_type": "code",
   "execution_count": 38,
   "id": "e5e019be-9302-48a8-9daa-d1945872f7e4",
   "metadata": {},
   "outputs": [
    {
     "name": "stdout",
     "output_type": "stream",
     "text": [
      "Inside Parent class\n"
     ]
    }
   ],
   "source": [
    "lk.fruit_info()"
   ]
  },
  {
   "cell_type": "code",
   "execution_count": 39,
   "id": "7010d154-7374-4830-acc7-9fa875f465ea",
   "metadata": {},
   "outputs": [],
   "source": [
    "#method overriding >> re-writing/re-defining methods of parent class in derived/child class\n",
    "class Fruit:\n",
    "    def fruit_info(self):\n",
    "        print(\"Inside Parent class\")\n",
    "class Apple(Fruit):\n",
    "    def fruit_info(self):\n",
    "        print(\"Inside the child class (fruit info)\")\n",
    "    def apple_info(self):\n",
    "        print(\"Inside the child class\")\n",
    "        \n",
    "#method overriding>> child class is very powerfull\n",
    "#method overriding happend between two class"
   ]
  },
  {
   "cell_type": "code",
   "execution_count": 41,
   "id": "dfb74aaf-eef2-4b68-bc57-e1a590bc9037",
   "metadata": {},
   "outputs": [],
   "source": [
    "deo=Apple()"
   ]
  },
  {
   "cell_type": "code",
   "execution_count": 42,
   "id": "9bb392e5-3549-424e-a572-2f001b3c94c3",
   "metadata": {},
   "outputs": [
    {
     "name": "stdout",
     "output_type": "stream",
     "text": [
      "Inside the child class (fruit info)\n"
     ]
    }
   ],
   "source": [
    "deo.fruit_info()"
   ]
  },
  {
   "cell_type": "code",
   "execution_count": 43,
   "id": "2fd552e2-87e5-4720-b0c4-8c9581d57d9e",
   "metadata": {},
   "outputs": [],
   "source": [
    "jwc=Fruit()"
   ]
  },
  {
   "cell_type": "code",
   "execution_count": 44,
   "id": "5693fab2-2030-437d-844c-5a6995fb8df7",
   "metadata": {},
   "outputs": [
    {
     "name": "stdout",
     "output_type": "stream",
     "text": [
      "Inside Parent class\n"
     ]
    }
   ],
   "source": [
    "jwc.fruit_info()"
   ]
  },
  {
   "cell_type": "code",
   "execution_count": 45,
   "id": "dde5b3c5-fc10-4ae5-aa0b-e673f31a9498",
   "metadata": {},
   "outputs": [],
   "source": [
    "#mult-level inheritance"
   ]
  },
  {
   "attachments": {
    "17f9c1f1-5631-4fa4-b6a1-73a9597e2f02.png": {
     "image/png": "[encoded data removed]"
    }
   },
   "cell_type": "markdown",
   "id": "c3565603-206b-42bd-8121-6e594694c5c6",
   "metadata": {},
   "source": [
    "![image.png](attachment:17f9c1f1-5631-4fa4-b6a1-73a9597e2f02.png)!"
   ]
  },
  {
   "cell_type": "code",
   "execution_count": 46,
   "id": "93fcab7b-727a-4233-97ec-e6cfea390675",
   "metadata": {},
   "outputs": [],
   "source": [
    "class GrandFather:\n",
    "    def prop_grand_father(self):\n",
    "        print(\"I am your grand father, this is my property\")\n",
    "class Father(GrandFather):\n",
    "    def prop_father(self):\n",
    "        print(\"I am your father, I am having my and your grandfather's property\")\n",
    "class Son(Father):\n",
    "    def prop_son(self):\n",
    "        print(\"I am the King. I am having all the properties\")"
   ]
  },
  {
   "cell_type": "code",
   "execution_count": 48,
   "id": "51f71497-2478-47c9-bd46-fa764daaf462",
   "metadata": {},
   "outputs": [],
   "source": [
    "jv=GrandFather()"
   ]
  },
  {
   "cell_type": "code",
   "execution_count": 49,
   "id": "c5b06aee-df29-45d2-94a3-9c172cf6ea28",
   "metadata": {},
   "outputs": [],
   "source": [
    "CD=Father()"
   ]
  },
  {
   "cell_type": "code",
   "execution_count": 50,
   "id": "483b7617-91cc-45a5-946e-1d208c6d3b87",
   "metadata": {},
   "outputs": [],
   "source": [
    "mk=Son()"
   ]
  },
  {
   "cell_type": "code",
   "execution_count": 51,
   "id": "50a7f3e3-9a61-4b50-900a-a370f03c224c",
   "metadata": {},
   "outputs": [
    {
     "name": "stdout",
     "output_type": "stream",
     "text": [
      "I am your grand father, this is my property\n"
     ]
    }
   ],
   "source": [
    "jv.prop_grand_father()"
   ]
  },
  {
   "cell_type": "code",
   "execution_count": 52,
   "id": "5ae6a374-0a83-45a4-840a-91ffdb506ef3",
   "metadata": {},
   "outputs": [
    {
     "name": "stdout",
     "output_type": "stream",
     "text": [
      "I am your father, I am having my and your grandfather's property\n"
     ]
    }
   ],
   "source": [
    "CD.prop_father()"
   ]
  },
  {
   "cell_type": "code",
   "execution_count": 53,
   "id": "0da9d544-2cff-4cfe-968a-d5d992e70691",
   "metadata": {},
   "outputs": [
    {
     "name": "stdout",
     "output_type": "stream",
     "text": [
      "I am your grand father, this is my property\n"
     ]
    }
   ],
   "source": [
    "CD.prop_grand_father()"
   ]
  },
  {
   "cell_type": "code",
   "execution_count": 54,
   "id": "e7898d6b-e773-4673-9a77-6b66b0b03e80",
   "metadata": {},
   "outputs": [
    {
     "name": "stdout",
     "output_type": "stream",
     "text": [
      "I am your father, I am having my and your grandfather's property\n"
     ]
    }
   ],
   "source": [
    "mk.prop_father()\n"
   ]
  },
  {
   "cell_type": "code",
   "execution_count": 55,
   "id": "96d94fdd-4a30-4b43-be0f-47f69ba736ce",
   "metadata": {},
   "outputs": [
    {
     "name": "stdout",
     "output_type": "stream",
     "text": [
      "I am your grand father, this is my property\n"
     ]
    }
   ],
   "source": [
    "mk.prop_grand_father()\n"
   ]
  },
  {
   "cell_type": "code",
   "execution_count": 56,
   "id": "7fb2c938-7b24-432e-aa83-0cbd537b48ed",
   "metadata": {},
   "outputs": [
    {
     "name": "stdout",
     "output_type": "stream",
     "text": [
      "I am the King. I am having all the properties\n"
     ]
    }
   ],
   "source": [
    "mk.prop_son()"
   ]
  },
  {
   "cell_type": "code",
   "execution_count": 57,
   "id": "23748aab-12a9-472b-874c-6a121094a08a",
   "metadata": {},
   "outputs": [],
   "source": [
    "#use case \n",
    "class Vehicle:\n",
    "    def vehicle_info(self):\n",
    "        print(\"Inside vehicle class\")\n",
    "class Car(Vehicle):\n",
    "    def car_info(self):\n",
    "        print(\"Inside the car class\")\n",
    "class SportsCar(Car):\n",
    "    def sports_car_info(self):\n",
    "        print(\"Inside sports car\")"
   ]
  },
  {
   "cell_type": "code",
   "execution_count": 58,
   "id": "ed274b3a-2831-47b1-99b0-d02fd95299cd",
   "metadata": {},
   "outputs": [],
   "source": [
    "ni=Vehicle()"
   ]
  },
  {
   "cell_type": "code",
   "execution_count": 59,
   "id": "d463a74b-2fe5-4b40-850b-90343b8852a2",
   "metadata": {},
   "outputs": [],
   "source": [
    "ce=Car()"
   ]
  },
  {
   "cell_type": "code",
   "execution_count": 61,
   "id": "6f42f1c1-81c1-4120-a684-1660c9f22ad2",
   "metadata": {},
   "outputs": [],
   "source": [
    "cw=SportsCar()"
   ]
  },
  {
   "cell_type": "code",
   "execution_count": 62,
   "id": "2c36e55b-cb50-4d29-b4d8-b599395f2bb0",
   "metadata": {},
   "outputs": [
    {
     "name": "stdout",
     "output_type": "stream",
     "text": [
      "Inside vehicle class\n"
     ]
    }
   ],
   "source": [
    "ni.vehicle_info()"
   ]
  },
  {
   "cell_type": "code",
   "execution_count": 63,
   "id": "1c669b56-e55d-4516-b803-e7d88a10f9ce",
   "metadata": {},
   "outputs": [
    {
     "name": "stdout",
     "output_type": "stream",
     "text": [
      "Inside the car class\n"
     ]
    }
   ],
   "source": [
    "ce.car_info()"
   ]
  },
  {
   "cell_type": "code",
   "execution_count": 68,
   "id": "1ad55b33-ca51-4dca-861c-936818b09e3b",
   "metadata": {},
   "outputs": [
    {
     "name": "stdout",
     "output_type": "stream",
     "text": [
      "Inside vehicle class\n"
     ]
    }
   ],
   "source": [
    "ce.vehicle_info()"
   ]
  },
  {
   "cell_type": "code",
   "execution_count": 69,
   "id": "e1854d27-d211-4a41-b70e-381e122de467",
   "metadata": {},
   "outputs": [
    {
     "name": "stdout",
     "output_type": "stream",
     "text": [
      "Inside the car class\n"
     ]
    }
   ],
   "source": [
    "cw.car_info()"
   ]
  },
  {
   "cell_type": "code",
   "execution_count": 70,
   "id": "557e4e76-693c-4ae6-a3bc-2de721b938d6",
   "metadata": {},
   "outputs": [
    {
     "name": "stdout",
     "output_type": "stream",
     "text": [
      "Inside sports car\n"
     ]
    }
   ],
   "source": [
    "cw.sports_car_info()"
   ]
  },
  {
   "cell_type": "code",
   "execution_count": 71,
   "id": "8a1bc9bc-88af-4800-b3ef-33d42322538d",
   "metadata": {},
   "outputs": [
    {
     "name": "stdout",
     "output_type": "stream",
     "text": [
      "Inside vehicle class\n"
     ]
    }
   ],
   "source": [
    "cw.vehicle_info()"
   ]
  },
  {
   "cell_type": "code",
   "execution_count": 72,
   "id": "2589d31a-f17e-4f03-94c1-55bcea6e39c5",
   "metadata": {},
   "outputs": [],
   "source": [
    "class ParentClass1:\n",
    "    def method1(self):\n",
    "        print(\"method 1 of parent class 1\")\n",
    "class ParentClass2:\n",
    "    def method2(self):\n",
    "        print(\"method2 of parent class 2\")"
   ]
  },
  {
   "cell_type": "code",
   "execution_count": 73,
   "id": "d1fda5aa-f46b-4564-b01c-c859d678559b",
   "metadata": {},
   "outputs": [],
   "source": [
    "class ChildClass(ParentClass1, ParentClass2):\n",
    "    def method(self):\n",
    "        print(\"method of child class\")"
   ]
  },
  {
   "cell_type": "code",
   "execution_count": 74,
   "id": "21687149-17a5-4815-9b8b-e0b297953800",
   "metadata": {},
   "outputs": [],
   "source": [
    "cde=ChildClass()"
   ]
  },
  {
   "cell_type": "code",
   "execution_count": 75,
   "id": "9775adb3-bffd-4b60-a31b-1c60d14ee97b",
   "metadata": {},
   "outputs": [
    {
     "name": "stdout",
     "output_type": "stream",
     "text": [
      "method of child class\n"
     ]
    }
   ],
   "source": [
    "cde.method()"
   ]
  },
  {
   "cell_type": "code",
   "execution_count": 76,
   "id": "cf4772b0-a1c8-469a-878c-caee1b865ce2",
   "metadata": {},
   "outputs": [
    {
     "name": "stdout",
     "output_type": "stream",
     "text": [
      "method 1 of parent class 1\n"
     ]
    }
   ],
   "source": [
    "cde.method1()"
   ]
  },
  {
   "cell_type": "code",
   "execution_count": 77,
   "id": "cebfdf92-e1a9-476f-a5a9-035565207ec2",
   "metadata": {},
   "outputs": [],
   "source": [
    "#diamond problem>> it occurs when a class inherits from 2 or more than 2 class>> will lead to ambiguity in execution of methods\n",
    "#To remove diamond problem>> python uses method resolution order(MRO) algorithm called c3 linearization\n",
    "#meaning that the class that is inherited first in the derived class, that method will be called>>in this case method 1\n",
    "\n",
    "class ParentClass1:\n",
    "    def method_par(self):\n",
    "        print(\"method 1 of parent class 1\")\n",
    "class ParentClass2:\n",
    "    def method_par(self):\n",
    "        print(\"method2 of parent class 2\")\n",
    "class ChildClass(ParentClass1, ParentClass2):\n",
    "    def method(self):\n",
    "        print(\"method of child class\")"
   ]
  },
  {
   "cell_type": "code",
   "execution_count": 78,
   "id": "55c9c94f-43f2-4a59-a19f-a2aafd2b2c39",
   "metadata": {},
   "outputs": [],
   "source": [
    "cwe=ChildClass()"
   ]
  },
  {
   "cell_type": "code",
   "execution_count": 79,
   "id": "61cba61e-af0c-4370-be88-aa8ff2bc88aa",
   "metadata": {},
   "outputs": [
    {
     "name": "stdout",
     "output_type": "stream",
     "text": [
      "method 1 of parent class 1\n"
     ]
    }
   ],
   "source": [
    "cwe.method_par()"
   ]
  },
  {
   "cell_type": "code",
   "execution_count": 80,
   "id": "3786b066-bb7c-450d-bbcd-1c4198e1ee10",
   "metadata": {},
   "outputs": [],
   "source": [
    "#diamond problem\n",
    "class A:\n",
    "    def method(self):\n",
    "        print(\"Method of class A\")\n",
    "class B(A):\n",
    "    def method(self):\n",
    "        print(\"Method of class B\")\n",
    "class C(A):\n",
    "    def method(self):\n",
    "        print(\"Method of class C\")\n",
    "class D(B, C):\n",
    "    pass"
   ]
  },
  {
   "cell_type": "code",
   "execution_count": 81,
   "id": "ce9ae620-f758-400d-b052-4b3da2840ca9",
   "metadata": {},
   "outputs": [],
   "source": [
    "vsd=D()"
   ]
  },
  {
   "cell_type": "code",
   "execution_count": 82,
   "id": "c448f16d-1b81-4bc9-8c9b-2f9e01a853ee",
   "metadata": {},
   "outputs": [
    {
     "name": "stdout",
     "output_type": "stream",
     "text": [
      "Method of class B\n"
     ]
    }
   ],
   "source": [
    "vsd.method()"
   ]
  },
  {
   "cell_type": "code",
   "execution_count": 83,
   "id": "b1028997-99ee-4835-ad80-e2d3e24aa386",
   "metadata": {},
   "outputs": [],
   "source": [
    "#hierarchical inheritance >>one parent class>>multiple(more than two childclass)"
   ]
  },
  {
   "attachments": {
    "06c6e754-372c-4cbc-9706-15360a060b04.png": {
     "image/png": "[encoded data removed]"
    }
   },
   "cell_type": "markdown",
   "id": "1abf3861-9ff7-474d-a561-02b72e297514",
   "metadata": {},
   "source": [
    "![image.png](attachment:06c6e754-372c-4cbc-9706-15360a060b04.png)"
   ]
  },
  {
   "cell_type": "code",
   "execution_count": 98,
   "id": "c72f2cf8-ad28-4e3f-a9d0-2c2638dd5dd5",
   "metadata": {},
   "outputs": [],
   "source": [
    "class Vehicle:\n",
    "    def info(self):\n",
    "        print(\"This is vehicle\")\n",
    "class Car(Vehicle):\n",
    "    def car_info(self, name):\n",
    "        print(\"This is car info\", name)\n",
    "class Truck(Vehicle):\n",
    "    def truck_info(self, name):\n",
    "        print(\"Truck info\", name)"
   ]
  },
  {
   "cell_type": "code",
   "execution_count": 99,
   "id": "1b929e41-6b97-44fe-a35b-9a1fb23bf216",
   "metadata": {},
   "outputs": [],
   "source": [
    "vs=Truck()"
   ]
  },
  {
   "cell_type": "code",
   "execution_count": 100,
   "id": "61b6de15-1ca1-4a54-8c37-ed7f2a11dd0d",
   "metadata": {},
   "outputs": [
    {
     "name": "stdout",
     "output_type": "stream",
     "text": [
      "This is vehicle\n"
     ]
    }
   ],
   "source": [
    "vs.info()"
   ]
  },
  {
   "cell_type": "code",
   "execution_count": 101,
   "id": "9c845e69-6ac5-44b6-9df2-af255c3e1a79",
   "metadata": {},
   "outputs": [
    {
     "name": "stdout",
     "output_type": "stream",
     "text": [
      "Truck info eaicher\n"
     ]
    }
   ],
   "source": [
    "vs.truck_info(\"eaicher\")"
   ]
  },
  {
   "cell_type": "code",
   "execution_count": 103,
   "id": "9ae87763-adb2-44ec-934d-3696cb2b6f87",
   "metadata": {},
   "outputs": [],
   "source": [
    "#hybrid inheritance>> multiple types or combination of different inheritance"
   ]
  },
  {
   "attachments": {
    "67d595d9-7b22-426b-811e-09f9370d4952.png": {
     "image/png": "[encoded data removed]"
    }
   },
   "cell_type": "markdown",
   "id": "c91dae93-cea5-4aff-ae2f-ac8a85238d25",
   "metadata": {},
   "source": [
    "![image.png](attachment:67d595d9-7b22-426b-811e-09f9370d4952.png)!"
   ]
  },
  {
   "cell_type": "code",
   "execution_count": 104,
   "id": "2d54c551-b076-4cf0-9107-55ef8083e0e8",
   "metadata": {},
   "outputs": [],
   "source": [
    "class Vehicle:\n",
    "    def vehicle_info(self):\n",
    "        print(\"Inside the vehicle class\")\n",
    "        \n",
    "class Car(Vehicle):\n",
    "    def car_info(self):\n",
    "        print(\"Inside the car class\")\n",
    "        \n",
    "class Truck(Vehicle):\n",
    "    def truck_info(self, name):\n",
    "        print(\"Inside truck info\", name)\n",
    "        \n",
    "class SportsCar(Car, Vehicle):\n",
    "    def sports_info(self):\n",
    "        print(\"Inside sports car class\")"
   ]
  },
  {
   "cell_type": "code",
   "execution_count": 105,
   "id": "1dde734c-28e9-4c16-84e7-9c2284056667",
   "metadata": {},
   "outputs": [],
   "source": [
    "cds=SportsCar()"
   ]
  },
  {
   "cell_type": "code",
   "execution_count": 106,
   "id": "983b7159-fb2e-4f27-b7c7-281747e521d4",
   "metadata": {},
   "outputs": [
    {
     "name": "stdout",
     "output_type": "stream",
     "text": [
      "Inside the car class\n"
     ]
    }
   ],
   "source": [
    "cds.car_info()"
   ]
  },
  {
   "cell_type": "code",
   "execution_count": 107,
   "id": "a3b557de-430e-4899-b652-185cd9cfc0f0",
   "metadata": {},
   "outputs": [
    {
     "name": "stdout",
     "output_type": "stream",
     "text": [
      "Inside sports car class\n"
     ]
    }
   ],
   "source": [
    "cds.sports_info()"
   ]
  },
  {
   "cell_type": "code",
   "execution_count": 108,
   "id": "eeb1b488-a5a3-4a02-8491-b3cdb33f0b7f",
   "metadata": {},
   "outputs": [
    {
     "name": "stdout",
     "output_type": "stream",
     "text": [
      "Inside the vehicle class\n"
     ]
    }
   ],
   "source": [
    "cds.vehicle_info()"
   ]
  },
  {
   "cell_type": "code",
   "execution_count": 109,
   "id": "16984693-789a-44ed-82dd-88bf5d9660b7",
   "metadata": {},
   "outputs": [],
   "source": [
    "#Abstraction>>concept of hiding complex implementation\n",
    "#hiding unneeded details and exposing the required\n",
    "#abstract class can not be instantiated(can not make object) \n",
    "#abstract class should always be subclassed\n",
    "#abstract class  may contain methods that are just declared and not implemented in abstract class itself, subclass are responsible for implementing these abstract methods\n",
    "#if in inherited class a method is not present from abstract class it will not throw error"
   ]
  },
  {
   "cell_type": "code",
   "execution_count": 110,
   "id": "ec0353fb-b960-406d-8195-31d6bc46fd89",
   "metadata": {},
   "outputs": [],
   "source": [
    "#example>> if you use an pwskills to attend class. do you see the backedn code or just an interface to attend the class\n",
    "#you just interface"
   ]
  },
  {
   "cell_type": "code",
   "execution_count": 4,
   "id": "264deadd-497e-4202-ac52-78963c620116",
   "metadata": {},
   "outputs": [],
   "source": [
    "import abc #collection of multiple functions is a module"
   ]
  },
  {
   "cell_type": "code",
   "execution_count": 5,
   "id": "26d03b62-19e1-4f89-89ca-dca41c8e16b0",
   "metadata": {},
   "outputs": [],
   "source": [
    "class PwSkills:\n",
    "    \n",
    "    @abc.abstractmethod\n",
    "    def student_details(self):\n",
    "        pass\n",
    "    \n",
    "    @abc.abstractmethod\n",
    "    def student_assignment(self):\n",
    "        pass\n",
    "    \n",
    "    @abc.abstractmethod\n",
    "    def student_marks(self):\n",
    "        pass"
   ]
  },
  {
   "cell_type": "code",
   "execution_count": 6,
   "id": "ea7fae68-eccc-4da8-b7b5-7a1c9f7181c3",
   "metadata": {},
   "outputs": [],
   "source": [
    "class DataScience(PwSkills):\n",
    "    def student_details(self):\n",
    "        return \"Data Science course details\"\n",
    "    def student_marks(self):\n",
    "        return \"give ds students marks\""
   ]
  },
  {
   "cell_type": "code",
   "execution_count": 7,
   "id": "7556de8d-ce80-42d7-bb21-59d178cca4a2",
   "metadata": {},
   "outputs": [],
   "source": [
    "class WebDev(PwSkills):\n",
    "    def student_assignment(self):\n",
    "        return \"This will give web dev student assignment\"\n",
    "    def student_marks(self):\n",
    "        return \"webdev student marks\""
   ]
  },
  {
   "cell_type": "code",
   "execution_count": 8,
   "id": "87901bc0-e043-4f1b-9c64-d28b67be6354",
   "metadata": {},
   "outputs": [],
   "source": [
    "ds=DataScience()"
   ]
  },
  {
   "cell_type": "code",
   "execution_count": 9,
   "id": "064026ae-5f1e-4104-aece-a73ebcf4b0ee",
   "metadata": {},
   "outputs": [],
   "source": [
    "ds.student_assignment()#it will not throw any error even if any method is not define"
   ]
  },
  {
   "cell_type": "code",
   "execution_count": 10,
   "id": "6bbf1ca7-dd69-4b12-973b-2bd605d9c38c",
   "metadata": {},
   "outputs": [
    {
     "data": {
      "text/plain": [
       "'Data Science course details'"
      ]
     },
     "execution_count": 10,
     "metadata": {},
     "output_type": "execute_result"
    }
   ],
   "source": [
    "ds.student_details()"
   ]
  },
  {
   "cell_type": "code",
   "execution_count": 11,
   "id": "92b5c5d1-c4ee-4980-bf19-47f229476b74",
   "metadata": {},
   "outputs": [
    {
     "data": {
      "text/plain": [
       "'give ds students marks'"
      ]
     },
     "execution_count": 11,
     "metadata": {},
     "output_type": "execute_result"
    }
   ],
   "source": [
    "ds.student_marks()"
   ]
  },
  {
   "cell_type": "code",
   "execution_count": 12,
   "id": "106e4378-6ade-4706-9c4d-fbbd7958a41a",
   "metadata": {},
   "outputs": [],
   "source": [
    "re=WebDev()"
   ]
  },
  {
   "cell_type": "code",
   "execution_count": 13,
   "id": "52c47249-9d40-4a02-90e2-bbfdbb72eef2",
   "metadata": {},
   "outputs": [
    {
     "data": {
      "text/plain": [
       "'This will give web dev student assignment'"
      ]
     },
     "execution_count": 13,
     "metadata": {},
     "output_type": "execute_result"
    }
   ],
   "source": [
    "re.student_assignment()"
   ]
  },
  {
   "cell_type": "code",
   "execution_count": 15,
   "id": "7c8b88ff-90ec-409f-a647-adeee33c8f90",
   "metadata": {},
   "outputs": [],
   "source": [
    "#use case\n",
    "class Shape:\n",
    "    \n",
    "    @abc.abstractmethod\n",
    "    def calculate_area(self):\n",
    "        pass\n",
    "class Rectangle(Shape):\n",
    "    def calculate_area(self):\n",
    "        return \"Area of rectange is len*breadth\"\n",
    "class Circle(Shape):\n",
    "    def calculate_area(self):\n",
    "        return \"area of circle is pi r **2\""
   ]
  },
  {
   "cell_type": "code",
   "execution_count": 16,
   "id": "67ac5fcf-49dc-4c33-9b6e-c609235f99f7",
   "metadata": {},
   "outputs": [],
   "source": [
    "dwa=Rectangle()"
   ]
  },
  {
   "cell_type": "code",
   "execution_count": 17,
   "id": "1117259a-96d0-4f27-87a5-5b409f68b427",
   "metadata": {},
   "outputs": [
    {
     "data": {
      "text/plain": [
       "'Area of rectange is len*breadth'"
      ]
     },
     "execution_count": 17,
     "metadata": {},
     "output_type": "execute_result"
    }
   ],
   "source": [
    "dwa.calculate_area()"
   ]
  },
  {
   "cell_type": "code",
   "execution_count": 18,
   "id": "dc0e5ee5-0fa7-4223-97a9-772e30459850",
   "metadata": {},
   "outputs": [],
   "source": [
    "vws=Circle()"
   ]
  },
  {
   "cell_type": "code",
   "execution_count": 19,
   "id": "63d693eb-95d9-4589-b87b-f99d5e1fdbbe",
   "metadata": {},
   "outputs": [
    {
     "data": {
      "text/plain": [
       "'area of circle is pi r **2'"
      ]
     },
     "execution_count": 19,
     "metadata": {},
     "output_type": "execute_result"
    }
   ],
   "source": [
    "vws.calculate_area()"
   ]
  },
  {
   "cell_type": "markdown",
   "id": "ba670e74-ab0b-442c-b6cb-d26ce4c2f400",
   "metadata": {},
   "source": [
    "# : Polymorphism and encapsulation"
   ]
  },
  {
   "cell_type": "code",
   "execution_count": 20,
   "id": "dc172048-c6bc-4a53-8ca6-ffcf96125084",
   "metadata": {},
   "outputs": [],
   "source": [
    "#polymorphism >> poly means many and morphism means forms/states\n",
    "#refers to an object taking several forms depending on the methods/data"
   ]
  },
  {
   "cell_type": "code",
   "execution_count": 21,
   "id": "c4f558c7-74b4-43a4-858c-0c638f8afb04",
   "metadata": {},
   "outputs": [],
   "source": [
    "def func(a,b):\n",
    "    return a+b"
   ]
  },
  {
   "cell_type": "code",
   "execution_count": 22,
   "id": "8c87c53a-9bf0-41eb-94ee-c125a0321935",
   "metadata": {},
   "outputs": [
    {
     "data": {
      "text/plain": [
       "5"
      ]
     },
     "execution_count": 22,
     "metadata": {},
     "output_type": "execute_result"
    }
   ],
   "source": [
    "func(2,3)"
   ]
  },
  {
   "cell_type": "code",
   "execution_count": 23,
   "id": "9afbbd31-24a2-4342-8bb7-e5784fcd7612",
   "metadata": {},
   "outputs": [
    {
     "data": {
      "text/plain": [
       "'ncoocij'"
      ]
     },
     "execution_count": 23,
     "metadata": {},
     "output_type": "execute_result"
    }
   ],
   "source": [
    "func(\"nco\",\"ocij\")"
   ]
  },
  {
   "cell_type": "code",
   "execution_count": 24,
   "id": "093896b6-14df-4736-82b4-31d138d936ff",
   "metadata": {},
   "outputs": [
    {
     "data": {
      "text/plain": [
       "(1, 2, 3, 4, 5, 6)"
      ]
     },
     "execution_count": 24,
     "metadata": {},
     "output_type": "execute_result"
    }
   ],
   "source": [
    "func((1,2,3),(4,5,6))"
   ]
  },
  {
   "cell_type": "code",
   "execution_count": 25,
   "id": "ab907133-e2db-45bc-a0ed-0507c975e7dc",
   "metadata": {},
   "outputs": [],
   "source": [
    "#observation>> func is taking different forms with respect to different data passed"
   ]
  },
  {
   "cell_type": "code",
   "execution_count": 26,
   "id": "fa91f64a-9f75-4daa-ae5d-d066a70934fa",
   "metadata": {},
   "outputs": [],
   "source": [
    "class teacher_lecture:\n",
    "    def lec_info(self):\n",
    "        print(\"This is lec info with teacher perspective\")\n",
    "class student_lecture:\n",
    "    def lec_info(self):\n",
    "        print(\"This is lec info with student perspective\")"
   ]
  },
  {
   "cell_type": "code",
   "execution_count": 35,
   "id": "eaf47a28-35df-4397-8817-73d0eb0698ac",
   "metadata": {},
   "outputs": [],
   "source": [
    "ad=teacher_lecture()\n",
    "cd=student_lecture()\n",
    "ok=[ad,cd]"
   ]
  },
  {
   "cell_type": "code",
   "execution_count": 38,
   "id": "703ce312-8e78-409b-9014-a17e0b46c703",
   "metadata": {},
   "outputs": [],
   "source": [
    "def Parcer(ok):\n",
    "    for i in ok:\n",
    "        i.lec_info() #at this point, lec_info is taking two forms wrt techer and students"
   ]
  },
  {
   "cell_type": "code",
   "execution_count": 39,
   "id": "c4a3bd76-767b-4185-904c-ac49fd76c336",
   "metadata": {},
   "outputs": [
    {
     "name": "stdout",
     "output_type": "stream",
     "text": [
      "This is lec info with teacher perspective\n",
      "This is lec info with student perspective\n"
     ]
    }
   ],
   "source": [
    "Parcer(ok)"
   ]
  },
  {
   "cell_type": "code",
   "execution_count": 40,
   "id": "61ca30e8-ef8a-498e-b2a5-3087e876d20a",
   "metadata": {},
   "outputs": [],
   "source": [
    "#Polymorphism in OOPS takes places in two ways:\n",
    "#Method overloading >> python doesnt support true method overloading\n",
    "#Method overloading"
   ]
  },
  {
   "cell_type": "code",
   "execution_count": 1,
   "id": "a588fd4d-58d1-46a6-8fbf-66f81350fafa",
   "metadata": {},
   "outputs": [],
   "source": [
    "#Method overloading\n",
    "class Student:\n",
    "    def student(self):\n",
    "        print(\"Wecome to pwskills class\")\n",
    "    def student(self, name = \"\"):\n",
    "        print(\"Wecome to pwskills class\", name)\n",
    "    def student(self, name = \"\", course = \"\"):\n",
    "        print(\"Wecome to pwskills class\", name, course)"
   ]
  },
  {
   "cell_type": "code",
   "execution_count": 43,
   "id": "55fa77ac-4a85-4ab0-a3dd-ae7f8f3b99b2",
   "metadata": {},
   "outputs": [],
   "source": [
    "vsd=Student()"
   ]
  },
  {
   "cell_type": "code",
   "execution_count": 44,
   "id": "37bcfc27-b938-4bec-927a-eec427d94aea",
   "metadata": {},
   "outputs": [
    {
     "name": "stdout",
     "output_type": "stream",
     "text": [
      "Wecome to pwskills class  \n"
     ]
    }
   ],
   "source": [
    "vsd.student()"
   ]
  },
  {
   "cell_type": "code",
   "execution_count": 47,
   "id": "c5673264-fcf9-41fd-b4de-529abd3965d1",
   "metadata": {},
   "outputs": [
    {
     "name": "stdout",
     "output_type": "stream",
     "text": [
      "Wecome to pwskills class ncdijd scmao\n"
     ]
    }
   ],
   "source": [
    "vsd.student(\"ncdijd\",\"scmao\")"
   ]
  },
  {
   "cell_type": "code",
   "execution_count": 48,
   "id": "e381e25a-0aa1-46e8-8ad4-f49de48e9c9d",
   "metadata": {},
   "outputs": [],
   "source": [
    "#method overloading >> student method is taking different forms, the last methods overloads the previous ones in the same class\n",
    "class Student:\n",
    "    def student(self, name = \"\", course = \"\"):\n",
    "        print(\"Wecome to pwskills class\", name, course)"
   ]
  },
  {
   "cell_type": "code",
   "execution_count": 49,
   "id": "c71c1294-c784-4351-924a-e076d2ed8c83",
   "metadata": {},
   "outputs": [],
   "source": [
    "csd=Student()"
   ]
  },
  {
   "cell_type": "code",
   "execution_count": 50,
   "id": "aea7a581-dbb3-4532-9272-2a8296bbcf01",
   "metadata": {},
   "outputs": [
    {
     "name": "stdout",
     "output_type": "stream",
     "text": [
      "Wecome to pwskills class ancsc asjcoij\n"
     ]
    }
   ],
   "source": [
    "csd.student(\"ancsc\",\"asjcoij\")"
   ]
  },
  {
   "cell_type": "code",
   "execution_count": 51,
   "id": "a6a979c4-0759-47ed-a82b-17d67d8686af",
   "metadata": {},
   "outputs": [],
   "source": [
    "#method overloading happens in the same class"
   ]
  },
  {
   "cell_type": "raw",
   "id": "e81bab87-2cc5-46d4-b2dc-e5a95ded8b21",
   "metadata": {},
   "source": [
    "polymorphism:-same method taking diifernt form that called polymorphism"
   ]
  },
  {
   "cell_type": "code",
   "execution_count": 52,
   "id": "feeb2a26-36b3-4b24-a0c8-37f5c8a89f1d",
   "metadata": {},
   "outputs": [],
   "source": [
    "#method overriding >> method in parent class and child class with same signature, the child class method will be executed"
   ]
  },
  {
   "cell_type": "code",
   "execution_count": 53,
   "id": "2f0e9873-1fbd-448c-99ef-760cf1742b40",
   "metadata": {},
   "outputs": [],
   "source": [
    "class Animal:\n",
    "    def sound(self):\n",
    "        print(\"Animal Sound\")\n",
    "class Cat(Animal):\n",
    "    def sound(self):\n",
    "        print(\"cat meows\")"
   ]
  },
  {
   "cell_type": "code",
   "execution_count": 54,
   "id": "0af7d5b4-8727-4411-a22c-5612da1418d8",
   "metadata": {},
   "outputs": [],
   "source": [
    "cw=Animal()"
   ]
  },
  {
   "cell_type": "code",
   "execution_count": 55,
   "id": "cf022fbe-9bce-42d0-8efa-d08c6f9211a6",
   "metadata": {},
   "outputs": [
    {
     "name": "stdout",
     "output_type": "stream",
     "text": [
      "Animal Sound\n"
     ]
    }
   ],
   "source": [
    "cw.sound()"
   ]
  },
  {
   "cell_type": "code",
   "execution_count": 56,
   "id": "ee2f4fbf-954e-4c9f-bf26-3e735cea73f3",
   "metadata": {},
   "outputs": [],
   "source": [
    "ca=Cat()"
   ]
  },
  {
   "cell_type": "code",
   "execution_count": 57,
   "id": "f7fe6319-f1e3-4fe8-a014-eaf61432daaa",
   "metadata": {},
   "outputs": [
    {
     "name": "stdout",
     "output_type": "stream",
     "text": [
      "cat meows\n"
     ]
    }
   ],
   "source": [
    "ca.sound()"
   ]
  },
  {
   "cell_type": "code",
   "execution_count": 58,
   "id": "f31845cd-b9f1-4bfa-b133-b65a08d04734",
   "metadata": {},
   "outputs": [
    {
     "name": "stdout",
     "output_type": "stream",
     "text": [
      "cat meows\n"
     ]
    }
   ],
   "source": [
    "ca.sound()"
   ]
  },
  {
   "cell_type": "code",
   "execution_count": 59,
   "id": "4e0d87ba-8bed-46f5-913e-154bc0359022",
   "metadata": {},
   "outputs": [],
   "source": [
    "#Encapsulation>> means hiding something\n",
    "#bundling of data and methods of a class\n",
    "#access modifier>>public, protected, private"
   ]
  },
  {
   "cell_type": "code",
   "execution_count": 60,
   "id": "46a5a0ee-1ea6-424c-a96d-0d3b71c1c2c3",
   "metadata": {},
   "outputs": [],
   "source": [
    "#public>>accessible from anywhere from outside/inside of class"
   ]
  },
  {
   "cell_type": "code",
   "execution_count": 61,
   "id": "293c25bc-6202-4325-ad39-0f87f465b867",
   "metadata": {},
   "outputs": [],
   "source": [
    "class Student:\n",
    "    def __init__(self, name, degree):\n",
    "        self.name = name\n",
    "        self.degree = degree"
   ]
  },
  {
   "cell_type": "code",
   "execution_count": 63,
   "id": "d31974e5-af10-4a14-8bb4-1b5e6b84c41c",
   "metadata": {},
   "outputs": [],
   "source": [
    "vdf=Student(\"smck\",\"ascin\")"
   ]
  },
  {
   "cell_type": "code",
   "execution_count": 69,
   "id": "47af6ae2-fc32-4a9b-8e78-8650166695ef",
   "metadata": {},
   "outputs": [
    {
     "data": {
      "text/plain": [
       "'smck'"
      ]
     },
     "execution_count": 69,
     "metadata": {},
     "output_type": "execute_result"
    }
   ],
   "source": [
    "vdf.name"
   ]
  },
  {
   "cell_type": "code",
   "execution_count": 70,
   "id": "6dddda4f-ede3-460a-a057-2776ec317c62",
   "metadata": {},
   "outputs": [
    {
     "data": {
      "text/plain": [
       "'ascin'"
      ]
     },
     "execution_count": 70,
     "metadata": {},
     "output_type": "execute_result"
    }
   ],
   "source": [
    "vdf.degree"
   ]
  },
  {
   "cell_type": "code",
   "execution_count": 72,
   "id": "5f838df8-fd08-4b47-8c94-707c0276d0e0",
   "metadata": {},
   "outputs": [],
   "source": [
    "vdf2=Student(\"nsd\",\"niu\")"
   ]
  },
  {
   "cell_type": "code",
   "execution_count": 74,
   "id": "2988c1f7-2b76-40dc-8172-2bde554ef293",
   "metadata": {},
   "outputs": [
    {
     "data": {
      "text/plain": [
       "'niu'"
      ]
     },
     "execution_count": 74,
     "metadata": {},
     "output_type": "execute_result"
    }
   ],
   "source": [
    "vdf2.degree"
   ]
  },
  {
   "cell_type": "code",
   "execution_count": 75,
   "id": "9a006b1f-c17c-482d-905c-c68f638be522",
   "metadata": {},
   "outputs": [
    {
     "data": {
      "text/plain": [
       "'nsd'"
      ]
     },
     "execution_count": 75,
     "metadata": {},
     "output_type": "execute_result"
    }
   ],
   "source": [
    "vdf2.name"
   ]
  },
  {
   "cell_type": "code",
   "execution_count": 77,
   "id": "af1600ef-ff68-4674-8c2b-4f5bb5afe3c4",
   "metadata": {},
   "outputs": [],
   "source": [
    "vdf2.name = \"snjj\""
   ]
  },
  {
   "cell_type": "code",
   "execution_count": 78,
   "id": "7d0b39c2-5e69-4cf3-ae78-1cb74ef30b75",
   "metadata": {},
   "outputs": [
    {
     "data": {
      "text/plain": [
       "'snjj'"
      ]
     },
     "execution_count": 78,
     "metadata": {},
     "output_type": "execute_result"
    }
   ],
   "source": [
    "vdf2.name"
   ]
  },
  {
   "cell_type": "code",
   "execution_count": 80,
   "id": "1aea4cc3-8d70-4a8f-832e-3f881493bc95",
   "metadata": {},
   "outputs": [],
   "source": [
    "#accessing the public data member inside the other method of same class\n",
    "class Student:\n",
    "    def __init__(self, name, degree):\n",
    "        self.name = name\n",
    "        self.degree = degree\n",
    "        \n",
    "    def show(self):\n",
    "        #accessing the  public data member\n",
    "        print(\"name\", self.name, 'degree', self.degree)"
   ]
  },
  {
   "cell_type": "code",
   "execution_count": 84,
   "id": "32ed1a1b-0e61-4533-a05d-71c1af8d6ef1",
   "metadata": {},
   "outputs": [],
   "source": [
    "cdf=Student(\"cdc\",\"cwdv\")"
   ]
  },
  {
   "cell_type": "code",
   "execution_count": 85,
   "id": "d0e23bb9-6b58-4e14-9ec1-bc2dcdcf8551",
   "metadata": {},
   "outputs": [
    {
     "data": {
      "text/plain": [
       "'cwdv'"
      ]
     },
     "execution_count": 85,
     "metadata": {},
     "output_type": "execute_result"
    }
   ],
   "source": [
    "cdf.degree"
   ]
  },
  {
   "cell_type": "code",
   "execution_count": 86,
   "id": "d8a7e166-688a-420a-b28c-96821dba8940",
   "metadata": {},
   "outputs": [
    {
     "name": "stdout",
     "output_type": "stream",
     "text": [
      "name cdc degree cwdv\n"
     ]
    }
   ],
   "source": [
    "cdf.show()"
   ]
  },
  {
   "cell_type": "code",
   "execution_count": 88,
   "id": "5e276f50-4da2-4159-8b1c-2d327f7c74ac",
   "metadata": {},
   "outputs": [
    {
     "data": {
      "text/plain": [
       "'cdc'"
      ]
     },
     "execution_count": 88,
     "metadata": {},
     "output_type": "execute_result"
    }
   ],
   "source": [
    "cdf.name"
   ]
  },
  {
   "cell_type": "code",
   "execution_count": 81,
   "id": "d80add29-a90d-41c7-b450-fb2409f03e14",
   "metadata": {},
   "outputs": [],
   "source": [
    "#private:-the data and method is only accessible within its class, \n",
    "#use __ to make private"
   ]
  },
  {
   "cell_type": "code",
   "execution_count": 89,
   "id": "66b21163-6e41-4254-ab9e-a8c8b1f10270",
   "metadata": {},
   "outputs": [],
   "source": [
    "class Student:\n",
    "    def __init__(self, name, degree):\n",
    "        self.name = name\n",
    "        self.__degree = degree #private data\n",
    "        \n",
    "    def show(self):\n",
    "        #accessing the private data member\n",
    "        print(\"name\", self.name, 'degree', self.__degree)"
   ]
  },
  {
   "cell_type": "code",
   "execution_count": 90,
   "id": "9cca1f62-5dc8-4739-b5ad-5e7f297958dd",
   "metadata": {},
   "outputs": [],
   "source": [
    "asc=Student(\"kji\",\"master\")"
   ]
  },
  {
   "cell_type": "code",
   "execution_count": 91,
   "id": "cece324f-d90e-4410-acba-8849fb2b1487",
   "metadata": {},
   "outputs": [
    {
     "data": {
      "text/plain": [
       "'kji'"
      ]
     },
     "execution_count": 91,
     "metadata": {},
     "output_type": "execute_result"
    }
   ],
   "source": [
    "asc.name"
   ]
  },
  {
   "cell_type": "code",
   "execution_count": 92,
   "id": "d391e97e-b6d6-4a3b-ae51-1ae74c2e1d46",
   "metadata": {},
   "outputs": [
    {
     "name": "stdout",
     "output_type": "stream",
     "text": [
      "name kji degree master\n"
     ]
    }
   ],
   "source": [
    "asc.show()"
   ]
  },
  {
   "cell_type": "code",
   "execution_count": 94,
   "id": "bcd4c69d-f651-46bf-91c7-d737bd55b0d8",
   "metadata": {},
   "outputs": [
    {
     "ename": "AttributeError",
     "evalue": "'Student' object has no attribute '__degree'",
     "output_type": "error",
     "traceback": [
      "\u001b[0;31m---------------------------------------------------------------------------\u001b[0m",
      "\u001b[0;31mAttributeError\u001b[0m                            Traceback (most recent call last)",
      "Cell \u001b[0;32mIn[94], line 1\u001b[0m\n\u001b[0;32m----> 1\u001b[0m \u001b[43masc\u001b[49m\u001b[38;5;241;43m.\u001b[39;49m\u001b[43m__degree\u001b[49m\u001b[38;5;66;03m#it will throw an error as degree is now private data\u001b[39;00m\n\u001b[1;32m      2\u001b[0m \u001b[38;5;66;03m#it will throw an error as degree is now private data\u001b[39;00m\n",
      "\u001b[0;31mAttributeError\u001b[0m: 'Student' object has no attribute '__degree'"
     ]
    }
   ],
   "source": [
    "asc.__degree#it will throw an error as degree is now private data\n",
    "#it will throw an error as degree is now private data"
   ]
  },
  {
   "cell_type": "code",
   "execution_count": 95,
   "id": "d57cfa0c-cd90-4a40-95d5-88682db79096",
   "metadata": {},
   "outputs": [
    {
     "data": {
      "text/plain": [
       "'master'"
      ]
     },
     "execution_count": 95,
     "metadata": {},
     "output_type": "execute_result"
    }
   ],
   "source": [
    "asc._Student__degree #say you want to access the private variable using class name"
   ]
  },
  {
   "cell_type": "code",
   "execution_count": 96,
   "id": "77b27a92-9ec5-4435-86e1-abe30a1492db",
   "metadata": {},
   "outputs": [],
   "source": [
    "#a method private\n",
    "\n",
    "class Student:\n",
    "    def __init__(self, name, degree):\n",
    "        self.name = name\n",
    "        self.__degree = degree #private data\n",
    "        \n",
    "    def show(self):\n",
    "        #accessing the private data member\n",
    "        print(\"name\", self.name, 'degree', self.__degree)\n",
    "        \n",
    "    def __private_method(self):\n",
    "        print(\"This is a private method\")"
   ]
  },
  {
   "cell_type": "code",
   "execution_count": 99,
   "id": "a5e9bf0a-2832-478f-9239-9093e3098d23",
   "metadata": {},
   "outputs": [],
   "source": [
    "cdsd=Student(\"ajay\",\"faill\")"
   ]
  },
  {
   "cell_type": "code",
   "execution_count": 100,
   "id": "ff6669e9-9246-4c90-bca7-3047eabcbdeb",
   "metadata": {},
   "outputs": [
    {
     "name": "stdout",
     "output_type": "stream",
     "text": [
      "name ajay degree faill\n"
     ]
    }
   ],
   "source": [
    "cdsd.show()"
   ]
  },
  {
   "cell_type": "code",
   "execution_count": 104,
   "id": "15ead8b8-7baf-4eb1-9743-c48519428906",
   "metadata": {},
   "outputs": [
    {
     "name": "stdout",
     "output_type": "stream",
     "text": [
      "This is a private method\n"
     ]
    }
   ],
   "source": [
    "cdsd._Student__private_method() #accesing private method using class name"
   ]
  },
  {
   "cell_type": "code",
   "execution_count": 105,
   "id": "479397c2-91fe-44b3-886d-6835eb1e4c8a",
   "metadata": {},
   "outputs": [],
   "source": [
    "#way to provide an option to see the private method>> a wrapper\n",
    "\n",
    "class Student:\n",
    "    def __init__(self, name, degree):\n",
    "        self.name = name\n",
    "        self.__degree = degree #private data\n",
    "        \n",
    "    def show(self):\n",
    "        #accessing the private data member\n",
    "        print(\"name\", self.name, 'degree', self.__degree)\n",
    "        \n",
    "    def __private_method(self):\n",
    "        print(\"This is a private method\")\n",
    "        \n",
    "    def access_private_method(self):\n",
    "        self.__private_method()"
   ]
  },
  {
   "cell_type": "code",
   "execution_count": 106,
   "id": "221d8236-6a02-49bf-ba7c-49640816d8a9",
   "metadata": {},
   "outputs": [],
   "source": [
    "cnwoe=Student(\"asjco\",\"asjocj\")"
   ]
  },
  {
   "cell_type": "code",
   "execution_count": 107,
   "id": "7291c428-79b4-4a25-bec2-4b55818c875f",
   "metadata": {},
   "outputs": [
    {
     "name": "stdout",
     "output_type": "stream",
     "text": [
      "This is a private method\n"
     ]
    }
   ],
   "source": [
    "cnwoe.access_private_method()"
   ]
  },
  {
   "cell_type": "code",
   "execution_count": 108,
   "id": "77035ce9-7684-4418-84dc-a7e74688390f",
   "metadata": {},
   "outputs": [],
   "source": [
    "#another use case of modifying the private variable and accessing it\n",
    "class Car:\n",
    "    def __init__(self, year, make, speed, model):\n",
    "        self.__year = year\n",
    "        self.__make = make\n",
    "        self.__speed = speed\n",
    "        self.__model = model"
   ]
  },
  {
   "cell_type": "code",
   "execution_count": 109,
   "id": "a0e8fb3a-ee32-4997-95b6-ef65c82e9645",
   "metadata": {},
   "outputs": [
    {
     "ename": "AttributeError",
     "evalue": "'Car' object has no attribute 'year'",
     "output_type": "error",
     "traceback": [
      "\u001b[0;31m---------------------------------------------------------------------------\u001b[0m",
      "\u001b[0;31mAttributeError\u001b[0m                            Traceback (most recent call last)",
      "Cell \u001b[0;32mIn[109], line 2\u001b[0m\n\u001b[1;32m      1\u001b[0m c1 \u001b[38;5;241m=\u001b[39m Car(\u001b[38;5;124m\"\u001b[39m\u001b[38;5;124m1995\u001b[39m\u001b[38;5;124m\"\u001b[39m, \u001b[38;5;124m\"\u001b[39m\u001b[38;5;124mMaruti\u001b[39m\u001b[38;5;124m\"\u001b[39m, \u001b[38;5;124m\"\u001b[39m\u001b[38;5;124m80\u001b[39m\u001b[38;5;124m\"\u001b[39m, \u001b[38;5;124m\"\u001b[39m\u001b[38;5;124mBrezza\u001b[39m\u001b[38;5;124m\"\u001b[39m)\n\u001b[0;32m----> 2\u001b[0m \u001b[43mc1\u001b[49m\u001b[38;5;241;43m.\u001b[39;49m\u001b[43myear\u001b[49m \u001b[38;5;66;03m#since all variables are private, it will throw an error\u001b[39;00m\n",
      "\u001b[0;31mAttributeError\u001b[0m: 'Car' object has no attribute 'year'"
     ]
    }
   ],
   "source": [
    "c1 = Car(\"1995\", \"Maruti\", \"80\", \"Brezza\")\n",
    "c1.year #since all variables are private, it will throw an error"
   ]
  },
  {
   "cell_type": "code",
   "execution_count": 1,
   "id": "17e9febb-34cd-4765-9119-21dcca55cefc",
   "metadata": {},
   "outputs": [],
   "source": [
    "class Car:\n",
    "    def __init__(self, year, make, speed, model):\n",
    "        self.__year = year\n",
    "        self.__make = make\n",
    "        self.__speed = speed\n",
    "        self.__model = model\n",
    "    def set_speed(self, speed):\n",
    "        self.__speed = 0 if speed < 0 else speed\n",
    "    def get_speed(self):\n",
    "        return self.__speed"
   ]
  },
  {
   "cell_type": "code",
   "execution_count": 2,
   "id": "424f10fe-ce46-4fbd-a695-9ec5222701da",
   "metadata": {},
   "outputs": [
    {
     "data": {
      "text/plain": [
       "'0'"
      ]
     },
     "execution_count": 2,
     "metadata": {},
     "output_type": "execute_result"
    }
   ],
   "source": [
    "c1 = Car(\"1995\", \"Maruti\", \"0\", \"Brezza\")\n",
    "c1.get_speed()"
   ]
  },
  {
   "cell_type": "code",
   "execution_count": 3,
   "id": "7d6bf10e-7c18-440b-ab12-025749c0c1c3",
   "metadata": {},
   "outputs": [],
   "source": [
    "c1.set_speed(100)"
   ]
  },
  {
   "cell_type": "code",
   "execution_count": 4,
   "id": "f40262b8-0f5a-4cd6-9620-a152c017daff",
   "metadata": {},
   "outputs": [
    {
     "data": {
      "text/plain": [
       "100"
      ]
     },
     "execution_count": 4,
     "metadata": {},
     "output_type": "execute_result"
    }
   ],
   "source": [
    "c1.get_speed()"
   ]
  },
  {
   "cell_type": "code",
   "execution_count": 1,
   "id": "12990b36-d19a-4a55-a9df-2897acc0d6e2",
   "metadata": {},
   "outputs": [],
   "source": [
    "class Bank: #either you deposit or withdraw\n",
    "    \n",
    "    def __init__(self, balance):\n",
    "        self.__balance = balance\n",
    "        \n",
    "    def deposit(self, amount): #amount is new deposition\n",
    "        self.__balance = self.__balance + amount\n",
    "    \n",
    "    def withdraw(self, amount):\n",
    "        if self.__balance >= amount:\n",
    "            self.__balance = self.__balance - amount\n",
    "            return True\n",
    "        else:\n",
    "            return False\n",
    "        \n",
    "    def get_balance(self):\n",
    "        return self.__balance"
   ]
  },
  {
   "cell_type": "code",
   "execution_count": 3,
   "id": "e513afb4-c29c-4cdb-88b4-70ec9ffada73",
   "metadata": {},
   "outputs": [],
   "source": [
    "sa=Bank(100)"
   ]
  },
  {
   "cell_type": "code",
   "execution_count": 4,
   "id": "0ea7d4de-d68d-48ea-a2f0-657cadfd1385",
   "metadata": {},
   "outputs": [],
   "source": [
    "sa.deposit(500)"
   ]
  },
  {
   "cell_type": "code",
   "execution_count": 5,
   "id": "a12b879e-90d5-48ea-a851-e3e13b438ff8",
   "metadata": {},
   "outputs": [
    {
     "data": {
      "text/plain": [
       "600"
      ]
     },
     "execution_count": 5,
     "metadata": {},
     "output_type": "execute_result"
    }
   ],
   "source": [
    "sa.get_balance()"
   ]
  },
  {
   "cell_type": "code",
   "execution_count": 7,
   "id": "12289303-dbfa-41fb-ba80-a1b33ef2164d",
   "metadata": {},
   "outputs": [
    {
     "data": {
      "text/plain": [
       "True"
      ]
     },
     "execution_count": 7,
     "metadata": {},
     "output_type": "execute_result"
    }
   ],
   "source": [
    "sa.withdraw(200)"
   ]
  },
  {
   "cell_type": "code",
   "execution_count": 8,
   "id": "93292306-1536-4bed-9c9e-d7a5926552db",
   "metadata": {},
   "outputs": [
    {
     "data": {
      "text/plain": [
       "400"
      ]
     },
     "execution_count": 8,
     "metadata": {},
     "output_type": "execute_result"
    }
   ],
   "source": [
    "sa.get_balance()"
   ]
  },
  {
   "cell_type": "code",
   "execution_count": 9,
   "id": "caf981b9-9a0e-4de4-9581-06feaeb49b10",
   "metadata": {},
   "outputs": [],
   "source": [
    "#protected>> within the class and its subclass, protected member can be access, (_)"
   ]
  },
  {
   "cell_type": "code",
   "execution_count": 10,
   "id": "c59070d8-902c-4062-a18c-f9820219f304",
   "metadata": {},
   "outputs": [],
   "source": [
    "class College:\n",
    "    def __init__(self):\n",
    "        self._college_name = \"PWSkills\"\n",
    "class Student(College):\n",
    "    def __init__(self, name):\n",
    "        self.name = name\n",
    "        College.__init__(self) #accesing variable of base class>>classname__init__(self)\n",
    "        \n",
    "    def show(self):\n",
    "        print(\"name\", self.name, \"college\", self._college_name) #directly call the base class variable using \"_\""
   ]
  },
  {
   "cell_type": "code",
   "execution_count": 13,
   "id": "c5538e38-c51c-4e97-90b2-a3c48f67c1ed",
   "metadata": {},
   "outputs": [],
   "source": [
    "qwe=Student(\"dkm\")"
   ]
  },
  {
   "cell_type": "code",
   "execution_count": 18,
   "id": "7a81fd0e-ef5e-45cd-8f79-5f7cfe1fe502",
   "metadata": {},
   "outputs": [
    {
     "data": {
      "text/plain": [
       "'dkm'"
      ]
     },
     "execution_count": 18,
     "metadata": {},
     "output_type": "execute_result"
    }
   ],
   "source": [
    "qwe.name"
   ]
  },
  {
   "cell_type": "code",
   "execution_count": 19,
   "id": "3b4b5907-d0cf-4671-b68c-ff3d9ffce1ce",
   "metadata": {},
   "outputs": [
    {
     "name": "stdout",
     "output_type": "stream",
     "text": [
      "name dkm college PWSkills\n"
     ]
    }
   ],
   "source": [
    "qwe.show()"
   ]
  },
  {
   "cell_type": "code",
   "execution_count": 20,
   "id": "42dbb71b-f01a-46b8-b018-a59536a3e397",
   "metadata": {},
   "outputs": [
    {
     "data": {
      "text/plain": [
       "'PWSkills'"
      ]
     },
     "execution_count": 20,
     "metadata": {},
     "output_type": "execute_result"
    }
   ],
   "source": [
    "coll = College()\n",
    "coll._college_name #accessing the protected variable"
   ]
  },
  {
   "cell_type": "code",
   "execution_count": 21,
   "id": "d3905769-cb88-48c0-9294-c5e80a7cba6a",
   "metadata": {},
   "outputs": [],
   "source": [
    "#anothe way to access the data of base class using super()"
   ]
  },
  {
   "cell_type": "code",
   "execution_count": 5,
   "id": "fb6c065f-7bd5-4630-b564-d06b220feba7",
   "metadata": {},
   "outputs": [],
   "source": [
    "class College:\n",
    "    def __init__(self):\n",
    "        self._college_name = \"PWSkills\"\n",
    "class Student(College):\n",
    "    def __init__(self, name):\n",
    "        self.name = name\n",
    "        super().__init__()#include super remove self\n",
    "        \n",
    "    def show(self):\n",
    "        print(\"name\", self.name, \"college\", self._college_name)"
   ]
  },
  {
   "cell_type": "code",
   "execution_count": 6,
   "id": "e2dc694a-9f93-4035-8ed5-2ea928995809",
   "metadata": {},
   "outputs": [],
   "source": [
    "ert=Student(\"karan\")"
   ]
  },
  {
   "cell_type": "code",
   "execution_count": 7,
   "id": "24e5fe3e-d4f8-40fa-bb65-7b29fbdc2a89",
   "metadata": {},
   "outputs": [
    {
     "name": "stdout",
     "output_type": "stream",
     "text": [
      "name karan college PWSkills\n"
     ]
    }
   ],
   "source": [
    "ert.show()"
   ]
  },
  {
   "cell_type": "markdown",
   "id": "b02829be-bde4-4918-83f2-383aa3ee2dea",
   "metadata": {},
   "source": [
    "# Class and Static Method"
   ]
  },
  {
   "cell_type": "code",
   "execution_count": 25,
   "id": "08b339c2-1c84-486c-90ba-dc3c8d3fb299",
   "metadata": {},
   "outputs": [],
   "source": [
    "class Student:\n",
    "    #constructor >> constructing class with initialisation of variables/data\n",
    "    def __init__(self, name):\n",
    "        self.name = name"
   ]
  },
  {
   "cell_type": "code",
   "execution_count": 27,
   "id": "c50ab0ff-b895-4d62-bb13-b05c7246d8ea",
   "metadata": {},
   "outputs": [],
   "source": [
    "asd=Student(\"sca\")"
   ]
  },
  {
   "cell_type": "code",
   "execution_count": 29,
   "id": "2898d544-836c-475e-aeb2-db2f8fe8e33e",
   "metadata": {},
   "outputs": [
    {
     "data": {
      "text/plain": [
       "'sca'"
      ]
     },
     "execution_count": 29,
     "metadata": {},
     "output_type": "execute_result"
    }
   ],
   "source": [
    "asd.name"
   ]
  },
  {
   "cell_type": "code",
   "execution_count": 2,
   "id": "9a98e2ca-199d-40be-b5ba-86453d6c118c",
   "metadata": {},
   "outputs": [],
   "source": [
    "class Student:\n",
    "    def __init__(self, name):\n",
    "        self.name = name #self means this variable/method is refererring to current instance of the class\n",
    "    \n",
    "    @classmethod #bound/binds to the class\n",
    "    def student_details(cls, name): #instead of self as first param, you are using cls>>meaning this method is associated/referring to the class itself\n",
    "        return cls(name)"
   ]
  },
  {
   "cell_type": "code",
   "execution_count": null,
   "id": "14ad732a-97b7-4bad-b315-9beca5eb8b31",
   "metadata": {},
   "outputs": [],
   "source": [
    "#what is the meaning that it is referring the class?\n",
    "#earlier to access any method/attribute>>first make instance/object of class\n",
    "#then obj.attribute\n",
    "#but if it is class method you can directly access it"
   ]
  },
  {
   "cell_type": "code",
   "execution_count": 3,
   "id": "f22c5f68-bd8d-4f0c-9c9c-b26f40d951ee",
   "metadata": {},
   "outputs": [],
   "source": [
    "obj1 = Student.student_details(\"Ajay\")"
   ]
  },
  {
   "cell_type": "code",
   "execution_count": 6,
   "id": "95085a10-4cd5-45ee-bd33-36c528350840",
   "metadata": {},
   "outputs": [
    {
     "data": {
      "text/plain": [
       "<__main__.Student at 0x703e547c9210>"
      ]
     },
     "execution_count": 6,
     "metadata": {},
     "output_type": "execute_result"
    }
   ],
   "source": [
    "obj1.student_details(\"bijay\")"
   ]
  },
  {
   "cell_type": "code",
   "execution_count": 8,
   "id": "3a5ddc75-570c-48f9-aa89-3ef75b6f4dde",
   "metadata": {},
   "outputs": [
    {
     "data": {
      "text/plain": [
       "'Ajay'"
      ]
     },
     "execution_count": 8,
     "metadata": {},
     "output_type": "execute_result"
    }
   ],
   "source": [
    "obj1.name"
   ]
  },
  {
   "cell_type": "code",
   "execution_count": 9,
   "id": "a7960f41-a4e1-4b5f-9c9d-fad03b0375b0",
   "metadata": {},
   "outputs": [
    {
     "data": {
      "text/plain": [
       "<bound method Student.student_details of <class '__main__.Student'>>"
      ]
     },
     "execution_count": 9,
     "metadata": {},
     "output_type": "execute_result"
    }
   ],
   "source": [
    "obj1.student_details"
   ]
  },
  {
   "cell_type": "code",
   "execution_count": 10,
   "id": "1ccdc2b5-646b-4d5e-92a0-562c9efa54e0",
   "metadata": {},
   "outputs": [],
   "source": [
    "#seeing class method as alternative of init method >> actually class method is overloading the init method"
   ]
  },
  {
   "cell_type": "code",
   "execution_count": 11,
   "id": "626437f3-4fa7-4ec6-a5e2-56a856d0b2e4",
   "metadata": {},
   "outputs": [],
   "source": [
    "#how class method is overloading the init method?\n",
    "#modifying the class/instance method\n",
    "class Student:\n",
    "    def __init__(self, name): #init method is an instance method\n",
    "        self.name = name \n",
    "    \n",
    "    @classmethod \n",
    "    def student_details(cls, name1): \n",
    "        return cls(name1)"
   ]
  },
  {
   "cell_type": "code",
   "execution_count": 12,
   "id": "aaa6327b-0030-4a42-a274-e854da0fcfce",
   "metadata": {},
   "outputs": [],
   "source": [
    "stud = Student.student_details(\"Ajay\")"
   ]
  },
  {
   "cell_type": "code",
   "execution_count": 13,
   "id": "68dd2530-5dee-4448-a398-45552daac1bd",
   "metadata": {},
   "outputs": [
    {
     "data": {
      "text/plain": [
       "'Ajay'"
      ]
     },
     "execution_count": 13,
     "metadata": {},
     "output_type": "execute_result"
    }
   ],
   "source": [
    "stud.name\n",
    "#you will get Ajay inspite the variable name1\n",
    "#because it is overloading the init method>> alternative of init method"
   ]
  },
  {
   "cell_type": "code",
   "execution_count": 14,
   "id": "7ce63bb6-a938-47cc-8bfa-29ae1d5070d7",
   "metadata": {},
   "outputs": [],
   "source": [
    "#class method can modify class state applicable to all the instances of the class\n",
    "class Student:\n",
    "    \n",
    "    total_students = 0 #class variable\n",
    "    def __init__(self, name):#instance method\n",
    "        self.name = name #instance variable\n",
    "        Student.total_students = Student.total_students+1 #total_student is the class variable associated with all the instances\n",
    "        \n",
    "    @classmethod\n",
    "    def get_total_students(cls):\n",
    "        return cls.total_students"
   ]
  },
  {
   "cell_type": "code",
   "execution_count": 15,
   "id": "f47d9bde-29f9-4cc4-8ba0-6749477d7a0b",
   "metadata": {},
   "outputs": [
    {
     "data": {
      "text/plain": [
       "0"
      ]
     },
     "execution_count": 15,
     "metadata": {},
     "output_type": "execute_result"
    }
   ],
   "source": [
    "Student.total_students"
   ]
  },
  {
   "cell_type": "code",
   "execution_count": 16,
   "id": "31275a6a-1ed7-4d6a-9ab1-ed5ab266b71e",
   "metadata": {},
   "outputs": [],
   "source": [
    "std1 = Student(\"Ajay\")\n",
    "std2 = Student(\"Bijay\")"
   ]
  },
  {
   "cell_type": "code",
   "execution_count": 17,
   "id": "4697193b-1730-4031-978c-e9d35649db52",
   "metadata": {},
   "outputs": [
    {
     "data": {
      "text/plain": [
       "'Ajay'"
      ]
     },
     "execution_count": 17,
     "metadata": {},
     "output_type": "execute_result"
    }
   ],
   "source": [
    "std1.name"
   ]
  },
  {
   "cell_type": "code",
   "execution_count": 18,
   "id": "28d1639b-5bdd-402f-ac7a-1ace4135e711",
   "metadata": {},
   "outputs": [
    {
     "data": {
      "text/plain": [
       "'Bijay'"
      ]
     },
     "execution_count": 18,
     "metadata": {},
     "output_type": "execute_result"
    }
   ],
   "source": [
    "std2.name"
   ]
  },
  {
   "cell_type": "code",
   "execution_count": 19,
   "id": "e895d4f3-66d8-4d68-b575-7c2df032c0a3",
   "metadata": {},
   "outputs": [
    {
     "data": {
      "text/plain": [
       "2"
      ]
     },
     "execution_count": 19,
     "metadata": {},
     "output_type": "execute_result"
    }
   ],
   "source": [
    "std2.total_students"
   ]
  },
  {
   "cell_type": "code",
   "execution_count": 22,
   "id": "1e7fa223-02ea-435d-9271-ce2b239999dd",
   "metadata": {},
   "outputs": [
    {
     "data": {
      "text/plain": [
       "2"
      ]
     },
     "execution_count": 22,
     "metadata": {},
     "output_type": "execute_result"
    }
   ],
   "source": [
    "std1.get_total_students()#class method can modify class state applicable to all the instances of the class\n",
    "#thats why you see increase in the count"
   ]
  },
  {
   "cell_type": "code",
   "execution_count": 23,
   "id": "bc9d2a63-578f-4844-b168-0ef573e793e7",
   "metadata": {},
   "outputs": [],
   "source": [
    "#To make external function as class method\n",
    "\n",
    "class Student:\n",
    "    \n",
    "    total_students = 0 #class variable\n",
    "    def __init__(self, name):#instance method\n",
    "        self.name = name #instance variable\n",
    "        Student.total_students = Student.total_students+1 #total_student is the class variable associated with all the instances\n",
    "        \n",
    "    @classmethod\n",
    "    def get_total_students(cls):\n",
    "        return cls.total_students"
   ]
  },
  {
   "cell_type": "code",
   "execution_count": 24,
   "id": "a746d1b7-9315-44d2-9b81-2e45fa18f555",
   "metadata": {},
   "outputs": [],
   "source": [
    "def course_details(cls, course_name):\n",
    "    print(\"The details of the course are :\", course_name)"
   ]
  },
  {
   "cell_type": "code",
   "execution_count": 25,
   "id": "5f1ffa98-7c2a-443e-8826-5bc256743591",
   "metadata": {},
   "outputs": [],
   "source": [
    "Student.course_details = classmethod(course_details) #adding external function as class method"
   ]
  },
  {
   "cell_type": "code",
   "execution_count": 26,
   "id": "856572bc-1413-404b-9b00-8cdba11e04d9",
   "metadata": {},
   "outputs": [
    {
     "name": "stdout",
     "output_type": "stream",
     "text": [
      "The details of the course are : Data Science\n"
     ]
    }
   ],
   "source": [
    "Student.course_details(\"Data Science\")"
   ]
  },
  {
   "cell_type": "code",
   "execution_count": 27,
   "id": "bc3d8ebb-7ddd-464c-855a-f47d1cfe9d5b",
   "metadata": {},
   "outputs": [],
   "source": [
    "#delete any class method\n",
    "del Student.course_details"
   ]
  },
  {
   "cell_type": "code",
   "execution_count": 28,
   "id": "7ec8242f-34ac-4c58-8a58-6988709afe53",
   "metadata": {},
   "outputs": [
    {
     "data": {
      "text/plain": [
       "0"
      ]
     },
     "execution_count": 28,
     "metadata": {},
     "output_type": "execute_result"
    }
   ],
   "source": [
    "Student.get_total_students()"
   ]
  },
  {
   "cell_type": "code",
   "execution_count": 29,
   "id": "f7361bab-3ce7-4137-828d-7ba7027c0bd0",
   "metadata": {},
   "outputs": [],
   "source": [
    "#another way to delete\n",
    "delattr(Student, \"get_total_students\")"
   ]
  },
  {
   "cell_type": "code",
   "execution_count": 30,
   "id": "496d3e87-15c8-4b15-b01c-351655af1c50",
   "metadata": {},
   "outputs": [
    {
     "ename": "AttributeError",
     "evalue": "type object 'Student' has no attribute 'get_total_students'",
     "output_type": "error",
     "traceback": [
      "\u001b[0;31m---------------------------------------------------------------------------\u001b[0m",
      "\u001b[0;31mAttributeError\u001b[0m                            Traceback (most recent call last)",
      "Cell \u001b[0;32mIn[30], line 1\u001b[0m\n\u001b[0;32m----> 1\u001b[0m \u001b[43mStudent\u001b[49m\u001b[38;5;241;43m.\u001b[39;49m\u001b[43mget_total_students\u001b[49m()\n",
      "\u001b[0;31mAttributeError\u001b[0m: type object 'Student' has no attribute 'get_total_students'"
     ]
    }
   ],
   "source": [
    "Student.get_total_students()"
   ]
  },
  {
   "cell_type": "code",
   "execution_count": 31,
   "id": "e10ead65-02c9-4a3e-8e76-b19cd73c3e14",
   "metadata": {},
   "outputs": [],
   "source": [
    "#Static method\n",
    "#doesnot modify class or instance state, doesnt access instance or class state\n",
    "#doesnt depend on class/instance\n",
    "#it behaves like a plain function that belongs to class\n",
    "#it doesn't take either self or cls\n",
    "#@static method is used\n",
    "#works with parameter passed"
   ]
  },
  {
   "cell_type": "code",
   "execution_count": 32,
   "id": "b65f5583-f923-48f6-adff-105bfb4d4753",
   "metadata": {},
   "outputs": [],
   "source": [
    "class Calculator:\n",
    "    \n",
    "    @staticmethod\n",
    "    def add(x, y):\n",
    "        return x+y\n",
    "    \n",
    "    @staticmethod\n",
    "    def subtract(x,y):\n",
    "        return x-y"
   ]
  },
  {
   "cell_type": "code",
   "execution_count": 33,
   "id": "cfc9ba10-10e5-45f7-904d-70202dc66330",
   "metadata": {},
   "outputs": [
    {
     "data": {
      "text/plain": [
       "11"
      ]
     },
     "execution_count": 33,
     "metadata": {},
     "output_type": "execute_result"
    }
   ],
   "source": [
    "Calculator.add(5, 6)"
   ]
  },
  {
   "cell_type": "code",
   "execution_count": 34,
   "id": "8299cf88-b54e-4870-b9e2-dc41d775d547",
   "metadata": {},
   "outputs": [
    {
     "data": {
      "text/plain": [
       "5"
      ]
     },
     "execution_count": 34,
     "metadata": {},
     "output_type": "execute_result"
    }
   ],
   "source": [
    "Calculator.subtract(10, 5)"
   ]
  },
  {
   "cell_type": "markdown",
   "id": "955d459c-66e7-4531-a23a-6bb5f8d7118e",
   "metadata": {},
   "source": [
    "# dunder methods"
   ]
  },
  {
   "cell_type": "code",
   "execution_count": 1,
   "id": "f7bb9c19-f1dc-4ce0-a13e-d7d498ed7fef",
   "metadata": {},
   "outputs": [],
   "source": [
    "#dunder/magic/special method"
   ]
  },
  {
   "cell_type": "code",
   "execution_count": 2,
   "id": "61dc563d-13f4-460b-8264-13b0e40951f9",
   "metadata": {},
   "outputs": [],
   "source": [
    "#Dunder/magic/special methods are the methods defined by built-in classess in Python\n",
    "#classes define these type of methods for creating custom objects >> for init it means data for every object\n",
    "#implementing operator overloading in Python"
   ]
  },
  {
   "cell_type": "code",
   "execution_count": 3,
   "id": "0b46183c-4ecc-473e-956d-2c124fac0846",
   "metadata": {},
   "outputs": [],
   "source": [
    "#d+under\n",
    "#double underscore >> all the methods surrounding double underscore is a dunder method"
   ]
  },
  {
   "cell_type": "code",
   "execution_count": 4,
   "id": "66cc905b-cda9-45b2-a546-7f37ae921f01",
   "metadata": {},
   "outputs": [
    {
     "data": {
      "text/plain": [
       "'pwskills'"
      ]
     },
     "execution_count": 4,
     "metadata": {},
     "output_type": "execute_result"
    }
   ],
   "source": [
    "a = \"pw\"\n",
    "b = \"skills\"\n",
    "a+b"
   ]
  },
  {
   "cell_type": "code",
   "execution_count": 7,
   "id": "ccc20af9-c77e-4f9a-929a-25255c5173e6",
   "metadata": {},
   "outputs": [
    {
     "data": {
      "text/plain": [
       "'pwskills'"
      ]
     },
     "execution_count": 7,
     "metadata": {},
     "output_type": "execute_result"
    }
   ],
   "source": [
    "a.__add__(b) #a dunder method/special/magic method associated with strings"
   ]
  },
  {
   "cell_type": "code",
   "execution_count": 9,
   "id": "a13d4db8-ac99-4020-8f1f-cef2e13b3d26",
   "metadata": {},
   "outputs": [
    {
     "data": {
      "text/plain": [
       "['__abs__',\n",
       " '__add__',\n",
       " '__and__',\n",
       " '__bool__',\n",
       " '__ceil__',\n",
       " '__class__',\n",
       " '__delattr__',\n",
       " '__dir__',\n",
       " '__divmod__',\n",
       " '__doc__',\n",
       " '__eq__',\n",
       " '__float__',\n",
       " '__floor__',\n",
       " '__floordiv__',\n",
       " '__format__',\n",
       " '__ge__',\n",
       " '__getattribute__',\n",
       " '__getnewargs__',\n",
       " '__gt__',\n",
       " '__hash__',\n",
       " '__index__',\n",
       " '__init__',\n",
       " '__init_subclass__',\n",
       " '__int__',\n",
       " '__invert__',\n",
       " '__le__',\n",
       " '__lshift__',\n",
       " '__lt__',\n",
       " '__mod__',\n",
       " '__mul__',\n",
       " '__ne__',\n",
       " '__neg__',\n",
       " '__new__',\n",
       " '__or__',\n",
       " '__pos__',\n",
       " '__pow__',\n",
       " '__radd__',\n",
       " '__rand__',\n",
       " '__rdivmod__',\n",
       " '__reduce__',\n",
       " '__reduce_ex__',\n",
       " '__repr__',\n",
       " '__rfloordiv__',\n",
       " '__rlshift__',\n",
       " '__rmod__',\n",
       " '__rmul__',\n",
       " '__ror__',\n",
       " '__round__',\n",
       " '__rpow__',\n",
       " '__rrshift__',\n",
       " '__rshift__',\n",
       " '__rsub__',\n",
       " '__rtruediv__',\n",
       " '__rxor__',\n",
       " '__setattr__',\n",
       " '__sizeof__',\n",
       " '__str__',\n",
       " '__sub__',\n",
       " '__subclasshook__',\n",
       " '__truediv__',\n",
       " '__trunc__',\n",
       " '__xor__',\n",
       " 'as_integer_ratio',\n",
       " 'bit_count',\n",
       " 'bit_length',\n",
       " 'conjugate',\n",
       " 'denominator',\n",
       " 'from_bytes',\n",
       " 'imag',\n",
       " 'numerator',\n",
       " 'real',\n",
       " 'to_bytes']"
      ]
     },
     "execution_count": 9,
     "metadata": {},
     "output_type": "execute_result"
    }
   ],
   "source": [
    "dir(int)"
   ]
  },
  {
   "cell_type": "code",
   "execution_count": 12,
   "id": "9c9ccaa3-7014-46dc-8578-f02a08cc3c4c",
   "metadata": {},
   "outputs": [],
   "source": [
    "#useful dunder methods\n",
    "#__init__ >>to take data with respect to object\n",
    "class Student:\n",
    "#to initialize the newly created instance/object>>it sets up any intial state/properties of the object\n",
    "#also known as constructor\n",
    "    def __init__(self, name):\n",
    "        print(name, \"This is the first thing that will be executed when you make instance/object of the class\")"
   ]
  },
  {
   "cell_type": "code",
   "execution_count": 13,
   "id": "c4541c14-bfcb-413d-9b0d-78453c0d114f",
   "metadata": {},
   "outputs": [
    {
     "name": "stdout",
     "output_type": "stream",
     "text": [
      "Ajay This is the first thing that will be executed when you make instance/object of the class\n"
     ]
    }
   ],
   "source": [
    "obj1 = Student(\"Ajay\")"
   ]
  },
  {
   "cell_type": "code",
   "execution_count": 14,
   "id": "aeced9a4-5f50-409f-9c1f-346a03a39963",
   "metadata": {},
   "outputs": [
    {
     "name": "stdout",
     "output_type": "stream",
     "text": [
      "Bijay This is the first thing that will be executed when you make instance/object of the class\n"
     ]
    }
   ],
   "source": [
    "obj2 = Student(\"Bijay\")"
   ]
  },
  {
   "cell_type": "code",
   "execution_count": 15,
   "id": "5e8c3e5d-daf6-462d-ba30-5991469bbdbc",
   "metadata": {},
   "outputs": [],
   "source": [
    "#another magic method >> __new__\n",
    "class Student:\n",
    "    #__new__ is responsible for creating a new instance of the class\n",
    "    def __new__(cls): #since cls>>so it will be referring to the class directly\n",
    "        print(\"This will be executed even before init.\")\n",
    "    #to initialize teh newly created instance/object>>it sets up any intial state/properties of the object\n",
    "    def __init__(self, name):\n",
    "        print(name, \"This is the first thing that will be executed when you make instance/object of the class\")"
   ]
  },
  {
   "cell_type": "code",
   "execution_count": 16,
   "id": "07356988-f0a0-4878-9951-9ad5cfdcbcec",
   "metadata": {},
   "outputs": [
    {
     "name": "stdout",
     "output_type": "stream",
     "text": [
      "This will be executed even before init.\n"
     ]
    }
   ],
   "source": [
    "qwe=Student()"
   ]
  },
  {
   "cell_type": "code",
   "execution_count": 17,
   "id": "5efceebc-117a-4ba7-bcc2-59bd8686b7f0",
   "metadata": {},
   "outputs": [],
   "source": [
    "#another dunder method>> __str__ >> which returns string representation of method\n",
    "class Student:\n",
    "    def __init__(self):\n",
    "        self.phone = 999999999"
   ]
  },
  {
   "cell_type": "code",
   "execution_count": 18,
   "id": "39c3652f-3a4e-4262-ab84-c109167517c9",
   "metadata": {},
   "outputs": [],
   "source": [
    "wer=Student()"
   ]
  },
  {
   "cell_type": "code",
   "execution_count": 21,
   "id": "b7988643-1648-48a4-9891-73a6a8a7efd7",
   "metadata": {},
   "outputs": [
    {
     "data": {
      "text/plain": [
       "999999999"
      ]
     },
     "execution_count": 21,
     "metadata": {},
     "output_type": "execute_result"
    }
   ],
   "source": [
    "wer.phone"
   ]
  },
  {
   "cell_type": "code",
   "execution_count": 22,
   "id": "9d62d8fe-99d3-4f10-8d0e-d5fafd11f962",
   "metadata": {},
   "outputs": [
    {
     "name": "stdout",
     "output_type": "stream",
     "text": [
      "<__main__.Student object at 0x7631c43e39a0>\n"
     ]
    }
   ],
   "source": [
    "print(Student()) #hexadecimal representation  of memory of Student object"
   ]
  },
  {
   "cell_type": "code",
   "execution_count": 23,
   "id": "e8b009ea-9206-4eaf-bb69-0efd1f1d5a2d",
   "metadata": {},
   "outputs": [],
   "source": [
    "class Student:\n",
    "    def __init__(self):\n",
    "        self.phone = 999999999\n",
    "    def __str__(self): #__str__  will return a string representation of object\n",
    "        return \"This method overloads the print statement of object\""
   ]
  },
  {
   "cell_type": "code",
   "execution_count": 24,
   "id": "4b3b53c7-9fbf-4efc-a851-37a1ae2b073c",
   "metadata": {},
   "outputs": [
    {
     "name": "stdout",
     "output_type": "stream",
     "text": [
      "This method overloads the print statement of object\n"
     ]
    }
   ],
   "source": [
    "print(Student())"
   ]
  },
  {
   "cell_type": "code",
   "execution_count": 25,
   "id": "baf89460-f4fc-4986-9e20-acf908b2419f",
   "metadata": {},
   "outputs": [],
   "source": [
    "#another dunder method __repr__ >> meaning representation of class\n",
    "#it returns unambiguous string representation of teh object as it is that can be used recreate the object"
   ]
  },
  {
   "cell_type": "code",
   "execution_count": 26,
   "id": "9805028e-3b88-46e5-9e16-1b8c042b8fcb",
   "metadata": {},
   "outputs": [],
   "source": [
    "class MyClass:\n",
    "    def __init__(self, x):\n",
    "        self.x = x\n",
    "    def __repr__(self):\n",
    "        return f\"MyClass({self.x})\""
   ]
  },
  {
   "cell_type": "code",
   "execution_count": 28,
   "id": "e5a10209-ef27-4ca2-83d4-51be4fa123ca",
   "metadata": {},
   "outputs": [],
   "source": [
    "obj = MyClass(5)"
   ]
  },
  {
   "cell_type": "code",
   "execution_count": 29,
   "id": "2fc753d1-352a-41d9-a320-056b74eed049",
   "metadata": {},
   "outputs": [
    {
     "name": "stdout",
     "output_type": "stream",
     "text": [
      "MyClass(5)\n"
     ]
    }
   ],
   "source": [
    "print(repr(obj))"
   ]
  },
  {
   "cell_type": "code",
   "execution_count": 30,
   "id": "0fac1eb5-8b78-4290-8856-9b3448a602b7",
   "metadata": {},
   "outputs": [
    {
     "data": {
      "text/plain": [
       "True"
      ]
     },
     "execution_count": 30,
     "metadata": {},
     "output_type": "execute_result"
    }
   ],
   "source": [
    "#__eq__\n",
    "True == True"
   ]
  },
  {
   "cell_type": "code",
   "execution_count": 31,
   "id": "2b20b71d-34ef-4337-ad23-2c82fdf3c9eb",
   "metadata": {},
   "outputs": [
    {
     "data": {
      "text/plain": [
       "True"
      ]
     },
     "execution_count": 31,
     "metadata": {},
     "output_type": "execute_result"
    }
   ],
   "source": [
    "a = 3\n",
    "b = 3\n",
    "a.__eq__(b)"
   ]
  },
  {
   "cell_type": "code",
   "execution_count": 32,
   "id": "f4802d83-e40f-4ebc-a9cb-dc2df532a0e4",
   "metadata": {},
   "outputs": [],
   "source": [
    "#use case of this\n",
    "class Point:\n",
    "    def __init__(self, x, y):\n",
    "        self.x = x\n",
    "        self.y = y\n",
    "    def __eq__(self, other):\n",
    "        return self.x == other.x and self.y == other.y"
   ]
  },
  {
   "cell_type": "code",
   "execution_count": 33,
   "id": "c7938130-e3d8-4553-8157-2b10731b4f50",
   "metadata": {},
   "outputs": [
    {
     "name": "stdout",
     "output_type": "stream",
     "text": [
      "True\n"
     ]
    }
   ],
   "source": [
    "p1 = Point(1, 2)\n",
    "p2 = Point(1, 2)\n",
    "print(p1 == p2) #comparing both of the object\n",
    "##when you are using == operator with point Objects, python internally calls __add__"
   ]
  },
  {
   "cell_type": "code",
   "execution_count": 34,
   "id": "70d12288-c939-463e-87e6-2cfc21e4cb41",
   "metadata": {},
   "outputs": [
    {
     "name": "stdout",
     "output_type": "stream",
     "text": [
      "False\n"
     ]
    }
   ],
   "source": [
    "p1 = Point(3, 2)\n",
    "p2 = Point(1, 2)\n",
    "print(p1 == p2)"
   ]
  },
  {
   "cell_type": "code",
   "execution_count": 35,
   "id": "25f7f242-5bb7-4caa-a86f-021f304e7c64",
   "metadata": {},
   "outputs": [],
   "source": [
    "class Point:\n",
    "    def __init__(self, x, y):\n",
    "        self.x = x\n",
    "        self.y = y\n",
    "    def __add__(self, other):\n",
    "        return Point(self.x + other.x,  self.y + other.y)"
   ]
  },
  {
   "cell_type": "code",
   "execution_count": 37,
   "id": "8a4aae1d-5bbf-4230-b85d-4c4dd2626584",
   "metadata": {},
   "outputs": [
    {
     "name": "stdout",
     "output_type": "stream",
     "text": [
      "2 4\n"
     ]
    }
   ],
   "source": [
    "p1 = Point(1, 2)\n",
    "p2 = Point(1, 2)\n",
    "p3 = p1+p2 #when you are using + operator with point Objects, python internally calls __add__\n",
    "print(p3.x, p3.y)"
   ]
  },
  {
   "cell_type": "markdown",
   "id": "a4a5c5d2-e928-422e-bc9e-5b665b401336",
   "metadata": {},
   "source": [
    "# Decorators"
   ]
  },
  {
   "cell_type": "code",
   "execution_count": 38,
   "id": "7af3d8b9-09b9-4729-9a49-a7b345c70a75",
   "metadata": {},
   "outputs": [],
   "source": [
    "#decorators>> allows to modify or extend the behaviour or functions/class without directly modifying their  original code\n",
    "#similar to you decorating your room (putting different lights, sticker, posters)>>extends/decorates the basic behaviour of room"
   ]
  },
  {
   "cell_type": "code",
   "execution_count": 11,
   "id": "0726d044-e539-4b36-8b3a-bd7686474b01",
   "metadata": {},
   "outputs": [],
   "source": [
    "#function decorators and class decorators\n",
    "\n",
    "#function decorators"
   ]
  },
  {
   "cell_type": "markdown",
   "id": "6a8705ac-f9c4-4f48-83a5-f5d7ed270569",
   "metadata": {},
   "source": [
    "\n",
    "\n",
    "[ ]\n",
    "#decorators>> allows to modify or extend the behaviour or functions/class without directly modifying their  original code\n",
    "#similar to you decorating your room (putting different lights, sticker, posters)>>extends/decorates the basic behaviour of room\n",
    "\n",
    "\n",
    "[ ]\n",
    "#function decorators and class decorators\n",
    "\n",
    "#function decorators\n",
    "To understand use case>> say you want to use the line before compuation and after computation after each time you create a function or call function. So it will take a lot of time to type the lines repeatatively\n",
    "And thatwhy the concept of decorators comes into the picture\n",
    "\n",
    "To understand use case>> say you want to use the line before compuation and after computation after each time you create a function or call function. So it will take a lot of time to type the lines repeatatively\n",
    "And thatwhy the concept of decorators comes into the picture\n"
   ]
  },
  {
   "cell_type": "code",
   "execution_count": 12,
   "id": "9326868b-ee71-4596-bc6e-bfb116e0b169",
   "metadata": {},
   "outputs": [],
   "source": [
    "\n",
    "def my_decorator_func():\n",
    "    print(\"The line before computation.\")\n",
    "    print(11*1200) #decorating the actual computation with line above and line below\n",
    "    print(\"The line after computation\")\n",
    "#In the above approach you have to write all the line as many times as you are creating the different functions\n",
    "#lets see the decorator approach"
   ]
  },
  {
   "cell_type": "code",
   "execution_count": 13,
   "id": "ac535894-8d3c-4f4d-9bb1-dd816ec16df9",
   "metadata": {},
   "outputs": [
    {
     "name": "stdout",
     "output_type": "stream",
     "text": [
      "The line before computation.\n",
      "13200\n",
      "The line after computation\n"
     ]
    }
   ],
   "source": [
    "my_decorator_func()"
   ]
  },
  {
   "cell_type": "code",
   "execution_count": 14,
   "id": "b5b2a8af-a64b-4e7d-8594-bed463f8b832",
   "metadata": {},
   "outputs": [],
   "source": [
    "#decorator approach for functions>>use case 1\n",
    "def my_decorator(func): #decorator function that takes another func as arguement\n",
    "    def wrapper(): #wrapper is a nested function that adds the functionality before and after calling original func func\n",
    "        print(\"The line before computation.\")\n",
    "        func() #say_hello which is the func here will be executed here\n",
    "        print(\"The line after computation\")\n",
    "    return wrapper"
   ]
  },
  {
   "cell_type": "code",
   "execution_count": 15,
   "id": "e907fa0d-6849-44e1-8421-d4f3511cac61",
   "metadata": {},
   "outputs": [],
   "source": [
    "@my_decorator\n",
    "def say_hello():\n",
    "    print(\"Hello\")"
   ]
  },
  {
   "cell_type": "code",
   "execution_count": 16,
   "id": "0e31e4c3-e03a-43c5-98a5-be0ae96ec0d3",
   "metadata": {},
   "outputs": [
    {
     "name": "stdout",
     "output_type": "stream",
     "text": [
      "The line before computation.\n",
      "Hello\n",
      "The line after computation\n"
     ]
    }
   ],
   "source": [
    "say_hello()\n",
    "#when say_hello is called, it is actually first calling the decorator function>>\n",
    "#which in return is calling wrapper function and then wrapped function is printing the line\n",
    "#and callig the say_hello function"
   ]
  },
  {
   "cell_type": "code",
   "execution_count": 17,
   "id": "94b8d091-c434-48cc-bdb8-e7d3c329250d",
   "metadata": {},
   "outputs": [],
   "source": [
    "#another use case of function decorator\n",
    "#run time of a code\n",
    "\n",
    "import time\n",
    "def timer_decorator(func):\n",
    "    def timer():\n",
    "        start = time.time()\n",
    "        func()\n",
    "        end = time.time()\n",
    "        print(\"The time for executing the code\", end-start)\n",
    "    return timer"
   ]
  },
  {
   "cell_type": "code",
   "execution_count": 18,
   "id": "d307500a-db50-4367-86e6-34273739d232",
   "metadata": {},
   "outputs": [],
   "source": [
    "@timer_decorator\n",
    "def func_test():\n",
    "    print(1000000000100*1000)"
   ]
  },
  {
   "cell_type": "code",
   "execution_count": 19,
   "id": "73481a78-8b69-4df1-a3f4-8b1bdeabe96c",
   "metadata": {},
   "outputs": [
    {
     "name": "stdout",
     "output_type": "stream",
     "text": [
      "1000000000100000\n",
      "The time for executing the code 5.4836273193359375e-05\n"
     ]
    }
   ],
   "source": [
    "func_test()"
   ]
  },
  {
   "cell_type": "code",
   "execution_count": 20,
   "id": "3d936306-a320-4c45-82ce-e3bdcd01c742",
   "metadata": {},
   "outputs": [],
   "source": [
    "#why do need decorators?\n",
    "#reusability of code >> reuse the common code\n",
    "#enhancing the function without modifying the original function\n",
    "#use cases>> execution time of code, logging, caching, validation"
   ]
  },
  {
   "cell_type": "code",
   "execution_count": 25,
   "id": "467f8b70-8bcc-4b93-8352-9029da646aea",
   "metadata": {},
   "outputs": [],
   "source": [
    "#class decorators>>\n",
    "class MyDecorator:\n",
    "    def __init__(self, func): #similar to function decorator you are passing func in class decorator\n",
    "        self.func=func\n",
    "        print(\"Inside the init method\")\n",
    "    def __call__(self): \n",
    "        print(\"Something is happening before function.\")\n",
    "        self.func()\n",
    "        print(\"Something is happening after function.\")"
   ]
  },
  {
   "cell_type": "code",
   "execution_count": 26,
   "id": "05016c78-8a87-4ceb-9f00-c18b11c9c040",
   "metadata": {},
   "outputs": [
    {
     "name": "stdout",
     "output_type": "stream",
     "text": [
      "Inside the init method\n",
      "Something is happening before function.\n",
      "Hello\n",
      "Something is happening after function.\n"
     ]
    }
   ],
   "source": [
    "@MyDecorator #class __call__ will be executed as the object if the class will be called as function>> so first __init__ and then __call__method will be executed\n",
    "def say_hello():\n",
    "    print(\"Hello\")\n",
    "say_hello()"
   ]
  },
  {
   "cell_type": "markdown",
   "id": "983597b6-ace0-42c3-95e9-f4f0345b5243",
   "metadata": {},
   "source": [
    "call is special method which is called/invoked when you call instance/object of the class as a function"
   ]
  },
  {
   "cell_type": "code",
   "execution_count": 30,
   "id": "66f4d23c-084c-404f-81b4-f9991b19e92b",
   "metadata": {},
   "outputs": [
    {
     "name": "stdout",
     "output_type": "stream",
     "text": [
      "Inside the init method\n"
     ]
    }
   ],
   "source": [
    "class MyDecorator:\n",
    "    def __init__(self): #similar to function decorator you are passing func in class decorator\n",
    "        # self.func=func\n",
    "        print(\"Inside the init method\")\n",
    "    def __call__(self): \n",
    "        print(\"Something is happening before function.\")\n",
    "        # self.func()\n",
    "        print(\"Something is happening after function.\")\n",
    "        \n",
    "obj1 = MyDecorator()#when you make an object of the class, init is executed first"
   ]
  },
  {
   "cell_type": "code",
   "execution_count": 31,
   "id": "1bd2ee1f-3d1c-40e4-a427-91ed20b89f92",
   "metadata": {},
   "outputs": [
    {
     "name": "stdout",
     "output_type": "stream",
     "text": [
      "Something is happening before function.\n",
      "Something is happening after function.\n"
     ]
    }
   ],
   "source": [
    "obj1() #when you call an object of a class as function __call__ method will be invoked"
   ]
  },
  {
   "cell_type": "code",
   "execution_count": 35,
   "id": "cf319e46-3d88-4795-8234-9058b5cc0fdd",
   "metadata": {},
   "outputs": [],
   "source": [
    "#\"@classmethod\" is not an allowed annotation - allowed values include [@param, @title, @markdown].\n",
    "\n",
    "\n",
    "#some inbuilt decorators >> details in the next class \n",
    "#@classmethod >> The method that takes the class itself as the first argument"
   ]
  },
  {
   "cell_type": "code",
   "execution_count": 37,
   "id": "699dc894-7eaf-4270-9bd8-b83017112bc9",
   "metadata": {},
   "outputs": [],
   "source": [
    "class Math:\n",
    "    @classmethod #takes reference to the class itself to modify and access class level attributes\n",
    "    def add(cls, x, y):\n",
    "        return cls.__name__, x * y  #cls.__name__>> class Math"
   ]
  },
  {
   "cell_type": "code",
   "execution_count": 38,
   "id": "7a7746e1-ffd2-4444-adfb-4154a3330983",
   "metadata": {},
   "outputs": [
    {
     "data": {
      "text/plain": [
       "('Math', 15)"
      ]
     },
     "execution_count": 38,
     "metadata": {},
     "output_type": "execute_result"
    }
   ],
   "source": [
    "#you dontt need any init method to take data\n",
    "Math.add(3, 5)"
   ]
  },
  {
   "cell_type": "code",
   "execution_count": 39,
   "id": "1fac10cc-c744-43e3-b7b6-95eee3f7c0eb",
   "metadata": {},
   "outputs": [],
   "source": [
    "#class method is bound to class and not the instance of the class,\n",
    "#class itsef as the first argument>> conventionally cls"
   ]
  },
  {
   "cell_type": "code",
   "execution_count": 40,
   "id": "01eed55c-7a79-405f-aa38-1376d9ba6cf1",
   "metadata": {},
   "outputs": [],
   "source": [
    "#next inbuild decorator is static method\n",
    "#static method>> the method which can be called without creating any instance of class, adn without using self or self"
   ]
  },
  {
   "cell_type": "code",
   "execution_count": 41,
   "id": "c4c50826-5ba4-4d54-b959-3b9ee6a25686",
   "metadata": {},
   "outputs": [],
   "source": [
    "#earlier\n",
    "class Math:\n",
    "    def add(self, x, y):\n",
    "        return x+y"
   ]
  },
  {
   "cell_type": "code",
   "execution_count": 42,
   "id": "4363d21d-a3e4-4a26-9250-98cc8b6d3526",
   "metadata": {},
   "outputs": [],
   "source": [
    "a = Math() #make object/instance"
   ]
  },
  {
   "cell_type": "code",
   "execution_count": 43,
   "id": "d1dc07ca-ab26-4b05-8338-855427262676",
   "metadata": {},
   "outputs": [
    {
     "data": {
      "text/plain": [
       "5"
      ]
     },
     "execution_count": 43,
     "metadata": {},
     "output_type": "execute_result"
    }
   ],
   "source": [
    "a.add(2, 3) #this is the way to call regular class method"
   ]
  },
  {
   "cell_type": "code",
   "execution_count": 44,
   "id": "48749c9e-3fc3-4711-a70f-cc785bb6b65c",
   "metadata": {},
   "outputs": [],
   "source": [
    "#use of static method\n",
    "class Math:\n",
    "    @staticmethod\n",
    "    def add(x, y): #no need of self or cls\n",
    "        return x+y"
   ]
  },
  {
   "cell_type": "code",
   "execution_count": 45,
   "id": "4f71d726-1e2b-4aa1-97a8-39278692ed6c",
   "metadata": {},
   "outputs": [
    {
     "data": {
      "text/plain": [
       "5"
      ]
     },
     "execution_count": 45,
     "metadata": {},
     "output_type": "execute_result"
    }
   ],
   "source": [
    "Math.add(2, 3) #no need of making any object"
   ]
  },
  {
   "cell_type": "code",
   "execution_count": 46,
   "id": "1469ed32-a812-481c-8f29-59233b21ad63",
   "metadata": {},
   "outputs": [],
   "source": [
    "#class method to be used when you want to modify class level data\n",
    "#static method>> when you dont want to interact with class level data"
   ]
  },
  {
   "cell_type": "code",
   "execution_count": 47,
   "id": "1bc92127-f8bb-4fee-b9f0-437a0d7bb3da",
   "metadata": {},
   "outputs": [],
   "source": [
    "#property decorator>>It allows method to be accessed as attribute"
   ]
  },
  {
   "cell_type": "code",
   "execution_count": 48,
   "id": "db09dd94-70e1-4978-a85d-ddfafdf18bd1",
   "metadata": {},
   "outputs": [],
   "source": [
    "class Circle:\n",
    "    def __init__(self, radius):\n",
    "        self.radius = radius"
   ]
  },
  {
   "cell_type": "code",
   "execution_count": 49,
   "id": "ec030dda-eeb3-461e-bac0-8a531b0f1640",
   "metadata": {},
   "outputs": [],
   "source": [
    "obj = Circle(5)"
   ]
  },
  {
   "cell_type": "code",
   "execution_count": 50,
   "id": "f956ce54-dd75-4ce8-bbfa-5e7112be8f31",
   "metadata": {},
   "outputs": [
    {
     "data": {
      "text/plain": [
       "5"
      ]
     },
     "execution_count": 50,
     "metadata": {},
     "output_type": "execute_result"
    }
   ],
   "source": [
    "obj.radius #accessing data/attibute"
   ]
  },
  {
   "cell_type": "code",
   "execution_count": 51,
   "id": "cede21bb-829e-420b-ab2f-ca13ebda75df",
   "metadata": {},
   "outputs": [],
   "source": [
    "class Circle:\n",
    "    def __init__(self, radius):\n",
    "        self.radius = radius\n",
    "    def area(self):\n",
    "        radius = self.radius\n",
    "        return 3.14*radius**2"
   ]
  },
  {
   "cell_type": "code",
   "execution_count": 52,
   "id": "4121a894-726e-43ca-82c6-13a2f3cdb748",
   "metadata": {},
   "outputs": [
    {
     "data": {
      "text/plain": [
       "5"
      ]
     },
     "execution_count": 52,
     "metadata": {},
     "output_type": "execute_result"
    }
   ],
   "source": [
    "obj = Circle(5)\n",
    "obj.radius"
   ]
  },
  {
   "cell_type": "code",
   "execution_count": 53,
   "id": "8eb585b6-840d-467b-994e-9c894e7e4c03",
   "metadata": {},
   "outputs": [
    {
     "data": {
      "text/plain": [
       "78.5"
      ]
     },
     "execution_count": 53,
     "metadata": {},
     "output_type": "execute_result"
    }
   ],
   "source": [
    "obj.area() #earlier"
   ]
  },
  {
   "cell_type": "code",
   "execution_count": 54,
   "id": "9c364190-d5b9-49a2-a95c-355958eec89a",
   "metadata": {},
   "outputs": [
    {
     "data": {
      "text/plain": [
       "78.5"
      ]
     },
     "execution_count": 54,
     "metadata": {},
     "output_type": "execute_result"
    }
   ],
   "source": [
    "3.14*5**2"
   ]
  },
  {
   "cell_type": "code",
   "execution_count": 56,
   "id": "528d3d1b-3cc3-46eb-ac6b-0cde37c1a196",
   "metadata": {},
   "outputs": [],
   "source": [
    "#using proerty decorator\n",
    "class Circle:\n",
    "    def __init__(self, radius):\n",
    "        self.radius = radius\n",
    "    @property\n",
    "    def area(self):\n",
    "        radius = self.radius\n",
    "        return 3.14*radius**2"
   ]
  },
  {
   "cell_type": "code",
   "execution_count": 57,
   "id": "982773a0-dde1-4787-a05c-0642900c30cb",
   "metadata": {},
   "outputs": [
    {
     "data": {
      "text/plain": [
       "78.5"
      ]
     },
     "execution_count": 57,
     "metadata": {},
     "output_type": "execute_result"
    }
   ],
   "source": [
    "obj1 = Circle(5)\n",
    "obj1.area #no need of parenthis"
   ]
  },
  {
   "cell_type": "code",
   "execution_count": 59,
   "id": "33c45dbd-08db-4c2d-a5b3-fa5fc83e0e72",
   "metadata": {},
   "outputs": [],
   "source": [
    "#proparty decortor"
   ]
  },
  {
   "cell_type": "code",
   "execution_count": 60,
   "id": "9908ed85-4b01-4198-a6a0-29ce2b449d24",
   "metadata": {},
   "outputs": [],
   "source": [
    "#property decorators >> you are allowed to use class method as an attribute"
   ]
  },
  {
   "cell_type": "code",
   "execution_count": 61,
   "id": "f0b3a015-90dd-4d61-a948-25ea25716369",
   "metadata": {},
   "outputs": [],
   "source": [
    "class Student:\n",
    "    def __init__(self, name, price):\n",
    "        self.__name = name\n",
    "        self.__price = price"
   ]
  },
  {
   "cell_type": "code",
   "execution_count": 62,
   "id": "6ee88c60-e531-464e-a791-79b898dc459f",
   "metadata": {},
   "outputs": [],
   "source": [
    "#here name and price are private variables which you will not be able to acces from outside the class\n",
    "stud = Student(\"Ajay\", 3000)"
   ]
  },
  {
   "cell_type": "code",
   "execution_count": 63,
   "id": "8474981d-e252-48db-9d6a-114bf7746d40",
   "metadata": {},
   "outputs": [
    {
     "ename": "AttributeError",
     "evalue": "'Student' object has no attribute 'name'",
     "output_type": "error",
     "traceback": [
      "\u001b[0;31m---------------------------------------------------------------------------\u001b[0m",
      "\u001b[0;31mAttributeError\u001b[0m                            Traceback (most recent call last)",
      "Cell \u001b[0;32mIn[63], line 1\u001b[0m\n\u001b[0;32m----> 1\u001b[0m \u001b[43mstud\u001b[49m\u001b[38;5;241;43m.\u001b[39;49m\u001b[43mname\u001b[49m \u001b[38;5;66;03m#error as name and price private variables\u001b[39;00m\n",
      "\u001b[0;31mAttributeError\u001b[0m: 'Student' object has no attribute 'name'"
     ]
    }
   ],
   "source": [
    "stud.name #error as name and price private variables"
   ]
  },
  {
   "cell_type": "code",
   "execution_count": 65,
   "id": "0698767b-e77f-4811-aa9a-0b0f7c8cb6e5",
   "metadata": {},
   "outputs": [
    {
     "data": {
      "text/plain": [
       "'Ajay'"
      ]
     },
     "execution_count": 65,
     "metadata": {},
     "output_type": "execute_result"
    }
   ],
   "source": [
    "#still you can access private variable if you know structure of the class\n",
    "stud._Student__name #using class name and exact variable name"
   ]
  },
  {
   "cell_type": "code",
   "execution_count": 66,
   "id": "87a24932-7126-4d63-8ec0-b150ae09bd2c",
   "metadata": {},
   "outputs": [],
   "source": [
    "#another way to expose private variables using property decorators"
   ]
  },
  {
   "cell_type": "code",
   "execution_count": 67,
   "id": "ed5b092c-9fd0-4c80-b918-05ed4030a90b",
   "metadata": {},
   "outputs": [],
   "source": [
    "#another way to expose private variables using property decorators\n",
    "\n",
    "class Student:\n",
    "    def __init__(self, name, price):\n",
    "        self.__name = name\n",
    "        self.__price = price\n",
    "    @property\n",
    "    def access_price(self):\n",
    "        return self.__price"
   ]
  },
  {
   "cell_type": "code",
   "execution_count": 68,
   "id": "2fb064e2-d967-4ef1-bd1e-3ca4afaff333",
   "metadata": {},
   "outputs": [],
   "source": [
    "stud = Student(\"Ajay\", 5000)"
   ]
  },
  {
   "cell_type": "code",
   "execution_count": 69,
   "id": "857fbd8a-a267-4a83-b1bc-6741503081c0",
   "metadata": {},
   "outputs": [
    {
     "data": {
      "text/plain": [
       "5000"
      ]
     },
     "execution_count": 69,
     "metadata": {},
     "output_type": "execute_result"
    }
   ],
   "source": [
    "stud.access_price"
   ]
  },
  {
   "cell_type": "code",
   "execution_count": 70,
   "id": "01e6e295-60e6-4284-b2be-a9138af638cf",
   "metadata": {},
   "outputs": [],
   "source": [
    "#you want to modify the price\n",
    "class Student:\n",
    "    def __init__(self, name, price):\n",
    "        self.__name = name\n",
    "        self.__price = price\n",
    "   \n",
    "    @property\n",
    "    def access_price(self):\n",
    "        return self.__price\n",
    "    \n",
    "    @access_price.setter\n",
    "    def price_set(self, price_new):\n",
    "        self.__price = price_new"
   ]
  },
  {
   "cell_type": "code",
   "execution_count": 71,
   "id": "d7043e10-99ca-4077-8690-ae5909a31c9a",
   "metadata": {},
   "outputs": [],
   "source": [
    "stud = Student(\"Ajay\", 5000)"
   ]
  },
  {
   "cell_type": "code",
   "execution_count": 72,
   "id": "2edd129b-ce87-4f18-bfc6-be734fe6b693",
   "metadata": {},
   "outputs": [
    {
     "data": {
      "text/plain": [
       "5000"
      ]
     },
     "execution_count": 72,
     "metadata": {},
     "output_type": "execute_result"
    }
   ],
   "source": [
    "stud.access_price"
   ]
  },
  {
   "cell_type": "code",
   "execution_count": 73,
   "id": "e51ea9e1-bfe0-44db-aecf-431ff23fc9c7",
   "metadata": {},
   "outputs": [],
   "source": [
    "stud.price_set = 1500"
   ]
  },
  {
   "cell_type": "code",
   "execution_count": 74,
   "id": "07b4df75-a302-430b-bad6-3ba88ba4fdb7",
   "metadata": {},
   "outputs": [
    {
     "data": {
      "text/plain": [
       "1500"
      ]
     },
     "execution_count": 74,
     "metadata": {},
     "output_type": "execute_result"
    }
   ],
   "source": [
    "stud.access_price"
   ]
  },
  {
   "cell_type": "code",
   "execution_count": 31,
   "id": "4cd86b68-c326-4afa-be17-c0dbb1597d61",
   "metadata": {},
   "outputs": [],
   "source": [
    "#delete a variable\n",
    "\n",
    "class Student:\n",
    "    def __init__(self, name, price):\n",
    "        self.__name = name\n",
    "        self.__price = price\n",
    "   \n",
    "    @property\n",
    "    def access_price(self):\n",
    "        return self.__price\n",
    "    \n",
    "    @access_price.setter\n",
    "    def price_set(self, price_new): #if you want you  dont show  change new price  then you just write same name\n",
    "        self.__price = price_new\n",
    "    \n",
    "    @access_price.deleter\n",
    "    def del_price(self, price_new):\n",
    "        del self.__price "
   ]
  },
  {
   "cell_type": "code",
   "execution_count": 35,
   "id": "a9c1bb4e-dfd4-4aa7-b668-74b1511c2b1c",
   "metadata": {},
   "outputs": [],
   "source": [
    "stud = Student(\"Ajay\", 15000)"
   ]
  },
  {
   "cell_type": "code",
   "execution_count": 23,
   "id": "27bf2a61-f5a3-40a8-9266-00ce379ca192",
   "metadata": {},
   "outputs": [
    {
     "data": {
      "text/plain": [
       "15000"
      ]
     },
     "execution_count": 23,
     "metadata": {},
     "output_type": "execute_result"
    }
   ],
   "source": [
    "stud.access_price"
   ]
  },
  {
   "cell_type": "code",
   "execution_count": 24,
   "id": "483c06d9-fd17-4c65-9327-8c26ee45229a",
   "metadata": {},
   "outputs": [],
   "source": [
    "stud.price_set = 20564"
   ]
  },
  {
   "cell_type": "code",
   "execution_count": 25,
   "id": "bca52ede-c4d0-49b9-8462-55e089b3dee8",
   "metadata": {},
   "outputs": [],
   "source": [
    "stud.price_set = 25252"
   ]
  },
  {
   "cell_type": "code",
   "execution_count": 37,
   "id": "ae8ebb27-baf6-4262-bdbe-29cec7230baf",
   "metadata": {},
   "outputs": [
    {
     "data": {
      "text/plain": [
       "15000"
      ]
     },
     "execution_count": 37,
     "metadata": {},
     "output_type": "execute_result"
    }
   ],
   "source": [
    "stud.del_price"
   ]
  },
  {
   "cell_type": "code",
   "execution_count": 38,
   "id": "9c78d7c5-07cb-45d7-aa11-2625baf34a0b",
   "metadata": {},
   "outputs": [
    {
     "data": {
      "text/plain": [
       "15000"
      ]
     },
     "execution_count": 38,
     "metadata": {},
     "output_type": "execute_result"
    }
   ],
   "source": [
    "stud.access_price"
   ]
  },
  {
   "cell_type": "code",
   "execution_count": 28,
   "id": "5c68c8e6-fd01-4f89-baea-77fa6a4fe4a5",
   "metadata": {},
   "outputs": [
    {
     "data": {
      "text/plain": [
       "25252"
      ]
     },
     "execution_count": 28,
     "metadata": {},
     "output_type": "execute_result"
    }
   ],
   "source": [
    "stud.del_price"
   ]
  },
  {
   "cell_type": "code",
   "execution_count": 29,
   "id": "c81570be-90dc-42f5-935c-4787521efa81",
   "metadata": {},
   "outputs": [
    {
     "data": {
      "text/plain": [
       "25252"
      ]
     },
     "execution_count": 29,
     "metadata": {},
     "output_type": "execute_result"
    }
   ],
   "source": [
    "stud.access_price"
   ]
  },
  {
   "cell_type": "code",
   "execution_count": 119,
   "id": "ecff7432-f80a-4a7e-9e89-cf94a4c00961",
   "metadata": {},
   "outputs": [],
   "source": [
    "#delete a variable\n",
    "\n",
    "class Student:\n",
    "    def __init__(self, name, price):\n",
    "        self.__name = name\n",
    "        self.__price = price\n",
    "   \n",
    "    @property\n",
    "    def access_price(self):\n",
    "        return self.__price      # here you see you dont chage the  acess price if you change its doessnt neeed  change the price\n",
    "    \n",
    "    @access_price.setter\n",
    "    def access_price(self, price_new):\n",
    "        self.__price = price_new\n",
    "    \n",
    "    @access_price.deleter\n",
    "    def access_price(self):\n",
    "        del self.__price"
   ]
  },
  {
   "cell_type": "code",
   "execution_count": 120,
   "id": "1320313e-e928-4d42-9f03-27cffc6b49e4",
   "metadata": {},
   "outputs": [],
   "source": [
    "stud = Student(\"Ajay\", 15000)"
   ]
  },
  {
   "cell_type": "code",
   "execution_count": 121,
   "id": "ad999d55-ba1f-4cb5-bb99-c948e1aa759c",
   "metadata": {},
   "outputs": [
    {
     "data": {
      "text/plain": [
       "15000"
      ]
     },
     "execution_count": 121,
     "metadata": {},
     "output_type": "execute_result"
    }
   ],
   "source": [
    "stud.access_price"
   ]
  },
  {
   "cell_type": "code",
   "execution_count": 122,
   "id": "5d2bddad-5307-488c-a3a7-4293a0b7062e",
   "metadata": {},
   "outputs": [],
   "source": [
    "stud.price_set = 2651"
   ]
  },
  {
   "cell_type": "code",
   "execution_count": 123,
   "id": "2967dd82-6a66-4ce8-8846-0a2f9773f193",
   "metadata": {},
   "outputs": [
    {
     "data": {
      "text/plain": [
       "15000"
      ]
     },
     "execution_count": 123,
     "metadata": {},
     "output_type": "execute_result"
    }
   ],
   "source": [
    "stud.access_price #see its doset change"
   ]
  },
  {
   "cell_type": "code",
   "execution_count": 125,
   "id": "b8aeaf48-97c5-449a-b390-45a0e59e7290",
   "metadata": {},
   "outputs": [],
   "source": [
    "del stud.access_price"
   ]
  },
  {
   "cell_type": "code",
   "execution_count": 126,
   "id": "cbb21713-5ec4-4b83-b653-1ecc986886a5",
   "metadata": {},
   "outputs": [
    {
     "ename": "AttributeError",
     "evalue": "'Student' object has no attribute '_Student__price'",
     "output_type": "error",
     "traceback": [
      "\u001b[0;31m---------------------------------------------------------------------------\u001b[0m",
      "\u001b[0;31mAttributeError\u001b[0m                            Traceback (most recent call last)",
      "Cell \u001b[0;32mIn[126], line 1\u001b[0m\n\u001b[0;32m----> 1\u001b[0m \u001b[43mstud\u001b[49m\u001b[38;5;241;43m.\u001b[39;49m\u001b[43maccess_price\u001b[49m\n",
      "Cell \u001b[0;32mIn[119], line 10\u001b[0m, in \u001b[0;36mStudent.access_price\u001b[0;34m(self)\u001b[0m\n\u001b[1;32m      8\u001b[0m \u001b[38;5;129m@property\u001b[39m\n\u001b[1;32m      9\u001b[0m \u001b[38;5;28;01mdef\u001b[39;00m \u001b[38;5;21maccess_price\u001b[39m(\u001b[38;5;28mself\u001b[39m):\n\u001b[0;32m---> 10\u001b[0m     \u001b[38;5;28;01mreturn\u001b[39;00m \u001b[38;5;28;43mself\u001b[39;49m\u001b[38;5;241;43m.\u001b[39;49m\u001b[43m__price\u001b[49m\n",
      "\u001b[0;31mAttributeError\u001b[0m: 'Student' object has no attribute '_Student__price'"
     ]
    }
   ],
   "source": [
    "stud.access_price"
   ]
  },
  {
   "cell_type": "code",
   "execution_count": 127,
   "id": "06d388c7-5e0c-41b3-b0d8-efcf66f813db",
   "metadata": {},
   "outputs": [],
   "source": [
    "#use case\n",
    "class Circle:\n",
    "    def __init__(self, radius):\n",
    "        self.__radius = radius\n",
    "        \n",
    "    @property\n",
    "    def radius(self):\n",
    "        return self.__radius"
   ]
  },
  {
   "cell_type": "code",
   "execution_count": 128,
   "id": "4ecca521-7edb-4886-a3ee-218694af07a4",
   "metadata": {},
   "outputs": [],
   "source": [
    "c = Circle(5)"
   ]
  },
  {
   "cell_type": "code",
   "execution_count": 129,
   "id": "d509a344-c10c-4077-9430-862394279a08",
   "metadata": {},
   "outputs": [
    {
     "data": {
      "text/plain": [
       "5"
      ]
     },
     "execution_count": 129,
     "metadata": {},
     "output_type": "execute_result"
    }
   ],
   "source": [
    "c.radius"
   ]
  },
  {
   "cell_type": "code",
   "execution_count": null,
   "id": "cad8e4ed-77b3-4d92-ac50-0de3ec219395",
   "metadata": {},
   "outputs": [],
   "source": [
    "class Circle:\n",
    "    def __init__(self, radius):\n",
    "        self.__radius = radius\n",
    "        \n",
    "    @property\n",
    "    def radius(self):\n",
    "        return self.__radius\n",
    "    @radius.setter\n",
    "    def radius(self, value):\n",
    "        if value <= 0:\n",
    "            raise ValueError(\"Radius is not positive\")\n",
    "        self.__radius = value\n",
    "    def area(self):\n",
    "        return 3.14*self.__radius*self.__radius"
   ]
  },
  {
   "cell_type": "code",
   "execution_count": null,
   "id": "bb4e8f50-dad4-427c-a672-4f214426e9cc",
   "metadata": {},
   "outputs": [],
   "source": [
    "c = Circle(5)"
   ]
  },
  {
   "cell_type": "code",
   "execution_count": null,
   "id": "c3ba91cd-3cda-495a-99cc-96de86585514",
   "metadata": {},
   "outputs": [],
   "source": [
    "c.area()"
   ]
  },
  {
   "cell_type": "code",
   "execution_count": 134,
   "id": "1dab0549-4a11-4a0a-b353-06aad4b1885f",
   "metadata": {},
   "outputs": [
    {
     "data": {
      "text/plain": [
       "5"
      ]
     },
     "execution_count": 134,
     "metadata": {},
     "output_type": "execute_result"
    }
   ],
   "source": [
    "c.radius"
   ]
  }
 ],
 "metadata": {
  "kernelspec": {
   "display_name": "Python 3 (ipykernel)",
   "language": "python",
   "name": "python3"
  },
  "language_info": {
   "codemirror_mode": {
    "name": "ipython",
    "version": 3
   },
   "file_extension": ".py",
   "mimetype": "text/x-python",
   "name": "python",
   "nbconvert_exporter": "python",
   "pygments_lexer": "ipython3",
   "version": "3.10.8"
  }
 },
 "nbformat": 4,
 "nbformat_minor": 5
}
