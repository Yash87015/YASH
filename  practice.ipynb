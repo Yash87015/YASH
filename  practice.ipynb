{
 "cells": [
  {
   "cell_type": "code",
   "execution_count": 1,
   "id": "fcb5611e-76fc-478d-a469-b8badcc0c66d",
   "metadata": {},
   "outputs": [
    {
     "data": {
      "text/plain": [
       "'\\x01'"
      ]
     },
     "execution_count": 1,
     "metadata": {},
     "output_type": "execute_result"
    }
   ],
   "source": [
    "chr(1)"
   ]
  },
  {
   "cell_type": "code",
   "execution_count": 3,
   "id": "4909d978-eaff-4470-ac65-ea065fc0e5a5",
   "metadata": {},
   "outputs": [
    {
     "data": {
      "text/plain": [
       "97"
      ]
     },
     "execution_count": 3,
     "metadata": {},
     "output_type": "execute_result"
    }
   ],
   "source": [
    "ord(\"a\")"
   ]
  },
  {
   "cell_type": "code",
   "execution_count": 4,
   "id": "4d35c407-d767-4ade-b68e-10b04b8100bc",
   "metadata": {},
   "outputs": [
    {
     "data": {
      "text/plain": [
       "'llikswp'"
      ]
     },
     "execution_count": 4,
     "metadata": {},
     "output_type": "execute_result"
    }
   ],
   "source": [
    "a = \"pwskill\"\n",
    "a[::-1]"
   ]
  },
  {
   "cell_type": "code",
   "execution_count": 17,
   "id": "496a87fa-6a88-4e5f-9459-4424b77b197d",
   "metadata": {},
   "outputs": [
    {
     "data": {
      "text/plain": [
       "'student'"
      ]
     },
     "execution_count": 17,
     "metadata": {},
     "output_type": "execute_result"
    }
   ],
   "source": [
    "a.replace(\"pwskill\",\"student\")"
   ]
  },
  {
   "cell_type": "code",
   "execution_count": 18,
   "id": "1587f26a-6978-43ae-bcc5-22e64c2e4041",
   "metadata": {},
   "outputs": [
    {
     "data": {
      "text/plain": [
       "'pwskill'"
      ]
     },
     "execution_count": 18,
     "metadata": {},
     "output_type": "execute_result"
    }
   ],
   "source": [
    "a"
   ]
  },
  {
   "cell_type": "code",
   "execution_count": 19,
   "id": "cdb07b99-2688-4b1b-b2ec-c596057e0764",
   "metadata": {},
   "outputs": [],
   "source": [
    "l = [\"aabra\",\"aabraka daabra\",\"aaabrakadaabra\"]\n",
    "#give a list of string find the longest common prefix"
   ]
  },
  {
   "cell_type": "code",
   "execution_count": 20,
   "id": "227c8269-e8a1-441f-9ea4-d85819327b1c",
   "metadata": {},
   "outputs": [
    {
     "data": {
      "text/plain": [
       "'Come as soon as possible. beacuse you only leave once. before dyoe'"
      ]
     },
     "execution_count": 20,
     "metadata": {},
     "output_type": "execute_result"
    }
   ],
   "source": [
    "test = \"Come asap. beacuse yolo. before dyoe\"\n",
    "test.replace(\"asap\",\"as soon as possible\").replace(\"yolo\",\"you only leave once\")."
   ]
  },
  {
   "cell_type": "code",
   "execution_count": 22,
   "id": "fedce392-c2ea-4362-8801-26de6ea21882",
   "metadata": {},
   "outputs": [
    {
     "data": {
      "text/plain": [
       "'Come asap. beacuse yolo. before dyoe'"
      ]
     },
     "execution_count": 22,
     "metadata": {},
     "output_type": "execute_result"
    }
   ],
   "source": [
    "test.capitalize()"
   ]
  },
  {
   "cell_type": "code",
   "execution_count": 23,
   "id": "ae84c27d-9eb1-4568-a95e-2d4284d087c7",
   "metadata": {},
   "outputs": [
    {
     "data": {
      "text/plain": [
       "False"
      ]
     },
     "execution_count": 23,
     "metadata": {},
     "output_type": "execute_result"
    }
   ],
   "source": [
    "s = \"hello\"\n",
    "s1 = \"Hello\"\n",
    "s == s1"
   ]
  },
  {
   "cell_type": "code",
   "execution_count": 30,
   "id": "3b91689c-1404-4d26-97cb-d2e915b5a061",
   "metadata": {},
   "outputs": [
    {
     "data": {
      "text/plain": [
       "['ab tumare havale vatan sathiyo', 'zinda hu', 'zingalaa']"
      ]
     },
     "execution_count": 30,
     "metadata": {},
     "output_type": "execute_result"
    }
   ],
   "source": [
    "s = \"zinda hu\",\"ab tumare havale vatan sathiyo\",\"zingalaa\"\n",
    "sorted(s)"
   ]
  },
  {
   "cell_type": "code",
   "execution_count": 34,
   "id": "136f4db2-e911-4ab6-9947-32d584676b21",
   "metadata": {},
   "outputs": [
    {
     "data": {
      "text/plain": [
       "['majo', 'kakuda', 'stree']"
      ]
     },
     "execution_count": 34,
     "metadata": {},
     "output_type": "execute_result"
    }
   ],
   "source": [
    "s = \"majo,kakuda,stree\"\n",
    "s.split(\",\")\n"
   ]
  },
  {
   "cell_type": "code",
   "execution_count": 44,
   "id": "bd0abde3-04b4-48cb-81e2-7df4a83eb6af",
   "metadata": {},
   "outputs": [
    {
     "data": {
      "text/plain": [
       "'majo,kakuda,stree'"
      ]
     },
     "execution_count": 44,
     "metadata": {},
     "output_type": "execute_result"
    }
   ],
   "source": [
    "\"\".join(s).replace(\" \",\",\")"
   ]
  },
  {
   "cell_type": "code",
   "execution_count": 57,
   "id": "ad9c6dbe-95fb-4ef9-b4ac-9a4fe36acb58",
   "metadata": {},
   "outputs": [],
   "source": [
    "data = \"Ajay,   teacher, ds    \"  \n",
    "info=\"\".join(data)\n"
   ]
  },
  {
   "cell_type": "code",
   "execution_count": 52,
   "id": "7a40c366-7dc2-4c61-a9c0-ff5b4ed19f70",
   "metadata": {},
   "outputs": [
    {
     "data": {
      "text/plain": [
       "'teacher'"
      ]
     },
     "execution_count": 52,
     "metadata": {},
     "output_type": "execute_result"
    }
   ],
   "source": [
    "info[1].strip()"
   ]
  },
  {
   "cell_type": "code",
   "execution_count": 62,
   "id": "0fa40cf5-8d51-4eab-86fc-8938feb540b8",
   "metadata": {},
   "outputs": [],
   "source": [
    "Address=\"\"\" ABC colony\\n,pratap nagar hhunjhunpool\\n, navada\"\"\""
   ]
  },
  {
   "cell_type": "raw",
   "id": "dc3725c6-cc76-4365-b5fd-4c8ca7f09131",
   "metadata": {},
   "source": [
    "\\n for new line\n",
    "\\t for tab"
   ]
  },
  {
   "cell_type": "code",
   "execution_count": 70,
   "id": "5b326dcf-100d-4130-b4be-57a0eabcbdee",
   "metadata": {},
   "outputs": [
    {
     "name": "stdout",
     "output_type": "stream",
     "text": [
      "name\tcoursr\tfee\n",
      "Ajay\tDs\t2000\n"
     ]
    }
   ],
   "source": [
    "table = \"name\\tcoursr\\tfee\\nAjay\\tDs\\t2000\"\n",
    "print(table)"
   ]
  },
  {
   "cell_type": "code",
   "execution_count": null,
   "id": "fc39e821-1916-4298-83da-fbba3c0334ed",
   "metadata": {},
   "outputs": [],
   "source": []
  },
  {
   "cell_type": "code",
   "execution_count": 64,
   "id": "8c9c13d6-0af6-4559-96fe-d1c09da8e9a6",
   "metadata": {},
   "outputs": [
    {
     "name": "stdout",
     "output_type": "stream",
     "text": [
      " ABC colony\n",
      ",pratap nagar hhunjhunpool\n",
      ", navada\n"
     ]
    }
   ],
   "source": [
    "print(\"\"\" ABC colony\\n,pratap nagar hhunjhunpool\\n, navada\"\"\")"
   ]
  },
  {
   "cell_type": "code",
   "execution_count": 71,
   "id": "0d5b22c8-570d-411b-a3be-9dd60f8dbd9c",
   "metadata": {},
   "outputs": [],
   "source": [
    "#string formatting\n",
    "name = \"Ajay\""
   ]
  },
  {
   "cell_type": "code",
   "execution_count": 72,
   "id": "0dc2c15d-bbb6-489f-b8ad-3c8f96662517",
   "metadata": {},
   "outputs": [],
   "source": [
    "#f string >> formating string with variable placeholder "
   ]
  },
  {
   "cell_type": "code",
   "execution_count": 73,
   "id": "05d7b496-c563-4096-a3f6-0606f92862fd",
   "metadata": {},
   "outputs": [
    {
     "data": {
      "text/plain": [
       "'my coursename is data sciense and the duration is 4h.'"
      ]
     },
     "execution_count": 73,
     "metadata": {},
     "output_type": "execute_result"
    }
   ],
   "source": [
    "course = \"data sciense\"\n",
    "duration = \"4h\"\n",
    "\n",
    "f\"my coursename is {course} and the duration is {duration}.\""
   ]
  },
  {
   "cell_type": "code",
   "execution_count": 9,
   "id": "bfc024b2-0fc8-47be-abf3-d4f48ea6fa7c",
   "metadata": {},
   "outputs": [
    {
     "name": "stdout",
     "output_type": "stream",
     "text": [
      "ram is a good boy"
     ]
    }
   ],
   "source": [
    "s = \"ram is a good boy\"\n",
    "for i in s:\n",
    "    print(i, end = \"\")"
   ]
  },
  {
   "cell_type": "code",
   "execution_count": 15,
   "id": "1f03e753-1bb3-4174-91c3-dd867da10a8a",
   "metadata": {},
   "outputs": [
    {
     "name": "stdout",
     "output_type": "stream",
     "text": [
      "{'ram is a good boy'} "
     ]
    }
   ],
   "source": [
    "s = {\"ram is a good boy\"}\n",
    "for i in range(len(s)):\n",
    "    print(s, end = \" \")"
   ]
  },
  {
   "cell_type": "code",
   "execution_count": null,
   "id": "dc9671c9-95b6-4820-a92c-e2fad5378c67",
   "metadata": {},
   "outputs": [],
   "source": [
    "playlist = [\"hay vatan, tauba tauba , black pink]"
   ]
  },
  {
   "cell_type": "code",
   "execution_count": 1,
   "id": "1cc8bd79-d633-4c57-bd5c-50266eae858c",
   "metadata": {},
   "outputs": [
    {
     "data": {
      "text/plain": [
       "['apple', 'banana']"
      ]
     },
     "execution_count": 1,
     "metadata": {},
     "output_type": "execute_result"
    }
   ],
   "source": [
    "que=[\"apple\",\"banana\"] #list does not support .add always use .append\n",
    "que"
   ]
  },
  {
   "cell_type": "code",
   "execution_count": 6,
   "id": "4c27e82a-424f-4177-a18a-eb6a3fd0828f",
   "metadata": {},
   "outputs": [],
   "source": [
    "que.append(\"orange\")"
   ]
  },
  {
   "cell_type": "code",
   "execution_count": 7,
   "id": "e97c833c-94ff-4583-841a-95489d861cb8",
   "metadata": {},
   "outputs": [
    {
     "data": {
      "text/plain": [
       "['apple', 'banana', 'orange']"
      ]
     },
     "execution_count": 7,
     "metadata": {},
     "output_type": "execute_result"
    }
   ],
   "source": [
    "que"
   ]
  },
  {
   "cell_type": "code",
   "execution_count": 17,
   "id": "349eca2e-9a46-4ee8-b3de-2d80d3c6e2af",
   "metadata": {},
   "outputs": [],
   "source": [
    "s.add(\"argue\")"
   ]
  },
  {
   "cell_type": "code",
   "execution_count": 18,
   "id": "8e7b3346-a7eb-4527-a7b3-05add66e4a24",
   "metadata": {},
   "outputs": [
    {
     "data": {
      "text/plain": [
       "{'argue', 'ram is a good boy'}"
      ]
     },
     "execution_count": 18,
     "metadata": {},
     "output_type": "execute_result"
    }
   ],
   "source": [
    "s"
   ]
  },
  {
   "cell_type": "code",
   "execution_count": 26,
   "id": "e6c75763-d56c-4ece-b658-9e8e5c054b1d",
   "metadata": {},
   "outputs": [
    {
     "data": {
      "text/plain": [
       "['sara jha seacha  ', 'blackpink']"
      ]
     },
     "execution_count": 26,
     "metadata": {},
     "output_type": "execute_result"
    }
   ],
   "source": [
    "playlish=[]\n",
    "playlish.append(\"sara jha seacha  \") # append object only one object can be add not two\n",
    "playlish.append(\"blackpink\")\n",
    "playlish\n"
   ]
  },
  {
   "cell_type": "code",
   "execution_count": 33,
   "id": "a2f6bab1-2600-4d5e-b0e5-639b3d62d1ed",
   "metadata": {},
   "outputs": [],
   "source": [
    "playlish.insert(0,\"tara rum pum\")"
   ]
  },
  {
   "cell_type": "code",
   "execution_count": 34,
   "id": "927514d5-704c-4076-9815-4e303eff0f1d",
   "metadata": {},
   "outputs": [
    {
     "data": {
      "text/plain": [
       "['tara rum pum', 'sara jha seacha  ', 'tara rum pum', 'blackpink']"
      ]
     },
     "execution_count": 34,
     "metadata": {},
     "output_type": "execute_result"
    }
   ],
   "source": [
    "playlish"
   ]
  },
  {
   "cell_type": "code",
   "execution_count": 35,
   "id": "db0ee805-0faf-4db1-b7c1-78d491776547",
   "metadata": {},
   "outputs": [
    {
     "ename": "AttributeError",
     "evalue": "'list' object has no attribute 'sorted'",
     "output_type": "error",
     "traceback": [
      "\u001b[0;31m---------------------------------------------------------------------------\u001b[0m",
      "\u001b[0;31mAttributeError\u001b[0m                            Traceback (most recent call last)",
      "Cell \u001b[0;32mIn[35], line 1\u001b[0m\n\u001b[0;32m----> 1\u001b[0m \u001b[43mplaylish\u001b[49m\u001b[38;5;241;43m.\u001b[39;49m\u001b[43msorted\u001b[49m()\n",
      "\u001b[0;31mAttributeError\u001b[0m: 'list' object has no attribute 'sorted'"
     ]
    }
   ],
   "source": []
  },
  {
   "cell_type": "code",
   "execution_count": 36,
   "id": "2cf522ea-c969-44e5-9faa-4813da09b990",
   "metadata": {},
   "outputs": [
    {
     "data": {
      "text/plain": [
       "'ajay'"
      ]
     },
     "execution_count": 36,
     "metadata": {},
     "output_type": "execute_result"
    }
   ],
   "source": [
    "queue = [\"digvijay\",\"milan\",\"karan\",\"ajay\"]\n",
    "queue[-1]"
   ]
  },
  {
   "cell_type": "code",
   "execution_count": 37,
   "id": "65d6a793-61dd-45ad-8d82-d3fccd75ba3c",
   "metadata": {},
   "outputs": [],
   "source": [
    "queue.append(\"manjulika\")"
   ]
  },
  {
   "cell_type": "code",
   "execution_count": 38,
   "id": "ca3b962f-4db7-4033-adb1-8718fcfaaa17",
   "metadata": {},
   "outputs": [
    {
     "data": {
      "text/plain": [
       "['digvijay', 'milan', 'karan', 'ajay', 'manjulika']"
      ]
     },
     "execution_count": 38,
     "metadata": {},
     "output_type": "execute_result"
    }
   ],
   "source": [
    "queue"
   ]
  },
  {
   "cell_type": "code",
   "execution_count": 39,
   "id": "027791f9-ad5d-4b53-97f0-540be5f1bc5a",
   "metadata": {},
   "outputs": [],
   "source": [
    "queue[0]=\"kamolika\""
   ]
  },
  {
   "cell_type": "code",
   "execution_count": 40,
   "id": "6b5d2c5f-7487-4caa-9a55-b80fa64f8feb",
   "metadata": {},
   "outputs": [
    {
     "data": {
      "text/plain": [
       "['kamolika', 'milan', 'karan', 'ajay', 'manjulika']"
      ]
     },
     "execution_count": 40,
     "metadata": {},
     "output_type": "execute_result"
    }
   ],
   "source": [
    "queue\n"
   ]
  },
  {
   "cell_type": "code",
   "execution_count": 43,
   "id": "3123e524-3c66-497e-9321-cdde1acbf8d4",
   "metadata": {},
   "outputs": [],
   "source": [
    "queue.insert(1,\"yash\")"
   ]
  },
  {
   "cell_type": "code",
   "execution_count": 44,
   "id": "7fa5d529-2e28-40ef-b192-43a00b54194a",
   "metadata": {},
   "outputs": [
    {
     "data": {
      "text/plain": [
       "['yash', 'yash', 'kamolika', 'milan', 'karan', 'ajay', 'manjulika']"
      ]
     },
     "execution_count": 44,
     "metadata": {},
     "output_type": "execute_result"
    }
   ],
   "source": [
    "queue"
   ]
  },
  {
   "cell_type": "code",
   "execution_count": 47,
   "id": "d22d566e-552b-4859-8119-c1a70608d9d3",
   "metadata": {},
   "outputs": [
    {
     "name": "stdout",
     "output_type": "stream",
     "text": [
      "['manjulika', 'milan', 'ajay', 'karan', 'kamolika', 'yash']\n"
     ]
    }
   ],
   "source": [
    "print(list(set(queue)))   "
   ]
  },
  {
   "cell_type": "code",
   "execution_count": 48,
   "id": "83780878-8160-4cce-814f-7a2757cf2e95",
   "metadata": {},
   "outputs": [
    {
     "name": "stdout",
     "output_type": "stream",
     "text": [
      "['yash', 'yash', 'kamolika', 'milan', 'karan', 'ajay', 'manjulika']\n"
     ]
    }
   ],
   "source": [
    "print(queue)"
   ]
  },
  {
   "cell_type": "code",
   "execution_count": 49,
   "id": "a2de31ac-4c6e-416a-b8cb-690a2394bb6a",
   "metadata": {},
   "outputs": [
    {
     "name": "stdout",
     "output_type": "stream",
     "text": [
      "['manjulika', 'milan', 'ajay', 'karan', 'kamolika', 'yash']\n"
     ]
    }
   ],
   "source": [
    "print(list(set(queue)))  #to remove duplication in the list"
   ]
  },
  {
   "cell_type": "code",
   "execution_count": 50,
   "id": "e85c1d46-503f-4187-a929-4901231def7f",
   "metadata": {},
   "outputs": [],
   "source": [
    "#extend:-use to append element from another list \n",
    "list1=[\"apple\",\"banana\",\"orange\"]\n",
    "list2=[\"bringal\",\"potato\",\"tomamto\"]\n",
    "list1.extend(list2)"
   ]
  },
  {
   "cell_type": "code",
   "execution_count": 51,
   "id": "95676d6b-8f39-427f-8d03-4734c257414b",
   "metadata": {},
   "outputs": [
    {
     "data": {
      "text/plain": [
       "['apple', 'banana', 'orange', 'bringal', 'potato', 'tomamto']"
      ]
     },
     "execution_count": 51,
     "metadata": {},
     "output_type": "execute_result"
    }
   ],
   "source": [
    "list1"
   ]
  },
  {
   "cell_type": "code",
   "execution_count": 54,
   "id": "d55438be-a314-4c80-82f4-16521a4d2837",
   "metadata": {},
   "outputs": [],
   "source": [
    "#concatenate\n",
    "list1=[\"apple\",\"banana\",\"orange\"]\n",
    "list2=[\"bringal\",\"potato\",\"tomamto\"]"
   ]
  },
  {
   "cell_type": "code",
   "execution_count": 55,
   "id": "520af3bd-ffcc-4b18-9a04-a9f2df2946e6",
   "metadata": {},
   "outputs": [
    {
     "data": {
      "text/plain": [
       "['apple', 'banana', 'orange', 'bringal', 'potato', 'tomamto']"
      ]
     },
     "execution_count": 55,
     "metadata": {},
     "output_type": "execute_result"
    }
   ],
   "source": [
    "list1+list2"
   ]
  },
  {
   "cell_type": "code",
   "execution_count": 56,
   "id": "78c0b243-7f56-444d-9510-db632bd0deea",
   "metadata": {},
   "outputs": [],
   "source": [
    "#but it will create a new list not extend"
   ]
  },
  {
   "cell_type": "code",
   "execution_count": 58,
   "id": "86f1f42c-983a-4e4c-8a8e-4d4b774e0d55",
   "metadata": {},
   "outputs": [
    {
     "data": {
      "text/plain": [
       "'*****'"
      ]
     },
     "execution_count": 58,
     "metadata": {},
     "output_type": "execute_result"
    }
   ],
   "source": [
    "\"*\" * 5#repeatation operation"
   ]
  },
  {
   "cell_type": "code",
   "execution_count": 60,
   "id": "68558ffb-2915-4530-b401-1aedf36cfea5",
   "metadata": {},
   "outputs": [
    {
     "data": {
      "text/plain": [
       "[['apple', 'banana', 'orange'],\n",
       " ['apple', 'banana', 'orange'],\n",
       " ['apple', 'banana', 'orange'],\n",
       " ['apple', 'banana', 'orange'],\n",
       " ['apple', 'banana', 'orange']]"
      ]
     },
     "execution_count": 60,
     "metadata": {},
     "output_type": "execute_result"
    }
   ],
   "source": [
    "[list1]*5 # you can do repitation on list"
   ]
  },
  {
   "cell_type": "code",
   "execution_count": 61,
   "id": "9d394dd2-1b29-4dbc-b023-95882ef6385f",
   "metadata": {},
   "outputs": [
    {
     "data": {
      "text/plain": [
       "[1, 2, 3, 1, 2, 3, 1, 2, 3]"
      ]
     },
     "execution_count": 61,
     "metadata": {},
     "output_type": "execute_result"
    }
   ],
   "source": [
    "[1,2,3,]*3"
   ]
  },
  {
   "cell_type": "code",
   "execution_count": 63,
   "id": "1597a324-6df6-4b15-b8df-4149cd99e151",
   "metadata": {},
   "outputs": [
    {
     "data": {
      "text/plain": [
       "[0, 1, 2, 3, 4, 5, 6, 7, 8, 9]"
      ]
     },
     "execution_count": 63,
     "metadata": {},
     "output_type": "execute_result"
    }
   ],
   "source": [
    "list(range(0,10))"
   ]
  },
  {
   "cell_type": "code",
   "execution_count": 64,
   "id": "ff3299d6-10f9-4bb1-902c-a380adf96a1c",
   "metadata": {},
   "outputs": [
    {
     "data": {
      "text/plain": [
       "[0, 1, 2, 3, 4, 5, 6, 7, 8, 9, 0, 1, 2, 3, 4, 5, 6, 7, 8, 9]"
      ]
     },
     "execution_count": 64,
     "metadata": {},
     "output_type": "execute_result"
    }
   ],
   "source": [
    "list(range(0,10))*2"
   ]
  },
  {
   "cell_type": "code",
   "execution_count": 66,
   "id": "60cfb2c5-4c98-4ad6-8458-b44f059d32c2",
   "metadata": {},
   "outputs": [
    {
     "name": "stdout",
     "output_type": "stream",
     "text": [
      "you are appointed tomooro\n",
      "you are appointed tomooro\n",
      "you are appointed tomooro\n",
      "\n"
     ]
    }
   ],
   "source": [
    "msg=\"you are appointed tomooro\\n\"\n",
    "print(msg*3)"
   ]
  },
  {
   "cell_type": "code",
   "execution_count": 1,
   "id": "632ae71a-ffb8-4b77-8509-bfec4e36678b",
   "metadata": {},
   "outputs": [],
   "source": [
    "#deep copy and shallow copy\n",
    "#shallow copy:-change will be reflect\n",
    "lis1=['a','b','c']\n",
    "lis2=[1,2,3]"
   ]
  },
  {
   "cell_type": "code",
   "execution_count": 3,
   "id": "6c413c0d-4d23-4a7d-b19c-6b9c0195c9ed",
   "metadata": {},
   "outputs": [],
   "source": [
    "a = lis1"
   ]
  },
  {
   "cell_type": "code",
   "execution_count": 4,
   "id": "5e1cd634-23f5-44e2-9478-cfc4614e6c6c",
   "metadata": {},
   "outputs": [
    {
     "data": {
      "text/plain": [
       "['a', 'b', 'c']"
      ]
     },
     "execution_count": 4,
     "metadata": {},
     "output_type": "execute_result"
    }
   ],
   "source": [
    "a"
   ]
  },
  {
   "cell_type": "code",
   "execution_count": 5,
   "id": "9adddbff-6676-4089-bfa8-20b4939ae478",
   "metadata": {},
   "outputs": [],
   "source": [
    "a[0]=\"manjulika\""
   ]
  },
  {
   "cell_type": "code",
   "execution_count": 6,
   "id": "ead8e1ef-ef01-4e78-ab42-17989284da73",
   "metadata": {},
   "outputs": [
    {
     "data": {
      "text/plain": [
       "['manjulika', 'b', 'c']"
      ]
     },
     "execution_count": 6,
     "metadata": {},
     "output_type": "execute_result"
    }
   ],
   "source": [
    "a"
   ]
  },
  {
   "cell_type": "code",
   "execution_count": 7,
   "id": "e32b88d1-39e9-4d9f-9b91-012c4343e166",
   "metadata": {},
   "outputs": [
    {
     "data": {
      "text/plain": [
       "['manjulika', 'b', 'c']"
      ]
     },
     "execution_count": 7,
     "metadata": {},
     "output_type": "execute_result"
    }
   ],
   "source": [
    "lis1"
   ]
  },
  {
   "cell_type": "code",
   "execution_count": 8,
   "id": "0324926f-dbb9-49fb-8e57-1c203b198c58",
   "metadata": {},
   "outputs": [],
   "source": [
    "#deep copy  :-change will be not reflect in other variable                 \n",
    "lis1=['a','b','c']\n",
    "lis2=[1,2,3]\n"
   ]
  },
  {
   "cell_type": "code",
   "execution_count": 9,
   "id": "1fc8416f-cad5-46cf-be8b-800c51400f11",
   "metadata": {},
   "outputs": [],
   "source": [
    "b=lis2.copy()"
   ]
  },
  {
   "cell_type": "code",
   "execution_count": 10,
   "id": "70b54f43-3f29-4bde-adca-ccb508c1c34b",
   "metadata": {},
   "outputs": [
    {
     "data": {
      "text/plain": [
       "[1, 2, 3]"
      ]
     },
     "execution_count": 10,
     "metadata": {},
     "output_type": "execute_result"
    }
   ],
   "source": [
    "b"
   ]
  },
  {
   "cell_type": "code",
   "execution_count": 11,
   "id": "4d55cea3-2934-43fe-b46c-1e6bc8f38cf3",
   "metadata": {},
   "outputs": [
    {
     "data": {
      "text/plain": [
       "[1, 2, 3]"
      ]
     },
     "execution_count": 11,
     "metadata": {},
     "output_type": "execute_result"
    }
   ],
   "source": [
    "lis2"
   ]
  },
  {
   "cell_type": "code",
   "execution_count": 12,
   "id": "472a0101-422b-4555-9b87-aa2a7776da1e",
   "metadata": {},
   "outputs": [],
   "source": [
    "b[0]=(4)"
   ]
  },
  {
   "cell_type": "code",
   "execution_count": 13,
   "id": "654293f8-ce06-4534-a925-6280d3075770",
   "metadata": {},
   "outputs": [
    {
     "data": {
      "text/plain": [
       "[4, 2, 3]"
      ]
     },
     "execution_count": 13,
     "metadata": {},
     "output_type": "execute_result"
    }
   ],
   "source": [
    "b"
   ]
  },
  {
   "cell_type": "code",
   "execution_count": 14,
   "id": "991d3d87-070f-4ea5-a021-ee2883e45329",
   "metadata": {},
   "outputs": [
    {
     "data": {
      "text/plain": [
       "[1, 2, 3]"
      ]
     },
     "execution_count": 14,
     "metadata": {},
     "output_type": "execute_result"
    }
   ],
   "source": [
    "lis2"
   ]
  },
  {
   "cell_type": "code",
   "execution_count": 15,
   "id": "57df2055-0b70-4603-9021-c48f67ad95a0",
   "metadata": {},
   "outputs": [
    {
     "data": {
      "text/plain": [
       "[2, 3, 4]"
      ]
     },
     "execution_count": 15,
     "metadata": {},
     "output_type": "execute_result"
    }
   ],
   "source": [
    "#sorting list\n",
    "sorted(b)"
   ]
  },
  {
   "cell_type": "code",
   "execution_count": 16,
   "id": "9340208f-bd76-4b34-b9de-e5b68a194727",
   "metadata": {},
   "outputs": [
    {
     "data": {
      "text/plain": [
       "1"
      ]
     },
     "execution_count": 16,
     "metadata": {},
     "output_type": "execute_result"
    }
   ],
   "source": [
    "lis2.index(2)"
   ]
  },
  {
   "cell_type": "code",
   "execution_count": 22,
   "id": "73efcb21-ad6f-42ef-8961-c0c69c90a0a1",
   "metadata": {},
   "outputs": [
    {
     "data": {
      "text/plain": [
       "1"
      ]
     },
     "execution_count": 22,
     "metadata": {},
     "output_type": "execute_result"
    }
   ],
   "source": [
    "lis1.index(\"b\")"
   ]
  },
  {
   "cell_type": "code",
   "execution_count": 24,
   "id": "a524fe8e-1f5f-4efb-85c0-9c15bf8faa08",
   "metadata": {},
   "outputs": [
    {
     "data": {
      "text/plain": [
       "3"
      ]
     },
     "execution_count": 24,
     "metadata": {},
     "output_type": "execute_result"
    }
   ],
   "source": [
    "len(lis2)#no of elemnt in the list\n"
   ]
  },
  {
   "cell_type": "code",
   "execution_count": 25,
   "id": "6f3019f7-c5e8-4720-b3d5-5ce462060456",
   "metadata": {},
   "outputs": [
    {
     "data": {
      "text/plain": [
       "1"
      ]
     },
     "execution_count": 25,
     "metadata": {},
     "output_type": "execute_result"
    }
   ],
   "source": [
    "#count:-count give the count of specific element in a list \n",
    "b.count(2)\n"
   ]
  },
  {
   "cell_type": "code",
   "execution_count": 26,
   "id": "32ef8542-9e41-4018-ba18-8ebd10c6a4cd",
   "metadata": {},
   "outputs": [],
   "source": [
    "lis1.remove(\"b\")"
   ]
  },
  {
   "cell_type": "code",
   "execution_count": 27,
   "id": "8c24147e-56ce-49bd-ba82-6d75d32a1e4b",
   "metadata": {},
   "outputs": [
    {
     "data": {
      "text/plain": [
       "['a', 'c']"
      ]
     },
     "execution_count": 27,
     "metadata": {},
     "output_type": "execute_result"
    }
   ],
   "source": [
    "lis1"
   ]
  },
  {
   "cell_type": "code",
   "execution_count": 28,
   "id": "1d614a0b-382d-4286-a2dc-d1875a1d6803",
   "metadata": {},
   "outputs": [],
   "source": [
    "lis1.append(5)"
   ]
  },
  {
   "cell_type": "code",
   "execution_count": 29,
   "id": "a6163286-5845-43c9-80a0-7ef6d74d7894",
   "metadata": {},
   "outputs": [
    {
     "data": {
      "text/plain": [
       "['a', 'c', 5]"
      ]
     },
     "execution_count": 29,
     "metadata": {},
     "output_type": "execute_result"
    }
   ],
   "source": [
    "lis1"
   ]
  },
  {
   "cell_type": "code",
   "execution_count": 35,
   "id": "176a70e7-32dc-4f68-a706-b515433649e5",
   "metadata": {},
   "outputs": [],
   "source": [
    "lis2.sort()"
   ]
  },
  {
   "cell_type": "code",
   "execution_count": 36,
   "id": "e81efabf-8b61-46b2-b9c2-801907820b59",
   "metadata": {},
   "outputs": [
    {
     "data": {
      "text/plain": [
       "[1, 2, 3]"
      ]
     },
     "execution_count": 36,
     "metadata": {},
     "output_type": "execute_result"
    }
   ],
   "source": [
    "lis2"
   ]
  },
  {
   "cell_type": "code",
   "execution_count": 37,
   "id": "5690bc91-5720-44f4-9ede-242974750480",
   "metadata": {},
   "outputs": [],
   "source": [
    "lis2.append(6)"
   ]
  },
  {
   "cell_type": "code",
   "execution_count": 38,
   "id": "c3e78234-805e-4df7-bca7-88e04f179121",
   "metadata": {},
   "outputs": [
    {
     "data": {
      "text/plain": [
       "[1, 2, 3, 6]"
      ]
     },
     "execution_count": 38,
     "metadata": {},
     "output_type": "execute_result"
    }
   ],
   "source": [
    "lis2"
   ]
  },
  {
   "cell_type": "code",
   "execution_count": 39,
   "id": "3f547955-4aae-4c95-99cc-79bbb730c390",
   "metadata": {},
   "outputs": [],
   "source": [
    "lis2.append(0)"
   ]
  },
  {
   "cell_type": "code",
   "execution_count": 40,
   "id": "288849f5-cbd0-4bd9-a12f-8a0072eb8505",
   "metadata": {},
   "outputs": [
    {
     "data": {
      "text/plain": [
       "[1, 2, 3, 6, 0]"
      ]
     },
     "execution_count": 40,
     "metadata": {},
     "output_type": "execute_result"
    }
   ],
   "source": [
    "lis2"
   ]
  },
  {
   "cell_type": "code",
   "execution_count": 41,
   "id": "10a93e39-9a35-4ee4-9671-a0e3c49bfe8d",
   "metadata": {},
   "outputs": [],
   "source": [
    "lis2.sort()"
   ]
  },
  {
   "cell_type": "code",
   "execution_count": 42,
   "id": "4bc8dffb-3627-4967-9a48-5bb1033598a1",
   "metadata": {},
   "outputs": [
    {
     "data": {
      "text/plain": [
       "[0, 1, 2, 3, 6]"
      ]
     },
     "execution_count": 42,
     "metadata": {},
     "output_type": "execute_result"
    }
   ],
   "source": [
    "lis2"
   ]
  },
  {
   "cell_type": "code",
   "execution_count": 43,
   "id": "a17e9884-7ae2-4794-9a56-109a6d317fd8",
   "metadata": {},
   "outputs": [],
   "source": [
    "#you can delete whole list variable use del key\n",
    "del lis2"
   ]
  },
  {
   "cell_type": "code",
   "execution_count": 44,
   "id": "a53fe12b-b69a-4eb8-a7bf-68dff7e16900",
   "metadata": {},
   "outputs": [
    {
     "ename": "NameError",
     "evalue": "name 'lis2' is not defined",
     "output_type": "error",
     "traceback": [
      "\u001b[0;31m---------------------------------------------------------------------------\u001b[0m",
      "\u001b[0;31mNameError\u001b[0m                                 Traceback (most recent call last)",
      "Cell \u001b[0;32mIn[44], line 1\u001b[0m\n\u001b[0;32m----> 1\u001b[0m \u001b[43mlis2\u001b[49m\n",
      "\u001b[0;31mNameError\u001b[0m: name 'lis2' is not defined"
     ]
    }
   ],
   "source": [
    "lis2"
   ]
  },
  {
   "cell_type": "code",
   "execution_count": 50,
   "id": "9b55f1f1-45d1-431d-947d-96aa7e668843",
   "metadata": {},
   "outputs": [
    {
     "data": {
      "text/plain": [
       "[1, 2, 8, 4, 5, 6, 7, 9]"
      ]
     },
     "execution_count": 50,
     "metadata": {},
     "output_type": "execute_result"
    }
   ],
   "source": [
    "#lets say whenever we clear the in the list elemnt not varable then use clear\n",
    "lis2=[1,2,8,4,5,6,7,9]\n",
    "lis2"
   ]
  },
  {
   "cell_type": "code",
   "execution_count": 47,
   "id": "4d54f821-fd43-44e4-bf37-66071730a2e5",
   "metadata": {},
   "outputs": [],
   "source": [
    "lis2.clear()"
   ]
  },
  {
   "cell_type": "code",
   "execution_count": 48,
   "id": "11e591a2-f343-46fa-9822-6917681c00f1",
   "metadata": {},
   "outputs": [
    {
     "data": {
      "text/plain": [
       "[]"
      ]
     },
     "execution_count": 48,
     "metadata": {},
     "output_type": "execute_result"
    }
   ],
   "source": [
    "lis2 #see its empty list"
   ]
  },
  {
   "cell_type": "code",
   "execution_count": 49,
   "id": "50cf2f27-cf2f-41d7-ba43-496e9507b292",
   "metadata": {},
   "outputs": [],
   "source": [
    "#lets say when ever we remove the last elemet in the list use pop"
   ]
  },
  {
   "cell_type": "code",
   "execution_count": 51,
   "id": "4a3c137f-d782-4e3c-8928-1dbda82637a4",
   "metadata": {},
   "outputs": [
    {
     "data": {
      "text/plain": [
       "9"
      ]
     },
     "execution_count": 51,
     "metadata": {},
     "output_type": "execute_result"
    }
   ],
   "source": [
    "lis2.pop()"
   ]
  },
  {
   "cell_type": "code",
   "execution_count": 52,
   "id": "198804c8-ec79-4c34-8522-d0fab5c9608b",
   "metadata": {},
   "outputs": [
    {
     "data": {
      "text/plain": [
       "[1, 2, 8, 4, 5, 6, 7]"
      ]
     },
     "execution_count": 52,
     "metadata": {},
     "output_type": "execute_result"
    }
   ],
   "source": [
    "lis2 #it will be remove"
   ]
  },
  {
   "cell_type": "code",
   "execution_count": 53,
   "id": "20b576c8-f016-49f5-8760-8d476bfd595d",
   "metadata": {},
   "outputs": [],
   "source": [
    "#when we remove specifi element in the list we can do that as well just type element num"
   ]
  },
  {
   "cell_type": "code",
   "execution_count": 54,
   "id": "4b2dcbb3-d768-493d-b1db-a9bb9e1d0402",
   "metadata": {},
   "outputs": [
    {
     "data": {
      "text/plain": [
       "2"
      ]
     },
     "execution_count": 54,
     "metadata": {},
     "output_type": "execute_result"
    }
   ],
   "source": [
    "lis2.pop(1)"
   ]
  },
  {
   "cell_type": "code",
   "execution_count": 55,
   "id": "a5360e87-7f83-4e74-ae06-e3dcc44cb074",
   "metadata": {},
   "outputs": [
    {
     "data": {
      "text/plain": [
       "[1, 8, 4, 5, 6, 7]"
      ]
     },
     "execution_count": 55,
     "metadata": {},
     "output_type": "execute_result"
    }
   ],
   "source": [
    "lis2"
   ]
  },
  {
   "cell_type": "code",
   "execution_count": 56,
   "id": "9fe1a917-aaf2-4b6d-a9e9-0f00023bb5b9",
   "metadata": {},
   "outputs": [],
   "source": [
    "#list comprehension\n",
    "price=[10,20,30,40,50]\n",
    "doble_price=[]\n",
    "for i in price:\n",
    "    doble_price.append(i*2)"
   ]
  },
  {
   "cell_type": "code",
   "execution_count": 57,
   "id": "987c5f28-0e4a-44fc-94d1-9c3dc0724d50",
   "metadata": {},
   "outputs": [
    {
     "data": {
      "text/plain": [
       "[20, 40, 60, 80, 100]"
      ]
     },
     "execution_count": 57,
     "metadata": {},
     "output_type": "execute_result"
    }
   ],
   "source": [
    "doble_price"
   ]
  },
  {
   "cell_type": "code",
   "execution_count": 58,
   "id": "e6a876ae-dfd5-493d-a293-592dff74cf09",
   "metadata": {},
   "outputs": [
    {
     "data": {
      "text/plain": [
       "[20, 40, 60, 80, 100]"
      ]
     },
     "execution_count": 58,
     "metadata": {},
     "output_type": "execute_result"
    }
   ],
   "source": [
    "[new_price * 2 for new_price in price] #we can do same thing but only one line thats called list comprehension"
   ]
  },
  {
   "cell_type": "code",
   "execution_count": 59,
   "id": "cc7e8372-3a45-47a2-9874-1659c1b959bf",
   "metadata": {},
   "outputs": [],
   "source": [
    "z = [\"rose\",\"lisha\",\"pink\",\"jenny\",\"ajay gupta\"]"
   ]
  },
  {
   "cell_type": "code",
   "execution_count": 61,
   "id": "4df6dcda-3466-449b-b4bf-e5a97673a921",
   "metadata": {},
   "outputs": [
    {
     "data": {
      "text/plain": [
       "['Rose', 'Lisha', 'Pink', 'Jenny', 'Ajay gupta']"
      ]
     },
     "execution_count": 61,
     "metadata": {},
     "output_type": "execute_result"
    }
   ],
   "source": [
    "[q.capitalize() for q in z] #that called list comprehension>>consion code"
   ]
  },
  {
   "cell_type": "code",
   "execution_count": 62,
   "id": "97793353-1382-47f7-a13a-ef652d40ff78",
   "metadata": {},
   "outputs": [
    {
     "data": {
      "text/plain": [
       "[1, 4, 9, 16, 25, 36, 49, 64, 81]"
      ]
     },
     "execution_count": 62,
     "metadata": {},
     "output_type": "execute_result"
    }
   ],
   "source": [
    "#use case\n",
    "num = [1,2,3,4,5,6,7,8,9]\n",
    "[u**2 for u in num]"
   ]
  },
  {
   "cell_type": "code",
   "execution_count": 63,
   "id": "5523ff58-f3f8-452f-b9b7-39bff9aedf1c",
   "metadata": {},
   "outputs": [
    {
     "data": {
      "text/plain": [
       "['assigment', 'pdf']"
      ]
     },
     "execution_count": 63,
     "metadata": {},
     "output_type": "execute_result"
    }
   ],
   "source": [
    "vaka=\"assigment.pdf\"\n",
    "vaka.split(\".\")"
   ]
  },
  {
   "cell_type": "code",
   "execution_count": 64,
   "id": "dcd6e04d-2276-4388-a54b-67989a2f4175",
   "metadata": {},
   "outputs": [
    {
     "data": {
      "text/plain": [
       "'pdf'"
      ]
     },
     "execution_count": 64,
     "metadata": {},
     "output_type": "execute_result"
    }
   ],
   "source": [
    "vaka.split(\".\")[-1]"
   ]
  },
  {
   "cell_type": "code",
   "execution_count": 1,
   "id": "02564d43-ed01-4c8c-a18c-2ae734086fec",
   "metadata": {},
   "outputs": [
    {
     "data": {
      "text/plain": [
       "['ppt', 'jpn', 'pdf', 'zip', 'xls']"
      ]
     },
     "execution_count": 1,
     "metadata": {},
     "output_type": "execute_result"
    }
   ],
   "source": [
    "#use case\n",
    "my_file=[\"doc.ppt\",\"doc.jpn\",\"doc.pdf\",\"imag.zip\",\"doc.xls\"]\n",
    "[file.split(\".\")[-1] for file in my_file]"
   ]
  },
  {
   "cell_type": "code",
   "execution_count": 3,
   "id": "90f7cb17-7067-4fed-b2dd-21e8e7ef7bee",
   "metadata": {},
   "outputs": [],
   "source": [
    "#find all numer divisible /7 betwiien 1 to 1000 using list comprihenstion"
   ]
  },
  {
   "cell_type": "code",
   "execution_count": 5,
   "id": "87ef238a-d038-4f3c-a415-00183dd09002",
   "metadata": {},
   "outputs": [],
   "source": [
    "#acoount the number of spaces in a string\n",
    "s =\"monjulika is my love but i hate her beacuse ex is kakuda\""
   ]
  },
  {
   "cell_type": "code",
   "execution_count": 8,
   "id": "fd3e7a87-2519-485a-b0ab-b7cf54d5f707",
   "metadata": {},
   "outputs": [
    {
     "data": {
      "text/plain": [
       "57"
      ]
     },
     "execution_count": 8,
     "metadata": {},
     "output_type": "execute_result"
    }
   ],
   "source": [
    "s.count(\"\")"
   ]
  },
  {
   "cell_type": "code",
   "execution_count": 11,
   "id": "e1daf270-20ab-43b8-9182-4d6fd3641575",
   "metadata": {},
   "outputs": [
    {
     "ename": "NameError",
     "evalue": "name 'f' is not defined",
     "output_type": "error",
     "traceback": [
      "\u001b[0;31m---------------------------------------------------------------------------\u001b[0m",
      "\u001b[0;31mNameError\u001b[0m                                 Traceback (most recent call last)",
      "Cell \u001b[0;32mIn[11], line 2\u001b[0m\n\u001b[1;32m      1\u001b[0m [f\u001b[38;5;241m.\u001b[39mcount(\u001b[38;5;124m\"\u001b[39m\u001b[38;5;124m\"\u001b[39m) \u001b[38;5;28;01mfor\u001b[39;00m f \u001b[38;5;129;01min\u001b[39;00m s]\n\u001b[0;32m----> 2\u001b[0m \u001b[38;5;28mprint\u001b[39m(\u001b[38;5;28mlen\u001b[39m(\u001b[43mf\u001b[49m))\n",
      "\u001b[0;31mNameError\u001b[0m: name 'f' is not defined"
     ]
    }
   ],
   "source": [
    "[f.count(\"\") for f in s]\n",
    "print(len(f))"
   ]
  },
  {
   "cell_type": "code",
   "execution_count": null,
   "id": "26496aed-3cf8-4168-a402-3790309315bb",
   "metadata": {},
   "outputs": [],
   "source": [
    "#Hw\n",
    "#using the list comprehensition find the all the number from 1-1000 that divisible by any single digit any single digit from 2 to 9"
   ]
  },
  {
   "cell_type": "code",
   "execution_count": 12,
   "id": "ebf91130-64c1-4d9d-a15c-ddd129bd816e",
   "metadata": {},
   "outputs": [],
   "source": [
    "t = ((0,1,2),(4,5,6))"
   ]
  },
  {
   "cell_type": "code",
   "execution_count": 13,
   "id": "e8910ea4-970a-4bc3-89e7-458658d7ee7d",
   "metadata": {},
   "outputs": [
    {
     "data": {
      "text/plain": [
       "(0, 1, 2)"
      ]
     },
     "execution_count": 13,
     "metadata": {},
     "output_type": "execute_result"
    }
   ],
   "source": [
    "t[0]"
   ]
  },
  {
   "cell_type": "code",
   "execution_count": 14,
   "id": "a2d34630-12d3-499a-9dfd-dad7d7303d47",
   "metadata": {},
   "outputs": [
    {
     "data": {
      "text/plain": [
       "tuple"
      ]
     },
     "execution_count": 14,
     "metadata": {},
     "output_type": "execute_result"
    }
   ],
   "source": [
    "type(t)"
   ]
  },
  {
   "cell_type": "code",
   "execution_count": 15,
   "id": "b2307c18-ffc9-4dcb-a4b8-9a142d0d52c8",
   "metadata": {},
   "outputs": [],
   "source": [
    "t1=(7,8,9)"
   ]
  },
  {
   "cell_type": "code",
   "execution_count": 16,
   "id": "ac89110d-9df3-41c1-bd48-2eb53c2abf75",
   "metadata": {},
   "outputs": [
    {
     "ename": "AttributeError",
     "evalue": "'tuple' object has no attribute 'add'",
     "output_type": "error",
     "traceback": [
      "\u001b[0;31m---------------------------------------------------------------------------\u001b[0m",
      "\u001b[0;31mAttributeError\u001b[0m                            Traceback (most recent call last)",
      "Cell \u001b[0;32mIn[16], line 1\u001b[0m\n\u001b[0;32m----> 1\u001b[0m \u001b[43mt\u001b[49m\u001b[38;5;241;43m.\u001b[39;49m\u001b[43madd\u001b[49m(\u001b[38;5;241m5\u001b[39m)\n",
      "\u001b[0;31mAttributeError\u001b[0m: 'tuple' object has no attribute 'add'"
     ]
    }
   ],
   "source": [
    "t.add(5)"
   ]
  },
  {
   "cell_type": "code",
   "execution_count": 17,
   "id": "5e89595f-e0b7-4878-b11f-17c319c5cd74",
   "metadata": {},
   "outputs": [
    {
     "data": {
      "text/plain": [
       "{1, 2, 3}"
      ]
     },
     "execution_count": 17,
     "metadata": {},
     "output_type": "execute_result"
    }
   ],
   "source": [
    "s = {1,1,2,2,3}\n",
    "s"
   ]
  },
  {
   "cell_type": "code",
   "execution_count": 18,
   "id": "821248c5-5794-44fa-8efc-00558d642e35",
   "metadata": {},
   "outputs": [
    {
     "data": {
      "text/plain": [
       "set"
      ]
     },
     "execution_count": 18,
     "metadata": {},
     "output_type": "execute_result"
    }
   ],
   "source": [
    "type(s)"
   ]
  },
  {
   "cell_type": "code",
   "execution_count": 19,
   "id": "546a36b4-783c-4f9e-a145-0c9525f2d4d7",
   "metadata": {},
   "outputs": [],
   "source": [
    "s.add(10)"
   ]
  },
  {
   "cell_type": "code",
   "execution_count": 21,
   "id": "4e6b42c9-3a24-4eaa-a14a-7d3c2a8a08ba",
   "metadata": {},
   "outputs": [
    {
     "data": {
      "text/plain": [
       "{1, 2, 3, 10}"
      ]
     },
     "execution_count": 21,
     "metadata": {},
     "output_type": "execute_result"
    }
   ],
   "source": [
    "s"
   ]
  },
  {
   "cell_type": "code",
   "execution_count": 22,
   "id": "4accbcec-8324-4633-a5a4-ce7d7c05d56d",
   "metadata": {},
   "outputs": [],
   "source": [
    "s.remove(10)"
   ]
  },
  {
   "cell_type": "code",
   "execution_count": 23,
   "id": "623f8718-9198-4b15-9f4d-24a2f59aa284",
   "metadata": {},
   "outputs": [],
   "source": [
    "s.clear()"
   ]
  },
  {
   "cell_type": "code",
   "execution_count": 24,
   "id": "7ce7e915-6821-4e30-81fd-abe876743f5c",
   "metadata": {},
   "outputs": [
    {
     "data": {
      "text/plain": [
       "set()"
      ]
     },
     "execution_count": 24,
     "metadata": {},
     "output_type": "execute_result"
    }
   ],
   "source": [
    "s"
   ]
  },
  {
   "cell_type": "code",
   "execution_count": 25,
   "id": "fa81aaa4-d5cc-4fba-a8e6-56a5245f6b57",
   "metadata": {},
   "outputs": [],
   "source": [
    "del s"
   ]
  },
  {
   "cell_type": "code",
   "execution_count": 26,
   "id": "dcb701fe-ddb5-466d-9a03-72119022a772",
   "metadata": {},
   "outputs": [
    {
     "ename": "NameError",
     "evalue": "name 's' is not defined",
     "output_type": "error",
     "traceback": [
      "\u001b[0;31m---------------------------------------------------------------------------\u001b[0m",
      "\u001b[0;31mNameError\u001b[0m                                 Traceback (most recent call last)",
      "Cell \u001b[0;32mIn[26], line 1\u001b[0m\n\u001b[0;32m----> 1\u001b[0m \u001b[43ms\u001b[49m\n",
      "\u001b[0;31mNameError\u001b[0m: name 's' is not defined"
     ]
    }
   ],
   "source": [
    "s"
   ]
  },
  {
   "cell_type": "code",
   "execution_count": null,
   "id": "2f9c22f3-7c24-4c66-94df-eea341e0e813",
   "metadata": {},
   "outputs": [],
   "source": [
    "#union >> all the elment\n",
    "#intersection>>\n",
    "#difference\n",
    "#symetric differnece\n"
   ]
  },
  {
   "cell_type": "code",
   "execution_count": 27,
   "id": "e0836b60-c8b8-497e-aa5f-b744b96d5069",
   "metadata": {},
   "outputs": [],
   "source": [
    "#forozenset >> immutable version of set , can not be changed or add or remove in set"
   ]
  },
  {
   "cell_type": "markdown",
   "id": "2328037b-7023-4b8e-814f-26dd394aaafc",
   "metadata": {},
   "source": [
    "# OOPS"
   ]
  },
  {
   "cell_type": "raw",
   "id": "bba48d8c-885b-454b-b647-8cd6160942ea",
   "metadata": {},
   "source": [
    "24/08/2024"
   ]
  },
  {
   "cell_type": "code",
   "execution_count": 1,
   "id": "ecc6ad17-806d-4f6d-99d2-fcb7d9b1b842",
   "metadata": {},
   "outputs": [],
   "source": [
    "#write a class seprate even number and odd number it given list"
   ]
  },
  {
   "cell_type": "code",
   "execution_count": 2,
   "id": "d81556aa-0a2e-4081-a8e8-b22b426acbf0",
   "metadata": {},
   "outputs": [],
   "source": [
    "class ListOps:\n",
    "    l = [1, 2, 3, 4, 5]\n",
    "    def extract_even(self, l):\n",
    "        l5 = []#thats also called as constructor\n",
    "        for i in l:\n",
    "            if i%2 == 0:\n",
    "                l5.append(i)\n",
    "        return l5\n",
    "    def extract_odd(self, l):\n",
    "        l5 = []\n",
    "        for i in l:\n",
    "            if i%2 != 0:\n",
    "                l5.append(i)\n",
    "        return l5"
   ]
  },
  {
   "cell_type": "code",
   "execution_count": 3,
   "id": "bb6e34e6-89ed-4734-b675-7017d33d50fb",
   "metadata": {},
   "outputs": [],
   "source": [
    "vsd=ListOps()"
   ]
  },
  {
   "cell_type": "code",
   "execution_count": 8,
   "id": "138cb042-9842-4d7f-a0c5-e0e52c2bbb9a",
   "metadata": {},
   "outputs": [
    {
     "data": {
      "text/plain": [
       "[1, 2, 3, 4, 5]"
      ]
     },
     "execution_count": 8,
     "metadata": {},
     "output_type": "execute_result"
    }
   ],
   "source": [
    "vsd.l"
   ]
  },
  {
   "cell_type": "code",
   "execution_count": 9,
   "id": "77ac33df-8808-4024-b8b9-f25806c32440",
   "metadata": {},
   "outputs": [
    {
     "data": {
      "text/plain": [
       "[2, 4]"
      ]
     },
     "execution_count": 9,
     "metadata": {},
     "output_type": "execute_result"
    }
   ],
   "source": [
    "vsd.extract_even(vsd.l)"
   ]
  },
  {
   "cell_type": "raw",
   "id": "b4bea52d-131a-40ba-9498-61b6a0afd656",
   "metadata": {},
   "source": [
    "__init__:-init take the data input"
   ]
  },
  {
   "cell_type": "code",
   "execution_count": 11,
   "id": "b62848ff-a310-4926-8543-3526cb28ff6b",
   "metadata": {},
   "outputs": [],
   "source": [
    "#writw a python programe crete a person class ,inclideing attribute like names , country,dob and implemente methode determine persons  age "
   ]
  },
  {
   "cell_type": "code",
   "execution_count": 12,
   "id": "7b40d16c-42ae-4dd8-b689-45168559ded5",
   "metadata": {},
   "outputs": [],
   "source": [
    "#from datetime inport date\n",
    "#class PersonC:\n",
    " #   def __init__(self,l):\n",
    " #       print(f\"name in person class{l}\")\n",
    "    \n",
    "    "
   ]
  },
  {
   "cell_type": "code",
   "execution_count": 13,
   "id": "fb416f91-ddac-41d8-99ec-210d976cf9b0",
   "metadata": {},
   "outputs": [],
   "source": [
    "#make a class sport car , make a class sport bike try to inheritence common proarties of sports car"
   ]
  },
  {
   "cell_type": "code",
   "execution_count": 1,
   "id": "01179ac5-12de-472d-be73-f6ee35e1ab99",
   "metadata": {},
   "outputs": [
    {
     "ename": "SyntaxError",
     "evalue": "invalid syntax (3577716646.py, line 2)",
     "output_type": "error",
     "traceback": [
      "\u001b[0;36m  Cell \u001b[0;32mIn[1], line 2\u001b[0;36m\u001b[0m\n\u001b[0;31m    def __init__(self,company name,top speed)\u001b[0m\n\u001b[0m                              ^\u001b[0m\n\u001b[0;31mSyntaxError\u001b[0m\u001b[0;31m:\u001b[0m invalid syntax\n"
     ]
    }
   ],
   "source": [
    "class Sportcar:\n",
    "    def __init__(self,company name,top speed)\n",
    "    self.company = company\n",
    "    self.price = price\n",
    "    "
   ]
  },
  {
   "cell_type": "code",
   "execution_count": 2,
   "id": "5cca48e8-2880-4fef-a684-226fefb856e6",
   "metadata": {},
   "outputs": [],
   "source": [
    "#what is differnce between overloading and  overriding between them?"
   ]
  },
  {
   "cell_type": "raw",
   "id": "958d1531-bcd1-49b8-875b-2d1bc1ef248f",
   "metadata": {},
   "source": [
    "overriding means inheritance of parents child class always prefered child class "
   ]
  },
  {
   "cell_type": "code",
   "execution_count": 44,
   "id": "57cdda38-5fa3-4ff1-af5d-8a31a6abd7c6",
   "metadata": {},
   "outputs": [],
   "source": [
    "class vehical:\n",
    "    def Vehical(self,name=\"\",tyre=int):\n",
    "        if tyre == 2:\n",
    "            print(name,\" is two tyre vehical\")\n",
    "        elif tyre == 3:\n",
    "            print(name,\" is three tyre vehical\")\n",
    "        elif tyre == 4:\n",
    "            print(name,\" is four tyre vehical\")\n",
    "        else:\n",
    "            print(\"vehiclae is not defind\")"
   ]
  },
  {
   "cell_type": "code",
   "execution_count": 45,
   "id": "38a6d2a4-05ca-47cf-b322-280f468a2402",
   "metadata": {},
   "outputs": [],
   "source": [
    "qw=vehical()"
   ]
  },
  {
   "cell_type": "code",
   "execution_count": 46,
   "id": "21f5a546-8e6c-4d04-bfa9-38e687282cb3",
   "metadata": {},
   "outputs": [
    {
     "name": "stdout",
     "output_type": "stream",
     "text": [
      "aoto  is three tyre vehical\n"
     ]
    }
   ],
   "source": [
    "qw.Vehical(\"aoto\",3)"
   ]
  },
  {
   "cell_type": "code",
   "execution_count": 47,
   "id": "421d92c3-0c00-4d8f-978d-14792cc25649",
   "metadata": {},
   "outputs": [
    {
     "name": "stdout",
     "output_type": "stream",
     "text": [
      "cycle  is two tyre vehical\n"
     ]
    }
   ],
   "source": [
    "qw.Vehical(\"cycle\",2)"
   ]
  },
  {
   "cell_type": "code",
   "execution_count": 48,
   "id": "7eeea480-de89-4087-8bef-1bb870001b1d",
   "metadata": {},
   "outputs": [
    {
     "name": "stdout",
     "output_type": "stream",
     "text": [
      "car  is four tyre vehical\n"
     ]
    }
   ],
   "source": [
    "qw.Vehical(\"car\",4)"
   ]
  },
  {
   "cell_type": "code",
   "execution_count": 49,
   "id": "a0ba260f-7f2d-46df-a4ec-74e2337d41e5",
   "metadata": {},
   "outputs": [
    {
     "name": "stdout",
     "output_type": "stream",
     "text": [
      "vehiclae is not defind\n"
     ]
    }
   ],
   "source": [
    "qw.Vehical(\"car\",5)"
   ]
  },
  {
   "cell_type": "code",
   "execution_count": 2,
   "id": "c28c93f8-a272-422a-971c-6bb4bd32f47c",
   "metadata": {},
   "outputs": [],
   "source": [
    "#overriding(same class signature)"
   ]
  },
  {
   "cell_type": "code",
   "execution_count": 3,
   "id": "b415da77-6f07-4c80-a6fd-618be2f4409c",
   "metadata": {},
   "outputs": [],
   "source": [
    "class vehical:\n",
    "    def moving(self):\n",
    "        print(\"vehical is moving\")\n",
    "class car:\n",
    "    def moving(self):\n",
    "        print(\"car is moving\")"
   ]
  },
  {
   "cell_type": "code",
   "execution_count": 4,
   "id": "2878205a-92dd-4519-9547-76ac0d98c8cb",
   "metadata": {},
   "outputs": [],
   "source": [
    "a=car()"
   ]
  },
  {
   "cell_type": "code",
   "execution_count": 5,
   "id": "d92d5fe5-817d-4ca4-bdc1-c2065a83e218",
   "metadata": {},
   "outputs": [
    {
     "name": "stdout",
     "output_type": "stream",
     "text": [
      "car is moving\n"
     ]
    }
   ],
   "source": [
    "a.moving()"
   ]
  },
  {
   "cell_type": "code",
   "execution_count": 6,
   "id": "2c0eef08-12e0-4bc6-b600-c29969361507",
   "metadata": {},
   "outputs": [],
   "source": [
    "#private data and access method\n",
    "#private varible only acess within the class"
   ]
  },
  {
   "cell_type": "code",
   "execution_count": 12,
   "id": "568f3c7e-7a93-4f60-8596-6b06dde10322",
   "metadata": {},
   "outputs": [],
   "source": [
    "class BE:\n",
    "    def sem_1(self,name,fess):\n",
    "        self.name = name\n",
    "        self.__fess = fess"
   ]
  },
  {
   "cell_type": "code",
   "execution_count": 13,
   "id": "2d2c591c-536d-4545-ac74-f4c7b4c1b575",
   "metadata": {},
   "outputs": [],
   "source": [
    "az=BE()"
   ]
  },
  {
   "cell_type": "code",
   "execution_count": 14,
   "id": "0814c9fd-d2f6-408f-8283-b78bc848977e",
   "metadata": {},
   "outputs": [],
   "source": [
    "az.sem_1(\"xasc\",\"500\")"
   ]
  },
  {
   "cell_type": "code",
   "execution_count": 15,
   "id": "fb5363f7-abb3-471c-b49e-d0e874325324",
   "metadata": {},
   "outputs": [
    {
     "data": {
      "text/plain": [
       "'xasc'"
      ]
     },
     "execution_count": 15,
     "metadata": {},
     "output_type": "execute_result"
    }
   ],
   "source": [
    "az.name"
   ]
  },
  {
   "cell_type": "code",
   "execution_count": 18,
   "id": "795a6b53-b8db-45d4-a0e5-d2c006e3b963",
   "metadata": {},
   "outputs": [
    {
     "data": {
      "text/plain": [
       "'500'"
      ]
     },
     "execution_count": 18,
     "metadata": {},
     "output_type": "execute_result"
    }
   ],
   "source": [
    "az._BE__fess # see you want to access the private variable using class name"
   ]
  },
  {
   "cell_type": "code",
   "execution_count": 33,
   "id": "3174655d-3030-45e4-934b-79e57c264bdd",
   "metadata": {},
   "outputs": [],
   "source": [
    "class BE:#another way to acess private datato create  new class structure \n",
    "    def sem_1(self,name,fess):\n",
    "        self.__name = name\n",
    "        self.__fess = fess\n",
    "    \n",
    "    def sem_2(self):\n",
    "        print(\"name\",self.__name ,\"fess\",self.__fess)\n",
    "    "
   ]
  },
  {
   "cell_type": "code",
   "execution_count": 34,
   "id": "6e604653-d32e-4181-a725-fdf104df40a9",
   "metadata": {},
   "outputs": [],
   "source": [
    "aq=BE()"
   ]
  },
  {
   "cell_type": "code",
   "execution_count": 37,
   "id": "35827efd-1ee6-4f66-a6a6-d06dc7b92918",
   "metadata": {},
   "outputs": [],
   "source": [
    "aq.sem_1(\"cmwws\",500)"
   ]
  },
  {
   "cell_type": "code",
   "execution_count": 38,
   "id": "bfeb0b3d-046b-4575-9e28-d9a704ca6b4b",
   "metadata": {},
   "outputs": [
    {
     "name": "stdout",
     "output_type": "stream",
     "text": [
      "name cmwws fess 500\n"
     ]
    }
   ],
   "source": [
    "aq.sem_2() "
   ]
  },
  {
   "cell_type": "code",
   "execution_count": 39,
   "id": "4886e717-88e1-4fa0-b342-56ed3370e259",
   "metadata": {},
   "outputs": [],
   "source": [
    "#protected variable :-whithin class and sub class , only acess (_)"
   ]
  },
  {
   "cell_type": "code",
   "execution_count": 46,
   "id": "2f8d9aec-ee5b-45f2-9458-455f45e5f689",
   "metadata": {},
   "outputs": [],
   "source": [
    "class BE:\n",
    "    def __init__(self):\n",
    "        self._collage_name = \"gec baruch\"\n",
    "        \n",
    "class data_scintist(BE):\n",
    "    def __init__(self,name):\n",
    "        self.name = name\n",
    "        super().__init__()\n",
    "        \n",
    "    def show(self):\n",
    "        print(self.name,self._collage_name)\n",
    "    "
   ]
  },
  {
   "cell_type": "code",
   "execution_count": 47,
   "id": "85ccbdd3-6b10-4414-9b58-7855e56f26b7",
   "metadata": {},
   "outputs": [],
   "source": [
    "q=data_scintist(\"karan\")"
   ]
  },
  {
   "cell_type": "code",
   "execution_count": 48,
   "id": "e28f67c9-d3c3-4a97-9379-bd5bc5ff3c8f",
   "metadata": {},
   "outputs": [
    {
     "name": "stdout",
     "output_type": "stream",
     "text": [
      "karan gec baruch\n"
     ]
    }
   ],
   "source": [
    "q.show()"
   ]
  },
  {
   "cell_type": "code",
   "execution_count": 49,
   "id": "64a37e6f-0580-4da5-bf78-96a7b37420c4",
   "metadata": {},
   "outputs": [],
   "source": [
    "class ERP:\n",
    "    def __init__(self,name,salary,other):\n",
    "        self.__employe_name=name\n",
    "        self.__salary      =salary\n",
    "        self.__age_        =other"
   ]
  },
  {
   "cell_type": "code",
   "execution_count": 51,
   "id": "f9b46052-e056-4fc7-94e3-14fed72d5162",
   "metadata": {},
   "outputs": [],
   "source": [
    "aw=ERP(\"milan\",\"70000\",23)"
   ]
  },
  {
   "cell_type": "code",
   "execution_count": 54,
   "id": "8f5776e5-7252-48a3-a29d-42d93252b383",
   "metadata": {},
   "outputs": [
    {
     "data": {
      "text/plain": [
       "'milan'"
      ]
     },
     "execution_count": 54,
     "metadata": {},
     "output_type": "execute_result"
    }
   ],
   "source": [
    "aw._ERP__employe_name"
   ]
  },
  {
   "cell_type": "code",
   "execution_count": 55,
   "id": "b0308828-2b32-4102-a62c-3cd8d71d4013",
   "metadata": {},
   "outputs": [],
   "source": [
    "#how class method is overloading the init method?\n",
    "#modifying the class/instance method\n",
    "class Student:\n",
    "    def __init__(self, name): #init method is an instance method\n",
    "        self.name = name \n",
    "    \n",
    "    @classmethod \n",
    "    def student_details(cls, name1): \n",
    "        return cls(name1)"
   ]
  },
  {
   "cell_type": "code",
   "execution_count": 61,
   "id": "fa64f996-41c4-40b8-82fb-946e4cc1ae8c",
   "metadata": {},
   "outputs": [],
   "source": [
    "s1=Student.student_details(\"jigar\")"
   ]
  },
  {
   "cell_type": "code",
   "execution_count": 62,
   "id": "b99c6c8c-d32a-447c-849a-bf1080717a78",
   "metadata": {},
   "outputs": [
    {
     "data": {
      "text/plain": [
       "'jigar'"
      ]
     },
     "execution_count": 62,
     "metadata": {},
     "output_type": "execute_result"
    }
   ],
   "source": [
    "s1.name"
   ]
  },
  {
   "cell_type": "code",
   "execution_count": 63,
   "id": "a08f64e2-7491-47f5-9855-f3cd77312fe2",
   "metadata": {},
   "outputs": [],
   "source": [
    "#static method >> its just like a simple>>substitue of init\n",
    "\n",
    "class Calculator:\n",
    "    \n",
    "    @staticmethod\n",
    "    def add(x, y):\n",
    "        return x+y"
   ]
  },
  {
   "cell_type": "code",
   "execution_count": 19,
   "id": "5e5994fe-2ad2-4b2f-80f3-fe628199d9c3",
   "metadata": {},
   "outputs": [],
   "source": [
    "z=pow(4,2,5)"
   ]
  },
  {
   "cell_type": "code",
   "execution_count": 20,
   "id": "f8162341-1963-4a1a-9d46-7a722090bc5f",
   "metadata": {},
   "outputs": [
    {
     "name": "stdout",
     "output_type": "stream",
     "text": [
      "1\n"
     ]
    }
   ],
   "source": [
    "print(z)"
   ]
  },
  {
   "cell_type": "code",
   "execution_count": 23,
   "id": "c45819d3-a2e2-429e-9810-2a53dc082d46",
   "metadata": {},
   "outputs": [
    {
     "name": "stdout",
     "output_type": "stream",
     "text": [
      "bytearray(b'hello world')\n"
     ]
    }
   ],
   "source": [
    "str = \"hello world\"\n",
    "ab= bytearray(str,'utf-8')\n",
    "print(ab)"
   ]
  },
  {
   "cell_type": "code",
   "execution_count": 1,
   "id": "8414b9ac-7c38-46b3-9ba1-ef93d3e3ef25",
   "metadata": {},
   "outputs": [],
   "source": [
    "import numpy as np"
   ]
  },
  {
   "cell_type": "code",
   "execution_count": 2,
   "id": "9ca19ec2-65a2-4390-90f5-f5217691bd85",
   "metadata": {},
   "outputs": [
    {
     "data": {
      "text/plain": [
       "'1.23.5'"
      ]
     },
     "execution_count": 2,
     "metadata": {},
     "output_type": "execute_result"
    }
   ],
   "source": [
    "np.__version__"
   ]
  },
  {
   "cell_type": "code",
   "execution_count": 3,
   "id": "9c71542f-2fc8-4a95-ac21-d1fdec19490c",
   "metadata": {},
   "outputs": [
    {
     "name": "stdout",
     "output_type": "stream",
     "text": [
      "\n",
      "NumPy\n",
      "=====\n",
      "\n",
      "Provides\n",
      "  1. An array object of arbitrary homogeneous items\n",
      "  2. Fast mathematical operations over arrays\n",
      "  3. Linear Algebra, Fourier Transforms, Random Number Generation\n",
      "\n",
      "How to use the documentation\n",
      "----------------------------\n",
      "Documentation is available in two forms: docstrings provided\n",
      "with the code, and a loose standing reference guide, available from\n",
      "`the NumPy homepage <https://numpy.org>`_.\n",
      "\n",
      "We recommend exploring the docstrings using\n",
      "`IPython <https://ipython.org>`_, an advanced Python shell with\n",
      "TAB-completion and introspection capabilities.  See below for further\n",
      "instructions.\n",
      "\n",
      "The docstring examples assume that `numpy` has been imported as `np`::\n",
      "\n",
      "  >>> import numpy as np\n",
      "\n",
      "Code snippets are indicated by three greater-than signs::\n",
      "\n",
      "  >>> x = 42\n",
      "  >>> x = x + 1\n",
      "\n",
      "Use the built-in ``help`` function to view a function's docstring::\n",
      "\n",
      "  >>> help(np.sort)\n",
      "  ... # doctest: +SKIP\n",
      "\n",
      "For some objects, ``np.info(obj)`` may provide additional help.  This is\n",
      "particularly true if you see the line \"Help on ufunc object:\" at the top\n",
      "of the help() page.  Ufuncs are implemented in C, not Python, for speed.\n",
      "The native Python help() does not know how to view their help, but our\n",
      "np.info() function does.\n",
      "\n",
      "To search for documents containing a keyword, do::\n",
      "\n",
      "  >>> np.lookfor('keyword')\n",
      "  ... # doctest: +SKIP\n",
      "\n",
      "General-purpose documents like a glossary and help on the basic concepts\n",
      "of numpy are available under the ``doc`` sub-module::\n",
      "\n",
      "  >>> from numpy import doc\n",
      "  >>> help(doc)\n",
      "  ... # doctest: +SKIP\n",
      "\n",
      "Available subpackages\n",
      "---------------------\n",
      "lib\n",
      "    Basic functions used by several sub-packages.\n",
      "random\n",
      "    Core Random Tools\n",
      "linalg\n",
      "    Core Linear Algebra Tools\n",
      "fft\n",
      "    Core FFT routines\n",
      "polynomial\n",
      "    Polynomial tools\n",
      "testing\n",
      "    NumPy testing tools\n",
      "distutils\n",
      "    Enhancements to distutils with support for\n",
      "    Fortran compilers support and more.\n",
      "\n",
      "Utilities\n",
      "---------\n",
      "test\n",
      "    Run numpy unittests\n",
      "show_config\n",
      "    Show numpy build configuration\n",
      "dual\n",
      "    Overwrite certain functions with high-performance SciPy tools.\n",
      "    Note: `numpy.dual` is deprecated.  Use the functions from NumPy or Scipy\n",
      "    directly instead of importing them from `numpy.dual`.\n",
      "matlib\n",
      "    Make everything matrices.\n",
      "__version__\n",
      "    NumPy version string\n",
      "\n",
      "Viewing documentation using IPython\n",
      "-----------------------------------\n",
      "Start IPython with the NumPy profile (``ipython -p numpy``), which will\n",
      "import `numpy` under the alias `np`.  Then, use the ``cpaste`` command to\n",
      "paste examples into the shell.  To see which functions are available in\n",
      "`numpy`, type ``np.<TAB>`` (where ``<TAB>`` refers to the TAB key), or use\n",
      "``np.*cos*?<ENTER>`` (where ``<ENTER>`` refers to the ENTER key) to narrow\n",
      "down the list.  To view the docstring for a function, use\n",
      "``np.cos?<ENTER>`` (to view the docstring) and ``np.cos??<ENTER>`` (to view\n",
      "the source code).\n",
      "\n",
      "Copies vs. in-place operation\n",
      "-----------------------------\n",
      "Most of the functions in `numpy` return a copy of the array argument\n",
      "(e.g., `np.sort`).  In-place versions of these functions are often\n",
      "available as array methods, i.e. ``x = np.array([1,2,3]); x.sort()``.\n",
      "Exceptions to this rule are documented.\n",
      "\n",
      "\n"
     ]
    }
   ],
   "source": [
    "print(np.__doc__)"
   ]
  },
  {
   "cell_type": "code",
   "execution_count": 12,
   "id": "d59e4744-6f6d-4cd7-9f9c-1788dd5b836d",
   "metadata": {},
   "outputs": [],
   "source": [
    "l = [1,2,3,4,5,6]\n"
   ]
  },
  {
   "cell_type": "code",
   "execution_count": 14,
   "id": "a8212c68-388a-4024-80cc-26b04e94e2b6",
   "metadata": {},
   "outputs": [
    {
     "data": {
      "text/plain": [
       "array([1, 2, 3, 4, 5, 6])"
      ]
     },
     "execution_count": 14,
     "metadata": {},
     "output_type": "execute_result"
    }
   ],
   "source": [
    "np.array(l)"
   ]
  },
  {
   "cell_type": "code",
   "execution_count": 9,
   "id": "e7662d5f-0f7b-4114-b593-100ac6462ad9",
   "metadata": {},
   "outputs": [
    {
     "data": {
      "text/plain": [
       "'1.23.5'"
      ]
     },
     "execution_count": 9,
     "metadata": {},
     "output_type": "execute_result"
    }
   ],
   "source": [
    "np.__version__"
   ]
  },
  {
   "cell_type": "code",
   "execution_count": 10,
   "id": "edd1be62-21d2-4ac0-bb02-64d92c02e90c",
   "metadata": {},
   "outputs": [
    {
     "data": {
      "text/plain": [
       "module"
      ]
     },
     "execution_count": 10,
     "metadata": {},
     "output_type": "execute_result"
    }
   ],
   "source": [
    "type(np)"
   ]
  },
  {
   "cell_type": "code",
   "execution_count": 15,
   "id": "fa90d301-8e19-475e-83cf-4aa3464dfcfd",
   "metadata": {},
   "outputs": [],
   "source": [
    "ab=np.array(l)"
   ]
  },
  {
   "cell_type": "code",
   "execution_count": 16,
   "id": "75be96a1-f0a0-4d58-b5e0-9f388245ba22",
   "metadata": {},
   "outputs": [
    {
     "data": {
      "text/plain": [
       "numpy.ndarray"
      ]
     },
     "execution_count": 16,
     "metadata": {},
     "output_type": "execute_result"
    }
   ],
   "source": [
    "type(ab)"
   ]
  },
  {
   "cell_type": "code",
   "execution_count": 5,
   "id": "073a88ae-8661-41de-ab70-b468f83acc72",
   "metadata": {},
   "outputs": [
    {
     "data": {
      "text/plain": [
       "'dlrow olleeh'"
      ]
     },
     "execution_count": 5,
     "metadata": {},
     "output_type": "execute_result"
    }
   ],
   "source": [
    "def ab(string):\n",
    "    return string[::-1]\n",
    "ab(\"heello world\")"
   ]
  },
  {
   "cell_type": "code",
   "execution_count": 14,
   "id": "d0d4a471-705c-49af-8772-cb3d112fbbc6",
   "metadata": {},
   "outputs": [
    {
     "name": "stdout",
     "output_type": "stream",
     "text": [
      "dlrow olleh"
     ]
    }
   ],
   "source": [
    "ab=\"hello world\"\n",
    "for char in reversed(ab):\n",
    "    print(char,end=\"\")\n"
   ]
  },
  {
   "cell_type": "code",
   "execution_count": 34,
   "id": "2296932f-ab4f-4971-8ca2-0f10a4f2aff4",
   "metadata": {},
   "outputs": [
    {
     "name": "stdout",
     "output_type": "stream",
     "text": [
      "[1, 2, 3, 4, 5, 6, 7, 8, 9, 10, 11, 12, 13, 14, 15, 16, 17, 18, 19, 20, 21, 22, 23, 24, 25, 26, 27, 28, 29, 30, 31, 32, 33, 34, 35, 36, 37, 38, 39, 40, 41, 42, 43, 44, 45, 46, 47, 48, 49, 50, 51, 52, 53, 54, 55, 56, 57, 58, 59, 60, 61, 62, 63, 64, 65, 66, 67, 68, 69, 70, 71, 72, 73, 74, 75, 76, 77, 78, 79, 80, 81, 82, 83, 84, 85, 86, 87, 88, 89, 90, 91, 92, 93, 94, 95, 96, 97, 98, 99, 100, 101, 102, 103, 104, 105, 106, 107, 108, 109, 110, 111, 112, 113, 114, 115, 116, 117, 118, 119, 120, 121, 122, 123, 124, 125, 126, 127, 128, 129, 130, 131, 132, 133, 134, 135, 136, 137, 138, 139, 140, 141, 142, 143, 144, 145, 146, 147, 148, 149, 150, 151, 152, 153, 154, 155, 156, 157, 158, 159, 160, 161, 162, 163, 164, 165, 166, 167, 168, 169, 170, 171, 172, 173, 174, 175, 176, 177, 178, 179, 180, 181, 182, 183, 184, 185, 186, 187, 188, 189, 190, 191, 192, 193, 194, 195, 196, 197, 198, 199, 200]\n"
     ]
    }
   ],
   "source": [
    "Var1 = range(1,201)\n",
    "print(list(Var1))"
   ]
  },
  {
   "cell_type": "code",
   "execution_count": null,
   "id": "f838e836-80f8-4989-b042-c2d459e17d6a",
   "metadata": {},
   "outputs": [
    {
     "name": "stdout",
     "output_type": "stream",
     "text": [
      "2 3 5 7 11 13 17 19 23 29 31 37 41 43 47 53 59 61 67 71 73 79 83 89 97 101 103 107 109 113 127 131 137 139 149 151 157 163 167 173 179 181 191 193 197 199 "
     ]
    }
   ],
   "source": [
    "# Function to check if a number is prime\n",
    "def is_prime(num):\n",
    "    lis=[]\n",
    "    if num < 2:\n",
    "        return 0\n",
    "    for i in range(2, int(num**0.5) + 1):\n",
    "        if num % i == 0:\n",
    "            return False\n",
    "    return lis.append\n",
    "\n",
    "# Print prime numbers between 1 and 100\n",
    "for num in range(1, 201):\n",
    "    if is_prime(num):\n",
    "        print(num,end=\" \")"
   ]
  },
  {
   "cell_type": "code",
   "execution_count": 58,
   "id": "c624e251-69cb-4983-be1f-ddab3dab1c1d",
   "metadata": {},
   "outputs": [
    {
     "name": "stdout",
     "output_type": "stream",
     "text": [
      "2 3 5 7 11 13 17 19 23 29 31 37 41 43 47 53 59 61 67 71 73 79 83 89 97 101 103 107 109 113 127 131 137 139 149 151 157 163 167 173 179 181 191 193 197 199 "
     ]
    }
   ],
   "source": [
    "def is_prime(num,i=2):\n",
    "    lis=[]\n",
    "    if num < 2:\n",
    "        return 0\n",
    "    elif num <= 2:\n",
    "        return num==2\n",
    "    elif num % i == 0:\n",
    "        return 0\n",
    "    elif i * i > num:\n",
    "        return True\n",
    "    return is_prime(num,i+1)\n",
    "# Print prime numbers between 1 and 200\n",
    "for num in range(1, 201):\n",
    "    if is_prime(num):\n",
    "        print(num,end=\" \")"
   ]
  },
  {
   "cell_type": "code",
   "execution_count": 46,
   "id": "0fecc68d-cc67-4161-ad27-98e2237a10c6",
   "metadata": {},
   "outputs": [
    {
     "name": "stdout",
     "output_type": "stream",
     "text": [
      "2 3 4 5 6 7 8 9 10 11 12 13 14 15 16 17 18 19 20 21 22 23 24 25 26 27 28 29 30 31 32 33 34 35 36 37 38 39 40 41 42 43 44 45 46 47 48 49 50 51 52 53 54 55 56 57 58 59 60 61 62 63 64 65 66 67 68 69 70 71 72 73 74 75 76 77 78 79 80 81 82 83 84 85 86 87 88 89 90 91 92 93 94 95 96 97 98 99 100 101 102 103 104 105 106 107 108 109 110 111 112 113 114 115 116 117 118 119 120 121 122 123 124 125 126 127 128 129 130 131 132 133 134 135 136 137 138 139 140 141 142 143 144 145 146 147 148 149 150 151 152 153 154 155 156 157 158 159 160 161 162 163 164 165 166 167 168 169 170 171 172 173 174 175 176 177 178 179 180 181 182 183 184 185 186 187 188 189 190 191 192 193 194 195 196 197 198 199 "
     ]
    }
   ],
   "source": [
    "for j in range(2,num):\n",
    "    print(j,end=\" \")\n",
    "    "
   ]
  },
  {
   "cell_type": "code",
   "execution_count": 56,
   "id": "94466370-c9ad-4104-8c7d-592b0b9227e2",
   "metadata": {},
   "outputs": [
    {
     "name": "stdout",
     "output_type": "stream",
     "text": [
      "127 is a prime number.\n"
     ]
    }
   ],
   "source": [
    "\n",
    "def is_prime(n, i=2):\n",
    "    if n <= 2:\n",
    "        return n == 2\n",
    "    if n % i == 0:\n",
    "        return False\n",
    "    if i * i > n:\n",
    "        return True\n",
    "    return is_prime(n, i + 1)\n",
    "# Test the function\n",
    "num = 127\n",
    "if is_prime(num):\n",
    "    print(f\"{num} is a prime number.\")\n",
    "else:\n",
    "    print(f\"{num} is not a prime number.\")"
   ]
  },
  {
   "cell_type": "code",
   "execution_count": 4,
   "id": "d71dce36-9f7b-415a-b871-a23d73eeda60",
   "metadata": {},
   "outputs": [
    {
     "name": "stdout",
     "output_type": "stream",
     "text": [
      "[2, 3, 5, 7, 11, 13, 17, 19, 23, 29, 31, 37, 41, 43, 47, 53, 59, 61, 67, 71, 73, 79, 83, 89, 97, 101, 103, 107, 109, 113, 127, 131, 137, 139, 149, 151, 157, 163, 167, 173, 179, 181, 191, 193, 197, 199, 211, 223, 227, 229, 233, 239, 241, 251, 257, 263, 269, 271, 277, 281, 283, 293, 307, 311, 313, 317, 331, 337, 347, 349, 353, 359, 367, 373, 379, 383, 389, 397, 401, 409, 419, 421, 431, 433, 439, 443, 449, 457, 461, 463, 467, 479, 487, 491, 499, 503, 509, 521, 523, 541, 547, 557, 563, 569, 571, 577, 587, 593, 599, 601, 607, 613, 617, 619, 631, 641, 643, 647, 653, 659, 661, 673, 677, 683, 691, 701, 709, 719, 727, 733, 739, 743, 751, 757, 761, 769, 773, 787, 797, 809, 811, 821, 823, 827, 829, 839, 853, 857, 859, 863, 877, 881, 883, 887, 907, 911, 919, 929, 937, 941, 947, 953, 967, 971, 977, 983, 991, 997]\n"
     ]
    }
   ],
   "source": [
    "from functools import reduce\n",
    "print(list(filter(None,map(lambda y:y*reduce(lambda x,y:x*y!=0, map(lambda x,y=y:y%x,range(2,int(pow(y,0.5)+1))),1),range(2,1000)))))"
   ]
  },
  {
   "cell_type": "markdown",
   "id": "1cb0e8ea-3f42-4eb7-921a-cce2fa035af9",
   "metadata": {},
   "source": [
    "# matplotly and seaborn live class 11-09-2024"
   ]
  },
  {
   "cell_type": "code",
   "execution_count": 2,
   "id": "2f294a08-3c6b-438d-b760-f418d3c88516",
   "metadata": {},
   "outputs": [],
   "source": [
    "import pandas as pd\n",
    "import numpy as np\n",
    "import matplotlib.pyplot as plt\n",
    "import seaborn as sns\n",
    "\n",
    "import warnings\n",
    "warnings.filterwarnings('ignore') "
   ]
  },
  {
   "cell_type": "markdown",
   "id": "168b56bc-f853-4726-9971-843bf66f4b2d",
   "metadata": {},
   "source": [
    "interview question on pandas \n",
    "1) what is merge,join,and append,and concetate difference\n",
    "2) what is group by\n",
    "3) how to convert column into pandas date time\n",
    "4) explain diffent types of join?\n",
    "\n",
    "interview question on seaborn and metplotly\n",
    "1) why do we need visuliation?"
   ]
  },
  {
   "cell_type": "markdown",
   "id": "624293a1-efa3-4d5f-a347-2e656eeb6a95",
   "metadata": {},
   "source": [
    "when to use ?\n",
    "1) scatter plot:-to find relationship b/w 2 numerical varible \n",
    "2) line chart:-to show the trend\n",
    "3) pie chart:-to get percentage distribution of data \n",
    "4) bar plot:-distribution for categarical data\n",
    "(1) countplot,(2)frequencyplot\n",
    "5) histogram:-for continuous numerical data \n",
    "6) box plot , violinplot:-to detect outlines\n",
    "7) heatmap:-values with colour maping"
   ]
  },
  {
   "cell_type": "code",
   "execution_count": 5,
   "id": "59aee486-3168-4985-88a0-577c8f7b120c",
   "metadata": {},
   "outputs": [
    {
     "data": {
      "text/plain": [
       "<matplotlib.collections.PathCollection at 0x763cc126a980>"
      ]
     },
     "execution_count": 5,
     "metadata": {},
     "output_type": "execute_result"
    },
    {
     "data": {
      "image/png": "[encoded data removed]",
      "text/plain": [
       "<Figure size 640x480 with 1 Axes>"
      ]
     },
     "metadata": {},
     "output_type": "display_data"
    }
   ],
   "source": [
    "x=np.random.randn(50)\n",
    "y=np.random.randn(50)\n",
    "plt.scatter(x,y)"
   ]
  },
  {
   "cell_type": "code",
   "execution_count": 6,
   "id": "7b2d36a4-bdf8-4626-bc96-7f713dc857ee",
   "metadata": {},
   "outputs": [],
   "source": [
    "#make 6 subplot"
   ]
  },
  {
   "cell_type": "code",
   "execution_count": 7,
   "id": "67220cd5-2e70-4265-be04-d4ca1a647cbc",
   "metadata": {},
   "outputs": [],
   "source": [
    "#fmri and filghts "
   ]
  },
  {
   "cell_type": "code",
   "execution_count": 8,
   "id": "a3de1ee9-a571-4172-8104-037f4d68ddfb",
   "metadata": {},
   "outputs": [],
   "source": [
    "df=sns.load_dataset(\"flights\")"
   ]
  },
  {
   "cell_type": "code",
   "execution_count": 9,
   "id": "60a91ea4-2239-486f-9c48-5fccedf3e49b",
   "metadata": {},
   "outputs": [
    {
     "data": {
      "text/html": [
       "<div>\n",
       "<style scoped>\n",
       "    .dataframe tbody tr th:only-of-type {\n",
       "        vertical-align: middle;\n",
       "    }\n",
       "\n",
       "    .dataframe tbody tr th {\n",
       "        vertical-align: top;\n",
       "    }\n",
       "\n",
       "    .dataframe thead th {\n",
       "        text-align: right;\n",
       "    }\n",
       "</style>\n",
       "<table border=\"1\" class=\"dataframe\">\n",
       "  <thead>\n",
       "    <tr style=\"text-align: right;\">\n",
       "      <th></th>\n",
       "      <th>year</th>\n",
       "      <th>month</th>\n",
       "      <th>passengers</th>\n",
       "    </tr>\n",
       "  </thead>\n",
       "  <tbody>\n",
       "    <tr>\n",
       "      <th>0</th>\n",
       "      <td>1949</td>\n",
       "      <td>Jan</td>\n",
       "      <td>112</td>\n",
       "    </tr>\n",
       "    <tr>\n",
       "      <th>1</th>\n",
       "      <td>1949</td>\n",
       "      <td>Feb</td>\n",
       "      <td>118</td>\n",
       "    </tr>\n",
       "    <tr>\n",
       "      <th>2</th>\n",
       "      <td>1949</td>\n",
       "      <td>Mar</td>\n",
       "      <td>132</td>\n",
       "    </tr>\n",
       "    <tr>\n",
       "      <th>3</th>\n",
       "      <td>1949</td>\n",
       "      <td>Apr</td>\n",
       "      <td>129</td>\n",
       "    </tr>\n",
       "    <tr>\n",
       "      <th>4</th>\n",
       "      <td>1949</td>\n",
       "      <td>May</td>\n",
       "      <td>121</td>\n",
       "    </tr>\n",
       "    <tr>\n",
       "      <th>...</th>\n",
       "      <td>...</td>\n",
       "      <td>...</td>\n",
       "      <td>...</td>\n",
       "    </tr>\n",
       "    <tr>\n",
       "      <th>139</th>\n",
       "      <td>1960</td>\n",
       "      <td>Aug</td>\n",
       "      <td>606</td>\n",
       "    </tr>\n",
       "    <tr>\n",
       "      <th>140</th>\n",
       "      <td>1960</td>\n",
       "      <td>Sep</td>\n",
       "      <td>508</td>\n",
       "    </tr>\n",
       "    <tr>\n",
       "      <th>141</th>\n",
       "      <td>1960</td>\n",
       "      <td>Oct</td>\n",
       "      <td>461</td>\n",
       "    </tr>\n",
       "    <tr>\n",
       "      <th>142</th>\n",
       "      <td>1960</td>\n",
       "      <td>Nov</td>\n",
       "      <td>390</td>\n",
       "    </tr>\n",
       "    <tr>\n",
       "      <th>143</th>\n",
       "      <td>1960</td>\n",
       "      <td>Dec</td>\n",
       "      <td>432</td>\n",
       "    </tr>\n",
       "  </tbody>\n",
       "</table>\n",
       "<p>144 rows × 3 columns</p>\n",
       "</div>"
      ],
      "text/plain": [
       "     year month  passengers\n",
       "0    1949   Jan         112\n",
       "1    1949   Feb         118\n",
       "2    1949   Mar         132\n",
       "3    1949   Apr         129\n",
       "4    1949   May         121\n",
       "..    ...   ...         ...\n",
       "139  1960   Aug         606\n",
       "140  1960   Sep         508\n",
       "141  1960   Oct         461\n",
       "142  1960   Nov         390\n",
       "143  1960   Dec         432\n",
       "\n",
       "[144 rows x 3 columns]"
      ]
     },
     "execution_count": 9,
     "metadata": {},
     "output_type": "execute_result"
    }
   ],
   "source": [
    "df"
   ]
  },
  {
   "cell_type": "code",
   "execution_count": 19,
   "id": "b78b085d-f223-43e7-a819-5caebe50c7b8",
   "metadata": {},
   "outputs": [],
   "source": [
    "import numpy as np\n",
    "import pandas as pd\n",
    "from sklearn.datasets import make_classification\n",
    "import matplotlib.pyplot as plt\n",
    "from matplotlib import rcParams\n",
    "step=1"
   ]
  },
  {
   "cell_type": "code",
   "execution_count": 20,
   "id": "1616fea6-98b2-4d85-abfc-618a9efe74f7",
   "metadata": {},
   "outputs": [],
   "source": [
    "rcParams['axes.spines.top'] = False\n",
    "rcParams['axes.spines.right'] = False"
   ]
  },
  {
   "cell_type": "code",
   "execution_count": 21,
   "id": "f5fa428b-aa41-4229-b264-2f0e646fc7c0",
   "metadata": {},
   "outputs": [],
   "source": [
    "X, y = make_classification(\n",
    "n_samples=1000,\n",
    "n_features=2,\n",
    "n_redundant=0,\n",
    "n_clusters_per_class=1,\n",
    "random_state=42,\n",
    "weights=[0.50]\n",
    ")"
   ]
  },
  {
   "cell_type": "code",
   "execution_count": 22,
   "id": "3324af12-7e35-4ef9-abff-e6424c0e10e8",
   "metadata": {},
   "outputs": [
    {
     "name": "stdout",
     "output_type": "stream",
     "text": [
      "           x1        x2  y\n",
      "161  2.753670 -0.155752  0\n",
      "783  1.957056 -0.474319  0\n",
      "111  1.813154 -0.492274  0\n",
      "685  1.144938  0.862788  1\n",
      "68   1.838534 -0.825089  0\n",
      "664 -0.549301  2.062139  1\n",
      "127  0.471293  1.982358  1\n",
      "235  1.502905 -0.710028  0\n",
      "434  1.382294 -0.618975  0\n",
      "253  2.039587  0.402041  1\n"
     ]
    }
   ],
   "source": [
    "df = pd.concat([pd.DataFrame(X), pd.Series(y)], axis=1)\n",
    "df.columns = ['x1', 'x2', 'y']\n",
    "if(step==1):\n",
    "    print(df.sample(10))"
   ]
  },
  {
   "cell_type": "code",
   "execution_count": 23,
   "id": "71f55ec1-b912-44c5-a71d-d52c4125c7b3",
   "metadata": {},
   "outputs": [
    {
     "name": "stdout",
     "output_type": "stream",
     "text": [
      "Collecting synthetic-data\n",
      "  Downloading synthetic_data-1.2.3-py3-none-any.whl (27 kB)\n",
      "Collecting dataprofiler>=0.10.3\n",
      "  Downloading DataProfiler-0.12.0-py3-none-any.whl (11.9 MB)\n",
      "\u001b[2K     \u001b[90m━━━━━━━━━━━━━━━━━━━━━━━━━━━━━━━━━━━━━━━━\u001b[0m \u001b[32m11.9/11.9 MB\u001b[0m \u001b[31m20.9 MB/s\u001b[0m eta \u001b[36m0:00:00\u001b[0m00:01\u001b[0m0:01\u001b[0m\n",
      "\u001b[?25hCollecting scipy>=1.10.0\n",
      "  Downloading scipy-1.14.1-cp310-cp310-manylinux_2_17_x86_64.manylinux2014_x86_64.whl (41.2 MB)\n",
      "\u001b[2K     \u001b[90m━━━━━━━━━━━━━━━━━━━━━━━━━━━━━━━━━━━━━━━━\u001b[0m \u001b[32m41.2/41.2 MB\u001b[0m \u001b[31m28.0 MB/s\u001b[0m eta \u001b[36m0:00:00\u001b[0m00:01\u001b[0m00:01\u001b[0m\n",
      "\u001b[?25hRequirement already satisfied: numpy>=1.22.0 in /opt/conda/lib/python3.10/site-packages (from synthetic-data) (1.23.5)\n",
      "Requirement already satisfied: scikit-learn>=1.1.0 in /opt/conda/lib/python3.10/site-packages (from synthetic-data) (1.2.0)\n",
      "Requirement already satisfied: python-dateutil>=2.7.5 in /opt/conda/lib/python3.10/site-packages (from dataprofiler>=0.10.3->synthetic-data) (2.8.2)\n",
      "Requirement already satisfied: pandas>=1.1.2 in /opt/conda/lib/python3.10/site-packages (from dataprofiler>=0.10.3->synthetic-data) (1.5.2)\n",
      "Collecting packaging>=23.0\n",
      "  Downloading packaging-24.1-py3-none-any.whl (53 kB)\n",
      "\u001b[2K     \u001b[90m━━━━━━━━━━━━━━━━━━━━━━━━━━━━━━━━━━━━━━━━\u001b[0m \u001b[32m54.0/54.0 kB\u001b[0m \u001b[31m2.5 MB/s\u001b[0m eta \u001b[36m0:00:00\u001b[0m\n",
      "\u001b[?25hRequirement already satisfied: requests>=2.28.1 in /opt/conda/lib/python3.10/site-packages (from dataprofiler>=0.10.3->synthetic-data) (2.28.1)\n",
      "Collecting pyarrow>=1.0.1\n",
      "  Downloading pyarrow-17.0.0-cp310-cp310-manylinux_2_28_x86_64.whl (39.9 MB)\n",
      "\u001b[2K     \u001b[90m━━━━━━━━━━━━━━━━━━━━━━━━━━━━━━━━━━━━━━━━\u001b[0m \u001b[32m39.9/39.9 MB\u001b[0m \u001b[31m29.5 MB/s\u001b[0m eta \u001b[36m0:00:00\u001b[0m00:01\u001b[0m00:01\u001b[0m\n",
      "\u001b[?25hCollecting boto3>=1.28.61\n",
      "  Downloading boto3-1.35.18-py3-none-any.whl (139 kB)\n",
      "\u001b[2K     \u001b[90m━━━━━━━━━━━━━━━━━━━━━━━━━━━━━━━━━━━━━━\u001b[0m \u001b[32m139.2/139.2 kB\u001b[0m \u001b[31m19.0 MB/s\u001b[0m eta \u001b[36m0:00:00\u001b[0m\n",
      "\u001b[?25hCollecting chardet>=3.0.4\n",
      "  Downloading chardet-5.2.0-py3-none-any.whl (199 kB)\n",
      "\u001b[2K     \u001b[90m━━━━━━━━━━━━━━━━━━━━━━━━━━━━━━━━━━━━━━\u001b[0m \u001b[32m199.4/199.4 kB\u001b[0m \u001b[31m24.6 MB/s\u001b[0m eta \u001b[36m0:00:00\u001b[0m\n",
      "\u001b[?25hRequirement already satisfied: charset-normalizer>=1.3.6 in /opt/conda/lib/python3.10/site-packages (from dataprofiler>=0.10.3->synthetic-data) (2.1.1)\n",
      "Requirement already satisfied: typing-extensions>=3.10.0.2 in /opt/conda/lib/python3.10/site-packages (from dataprofiler>=0.10.3->synthetic-data) (4.4.0)\n",
      "Requirement already satisfied: pytz>=2020.1 in /opt/conda/lib/python3.10/site-packages (from dataprofiler>=0.10.3->synthetic-data) (2022.6)\n",
      "Requirement already satisfied: psutil>=4.0.0 in /opt/conda/lib/python3.10/site-packages (from dataprofiler>=0.10.3->synthetic-data) (5.9.4)\n",
      "Requirement already satisfied: h5py>=2.10.0 in /opt/conda/lib/python3.10/site-packages (from dataprofiler>=0.10.3->synthetic-data) (3.7.0)\n",
      "Collecting python-snappy>=0.5.4\n",
      "  Downloading python_snappy-0.7.3-py3-none-any.whl (9.2 kB)\n",
      "Requirement already satisfied: wheel>=0.33.1 in /opt/conda/lib/python3.10/site-packages (from dataprofiler>=0.10.3->synthetic-data) (0.38.4)\n",
      "Collecting datasketches>=4.1.0\n",
      "  Downloading datasketches-5.0.2-cp310-cp310-manylinux_2_17_x86_64.manylinux2014_x86_64.whl (678 kB)\n",
      "\u001b[2K     \u001b[90m━━━━━━━━━━━━━━━━━━━━━━━━━━━━━━━━━━━━━━\u001b[0m \u001b[32m678.5/678.5 kB\u001b[0m \u001b[31m40.7 MB/s\u001b[0m eta \u001b[36m0:00:00\u001b[0m\n",
      "\u001b[?25hRequirement already satisfied: networkx>=2.5.1 in /opt/conda/lib/python3.10/site-packages (from dataprofiler>=0.10.3->synthetic-data) (2.8.8)\n",
      "Collecting fastavro>=1.1.0\n",
      "  Downloading fastavro-1.9.7-cp310-cp310-manylinux_2_17_x86_64.manylinux2014_x86_64.whl (3.1 MB)\n",
      "\u001b[2K     \u001b[90m━━━━━━━━━━━━━━━━━━━━━━━━━━━━━━━━━━━━━━━━\u001b[0m \u001b[32m3.1/3.1 MB\u001b[0m \u001b[31m61.7 MB/s\u001b[0m eta \u001b[36m0:00:00\u001b[0m:00:01\u001b[0m\n",
      "\u001b[?25hCollecting HLL>=2.0.3\n",
      "  Downloading HLL-2.2.0.tar.gz (13 kB)\n",
      "  Preparing metadata (setup.py) ... \u001b[?25ldone\n",
      "\u001b[?25hRequirement already satisfied: joblib>=1.1.1 in /opt/conda/lib/python3.10/site-packages (from scikit-learn>=1.1.0->synthetic-data) (1.2.0)\n",
      "Requirement already satisfied: threadpoolctl>=2.0.0 in /opt/conda/lib/python3.10/site-packages (from scikit-learn>=1.1.0->synthetic-data) (3.1.0)\n",
      "Collecting s3transfer<0.11.0,>=0.10.0\n",
      "  Downloading s3transfer-0.10.2-py3-none-any.whl (82 kB)\n",
      "\u001b[2K     \u001b[90m━━━━━━━━━━━━━━━━━━━━━━━━━━━━━━━━━━━━━━━━\u001b[0m \u001b[32m82.7/82.7 kB\u001b[0m \u001b[31m11.7 MB/s\u001b[0m eta \u001b[36m0:00:00\u001b[0m\n",
      "\u001b[?25hCollecting botocore<1.36.0,>=1.35.18\n",
      "  Downloading botocore-1.35.18-py3-none-any.whl (12.5 MB)\n",
      "\u001b[2K     \u001b[90m━━━━━━━━━━━━━━━━━━━━━━━━━━━━━━━━━━━━━━━━\u001b[0m \u001b[32m12.5/12.5 MB\u001b[0m \u001b[31m55.5 MB/s\u001b[0m eta \u001b[36m0:00:00\u001b[0m00:01\u001b[0m00:01\u001b[0m\n",
      "\u001b[?25hCollecting jmespath<2.0.0,>=0.7.1\n",
      "  Downloading jmespath-1.0.1-py3-none-any.whl (20 kB)\n",
      "Requirement already satisfied: six>=1.5 in /opt/conda/lib/python3.10/site-packages (from python-dateutil>=2.7.5->dataprofiler>=0.10.3->synthetic-data) (1.16.0)\n",
      "Collecting cramjam\n",
      "  Downloading cramjam-2.8.3-cp310-cp310-manylinux_2_17_x86_64.manylinux2014_x86_64.whl (2.0 MB)\n",
      "\u001b[2K     \u001b[90m━━━━━━━━━━━━━━━━━━━━━━━━━━━━━━━━━━━━━━━━\u001b[0m \u001b[32m2.0/2.0 MB\u001b[0m \u001b[31m60.0 MB/s\u001b[0m eta \u001b[36m0:00:00\u001b[0m\n",
      "\u001b[?25hRequirement already satisfied: urllib3<1.27,>=1.21.1 in /opt/conda/lib/python3.10/site-packages (from requests>=2.28.1->dataprofiler>=0.10.3->synthetic-data) (1.26.13)\n",
      "Requirement already satisfied: idna<4,>=2.5 in /opt/conda/lib/python3.10/site-packages (from requests>=2.28.1->dataprofiler>=0.10.3->synthetic-data) (3.4)\n",
      "Requirement already satisfied: certifi>=2017.4.17 in /opt/conda/lib/python3.10/site-packages (from requests>=2.28.1->dataprofiler>=0.10.3->synthetic-data) (2022.12.7)\n",
      "Building wheels for collected packages: HLL\n",
      "  Building wheel for HLL (setup.py) ... \u001b[?25ldone\n",
      "\u001b[?25h  Created wheel for HLL: filename=HLL-2.2.0-cp310-cp310-linux_x86_64.whl size=13016 sha256=3077f12cf8e6742bfd558e27ad4f55b41be71e5daa71e96077779ced25306cc4\n",
      "  Stored in directory: /home/jovyan/.cache/pip/wheels/e2/c2/47/4ede366c9233eef34e5810348f9653a2c0756ec141c2aa38da\n",
      "Successfully built HLL\n",
      "Installing collected packages: scipy, pyarrow, packaging, jmespath, HLL, fastavro, datasketches, cramjam, chardet, python-snappy, botocore, s3transfer, boto3, dataprofiler, synthetic-data\n",
      "  Attempting uninstall: scipy\n",
      "    Found existing installation: scipy 1.9.3\n",
      "    Uninstalling scipy-1.9.3:\n",
      "      Successfully uninstalled scipy-1.9.3\n",
      "  Attempting uninstall: packaging\n",
      "    Found existing installation: packaging 22.0\n",
      "    Uninstalling packaging-22.0:\n",
      "      Successfully uninstalled packaging-22.0\n",
      "Successfully installed HLL-2.2.0 boto3-1.35.18 botocore-1.35.18 chardet-5.2.0 cramjam-2.8.3 dataprofiler-0.12.0 datasketches-5.0.2 fastavro-1.9.7 jmespath-1.0.1 packaging-24.1 pyarrow-17.0.0 python-snappy-0.7.3 s3transfer-0.10.2 scipy-1.14.1 synthetic-data-1.2.3\n",
      "Note: you may need to restart the kernel to use updated packages.\n"
     ]
    }
   ],
   "source": [
    "pip install synthetic-data"
   ]
  },
  {
   "cell_type": "code",
   "execution_count": null,
   "id": "92a6aed4-6b83-4eda-b9f7-6fd348f21d45",
   "metadata": {},
   "outputs": [],
   "source": []
  }
 ],
 "metadata": {
  "kernelspec": {
   "display_name": "Python 3 (ipykernel)",
   "language": "python",
   "name": "python3"
  },
  "language_info": {
   "codemirror_mode": {
    "name": "ipython",
    "version": 3
   },
   "file_extension": ".py",
   "mimetype": "text/x-python",
   "name": "python",
   "nbconvert_exporter": "python",
   "pygments_lexer": "ipython3",
   "version": "3.10.8"
  }
 },
 "nbformat": 4,
 "nbformat_minor": 5
}
