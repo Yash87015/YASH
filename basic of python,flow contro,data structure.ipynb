{
 "cells": [
  {
   "cell_type": "code",
   "execution_count": 2,
   "id": "021133a6-cf39-4083-9711-189ed35c6ad1",
   "metadata": {},
   "outputs": [
    {
     "name": "stdout",
     "output_type": "stream",
     "text": [
      "*******\n",
      "******\n",
      "*****\n",
      "****\n",
      "***\n",
      "**\n",
      "*\n",
      "\n"
     ]
    }
   ],
   "source": [
    "for i in range(0,8):\n",
    "    for j in range(i+1,8):\n",
    "        print(\"*\",end=\"\")\n",
    "    print(\"\")"
   ]
  },
  {
   "cell_type": "code",
   "execution_count": 1,
   "id": "7229034a-2726-4dee-850c-79c64f873884",
   "metadata": {},
   "outputs": [
    {
     "ename": "SyntaxError",
     "evalue": "invalid syntax (2039195660.py, line 1)",
     "output_type": "error",
     "traceback": [
      "\u001b[0;36m  Cell \u001b[0;32mIn[1], line 1\u001b[0;36m\u001b[0m\n\u001b[0;31m    extra mile\u001b[0m\n\u001b[0m          ^\u001b[0m\n\u001b[0;31mSyntaxError\u001b[0m\u001b[0;31m:\u001b[0m invalid syntax\n"
     ]
    }
   ],
   "source": [
    "#extra mile"
   ]
  },
  {
   "cell_type": "code",
   "execution_count": 2,
   "id": "43db7a76-af24-4bab-a0c4-ca8126b9b66a",
   "metadata": {},
   "outputs": [],
   "source": [
    "song=[\"blackpink\",\"hollywood\",\"bollywood\",\"tamil\"]"
   ]
  },
  {
   "cell_type": "code",
   "execution_count": 3,
   "id": "57cb5b85-3acb-4316-a8dc-c94f1bef2fa8",
   "metadata": {},
   "outputs": [
    {
     "data": {
      "text/plain": [
       "['blackpink', 'hollywood', 'bollywood', 'tamil']"
      ]
     },
     "execution_count": 3,
     "metadata": {},
     "output_type": "execute_result"
    }
   ],
   "source": [
    "sorted(song,reverse = True,key = len)"
   ]
  },
  {
   "cell_type": "code",
   "execution_count": 6,
   "id": "2868fda1-44d5-4ab6-9b71-5227e90066e1",
   "metadata": {},
   "outputs": [
    {
     "data": {
      "text/plain": [
       "['tamil', 'hollywood', 'bollywood', 'blackpink']"
      ]
     },
     "execution_count": 6,
     "metadata": {},
     "output_type": "execute_result"
    }
   ],
   "source": [
    "sorted(song,reverse = True)"
   ]
  },
  {
   "cell_type": "code",
   "execution_count": 5,
   "id": "1ddddaf6-8f88-4328-8516-1d5e77580de3",
   "metadata": {},
   "outputs": [
    {
     "data": {
      "text/plain": [
       "['blackpink', 'hollywood', 'bollywood', 'tamil']"
      ]
     },
     "execution_count": 5,
     "metadata": {},
     "output_type": "execute_result"
    }
   ],
   "source": [
    "sorted(song,reverse = True,key = len)"
   ]
  },
  {
   "cell_type": "code",
   "execution_count": 7,
   "id": "25fa6d90-60a6-4f9f-93fe-d2f39b68b00a",
   "metadata": {},
   "outputs": [
    {
     "data": {
      "text/plain": [
       "['blackpink', 'hollywood', 'bollywood', 'tamil']"
      ]
     },
     "execution_count": 7,
     "metadata": {},
     "output_type": "execute_result"
    }
   ],
   "source": [
    "song"
   ]
  },
  {
   "cell_type": "code",
   "execution_count": null,
   "id": "7f187984-f77d-44e9-bd0d-8c6d2b995bd4",
   "metadata": {},
   "outputs": [],
   "source": [
    "#conditiinal list comprehension #in alish you can not directly use endswith you can use this way"
   ]
  },
  {
   "cell_type": "code",
   "execution_count": 19,
   "id": "4b142e64-a2c4-42b6-b700-f1d09545b299",
   "metadata": {},
   "outputs": [],
   "source": [
    "name = ['aj@yahoo.com','kj@gmail.com','iu@yahoo.com','rt@gmail.com','we@yahoo.com','po@gmail.com']"
   ]
  },
  {
   "cell_type": "code",
   "execution_count": 25,
   "id": "e14c8a57-4168-46fc-bbc6-f5e7ee6e13a9",
   "metadata": {},
   "outputs": [
    {
     "data": {
      "text/plain": [
       "['aj@yahoo.com', 'iu@yahoo.com', 'we@yahoo.com']"
      ]
     },
     "execution_count": 25,
     "metadata": {},
     "output_type": "execute_result"
    }
   ],
   "source": [
    "[email for email in name if email.endswith(\"@yahoo.com\")]"
   ]
  },
  {
   "cell_type": "code",
   "execution_count": 38,
   "id": "4cb96040-c821-4759-9966-2b8c27558070",
   "metadata": {},
   "outputs": [
    {
     "data": {
      "text/plain": [
       "[[1, 4], [1, 5], [1, 6], [2, 4], [2, 5], [2, 6], [3, 4], [3, 5], [3, 6]]"
      ]
     },
     "execution_count": 38,
     "metadata": {},
     "output_type": "execute_result"
    }
   ],
   "source": [
    "#nested listcomprehension\n",
    "pairs = []\n",
    "for x in [1,2,3]:\n",
    "    for y in [4,5,6]:\n",
    "        pairs.append([x,y])\n",
    "pairs"
   ]
  },
  {
   "cell_type": "code",
   "execution_count": 34,
   "id": "bf434924-3099-422a-be95-6ddd0c0954aa",
   "metadata": {},
   "outputs": [
    {
     "data": {
      "text/plain": [
       "[[1, 4], [1, 5], [1, 6], [2, 4], [2, 5], [2, 6], [3, 4], [3, 5], [3, 6]]"
      ]
     },
     "execution_count": 34,
     "metadata": {},
     "output_type": "execute_result"
    }
   ],
   "source": [
    "[[x,y] for x in [1,2,3] for y in [4,5,6]] #nested listcomprehension"
   ]
  },
  {
   "cell_type": "code",
   "execution_count": null,
   "id": "2476215b-4b71-4544-9f0e-b96fbb3655f1",
   "metadata": {},
   "outputs": [],
   "source": [
    "#list stack and queue(optional)"
   ]
  },
  {
   "cell_type": "code",
   "execution_count": 35,
   "id": "8d0036f4-00a4-4e7a-9e08-ae64fd1cdeb7",
   "metadata": {},
   "outputs": [],
   "source": [
    "##last in first out"
   ]
  },
  {
   "cell_type": "code",
   "execution_count": 46,
   "id": "e68202b2-d906-41ca-970e-3eb160347513",
   "metadata": {},
   "outputs": [
    {
     "data": {
      "text/plain": [
       "['plate1', 'plate2', 'plate3', 'plate4']"
      ]
     },
     "execution_count": 46,
     "metadata": {},
     "output_type": "execute_result"
    }
   ],
   "source": [
    "stack_of_plates=[]\n",
    "stack_of_plates.append(\"plate1\")\n",
    "stack_of_plates.append(\"plate2\")\n",
    "stack_of_plates.append(\"plate3\")\n",
    "stack_of_plates.append(\"plate4\")\n",
    "stack_of_plates"
   ]
  },
  {
   "cell_type": "code",
   "execution_count": 47,
   "id": "dc2226d2-ed40-474e-a153-f474a03a962e",
   "metadata": {},
   "outputs": [
    {
     "data": {
      "text/plain": [
       "'plate4'"
      ]
     },
     "execution_count": 47,
     "metadata": {},
     "output_type": "execute_result"
    }
   ],
   "source": [
    "stack_of_plates.pop()\n"
   ]
  },
  {
   "cell_type": "code",
   "execution_count": 48,
   "id": "20400a3e-fb90-4686-90d0-a5470c1aa9ed",
   "metadata": {},
   "outputs": [
    {
     "data": {
      "text/plain": [
       "['plate1', 'plate2', 'plate3']"
      ]
     },
     "execution_count": 48,
     "metadata": {},
     "output_type": "execute_result"
    }
   ],
   "source": [
    "stack_of_plates"
   ]
  },
  {
   "cell_type": "code",
   "execution_count": 49,
   "id": "e640b4e5-8be2-42dd-b088-597d06e8deb0",
   "metadata": {},
   "outputs": [],
   "source": [
    "#queue(optional)"
   ]
  },
  {
   "cell_type": "code",
   "execution_count": null,
   "id": "5ec766c1-9333-40bb-b709-f1dea09de4ce",
   "metadata": {},
   "outputs": [],
   "source": [
    "#first in first out"
   ]
  },
  {
   "cell_type": "code",
   "execution_count": 69,
   "id": "8a0a79f8-02e1-4872-a83e-7534218556c7",
   "metadata": {},
   "outputs": [
    {
     "ename": "TypeError",
     "evalue": "'tuple' object is not callable",
     "output_type": "error",
     "traceback": [
      "\u001b[0;31m---------------------------------------------------------------------------\u001b[0m",
      "\u001b[0;31mTypeError\u001b[0m                                 Traceback (most recent call last)",
      "Cell \u001b[0;32mIn[69], line 2\u001b[0m\n\u001b[1;32m      1\u001b[0m deque \u001b[38;5;241m=\u001b[39m ()\n\u001b[0;32m----> 2\u001b[0m checkout \u001b[38;5;241m=\u001b[39m [\u001b[43mdeque\u001b[49m\u001b[43m(\u001b[49m\u001b[43m)\u001b[49m]\n\u001b[1;32m      3\u001b[0m checkout\u001b[38;5;241m.\u001b[39mappend(\u001b[38;5;124m\"\u001b[39m\u001b[38;5;124mcos1\u001b[39m\u001b[38;5;124m\"\u001b[39m)\n\u001b[1;32m      4\u001b[0m checkout\u001b[38;5;241m.\u001b[39mappend(\u001b[38;5;124m\"\u001b[39m\u001b[38;5;124mcos2\u001b[39m\u001b[38;5;124m\"\u001b[39m)\n",
      "\u001b[0;31mTypeError\u001b[0m: 'tuple' object is not callable"
     ]
    }
   ],
   "source": [
    "deque = ()\n",
    "checkout = [deque()]\n",
    "checkout.append(\"cos1\")\n",
    "checkout.append(\"cos2\")\n",
    "checkout.append(\"cos3\")\n",
    "checkout.append(\"cos4\")\n",
    "checkout"
   ]
  },
  {
   "cell_type": "code",
   "execution_count": 68,
   "id": "fb64c7ba-996c-417c-9a7d-7601b6e3f2e2",
   "metadata": {},
   "outputs": [
    {
     "ename": "AttributeError",
     "evalue": "'list' object has no attribute 'popleft'",
     "output_type": "error",
     "traceback": [
      "\u001b[0;31m---------------------------------------------------------------------------\u001b[0m",
      "\u001b[0;31mAttributeError\u001b[0m                            Traceback (most recent call last)",
      "Cell \u001b[0;32mIn[68], line 2\u001b[0m\n\u001b[1;32m      1\u001b[0m \u001b[38;5;28;01mwhile\u001b[39;00m checkout:\n\u001b[0;32m----> 2\u001b[0m     customer \u001b[38;5;241m=\u001b[39m \u001b[43mcheckout\u001b[49m\u001b[38;5;241;43m.\u001b[39;49m\u001b[43mpopleft\u001b[49m()\n\u001b[1;32m      3\u001b[0m     \u001b[38;5;28mprint\u001b[39m(\u001b[38;5;124m\"\u001b[39m\u001b[38;5;124mserving\u001b[39m\u001b[38;5;124m\"\u001b[39m,customer)\n",
      "\u001b[0;31mAttributeError\u001b[0m: 'list' object has no attribute 'popleft'"
     ]
    }
   ],
   "source": [
    "while checkout:\n",
    "    customer = checkout.popleft()\n",
    "    print(\"serving\",customer)"
   ]
  },
  {
   "cell_type": "code",
   "execution_count": 1,
   "id": "ae065987-d269-4852-81b8-ece17dead149",
   "metadata": {},
   "outputs": [],
   "source": [
    "d = {'name': ['Sanjay', \"Ajay\", 1, 2], 'email': 'aj@gmail.com', 'contact': (1234, 678)}"
   ]
  },
  {
   "cell_type": "code",
   "execution_count": 2,
   "id": "046f7a8d-4abd-4195-b5a5-0010bfd1252f",
   "metadata": {},
   "outputs": [],
   "source": [
    "d[\"address\"]=\"gujarat unna 362560\""
   ]
  },
  {
   "cell_type": "code",
   "execution_count": 3,
   "id": "eb0ecd5b-d8a5-4b79-9462-65c1a1ffd417",
   "metadata": {},
   "outputs": [
    {
     "data": {
      "text/plain": [
       "{'name': ['Sanjay', 'Ajay', 1, 2],\n",
       " 'email': 'aj@gmail.com',\n",
       " 'contact': (1234, 678),\n",
       " 'address': 'gujarat unna 362560'}"
      ]
     },
     "execution_count": 3,
     "metadata": {},
     "output_type": "execute_result"
    }
   ],
   "source": [
    "d"
   ]
  },
  {
   "cell_type": "code",
   "execution_count": 4,
   "id": "241215ce-113b-447b-8b05-4e502a0fb641",
   "metadata": {},
   "outputs": [
    {
     "data": {
      "text/plain": [
       "{1: ('a', 'b', 'c'), 2: ('a', 'b', 'c'), 3: ('a', 'b', 'c')}"
      ]
     },
     "execution_count": 4,
     "metadata": {},
     "output_type": "execute_result"
    }
   ],
   "source": [
    "d.fromkeys((1, 2, 3), (\"a\", \"b\", \"c\"))"
   ]
  },
  {
   "cell_type": "code",
   "execution_count": 7,
   "id": "1fc8126c-6f7b-414d-bfae-295fba199216",
   "metadata": {},
   "outputs": [
    {
     "data": {
      "text/plain": [
       "builtin_function_or_method"
      ]
     },
     "execution_count": 7,
     "metadata": {},
     "output_type": "execute_result"
    }
   ],
   "source": [
    "type(d.fromkeys)"
   ]
  },
  {
   "cell_type": "code",
   "execution_count": 8,
   "id": "84638d1e-f29c-4d6d-bf5c-b0793c23d63f",
   "metadata": {},
   "outputs": [
    {
     "data": {
      "text/plain": [
       "dict"
      ]
     },
     "execution_count": 8,
     "metadata": {},
     "output_type": "execute_result"
    }
   ],
   "source": [
    "type(d)"
   ]
  },
  {
   "cell_type": "code",
   "execution_count": 10,
   "id": "c777fef7-112d-4139-96c1-52b59de6f511",
   "metadata": {},
   "outputs": [
    {
     "name": "stdout",
     "output_type": "stream",
     "text": [
      "('Arun', 80)\n",
      "('Ajay', 95)\n",
      "('Bijay', 100)\n"
     ]
    }
   ],
   "source": [
    "#dictionary comprehension\n",
    "\n",
    "#zip function\n",
    "students = [\"Arun\", \"Ajay\", \"Bijay\"]\n",
    "marks = [80, 95, 100]\n",
    "\n",
    "for i in zip(students, marks):#zip it willjust put both of the value together one by one \n",
    "    print(i)"
   ]
  },
  {
   "cell_type": "code",
   "execution_count": 11,
   "id": "be7bb9b7-cadd-442b-b474-ffd683cce1fc",
   "metadata": {},
   "outputs": [],
   "source": [
    "#store the above info in key value pair>> dict"
   ]
  },
  {
   "cell_type": "code",
   "execution_count": 12,
   "id": "96eed7fb-89dc-489b-996a-22c823ddf096",
   "metadata": {},
   "outputs": [],
   "source": [
    "students_marks = {}\n",
    "for student, mark in zip(students, marks):\n",
    "    students_marks[student] = mark"
   ]
  },
  {
   "cell_type": "code",
   "execution_count": 13,
   "id": "cb7011da-35ad-4ecb-837b-7f796526bd5a",
   "metadata": {},
   "outputs": [
    {
     "data": {
      "text/plain": [
       "{'Arun': 80, 'Ajay': 95, 'Bijay': 100}"
      ]
     },
     "execution_count": 13,
     "metadata": {},
     "output_type": "execute_result"
    }
   ],
   "source": [
    "students_marks"
   ]
  },
  {
   "cell_type": "code",
   "execution_count": 14,
   "id": "afc8b3eb-81b8-41bb-8d76-d4d246073789",
   "metadata": {},
   "outputs": [
    {
     "data": {
      "text/plain": [
       "{'Arun': 80, 'Ajay': 95, 'Bijay': 100}"
      ]
     },
     "execution_count": 14,
     "metadata": {},
     "output_type": "execute_result"
    }
   ],
   "source": [
    "#using dictionary comprehension method\n",
    "students = [\"Arun\", \"Ajay\", \"Bijay\"]\n",
    "marks = [80, 95, 100]\n",
    "{student:marks for student, marks in zip(students, marks)}"
   ]
  },
  {
   "cell_type": "code",
   "execution_count": 15,
   "id": "231cc5eb-6840-405e-b210-09a0b1f7aba0",
   "metadata": {},
   "outputs": [],
   "source": [
    "#use case\n",
    "user_id = [1, 2, 3]\n",
    "user_name = [\"a21\", \"a22\", \"a23\"]"
   ]
  },
  {
   "cell_type": "code",
   "execution_count": 17,
   "id": "7db6d1c3-07f2-4800-b21b-60fa5f564ce8",
   "metadata": {},
   "outputs": [
    {
     "data": {
      "text/plain": [
       "{1: 'a21', 2: 'a22', 3: 'a23'}"
      ]
     },
     "execution_count": 17,
     "metadata": {},
     "output_type": "execute_result"
    }
   ],
   "source": [
    "{u_id:use_name for u_id, use_name in zip(user_id,user_name)}"
   ]
  },
  {
   "cell_type": "code",
   "execution_count": 19,
   "id": "1e9a0f4e-25d1-437c-8e1f-e8a97aba5e25",
   "metadata": {},
   "outputs": [],
   "source": [
    "employee_records = {\n",
    "    'E001': {'name': 'John Doe', 'department': 'Engineering', 'salary': 75000},\n",
    "    'E002': {'name': 'Jane Smith', 'department': 'Marketing', 'salary': 65000},\n",
    "    'E003': {'name': 'David Lee', 'department': 'Finance', 'salary': 80000}\n",
    "}"
   ]
  },
  {
   "cell_type": "code",
   "execution_count": 20,
   "id": "738836d5-5d39-46ba-9092-a4f33c418039",
   "metadata": {},
   "outputs": [
    {
     "data": {
      "text/plain": [
       "dict"
      ]
     },
     "execution_count": 20,
     "metadata": {},
     "output_type": "execute_result"
    }
   ],
   "source": [
    "type(employee_records)"
   ]
  },
  {
   "cell_type": "code",
   "execution_count": 21,
   "id": "1abd3419-b80f-492c-a7bc-600aeb5e4f9c",
   "metadata": {},
   "outputs": [
    {
     "data": {
      "text/plain": [
       "{'name': 'John Doe', 'department': 'Engineering', 'salary': 75000}"
      ]
     },
     "execution_count": 21,
     "metadata": {},
     "output_type": "execute_result"
    }
   ],
   "source": [
    "employee_records.get(\"E001\")"
   ]
  },
  {
   "cell_type": "code",
   "execution_count": 22,
   "id": "93d5180b-bc3e-4778-8d21-5e1efdba7f1f",
   "metadata": {},
   "outputs": [
    {
     "data": {
      "text/plain": [
       "{'name': 'John Doe', 'department': 'Engineering', 'salary': 75000}"
      ]
     },
     "execution_count": 22,
     "metadata": {},
     "output_type": "execute_result"
    }
   ],
   "source": [
    "employee_records[\"E001\"]"
   ]
  },
  {
   "cell_type": "code",
   "execution_count": 23,
   "id": "152060cb-4da9-44a9-9b6b-dc2910208174",
   "metadata": {},
   "outputs": [],
   "source": [
    "restaurant_menu = {\n",
    "    'Dish1': {'name': 'Pasta Carbonara', 'price': 15.99, 'description': 'Creamy pasta with bacon and parmesan'},\n",
    "    'Dish2': {'name': 'Chicken Caesar Salad', 'price': 12.50, 'description': 'Grilled chicken with romaine lettuce and Caesar dressing'},\n",
    "    'Dish3': {'name': 'Margherita Pizza', 'price': 14.00, 'description': 'Pizza topped with tomato, mozzarella, and basil'}\n",
    "}"
   ]
  },
  {
   "cell_type": "code",
   "execution_count": 24,
   "id": "78508f78-6dca-4bac-9208-5dc697619035",
   "metadata": {},
   "outputs": [
    {
     "data": {
      "text/plain": [
       "{'name': 'Pasta Carbonara',\n",
       " 'price': 15.99,\n",
       " 'description': 'Creamy pasta with bacon and parmesan'}"
      ]
     },
     "execution_count": 24,
     "metadata": {},
     "output_type": "execute_result"
    }
   ],
   "source": [
    "restaurant_menu[\"Dish1\"]"
   ]
  },
  {
   "cell_type": "code",
   "execution_count": 25,
   "id": "b673ddcf-483b-4fe9-b447-9ad390efba12",
   "metadata": {},
   "outputs": [
    {
     "data": {
      "text/plain": [
       "dict_keys(['Dish1', 'Dish2', 'Dish3'])"
      ]
     },
     "execution_count": 25,
     "metadata": {},
     "output_type": "execute_result"
    }
   ],
   "source": [
    "restaurant_menu.keys()"
   ]
  },
  {
   "cell_type": "code",
   "execution_count": 27,
   "id": "dd12af36-3dff-4564-9dc5-28b19ac42ef1",
   "metadata": {},
   "outputs": [
    {
     "data": {
      "text/plain": [
       "dict_values([{'name': 'Pasta Carbonara', 'price': 15.99, 'description': 'Creamy pasta with bacon and parmesan'}, {'name': 'Chicken Caesar Salad', 'price': 12.5, 'description': 'Grilled chicken with romaine lettuce and Caesar dressing'}, {'name': 'Margherita Pizza', 'price': 14.0, 'description': 'Pizza topped with tomato, mozzarella, and basil'}])"
      ]
     },
     "execution_count": 27,
     "metadata": {},
     "output_type": "execute_result"
    }
   ],
   "source": [
    "restaurant_menu.values()"
   ]
  },
  {
   "cell_type": "code",
   "execution_count": 30,
   "id": "e220574c-c3b6-4e99-8a37-81aee421308e",
   "metadata": {},
   "outputs": [
    {
     "data": {
      "text/plain": [
       "dict_items([('Dish1', {'name': 'Pasta Carbonara', 'price': 15.99, 'description': 'Creamy pasta with bacon and parmesan'}), ('Dish2', {'name': 'Chicken Caesar Salad', 'price': 12.5, 'description': 'Grilled chicken with romaine lettuce and Caesar dressing'}), ('Dish3', {'name': 'Margherita Pizza', 'price': 14.0, 'description': 'Pizza topped with tomato, mozzarella, and basil'})])"
      ]
     },
     "execution_count": 30,
     "metadata": {},
     "output_type": "execute_result"
    }
   ],
   "source": [
    "restaurant_menu.items()"
   ]
  },
  {
   "cell_type": "code",
   "execution_count": 32,
   "id": "0ada73e9-4a52-441e-8047-070d23ca6d55",
   "metadata": {},
   "outputs": [
    {
     "name": "stdout",
     "output_type": "stream",
     "text": [
      "Dish1 {'name': 'Pasta Carbonara', 'price': 15.99, 'description': 'Creamy pasta with bacon and parmesan'}\n",
      "Dish2 {'name': 'Chicken Caesar Salad', 'price': 12.5, 'description': 'Grilled chicken with romaine lettuce and Caesar dressing'}\n",
      "Dish3 {'name': 'Margherita Pizza', 'price': 14.0, 'description': 'Pizza topped with tomato, mozzarella, and basil'}\n"
     ]
    }
   ],
   "source": [
    "for key, value in restaurant_menu.items():#you can iterate the value bot key and value\n",
    "    print(key,value)"
   ]
  },
  {
   "cell_type": "code",
   "execution_count": 34,
   "id": "810113ec-05ab-4160-8112-ab8de65ca1a0",
   "metadata": {},
   "outputs": [
    {
     "name": "stdout",
     "output_type": "stream",
     "text": [
      "Dish1\n",
      "Dish2\n",
      "Dish3\n"
     ]
    }
   ],
   "source": [
    "#itearte over only keys\n",
    "for key  in restaurant_menu.keys():\n",
    "    print(key)"
   ]
  },
  {
   "cell_type": "code",
   "execution_count": 35,
   "id": "3054bb02-e1a1-41da-af70-55353b448092",
   "metadata": {},
   "outputs": [
    {
     "name": "stdout",
     "output_type": "stream",
     "text": [
      "{'name': 'Pasta Carbonara', 'price': 15.99, 'description': 'Creamy pasta with bacon and parmesan'}\n",
      "{'name': 'Chicken Caesar Salad', 'price': 12.5, 'description': 'Grilled chicken with romaine lettuce and Caesar dressing'}\n",
      "{'name': 'Margherita Pizza', 'price': 14.0, 'description': 'Pizza topped with tomato, mozzarella, and basil'}\n"
     ]
    }
   ],
   "source": [
    "for value in restaurant_menu.values():\n",
    "    print(value)"
   ]
  },
  {
   "cell_type": "code",
   "execution_count": null,
   "id": "4dcf0344-37b7-44f7-81ce-6bbb755e9971",
   "metadata": {},
   "outputs": [],
   "source": []
  },
  {
   "cell_type": "markdown",
   "id": "b7d23734-e909-424e-99f7-517167520271",
   "metadata": {},
   "source": [
    "# Writing Your Python Code"
   ]
  },
  {
   "cell_type": "markdown",
   "id": "0716a9c0-05da-4b56-baf1-2f88f81b1f18",
   "metadata": {},
   "source": [
    "**Say \"Hello\" to the world in Python**"
   ]
  },
  {
   "cell_type": "markdown",
   "id": "56df2782-cd0c-4ddf-b552-57c4cfeaccb3",
   "metadata": {},
   "source": [
    "`[Tip]: To execute the Python code in the code cell below, click on the cell to select it and press Shift + Enter.`"
   ]
  },
  {
   "cell_type": "code",
   "execution_count": 1,
   "id": "403f569d-73e3-4afb-b9ff-b6d499f452e1",
   "metadata": {},
   "outputs": [
    {
     "name": "stdout",
     "output_type": "stream",
     "text": [
      "Hello, Neurons.\n"
     ]
    }
   ],
   "source": [
    "# Try your first python code\n",
    "\n",
    "print('Hello, Neurons.')"
   ]
  },
  {
   "cell_type": "markdown",
   "id": "972b9205-3997-4177-a0f6-f183053827d4",
   "metadata": {},
   "source": [
    "- After executing the cell above, you should see that Python prints `Hello, Neurons` Congratulations on running your Python code!"
   ]
  },
  {
   "cell_type": "code",
   "execution_count": 2,
   "id": "0e02f671-969a-4162-ab75-a85fb0737614",
   "metadata": {},
   "outputs": [
    {
     "name": "stdout",
     "output_type": "stream",
     "text": [
      "3.9.12 (main, Apr  4 2022, 05:22:27) [MSC v.1916 64 bit (AMD64)]\n"
     ]
    }
   ],
   "source": [
    "# Check the Python Version\n",
    "\n",
    "import sys\n",
    "print(sys.version)"
   ]
  },
  {
   "cell_type": "markdown",
   "id": "26f3c9f8-0b22-4bd6-8826-d6e3fda7e365",
   "metadata": {},
   "source": [
    "To write comments in Python, use the number symbol `#` before writing your comment. When you run your code, Python will ignore everything past the # on a given line."
   ]
  },
  {
   "cell_type": "code",
   "execution_count": 3,
   "id": "53dbefa5-0ee6-436a-984d-02d8c1c5801e",
   "metadata": {},
   "outputs": [],
   "source": [
    "# print('Hi')"
   ]
  },
  {
   "cell_type": "code",
   "execution_count": 4,
   "id": "b5b638b6-1a80-4cff-a542-2ece0f4dbe6c",
   "metadata": {},
   "outputs": [],
   "source": [
    "# create a function\n",
    "def addition(a, b):\n",
    "    '''\n",
    "    This is a function is to perform addition operation\n",
    "    '''\n",
    "    print('Performing addition operation')\n",
    "    output = a + b\n",
    "    print(f'{a} + {b} is =', output)\n",
    "    return output"
   ]
  },
  {
   "cell_type": "code",
   "execution_count": 5,
   "id": "5d5f9c2c-f3de-45ff-b60b-8d8a0a76b05c",
   "metadata": {},
   "outputs": [
    {
     "name": "stdout",
     "output_type": "stream",
     "text": [
      "Performing addition operation\n",
      "2 + 1 is = 3\n"
     ]
    },
    {
     "data": {
      "text/plain": [
       "3"
      ]
     },
     "execution_count": 5,
     "metadata": {},
     "output_type": "execute_result"
    }
   ],
   "source": [
    "addition(2, 1)"
   ]
  },
  {
   "cell_type": "code",
   "execution_count": 1,
   "id": "63ae99b7-f1c4-4090-bd53-7bce4bf2a7a6",
   "metadata": {},
   "outputs": [
    {
     "data": {
      "text/plain": [
       "['yash', 1, 2, True, False, (3+5j), 20.5, 'pwskill']"
      ]
     },
     "execution_count": 1,
     "metadata": {},
     "output_type": "execute_result"
    }
   ],
   "source": [
    "a=[\"yash\",1,2,True,False,(3+5j),20.5,\"pwskill\"]\n",
    "a\n",
    "\n"
   ]
  },
  {
   "cell_type": "code",
   "execution_count": 4,
   "id": "9e6ac35a-16d0-4c2b-9e31-097b2ed6114e",
   "metadata": {},
   "outputs": [],
   "source": [
    "a.append(\"nihar\")#hit shift and tab to get detail about append"
   ]
  },
  {
   "cell_type": "code",
   "execution_count": 5,
   "id": "2e017ae6-35fe-4844-b0db-3db4c15c115d",
   "metadata": {},
   "outputs": [
    {
     "data": {
      "text/plain": [
       "['yash', 1, 2, True, False, (3+5j), 20.5, 'pwskill', 'nihar', 'nihar']"
      ]
     },
     "execution_count": 5,
     "metadata": {},
     "output_type": "execute_result"
    }
   ],
   "source": [
    "a\n"
   ]
  },
  {
   "cell_type": "code",
   "execution_count": 6,
   "id": "90d1394d-bd69-4018-b3e0-0560688b74cf",
   "metadata": {},
   "outputs": [],
   "source": [
    "a.remove(\"yash\")"
   ]
  },
  {
   "cell_type": "code",
   "execution_count": 7,
   "id": "b5baebf3-bf84-47d8-b259-0c9bf2d1ff51",
   "metadata": {},
   "outputs": [
    {
     "data": {
      "text/plain": [
       "[1, 2, True, False, (3+5j), 20.5, 'pwskill', 'nihar', 'nihar']"
      ]
     },
     "execution_count": 7,
     "metadata": {},
     "output_type": "execute_result"
    }
   ],
   "source": [
    "a"
   ]
  },
  {
   "cell_type": "code",
   "execution_count": 8,
   "id": "de1373c3-2b61-41b8-a1ce-04f10ce5b678",
   "metadata": {},
   "outputs": [],
   "source": [
    "a.remove(\"nihar\")"
   ]
  },
  {
   "cell_type": "code",
   "execution_count": 9,
   "id": "f50df990-2f19-49c2-8c0d-9bb5055cb51c",
   "metadata": {},
   "outputs": [
    {
     "data": {
      "text/plain": [
       "[1, 2, True, False, (3+5j), 20.5, 'pwskill', 'nihar']"
      ]
     },
     "execution_count": 9,
     "metadata": {},
     "output_type": "execute_result"
    }
   ],
   "source": [
    "a"
   ]
  },
  {
   "cell_type": "code",
   "execution_count": 10,
   "id": "cb755ed1-75a4-4589-9f92-af88536ae240",
   "metadata": {},
   "outputs": [
    {
     "data": {
      "text/plain": [
       "[[0, 1, 2], [3, 4, 5], [6, 7, 8]]"
      ]
     },
     "execution_count": 10,
     "metadata": {},
     "output_type": "execute_result"
    }
   ],
   "source": [
    "b=[[0,1,2,],[3,4,5],[6,7,8]]\n",
    "b"
   ]
  },
  {
   "cell_type": "code",
   "execution_count": 13,
   "id": "6a16926e-3e07-434c-90a3-5f142dd3e42c",
   "metadata": {},
   "outputs": [
    {
     "data": {
      "text/plain": [
       "2"
      ]
     },
     "execution_count": 13,
     "metadata": {},
     "output_type": "execute_result"
    }
   ],
   "source": [
    "b[0][-1]"
   ]
  },
  {
   "cell_type": "code",
   "execution_count": 4,
   "id": "7f023cac-e784-4fed-9af9-219c9c2994f1",
   "metadata": {},
   "outputs": [
    {
     "data": {
      "text/plain": [
       "[[0, 1, 2], [3, 4, 5], [6, 7, 8]]"
      ]
     },
     "execution_count": 4,
     "metadata": {},
     "output_type": "execute_result"
    }
   ],
   "source": [
    "b=[[0,1,2,],[3,4,5],[6,7,8]]\n",
    "b\n"
   ]
  },
  {
   "cell_type": "code",
   "execution_count": 5,
   "id": "6dda004f-ce0a-4c72-9516-859ffb0a8587",
   "metadata": {},
   "outputs": [
    {
     "data": {
      "text/plain": [
       "4"
      ]
     },
     "execution_count": 5,
     "metadata": {},
     "output_type": "execute_result"
    }
   ],
   "source": [
    "b[1][1]"
   ]
  },
  {
   "cell_type": "code",
   "execution_count": 6,
   "id": "b6fcb7be-ddbb-4388-b6d9-cd1e5c07bf3f",
   "metadata": {},
   "outputs": [
    {
     "data": {
      "text/plain": [
       "8"
      ]
     },
     "execution_count": 6,
     "metadata": {},
     "output_type": "execute_result"
    }
   ],
   "source": [
    "b[2][-1]"
   ]
  },
  {
   "cell_type": "code",
   "execution_count": 7,
   "id": "b52c961c-7755-431d-b983-51a0a2870d31",
   "metadata": {},
   "outputs": [
    {
     "data": {
      "text/plain": [
       "['apple', 'banana', (3+5j), 45, 'yash']"
      ]
     },
     "execution_count": 7,
     "metadata": {},
     "output_type": "execute_result"
    }
   ],
   "source": [
    "#list is a mutable\n",
    "mutable_object=[\"apple\",\"banana\",(3+5j),45,\"yash\"]\n",
    "mutable_object"
   ]
  },
  {
   "cell_type": "code",
   "execution_count": 10,
   "id": "e08679ba-47d9-457e-a731-4b4f60989fe7",
   "metadata": {},
   "outputs": [],
   "source": [
    "mutable_object.append(\"kiran\")"
   ]
  },
  {
   "cell_type": "code",
   "execution_count": 11,
   "id": "bc81e043-e547-4ffb-9d8a-7f49ac1e2a55",
   "metadata": {},
   "outputs": [
    {
     "data": {
      "text/plain": [
       "['apple', 'banana', (3+5j), 45, 'yash', 'kiran']"
      ]
     },
     "execution_count": 11,
     "metadata": {},
     "output_type": "execute_result"
    }
   ],
   "source": [
    "mutable_object"
   ]
  },
  {
   "cell_type": "code",
   "execution_count": 12,
   "id": "e9b4cc24-7905-46e8-a407-673a0af6dcda",
   "metadata": {},
   "outputs": [
    {
     "data": {
      "text/plain": [
       "tuple"
      ]
     },
     "execution_count": 12,
     "metadata": {},
     "output_type": "execute_result"
    }
   ],
   "source": [
    "#tuple is immutable \n",
    "lists =(2,4)\n",
    "type(lists)"
   ]
  },
  {
   "cell_type": "code",
   "execution_count": 15,
   "id": "e96e06ea-bd21-455b-ad16-786f45989433",
   "metadata": {},
   "outputs": [
    {
     "ename": "AttributeError",
     "evalue": "'tuple' object has no attribute 'append'",
     "output_type": "error",
     "traceback": [
      "\u001b[0;31m---------------------------------------------------------------------------\u001b[0m",
      "\u001b[0;31mAttributeError\u001b[0m                            Traceback (most recent call last)",
      "Cell \u001b[0;32mIn[15], line 1\u001b[0m\n\u001b[0;32m----> 1\u001b[0m \u001b[43mlists\u001b[49m\u001b[38;5;241;43m.\u001b[39;49m\u001b[43mappend\u001b[49m(\u001b[38;5;124m\"\u001b[39m\u001b[38;5;124mjk\u001b[39m\u001b[38;5;124m\"\u001b[39m)\u001b[38;5;66;03m#thats why its called immutable object \u001b[39;00m\n",
      "\u001b[0;31mAttributeError\u001b[0m: 'tuple' object has no attribute 'append'"
     ]
    }
   ],
   "source": [
    "lists.append(\"jk\")#thats why its called immutable object "
   ]
  },
  {
   "cell_type": "code",
   "execution_count": 16,
   "id": "1d6e5967-e8ad-49e4-8b64-7900635f2806",
   "metadata": {},
   "outputs": [],
   "source": [
    "#used tuple >> tuple used for we dont change the data like adhar card or we can say bank details \n",
    "#you dont want change you usedd to store a data\n",
    "#tuple can store heterogenous data"
   ]
  },
  {
   "cell_type": "code",
   "execution_count": 18,
   "id": "23e7447c-25f0-49c9-bfe7-38fd32569c0d",
   "metadata": {},
   "outputs": [
    {
     "data": {
      "text/plain": [
       "(('karan', 'canada'), ('dipen', 'una'))"
      ]
     },
     "execution_count": 18,
     "metadata": {},
     "output_type": "execute_result"
    }
   ],
   "source": [
    "box_no1=(\"karan\",\"canada\")\n",
    "box_no2=(\"dipen\",\"una\")\n",
    "combine_box=(box_no1,box_no2)\n",
    "combine_box"
   ]
  },
  {
   "cell_type": "code",
   "execution_count": 21,
   "id": "19586db2-581c-479d-ace0-c7b5259f14cb",
   "metadata": {},
   "outputs": [
    {
     "name": "stdout",
     "output_type": "stream",
     "text": [
      "karan\n",
      "canada\n",
      "dipen\n",
      "una\n"
     ]
    }
   ],
   "source": [
    "for box in combine_box:\n",
    "    for big_box in box:\n",
    "        print(big_box)"
   ]
  },
  {
   "cell_type": "code",
   "execution_count": 22,
   "id": "856f2d21-b57a-4109-aad0-9a7a9c642861",
   "metadata": {},
   "outputs": [],
   "source": [
    "#sets are unorderd collaection of unieque element"
   ]
  },
  {
   "cell_type": "code",
   "execution_count": 3,
   "id": "abcaa09d-b215-419e-a00c-d4341cba7988",
   "metadata": {},
   "outputs": [
    {
     "data": {
      "text/plain": [
       "set"
      ]
     },
     "execution_count": 3,
     "metadata": {},
     "output_type": "execute_result"
    }
   ],
   "source": [
    "s = {\"red\",\"orange\",\"blue\",\"purple\",\"narangi\",\"yash\"}\n",
    "type(s)"
   ]
  },
  {
   "cell_type": "code",
   "execution_count": 35,
   "id": "cda7fbcc-85d8-4277-bc62-4f254c8ff9a6",
   "metadata": {},
   "outputs": [
    {
     "name": "stdout",
     "output_type": "stream",
     "text": [
      "{'orange', 'purple', 'red', 'blue'}\n"
     ]
    }
   ],
   "source": [
    "print(s)#hence prove sets are unorderd collaection of unieque element"
   ]
  },
  {
   "cell_type": "code",
   "execution_count": 4,
   "id": "670ce11c-f314-4d7a-8cec-14af3fcf5f2e",
   "metadata": {},
   "outputs": [
    {
     "data": {
      "text/plain": [
       "{'blue', 'narangi', 'orange', 'purple', 'red', 'yash'}"
      ]
     },
     "execution_count": 4,
     "metadata": {},
     "output_type": "execute_result"
    }
   ],
   "source": [
    "s"
   ]
  },
  {
   "cell_type": "code",
   "execution_count": 37,
   "id": "b61639b6-1eaf-4d5c-9273-060b904e69de",
   "metadata": {},
   "outputs": [
    {
     "ename": "TypeError",
     "evalue": "'set' object is not subscriptable",
     "output_type": "error",
     "traceback": [
      "\u001b[0;31m---------------------------------------------------------------------------\u001b[0m",
      "\u001b[0;31mTypeError\u001b[0m                                 Traceback (most recent call last)",
      "Cell \u001b[0;32mIn[37], line 1\u001b[0m\n\u001b[0;32m----> 1\u001b[0m \u001b[43ms\u001b[49m\u001b[43m[\u001b[49m\u001b[38;5;241;43m0\u001b[39;49m\u001b[43m]\u001b[49m\n",
      "\u001b[0;31mTypeError\u001b[0m: 'set' object is not subscriptable"
     ]
    }
   ],
   "source": [
    "s[0] # sets no concept of indexing as sets are unordered and unique"
   ]
  },
  {
   "cell_type": "code",
   "execution_count": 5,
   "id": "4aa9a22a-9088-416e-ae69-e1fd95d0648e",
   "metadata": {},
   "outputs": [
    {
     "data": {
      "text/plain": [
       "{'blue', 'narangi', 'orange', 'purple', 'red', 'yash'}"
      ]
     },
     "execution_count": 5,
     "metadata": {},
     "output_type": "execute_result"
    }
   ],
   "source": [
    "s"
   ]
  },
  {
   "cell_type": "code",
   "execution_count": 44,
   "id": "1dc8beac-94a2-46e3-9bc2-59ace06e0656",
   "metadata": {},
   "outputs": [],
   "source": [
    "s.add(\"yash\") # sets are mutable object but not acept append function its used add fuction  to use"
   ]
  },
  {
   "cell_type": "code",
   "execution_count": 41,
   "id": "52ad358a-d339-4203-aaba-c460d1b4f50c",
   "metadata": {},
   "outputs": [],
   "source": [
    "s.remove(\"yash\")"
   ]
  },
  {
   "cell_type": "code",
   "execution_count": 6,
   "id": "e13943a9-65bb-488f-83ac-2fd09d8d9db5",
   "metadata": {},
   "outputs": [
    {
     "ename": "TypeError",
     "evalue": "'set' object is not subscriptable",
     "output_type": "error",
     "traceback": [
      "\u001b[0;31m---------------------------------------------------------------------------\u001b[0m",
      "\u001b[0;31mTypeError\u001b[0m                                 Traceback (most recent call last)",
      "Cell \u001b[0;32mIn[6], line 1\u001b[0m\n\u001b[0;32m----> 1\u001b[0m \u001b[43ms\u001b[49m\u001b[43m[\u001b[49m\u001b[38;5;241;43m1\u001b[39;49m\u001b[43m]\u001b[49m\n",
      "\u001b[0;31mTypeError\u001b[0m: 'set' object is not subscriptable"
     ]
    }
   ],
   "source": [
    "s[1]\n"
   ]
  },
  {
   "cell_type": "code",
   "execution_count": 46,
   "id": "de7a4d25-5fe9-449c-85e6-a062e732a112",
   "metadata": {},
   "outputs": [],
   "source": [
    "#use case of sets >> to get unique elment"
   ]
  },
  {
   "cell_type": "code",
   "execution_count": 10,
   "id": "f024898c-a8c3-4239-a85d-f8e58fb64618",
   "metadata": {},
   "outputs": [
    {
     "data": {
      "text/plain": [
       "set"
      ]
     },
     "execution_count": 10,
     "metadata": {},
     "output_type": "execute_result"
    }
   ],
   "source": [
    "glossary_list={\"banana\",\"apple\",\"chevdo\",\"soda\",\"apple\",2.3,\"5+j6\",45}\n",
    "type(glossary_list)"
   ]
  },
  {
   "cell_type": "code",
   "execution_count": 3,
   "id": "55293392-55e9-42a3-9502-594c0ca66a86",
   "metadata": {},
   "outputs": [
    {
     "data": {
      "text/plain": [
       "set"
      ]
     },
     "execution_count": 3,
     "metadata": {},
     "output_type": "execute_result"
    }
   ],
   "source": [
    "#dictionaries >> which is store the datain form of key value pair\n",
    "dist = {\"yash\",\"nihar\"}\n",
    "type(dist)\n"
   ]
  },
  {
   "cell_type": "code",
   "execution_count": 26,
   "id": "ebadd85b-1d0d-40d0-97da-bb8fe2099bdd",
   "metadata": {},
   "outputs": [
    {
     "data": {
      "text/plain": [
       "dict"
      ]
     },
     "execution_count": 26,
     "metadata": {},
     "output_type": "execute_result"
    }
   ],
   "source": [
    "dist = {\"yash\":'jk',\"nihar\" : 200}#in dictionaries [\"agter variable\"] use [:] and after put some value in single quate or double quate that the\n",
    "                                      #differnce between set and dict\n",
    "type(dist)"
   ]
  },
  {
   "cell_type": "code",
   "execution_count": 27,
   "id": "09f22662-4945-4e1d-af00-ddf242a3d479",
   "metadata": {},
   "outputs": [],
   "source": [
    "#used cases of dist "
   ]
  },
  {
   "cell_type": "code",
   "execution_count": 37,
   "id": "49b60b88-8914-40c8-b980-6cd88cca8041",
   "metadata": {},
   "outputs": [
    {
     "data": {
      "text/plain": [
       "dict"
      ]
     },
     "execution_count": 37,
     "metadata": {},
     "output_type": "execute_result"
    }
   ],
   "source": [
    "phonebook = {\"dpn\":82519 ,\"mpn\":951001 , \"dpn\":789654}\n",
    "type(phonebook)"
   ]
  },
  {
   "cell_type": "code",
   "execution_count": 52,
   "id": "0d1cb836-0321-449f-92dd-f41df97c6166",
   "metadata": {},
   "outputs": [
    {
     "ename": "AttributeError",
     "evalue": "'dict' object has no attribute 'remove'",
     "output_type": "error",
     "traceback": [
      "\u001b[0;31m---------------------------------------------------------------------------\u001b[0m",
      "\u001b[0;31mAttributeError\u001b[0m                            Traceback (most recent call last)",
      "Cell \u001b[0;32mIn[52], line 1\u001b[0m\n\u001b[0;32m----> 1\u001b[0m \u001b[43mphonebook\u001b[49m\u001b[38;5;241;43m.\u001b[39;49m\u001b[43mremove\u001b[49m(\u001b[38;5;124m\"\u001b[39m\u001b[38;5;124myash\u001b[39m\u001b[38;5;124m\"\u001b[39m,\u001b[38;5;241m798546\u001b[39m)\n",
      "\u001b[0;31mAttributeError\u001b[0m: 'dict' object has no attribute 'remove'"
     ]
    }
   ],
   "source": [
    "phonebook.remove(\"yash\",798546)"
   ]
  },
  {
   "cell_type": "code",
   "execution_count": 38,
   "id": "9478d76a-32f2-428f-821d-53ea020f2dab",
   "metadata": {},
   "outputs": [
    {
     "data": {
      "text/plain": [
       "789654"
      ]
     },
     "execution_count": 38,
     "metadata": {},
     "output_type": "execute_result"
    }
   ],
   "source": [
    "phonebook[\"dpn\"]#dpn value has benn updated "
   ]
  },
  {
   "cell_type": "code",
   "execution_count": 41,
   "id": "d01bd5c7-f260-470c-a192-92473f5f4a16",
   "metadata": {},
   "outputs": [
    {
     "data": {
      "text/plain": [
       "4649896"
      ]
     },
     "execution_count": 41,
     "metadata": {},
     "output_type": "execute_result"
    }
   ],
   "source": [
    "phonebook[\"dpn\"]=4649896\n",
    "phonebook[\"dpn\"]"
   ]
  },
  {
   "cell_type": "code",
   "execution_count": 42,
   "id": "dee9f5ea-0dd2-4a9c-8fa4-6fc6570793ea",
   "metadata": {},
   "outputs": [
    {
     "data": {
      "text/plain": [
       "{'dpn': 4649896, 'mpn': 951001}"
      ]
     },
     "execution_count": 42,
     "metadata": {},
     "output_type": "execute_result"
    }
   ],
   "source": [
    "phonebook"
   ]
  },
  {
   "cell_type": "code",
   "execution_count": 45,
   "id": "3df72402-a4ee-4236-92d7-a3838262b3d8",
   "metadata": {},
   "outputs": [
    {
     "data": {
      "text/plain": [
       "dict_values([4649896, 951001])"
      ]
     },
     "execution_count": 45,
     "metadata": {},
     "output_type": "execute_result"
    }
   ],
   "source": [
    "phonebook.values()#its remeber that how define keys and values in disct"
   ]
  },
  {
   "cell_type": "code",
   "execution_count": 44,
   "id": "478aa0f3-4765-4a93-a512-7ea3b64ba132",
   "metadata": {},
   "outputs": [
    {
     "data": {
      "text/plain": [
       "dict_keys(['dpn', 'mpn'])"
      ]
     },
     "execution_count": 44,
     "metadata": {},
     "output_type": "execute_result"
    }
   ],
   "source": [
    "phonebook.keys()"
   ]
  },
  {
   "cell_type": "code",
   "execution_count": 46,
   "id": "17177318-81c2-4fc6-a998-1d9558b583ee",
   "metadata": {},
   "outputs": [],
   "source": [
    "from array import array"
   ]
  },
  {
   "cell_type": "raw",
   "id": "de467a27-4457-4de9-8aca-8cb3f46838cc",
   "metadata": {},
   "source": [
    "arrary simmilar to the list << but array used homogeneous data"
   ]
  },
  {
   "cell_type": "code",
   "execution_count": 51,
   "id": "2cf13545-3a81-4a88-bb54-d3802d190c27",
   "metadata": {},
   "outputs": [
    {
     "data": {
      "text/plain": [
       "array('i', [1, 2, 3])"
      ]
     },
     "execution_count": 51,
     "metadata": {},
     "output_type": "execute_result"
    }
   ],
   "source": [
    "array('i',[1,2,3])#aray only contain 1 value in single or double quate"
   ]
  },
  {
   "cell_type": "markdown",
   "id": "2bf6fe4b-6bce-4fef-8abc-441bac32a01d",
   "metadata": {},
   "source": [
    "## STRING\n"
   ]
  },
  {
   "cell_type": "code",
   "execution_count": 11,
   "id": "80445970-5890-412a-b7b9-dd177fff1bd4",
   "metadata": {},
   "outputs": [],
   "source": [
    "#ASCII Represetation\n"
   ]
  },
  {
   "cell_type": "code",
   "execution_count": 23,
   "id": "ea1b5ea2-8acb-468d-bce1-3d797b4f7b41",
   "metadata": {},
   "outputs": [
    {
     "data": {
      "text/plain": [
       "90"
      ]
     },
     "execution_count": 23,
     "metadata": {},
     "output_type": "execute_result"
    }
   ],
   "source": [
    "v = \"Z\"\n",
    "B = \"A\"\n",
    "ord(v)\n"
   ]
  },
  {
   "cell_type": "code",
   "execution_count": 24,
   "id": "97cf93dc-3fcc-477e-b458-76da6e35ed98",
   "metadata": {},
   "outputs": [
    {
     "data": {
      "text/plain": [
       "65"
      ]
     },
     "execution_count": 24,
     "metadata": {},
     "output_type": "execute_result"
    }
   ],
   "source": [
    "ord(B)"
   ]
  },
  {
   "cell_type": "code",
   "execution_count": 25,
   "id": "2e785d13-43ae-4d50-b8a9-c47773e049c4",
   "metadata": {},
   "outputs": [
    {
     "data": {
      "text/plain": [
       "97"
      ]
     },
     "execution_count": 25,
     "metadata": {},
     "output_type": "execute_result"
    }
   ],
   "source": [
    "c=\"a\"\n",
    "ord(c)"
   ]
  },
  {
   "cell_type": "code",
   "execution_count": 26,
   "id": "77278458-b441-4823-a18e-3f2b6b715272",
   "metadata": {},
   "outputs": [
    {
     "data": {
      "text/plain": [
       "49"
      ]
     },
     "execution_count": 26,
     "metadata": {},
     "output_type": "execute_result"
    }
   ],
   "source": [
    "m=\"1\"\n",
    "ord(m)"
   ]
  },
  {
   "cell_type": "code",
   "execution_count": 27,
   "id": "03f44d9f-423c-41a2-b8da-94657e694485",
   "metadata": {},
   "outputs": [],
   "source": [
    "#UNICODE REPRESENTATION\n",
    "#Omega"
   ]
  },
  {
   "cell_type": "code",
   "execution_count": 33,
   "id": "71518ea6-7f8b-4802-b31c-df28bf64e260",
   "metadata": {},
   "outputs": [
    {
     "data": {
      "text/plain": [
       "'Δ'"
      ]
     },
     "execution_count": 33,
     "metadata": {},
     "output_type": "execute_result"
    }
   ],
   "source": [
    "\"\\u0394\""
   ]
  },
  {
   "cell_type": "code",
   "execution_count": 35,
   "id": "cf4d527c-7a4c-48e4-b82f-d326dd4a367c",
   "metadata": {},
   "outputs": [
    {
     "data": {
      "text/plain": [
       "'ॳ'"
      ]
     },
     "execution_count": 35,
     "metadata": {},
     "output_type": "execute_result"
    }
   ],
   "source": [
    "'\\u0973'"
   ]
  },
  {
   "cell_type": "code",
   "execution_count": 36,
   "id": "ce1b460b-c729-4a48-91d3-c326c77a603e",
   "metadata": {},
   "outputs": [
    {
     "data": {
      "text/plain": [
       "'ਣ'"
      ]
     },
     "execution_count": 36,
     "metadata": {},
     "output_type": "execute_result"
    }
   ],
   "source": [
    "'\\u0A23'"
   ]
  },
  {
   "cell_type": "code",
   "execution_count": 41,
   "id": "a537e734-1bf9-4725-8235-b917e8d3b4a1",
   "metadata": {},
   "outputs": [
    {
     "data": {
      "text/plain": [
       "'ѕ'"
      ]
     },
     "execution_count": 41,
     "metadata": {},
     "output_type": "execute_result"
    }
   ],
   "source": [
    "'\\u0455'"
   ]
  },
  {
   "cell_type": "code",
   "execution_count": 42,
   "id": "08cb1584-8ac1-4876-861f-de19bc76cef0",
   "metadata": {},
   "outputs": [
    {
     "data": {
      "text/plain": [
       "'ѥ'"
      ]
     },
     "execution_count": 42,
     "metadata": {},
     "output_type": "execute_result"
    }
   ],
   "source": [
    "'\\u0465'"
   ]
  },
  {
   "cell_type": "code",
   "execution_count": 43,
   "id": "0b7d997b-5aea-4bfc-8af3-2ebccb4145c9",
   "metadata": {},
   "outputs": [
    {
     "data": {
      "text/plain": [
       "'A'"
      ]
     },
     "execution_count": 43,
     "metadata": {},
     "output_type": "execute_result"
    }
   ],
   "source": [
    "a = \"Ajay\"\n",
    "a[0]"
   ]
  },
  {
   "cell_type": "code",
   "execution_count": 45,
   "id": "2e640dee-7db9-48fe-af44-a07c69ae580d",
   "metadata": {},
   "outputs": [
    {
     "data": {
      "text/plain": [
       "'a'"
      ]
     },
     "execution_count": 45,
     "metadata": {},
     "output_type": "execute_result"
    }
   ],
   "source": [
    "a[2]"
   ]
  },
  {
   "cell_type": "code",
   "execution_count": 3,
   "id": "59729458-2262-486a-8c99-baece4b92583",
   "metadata": {},
   "outputs": [
    {
     "data": {
      "text/plain": [
       "'i am good student'"
      ]
     },
     "execution_count": 3,
     "metadata": {},
     "output_type": "execute_result"
    }
   ],
   "source": [
    "s = \"i am good student\"\n",
    "s\n"
   ]
  },
  {
   "cell_type": "code",
   "execution_count": 5,
   "id": "472c2c71-64a6-42c6-ac16-2ec46f6176e5",
   "metadata": {},
   "outputs": [
    {
     "data": {
      "text/plain": [
       "'i am good teacher'"
      ]
     },
     "execution_count": 5,
     "metadata": {},
     "output_type": "execute_result"
    }
   ],
   "source": [
    "s.replace(\"student\" ,\"teacher\")"
   ]
  },
  {
   "cell_type": "code",
   "execution_count": 19,
   "id": "2ae4ab84-03f2-4a99-9a3b-f035da4ba96d",
   "metadata": {},
   "outputs": [
    {
     "data": {
      "text/plain": [
       "'b suhana apt, marathalli, Banaglore'"
      ]
     },
     "execution_count": 19,
     "metadata": {},
     "output_type": "execute_result"
    }
   ],
   "source": [
    "#use case\n",
    "address = \"b suhana apt, marathalli, Banaglore\"\n",
    "address"
   ]
  },
  {
   "cell_type": "code",
   "execution_count": 16,
   "id": "efab2385-7574-4a26-8627-1b183c321d28",
   "metadata": {},
   "outputs": [
    {
     "data": {
      "text/plain": [
       "'apartment suhana apt, marathalli, Banaglore'"
      ]
     },
     "execution_count": 16,
     "metadata": {},
     "output_type": "execute_result"
    }
   ],
   "source": [
    "address.replace(\"123\",\"apartment\")"
   ]
  },
  {
   "cell_type": "code",
   "execution_count": 8,
   "id": "d471145c-2af7-4c4b-a250-ed705b2e5788",
   "metadata": {},
   "outputs": [
    {
     "data": {
      "text/plain": [
       "'123 SUHANA APT, MARATHALLI, BANAGLORE'"
      ]
     },
     "execution_count": 8,
     "metadata": {},
     "output_type": "execute_result"
    }
   ],
   "source": [
    "address.upper()"
   ]
  },
  {
   "cell_type": "code",
   "execution_count": 9,
   "id": "0b9568c5-061e-4be1-be4c-be9905f85fee",
   "metadata": {},
   "outputs": [
    {
     "data": {
      "text/plain": [
       "'123 suhana apt, marathalli, banaglore'"
      ]
     },
     "execution_count": 9,
     "metadata": {},
     "output_type": "execute_result"
    }
   ],
   "source": [
    "address.lower()"
   ]
  },
  {
   "cell_type": "code",
   "execution_count": 10,
   "id": "db63ca03-57f0-4f0e-9b0f-d192ce720e48",
   "metadata": {},
   "outputs": [
    {
     "data": {
      "text/plain": [
       "'123 Suhana Apt, Marathalli, Banaglore'"
      ]
     },
     "execution_count": 10,
     "metadata": {},
     "output_type": "execute_result"
    }
   ],
   "source": [
    "address.title()"
   ]
  },
  {
   "cell_type": "code",
   "execution_count": 11,
   "id": "1e948fe7-12de-4667-89e6-5cd01c4ba639",
   "metadata": {},
   "outputs": [
    {
     "data": {
      "text/plain": [
       "'123 SUHANA APT, MARATHALLI, bANAGLORE'"
      ]
     },
     "execution_count": 11,
     "metadata": {},
     "output_type": "execute_result"
    }
   ],
   "source": [
    "address.swapcase()"
   ]
  },
  {
   "cell_type": "code",
   "execution_count": 20,
   "id": "fa14be52-5eff-4944-b250-dab4de71ff27",
   "metadata": {},
   "outputs": [
    {
     "data": {
      "text/plain": [
       "'B suhana apt, marathalli, banaglore'"
      ]
     },
     "execution_count": 20,
     "metadata": {},
     "output_type": "execute_result"
    }
   ],
   "source": [
    "address.capitalize()"
   ]
  },
  {
   "cell_type": "code",
   "execution_count": 23,
   "id": "d2ce596f-59d9-4ed3-b2f4-f791110a8bbd",
   "metadata": {},
   "outputs": [
    {
     "data": {
      "text/plain": [
       "False"
      ]
     },
     "execution_count": 23,
     "metadata": {},
     "output_type": "execute_result"
    }
   ],
   "source": [
    "\"suh6a\" in address"
   ]
  },
  {
   "cell_type": "code",
   "execution_count": 27,
   "id": "c45dc373-4d4c-4e83-bb30-02780030c7f5",
   "metadata": {},
   "outputs": [
    {
     "data": {
      "text/plain": [
       "['AJAY, SANJAY , BIKAY']"
      ]
     },
     "execution_count": 27,
     "metadata": {},
     "output_type": "execute_result"
    }
   ],
   "source": [
    "S=[\"AJAY, SANJAY , BIKAY\"]\n",
    "S\n"
   ]
  },
  {
   "cell_type": "code",
   "execution_count": 28,
   "id": "8f074223-6c30-4ecf-849c-0a57471b1866",
   "metadata": {},
   "outputs": [
    {
     "data": {
      "text/plain": [
       "['AJAY, SANJAY , BIKAY']"
      ]
     },
     "execution_count": 28,
     "metadata": {},
     "output_type": "execute_result"
    }
   ],
   "source": [
    "sorted(S)"
   ]
  },
  {
   "cell_type": "code",
   "execution_count": 29,
   "id": "f565afae-c08e-493f-b4a2-14080e3b735b",
   "metadata": {},
   "outputs": [
    {
     "data": {
      "text/plain": [
       "'b suhana apt, marathalli, Banaglore'"
      ]
     },
     "execution_count": 29,
     "metadata": {},
     "output_type": "execute_result"
    }
   ],
   "source": [
    "address.strip()"
   ]
  },
  {
   "cell_type": "code",
   "execution_count": 30,
   "id": "5c0aa778-514e-4eb3-8569-4c2c100e68ad",
   "metadata": {},
   "outputs": [
    {
     "data": {
      "text/plain": [
       "'Ajay, data science, teacher'"
      ]
     },
     "execution_count": 30,
     "metadata": {},
     "output_type": "execute_result"
    }
   ],
   "source": [
    "data = \"Ajay, data science, teacher\"\n",
    "data"
   ]
  },
  {
   "cell_type": "code",
   "execution_count": 39,
   "id": "1a0fc959-a06a-4a27-8c7c-8895103a042a",
   "metadata": {},
   "outputs": [
    {
     "data": {
      "text/plain": [
       "['Ajay', ' data science', ' teacher']"
      ]
     },
     "execution_count": 39,
     "metadata": {},
     "output_type": "execute_result"
    }
   ],
   "source": [
    "data.split(\",\")"
   ]
  },
  {
   "cell_type": "code",
   "execution_count": 43,
   "id": "e33f261b-8b92-4a9f-846f-d0049cbfd70b",
   "metadata": {},
   "outputs": [
    {
     "data": {
      "text/plain": [
       "['Ajay', ' data science', ' teacher']"
      ]
     },
     "execution_count": 43,
     "metadata": {},
     "output_type": "execute_result"
    }
   ],
   "source": [
    "data.split(\",\")"
   ]
  },
  {
   "cell_type": "code",
   "execution_count": 46,
   "id": "8323bbed-19a1-43e2-960d-e7e13b9f0abe",
   "metadata": {},
   "outputs": [],
   "source": [
    "a=data.split(\",\")"
   ]
  },
  {
   "cell_type": "code",
   "execution_count": 48,
   "id": "a878d8ac-b33e-43a2-abaa-42bd923de439",
   "metadata": {},
   "outputs": [
    {
     "data": {
      "text/plain": [
       "['Ajay', ' data science', ' teacher']"
      ]
     },
     "execution_count": 48,
     "metadata": {},
     "output_type": "execute_result"
    }
   ],
   "source": [
    "a\n"
   ]
  },
  {
   "cell_type": "code",
   "execution_count": 49,
   "id": "f6cf665f-22f4-48d3-ab81-4656dca732c1",
   "metadata": {},
   "outputs": [],
   "source": [
    "name = a[0]\n",
    "course = a[1]\n",
    "teacher_name = a[2]"
   ]
  },
  {
   "cell_type": "code",
   "execution_count": 50,
   "id": "1790d3fb-39fd-4089-a632-2bd2b3926be2",
   "metadata": {},
   "outputs": [
    {
     "data": {
      "text/plain": [
       "'Ajay'"
      ]
     },
     "execution_count": 50,
     "metadata": {},
     "output_type": "execute_result"
    }
   ],
   "source": [
    "name"
   ]
  },
  {
   "cell_type": "code",
   "execution_count": 51,
   "id": "9e98deb8-e361-4ed3-a518-d96ec03b7f63",
   "metadata": {},
   "outputs": [
    {
     "data": {
      "text/plain": [
       "' data science'"
      ]
     },
     "execution_count": 51,
     "metadata": {},
     "output_type": "execute_result"
    }
   ],
   "source": [
    "course"
   ]
  },
  {
   "cell_type": "code",
   "execution_count": 52,
   "id": "8749fe3a-955e-44f6-9adb-e0fd878c7f7c",
   "metadata": {},
   "outputs": [
    {
     "data": {
      "text/plain": [
       "' teacher'"
      ]
     },
     "execution_count": 52,
     "metadata": {},
     "output_type": "execute_result"
    }
   ],
   "source": [
    "teacher_name"
   ]
  },
  {
   "cell_type": "code",
   "execution_count": 53,
   "id": "25a6a4ae-ad0a-45d9-9071-361a34494cc1",
   "metadata": {},
   "outputs": [
    {
     "data": {
      "text/plain": [
       "['teacher']"
      ]
     },
     "execution_count": 53,
     "metadata": {},
     "output_type": "execute_result"
    }
   ],
   "source": [
    "teacher_name.split()"
   ]
  },
  {
   "cell_type": "code",
   "execution_count": 5,
   "id": "309e7760-b89d-4eb9-b9d2-340de0df3323",
   "metadata": {},
   "outputs": [
    {
     "data": {
      "text/plain": [
       "True"
      ]
     },
     "execution_count": 5,
     "metadata": {},
     "output_type": "execute_result"
    }
   ],
   "source": [
    "str1 = \"pwskills\"\n",
    "str1.startswith(\"pws\")\n"
   ]
  },
  {
   "cell_type": "code",
   "execution_count": 7,
   "id": "6af1406e-8ded-4b73-949f-af312d70cb4c",
   "metadata": {},
   "outputs": [
    {
     "data": {
      "text/plain": [
       "False"
      ]
     },
     "execution_count": 7,
     "metadata": {},
     "output_type": "execute_result"
    }
   ],
   "source": [
    "yk = \"wj9ejwnec\"\n",
    "yk.startswith(\"rv9\")"
   ]
  },
  {
   "cell_type": "code",
   "execution_count": 8,
   "id": "f1774cfa-ca96-419e-9067-5154fc6876d0",
   "metadata": {},
   "outputs": [
    {
     "data": {
      "text/plain": [
       "True"
      ]
     },
     "execution_count": 8,
     "metadata": {},
     "output_type": "execute_result"
    }
   ],
   "source": [
    "yk.endswith(\"nec\")"
   ]
  },
  {
   "cell_type": "code",
   "execution_count": 22,
   "id": "3af3dbe0-fe46-475d-8277-4e1408493099",
   "metadata": {},
   "outputs": [
    {
     "data": {
      "text/plain": [
       "True"
      ]
     },
     "execution_count": 22,
     "metadata": {},
     "output_type": "execute_result"
    }
   ],
   "source": [
    "a = \"pwskills\"\n",
    "a.isalnum()"
   ]
  },
  {
   "cell_type": "code",
   "execution_count": 23,
   "id": "456f6449-06ff-487a-8b74-4e8f1c0556c4",
   "metadata": {},
   "outputs": [
    {
     "name": "stdout",
     "output_type": "stream",
     "text": [
      "p\n",
      "w\n",
      "s\n",
      "k\n",
      "i\n",
      "l\n",
      "l\n",
      "s\n"
     ]
    }
   ],
   "source": [
    "count = 0\n",
    "for i in a:\n",
    "    print(i)\n",
    "    "
   ]
  },
  {
   "cell_type": "code",
   "execution_count": 32,
   "id": "f6cddc95-2c9c-4cd7-9ef7-e1abc8c76719",
   "metadata": {},
   "outputs": [
    {
     "data": {
      "text/plain": [
       "['niansc']"
      ]
     },
     "execution_count": 32,
     "metadata": {},
     "output_type": "execute_result"
    }
   ],
   "source": [
    "lis=[]\n",
    "lis.append(\"niansc\")\n",
    "lis"
   ]
  },
  {
   "cell_type": "code",
   "execution_count": null,
   "id": "25013f73-e9dc-4dcc-bb35-bbe3840226b9",
   "metadata": {},
   "outputs": [],
   "source": []
  },
  {
   "cell_type": "markdown",
   "id": "83d3400b-cd9b-4ebd-bff9-8d693326fa98",
   "metadata": {},
   "source": [
    "#conditional statement\n",
    "#if \n",
    "\n"
   ]
  },
  {
   "cell_type": "code",
   "execution_count": 1,
   "id": "44f8d888-7961-4fde-960d-d3412c29dff5",
   "metadata": {},
   "outputs": [],
   "source": [
    "#syntax\n",
    "#if conditin true:\n",
    "    #block of code willbe excuted\n",
    "    "
   ]
  },
  {
   "cell_type": "code",
   "execution_count": 10,
   "id": "70cc5f20-0cd9-4cc0-b2e8-bb9191beec9d",
   "metadata": {},
   "outputs": [
    {
     "name": "stdin",
     "output_type": "stream",
     "text": [
      "the number is less then 0. hii\n"
     ]
    }
   ],
   "source": [
    "a =100\n",
    "if a < 0:\n",
    "    print(\"the numerr is greater then 0.\")\n",
    "else:\n",
    "    input(\"the number is less then 0.\")"
   ]
  },
  {
   "cell_type": "code",
   "execution_count": 20,
   "id": "91f1995f-af73-4bba-a15f-f1b58790c7a4",
   "metadata": {},
   "outputs": [
    {
     "name": "stdout",
     "output_type": "stream",
     "text": [
      "average student\n"
     ]
    }
   ],
   "source": [
    "student = 140\n",
    "if student <=150:\n",
    "    print(\"average student\")\n",
    "else:\n",
    "    print(\"cleaver student\")\n",
    "\n"
   ]
  },
  {
   "cell_type": "code",
   "execution_count": 8,
   "id": "600d7723-b6f3-4269-ad25-482f24b58549",
   "metadata": {},
   "outputs": [
    {
     "name": "stdin",
     "output_type": "stream",
     "text": [
      "enter you number 49\n"
     ]
    },
    {
     "name": "stdout",
     "output_type": "stream",
     "text": [
      "odd\n"
     ]
    }
   ],
   "source": [
    "num = int(input(\"enter you number\"))\n",
    "if num % 2 == 0:\n",
    "    print(\"even\")\n",
    "else:\n",
    "    print(\"odd\")"
   ]
  },
  {
   "cell_type": "code",
   "execution_count": 44,
   "id": "9a6cca95-c31b-4b68-9ab9-02f4eb416a89",
   "metadata": {},
   "outputs": [
    {
     "name": "stdout",
     "output_type": "stream",
     "text": [
      "odd\n"
     ]
    }
   ],
   "source": [
    "#multiple contion and else statement used\n",
    "number = 3\n",
    "if (number % 2 == 0) & (number > 0):\n",
    "    \n",
    "    print(\"even\")\n",
    "else:\n",
    "    print(\"odd\")"
   ]
  },
  {
   "cell_type": "code",
   "execution_count": 33,
   "id": "707f2197-de4e-4265-b95b-0e6ba8e4792a",
   "metadata": {},
   "outputs": [
    {
     "name": "stdout",
     "output_type": "stream",
     "text": [
      "dipak is smaller than dipen\n"
     ]
    }
   ],
   "source": [
    "dipak_age = 30\n",
    "dipen_age = 35\n",
    "if dipak_age >= dipen_age:\n",
    "    print(\"dipak is bigger then the dipen\")\n",
    "else:\n",
    "    print(\"dipak is smaller than dipen\")\n",
    "    "
   ]
  },
  {
   "cell_type": "code",
   "execution_count": 38,
   "id": "74eef7c7-6dd1-421f-b901-4ba3499ebfc6",
   "metadata": {},
   "outputs": [
    {
     "name": "stdout",
     "output_type": "stream",
     "text": [
      "i will stay in india\n"
     ]
    }
   ],
   "source": [
    "karan = False\n",
    "if karan:#thant assume a true statment \n",
    "    print(\"i am going aboroad\")\n",
    "else:\n",
    "    print(\"i will stay in india\")\n",
    "    "
   ]
  },
  {
   "cell_type": "markdown",
   "id": "f0f5dd69-b50e-4551-8007-2ae442d3ae61",
   "metadata": {},
   "source": [
    "#if else >> two condition\n",
    "#in real life we can have multiple condition\n",
    "#syntax\n",
    "#if some condition \n",
    "#elief some condition\n",
    "#eise\n",
    "\n"
   ]
  },
  {
   "cell_type": "code",
   "execution_count": 10,
   "id": "9d54fb61-a75c-4b07-966f-a9802608c13b",
   "metadata": {},
   "outputs": [
    {
     "name": "stdout",
     "output_type": "stream",
     "text": [
      "nihar\n"
     ]
    }
   ],
   "source": [
    "a = 10\n",
    "if a == 100:                #remember (=)its indicate assign value. where (==) indicate was a condition if value = 100 its not assingning the value \n",
    "    print(\"yash\")                #if one of the  condition was true then after whatever codition may be match the condion was neglated\n",
    "                                 #after one condition was satisfied and excuted that box\n",
    "elif a>1000:\n",
    "    print(\"number is useged\")\n",
    "elif a<100:\n",
    "    print(\"nihar\")\n",
    "else:\n",
    "    print(\"jigar\")\n",
    "    "
   ]
  },
  {
   "cell_type": "code",
   "execution_count": 11,
   "id": "07629349-8394-4708-a6c0-ed03a7c83a9c",
   "metadata": {},
   "outputs": [],
   "source": [
    "#lets practice less then and equal to conditon"
   ]
  },
  {
   "cell_type": "code",
   "execution_count": 18,
   "id": "7490886d-2bf2-4185-9244-396068245e06",
   "metadata": {},
   "outputs": [
    {
     "name": "stdin",
     "output_type": "stream",
     "text": [
      "enter you mark 65\n"
     ]
    },
    {
     "name": "stdout",
     "output_type": "stream",
     "text": [
      "Gread D\n"
     ]
    }
   ],
   "source": [
    "score = int(input(\"enter you mark\"))\n",
    "if score >= 90:\n",
    "    print(\"Gread A\")\n",
    "elif (80 <= score <= 90):\n",
    "    print(\"Gread B\")\n",
    "elif(70 <= score <= 80):\n",
    "    print(\"Gread C\")\n",
    "elif ( 60 <= score >70):\n",
    "    print(\"Gread c1\")\n",
    "\n",
    "    \n",
    "else:\n",
    "    print(\"Gread D\")"
   ]
  },
  {
   "cell_type": "code",
   "execution_count": 21,
   "id": "0f96b82b-269c-43cc-9ce6-576d56b80e1b",
   "metadata": {},
   "outputs": [
    {
     "name": "stdout",
     "output_type": "stream",
     "text": [
      "Gread D\n"
     ]
    }
   ],
   "source": [
    "score = 59\n",
    "if score >= 90:\n",
    "    print(\"Gread A\")\n",
    "elif (80 <= score < 90):\n",
    "    print(\"Gread B\")\n",
    "elif(70 <= score < 80):\n",
    "    print(\"Gread C\")\n",
    "elif(60 <= score <70):\n",
    "    print(\"Gread C1\")\n",
    "else:\n",
    "    print(\"Gread D\")"
   ]
  },
  {
   "cell_type": "code",
   "execution_count": 12,
   "id": "cbb494a9-3cc6-4f2f-b228-c56e8882cbb1",
   "metadata": {},
   "outputs": [
    {
     "name": "stdout",
     "output_type": "stream",
     "text": [
      "x is not greater than 5\n"
     ]
    }
   ],
   "source": [
    "#nested if else >> you can have multiple if else inside else\n",
    "x = 4\n",
    "y = 7\n",
    "if x > 5:\n",
    "    if y > 5:\n",
    "        print(\"both x and y is greater than 5\")\n",
    "    else:\n",
    "        print(\"x is greater than 5 but y is less than 5\")\n",
    "else:\n",
    "    print(\"x is not greater than 5\")\n",
    "\n",
    "    \n",
    "        "
   ]
  },
  {
   "cell_type": "code",
   "execution_count": 22,
   "id": "503134f1-500d-4d40-924c-2a8e92952f02",
   "metadata": {},
   "outputs": [
    {
     "name": "stdout",
     "output_type": "stream",
     "text": [
      "you are vip and very imp. you are elegible for senior citizen discount\n"
     ]
    }
   ],
   "source": [
    "is_vip = True # its very important example \n",
    "age = 77\n",
    "if is_vip:\n",
    "    if age >= 18:\n",
    "        if age < 65:\n",
    "            print(\"welcome to vip customer\")\n",
    "        else:\n",
    "            print(\"you are vip and very imp. you are elegible for senior citizen discount\")\n",
    "    else:\n",
    "        print(\"vip status is only for adult\")\n",
    "else:\n",
    "    print(\"you are not a vip customer and will be charged a regular price\")\n",
    "       "
   ]
  },
  {
   "cell_type": "code",
   "execution_count": 9,
   "id": "8b75780a-2f3b-4a3c-b694-fe7c8b4aa73f",
   "metadata": {},
   "outputs": [
    {
     "name": "stdin",
     "output_type": "stream",
     "text": [
      "namber put  100\n"
     ]
    },
    {
     "name": "stdout",
     "output_type": "stream",
     "text": [
      "<class 'int'> the numer is 100\n"
     ]
    }
   ],
   "source": [
    "a = int(input(\"namber put \"))\n",
    "print(type(a), \"the numer is\" ,a)\n"
   ]
  },
  {
   "cell_type": "code",
   "execution_count": 7,
   "id": "44301c0f-812d-42a4-a0ed-c98f707c6c09",
   "metadata": {},
   "outputs": [
    {
     "data": {
      "text/plain": [
       "120"
      ]
     },
     "execution_count": 7,
     "metadata": {},
     "output_type": "execute_result"
    }
   ],
   "source": [
    "int(a)"
   ]
  },
  {
   "cell_type": "code",
   "execution_count": 10,
   "id": "a95b9ac2-0032-42fc-bf3a-db230dd2ea6f",
   "metadata": {},
   "outputs": [
    {
     "data": {
      "text/plain": [
       "int"
      ]
     },
     "execution_count": 10,
     "metadata": {},
     "output_type": "execute_result"
    }
   ],
   "source": [
    "type(a)"
   ]
  },
  {
   "cell_type": "code",
   "execution_count": 20,
   "id": "4a9e7056-cd3f-4706-9ae3-b3d5a1f397b2",
   "metadata": {},
   "outputs": [
    {
     "name": "stdin",
     "output_type": "stream",
     "text": [
      "namber put  1\n"
     ]
    },
    {
     "name": "stdout",
     "output_type": "stream",
     "text": [
      "the no is greater than 0 and less than 100\n"
     ]
    }
   ],
   "source": [
    "a = int(input(\"namber put \"))\n",
    "if a>100:\n",
    "    print(\"the no is greater than 100\")\n",
    "elif a == 100:\n",
    "    print(\"the number is equal  to 100\")\n",
    "elif 0<a<100:\n",
    "    print(\"the no is greater than 0 and less than 100\")\n",
    "elif 0==0:\n",
    "    print(\"invalid input\")\n",
    "else:\n",
    "    print(\"this is negative no\")"
   ]
  },
  {
   "cell_type": "code",
   "execution_count": 29,
   "id": "1354f15e-e327-488e-83d0-3801efa4397e",
   "metadata": {},
   "outputs": [
    {
     "name": "stdin",
     "output_type": "stream",
     "text": [
      "Please enter your name yash\n",
      "Please enter your email @\n",
      "Please enter your passworld \n"
     ]
    },
    {
     "name": "stdout",
     "output_type": "stream",
     "text": [
      "No password entered , pls provide a valid password\n"
     ]
    }
   ],
   "source": [
    "#form fiilling\n",
    "name = input(\"Please enter your name\")\n",
    "email = input(\"Please enter your email\")\n",
    "passworld=input(\"Please enter your passworld\")\n",
    "\n",
    "if name == \"\":\n",
    "    print(\"please enter a valid name,can not be empty\")\n",
    "else:\n",
    "    if \"@\" not in email:\n",
    "        print(\"Please enter a valid email\")\n",
    "    else:\n",
    "        if len(passworld) <= 0:\n",
    "            print(\"No password entered , pls provide a valid password\")\n",
    "        else:\n",
    "            print(\"Login/resigstration is sucessfull\")"
   ]
  },
  {
   "cell_type": "code",
   "execution_count": 26,
   "id": "0b128b6e-8e44-40ce-892d-93b80a0399eb",
   "metadata": {},
   "outputs": [
    {
     "data": {
      "text/plain": [
       "6"
      ]
     },
     "execution_count": 26,
     "metadata": {},
     "output_type": "execute_result"
    }
   ],
   "source": [
    "len(\"niha5r\") #len provide a how many numer in string"
   ]
  },
  {
   "cell_type": "markdown",
   "id": "9abde27d-ea42-4d15-8021-0428548ddb0c",
   "metadata": {},
   "source": [
    "loop statement \n",
    "\n",
    "it allows you to excute a block of code repeatedly\n",
    "\n",
    "loops are two type\n",
    "\n",
    "(1) while loop\n",
    "(2) for loop"
   ]
  },
  {
   "cell_type": "code",
   "execution_count": 30,
   "id": "b4bba0a4-e6b8-4910-a8c7-5f97172417e8",
   "metadata": {},
   "outputs": [],
   "source": [
    "#while loop>> repeatedly excuted a blockof code untill a condition is met"
   ]
  },
  {
   "cell_type": "code",
   "execution_count": 31,
   "id": "3317884e-4084-4b6e-aeb8-64b96eb3dde6",
   "metadata": {},
   "outputs": [],
   "source": [
    "#syntax\n",
    "#while >> while is a key world used for a while loop "
   ]
  },
  {
   "cell_type": "code",
   "execution_count": 1,
   "id": "4a3aaee5-5aa0-4273-b536-0e50c75795ca",
   "metadata": {},
   "outputs": [
    {
     "name": "stdout",
     "output_type": "stream",
     "text": [
      "0\n",
      "1\n",
      "2\n",
      "3\n",
      "4\n",
      "The number is higher than y\n"
     ]
    }
   ],
   "source": [
    "y = 4\n",
    "k = 0\n",
    "while k <= y:\n",
    "    print(k)\n",
    "    k=k+1\n",
    "else:\n",
    "    print(\"The number is higher than y\")"
   ]
  },
  {
   "cell_type": "code",
   "execution_count": 68,
   "id": "09b6426c-ac32-493f-93e2-962a8398e964",
   "metadata": {},
   "outputs": [
    {
     "name": "stdout",
     "output_type": "stream",
     "text": [
      "5\n",
      "4\n",
      "3\n",
      "2\n",
      "1\n"
     ]
    }
   ],
   "source": [
    "x = 5\n",
    "while x > 0:\n",
    "    print(x)\n",
    "    x = x - 1"
   ]
  },
  {
   "cell_type": "code",
   "execution_count": 76,
   "id": "ad25fcb5-fdc7-4527-8f3b-37e856462543",
   "metadata": {},
   "outputs": [
    {
     "name": "stdout",
     "output_type": "stream",
     "text": [
      "0\n",
      "1\n",
      "2\n"
     ]
    }
   ],
   "source": [
    "y = 4        # use break statement to exit the while loop \n",
    "k = 0\n",
    "while k <= y:\n",
    "    print(k)\n",
    "    k = k+1\n",
    "    if k == 3:\n",
    "        break\n",
    "else:\n",
    "    print(\"The number is higher than y\")  # practice more all arithmatic operation like /,*,-,+,% etc"
   ]
  },
  {
   "cell_type": "code",
   "execution_count": null,
   "id": "aa66a847-de6a-478b-9c09-bc189d235a24",
   "metadata": {},
   "outputs": [],
   "source": [
    "#continue statement<< skip the iteration"
   ]
  },
  {
   "cell_type": "code",
   "execution_count": null,
   "id": "fe6a0e30-98ea-4d5e-a980-0663617f258b",
   "metadata": {},
   "outputs": [],
   "source": [
    "y = 7        # use continue statement to skip the number and continue process the while loop \n",
    "k = 1\n",
    "while k < y:\n",
    "    if k <= 4:\n",
    "        continue\n",
    "    print(k)\n",
    "    k=k+1\n",
    "else:\n",
    "    print(\"The number is higher than y\")  "
   ]
  },
  {
   "cell_type": "code",
   "execution_count": null,
   "id": "f6255f1d-b3a2-4a8f-ad57-d74bb0286d30",
   "metadata": {},
   "outputs": [],
   "source": [
    "#for loops >> iterate over a sequence of element >> string, list\n",
    "for i in \"yash solanki\":\n",
    "    print(i , end=\"\")\n",
    "    "
   ]
  },
  {
   "cell_type": "code",
   "execution_count": 16,
   "id": "bad0d7bf-0a39-4e24-b997-8d101d602e76",
   "metadata": {},
   "outputs": [
    {
     "name": "stdout",
     "output_type": "stream",
     "text": [
      "1\n",
      "2\n",
      "karan\n",
      "milan\n",
      "error\n"
     ]
    }
   ],
   "source": [
    "l = [1,2,\"karan\",\"milan\"] #for loops >> iterate over a sequence of element >> string, list\n",
    "for x in l:\n",
    "    print(x)\n",
    "else:\n",
    "    print(\"error\")"
   ]
  },
  {
   "cell_type": "code",
   "execution_count": 25,
   "id": "09b7d094-5387-4234-a4d7-adc6c3f256b8",
   "metadata": {},
   "outputs": [
    {
     "name": "stdout",
     "output_type": "stream",
     "text": [
      "1\n",
      "2\n",
      "ajay\n"
     ]
    }
   ],
   "source": [
    "#break statement i for loop\n",
    "l = [1,2,\"ajay\",\"karan\",\"milan\"] \n",
    "for x in l:\n",
    "    if x == \"karan\":\n",
    "        break\n",
    "    print(x)\n",
    "    \n",
    "else:\n",
    "    print(\"error\")"
   ]
  },
  {
   "cell_type": "code",
   "execution_count": 1,
   "id": "5df21417-0ad4-4ecb-8202-500a6db0bd62",
   "metadata": {},
   "outputs": [
    {
     "name": "stdout",
     "output_type": "stream",
     "text": [
      "1\n",
      "2\n",
      "karan\n",
      "error\n"
     ]
    }
   ],
   "source": [
    "l = [1,2,\"karan\",\"milan\"] \n",
    "for x in l:\n",
    "    if x == \"milan\":\n",
    "        continue\n",
    "    print(x)\n",
    "    \n",
    "else:\n",
    "    print(\"error\")"
   ]
  },
  {
   "cell_type": "code",
   "execution_count": 26,
   "id": "9e13a6a8-fe3f-4f45-a96a-65b18580d236",
   "metadata": {},
   "outputs": [
    {
     "data": {
      "text/plain": [
       "[0, 1, 2, 3, 4, 5, 6, 7, 8, 9]"
      ]
     },
     "execution_count": 26,
     "metadata": {},
     "output_type": "execute_result"
    }
   ],
   "source": [
    "list(range(0,10))           #list is a function to give a value to 0 to 10"
   ]
  },
  {
   "cell_type": "code",
   "execution_count": 1,
   "id": "c7455978-c819-4bc9-a305-c742b44f0f13",
   "metadata": {},
   "outputs": [
    {
     "name": "stdout",
     "output_type": "stream",
     "text": [
      "0\n",
      "1\n",
      "2\n",
      "3\n",
      "4\n",
      "5\n",
      "6\n",
      "7\n",
      "8\n",
      "9\n"
     ]
    }
   ],
   "source": [
    "for i in range(10):\n",
    "    print(i)"
   ]
  },
  {
   "cell_type": "code",
   "execution_count": 2,
   "id": "549089ca-d654-46a1-9241-e76ad710816b",
   "metadata": {},
   "outputs": [
    {
     "name": "stdout",
     "output_type": "stream",
     "text": [
      "0 1 2 3 4 5 6 7 8 9 "
     ]
    }
   ],
   "source": [
    "for i in range(10):#use space betwwn string if not output was not give by space\n",
    "    print(i, end=\" \")"
   ]
  },
  {
   "cell_type": "code",
   "execution_count": 1,
   "id": "23c4088f-b134-4146-84cb-311a5233f176",
   "metadata": {},
   "outputs": [
    {
     "data": {
      "text/plain": [
       "[0, 1, 2, 3, 4, 5, 6, 7, 8, 9]"
      ]
     },
     "execution_count": 1,
     "metadata": {},
     "output_type": "execute_result"
    }
   ],
   "source": [
    "#syantax of range (start,stop,step)\n",
    "list(range(0,10))"
   ]
  },
  {
   "cell_type": "code",
   "execution_count": 5,
   "id": "e9b21d4c-ec03-4ec5-8f76-de5131998e38",
   "metadata": {},
   "outputs": [
    {
     "data": {
      "text/plain": [
       "[0, 10, 20, 30, 40, 50, 60, 70, 80, 90]"
      ]
     },
     "execution_count": 5,
     "metadata": {},
     "output_type": "execute_result"
    }
   ],
   "source": [
    "list(range(0,100,10))\n"
   ]
  },
  {
   "cell_type": "code",
   "execution_count": 4,
   "id": "0edfdef8-f1e8-4715-b80e-9ef92bf42a25",
   "metadata": {},
   "outputs": [],
   "source": [
    "#problem statement\n",
    "#print a right triangle with star(*)"
   ]
  },
  {
   "cell_type": "code",
   "execution_count": 21,
   "id": "83ae9889-e53a-4003-9a5b-c7065d2ac40e",
   "metadata": {},
   "outputs": [
    {
     "name": "stdout",
     "output_type": "stream",
     "text": [
      "* \n",
      "* * \n",
      "* * * \n",
      "* * * * \n"
     ]
    }
   ],
   "source": [
    "row = 1\n",
    "while row < 5:\n",
    "    col = 1\n",
    "    while col <= row:\n",
    "        print(\"*\", end = \" \")\n",
    "        col = col+1\n",
    "    print()\n",
    "    row =row+1\n",
    "            "
   ]
  },
  {
   "cell_type": "code",
   "execution_count": 28,
   "id": "a2dfa82a-c049-47e5-b016-536f48c3d230",
   "metadata": {},
   "outputs": [
    {
     "name": "stdout",
     "output_type": "stream",
     "text": [
      "* * * * \n",
      "* * * \n",
      "* * \n",
      "* \n",
      "\n"
     ]
    }
   ],
   "source": [
    "for i in range(5):#0,1,2,3\n",
    "    for j in range(i+1,5):#0+1 that means 0 \n",
    "        print(\"*\",end = \" \")#print only 1 star\n",
    "    print()"
   ]
  },
  {
   "cell_type": "code",
   "execution_count": 25,
   "id": "7d4b06ef-405a-4cee-bc5a-caf9b7d69012",
   "metadata": {},
   "outputs": [
    {
     "name": "stdout",
     "output_type": "stream",
     "text": [
      "1 \n",
      "1 2 \n",
      "1 2 3 \n",
      "1 2 3 4 \n",
      "1 2 3 4 5 \n"
     ]
    }
   ],
   "source": [
    "#internal homework\n",
    "for i in range(5):\n",
    "    for j in range(i+1):\n",
    "        print(j+1,end = \" \")\n",
    "    print()\n",
    "    j = i+1"
   ]
  },
  {
   "cell_type": "code",
   "execution_count": 22,
   "id": "7ab8b1fc-a8ca-4abf-b5f8-912141067b2f",
   "metadata": {},
   "outputs": [
    {
     "name": "stdout",
     "output_type": "stream",
     "text": [
      "1\n",
      "2\n",
      "4\n",
      "5\n",
      "6\n",
      "8\n",
      "9\n"
     ]
    }
   ],
   "source": [
    "list1 = [1,2, 3, 4, 5, 6, 7, 8, 9]\n",
    "for i in list1:\n",
    "    if (i == 3) or (i == 7):\n",
    "        continue\n",
    "    print(i)"
   ]
  },
  {
   "cell_type": "code",
   "execution_count": 24,
   "id": "85bb192e-4b6d-4986-91b9-311536b43905",
   "metadata": {},
   "outputs": [
    {
     "name": "stdout",
     "output_type": "stream",
     "text": [
      "0\n",
      "2\n",
      "4\n",
      "6\n",
      "8\n"
     ]
    }
   ],
   "source": [
    "#print the even numer\n",
    "for i in range(0,10):\n",
    "    if i%2 != 0:\n",
    "        continue\n",
    "    print(i)\n",
    "    "
   ]
  },
  {
   "cell_type": "code",
   "execution_count": 19,
   "id": "55aef71a-7189-4f27-b00c-618ca398a4ad",
   "metadata": {},
   "outputs": [],
   "source": [
    "#write a code year is leap year or not\n",
    "\n",
    "#A leap year is exactly divisible by 4 except for century years (years ending with 00). \n",
    "#The century year is a leap year only if it is perfectly divisible by 400. For example,"
   ]
  },
  {
   "cell_type": "code",
   "execution_count": 42,
   "id": "43480d4a-5422-46b5-9ac1-9d811191b05f",
   "metadata": {},
   "outputs": [
    {
     "name": "stdin",
     "output_type": "stream",
     "text": [
      "enter year 400\n"
     ]
    },
    {
     "name": "stdout",
     "output_type": "stream",
     "text": [
      "its leap year\n"
     ]
    }
   ],
   "source": [
    "year = int(input(\"enter year\"))\n",
    "if year/4:\n",
    "    if (year%400==0) and (year%100==0):\n",
    "        print(\"its leap year\")\n",
    "    elif (year%4 == 0) and (year%100 != 0):\n",
    "        print(\"its a leap year\")\n",
    "    else:\n",
    "        print(\"its not a leap year\")"
   ]
  },
  {
   "cell_type": "code",
   "execution_count": 3,
   "id": "7dcc70c6-e036-45ab-bc90-a219cc1fc698",
   "metadata": {},
   "outputs": [
    {
     "name": "stdin",
     "output_type": "stream",
     "text": [
      "age 75\n",
      "any disese no\n",
      "enter a money 1565\n",
      "married_status no\n",
      "job_status no\n",
      "do_you_have_a_child no\n"
     ]
    },
    {
     "name": "stdout",
     "output_type": "stream",
     "text": [
      "you are good buddha\n"
     ]
    }
   ],
   "source": [
    "#age classify\n",
    "#if age is beteween 50 to 70 and more than 100000000 money you are retired \n",
    "age = int(input(\"age\"))\n",
    "disease=input(\"any disese\")\n",
    "money=int(input(\"enter a money\"))\n",
    "married_status = input(\"married_status\")\n",
    "job_status = input(\"job_status\")\n",
    "do_you_have_a_child = input(\"do_you_have_a_child\")\n",
    "\n",
    "if age >=70 and  disease == \"no\": \n",
    "    print(\"you are good buddha\")\n",
    "elif (50 <= age <=70) and (money >= 1000):\n",
    "    print(\"you are retaired\")\n",
    "elif (50 <= age <=70) and (500 <= money <=1000):\n",
    "    print(\"you are working buddha\")\n",
    "elif (50 <= age <=70) and (500 < money):\n",
    "    print(\"You just started you career\")\n",
    "elif (20 <= age <= 50) and (married_status==\"yes\" and job_status==\"yes\" and do_you_have_a_child==\"yes\"):\n",
    "    print(\"you are young\")\n",
    "elif (age <=20) and (job_status==\"no\"):\n",
    "    print(\"you are berojgar\")\n",
    "else:\n",
    "    print(\"you are not a good buddha\")\n",
    "    \n",
    "\n",
    "    "
   ]
  },
  {
   "cell_type": "code",
   "execution_count": null,
   "id": "bc977865-f0eb-4fc9-a921-ff23aec43c1e",
   "metadata": {},
   "outputs": [],
   "source": []
  },
  {
   "cell_type": "code",
   "execution_count": null,
   "id": "71b703ce-a4c0-47af-81e6-500a982423d7",
   "metadata": {},
   "outputs": [],
   "source": []
  },
  {
   "cell_type": "code",
   "execution_count": null,
   "id": "22ff7c59-70aa-47c0-93ce-987a9bed7d72",
   "metadata": {},
   "outputs": [],
   "source": []
  }
 ],
 "metadata": {
  "kernelspec": {
   "display_name": "Python 3 (ipykernel)",
   "language": "python",
   "name": "python3"
  },
  "language_info": {
   "codemirror_mode": {
    "name": "ipython",
    "version": 3
   },
   "file_extension": ".py",
   "mimetype": "text/x-python",
   "name": "python",
   "nbconvert_exporter": "python",
   "pygments_lexer": "ipython3",
   "version": "3.10.8"
  }
 },
 "nbformat": 4,
 "nbformat_minor": 5
}
