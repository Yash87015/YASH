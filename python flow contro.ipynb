{
 "cells": [
  {
   "cell_type": "markdown",
   "id": "2691d8af-c172-4bb2-b0fe-66879ca69ca9",
   "metadata": {},
   "source": [
    "#conditional statement\n",
    "#if \n",
    "\n"
   ]
  },
  {
   "cell_type": "code",
   "execution_count": 1,
   "id": "9bcc6825-07cd-422e-931a-420728a7d04f",
   "metadata": {},
   "outputs": [],
   "source": [
    "#syntax\n",
    "#if conditin true:\n",
    "    #block of code willbe excuted\n",
    "    "
   ]
  },
  {
   "cell_type": "code",
   "execution_count": 10,
   "id": "439772d3-9f20-45af-b341-05abc9c39eb5",
   "metadata": {},
   "outputs": [
    {
     "name": "stdin",
     "output_type": "stream",
     "text": [
      "the number is less then 0. hii\n"
     ]
    }
   ],
   "source": [
    "a =100\n",
    "if a < 0:\n",
    "    print(\"the numerr is greater then 0.\")\n",
    "else:\n",
    "    input(\"the number is less then 0.\")"
   ]
  },
  {
   "cell_type": "code",
   "execution_count": 20,
   "id": "43eff956-d1bc-481c-b683-f73332d365e3",
   "metadata": {},
   "outputs": [
    {
     "name": "stdout",
     "output_type": "stream",
     "text": [
      "average student\n"
     ]
    }
   ],
   "source": [
    "student = 140\n",
    "if student <=150:\n",
    "    print(\"average student\")\n",
    "else:\n",
    "    print(\"cleaver student\")\n",
    "\n"
   ]
  },
  {
   "cell_type": "code",
   "execution_count": 8,
   "id": "78c40384-a16e-4286-ac39-427fc6217090",
   "metadata": {},
   "outputs": [
    {
     "name": "stdin",
     "output_type": "stream",
     "text": [
      "enter you number 49\n"
     ]
    },
    {
     "name": "stdout",
     "output_type": "stream",
     "text": [
      "odd\n"
     ]
    }
   ],
   "source": [
    "num = int(input(\"enter you number\"))\n",
    "if num % 2 == 0:\n",
    "    print(\"even\")\n",
    "else:\n",
    "    print(\"odd\")"
   ]
  },
  {
   "cell_type": "code",
   "execution_count": 44,
   "id": "2b0a8cbc-1c3d-45c6-8c2b-e8d81da15af2",
   "metadata": {},
   "outputs": [
    {
     "name": "stdout",
     "output_type": "stream",
     "text": [
      "odd\n"
     ]
    }
   ],
   "source": [
    "#multiple contion and else statement used\n",
    "number = 3\n",
    "if (number % 2 == 0) & (number > 0):\n",
    "    \n",
    "    print(\"even\")\n",
    "else:\n",
    "    print(\"odd\")"
   ]
  },
  {
   "cell_type": "code",
   "execution_count": 33,
   "id": "1ec8f15f-918c-49b7-9dc2-94cc9e2f3b07",
   "metadata": {},
   "outputs": [
    {
     "name": "stdout",
     "output_type": "stream",
     "text": [
      "dipak is smaller than dipen\n"
     ]
    }
   ],
   "source": [
    "dipak_age = 30\n",
    "dipen_age = 35\n",
    "if dipak_age >= dipen_age:\n",
    "    print(\"dipak is bigger then the dipen\")\n",
    "else:\n",
    "    print(\"dipak is smaller than dipen\")\n",
    "    "
   ]
  },
  {
   "cell_type": "code",
   "execution_count": 38,
   "id": "656f2e46-13cc-44e7-b022-aba6c9e2236f",
   "metadata": {},
   "outputs": [
    {
     "name": "stdout",
     "output_type": "stream",
     "text": [
      "i will stay in india\n"
     ]
    }
   ],
   "source": [
    "karan = False\n",
    "if karan:#thant assume a true statment \n",
    "    print(\"i am going aboroad\")\n",
    "else:\n",
    "    print(\"i will stay in india\")\n",
    "    "
   ]
  },
  {
   "cell_type": "markdown",
   "id": "4b055395-95ff-4bea-8638-c0cc411cf77c",
   "metadata": {},
   "source": [
    "#if else >> two condition\n",
    "#in real life we can have multiple condition\n",
    "#syntax\n",
    "#if some condition \n",
    "#elief some condition\n",
    "#eise\n",
    "\n"
   ]
  },
  {
   "cell_type": "code",
   "execution_count": 10,
   "id": "0d6cfe70-f91e-4a79-92cf-9e20910fbcb9",
   "metadata": {},
   "outputs": [
    {
     "name": "stdout",
     "output_type": "stream",
     "text": [
      "nihar\n"
     ]
    }
   ],
   "source": [
    "a = 10\n",
    "if a == 100:                #remember (=)its indicate assign value. where (==) indicate was a condition if value = 100 its not assingning the value \n",
    "    print(\"yash\")                #if one of the  condition was true then after whatever codition may be match the condion was neglated\n",
    "                                 #after one condition was satisfied and excuted that box\n",
    "elif a>1000:\n",
    "    print(\"number is useged\")\n",
    "elif a<100:\n",
    "    print(\"nihar\")\n",
    "else:\n",
    "    print(\"jigar\")\n",
    "    "
   ]
  },
  {
   "cell_type": "code",
   "execution_count": 11,
   "id": "1ec1f793-0267-4647-b2d7-a82baba1b642",
   "metadata": {},
   "outputs": [],
   "source": [
    "#lets practice less then and equal to conditon"
   ]
  },
  {
   "cell_type": "code",
   "execution_count": 18,
   "id": "77b2fe86-ea49-4629-a129-d2c19a4502d6",
   "metadata": {},
   "outputs": [
    {
     "name": "stdin",
     "output_type": "stream",
     "text": [
      "enter you mark 65\n"
     ]
    },
    {
     "name": "stdout",
     "output_type": "stream",
     "text": [
      "Gread D\n"
     ]
    }
   ],
   "source": [
    "score = int(input(\"enter you mark\"))\n",
    "if score >= 90:\n",
    "    print(\"Gread A\")\n",
    "elif (80 <= score <= 90):\n",
    "    print(\"Gread B\")\n",
    "elif(70 <= score <= 80):\n",
    "    print(\"Gread C\")\n",
    "elif ( 60 <= score >70):\n",
    "    print(\"Gread c1\")\n",
    "\n",
    "    \n",
    "else:\n",
    "    print(\"Gread D\")"
   ]
  },
  {
   "cell_type": "code",
   "execution_count": 21,
   "id": "fd85f861-9b29-42d2-9d9b-5b86b7b36559",
   "metadata": {},
   "outputs": [
    {
     "name": "stdout",
     "output_type": "stream",
     "text": [
      "Gread D\n"
     ]
    }
   ],
   "source": [
    "score = 59\n",
    "if score >= 90:\n",
    "    print(\"Gread A\")\n",
    "elif (80 <= score < 90):\n",
    "    print(\"Gread B\")\n",
    "elif(70 <= score < 80):\n",
    "    print(\"Gread C\")\n",
    "elif(60 <= score <70):\n",
    "    print(\"Gread C1\")\n",
    "else:\n",
    "    print(\"Gread D\")"
   ]
  },
  {
   "cell_type": "code",
   "execution_count": 12,
   "id": "e53c8b18-48fd-4793-8fe3-9c036c9ad61c",
   "metadata": {},
   "outputs": [
    {
     "name": "stdout",
     "output_type": "stream",
     "text": [
      "x is not greater than 5\n"
     ]
    }
   ],
   "source": [
    "#nested if else >> you can have multiple if else inside else\n",
    "x = 4\n",
    "y = 7\n",
    "if x > 5:\n",
    "    if y > 5:\n",
    "        print(\"both x and y is greater than 5\")\n",
    "    else:\n",
    "        print(\"x is greater than 5 but y is less than 5\")\n",
    "else:\n",
    "    print(\"x is not greater than 5\")\n",
    "\n",
    "    \n",
    "        "
   ]
  },
  {
   "cell_type": "code",
   "execution_count": 22,
   "id": "7345ef35-3eb4-4c2f-badf-d433a8b274df",
   "metadata": {},
   "outputs": [
    {
     "name": "stdout",
     "output_type": "stream",
     "text": [
      "you are vip and very imp. you are elegible for senior citizen discount\n"
     ]
    }
   ],
   "source": [
    "is_vip = True # its very important example \n",
    "age = 77\n",
    "if is_vip:\n",
    "    if age >= 18:\n",
    "        if age < 65:\n",
    "            print(\"welcome to vip customer\")\n",
    "        else:\n",
    "            print(\"you are vip and very imp. you are elegible for senior citizen discount\")\n",
    "    else:\n",
    "        print(\"vip status is only for adult\")\n",
    "else:\n",
    "    print(\"you are not a vip customer and will be charged a regular price\")\n",
    "       "
   ]
  },
  {
   "cell_type": "code",
   "execution_count": 9,
   "id": "f1c2a770-2f71-4ebf-996e-c5704314d947",
   "metadata": {},
   "outputs": [
    {
     "name": "stdin",
     "output_type": "stream",
     "text": [
      "namber put  100\n"
     ]
    },
    {
     "name": "stdout",
     "output_type": "stream",
     "text": [
      "<class 'int'> the numer is 100\n"
     ]
    }
   ],
   "source": [
    "a = int(input(\"namber put \"))\n",
    "print(type(a), \"the numer is\" ,a)\n"
   ]
  },
  {
   "cell_type": "code",
   "execution_count": 7,
   "id": "256aa265-d4c2-45a9-a05d-1c9d1ad86cab",
   "metadata": {},
   "outputs": [
    {
     "data": {
      "text/plain": [
       "120"
      ]
     },
     "execution_count": 7,
     "metadata": {},
     "output_type": "execute_result"
    }
   ],
   "source": [
    "int(a)"
   ]
  },
  {
   "cell_type": "code",
   "execution_count": 10,
   "id": "1ccb211f-5b05-4ec1-aa45-db4cf76ac275",
   "metadata": {},
   "outputs": [
    {
     "data": {
      "text/plain": [
       "int"
      ]
     },
     "execution_count": 10,
     "metadata": {},
     "output_type": "execute_result"
    }
   ],
   "source": [
    "type(a)"
   ]
  },
  {
   "cell_type": "code",
   "execution_count": 20,
   "id": "0446c8d6-4e68-4627-b2ab-83404f960c18",
   "metadata": {},
   "outputs": [
    {
     "name": "stdin",
     "output_type": "stream",
     "text": [
      "namber put  1\n"
     ]
    },
    {
     "name": "stdout",
     "output_type": "stream",
     "text": [
      "the no is greater than 0 and less than 100\n"
     ]
    }
   ],
   "source": [
    "a = int(input(\"namber put \"))\n",
    "if a>100:\n",
    "    print(\"the no is greater than 100\")\n",
    "elif a == 100:\n",
    "    print(\"the number is equal  to 100\")\n",
    "elif 0<a<100:\n",
    "    print(\"the no is greater than 0 and less than 100\")\n",
    "elif 0==0:\n",
    "    print(\"invalid input\")\n",
    "else:\n",
    "    print(\"this is negative no\")"
   ]
  },
  {
   "cell_type": "code",
   "execution_count": 29,
   "id": "793eaf47-688e-47dd-b09a-7d1c6bc7dfeb",
   "metadata": {},
   "outputs": [
    {
     "name": "stdin",
     "output_type": "stream",
     "text": [
      "Please enter your name yash\n",
      "Please enter your email @\n",
      "Please enter your passworld \n"
     ]
    },
    {
     "name": "stdout",
     "output_type": "stream",
     "text": [
      "No password entered , pls provide a valid password\n"
     ]
    }
   ],
   "source": [
    "#form fiilling\n",
    "name = input(\"Please enter your name\")\n",
    "email = input(\"Please enter your email\")\n",
    "passworld=input(\"Please enter your passworld\")\n",
    "\n",
    "if name == \"\":\n",
    "    print(\"please enter a valid name,can not be empty\")\n",
    "else:\n",
    "    if \"@\" not in email:\n",
    "        print(\"Please enter a valid email\")\n",
    "    else:\n",
    "        if len(passworld) <= 0:\n",
    "            print(\"No password entered , pls provide a valid password\")\n",
    "        else:\n",
    "            print(\"Login/resigstration is sucessfull\")"
   ]
  },
  {
   "cell_type": "code",
   "execution_count": 26,
   "id": "07a4bab7-d981-4ed9-bdd0-4673f7e2b820",
   "metadata": {},
   "outputs": [
    {
     "data": {
      "text/plain": [
       "6"
      ]
     },
     "execution_count": 26,
     "metadata": {},
     "output_type": "execute_result"
    }
   ],
   "source": [
    "len(\"niha5r\") #len provide a how many numer in string"
   ]
  },
  {
   "cell_type": "markdown",
   "id": "aa7b92a1-bee6-4416-8dec-748ce3627fb4",
   "metadata": {},
   "source": [
    "loop statement \n",
    "\n",
    "it allows you to excute a block of code repeatedly\n",
    "\n",
    "loops are two type\n",
    "\n",
    "(1) while loop\n",
    "(2) for loop"
   ]
  },
  {
   "cell_type": "code",
   "execution_count": 30,
   "id": "f10be9c7-cb97-436d-8295-7d92bc9021bf",
   "metadata": {},
   "outputs": [],
   "source": [
    "#while loop>> repeatedly excuted a blockof code untill a condition is met"
   ]
  },
  {
   "cell_type": "code",
   "execution_count": 31,
   "id": "a88d8262-9b76-4703-a81d-a2092e85f095",
   "metadata": {},
   "outputs": [],
   "source": [
    "#syntax\n",
    "#while >> while is a key world used for a while loop "
   ]
  },
  {
   "cell_type": "code",
   "execution_count": 77,
   "id": "4ef3d9cf-6443-40d6-9e62-5ae013a34243",
   "metadata": {},
   "outputs": [
    {
     "name": "stdout",
     "output_type": "stream",
     "text": [
      "0\n",
      "1\n",
      "2\n",
      "3\n",
      "4\n",
      "The number is higher than y\n"
     ]
    }
   ],
   "source": [
    "y = 4\n",
    "k = 0\n",
    "while k <= y:\n",
    "    print(k)\n",
    "    k = k+1\n",
    "else:\n",
    "    print(\"The number is higher than y\")"
   ]
  },
  {
   "cell_type": "code",
   "execution_count": 68,
   "id": "1e5c288f-1a66-44e8-a5a3-5ba620245c1a",
   "metadata": {},
   "outputs": [
    {
     "name": "stdout",
     "output_type": "stream",
     "text": [
      "5\n",
      "4\n",
      "3\n",
      "2\n",
      "1\n"
     ]
    }
   ],
   "source": [
    "x = 5\n",
    "while x > 0:\n",
    "    print(x)\n",
    "    x = x - 1"
   ]
  },
  {
   "cell_type": "code",
   "execution_count": 76,
   "id": "a05e83c2-12b8-494b-b0a1-402bc1e2d587",
   "metadata": {},
   "outputs": [
    {
     "name": "stdout",
     "output_type": "stream",
     "text": [
      "0\n",
      "1\n",
      "2\n"
     ]
    }
   ],
   "source": [
    "y = 4        # use break statement to exit the while loop \n",
    "k = 0\n",
    "while k <= y:\n",
    "    print(k)\n",
    "    k = k+1\n",
    "    if k == 3:\n",
    "        break\n",
    "else:\n",
    "    print(\"The number is higher than y\")  # practice more all arithmatic operation like /,*,-,+,% etc"
   ]
  },
  {
   "cell_type": "code",
   "execution_count": null,
   "id": "7b2e20be-4d2d-4fdb-8bba-784f8d2a3560",
   "metadata": {},
   "outputs": [],
   "source": [
    "#continue statement<< skip the iteration"
   ]
  },
  {
   "cell_type": "code",
   "execution_count": 9,
   "id": "96c8f084-459c-4c98-8f57-41c817d9625f",
   "metadata": {},
   "outputs": [
    {
     "name": "stdout",
     "output_type": "stream",
     "text": [
      "5\n",
      "6\n",
      "7\n",
      "The number is higher than y\n"
     ]
    }
   ],
   "source": [
    "y = 7        # use continue statement to skip the number and continue process the while loop \n",
    "k = 1\n",
    "while k < y:\n",
    "    k = k+1\n",
    "    if k <= 4:\n",
    "        continue\n",
    "    print(k)\n",
    "else:\n",
    "    print(\"The number is higher than y\")  "
   ]
  },
  {
   "cell_type": "code",
   "execution_count": 11,
   "id": "b43d184c-bda6-437d-a404-fe7ca671b4dc",
   "metadata": {},
   "outputs": [
    {
     "name": "stdout",
     "output_type": "stream",
     "text": [
      "y\n",
      "a\n",
      "s\n",
      "h\n",
      " \n",
      "s\n",
      "o\n",
      "l\n",
      "a\n",
      "n\n",
      "k\n",
      "i\n"
     ]
    }
   ],
   "source": [
    "#for loops >> iterate over a sequence of element >> string, list\n",
    "for i in \"yash solanki\":\n",
    "    print(i)\n",
    "    "
   ]
  },
  {
   "cell_type": "code",
   "execution_count": 16,
   "id": "a135192f-c03a-407e-83d3-dd981b90d9bf",
   "metadata": {},
   "outputs": [
    {
     "name": "stdout",
     "output_type": "stream",
     "text": [
      "1\n",
      "2\n",
      "karan\n",
      "milan\n",
      "error\n"
     ]
    }
   ],
   "source": [
    "l = [1,2,\"karan\",\"milan\"] # for loops try to sequace the data in squincly and individual data\n",
    "for x in l:\n",
    "    print(x)\n",
    "else:\n",
    "    print(\"error\")"
   ]
  },
  {
   "cell_type": "code",
   "execution_count": 25,
   "id": "f86d7e4a-3125-4fe2-ad95-35deef8a6ce7",
   "metadata": {},
   "outputs": [
    {
     "name": "stdout",
     "output_type": "stream",
     "text": [
      "1\n",
      "2\n",
      "ajay\n"
     ]
    }
   ],
   "source": [
    "#break statement i for loop\n",
    "l = [1,2,\"ajay\",\"karan\",\"milan\"] \n",
    "for x in l:\n",
    "    if x == \"karan\":\n",
    "        break\n",
    "    print(x)\n",
    "    \n",
    "else:\n",
    "    print(\"error\")"
   ]
  },
  {
   "cell_type": "code",
   "execution_count": 23,
   "id": "0e5659d9-d809-48d6-ac2b-0e7d57e29616",
   "metadata": {},
   "outputs": [
    {
     "name": "stdout",
     "output_type": "stream",
     "text": [
      "1\n",
      "2\n",
      "karan\n",
      "error\n"
     ]
    }
   ],
   "source": [
    "l = [1,2,\"karan\",\"milan\"] \n",
    "for x in l:\n",
    "    if x == \"milan\":\n",
    "        continue\n",
    "    print(x)\n",
    "    \n",
    "else:\n",
    "    print(\"error\")"
   ]
  },
  {
   "cell_type": "code",
   "execution_count": 26,
   "id": "6ab070c4-ad09-48de-87d2-3cbf5a4158c2",
   "metadata": {},
   "outputs": [
    {
     "data": {
      "text/plain": [
       "[0, 1, 2, 3, 4, 5, 6, 7, 8, 9]"
      ]
     },
     "execution_count": 26,
     "metadata": {},
     "output_type": "execute_result"
    }
   ],
   "source": [
    "list(range(0,10))           #list is a function to give a value to 0 to 10"
   ]
  },
  {
   "cell_type": "code",
   "execution_count": 1,
   "id": "ad834188-6dee-47de-a7db-682303d45650",
   "metadata": {},
   "outputs": [
    {
     "name": "stdout",
     "output_type": "stream",
     "text": [
      "0\n",
      "1\n",
      "2\n",
      "3\n",
      "4\n",
      "5\n",
      "6\n",
      "7\n",
      "8\n",
      "9\n"
     ]
    }
   ],
   "source": [
    "for i in range(10):\n",
    "    print(i)"
   ]
  },
  {
   "cell_type": "code",
   "execution_count": 2,
   "id": "adcd9574-2d00-4f3e-b064-0e2c47f040e8",
   "metadata": {},
   "outputs": [
    {
     "name": "stdout",
     "output_type": "stream",
     "text": [
      "0 1 2 3 4 5 6 7 8 9 "
     ]
    }
   ],
   "source": [
    "for i in range(10):#use space betwwn string if not output was not give by space\n",
    "    print(i, end=\" \")"
   ]
  },
  {
   "cell_type": "code",
   "execution_count": 1,
   "id": "2a453569-ae48-4616-8472-cf25207c6383",
   "metadata": {},
   "outputs": [
    {
     "data": {
      "text/plain": [
       "[0, 1, 2, 3, 4, 5, 6, 7, 8, 9]"
      ]
     },
     "execution_count": 1,
     "metadata": {},
     "output_type": "execute_result"
    }
   ],
   "source": [
    "#syantax of range (start,stop,step)\n",
    "list(range(0,10))"
   ]
  },
  {
   "cell_type": "code",
   "execution_count": 5,
   "id": "e268f6f5-4d55-41ed-bb80-d8419ef0aad2",
   "metadata": {},
   "outputs": [
    {
     "data": {
      "text/plain": [
       "[0, 10, 20, 30, 40, 50, 60, 70, 80, 90]"
      ]
     },
     "execution_count": 5,
     "metadata": {},
     "output_type": "execute_result"
    }
   ],
   "source": [
    "list(range(0,100,10))\n"
   ]
  },
  {
   "cell_type": "code",
   "execution_count": 4,
   "id": "dda2c0d2-468c-4a72-8ae3-871def3345ea",
   "metadata": {},
   "outputs": [],
   "source": [
    "#problem statement\n",
    "#print a right triangle with star(*)"
   ]
  },
  {
   "cell_type": "code",
   "execution_count": 21,
   "id": "ff2eed6e-b8e6-4795-82dc-d11c9ddf50c2",
   "metadata": {},
   "outputs": [
    {
     "name": "stdout",
     "output_type": "stream",
     "text": [
      "* \n",
      "* * \n",
      "* * * \n",
      "* * * * \n"
     ]
    }
   ],
   "source": [
    "row = 1\n",
    "while row < 5:\n",
    "    col = 1\n",
    "    while col <= row:\n",
    "        print(\"*\", end = \" \")\n",
    "        col = col+1\n",
    "    print()\n",
    "    row =row+1\n",
    "            "
   ]
  },
  {
   "cell_type": "code",
   "execution_count": 28,
   "id": "3a860eb8-b390-457a-b314-0aefc004d87d",
   "metadata": {},
   "outputs": [
    {
     "name": "stdout",
     "output_type": "stream",
     "text": [
      "* * * * \n",
      "* * * \n",
      "* * \n",
      "* \n",
      "\n"
     ]
    }
   ],
   "source": [
    "for i in range(5):#0,1,2,3\n",
    "    for j in range(i+1,5):#0+1 that means 0 \n",
    "        print(\"*\",end = \" \")#print only 1 star\n",
    "    print()"
   ]
  },
  {
   "cell_type": "code",
   "execution_count": 25,
   "id": "9bbc0a55-7100-428d-b938-ceb46f8862a5",
   "metadata": {},
   "outputs": [
    {
     "name": "stdout",
     "output_type": "stream",
     "text": [
      "1 \n",
      "1 2 \n",
      "1 2 3 \n",
      "1 2 3 4 \n",
      "1 2 3 4 5 \n"
     ]
    }
   ],
   "source": [
    "#internal homework\n",
    "for i in range(5):\n",
    "    for j in range(i+1):\n",
    "        print(j+1,end = \" \")\n",
    "    print()\n",
    "    j = i+1"
   ]
  },
  {
   "cell_type": "code",
   "execution_count": 22,
   "id": "2c773da1-e396-4d7e-a024-df56af39e0e0",
   "metadata": {},
   "outputs": [
    {
     "name": "stdout",
     "output_type": "stream",
     "text": [
      "1\n",
      "2\n",
      "4\n",
      "5\n",
      "6\n",
      "8\n",
      "9\n"
     ]
    }
   ],
   "source": [
    "list1 = [1,2, 3, 4, 5, 6, 7, 8, 9]\n",
    "for i in list1:\n",
    "    if (i == 3) or (i == 7):\n",
    "        continue\n",
    "    print(i)"
   ]
  },
  {
   "cell_type": "code",
   "execution_count": 24,
   "id": "80d03301-6270-4019-9c49-93aa8bf11cff",
   "metadata": {},
   "outputs": [
    {
     "name": "stdout",
     "output_type": "stream",
     "text": [
      "0\n",
      "2\n",
      "4\n",
      "6\n",
      "8\n"
     ]
    }
   ],
   "source": [
    "#print the even numer\n",
    "for i in range(0,10):\n",
    "    if i%2 != 0:\n",
    "        continue\n",
    "    print(i)\n",
    "    "
   ]
  },
  {
   "cell_type": "code",
   "execution_count": 19,
   "id": "6ae21b91-fe93-410f-b30a-1b75490908f2",
   "metadata": {},
   "outputs": [],
   "source": [
    "#write a code year is leap year or not\n",
    "#Every year that is exactly divisible by four is a leap year, except for years that are exactly divisible by 100, \n",
    "#but these centurial years are leap years if they are exactly divisible by 400."
   ]
  },
  {
   "cell_type": "code",
   "execution_count": 26,
   "id": "5474e6cc-2f0d-4056-bccf-5db051465afd",
   "metadata": {},
   "outputs": [
    {
     "name": "stdin",
     "output_type": "stream",
     "text": [
      "enter year 2024\n"
     ]
    }
   ],
   "source": [
    "year = int(input(\"enter year\"))\n",
    "if year / 4 == 0:\n",
    "    print(\"itsa leap year\")\n",
    "elif (year / 100 == 0):\n",
    "    print(\"its not a leap year\")"
   ]
  },
  {
   "cell_type": "code",
   "execution_count": 25,
   "id": "f88b2d09-841a-4621-b745-612cd500c761",
   "metadata": {},
   "outputs": [
    {
     "name": "stdin",
     "output_type": "stream",
     "text": [
      "age 15\n",
      "any disese no\n",
      "enter a money 10\n",
      "married_status no\n",
      "job_status no\n",
      "do_you_have_a_child no\n"
     ]
    },
    {
     "name": "stdout",
     "output_type": "stream",
     "text": [
      "you are berojgar\n"
     ]
    }
   ],
   "source": [
    "#age classify\n",
    "#if age is beteween 50 to 70 and more than 100000000 money you are retired \n",
    "age = int(input(\"age\"))\n",
    "disease=input(\"any disese\")\n",
    "money=int(input(\"enter a money\"))\n",
    "married_status = input(\"married_status\")\n",
    "job_status = input(\"job_status\")\n",
    "do_you_have_a_child = input(\"do_you_have_a_child\")\n",
    "\n",
    "if age >=70 and  disease == \"no\": \n",
    "    print(\"you are good buddha\")\n",
    "elif (50 <= age <=70) and (money >= 1000):\n",
    "    print(\"you are retaired\")\n",
    "elif (50 <= age <=70) and (500 <= money <=1000):\n",
    "    print(\"you are working buddha\")\n",
    "elif (50 <= age <=70) and (500 < money):\n",
    "    print(\"You just started you career\")\n",
    "elif (20 <= age <= 50) and (married_status==\"yes\" and job_status==\"yes\" and do_you_have_a_child==\"yes\"):\n",
    "    print(\"you are young\")\n",
    "elif (age <=20) and (job_status==\"no\"):\n",
    "    print(\"you are berojgar\")\n",
    "    \n",
    "\n",
    "    "
   ]
  },
  {
   "cell_type": "code",
   "execution_count": null,
   "id": "e23a2a56-c9a4-4d62-bcdd-e5ea8fff85e7",
   "metadata": {},
   "outputs": [],
   "source": [
    "#"
   ]
  }
 ],
 "metadata": {
  "kernelspec": {
   "display_name": "Python 3 (ipykernel)",
   "language": "python",
   "name": "python3"
  },
  "language_info": {
   "codemirror_mode": {
    "name": "ipython",
    "version": 3
   },
   "file_extension": ".py",
   "mimetype": "text/x-python",
   "name": "python",
   "nbconvert_exporter": "python",
   "pygments_lexer": "ipython3",
   "version": "3.10.8"
  }
 },
 "nbformat": 4,
 "nbformat_minor": 5
}
