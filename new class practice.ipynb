{
 "cells": [
  {
   "cell_type": "code",
   "execution_count": 1,
   "id": "fcb5611e-76fc-478d-a469-b8badcc0c66d",
   "metadata": {},
   "outputs": [
    {
     "data": {
      "text/plain": [
       "'\\x01'"
      ]
     },
     "execution_count": 1,
     "metadata": {},
     "output_type": "execute_result"
    }
   ],
   "source": [
    "chr(1)"
   ]
  },
  {
   "cell_type": "code",
   "execution_count": 3,
   "id": "4909d978-eaff-4470-ac65-ea065fc0e5a5",
   "metadata": {},
   "outputs": [
    {
     "data": {
      "text/plain": [
       "97"
      ]
     },
     "execution_count": 3,
     "metadata": {},
     "output_type": "execute_result"
    }
   ],
   "source": [
    "ord(\"a\")"
   ]
  },
  {
   "cell_type": "code",
   "execution_count": 4,
   "id": "4d35c407-d767-4ade-b68e-10b04b8100bc",
   "metadata": {},
   "outputs": [
    {
     "data": {
      "text/plain": [
       "'llikswp'"
      ]
     },
     "execution_count": 4,
     "metadata": {},
     "output_type": "execute_result"
    }
   ],
   "source": [
    "a = \"pwskill\"\n",
    "a[::-1]"
   ]
  },
  {
   "cell_type": "code",
   "execution_count": 17,
   "id": "496a87fa-6a88-4e5f-9459-4424b77b197d",
   "metadata": {},
   "outputs": [
    {
     "data": {
      "text/plain": [
       "'student'"
      ]
     },
     "execution_count": 17,
     "metadata": {},
     "output_type": "execute_result"
    }
   ],
   "source": [
    "a.replace(\"pwskill\",\"student\")"
   ]
  },
  {
   "cell_type": "code",
   "execution_count": 18,
   "id": "1587f26a-6978-43ae-bcc5-22e64c2e4041",
   "metadata": {},
   "outputs": [
    {
     "data": {
      "text/plain": [
       "'pwskill'"
      ]
     },
     "execution_count": 18,
     "metadata": {},
     "output_type": "execute_result"
    }
   ],
   "source": [
    "a"
   ]
  },
  {
   "cell_type": "code",
   "execution_count": 19,
   "id": "cdb07b99-2688-4b1b-b2ec-c596057e0764",
   "metadata": {},
   "outputs": [],
   "source": [
    "l = [\"aabra\",\"aabraka daabra\",\"aaabrakadaabra\"]\n",
    "#give a list of string find the longest common prefix"
   ]
  },
  {
   "cell_type": "code",
   "execution_count": 20,
   "id": "227c8269-e8a1-441f-9ea4-d85819327b1c",
   "metadata": {},
   "outputs": [
    {
     "data": {
      "text/plain": [
       "'Come as soon as possible. beacuse you only leave once. before dyoe'"
      ]
     },
     "execution_count": 20,
     "metadata": {},
     "output_type": "execute_result"
    }
   ],
   "source": [
    "test = \"Come asap. beacuse yolo. before dyoe\"\n",
    "test.replace(\"asap\",\"as soon as possible\").replace(\"yolo\",\"you only leave once\")."
   ]
  },
  {
   "cell_type": "code",
   "execution_count": 22,
   "id": "fedce392-c2ea-4362-8801-26de6ea21882",
   "metadata": {},
   "outputs": [
    {
     "data": {
      "text/plain": [
       "'Come asap. beacuse yolo. before dyoe'"
      ]
     },
     "execution_count": 22,
     "metadata": {},
     "output_type": "execute_result"
    }
   ],
   "source": [
    "test.capitalize()"
   ]
  },
  {
   "cell_type": "code",
   "execution_count": 23,
   "id": "ae84c27d-9eb1-4568-a95e-2d4284d087c7",
   "metadata": {},
   "outputs": [
    {
     "data": {
      "text/plain": [
       "False"
      ]
     },
     "execution_count": 23,
     "metadata": {},
     "output_type": "execute_result"
    }
   ],
   "source": [
    "s = \"hello\"\n",
    "s1 = \"Hello\"\n",
    "s == s1"
   ]
  },
  {
   "cell_type": "code",
   "execution_count": 30,
   "id": "3b91689c-1404-4d26-97cb-d2e915b5a061",
   "metadata": {},
   "outputs": [
    {
     "data": {
      "text/plain": [
       "['ab tumare havale vatan sathiyo', 'zinda hu', 'zingalaa']"
      ]
     },
     "execution_count": 30,
     "metadata": {},
     "output_type": "execute_result"
    }
   ],
   "source": [
    "s = \"zinda hu\",\"ab tumare havale vatan sathiyo\",\"zingalaa\"\n",
    "sorted(s)"
   ]
  },
  {
   "cell_type": "code",
   "execution_count": 34,
   "id": "136f4db2-e911-4ab6-9947-32d584676b21",
   "metadata": {},
   "outputs": [
    {
     "data": {
      "text/plain": [
       "['majo', 'kakuda', 'stree']"
      ]
     },
     "execution_count": 34,
     "metadata": {},
     "output_type": "execute_result"
    }
   ],
   "source": [
    "s = \"majo,kakuda,stree\"\n",
    "s.split(\",\")\n"
   ]
  },
  {
   "cell_type": "code",
   "execution_count": 44,
   "id": "bd0abde3-04b4-48cb-81e2-7df4a83eb6af",
   "metadata": {},
   "outputs": [
    {
     "data": {
      "text/plain": [
       "'majo,kakuda,stree'"
      ]
     },
     "execution_count": 44,
     "metadata": {},
     "output_type": "execute_result"
    }
   ],
   "source": [
    "\"\".join(s).replace(\" \",\",\")"
   ]
  },
  {
   "cell_type": "code",
   "execution_count": 57,
   "id": "ad9c6dbe-95fb-4ef9-b4ac-9a4fe36acb58",
   "metadata": {},
   "outputs": [],
   "source": [
    "data = \"Ajay,   teacher, ds    \"  \n",
    "info=\"\".join(data)\n"
   ]
  },
  {
   "cell_type": "code",
   "execution_count": 52,
   "id": "7a40c366-7dc2-4c61-a9c0-ff5b4ed19f70",
   "metadata": {},
   "outputs": [
    {
     "data": {
      "text/plain": [
       "'teacher'"
      ]
     },
     "execution_count": 52,
     "metadata": {},
     "output_type": "execute_result"
    }
   ],
   "source": [
    "info[1].strip()"
   ]
  },
  {
   "cell_type": "code",
   "execution_count": 62,
   "id": "0fa40cf5-8d51-4eab-86fc-8938feb540b8",
   "metadata": {},
   "outputs": [],
   "source": [
    "Address=\"\"\" ABC colony\\n,pratap nagar hhunjhunpool\\n, navada\"\"\""
   ]
  },
  {
   "cell_type": "raw",
   "id": "dc3725c6-cc76-4365-b5fd-4c8ca7f09131",
   "metadata": {},
   "source": [
    "\\n for new line\n",
    "\\t for tab"
   ]
  },
  {
   "cell_type": "code",
   "execution_count": 70,
   "id": "5b326dcf-100d-4130-b4be-57a0eabcbdee",
   "metadata": {},
   "outputs": [
    {
     "name": "stdout",
     "output_type": "stream",
     "text": [
      "name\tcoursr\tfee\n",
      "Ajay\tDs\t2000\n"
     ]
    }
   ],
   "source": [
    "table = \"name\\tcoursr\\tfee\\nAjay\\tDs\\t2000\"\n",
    "print(table)"
   ]
  },
  {
   "cell_type": "code",
   "execution_count": null,
   "id": "fc39e821-1916-4298-83da-fbba3c0334ed",
   "metadata": {},
   "outputs": [],
   "source": []
  },
  {
   "cell_type": "code",
   "execution_count": 64,
   "id": "8c9c13d6-0af6-4559-96fe-d1c09da8e9a6",
   "metadata": {},
   "outputs": [
    {
     "name": "stdout",
     "output_type": "stream",
     "text": [
      " ABC colony\n",
      ",pratap nagar hhunjhunpool\n",
      ", navada\n"
     ]
    }
   ],
   "source": [
    "print(\"\"\" ABC colony\\n,pratap nagar hhunjhunpool\\n, navada\"\"\")"
   ]
  },
  {
   "cell_type": "code",
   "execution_count": 71,
   "id": "0d5b22c8-570d-411b-a3be-9dd60f8dbd9c",
   "metadata": {},
   "outputs": [],
   "source": [
    "#string formatting\n",
    "name = \"Ajay\""
   ]
  },
  {
   "cell_type": "code",
   "execution_count": 72,
   "id": "0dc2c15d-bbb6-489f-b8ad-3c8f96662517",
   "metadata": {},
   "outputs": [],
   "source": [
    "#f string >> formating string with variable placeholder "
   ]
  },
  {
   "cell_type": "code",
   "execution_count": 73,
   "id": "05d7b496-c563-4096-a3f6-0606f92862fd",
   "metadata": {},
   "outputs": [
    {
     "data": {
      "text/plain": [
       "'my coursename is data sciense and the duration is 4h.'"
      ]
     },
     "execution_count": 73,
     "metadata": {},
     "output_type": "execute_result"
    }
   ],
   "source": [
    "course = \"data sciense\"\n",
    "duration = \"4h\"\n",
    "\n",
    "f\"my coursename is {course} and the duration is {duration}.\""
   ]
  },
  {
   "cell_type": "code",
   "execution_count": 76,
   "id": "bfc024b2-0fc8-47be-abf3-d4f48ea6fa7c",
   "metadata": {},
   "outputs": [
    {
     "name": "stdout",
     "output_type": "stream",
     "text": [
      "ram is a good boy"
     ]
    }
   ],
   "source": [
    "s = \"ram is a good boy\"\n",
    "for i in s:\n",
    "    print(i, end = \"\")"
   ]
  },
  {
   "cell_type": "code",
   "execution_count": 78,
   "id": "1f03e753-1bb3-4174-91c3-dd867da10a8a",
   "metadata": {},
   "outputs": [
    {
     "name": "stdout",
     "output_type": "stream",
     "text": [
      "r a m   i s   a   g o o d   b o y "
     ]
    }
   ],
   "source": [
    "s = \"ram is a good boy\"\n",
    "for i in range(len(s)):\n",
    "    print(s[i], end = \" \")"
   ]
  },
  {
   "cell_type": "code",
   "execution_count": null,
   "id": "dc9671c9-95b6-4820-a92c-e2fad5378c67",
   "metadata": {},
   "outputs": [],
   "source": [
    "playlist = [\"hay vatan, tauba tauba , black pink]"
   ]
  },
  {
   "cell_type": "code",
   "execution_count": null,
   "id": "1cc8bd79-d633-4c57-bd5c-50266eae858c",
   "metadata": {},
   "outputs": [],
   "source": []
  }
 ],
 "metadata": {
  "kernelspec": {
   "display_name": "Python 3 (ipykernel)",
   "language": "python",
   "name": "python3"
  },
  "language_info": {
   "codemirror_mode": {
    "name": "ipython",
    "version": 3
   },
   "file_extension": ".py",
   "mimetype": "text/x-python",
   "name": "python",
   "nbconvert_exporter": "python",
   "pygments_lexer": "ipython3",
   "version": "3.10.8"
  }
 },
 "nbformat": 4,
 "nbformat_minor": 5
}
