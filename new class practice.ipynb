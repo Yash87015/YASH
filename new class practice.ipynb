{
 "cells": [
  {
   "cell_type": "code",
   "execution_count": 1,
   "id": "fcb5611e-76fc-478d-a469-b8badcc0c66d",
   "metadata": {},
   "outputs": [
    {
     "data": {
      "text/plain": [
       "'\\x01'"
      ]
     },
     "execution_count": 1,
     "metadata": {},
     "output_type": "execute_result"
    }
   ],
   "source": [
    "chr(1)"
   ]
  },
  {
   "cell_type": "code",
   "execution_count": 3,
   "id": "4909d978-eaff-4470-ac65-ea065fc0e5a5",
   "metadata": {},
   "outputs": [
    {
     "data": {
      "text/plain": [
       "97"
      ]
     },
     "execution_count": 3,
     "metadata": {},
     "output_type": "execute_result"
    }
   ],
   "source": [
    "ord(\"a\")"
   ]
  },
  {
   "cell_type": "code",
   "execution_count": 4,
   "id": "4d35c407-d767-4ade-b68e-10b04b8100bc",
   "metadata": {},
   "outputs": [
    {
     "data": {
      "text/plain": [
       "'llikswp'"
      ]
     },
     "execution_count": 4,
     "metadata": {},
     "output_type": "execute_result"
    }
   ],
   "source": [
    "a = \"pwskill\"\n",
    "a[::-1]"
   ]
  },
  {
   "cell_type": "code",
   "execution_count": 17,
   "id": "496a87fa-6a88-4e5f-9459-4424b77b197d",
   "metadata": {},
   "outputs": [
    {
     "data": {
      "text/plain": [
       "'student'"
      ]
     },
     "execution_count": 17,
     "metadata": {},
     "output_type": "execute_result"
    }
   ],
   "source": [
    "a.replace(\"pwskill\",\"student\")"
   ]
  },
  {
   "cell_type": "code",
   "execution_count": 18,
   "id": "1587f26a-6978-43ae-bcc5-22e64c2e4041",
   "metadata": {},
   "outputs": [
    {
     "data": {
      "text/plain": [
       "'pwskill'"
      ]
     },
     "execution_count": 18,
     "metadata": {},
     "output_type": "execute_result"
    }
   ],
   "source": [
    "a"
   ]
  },
  {
   "cell_type": "code",
   "execution_count": 19,
   "id": "cdb07b99-2688-4b1b-b2ec-c596057e0764",
   "metadata": {},
   "outputs": [],
   "source": [
    "l = [\"aabra\",\"aabraka daabra\",\"aaabrakadaabra\"]\n",
    "#give a list of string find the longest common prefix"
   ]
  },
  {
   "cell_type": "code",
   "execution_count": 20,
   "id": "227c8269-e8a1-441f-9ea4-d85819327b1c",
   "metadata": {},
   "outputs": [
    {
     "data": {
      "text/plain": [
       "'Come as soon as possible. beacuse you only leave once. before dyoe'"
      ]
     },
     "execution_count": 20,
     "metadata": {},
     "output_type": "execute_result"
    }
   ],
   "source": [
    "test = \"Come asap. beacuse yolo. before dyoe\"\n",
    "test.replace(\"asap\",\"as soon as possible\").replace(\"yolo\",\"you only leave once\")."
   ]
  },
  {
   "cell_type": "code",
   "execution_count": 22,
   "id": "fedce392-c2ea-4362-8801-26de6ea21882",
   "metadata": {},
   "outputs": [
    {
     "data": {
      "text/plain": [
       "'Come asap. beacuse yolo. before dyoe'"
      ]
     },
     "execution_count": 22,
     "metadata": {},
     "output_type": "execute_result"
    }
   ],
   "source": [
    "test.capitalize()"
   ]
  },
  {
   "cell_type": "code",
   "execution_count": 23,
   "id": "ae84c27d-9eb1-4568-a95e-2d4284d087c7",
   "metadata": {},
   "outputs": [
    {
     "data": {
      "text/plain": [
       "False"
      ]
     },
     "execution_count": 23,
     "metadata": {},
     "output_type": "execute_result"
    }
   ],
   "source": [
    "s = \"hello\"\n",
    "s1 = \"Hello\"\n",
    "s == s1"
   ]
  },
  {
   "cell_type": "code",
   "execution_count": 30,
   "id": "3b91689c-1404-4d26-97cb-d2e915b5a061",
   "metadata": {},
   "outputs": [
    {
     "data": {
      "text/plain": [
       "['ab tumare havale vatan sathiyo', 'zinda hu', 'zingalaa']"
      ]
     },
     "execution_count": 30,
     "metadata": {},
     "output_type": "execute_result"
    }
   ],
   "source": [
    "s = \"zinda hu\",\"ab tumare havale vatan sathiyo\",\"zingalaa\"\n",
    "sorted(s)"
   ]
  },
  {
   "cell_type": "code",
   "execution_count": 34,
   "id": "136f4db2-e911-4ab6-9947-32d584676b21",
   "metadata": {},
   "outputs": [
    {
     "data": {
      "text/plain": [
       "['majo', 'kakuda', 'stree']"
      ]
     },
     "execution_count": 34,
     "metadata": {},
     "output_type": "execute_result"
    }
   ],
   "source": [
    "s = \"majo,kakuda,stree\"\n",
    "s.split(\",\")\n"
   ]
  },
  {
   "cell_type": "code",
   "execution_count": 44,
   "id": "bd0abde3-04b4-48cb-81e2-7df4a83eb6af",
   "metadata": {},
   "outputs": [
    {
     "data": {
      "text/plain": [
       "'majo,kakuda,stree'"
      ]
     },
     "execution_count": 44,
     "metadata": {},
     "output_type": "execute_result"
    }
   ],
   "source": [
    "\"\".join(s).replace(\" \",\",\")"
   ]
  },
  {
   "cell_type": "code",
   "execution_count": 57,
   "id": "ad9c6dbe-95fb-4ef9-b4ac-9a4fe36acb58",
   "metadata": {},
   "outputs": [],
   "source": [
    "data = \"Ajay,   teacher, ds    \"  \n",
    "info=\"\".join(data)\n"
   ]
  },
  {
   "cell_type": "code",
   "execution_count": 52,
   "id": "7a40c366-7dc2-4c61-a9c0-ff5b4ed19f70",
   "metadata": {},
   "outputs": [
    {
     "data": {
      "text/plain": [
       "'teacher'"
      ]
     },
     "execution_count": 52,
     "metadata": {},
     "output_type": "execute_result"
    }
   ],
   "source": [
    "info[1].strip()"
   ]
  },
  {
   "cell_type": "code",
   "execution_count": 62,
   "id": "0fa40cf5-8d51-4eab-86fc-8938feb540b8",
   "metadata": {},
   "outputs": [],
   "source": [
    "Address=\"\"\" ABC colony\\n,pratap nagar hhunjhunpool\\n, navada\"\"\""
   ]
  },
  {
   "cell_type": "raw",
   "id": "dc3725c6-cc76-4365-b5fd-4c8ca7f09131",
   "metadata": {},
   "source": [
    "\\n for new line\n",
    "\\t for tab"
   ]
  },
  {
   "cell_type": "code",
   "execution_count": 70,
   "id": "5b326dcf-100d-4130-b4be-57a0eabcbdee",
   "metadata": {},
   "outputs": [
    {
     "name": "stdout",
     "output_type": "stream",
     "text": [
      "name\tcoursr\tfee\n",
      "Ajay\tDs\t2000\n"
     ]
    }
   ],
   "source": [
    "table = \"name\\tcoursr\\tfee\\nAjay\\tDs\\t2000\"\n",
    "print(table)"
   ]
  },
  {
   "cell_type": "code",
   "execution_count": null,
   "id": "fc39e821-1916-4298-83da-fbba3c0334ed",
   "metadata": {},
   "outputs": [],
   "source": []
  },
  {
   "cell_type": "code",
   "execution_count": 64,
   "id": "8c9c13d6-0af6-4559-96fe-d1c09da8e9a6",
   "metadata": {},
   "outputs": [
    {
     "name": "stdout",
     "output_type": "stream",
     "text": [
      " ABC colony\n",
      ",pratap nagar hhunjhunpool\n",
      ", navada\n"
     ]
    }
   ],
   "source": [
    "print(\"\"\" ABC colony\\n,pratap nagar hhunjhunpool\\n, navada\"\"\")"
   ]
  },
  {
   "cell_type": "code",
   "execution_count": 71,
   "id": "0d5b22c8-570d-411b-a3be-9dd60f8dbd9c",
   "metadata": {},
   "outputs": [],
   "source": [
    "#string formatting\n",
    "name = \"Ajay\""
   ]
  },
  {
   "cell_type": "code",
   "execution_count": 72,
   "id": "0dc2c15d-bbb6-489f-b8ad-3c8f96662517",
   "metadata": {},
   "outputs": [],
   "source": [
    "#f string >> formating string with variable placeholder "
   ]
  },
  {
   "cell_type": "code",
   "execution_count": 73,
   "id": "05d7b496-c563-4096-a3f6-0606f92862fd",
   "metadata": {},
   "outputs": [
    {
     "data": {
      "text/plain": [
       "'my coursename is data sciense and the duration is 4h.'"
      ]
     },
     "execution_count": 73,
     "metadata": {},
     "output_type": "execute_result"
    }
   ],
   "source": [
    "course = \"data sciense\"\n",
    "duration = \"4h\"\n",
    "\n",
    "f\"my coursename is {course} and the duration is {duration}.\""
   ]
  },
  {
   "cell_type": "code",
   "execution_count": 9,
   "id": "bfc024b2-0fc8-47be-abf3-d4f48ea6fa7c",
   "metadata": {},
   "outputs": [
    {
     "name": "stdout",
     "output_type": "stream",
     "text": [
      "ram is a good boy"
     ]
    }
   ],
   "source": [
    "s = \"ram is a good boy\"\n",
    "for i in s:\n",
    "    print(i, end = \"\")"
   ]
  },
  {
   "cell_type": "code",
   "execution_count": 15,
   "id": "1f03e753-1bb3-4174-91c3-dd867da10a8a",
   "metadata": {},
   "outputs": [
    {
     "name": "stdout",
     "output_type": "stream",
     "text": [
      "{'ram is a good boy'} "
     ]
    }
   ],
   "source": [
    "s = {\"ram is a good boy\"}\n",
    "for i in range(len(s)):\n",
    "    print(s, end = \" \")"
   ]
  },
  {
   "cell_type": "code",
   "execution_count": null,
   "id": "dc9671c9-95b6-4820-a92c-e2fad5378c67",
   "metadata": {},
   "outputs": [],
   "source": [
    "playlist = [\"hay vatan, tauba tauba , black pink]"
   ]
  },
  {
   "cell_type": "code",
   "execution_count": 1,
   "id": "1cc8bd79-d633-4c57-bd5c-50266eae858c",
   "metadata": {},
   "outputs": [
    {
     "data": {
      "text/plain": [
       "['apple', 'banana']"
      ]
     },
     "execution_count": 1,
     "metadata": {},
     "output_type": "execute_result"
    }
   ],
   "source": [
    "que=[\"apple\",\"banana\"] #list does not support .add always use .append\n",
    "que"
   ]
  },
  {
   "cell_type": "code",
   "execution_count": 6,
   "id": "4c27e82a-424f-4177-a18a-eb6a3fd0828f",
   "metadata": {},
   "outputs": [],
   "source": [
    "que.append(\"orange\")"
   ]
  },
  {
   "cell_type": "code",
   "execution_count": 7,
   "id": "e97c833c-94ff-4583-841a-95489d861cb8",
   "metadata": {},
   "outputs": [
    {
     "data": {
      "text/plain": [
       "['apple', 'banana', 'orange']"
      ]
     },
     "execution_count": 7,
     "metadata": {},
     "output_type": "execute_result"
    }
   ],
   "source": [
    "que"
   ]
  },
  {
   "cell_type": "code",
   "execution_count": 17,
   "id": "349eca2e-9a46-4ee8-b3de-2d80d3c6e2af",
   "metadata": {},
   "outputs": [],
   "source": [
    "s.add(\"argue\")"
   ]
  },
  {
   "cell_type": "code",
   "execution_count": 18,
   "id": "8e7b3346-a7eb-4527-a7b3-05add66e4a24",
   "metadata": {},
   "outputs": [
    {
     "data": {
      "text/plain": [
       "{'argue', 'ram is a good boy'}"
      ]
     },
     "execution_count": 18,
     "metadata": {},
     "output_type": "execute_result"
    }
   ],
   "source": [
    "s"
   ]
  },
  {
   "cell_type": "code",
   "execution_count": 26,
   "id": "e6c75763-d56c-4ece-b658-9e8e5c054b1d",
   "metadata": {},
   "outputs": [
    {
     "data": {
      "text/plain": [
       "['sara jha seacha  ', 'blackpink']"
      ]
     },
     "execution_count": 26,
     "metadata": {},
     "output_type": "execute_result"
    }
   ],
   "source": [
    "playlish=[]\n",
    "playlish.append(\"sara jha seacha  \") # append object only one object can be add not two\n",
    "playlish.append(\"blackpink\")\n",
    "playlish\n"
   ]
  },
  {
   "cell_type": "code",
   "execution_count": 33,
   "id": "a2f6bab1-2600-4d5e-b0e5-639b3d62d1ed",
   "metadata": {},
   "outputs": [],
   "source": [
    "playlish.insert(0,\"tara rum pum\")"
   ]
  },
  {
   "cell_type": "code",
   "execution_count": 34,
   "id": "927514d5-704c-4076-9815-4e303eff0f1d",
   "metadata": {},
   "outputs": [
    {
     "data": {
      "text/plain": [
       "['tara rum pum', 'sara jha seacha  ', 'tara rum pum', 'blackpink']"
      ]
     },
     "execution_count": 34,
     "metadata": {},
     "output_type": "execute_result"
    }
   ],
   "source": [
    "playlish"
   ]
  },
  {
   "cell_type": "code",
   "execution_count": 35,
   "id": "db0ee805-0faf-4db1-b7c1-78d491776547",
   "metadata": {},
   "outputs": [
    {
     "ename": "AttributeError",
     "evalue": "'list' object has no attribute 'sorted'",
     "output_type": "error",
     "traceback": [
      "\u001b[0;31m---------------------------------------------------------------------------\u001b[0m",
      "\u001b[0;31mAttributeError\u001b[0m                            Traceback (most recent call last)",
      "Cell \u001b[0;32mIn[35], line 1\u001b[0m\n\u001b[0;32m----> 1\u001b[0m \u001b[43mplaylish\u001b[49m\u001b[38;5;241;43m.\u001b[39;49m\u001b[43msorted\u001b[49m()\n",
      "\u001b[0;31mAttributeError\u001b[0m: 'list' object has no attribute 'sorted'"
     ]
    }
   ],
   "source": []
  },
  {
   "cell_type": "code",
   "execution_count": 36,
   "id": "2cf522ea-c969-44e5-9faa-4813da09b990",
   "metadata": {},
   "outputs": [
    {
     "data": {
      "text/plain": [
       "'ajay'"
      ]
     },
     "execution_count": 36,
     "metadata": {},
     "output_type": "execute_result"
    }
   ],
   "source": [
    "queue = [\"digvijay\",\"milan\",\"karan\",\"ajay\"]\n",
    "queue[-1]"
   ]
  },
  {
   "cell_type": "code",
   "execution_count": 37,
   "id": "65d6a793-61dd-45ad-8d82-d3fccd75ba3c",
   "metadata": {},
   "outputs": [],
   "source": [
    "queue.append(\"manjulika\")"
   ]
  },
  {
   "cell_type": "code",
   "execution_count": 38,
   "id": "ca3b962f-4db7-4033-adb1-8718fcfaaa17",
   "metadata": {},
   "outputs": [
    {
     "data": {
      "text/plain": [
       "['digvijay', 'milan', 'karan', 'ajay', 'manjulika']"
      ]
     },
     "execution_count": 38,
     "metadata": {},
     "output_type": "execute_result"
    }
   ],
   "source": [
    "queue"
   ]
  },
  {
   "cell_type": "code",
   "execution_count": 39,
   "id": "027791f9-ad5d-4b53-97f0-540be5f1bc5a",
   "metadata": {},
   "outputs": [],
   "source": [
    "queue[0]=\"kamolika\""
   ]
  },
  {
   "cell_type": "code",
   "execution_count": 40,
   "id": "6b5d2c5f-7487-4caa-9a55-b80fa64f8feb",
   "metadata": {},
   "outputs": [
    {
     "data": {
      "text/plain": [
       "['kamolika', 'milan', 'karan', 'ajay', 'manjulika']"
      ]
     },
     "execution_count": 40,
     "metadata": {},
     "output_type": "execute_result"
    }
   ],
   "source": [
    "queue\n"
   ]
  },
  {
   "cell_type": "code",
   "execution_count": 43,
   "id": "3123e524-3c66-497e-9321-cdde1acbf8d4",
   "metadata": {},
   "outputs": [],
   "source": [
    "queue.insert(1,\"yash\")"
   ]
  },
  {
   "cell_type": "code",
   "execution_count": 44,
   "id": "7fa5d529-2e28-40ef-b192-43a00b54194a",
   "metadata": {},
   "outputs": [
    {
     "data": {
      "text/plain": [
       "['yash', 'yash', 'kamolika', 'milan', 'karan', 'ajay', 'manjulika']"
      ]
     },
     "execution_count": 44,
     "metadata": {},
     "output_type": "execute_result"
    }
   ],
   "source": [
    "queue"
   ]
  },
  {
   "cell_type": "code",
   "execution_count": 47,
   "id": "d22d566e-552b-4859-8119-c1a70608d9d3",
   "metadata": {},
   "outputs": [
    {
     "name": "stdout",
     "output_type": "stream",
     "text": [
      "['manjulika', 'milan', 'ajay', 'karan', 'kamolika', 'yash']\n"
     ]
    }
   ],
   "source": [
    "print(list(set(queue)))   "
   ]
  },
  {
   "cell_type": "code",
   "execution_count": 48,
   "id": "83780878-8160-4cce-814f-7a2757cf2e95",
   "metadata": {},
   "outputs": [
    {
     "name": "stdout",
     "output_type": "stream",
     "text": [
      "['yash', 'yash', 'kamolika', 'milan', 'karan', 'ajay', 'manjulika']\n"
     ]
    }
   ],
   "source": [
    "print(queue)"
   ]
  },
  {
   "cell_type": "code",
   "execution_count": 49,
   "id": "a2de31ac-4c6e-416a-b8cb-690a2394bb6a",
   "metadata": {},
   "outputs": [
    {
     "name": "stdout",
     "output_type": "stream",
     "text": [
      "['manjulika', 'milan', 'ajay', 'karan', 'kamolika', 'yash']\n"
     ]
    }
   ],
   "source": [
    "print(list(set(queue)))  #to remove duplication in the list"
   ]
  },
  {
   "cell_type": "code",
   "execution_count": 50,
   "id": "e85c1d46-503f-4187-a929-4901231def7f",
   "metadata": {},
   "outputs": [],
   "source": [
    "#extend:-use to append element from another list \n",
    "list1=[\"apple\",\"banana\",\"orange\"]\n",
    "list2=[\"bringal\",\"potato\",\"tomamto\"]\n",
    "list1.extend(list2)"
   ]
  },
  {
   "cell_type": "code",
   "execution_count": 51,
   "id": "95676d6b-8f39-427f-8d03-4734c257414b",
   "metadata": {},
   "outputs": [
    {
     "data": {
      "text/plain": [
       "['apple', 'banana', 'orange', 'bringal', 'potato', 'tomamto']"
      ]
     },
     "execution_count": 51,
     "metadata": {},
     "output_type": "execute_result"
    }
   ],
   "source": [
    "list1"
   ]
  },
  {
   "cell_type": "code",
   "execution_count": 54,
   "id": "d55438be-a314-4c80-82f4-16521a4d2837",
   "metadata": {},
   "outputs": [],
   "source": [
    "#concatenate\n",
    "list1=[\"apple\",\"banana\",\"orange\"]\n",
    "list2=[\"bringal\",\"potato\",\"tomamto\"]"
   ]
  },
  {
   "cell_type": "code",
   "execution_count": 55,
   "id": "520af3bd-ffcc-4b18-9a04-a9f2df2946e6",
   "metadata": {},
   "outputs": [
    {
     "data": {
      "text/plain": [
       "['apple', 'banana', 'orange', 'bringal', 'potato', 'tomamto']"
      ]
     },
     "execution_count": 55,
     "metadata": {},
     "output_type": "execute_result"
    }
   ],
   "source": [
    "list1+list2"
   ]
  },
  {
   "cell_type": "code",
   "execution_count": 56,
   "id": "78c0b243-7f56-444d-9510-db632bd0deea",
   "metadata": {},
   "outputs": [],
   "source": [
    "#but it will create a new list not extend"
   ]
  },
  {
   "cell_type": "code",
   "execution_count": 58,
   "id": "86f1f42c-983a-4e4c-8a8e-4d4b774e0d55",
   "metadata": {},
   "outputs": [
    {
     "data": {
      "text/plain": [
       "'*****'"
      ]
     },
     "execution_count": 58,
     "metadata": {},
     "output_type": "execute_result"
    }
   ],
   "source": [
    "\"*\" * 5#repeatation operation"
   ]
  },
  {
   "cell_type": "code",
   "execution_count": 60,
   "id": "68558ffb-2915-4530-b401-1aedf36cfea5",
   "metadata": {},
   "outputs": [
    {
     "data": {
      "text/plain": [
       "[['apple', 'banana', 'orange'],\n",
       " ['apple', 'banana', 'orange'],\n",
       " ['apple', 'banana', 'orange'],\n",
       " ['apple', 'banana', 'orange'],\n",
       " ['apple', 'banana', 'orange']]"
      ]
     },
     "execution_count": 60,
     "metadata": {},
     "output_type": "execute_result"
    }
   ],
   "source": [
    "[list1]*5 # you can do repitation on list"
   ]
  },
  {
   "cell_type": "code",
   "execution_count": 61,
   "id": "9d394dd2-1b29-4dbc-b023-95882ef6385f",
   "metadata": {},
   "outputs": [
    {
     "data": {
      "text/plain": [
       "[1, 2, 3, 1, 2, 3, 1, 2, 3]"
      ]
     },
     "execution_count": 61,
     "metadata": {},
     "output_type": "execute_result"
    }
   ],
   "source": [
    "[1,2,3,]*3"
   ]
  },
  {
   "cell_type": "code",
   "execution_count": 63,
   "id": "1597a324-6df6-4b15-b8df-4149cd99e151",
   "metadata": {},
   "outputs": [
    {
     "data": {
      "text/plain": [
       "[0, 1, 2, 3, 4, 5, 6, 7, 8, 9]"
      ]
     },
     "execution_count": 63,
     "metadata": {},
     "output_type": "execute_result"
    }
   ],
   "source": [
    "list(range(0,10))"
   ]
  },
  {
   "cell_type": "code",
   "execution_count": 64,
   "id": "ff3299d6-10f9-4bb1-902c-a380adf96a1c",
   "metadata": {},
   "outputs": [
    {
     "data": {
      "text/plain": [
       "[0, 1, 2, 3, 4, 5, 6, 7, 8, 9, 0, 1, 2, 3, 4, 5, 6, 7, 8, 9]"
      ]
     },
     "execution_count": 64,
     "metadata": {},
     "output_type": "execute_result"
    }
   ],
   "source": [
    "list(range(0,10))*2"
   ]
  },
  {
   "cell_type": "code",
   "execution_count": 66,
   "id": "60cfb2c5-4c98-4ad6-8458-b44f059d32c2",
   "metadata": {},
   "outputs": [
    {
     "name": "stdout",
     "output_type": "stream",
     "text": [
      "you are appointed tomooro\n",
      "you are appointed tomooro\n",
      "you are appointed tomooro\n",
      "\n"
     ]
    }
   ],
   "source": [
    "msg=\"you are appointed tomooro\\n\"\n",
    "print(msg*3)"
   ]
  },
  {
   "cell_type": "code",
   "execution_count": 1,
   "id": "632ae71a-ffb8-4b77-8509-bfec4e36678b",
   "metadata": {},
   "outputs": [],
   "source": [
    "#deep copy and shallow copy\n",
    "#shallow copy:-change will be reflect\n",
    "lis1=['a','b','c']\n",
    "lis2=[1,2,3]"
   ]
  },
  {
   "cell_type": "code",
   "execution_count": 3,
   "id": "6c413c0d-4d23-4a7d-b19c-6b9c0195c9ed",
   "metadata": {},
   "outputs": [],
   "source": [
    "a = lis1"
   ]
  },
  {
   "cell_type": "code",
   "execution_count": 4,
   "id": "5e1cd634-23f5-44e2-9478-cfc4614e6c6c",
   "metadata": {},
   "outputs": [
    {
     "data": {
      "text/plain": [
       "['a', 'b', 'c']"
      ]
     },
     "execution_count": 4,
     "metadata": {},
     "output_type": "execute_result"
    }
   ],
   "source": [
    "a"
   ]
  },
  {
   "cell_type": "code",
   "execution_count": 5,
   "id": "9adddbff-6676-4089-bfa8-20b4939ae478",
   "metadata": {},
   "outputs": [],
   "source": [
    "a[0]=\"manjulika\""
   ]
  },
  {
   "cell_type": "code",
   "execution_count": 6,
   "id": "ead8e1ef-ef01-4e78-ab42-17989284da73",
   "metadata": {},
   "outputs": [
    {
     "data": {
      "text/plain": [
       "['manjulika', 'b', 'c']"
      ]
     },
     "execution_count": 6,
     "metadata": {},
     "output_type": "execute_result"
    }
   ],
   "source": [
    "a"
   ]
  },
  {
   "cell_type": "code",
   "execution_count": 7,
   "id": "e32b88d1-39e9-4d9f-9b91-012c4343e166",
   "metadata": {},
   "outputs": [
    {
     "data": {
      "text/plain": [
       "['manjulika', 'b', 'c']"
      ]
     },
     "execution_count": 7,
     "metadata": {},
     "output_type": "execute_result"
    }
   ],
   "source": [
    "lis1"
   ]
  },
  {
   "cell_type": "code",
   "execution_count": 8,
   "id": "0324926f-dbb9-49fb-8e57-1c203b198c58",
   "metadata": {},
   "outputs": [],
   "source": [
    "#deep copy  :-change will be not reflect in other variable                 \n",
    "lis1=['a','b','c']\n",
    "lis2=[1,2,3]\n"
   ]
  },
  {
   "cell_type": "code",
   "execution_count": 9,
   "id": "1fc8416f-cad5-46cf-be8b-800c51400f11",
   "metadata": {},
   "outputs": [],
   "source": [
    "b=lis2.copy()"
   ]
  },
  {
   "cell_type": "code",
   "execution_count": 10,
   "id": "70b54f43-3f29-4bde-adca-ccb508c1c34b",
   "metadata": {},
   "outputs": [
    {
     "data": {
      "text/plain": [
       "[1, 2, 3]"
      ]
     },
     "execution_count": 10,
     "metadata": {},
     "output_type": "execute_result"
    }
   ],
   "source": [
    "b"
   ]
  },
  {
   "cell_type": "code",
   "execution_count": 11,
   "id": "4d55cea3-2934-43fe-b46c-1e6bc8f38cf3",
   "metadata": {},
   "outputs": [
    {
     "data": {
      "text/plain": [
       "[1, 2, 3]"
      ]
     },
     "execution_count": 11,
     "metadata": {},
     "output_type": "execute_result"
    }
   ],
   "source": [
    "lis2"
   ]
  },
  {
   "cell_type": "code",
   "execution_count": 12,
   "id": "472a0101-422b-4555-9b87-aa2a7776da1e",
   "metadata": {},
   "outputs": [],
   "source": [
    "b[0]=(4)"
   ]
  },
  {
   "cell_type": "code",
   "execution_count": 13,
   "id": "654293f8-ce06-4534-a925-6280d3075770",
   "metadata": {},
   "outputs": [
    {
     "data": {
      "text/plain": [
       "[4, 2, 3]"
      ]
     },
     "execution_count": 13,
     "metadata": {},
     "output_type": "execute_result"
    }
   ],
   "source": [
    "b"
   ]
  },
  {
   "cell_type": "code",
   "execution_count": 14,
   "id": "991d3d87-070f-4ea5-a021-ee2883e45329",
   "metadata": {},
   "outputs": [
    {
     "data": {
      "text/plain": [
       "[1, 2, 3]"
      ]
     },
     "execution_count": 14,
     "metadata": {},
     "output_type": "execute_result"
    }
   ],
   "source": [
    "lis2"
   ]
  },
  {
   "cell_type": "code",
   "execution_count": 15,
   "id": "57df2055-0b70-4603-9021-c48f67ad95a0",
   "metadata": {},
   "outputs": [
    {
     "data": {
      "text/plain": [
       "[2, 3, 4]"
      ]
     },
     "execution_count": 15,
     "metadata": {},
     "output_type": "execute_result"
    }
   ],
   "source": [
    "#sorting list\n",
    "sorted(b)"
   ]
  },
  {
   "cell_type": "code",
   "execution_count": 16,
   "id": "9340208f-bd76-4b34-b9de-e5b68a194727",
   "metadata": {},
   "outputs": [
    {
     "data": {
      "text/plain": [
       "1"
      ]
     },
     "execution_count": 16,
     "metadata": {},
     "output_type": "execute_result"
    }
   ],
   "source": [
    "lis2.index(2)"
   ]
  },
  {
   "cell_type": "code",
   "execution_count": 22,
   "id": "73efcb21-ad6f-42ef-8961-c0c69c90a0a1",
   "metadata": {},
   "outputs": [
    {
     "data": {
      "text/plain": [
       "1"
      ]
     },
     "execution_count": 22,
     "metadata": {},
     "output_type": "execute_result"
    }
   ],
   "source": [
    "lis1.index(\"b\")"
   ]
  },
  {
   "cell_type": "code",
   "execution_count": 24,
   "id": "a524fe8e-1f5f-4efb-85c0-9c15bf8faa08",
   "metadata": {},
   "outputs": [
    {
     "data": {
      "text/plain": [
       "3"
      ]
     },
     "execution_count": 24,
     "metadata": {},
     "output_type": "execute_result"
    }
   ],
   "source": [
    "len(lis2)#no of elemnt in the list\n"
   ]
  },
  {
   "cell_type": "code",
   "execution_count": 25,
   "id": "6f3019f7-c5e8-4720-b3d5-5ce462060456",
   "metadata": {},
   "outputs": [
    {
     "data": {
      "text/plain": [
       "1"
      ]
     },
     "execution_count": 25,
     "metadata": {},
     "output_type": "execute_result"
    }
   ],
   "source": [
    "#count:-count give the count of specific element in a list \n",
    "b.count(2)\n"
   ]
  },
  {
   "cell_type": "code",
   "execution_count": 26,
   "id": "32ef8542-9e41-4018-ba18-8ebd10c6a4cd",
   "metadata": {},
   "outputs": [],
   "source": [
    "lis1.remove(\"b\")"
   ]
  },
  {
   "cell_type": "code",
   "execution_count": 27,
   "id": "8c24147e-56ce-49bd-ba82-6d75d32a1e4b",
   "metadata": {},
   "outputs": [
    {
     "data": {
      "text/plain": [
       "['a', 'c']"
      ]
     },
     "execution_count": 27,
     "metadata": {},
     "output_type": "execute_result"
    }
   ],
   "source": [
    "lis1"
   ]
  },
  {
   "cell_type": "code",
   "execution_count": 28,
   "id": "1d614a0b-382d-4286-a2dc-d1875a1d6803",
   "metadata": {},
   "outputs": [],
   "source": [
    "lis1.append(5)"
   ]
  },
  {
   "cell_type": "code",
   "execution_count": 29,
   "id": "a6163286-5845-43c9-80a0-7ef6d74d7894",
   "metadata": {},
   "outputs": [
    {
     "data": {
      "text/plain": [
       "['a', 'c', 5]"
      ]
     },
     "execution_count": 29,
     "metadata": {},
     "output_type": "execute_result"
    }
   ],
   "source": [
    "lis1"
   ]
  },
  {
   "cell_type": "code",
   "execution_count": 35,
   "id": "176a70e7-32dc-4f68-a706-b515433649e5",
   "metadata": {},
   "outputs": [],
   "source": [
    "lis2.sort()"
   ]
  },
  {
   "cell_type": "code",
   "execution_count": 36,
   "id": "e81efabf-8b61-46b2-b9c2-801907820b59",
   "metadata": {},
   "outputs": [
    {
     "data": {
      "text/plain": [
       "[1, 2, 3]"
      ]
     },
     "execution_count": 36,
     "metadata": {},
     "output_type": "execute_result"
    }
   ],
   "source": [
    "lis2"
   ]
  },
  {
   "cell_type": "code",
   "execution_count": 37,
   "id": "5690bc91-5720-44f4-9ede-242974750480",
   "metadata": {},
   "outputs": [],
   "source": [
    "lis2.append(6)"
   ]
  },
  {
   "cell_type": "code",
   "execution_count": 38,
   "id": "c3e78234-805e-4df7-bca7-88e04f179121",
   "metadata": {},
   "outputs": [
    {
     "data": {
      "text/plain": [
       "[1, 2, 3, 6]"
      ]
     },
     "execution_count": 38,
     "metadata": {},
     "output_type": "execute_result"
    }
   ],
   "source": [
    "lis2"
   ]
  },
  {
   "cell_type": "code",
   "execution_count": 39,
   "id": "3f547955-4aae-4c95-99cc-79bbb730c390",
   "metadata": {},
   "outputs": [],
   "source": [
    "lis2.append(0)"
   ]
  },
  {
   "cell_type": "code",
   "execution_count": 40,
   "id": "288849f5-cbd0-4bd9-a12f-8a0072eb8505",
   "metadata": {},
   "outputs": [
    {
     "data": {
      "text/plain": [
       "[1, 2, 3, 6, 0]"
      ]
     },
     "execution_count": 40,
     "metadata": {},
     "output_type": "execute_result"
    }
   ],
   "source": [
    "lis2"
   ]
  },
  {
   "cell_type": "code",
   "execution_count": 41,
   "id": "10a93e39-9a35-4ee4-9671-a0e3c49bfe8d",
   "metadata": {},
   "outputs": [],
   "source": [
    "lis2.sort()"
   ]
  },
  {
   "cell_type": "code",
   "execution_count": 42,
   "id": "4bc8dffb-3627-4967-9a48-5bb1033598a1",
   "metadata": {},
   "outputs": [
    {
     "data": {
      "text/plain": [
       "[0, 1, 2, 3, 6]"
      ]
     },
     "execution_count": 42,
     "metadata": {},
     "output_type": "execute_result"
    }
   ],
   "source": [
    "lis2"
   ]
  },
  {
   "cell_type": "code",
   "execution_count": 43,
   "id": "a17e9884-7ae2-4794-9a56-109a6d317fd8",
   "metadata": {},
   "outputs": [],
   "source": [
    "#you can delete whole list variable use del key\n",
    "del lis2"
   ]
  },
  {
   "cell_type": "code",
   "execution_count": 44,
   "id": "a53fe12b-b69a-4eb8-a7bf-68dff7e16900",
   "metadata": {},
   "outputs": [
    {
     "ename": "NameError",
     "evalue": "name 'lis2' is not defined",
     "output_type": "error",
     "traceback": [
      "\u001b[0;31m---------------------------------------------------------------------------\u001b[0m",
      "\u001b[0;31mNameError\u001b[0m                                 Traceback (most recent call last)",
      "Cell \u001b[0;32mIn[44], line 1\u001b[0m\n\u001b[0;32m----> 1\u001b[0m \u001b[43mlis2\u001b[49m\n",
      "\u001b[0;31mNameError\u001b[0m: name 'lis2' is not defined"
     ]
    }
   ],
   "source": [
    "lis2"
   ]
  },
  {
   "cell_type": "code",
   "execution_count": 50,
   "id": "9b55f1f1-45d1-431d-947d-96aa7e668843",
   "metadata": {},
   "outputs": [
    {
     "data": {
      "text/plain": [
       "[1, 2, 8, 4, 5, 6, 7, 9]"
      ]
     },
     "execution_count": 50,
     "metadata": {},
     "output_type": "execute_result"
    }
   ],
   "source": [
    "#lets say whenever we clear the in the list elemnt not varable then use clear\n",
    "lis2=[1,2,8,4,5,6,7,9]\n",
    "lis2"
   ]
  },
  {
   "cell_type": "code",
   "execution_count": 47,
   "id": "4d54f821-fd43-44e4-bf37-66071730a2e5",
   "metadata": {},
   "outputs": [],
   "source": [
    "lis2.clear()"
   ]
  },
  {
   "cell_type": "code",
   "execution_count": 48,
   "id": "11e591a2-f343-46fa-9822-6917681c00f1",
   "metadata": {},
   "outputs": [
    {
     "data": {
      "text/plain": [
       "[]"
      ]
     },
     "execution_count": 48,
     "metadata": {},
     "output_type": "execute_result"
    }
   ],
   "source": [
    "lis2 #see its empty list"
   ]
  },
  {
   "cell_type": "code",
   "execution_count": 49,
   "id": "50cf2f27-cf2f-41d7-ba43-496e9507b292",
   "metadata": {},
   "outputs": [],
   "source": [
    "#lets say when ever we remove the last elemet in the list use pop"
   ]
  },
  {
   "cell_type": "code",
   "execution_count": 51,
   "id": "4a3c137f-d782-4e3c-8928-1dbda82637a4",
   "metadata": {},
   "outputs": [
    {
     "data": {
      "text/plain": [
       "9"
      ]
     },
     "execution_count": 51,
     "metadata": {},
     "output_type": "execute_result"
    }
   ],
   "source": [
    "lis2.pop()"
   ]
  },
  {
   "cell_type": "code",
   "execution_count": 52,
   "id": "198804c8-ec79-4c34-8522-d0fab5c9608b",
   "metadata": {},
   "outputs": [
    {
     "data": {
      "text/plain": [
       "[1, 2, 8, 4, 5, 6, 7]"
      ]
     },
     "execution_count": 52,
     "metadata": {},
     "output_type": "execute_result"
    }
   ],
   "source": [
    "lis2 #it will be remove"
   ]
  },
  {
   "cell_type": "code",
   "execution_count": 53,
   "id": "20b576c8-f016-49f5-8760-8d476bfd595d",
   "metadata": {},
   "outputs": [],
   "source": [
    "#when we remove specifi element in the list we can do that as well just type element num"
   ]
  },
  {
   "cell_type": "code",
   "execution_count": 54,
   "id": "4b2dcbb3-d768-493d-b1db-a9bb9e1d0402",
   "metadata": {},
   "outputs": [
    {
     "data": {
      "text/plain": [
       "2"
      ]
     },
     "execution_count": 54,
     "metadata": {},
     "output_type": "execute_result"
    }
   ],
   "source": [
    "lis2.pop(1)"
   ]
  },
  {
   "cell_type": "code",
   "execution_count": 55,
   "id": "a5360e87-7f83-4e74-ae06-e3dcc44cb074",
   "metadata": {},
   "outputs": [
    {
     "data": {
      "text/plain": [
       "[1, 8, 4, 5, 6, 7]"
      ]
     },
     "execution_count": 55,
     "metadata": {},
     "output_type": "execute_result"
    }
   ],
   "source": [
    "lis2"
   ]
  },
  {
   "cell_type": "code",
   "execution_count": 56,
   "id": "9fe1a917-aaf2-4b6d-a9e9-0f00023bb5b9",
   "metadata": {},
   "outputs": [],
   "source": [
    "#list comprehension\n",
    "price=[10,20,30,40,50]\n",
    "doble_price=[]\n",
    "for i in price:\n",
    "    doble_price.append(i*2)"
   ]
  },
  {
   "cell_type": "code",
   "execution_count": 57,
   "id": "987c5f28-0e4a-44fc-94d1-9c3dc0724d50",
   "metadata": {},
   "outputs": [
    {
     "data": {
      "text/plain": [
       "[20, 40, 60, 80, 100]"
      ]
     },
     "execution_count": 57,
     "metadata": {},
     "output_type": "execute_result"
    }
   ],
   "source": [
    "doble_price"
   ]
  },
  {
   "cell_type": "code",
   "execution_count": 58,
   "id": "e6a876ae-dfd5-493d-a293-592dff74cf09",
   "metadata": {},
   "outputs": [
    {
     "data": {
      "text/plain": [
       "[20, 40, 60, 80, 100]"
      ]
     },
     "execution_count": 58,
     "metadata": {},
     "output_type": "execute_result"
    }
   ],
   "source": [
    "[new_price * 2 for new_price in price] #we can do same thing but only one line thats called list comprehension"
   ]
  },
  {
   "cell_type": "code",
   "execution_count": 59,
   "id": "cc7e8372-3a45-47a2-9874-1659c1b959bf",
   "metadata": {},
   "outputs": [],
   "source": [
    "z = [\"rose\",\"lisha\",\"pink\",\"jenny\",\"ajay gupta\"]"
   ]
  },
  {
   "cell_type": "code",
   "execution_count": 61,
   "id": "4df6dcda-3466-449b-b4bf-e5a97673a921",
   "metadata": {},
   "outputs": [
    {
     "data": {
      "text/plain": [
       "['Rose', 'Lisha', 'Pink', 'Jenny', 'Ajay gupta']"
      ]
     },
     "execution_count": 61,
     "metadata": {},
     "output_type": "execute_result"
    }
   ],
   "source": [
    "[q.capitalize() for q in z] #that called list comprehension>>consion code"
   ]
  },
  {
   "cell_type": "code",
   "execution_count": 62,
   "id": "97793353-1382-47f7-a13a-ef652d40ff78",
   "metadata": {},
   "outputs": [
    {
     "data": {
      "text/plain": [
       "[1, 4, 9, 16, 25, 36, 49, 64, 81]"
      ]
     },
     "execution_count": 62,
     "metadata": {},
     "output_type": "execute_result"
    }
   ],
   "source": [
    "#use case\n",
    "num = [1,2,3,4,5,6,7,8,9]\n",
    "[u**2 for u in num]"
   ]
  },
  {
   "cell_type": "code",
   "execution_count": 63,
   "id": "5523ff58-f3f8-452f-b9b7-39bff9aedf1c",
   "metadata": {},
   "outputs": [
    {
     "data": {
      "text/plain": [
       "['assigment', 'pdf']"
      ]
     },
     "execution_count": 63,
     "metadata": {},
     "output_type": "execute_result"
    }
   ],
   "source": [
    "vaka=\"assigment.pdf\"\n",
    "vaka.split(\".\")"
   ]
  },
  {
   "cell_type": "code",
   "execution_count": 64,
   "id": "dcd6e04d-2276-4388-a54b-67989a2f4175",
   "metadata": {},
   "outputs": [
    {
     "data": {
      "text/plain": [
       "'pdf'"
      ]
     },
     "execution_count": 64,
     "metadata": {},
     "output_type": "execute_result"
    }
   ],
   "source": [
    "vaka.split(\".\")[-1]"
   ]
  },
  {
   "cell_type": "code",
   "execution_count": 1,
   "id": "02564d43-ed01-4c8c-a18c-2ae734086fec",
   "metadata": {},
   "outputs": [
    {
     "data": {
      "text/plain": [
       "['ppt', 'jpn', 'pdf', 'zip', 'xls']"
      ]
     },
     "execution_count": 1,
     "metadata": {},
     "output_type": "execute_result"
    }
   ],
   "source": [
    "#use case\n",
    "my_file=[\"doc.ppt\",\"doc.jpn\",\"doc.pdf\",\"imag.zip\",\"doc.xls\"]\n",
    "[file.split(\".\")[-1] for file in my_file]"
   ]
  },
  {
   "cell_type": "code",
   "execution_count": 3,
   "id": "90f7cb17-7067-4fed-b2dd-21e8e7ef7bee",
   "metadata": {},
   "outputs": [],
   "source": [
    "#find all numer divisible /7 betwiien 1 to 1000 using list comprihenstion"
   ]
  },
  {
   "cell_type": "code",
   "execution_count": 5,
   "id": "87ef238a-d038-4f3c-a415-00183dd09002",
   "metadata": {},
   "outputs": [],
   "source": [
    "#acoount the number of spaces in a string\n",
    "s =\"monjulika is my love but i hate her beacuse ex is kakuda\""
   ]
  },
  {
   "cell_type": "code",
   "execution_count": 8,
   "id": "fd3e7a87-2519-485a-b0ab-b7cf54d5f707",
   "metadata": {},
   "outputs": [
    {
     "data": {
      "text/plain": [
       "57"
      ]
     },
     "execution_count": 8,
     "metadata": {},
     "output_type": "execute_result"
    }
   ],
   "source": [
    "s.count(\"\")"
   ]
  },
  {
   "cell_type": "code",
   "execution_count": 11,
   "id": "e1daf270-20ab-43b8-9182-4d6fd3641575",
   "metadata": {},
   "outputs": [
    {
     "ename": "NameError",
     "evalue": "name 'f' is not defined",
     "output_type": "error",
     "traceback": [
      "\u001b[0;31m---------------------------------------------------------------------------\u001b[0m",
      "\u001b[0;31mNameError\u001b[0m                                 Traceback (most recent call last)",
      "Cell \u001b[0;32mIn[11], line 2\u001b[0m\n\u001b[1;32m      1\u001b[0m [f\u001b[38;5;241m.\u001b[39mcount(\u001b[38;5;124m\"\u001b[39m\u001b[38;5;124m\"\u001b[39m) \u001b[38;5;28;01mfor\u001b[39;00m f \u001b[38;5;129;01min\u001b[39;00m s]\n\u001b[0;32m----> 2\u001b[0m \u001b[38;5;28mprint\u001b[39m(\u001b[38;5;28mlen\u001b[39m(\u001b[43mf\u001b[49m))\n",
      "\u001b[0;31mNameError\u001b[0m: name 'f' is not defined"
     ]
    }
   ],
   "source": [
    "[f.count(\"\") for f in s]\n",
    "print(len(f))"
   ]
  },
  {
   "cell_type": "code",
   "execution_count": null,
   "id": "26496aed-3cf8-4168-a402-3790309315bb",
   "metadata": {},
   "outputs": [],
   "source": [
    "#Hw\n",
    "#using the list comprehensition find the all the number from 1-1000 that divisible by any single digit any single digit from 2 to 9"
   ]
  },
  {
   "cell_type": "code",
   "execution_count": 12,
   "id": "ebf91130-64c1-4d9d-a15c-ddd129bd816e",
   "metadata": {},
   "outputs": [],
   "source": [
    "t = ((0,1,2),(4,5,6))"
   ]
  },
  {
   "cell_type": "code",
   "execution_count": 13,
   "id": "e8910ea4-970a-4bc3-89e7-458658d7ee7d",
   "metadata": {},
   "outputs": [
    {
     "data": {
      "text/plain": [
       "(0, 1, 2)"
      ]
     },
     "execution_count": 13,
     "metadata": {},
     "output_type": "execute_result"
    }
   ],
   "source": [
    "t[0]"
   ]
  },
  {
   "cell_type": "code",
   "execution_count": 14,
   "id": "a2d34630-12d3-499a-9dfd-dad7d7303d47",
   "metadata": {},
   "outputs": [
    {
     "data": {
      "text/plain": [
       "tuple"
      ]
     },
     "execution_count": 14,
     "metadata": {},
     "output_type": "execute_result"
    }
   ],
   "source": [
    "type(t)"
   ]
  },
  {
   "cell_type": "code",
   "execution_count": 15,
   "id": "b2307c18-ffc9-4dcb-a4b8-9a142d0d52c8",
   "metadata": {},
   "outputs": [],
   "source": [
    "t1=(7,8,9)"
   ]
  },
  {
   "cell_type": "code",
   "execution_count": 16,
   "id": "ac89110d-9df3-41c1-bd48-2eb53c2abf75",
   "metadata": {},
   "outputs": [
    {
     "ename": "AttributeError",
     "evalue": "'tuple' object has no attribute 'add'",
     "output_type": "error",
     "traceback": [
      "\u001b[0;31m---------------------------------------------------------------------------\u001b[0m",
      "\u001b[0;31mAttributeError\u001b[0m                            Traceback (most recent call last)",
      "Cell \u001b[0;32mIn[16], line 1\u001b[0m\n\u001b[0;32m----> 1\u001b[0m \u001b[43mt\u001b[49m\u001b[38;5;241;43m.\u001b[39;49m\u001b[43madd\u001b[49m(\u001b[38;5;241m5\u001b[39m)\n",
      "\u001b[0;31mAttributeError\u001b[0m: 'tuple' object has no attribute 'add'"
     ]
    }
   ],
   "source": [
    "t.add(5)"
   ]
  },
  {
   "cell_type": "code",
   "execution_count": 17,
   "id": "5e89595f-e0b7-4878-b11f-17c319c5cd74",
   "metadata": {},
   "outputs": [
    {
     "data": {
      "text/plain": [
       "{1, 2, 3}"
      ]
     },
     "execution_count": 17,
     "metadata": {},
     "output_type": "execute_result"
    }
   ],
   "source": [
    "s = {1,1,2,2,3}\n",
    "s"
   ]
  },
  {
   "cell_type": "code",
   "execution_count": 18,
   "id": "821248c5-5794-44fa-8efc-00558d642e35",
   "metadata": {},
   "outputs": [
    {
     "data": {
      "text/plain": [
       "set"
      ]
     },
     "execution_count": 18,
     "metadata": {},
     "output_type": "execute_result"
    }
   ],
   "source": [
    "type(s)"
   ]
  },
  {
   "cell_type": "code",
   "execution_count": 19,
   "id": "546a36b4-783c-4f9e-a145-0c9525f2d4d7",
   "metadata": {},
   "outputs": [],
   "source": [
    "s.add(10)"
   ]
  },
  {
   "cell_type": "code",
   "execution_count": 21,
   "id": "4e6b42c9-3a24-4eaa-a14a-7d3c2a8a08ba",
   "metadata": {},
   "outputs": [
    {
     "data": {
      "text/plain": [
       "{1, 2, 3, 10}"
      ]
     },
     "execution_count": 21,
     "metadata": {},
     "output_type": "execute_result"
    }
   ],
   "source": [
    "s"
   ]
  },
  {
   "cell_type": "code",
   "execution_count": 22,
   "id": "4accbcec-8324-4633-a5a4-ce7d7c05d56d",
   "metadata": {},
   "outputs": [],
   "source": [
    "s.remove(10)"
   ]
  },
  {
   "cell_type": "code",
   "execution_count": 23,
   "id": "623f8718-9198-4b15-9f4d-24a2f59aa284",
   "metadata": {},
   "outputs": [],
   "source": [
    "s.clear()"
   ]
  },
  {
   "cell_type": "code",
   "execution_count": 24,
   "id": "7ce7e915-6821-4e30-81fd-abe876743f5c",
   "metadata": {},
   "outputs": [
    {
     "data": {
      "text/plain": [
       "set()"
      ]
     },
     "execution_count": 24,
     "metadata": {},
     "output_type": "execute_result"
    }
   ],
   "source": [
    "s"
   ]
  },
  {
   "cell_type": "code",
   "execution_count": 25,
   "id": "fa81aaa4-d5cc-4fba-a8e6-56a5245f6b57",
   "metadata": {},
   "outputs": [],
   "source": [
    "del s"
   ]
  },
  {
   "cell_type": "code",
   "execution_count": 26,
   "id": "dcb701fe-ddb5-466d-9a03-72119022a772",
   "metadata": {},
   "outputs": [
    {
     "ename": "NameError",
     "evalue": "name 's' is not defined",
     "output_type": "error",
     "traceback": [
      "\u001b[0;31m---------------------------------------------------------------------------\u001b[0m",
      "\u001b[0;31mNameError\u001b[0m                                 Traceback (most recent call last)",
      "Cell \u001b[0;32mIn[26], line 1\u001b[0m\n\u001b[0;32m----> 1\u001b[0m \u001b[43ms\u001b[49m\n",
      "\u001b[0;31mNameError\u001b[0m: name 's' is not defined"
     ]
    }
   ],
   "source": [
    "s"
   ]
  },
  {
   "cell_type": "code",
   "execution_count": null,
   "id": "2f9c22f3-7c24-4c66-94df-eea341e0e813",
   "metadata": {},
   "outputs": [],
   "source": [
    "#union >> all the elment\n",
    "#intersection>>\n",
    "#difference\n",
    "#symetric differnece\n"
   ]
  },
  {
   "cell_type": "code",
   "execution_count": 27,
   "id": "e0836b60-c8b8-497e-aa5f-b744b96d5069",
   "metadata": {},
   "outputs": [],
   "source": [
    "#forozenset >> immutable version of set , can not be changed or add or remove in set"
   ]
  },
  {
   "cell_type": "code",
   "execution_count": null,
   "id": "6a174a0a-e13e-4073-87c3-024ab303c8a2",
   "metadata": {},
   "outputs": [],
   "source": []
  }
 ],
 "metadata": {
  "kernelspec": {
   "display_name": "Python 3 (ipykernel)",
   "language": "python",
   "name": "python3"
  },
  "language_info": {
   "codemirror_mode": {
    "name": "ipython",
    "version": 3
   },
   "file_extension": ".py",
   "mimetype": "text/x-python",
   "name": "python",
   "nbconvert_exporter": "python",
   "pygments_lexer": "ipython3",
   "version": "3.10.8"
  }
 },
 "nbformat": 4,
 "nbformat_minor": 5
}
