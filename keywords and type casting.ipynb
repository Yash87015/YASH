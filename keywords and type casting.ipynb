{
 "cells": [
  {
   "cell_type": "code",
   "execution_count": 1,
   "id": "a95fdc0e-dbc6-4b01-9e2f-2da0de5da414",
   "metadata": {},
   "outputs": [
    {
     "name": "stdout",
     "output_type": "stream",
     "text": [
      "\n",
      "Here is a list of the Python keywords.  Enter any keyword to get more help.\n",
      "\n",
      "False               class               from                or\n",
      "None                continue            global              pass\n",
      "True                def                 if                  raise\n",
      "and                 del                 import              return\n",
      "as                  elif                in                  try\n",
      "assert              else                is                  while\n",
      "async               except              lambda              with\n",
      "await               finally             nonlocal            yield\n",
      "break               for                 not                 \n",
      "\n"
     ]
    }
   ],
   "source": [
    "help(\"keywords\")"
   ]
  },
  {
   "cell_type": "code",
   "execution_count": 14,
   "id": "40850dc3-ea89-408f-90e3-0fc9d170c52c",
   "metadata": {
    "tags": []
   },
   "outputs": [
    {
     "name": "stdout",
     "output_type": "stream",
     "text": [
      "smaller\n"
     ]
    }
   ],
   "source": [
    "a = 450000*35000\n",
    "b = 5000000/10000\n",
    "if b < a:\n",
    "    print(\"smaller\")\n",
    "else:\n",
    "    print(\"greater\")\n"
   ]
  },
  {
   "cell_type": "code",
   "execution_count": 18,
   "id": "80bb922f-5c69-4171-8fdc-e76f6f7385a5",
   "metadata": {},
   "outputs": [],
   "source": [
    "#indatation when ever we use logic santance (use :) after press enter its requried some space that called indatation ..>> more readble\n",
    "\n"
   ]
  },
  {
   "cell_type": "code",
   "execution_count": 16,
   "id": "caaad72f-ddc3-4ff9-80db-41c230283f26",
   "metadata": {},
   "outputs": [],
   "source": [
    "iffwn = \"jwoefj\""
   ]
  },
  {
   "cell_type": "code",
   "execution_count": 17,
   "id": "958662e6-0994-4ae5-b9d9-db4a7ecd37a2",
   "metadata": {},
   "outputs": [
    {
     "data": {
      "text/plain": [
       "'jwoefj'"
      ]
     },
     "execution_count": 17,
     "metadata": {},
     "output_type": "execute_result"
    }
   ],
   "source": [
    "iffwn"
   ]
  },
  {
   "cell_type": "markdown",
   "id": "c3a400fc-3bac-4629-83fd-6d98b376150f",
   "metadata": {},
   "source": [
    "#when ever we write variable not include space between the world \n",
    "#but we can use under scroll  (   _  ) between them\n"
   ]
  },
  {
   "cell_type": "code",
   "execution_count": 19,
   "id": "54ba6f0b-d8b2-4123-9868-74f42a416332",
   "metadata": {},
   "outputs": [
    {
     "name": "stdout",
     "output_type": "stream",
     "text": [
      "smaaller\n"
     ]
    }
   ],
   "source": [
    "a =  48*509 #assignment statement\n",
    "b =  45/2\n",
    "c = a+b\n",
    "if c > 3000:\n",
    "    print(\"smaaller\")\n",
    "else:\n",
    "    print(\"bigger\")"
   ]
  },
  {
   "cell_type": "code",
   "execution_count": 26,
   "id": "629c795a-8627-422b-a19c-779b70637820",
   "metadata": {},
   "outputs": [
    {
     "name": "stdin",
     "output_type": "stream",
     "text": [
      "please enter your name:   2\n"
     ]
    }
   ],
   "source": [
    "#input output >>> if you want some user to give value of varible \n",
    "name = input(\"please enter your name:  \")"
   ]
  },
  {
   "cell_type": "code",
   "execution_count": 27,
   "id": "b5fc2685-1774-4be9-b101-4dcefcce414c",
   "metadata": {},
   "outputs": [
    {
     "data": {
      "text/plain": [
       "'2'"
      ]
     },
     "execution_count": 27,
     "metadata": {},
     "output_type": "execute_result"
    }
   ],
   "source": [
    "name"
   ]
  },
  {
   "cell_type": "markdown",
   "id": "00cb3639-3d4b-4109-806e-2e7be20ba6d3",
   "metadata": {},
   "source": [
    "input actully take every input as a string\n",
    "we can convert throw a ##type casting or type conversion\n"
   ]
  },
  {
   "cell_type": "code",
   "execution_count": 28,
   "id": "5dabc6fe-9d7c-48c3-bf57-1ead8abc2bec",
   "metadata": {},
   "outputs": [
    {
     "data": {
      "text/plain": [
       "str"
      ]
     },
     "execution_count": 28,
     "metadata": {},
     "output_type": "execute_result"
    }
   ],
   "source": [
    "type(name)"
   ]
  },
  {
   "cell_type": "code",
   "execution_count": 31,
   "id": "e3f5eacd-cdfe-414b-92a3-d9b59c6fdb14",
   "metadata": {},
   "outputs": [
    {
     "data": {
      "text/plain": [
       "2"
      ]
     },
     "execution_count": 31,
     "metadata": {},
     "output_type": "execute_result"
    }
   ],
   "source": [
    "int(name) # type casting\n"
   ]
  },
  {
   "cell_type": "code",
   "execution_count": 30,
   "id": "d762fe41-da89-4512-97b3-734878a9f21b",
   "metadata": {},
   "outputs": [
    {
     "data": {
      "text/plain": [
       "int"
      ]
     },
     "execution_count": 30,
     "metadata": {},
     "output_type": "execute_result"
    }
   ],
   "source": [
    "type(name)"
   ]
  },
  {
   "cell_type": "code",
   "execution_count": 2,
   "id": "ba03d47e-ca29-4aab-b3d4-316efd7f768e",
   "metadata": {},
   "outputs": [
    {
     "name": "stdout",
     "output_type": "stream",
     "text": [
      "<class 'str'>\n",
      "<class 'int'>\n"
     ]
    }
   ],
   "source": [
    "#convert string to integer\n",
    "a = \"2\"\n",
    "print(type(a))\n",
    "print(type(int(a)))"
   ]
  },
  {
   "cell_type": "code",
   "execution_count": 3,
   "id": "39e25027-8a3f-4dec-8272-b33c45e87314",
   "metadata": {},
   "outputs": [
    {
     "data": {
      "text/plain": [
       "float"
      ]
     },
     "execution_count": 3,
     "metadata": {},
     "output_type": "execute_result"
    }
   ],
   "source": [
    "a = 12.5\n",
    "type(a)"
   ]
  },
  {
   "cell_type": "code",
   "execution_count": 6,
   "id": "ef6c5283-9533-4d9c-a5c5-7ea7aaecff3b",
   "metadata": {},
   "outputs": [
    {
     "data": {
      "text/plain": [
       "12"
      ]
     },
     "execution_count": 6,
     "metadata": {},
     "output_type": "execute_result"
    }
   ],
   "source": [
    "int(a)\n"
   ]
  },
  {
   "cell_type": "code",
   "execution_count": 9,
   "id": "07f7530c-bea3-43da-95f3-ab925a5c9936",
   "metadata": {},
   "outputs": [
    {
     "data": {
      "text/plain": [
       "int"
      ]
     },
     "execution_count": 9,
     "metadata": {},
     "output_type": "execute_result"
    }
   ],
   "source": [
    "#float to integer\n",
    "b=6.78\n",
    "type(b)\n",
    "flout_value = int(b)\n",
    "type(flout_value)"
   ]
  },
  {
   "cell_type": "code",
   "execution_count": 8,
   "id": "ba7b8778-73a9-4650-9fd5-2cfedadec39a",
   "metadata": {},
   "outputs": [
    {
     "data": {
      "text/plain": [
       "6"
      ]
     },
     "execution_count": 8,
     "metadata": {},
     "output_type": "execute_result"
    }
   ],
   "source": [
    "int(b)"
   ]
  },
  {
   "cell_type": "code",
   "execution_count": 10,
   "id": "63ac879e-8155-4138-afd7-214acdc30248",
   "metadata": {},
   "outputs": [
    {
     "data": {
      "text/plain": [
       "float"
      ]
     },
     "execution_count": 10,
     "metadata": {},
     "output_type": "execute_result"
    }
   ],
   "source": [
    "#integer to float\n",
    "a=2\n",
    "type(a)\n",
    "b=float(a)\n",
    "type(b)"
   ]
  },
  {
   "cell_type": "code",
   "execution_count": 11,
   "id": "07a874e5-5889-468a-9356-1d711275d7f2",
   "metadata": {},
   "outputs": [
    {
     "data": {
      "text/plain": [
       "2.0"
      ]
     },
     "execution_count": 11,
     "metadata": {},
     "output_type": "execute_result"
    }
   ],
   "source": [
    "b"
   ]
  },
  {
   "cell_type": "code",
   "execution_count": 13,
   "id": "d974d873-8b2e-4f4d-b0f4-67ecfa375799",
   "metadata": {},
   "outputs": [
    {
     "data": {
      "text/plain": [
       "str"
      ]
     },
     "execution_count": 13,
     "metadata": {},
     "output_type": "execute_result"
    }
   ],
   "source": [
    "#integer to string\n",
    "a = 45\n",
    "type(a)\n",
    "b = str(a)\n",
    "type(b)"
   ]
  },
  {
   "cell_type": "code",
   "execution_count": 14,
   "id": "9fc653e2-228e-4bf1-a7e4-057c7170b226",
   "metadata": {},
   "outputs": [
    {
     "data": {
      "text/plain": [
       "int"
      ]
     },
     "execution_count": 14,
     "metadata": {},
     "output_type": "execute_result"
    }
   ],
   "source": [
    "type(a)"
   ]
  },
  {
   "cell_type": "code",
   "execution_count": 15,
   "id": "ae2936d4-90a4-441c-a9c7-c24473fcd2d0",
   "metadata": {},
   "outputs": [],
   "source": [
    "#type casting are two type (1) implicit (2) explicit\n",
    "#what we above we done its called explicit \n",
    "#implicit means python are understand what type of data type its called implicit ut other like java does not understand"
   ]
  },
  {
   "cell_type": "code",
   "execution_count": 22,
   "id": "092c1adc-5c35-4472-955b-20effb45ad49",
   "metadata": {},
   "outputs": [
    {
     "data": {
      "text/plain": [
       "('', 0, 0.0)"
      ]
     },
     "execution_count": 22,
     "metadata": {},
     "output_type": "execute_result"
    }
   ],
   "source": [
    "str(), int(), float()   # convertable used to type casting"
   ]
  },
  {
   "cell_type": "code",
   "execution_count": 17,
   "id": "3a71183e-f724-4f9a-a647-4b816bcd75f3",
   "metadata": {},
   "outputs": [],
   "source": [
    "#concatenation = thats call two string can be add"
   ]
  },
  {
   "cell_type": "code",
   "execution_count": 20,
   "id": "a9deee67-4c77-4916-abab-cb26b856eee2",
   "metadata": {},
   "outputs": [
    {
     "data": {
      "text/plain": [
       "'yash solanki'"
      ]
     },
     "execution_count": 20,
     "metadata": {},
     "output_type": "execute_result"
    }
   ],
   "source": [
    "a = \"yash\"\n",
    "b = \" solanki\"\n",
    "a+b # combine the string"
   ]
  },
  {
   "cell_type": "code",
   "execution_count": 23,
   "id": "4b57f42c-c805-494c-bce8-741edb4ea38e",
   "metadata": {},
   "outputs": [],
   "source": [
    "#bool type casting"
   ]
  },
  {
   "cell_type": "code",
   "execution_count": 24,
   "id": "dd8dfdeb-fede-42c7-b2f3-b737bdd319f3",
   "metadata": {},
   "outputs": [
    {
     "data": {
      "text/plain": [
       "True"
      ]
     },
     "execution_count": 24,
     "metadata": {},
     "output_type": "execute_result"
    }
   ],
   "source": [
    "bool(23)"
   ]
  },
  {
   "cell_type": "code",
   "execution_count": 27,
   "id": "0a93c6f4-1634-4804-b5f4-95074e95d24c",
   "metadata": {},
   "outputs": [],
   "source": [
    "#only (00) AND empty string (\"\") is given false else always true and any integer name given are always true"
   ]
  },
  {
   "cell_type": "code",
   "execution_count": 26,
   "id": "f8bf5795-b6cf-418d-af7b-815e84a94066",
   "metadata": {},
   "outputs": [
    {
     "data": {
      "text/plain": [
       "True"
      ]
     },
     "execution_count": 26,
     "metadata": {},
     "output_type": "execute_result"
    }
   ],
   "source": [
    "bool(\"YASH\")"
   ]
  },
  {
   "cell_type": "code",
   "execution_count": 33,
   "id": "508f8a71-d31c-4ad7-9911-4c6e9e646745",
   "metadata": {},
   "outputs": [
    {
     "data": {
      "text/plain": [
       "str"
      ]
     },
     "execution_count": 33,
     "metadata": {},
     "output_type": "execute_result"
    }
   ],
   "source": [
    " a = \"45.95\"\n",
    "type(a)"
   ]
  },
  {
   "cell_type": "code",
   "execution_count": 36,
   "id": "7942c85a-003f-401e-bfd3-832ea94ef345",
   "metadata": {},
   "outputs": [
    {
     "data": {
      "text/plain": [
       "float"
      ]
     },
     "execution_count": 36,
     "metadata": {},
     "output_type": "execute_result"
    }
   ],
   "source": [
    "type(float(a))"
   ]
  },
  {
   "cell_type": "code",
   "execution_count": 37,
   "id": "1e629e38-27d3-4664-b753-5311ffde08ea",
   "metadata": {},
   "outputs": [
    {
     "data": {
      "text/plain": [
       "str"
      ]
     },
     "execution_count": 37,
     "metadata": {},
     "output_type": "execute_result"
    }
   ],
   "source": [
    "type(a)"
   ]
  },
  {
   "cell_type": "code",
   "execution_count": 38,
   "id": "ee530fe5-4e2a-410a-b122-d50eabf84aab",
   "metadata": {},
   "outputs": [
    {
     "data": {
      "text/plain": [
       "complex"
      ]
     },
     "execution_count": 38,
     "metadata": {},
     "output_type": "execute_result"
    }
   ],
   "source": [
    "a = 5+3j\n",
    "type(a)"
   ]
  },
  {
   "cell_type": "code",
   "execution_count": 40,
   "id": "6eac1fce-e476-43a1-81c9-4bd30f0c65f9",
   "metadata": {},
   "outputs": [
    {
     "data": {
      "text/plain": [
       "False"
      ]
     },
     "execution_count": 40,
     "metadata": {},
     "output_type": "execute_result"
    }
   ],
   "source": [
    "bool(0)"
   ]
  },
  {
   "cell_type": "code",
   "execution_count": 1,
   "id": "7663a462-0234-4305-b3a1-63cfa53d5824",
   "metadata": {},
   "outputs": [],
   "source": [
    " a = 6"
   ]
  },
  {
   "cell_type": "code",
   "execution_count": 2,
   "id": "d9111cee-6859-4a08-933f-ed3378256821",
   "metadata": {},
   "outputs": [
    {
     "data": {
      "text/plain": [
       "6"
      ]
     },
     "execution_count": 2,
     "metadata": {},
     "output_type": "execute_result"
    }
   ],
   "source": [
    "a"
   ]
  },
  {
   "cell_type": "code",
   "execution_count": 12,
   "id": "fd4d76de-f8a0-472f-960e-5de935b12efa",
   "metadata": {},
   "outputs": [],
   "source": [
    "b = \"ajay\" #indiaces indicate [] these list\n",
    "\n"
   ]
  },
  {
   "cell_type": "code",
   "execution_count": 9,
   "id": "caf98418-2f52-4daf-91e9-826c244bef30",
   "metadata": {},
   "outputs": [
    {
     "data": {
      "text/plain": [
       "'a'"
      ]
     },
     "execution_count": 9,
     "metadata": {},
     "output_type": "execute_result"
    }
   ],
   "source": [
    "b[0]"
   ]
  },
  {
   "cell_type": "code",
   "execution_count": 6,
   "id": "23c75acb-097b-4c46-83ff-edcee05faa0b",
   "metadata": {},
   "outputs": [
    {
     "data": {
      "text/plain": [
       "'a'"
      ]
     },
     "execution_count": 6,
     "metadata": {},
     "output_type": "execute_result"
    }
   ],
   "source": [
    "b[2]"
   ]
  },
  {
   "cell_type": "code",
   "execution_count": 7,
   "id": "6706095a-d15c-441b-b8a0-bba6f6c16ad1",
   "metadata": {},
   "outputs": [
    {
     "data": {
      "text/plain": [
       "'a'"
      ]
     },
     "execution_count": 7,
     "metadata": {},
     "output_type": "execute_result"
    }
   ],
   "source": [
    "b[-2]"
   ]
  },
  {
   "cell_type": "code",
   "execution_count": 11,
   "id": "9545420c-7ec6-4576-90dd-dac7230b5dd1",
   "metadata": {},
   "outputs": [],
   "source": [
    "#another type of cointerner"
   ]
  },
  {
   "cell_type": "code",
   "execution_count": 13,
   "id": "eee2ca86-17d2-4706-97b4-bdeab2f2f8eb",
   "metadata": {},
   "outputs": [],
   "source": [
    "#list\n",
    "list_coin = [1, 2, 3+5j, 4,\"ajay\"]"
   ]
  },
  {
   "cell_type": "code",
   "execution_count": 14,
   "id": "4ba9e762-94bb-4c11-9962-4bbd563a8869",
   "metadata": {},
   "outputs": [
    {
     "data": {
      "text/plain": [
       "[1, 2, (3+5j), 4, 'ajay']"
      ]
     },
     "execution_count": 14,
     "metadata": {},
     "output_type": "execute_result"
    }
   ],
   "source": [
    "list_coin"
   ]
  },
  {
   "cell_type": "code",
   "execution_count": 20,
   "id": "882bec47-d84f-48b0-abad-c00f40f27ae0",
   "metadata": {},
   "outputs": [
    {
     "data": {
      "text/plain": [
       "1"
      ]
     },
     "execution_count": 20,
     "metadata": {},
     "output_type": "execute_result"
    }
   ],
   "source": [
    "list_coin[0]  # positive indence start wth zero and negative indence start with -1"
   ]
  },
  {
   "cell_type": "code",
   "execution_count": 17,
   "id": "e7c8d001-668f-4753-862c-83ad8bf38e3b",
   "metadata": {},
   "outputs": [
    {
     "data": {
      "text/plain": [
       "list"
      ]
     },
     "execution_count": 17,
     "metadata": {},
     "output_type": "execute_result"
    }
   ],
   "source": [
    "type(list_coin)"
   ]
  },
  {
   "cell_type": "code",
   "execution_count": 27,
   "id": "c306af0d-900b-4306-9f40-d393a88007d1",
   "metadata": {},
   "outputs": [],
   "source": [
    "#mutability     # list is a type of mutable object also called as iteam assiangment \n",
    "#strin is unmuatable object does not sport iteam assignment\n",
    "list_coin[4] = \"bijay\""
   ]
  },
  {
   "cell_type": "code",
   "execution_count": 23,
   "id": "75700287-4204-4c3f-8460-0ac2bce1cc72",
   "metadata": {},
   "outputs": [
    {
     "data": {
      "text/plain": [
       "[1, 2, (3+5j), 4, 'bijay']"
      ]
     },
     "execution_count": 23,
     "metadata": {},
     "output_type": "execute_result"
    }
   ],
   "source": [
    "list_coin\n"
   ]
  },
  {
   "cell_type": "code",
   "execution_count": 25,
   "id": "6383131d-6fd4-4409-b65f-8199a67bc757",
   "metadata": {},
   "outputs": [],
   "source": [
    "list_coin[2] = 5484"
   ]
  },
  {
   "cell_type": "code",
   "execution_count": 26,
   "id": "490e5c61-67b1-45a0-8909-66e5e0004693",
   "metadata": {},
   "outputs": [
    {
     "data": {
      "text/plain": [
       "[1, 2, 5484, 4, 'bijay']"
      ]
     },
     "execution_count": 26,
     "metadata": {},
     "output_type": "execute_result"
    }
   ],
   "source": [
    "list_coin"
   ]
  },
  {
   "cell_type": "code",
   "execution_count": null,
   "id": "fb6a9b0c-ec00-48c3-900d-9e3b12436ec5",
   "metadata": {},
   "outputs": [],
   "source": []
  }
 ],
 "metadata": {
  "kernelspec": {
   "display_name": "Python 3 (ipykernel)",
   "language": "python",
   "name": "python3"
  },
  "language_info": {
   "codemirror_mode": {
    "name": "ipython",
    "version": 3
   },
   "file_extension": ".py",
   "mimetype": "text/x-python",
   "name": "python",
   "nbconvert_exporter": "python",
   "pygments_lexer": "ipython3",
   "version": "3.10.8"
  }
 },
 "nbformat": 4,
 "nbformat_minor": 5
}
