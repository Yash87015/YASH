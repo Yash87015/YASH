{
 "cells": [
  {
   "cell_type": "code",
   "execution_count": 2,
   "id": "021133a6-cf39-4083-9711-189ed35c6ad1",
   "metadata": {},
   "outputs": [
    {
     "name": "stdout",
     "output_type": "stream",
     "text": [
      "*******\n",
      "******\n",
      "*****\n",
      "****\n",
      "***\n",
      "**\n",
      "*\n",
      "\n"
     ]
    }
   ],
   "source": [
    "for i in range(0,8):\n",
    "    for j in range(i+1,8):\n",
    "        print(\"*\",end=\"\")\n",
    "    print(\"\")"
   ]
  },
  {
   "cell_type": "code",
   "execution_count": 1,
   "id": "7229034a-2726-4dee-850c-79c64f873884",
   "metadata": {},
   "outputs": [
    {
     "ename": "SyntaxError",
     "evalue": "invalid syntax (2039195660.py, line 1)",
     "output_type": "error",
     "traceback": [
      "\u001b[0;36m  Cell \u001b[0;32mIn[1], line 1\u001b[0;36m\u001b[0m\n\u001b[0;31m    extra mile\u001b[0m\n\u001b[0m          ^\u001b[0m\n\u001b[0;31mSyntaxError\u001b[0m\u001b[0;31m:\u001b[0m invalid syntax\n"
     ]
    }
   ],
   "source": [
    "#extra mile"
   ]
  },
  {
   "cell_type": "code",
   "execution_count": 2,
   "id": "43db7a76-af24-4bab-a0c4-ca8126b9b66a",
   "metadata": {},
   "outputs": [],
   "source": [
    "song=[\"blackpink\",\"hollywood\",\"bollywood\",\"tamil\"]"
   ]
  },
  {
   "cell_type": "code",
   "execution_count": 3,
   "id": "57cb5b85-3acb-4316-a8dc-c94f1bef2fa8",
   "metadata": {},
   "outputs": [
    {
     "data": {
      "text/plain": [
       "['blackpink', 'hollywood', 'bollywood', 'tamil']"
      ]
     },
     "execution_count": 3,
     "metadata": {},
     "output_type": "execute_result"
    }
   ],
   "source": [
    "sorted(song,reverse = True,key = len)"
   ]
  },
  {
   "cell_type": "code",
   "execution_count": 6,
   "id": "2868fda1-44d5-4ab6-9b71-5227e90066e1",
   "metadata": {},
   "outputs": [
    {
     "data": {
      "text/plain": [
       "['tamil', 'hollywood', 'bollywood', 'blackpink']"
      ]
     },
     "execution_count": 6,
     "metadata": {},
     "output_type": "execute_result"
    }
   ],
   "source": [
    "sorted(song,reverse = True)"
   ]
  },
  {
   "cell_type": "code",
   "execution_count": 5,
   "id": "1ddddaf6-8f88-4328-8516-1d5e77580de3",
   "metadata": {},
   "outputs": [
    {
     "data": {
      "text/plain": [
       "['blackpink', 'hollywood', 'bollywood', 'tamil']"
      ]
     },
     "execution_count": 5,
     "metadata": {},
     "output_type": "execute_result"
    }
   ],
   "source": [
    "sorted(song,reverse = True,key = len)"
   ]
  },
  {
   "cell_type": "code",
   "execution_count": 7,
   "id": "25fa6d90-60a6-4f9f-93fe-d2f39b68b00a",
   "metadata": {},
   "outputs": [
    {
     "data": {
      "text/plain": [
       "['blackpink', 'hollywood', 'bollywood', 'tamil']"
      ]
     },
     "execution_count": 7,
     "metadata": {},
     "output_type": "execute_result"
    }
   ],
   "source": [
    "song"
   ]
  },
  {
   "cell_type": "code",
   "execution_count": null,
   "id": "7f187984-f77d-44e9-bd0d-8c6d2b995bd4",
   "metadata": {},
   "outputs": [],
   "source": [
    "#conditiinal list comprehension #in alish you can not directly use endswith you can use this way"
   ]
  },
  {
   "cell_type": "code",
   "execution_count": 19,
   "id": "4b142e64-a2c4-42b6-b700-f1d09545b299",
   "metadata": {},
   "outputs": [],
   "source": [
    "name = ['aj@yahoo.com','kj@gmail.com','iu@yahoo.com','rt@gmail.com','we@yahoo.com','po@gmail.com']"
   ]
  },
  {
   "cell_type": "code",
   "execution_count": 25,
   "id": "e14c8a57-4168-46fc-bbc6-f5e7ee6e13a9",
   "metadata": {},
   "outputs": [
    {
     "data": {
      "text/plain": [
       "['aj@yahoo.com', 'iu@yahoo.com', 'we@yahoo.com']"
      ]
     },
     "execution_count": 25,
     "metadata": {},
     "output_type": "execute_result"
    }
   ],
   "source": [
    "[email for email in name if email.endswith(\"@yahoo.com\")]"
   ]
  },
  {
   "cell_type": "code",
   "execution_count": 38,
   "id": "4cb96040-c821-4759-9966-2b8c27558070",
   "metadata": {},
   "outputs": [
    {
     "data": {
      "text/plain": [
       "[[1, 4], [1, 5], [1, 6], [2, 4], [2, 5], [2, 6], [3, 4], [3, 5], [3, 6]]"
      ]
     },
     "execution_count": 38,
     "metadata": {},
     "output_type": "execute_result"
    }
   ],
   "source": [
    "#nested listcomprehension\n",
    "pairs = []\n",
    "for x in [1,2,3]:\n",
    "    for y in [4,5,6]:\n",
    "        pairs.append([x,y])\n",
    "pairs"
   ]
  },
  {
   "cell_type": "code",
   "execution_count": 34,
   "id": "bf434924-3099-422a-be95-6ddd0c0954aa",
   "metadata": {},
   "outputs": [
    {
     "data": {
      "text/plain": [
       "[[1, 4], [1, 5], [1, 6], [2, 4], [2, 5], [2, 6], [3, 4], [3, 5], [3, 6]]"
      ]
     },
     "execution_count": 34,
     "metadata": {},
     "output_type": "execute_result"
    }
   ],
   "source": [
    "[[x,y] for x in [1,2,3] for y in [4,5,6]] #nested listcomprehension"
   ]
  },
  {
   "cell_type": "code",
   "execution_count": null,
   "id": "2476215b-4b71-4544-9f0e-b96fbb3655f1",
   "metadata": {},
   "outputs": [],
   "source": [
    "#list stack and queue(optional)"
   ]
  },
  {
   "cell_type": "code",
   "execution_count": 35,
   "id": "8d0036f4-00a4-4e7a-9e08-ae64fd1cdeb7",
   "metadata": {},
   "outputs": [],
   "source": [
    "##last in first out"
   ]
  },
  {
   "cell_type": "code",
   "execution_count": 46,
   "id": "e68202b2-d906-41ca-970e-3eb160347513",
   "metadata": {},
   "outputs": [
    {
     "data": {
      "text/plain": [
       "['plate1', 'plate2', 'plate3', 'plate4']"
      ]
     },
     "execution_count": 46,
     "metadata": {},
     "output_type": "execute_result"
    }
   ],
   "source": [
    "stack_of_plates=[]\n",
    "stack_of_plates.append(\"plate1\")\n",
    "stack_of_plates.append(\"plate2\")\n",
    "stack_of_plates.append(\"plate3\")\n",
    "stack_of_plates.append(\"plate4\")\n",
    "stack_of_plates"
   ]
  },
  {
   "cell_type": "code",
   "execution_count": 47,
   "id": "dc2226d2-ed40-474e-a153-f474a03a962e",
   "metadata": {},
   "outputs": [
    {
     "data": {
      "text/plain": [
       "'plate4'"
      ]
     },
     "execution_count": 47,
     "metadata": {},
     "output_type": "execute_result"
    }
   ],
   "source": [
    "stack_of_plates.pop()\n"
   ]
  },
  {
   "cell_type": "code",
   "execution_count": 48,
   "id": "20400a3e-fb90-4686-90d0-a5470c1aa9ed",
   "metadata": {},
   "outputs": [
    {
     "data": {
      "text/plain": [
       "['plate1', 'plate2', 'plate3']"
      ]
     },
     "execution_count": 48,
     "metadata": {},
     "output_type": "execute_result"
    }
   ],
   "source": [
    "stack_of_plates"
   ]
  },
  {
   "cell_type": "code",
   "execution_count": 49,
   "id": "e640b4e5-8be2-42dd-b088-597d06e8deb0",
   "metadata": {},
   "outputs": [],
   "source": [
    "#queue(optional)"
   ]
  },
  {
   "cell_type": "code",
   "execution_count": null,
   "id": "5ec766c1-9333-40bb-b709-f1dea09de4ce",
   "metadata": {},
   "outputs": [],
   "source": [
    "#first in first out"
   ]
  },
  {
   "cell_type": "code",
   "execution_count": 69,
   "id": "8a0a79f8-02e1-4872-a83e-7534218556c7",
   "metadata": {},
   "outputs": [
    {
     "ename": "TypeError",
     "evalue": "'tuple' object is not callable",
     "output_type": "error",
     "traceback": [
      "\u001b[0;31m---------------------------------------------------------------------------\u001b[0m",
      "\u001b[0;31mTypeError\u001b[0m                                 Traceback (most recent call last)",
      "Cell \u001b[0;32mIn[69], line 2\u001b[0m\n\u001b[1;32m      1\u001b[0m deque \u001b[38;5;241m=\u001b[39m ()\n\u001b[0;32m----> 2\u001b[0m checkout \u001b[38;5;241m=\u001b[39m [\u001b[43mdeque\u001b[49m\u001b[43m(\u001b[49m\u001b[43m)\u001b[49m]\n\u001b[1;32m      3\u001b[0m checkout\u001b[38;5;241m.\u001b[39mappend(\u001b[38;5;124m\"\u001b[39m\u001b[38;5;124mcos1\u001b[39m\u001b[38;5;124m\"\u001b[39m)\n\u001b[1;32m      4\u001b[0m checkout\u001b[38;5;241m.\u001b[39mappend(\u001b[38;5;124m\"\u001b[39m\u001b[38;5;124mcos2\u001b[39m\u001b[38;5;124m\"\u001b[39m)\n",
      "\u001b[0;31mTypeError\u001b[0m: 'tuple' object is not callable"
     ]
    }
   ],
   "source": [
    "deque = ()\n",
    "checkout = [deque()]\n",
    "checkout.append(\"cos1\")\n",
    "checkout.append(\"cos2\")\n",
    "checkout.append(\"cos3\")\n",
    "checkout.append(\"cos4\")\n",
    "checkout"
   ]
  },
  {
   "cell_type": "code",
   "execution_count": 68,
   "id": "fb64c7ba-996c-417c-9a7d-7601b6e3f2e2",
   "metadata": {},
   "outputs": [
    {
     "ename": "AttributeError",
     "evalue": "'list' object has no attribute 'popleft'",
     "output_type": "error",
     "traceback": [
      "\u001b[0;31m---------------------------------------------------------------------------\u001b[0m",
      "\u001b[0;31mAttributeError\u001b[0m                            Traceback (most recent call last)",
      "Cell \u001b[0;32mIn[68], line 2\u001b[0m\n\u001b[1;32m      1\u001b[0m \u001b[38;5;28;01mwhile\u001b[39;00m checkout:\n\u001b[0;32m----> 2\u001b[0m     customer \u001b[38;5;241m=\u001b[39m \u001b[43mcheckout\u001b[49m\u001b[38;5;241;43m.\u001b[39;49m\u001b[43mpopleft\u001b[49m()\n\u001b[1;32m      3\u001b[0m     \u001b[38;5;28mprint\u001b[39m(\u001b[38;5;124m\"\u001b[39m\u001b[38;5;124mserving\u001b[39m\u001b[38;5;124m\"\u001b[39m,customer)\n",
      "\u001b[0;31mAttributeError\u001b[0m: 'list' object has no attribute 'popleft'"
     ]
    }
   ],
   "source": [
    "while checkout:\n",
    "    customer = checkout.popleft()\n",
    "    print(\"serving\",customer)"
   ]
  },
  {
   "cell_type": "code",
   "execution_count": 1,
   "id": "ae065987-d269-4852-81b8-ece17dead149",
   "metadata": {},
   "outputs": [],
   "source": [
    "d = {'name': ['Sanjay', \"Ajay\", 1, 2], 'email': 'aj@gmail.com', 'contact': (1234, 678)}"
   ]
  },
  {
   "cell_type": "code",
   "execution_count": 2,
   "id": "046f7a8d-4abd-4195-b5a5-0010bfd1252f",
   "metadata": {},
   "outputs": [],
   "source": [
    "d[\"address\"]=\"gujarat unna 362560\""
   ]
  },
  {
   "cell_type": "code",
   "execution_count": 3,
   "id": "eb0ecd5b-d8a5-4b79-9462-65c1a1ffd417",
   "metadata": {},
   "outputs": [
    {
     "data": {
      "text/plain": [
       "{'name': ['Sanjay', 'Ajay', 1, 2],\n",
       " 'email': 'aj@gmail.com',\n",
       " 'contact': (1234, 678),\n",
       " 'address': 'gujarat unna 362560'}"
      ]
     },
     "execution_count": 3,
     "metadata": {},
     "output_type": "execute_result"
    }
   ],
   "source": [
    "d"
   ]
  },
  {
   "cell_type": "code",
   "execution_count": 4,
   "id": "241215ce-113b-447b-8b05-4e502a0fb641",
   "metadata": {},
   "outputs": [
    {
     "data": {
      "text/plain": [
       "{1: ('a', 'b', 'c'), 2: ('a', 'b', 'c'), 3: ('a', 'b', 'c')}"
      ]
     },
     "execution_count": 4,
     "metadata": {},
     "output_type": "execute_result"
    }
   ],
   "source": [
    "d.fromkeys((1, 2, 3), (\"a\", \"b\", \"c\"))"
   ]
  },
  {
   "cell_type": "code",
   "execution_count": 7,
   "id": "1fc8126c-6f7b-414d-bfae-295fba199216",
   "metadata": {},
   "outputs": [
    {
     "data": {
      "text/plain": [
       "builtin_function_or_method"
      ]
     },
     "execution_count": 7,
     "metadata": {},
     "output_type": "execute_result"
    }
   ],
   "source": [
    "type(d.fromkeys)"
   ]
  },
  {
   "cell_type": "code",
   "execution_count": 8,
   "id": "84638d1e-f29c-4d6d-bf5c-b0793c23d63f",
   "metadata": {},
   "outputs": [
    {
     "data": {
      "text/plain": [
       "dict"
      ]
     },
     "execution_count": 8,
     "metadata": {},
     "output_type": "execute_result"
    }
   ],
   "source": [
    "type(d)"
   ]
  },
  {
   "cell_type": "code",
   "execution_count": 10,
   "id": "c777fef7-112d-4139-96c1-52b59de6f511",
   "metadata": {},
   "outputs": [
    {
     "name": "stdout",
     "output_type": "stream",
     "text": [
      "('Arun', 80)\n",
      "('Ajay', 95)\n",
      "('Bijay', 100)\n"
     ]
    }
   ],
   "source": [
    "#dictionary comprehension\n",
    "\n",
    "#zip function\n",
    "students = [\"Arun\", \"Ajay\", \"Bijay\"]\n",
    "marks = [80, 95, 100]\n",
    "\n",
    "for i in zip(students, marks):#zip it willjust put both of the value together one by one \n",
    "    print(i)"
   ]
  },
  {
   "cell_type": "code",
   "execution_count": 11,
   "id": "be7bb9b7-cadd-442b-b474-ffd683cce1fc",
   "metadata": {},
   "outputs": [],
   "source": [
    "#store the above info in key value pair>> dict"
   ]
  },
  {
   "cell_type": "code",
   "execution_count": 12,
   "id": "96eed7fb-89dc-489b-996a-22c823ddf096",
   "metadata": {},
   "outputs": [],
   "source": [
    "students_marks = {}\n",
    "for student, mark in zip(students, marks):\n",
    "    students_marks[student] = mark"
   ]
  },
  {
   "cell_type": "code",
   "execution_count": 13,
   "id": "cb7011da-35ad-4ecb-837b-7f796526bd5a",
   "metadata": {},
   "outputs": [
    {
     "data": {
      "text/plain": [
       "{'Arun': 80, 'Ajay': 95, 'Bijay': 100}"
      ]
     },
     "execution_count": 13,
     "metadata": {},
     "output_type": "execute_result"
    }
   ],
   "source": [
    "students_marks"
   ]
  },
  {
   "cell_type": "code",
   "execution_count": 14,
   "id": "afc8b3eb-81b8-41bb-8d76-d4d246073789",
   "metadata": {},
   "outputs": [
    {
     "data": {
      "text/plain": [
       "{'Arun': 80, 'Ajay': 95, 'Bijay': 100}"
      ]
     },
     "execution_count": 14,
     "metadata": {},
     "output_type": "execute_result"
    }
   ],
   "source": [
    "#using dictionary comprehension method\n",
    "students = [\"Arun\", \"Ajay\", \"Bijay\"]\n",
    "marks = [80, 95, 100]\n",
    "{student:marks for student, marks in zip(students, marks)}"
   ]
  },
  {
   "cell_type": "code",
   "execution_count": 15,
   "id": "231cc5eb-6840-405e-b210-09a0b1f7aba0",
   "metadata": {},
   "outputs": [],
   "source": [
    "#use case\n",
    "user_id = [1, 2, 3]\n",
    "user_name = [\"a21\", \"a22\", \"a23\"]"
   ]
  },
  {
   "cell_type": "code",
   "execution_count": 17,
   "id": "7db6d1c3-07f2-4800-b21b-60fa5f564ce8",
   "metadata": {},
   "outputs": [
    {
     "data": {
      "text/plain": [
       "{1: 'a21', 2: 'a22', 3: 'a23'}"
      ]
     },
     "execution_count": 17,
     "metadata": {},
     "output_type": "execute_result"
    }
   ],
   "source": [
    "{u_id:use_name for u_id, use_name in zip(user_id,user_name)}"
   ]
  },
  {
   "cell_type": "code",
   "execution_count": 19,
   "id": "1e9a0f4e-25d1-437c-8e1f-e8a97aba5e25",
   "metadata": {},
   "outputs": [],
   "source": [
    "employee_records = {\n",
    "    'E001': {'name': 'John Doe', 'department': 'Engineering', 'salary': 75000},\n",
    "    'E002': {'name': 'Jane Smith', 'department': 'Marketing', 'salary': 65000},\n",
    "    'E003': {'name': 'David Lee', 'department': 'Finance', 'salary': 80000}\n",
    "}"
   ]
  },
  {
   "cell_type": "code",
   "execution_count": 20,
   "id": "738836d5-5d39-46ba-9092-a4f33c418039",
   "metadata": {},
   "outputs": [
    {
     "data": {
      "text/plain": [
       "dict"
      ]
     },
     "execution_count": 20,
     "metadata": {},
     "output_type": "execute_result"
    }
   ],
   "source": [
    "type(employee_records)"
   ]
  },
  {
   "cell_type": "code",
   "execution_count": 21,
   "id": "1abd3419-b80f-492c-a7bc-600aeb5e4f9c",
   "metadata": {},
   "outputs": [
    {
     "data": {
      "text/plain": [
       "{'name': 'John Doe', 'department': 'Engineering', 'salary': 75000}"
      ]
     },
     "execution_count": 21,
     "metadata": {},
     "output_type": "execute_result"
    }
   ],
   "source": [
    "employee_records.get(\"E001\")"
   ]
  },
  {
   "cell_type": "code",
   "execution_count": 22,
   "id": "93d5180b-bc3e-4778-8d21-5e1efdba7f1f",
   "metadata": {},
   "outputs": [
    {
     "data": {
      "text/plain": [
       "{'name': 'John Doe', 'department': 'Engineering', 'salary': 75000}"
      ]
     },
     "execution_count": 22,
     "metadata": {},
     "output_type": "execute_result"
    }
   ],
   "source": [
    "employee_records[\"E001\"]"
   ]
  },
  {
   "cell_type": "code",
   "execution_count": 23,
   "id": "152060cb-4da9-44a9-9b6b-dc2910208174",
   "metadata": {},
   "outputs": [],
   "source": [
    "restaurant_menu = {\n",
    "    'Dish1': {'name': 'Pasta Carbonara', 'price': 15.99, 'description': 'Creamy pasta with bacon and parmesan'},\n",
    "    'Dish2': {'name': 'Chicken Caesar Salad', 'price': 12.50, 'description': 'Grilled chicken with romaine lettuce and Caesar dressing'},\n",
    "    'Dish3': {'name': 'Margherita Pizza', 'price': 14.00, 'description': 'Pizza topped with tomato, mozzarella, and basil'}\n",
    "}"
   ]
  },
  {
   "cell_type": "code",
   "execution_count": 24,
   "id": "78508f78-6dca-4bac-9208-5dc697619035",
   "metadata": {},
   "outputs": [
    {
     "data": {
      "text/plain": [
       "{'name': 'Pasta Carbonara',\n",
       " 'price': 15.99,\n",
       " 'description': 'Creamy pasta with bacon and parmesan'}"
      ]
     },
     "execution_count": 24,
     "metadata": {},
     "output_type": "execute_result"
    }
   ],
   "source": [
    "restaurant_menu[\"Dish1\"]"
   ]
  },
  {
   "cell_type": "code",
   "execution_count": 25,
   "id": "b673ddcf-483b-4fe9-b447-9ad390efba12",
   "metadata": {},
   "outputs": [
    {
     "data": {
      "text/plain": [
       "dict_keys(['Dish1', 'Dish2', 'Dish3'])"
      ]
     },
     "execution_count": 25,
     "metadata": {},
     "output_type": "execute_result"
    }
   ],
   "source": [
    "restaurant_menu.keys()"
   ]
  },
  {
   "cell_type": "code",
   "execution_count": 27,
   "id": "dd12af36-3dff-4564-9dc5-28b19ac42ef1",
   "metadata": {},
   "outputs": [
    {
     "data": {
      "text/plain": [
       "dict_values([{'name': 'Pasta Carbonara', 'price': 15.99, 'description': 'Creamy pasta with bacon and parmesan'}, {'name': 'Chicken Caesar Salad', 'price': 12.5, 'description': 'Grilled chicken with romaine lettuce and Caesar dressing'}, {'name': 'Margherita Pizza', 'price': 14.0, 'description': 'Pizza topped with tomato, mozzarella, and basil'}])"
      ]
     },
     "execution_count": 27,
     "metadata": {},
     "output_type": "execute_result"
    }
   ],
   "source": [
    "restaurant_menu.values()"
   ]
  },
  {
   "cell_type": "code",
   "execution_count": 30,
   "id": "e220574c-c3b6-4e99-8a37-81aee421308e",
   "metadata": {},
   "outputs": [
    {
     "data": {
      "text/plain": [
       "dict_items([('Dish1', {'name': 'Pasta Carbonara', 'price': 15.99, 'description': 'Creamy pasta with bacon and parmesan'}), ('Dish2', {'name': 'Chicken Caesar Salad', 'price': 12.5, 'description': 'Grilled chicken with romaine lettuce and Caesar dressing'}), ('Dish3', {'name': 'Margherita Pizza', 'price': 14.0, 'description': 'Pizza topped with tomato, mozzarella, and basil'})])"
      ]
     },
     "execution_count": 30,
     "metadata": {},
     "output_type": "execute_result"
    }
   ],
   "source": [
    "restaurant_menu.items()"
   ]
  },
  {
   "cell_type": "code",
   "execution_count": 32,
   "id": "0ada73e9-4a52-441e-8047-070d23ca6d55",
   "metadata": {},
   "outputs": [
    {
     "name": "stdout",
     "output_type": "stream",
     "text": [
      "Dish1 {'name': 'Pasta Carbonara', 'price': 15.99, 'description': 'Creamy pasta with bacon and parmesan'}\n",
      "Dish2 {'name': 'Chicken Caesar Salad', 'price': 12.5, 'description': 'Grilled chicken with romaine lettuce and Caesar dressing'}\n",
      "Dish3 {'name': 'Margherita Pizza', 'price': 14.0, 'description': 'Pizza topped with tomato, mozzarella, and basil'}\n"
     ]
    }
   ],
   "source": [
    "for key, value in restaurant_menu.items():#you can iterate the value bot key and value\n",
    "    print(key,value)"
   ]
  },
  {
   "cell_type": "code",
   "execution_count": 34,
   "id": "810113ec-05ab-4160-8112-ab8de65ca1a0",
   "metadata": {},
   "outputs": [
    {
     "name": "stdout",
     "output_type": "stream",
     "text": [
      "Dish1\n",
      "Dish2\n",
      "Dish3\n"
     ]
    }
   ],
   "source": [
    "#itearte over only keys\n",
    "for key  in restaurant_menu.keys():\n",
    "    print(key)"
   ]
  },
  {
   "cell_type": "code",
   "execution_count": 35,
   "id": "3054bb02-e1a1-41da-af70-55353b448092",
   "metadata": {},
   "outputs": [
    {
     "name": "stdout",
     "output_type": "stream",
     "text": [
      "{'name': 'Pasta Carbonara', 'price': 15.99, 'description': 'Creamy pasta with bacon and parmesan'}\n",
      "{'name': 'Chicken Caesar Salad', 'price': 12.5, 'description': 'Grilled chicken with romaine lettuce and Caesar dressing'}\n",
      "{'name': 'Margherita Pizza', 'price': 14.0, 'description': 'Pizza topped with tomato, mozzarella, and basil'}\n"
     ]
    }
   ],
   "source": [
    "for value in restaurant_menu.values():\n",
    "    print(value)"
   ]
  },
  {
   "cell_type": "code",
   "execution_count": null,
   "id": "4dcf0344-37b7-44f7-81ce-6bbb755e9971",
   "metadata": {},
   "outputs": [],
   "source": []
  }
 ],
 "metadata": {
  "kernelspec": {
   "display_name": "Python 3 (ipykernel)",
   "language": "python",
   "name": "python3"
  },
  "language_info": {
   "codemirror_mode": {
    "name": "ipython",
    "version": 3
   },
   "file_extension": ".py",
   "mimetype": "text/x-python",
   "name": "python",
   "nbconvert_exporter": "python",
   "pygments_lexer": "ipython3",
   "version": "3.10.8"
  }
 },
 "nbformat": 4,
 "nbformat_minor": 5
}
