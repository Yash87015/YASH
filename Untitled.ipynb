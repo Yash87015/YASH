{
 "cells": [
  {
   "cell_type": "code",
   "execution_count": 5,
   "id": "021133a6-cf39-4083-9711-189ed35c6ad1",
   "metadata": {},
   "outputs": [
    {
     "name": "stdout",
     "output_type": "stream",
     "text": [
      "*******/\n",
      "******/\n",
      "*****/\n",
      "****/\n",
      "***/\n",
      "**/\n",
      "*/\n",
      "/\n",
      "/\n",
      "/\n"
     ]
    }
   ],
   "source": [
    "for i in range(0,10):\n",
    "    for j in range(i+1,8):\n",
    "        print(\"*\",end=\"\")\n",
    "    print(\"/\")"
   ]
  },
  {
   "cell_type": "code",
   "execution_count": null,
   "id": "7229034a-2726-4dee-850c-79c64f873884",
   "metadata": {},
   "outputs": [],
   "source": []
  }
 ],
 "metadata": {
  "kernelspec": {
   "display_name": "Python 3 (ipykernel)",
   "language": "python",
   "name": "python3"
  },
  "language_info": {
   "codemirror_mode": {
    "name": "ipython",
    "version": 3
   },
   "file_extension": ".py",
   "mimetype": "text/x-python",
   "name": "python",
   "nbconvert_exporter": "python",
   "pygments_lexer": "ipython3",
   "version": "3.10.8"
  }
 },
 "nbformat": 4,
 "nbformat_minor": 5
}
