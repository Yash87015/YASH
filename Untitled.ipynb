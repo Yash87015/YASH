{
 "cells": [
  {
   "cell_type": "code",
   "execution_count": 2,
   "id": "021133a6-cf39-4083-9711-189ed35c6ad1",
   "metadata": {},
   "outputs": [
    {
     "name": "stdout",
     "output_type": "stream",
     "text": [
      "*******\n",
      "******\n",
      "*****\n",
      "****\n",
      "***\n",
      "**\n",
      "*\n",
      "\n"
     ]
    }
   ],
   "source": [
    "for i in range(0,8):\n",
    "    for j in range(i+1,8):\n",
    "        print(\"*\",end=\"\")\n",
    "    print(\"\")"
   ]
  },
  {
   "cell_type": "code",
   "execution_count": 1,
   "id": "7229034a-2726-4dee-850c-79c64f873884",
   "metadata": {},
   "outputs": [
    {
     "ename": "SyntaxError",
     "evalue": "invalid syntax (2039195660.py, line 1)",
     "output_type": "error",
     "traceback": [
      "\u001b[0;36m  Cell \u001b[0;32mIn[1], line 1\u001b[0;36m\u001b[0m\n\u001b[0;31m    extra mile\u001b[0m\n\u001b[0m          ^\u001b[0m\n\u001b[0;31mSyntaxError\u001b[0m\u001b[0;31m:\u001b[0m invalid syntax\n"
     ]
    }
   ],
   "source": [
    "#extra mile"
   ]
  },
  {
   "cell_type": "code",
   "execution_count": 2,
   "id": "43db7a76-af24-4bab-a0c4-ca8126b9b66a",
   "metadata": {},
   "outputs": [],
   "source": [
    "song=[\"blackpink\",\"hollywood\",\"bollywood\",\"tamil\"]"
   ]
  },
  {
   "cell_type": "code",
   "execution_count": 3,
   "id": "57cb5b85-3acb-4316-a8dc-c94f1bef2fa8",
   "metadata": {},
   "outputs": [
    {
     "data": {
      "text/plain": [
       "['blackpink', 'hollywood', 'bollywood', 'tamil']"
      ]
     },
     "execution_count": 3,
     "metadata": {},
     "output_type": "execute_result"
    }
   ],
   "source": [
    "sorted(song,reverse = True,key = len)"
   ]
  },
  {
   "cell_type": "code",
   "execution_count": 6,
   "id": "2868fda1-44d5-4ab6-9b71-5227e90066e1",
   "metadata": {},
   "outputs": [
    {
     "data": {
      "text/plain": [
       "['tamil', 'hollywood', 'bollywood', 'blackpink']"
      ]
     },
     "execution_count": 6,
     "metadata": {},
     "output_type": "execute_result"
    }
   ],
   "source": [
    "sorted(song,reverse = True)"
   ]
  },
  {
   "cell_type": "code",
   "execution_count": 5,
   "id": "1ddddaf6-8f88-4328-8516-1d5e77580de3",
   "metadata": {},
   "outputs": [
    {
     "data": {
      "text/plain": [
       "['blackpink', 'hollywood', 'bollywood', 'tamil']"
      ]
     },
     "execution_count": 5,
     "metadata": {},
     "output_type": "execute_result"
    }
   ],
   "source": [
    "sorted(song,reverse = True,key = len)"
   ]
  },
  {
   "cell_type": "code",
   "execution_count": 7,
   "id": "25fa6d90-60a6-4f9f-93fe-d2f39b68b00a",
   "metadata": {},
   "outputs": [
    {
     "data": {
      "text/plain": [
       "['blackpink', 'hollywood', 'bollywood', 'tamil']"
      ]
     },
     "execution_count": 7,
     "metadata": {},
     "output_type": "execute_result"
    }
   ],
   "source": [
    "song"
   ]
  },
  {
   "cell_type": "code",
   "execution_count": null,
   "id": "7f187984-f77d-44e9-bd0d-8c6d2b995bd4",
   "metadata": {},
   "outputs": [],
   "source": []
  },
  {
   "cell_type": "code",
   "execution_count": null,
   "id": "4b142e64-a2c4-42b6-b700-f1d09545b299",
   "metadata": {},
   "outputs": [],
   "source": []
  },
  {
   "cell_type": "code",
   "execution_count": null,
   "id": "733f9c86-60a5-4cd1-9373-96dcb7143152",
   "metadata": {},
   "outputs": [],
   "source": []
  },
  {
   "cell_type": "code",
   "execution_count": null,
   "id": "e14c8a57-4168-46fc-bbc6-f5e7ee6e13a9",
   "metadata": {},
   "outputs": [],
   "source": []
  },
  {
   "cell_type": "code",
   "execution_count": null,
   "id": "ac6e1bed-a121-499b-a2d8-f11502350dea",
   "metadata": {},
   "outputs": [],
   "source": []
  },
  {
   "cell_type": "code",
   "execution_count": null,
   "id": "4cb96040-c821-4759-9966-2b8c27558070",
   "metadata": {},
   "outputs": [],
   "source": []
  },
  {
   "cell_type": "code",
   "execution_count": null,
   "id": "8d0036f4-00a4-4e7a-9e08-ae64fd1cdeb7",
   "metadata": {},
   "outputs": [],
   "source": []
  },
  {
   "cell_type": "code",
   "execution_count": null,
   "id": "0035820a-b301-4c4a-973b-d584271dfffd",
   "metadata": {},
   "outputs": [],
   "source": []
  },
  {
   "cell_type": "code",
   "execution_count": null,
   "id": "e68202b2-d906-41ca-970e-3eb160347513",
   "metadata": {},
   "outputs": [],
   "source": []
  }
 ],
 "metadata": {
  "kernelspec": {
   "display_name": "Python 3 (ipykernel)",
   "language": "python",
   "name": "python3"
  },
  "language_info": {
   "codemirror_mode": {
    "name": "ipython",
    "version": 3
   },
   "file_extension": ".py",
   "mimetype": "text/x-python",
   "name": "python",
   "nbconvert_exporter": "python",
   "pygments_lexer": "ipython3",
   "version": "3.10.8"
  }
 },
 "nbformat": 4,
 "nbformat_minor": 5
}
