{
 "cells": [
  {
   "cell_type": "code",
   "execution_count": null,
   "id": "9a999e33-3e2e-4e35-a421-85ca53e078db",
   "metadata": {},
   "outputs": [],
   "source": []
  },
  {
   "cell_type": "markdown",
   "id": "6d2bd9ca-bfd7-495b-8f89-3b04fab2efc6",
   "metadata": {},
   "source": [
    "why numpy? \n",
    "\n",
    "beacuse numpy has homogenous arry that why mathamatic computation is very fast thats why numpy use\n",
    "\n",
    "→ all the modules kept together is called package\n",
    "→ all maltiple package together is called as libray\n",
    "\n",
    "→ libray contain python packages and modules\n",
    "\n",
    "what is library?\n",
    "\n",
    "a library is a collaction of pri-written code, that is used to perform comman task"
   ]
  },
  {
   "cell_type": "markdown",
   "id": "e03067e7-39f0-43b9-a626-ed8066b6502f",
   "metadata": {},
   "source": [
    "# numpy"
   ]
  },
  {
   "cell_type": "markdown",
   "id": "10406696-c5d8-45f3-acd1-4f01ecc39cd5",
   "metadata": {},
   "source": [
    "numpy:-numerical python"
   ]
  },
  {
   "cell_type": "code",
   "execution_count": 2,
   "id": "74699cbd-e297-4d11-903b-fcfc798c7b60",
   "metadata": {},
   "outputs": [],
   "source": [
    "import numpy as np"
   ]
  },
  {
   "cell_type": "code",
   "execution_count": 6,
   "id": "4b9c4fe8-c73f-4a1a-8fe6-580734dc8abd",
   "metadata": {},
   "outputs": [
    {
     "data": {
      "text/plain": [
       "'1.23.5'"
      ]
     },
     "execution_count": 6,
     "metadata": {},
     "output_type": "execute_result"
    }
   ],
   "source": [
    "np.__version__"
   ]
  },
  {
   "cell_type": "markdown",
   "id": "cdf12ad8-e259-43df-9a10-f936f5e99e51",
   "metadata": {},
   "source": [
    "what is arange function?\n",
    "why numpy array is faster  compare to other data stucture?\n",
    "what is numpy array and matrix difference?\n",
    "how can you increase dimension?\n",
    "linear algebra?solve inverse , transpose "
   ]
  },
  {
   "cell_type": "code",
   "execution_count": null,
   "id": "d4fd6d10-96f4-44d9-baa2-726879e06cc4",
   "metadata": {},
   "outputs": [],
   "source": []
  }
 ],
 "metadata": {
  "kernelspec": {
   "display_name": "Python 3 (ipykernel)",
   "language": "python",
   "name": "python3"
  },
  "language_info": {
   "codemirror_mode": {
    "name": "ipython",
    "version": 3
   },
   "file_extension": ".py",
   "mimetype": "text/x-python",
   "name": "python",
   "nbconvert_exporter": "python",
   "pygments_lexer": "ipython3",
   "version": "3.10.8"
  }
 },
 "nbformat": 4,
 "nbformat_minor": 5
}
