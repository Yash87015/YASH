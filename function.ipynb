{
 "cells": [
  {
   "cell_type": "code",
   "execution_count": 1,
   "id": "940c986c-1488-4c87-9eb1-2a4df4c7e0c9",
   "metadata": {},
   "outputs": [],
   "source": [
    "import math as s#math is libray collation of funtion"
   ]
  },
  {
   "cell_type": "code",
   "execution_count": 2,
   "id": "d059d4ae-e28b-4703-97c5-44214e2025a7",
   "metadata": {},
   "outputs": [
    {
     "data": {
      "text/plain": [
       "7"
      ]
     },
     "execution_count": 2,
     "metadata": {},
     "output_type": "execute_result"
    }
   ],
   "source": [
    "s.ceil(6.5)"
   ]
  },
  {
   "cell_type": "code",
   "execution_count": 3,
   "id": "9bb6861c-fc73-4427-bf75-d7e43ab72047",
   "metadata": {},
   "outputs": [
    {
     "data": {
      "text/plain": [
       "6"
      ]
     },
     "execution_count": 3,
     "metadata": {},
     "output_type": "execute_result"
    }
   ],
   "source": [
    "s.floor(6.5)"
   ]
  },
  {
   "cell_type": "code",
   "execution_count": 4,
   "id": "ba96e7d4-0cc8-4210-9ab5-ce0fc71f6483",
   "metadata": {},
   "outputs": [],
   "source": [
    "#function>> inbuilt function\n",
    "#user defined function"
   ]
  },
  {
   "cell_type": "code",
   "execution_count": 24,
   "id": "bf2aba14-bfbc-4816-a2d3-b5e6c96e7278",
   "metadata": {},
   "outputs": [],
   "source": [
    "#return statment:-"
   ]
  },
  {
   "cell_type": "code",
   "execution_count": null,
   "id": "028d148f-7a90-4143-9876-ac277eda6804",
   "metadata": {},
   "outputs": [],
   "source": []
  },
  {
   "cell_type": "code",
   "execution_count": 5,
   "id": "406cdc5f-456c-4497-b4de-4177cd448184",
   "metadata": {},
   "outputs": [],
   "source": [
    "#function is a block of code which performs some specific task/computation\n",
    "#why function?>> functions are reusable, neat, clean and organised, saves your time"
   ]
  },
  {
   "cell_type": "code",
   "execution_count": 6,
   "id": "b45964c2-afa8-4be8-84ab-922054e7bf92",
   "metadata": {},
   "outputs": [],
   "source": [
    "#syntax of function\n",
    "#def func():\n",
    "    #do something>> body of function"
   ]
  },
  {
   "cell_type": "code",
   "execution_count": 9,
   "id": "8957f295-b4cc-4255-bf44-9f8069650dcd",
   "metadata": {},
   "outputs": [
    {
     "name": "stdout",
     "output_type": "stream",
     "text": [
      "Welcome to the office Rahul\n",
      "Welcome to the office Shyam\n",
      "Welcome to the office Anshika\n"
     ]
    }
   ],
   "source": [
    "print(\"Welcome to the office Rahul\")\n",
    "print(\"Welcome to the office Shyam\")\n",
    "print(\"Welcome to the office Anshika\")"
   ]
  },
  {
   "cell_type": "code",
   "execution_count": 10,
   "id": "14448372-cbbc-48a2-8eab-a5567b50eba4",
   "metadata": {},
   "outputs": [],
   "source": [
    "def greetings(): \n",
    "    print(\"Welcome to the office\")"
   ]
  },
  {
   "cell_type": "code",
   "execution_count": 11,
   "id": "3354383f-3851-48af-b1dd-dde7bad3c534",
   "metadata": {},
   "outputs": [
    {
     "name": "stdout",
     "output_type": "stream",
     "text": [
      "Welcome to the office\n"
     ]
    }
   ],
   "source": [
    "greetings()"
   ]
  },
  {
   "cell_type": "code",
   "execution_count": 12,
   "id": "e4d7241f-aee9-4118-801f-de479a4eeaa0",
   "metadata": {},
   "outputs": [],
   "source": [
    "def greetings(name): #passing a variable inside a function >> name is positional arguement\n",
    "    print(\"Welcome to the office\", name)"
   ]
  },
  {
   "cell_type": "code",
   "execution_count": 14,
   "id": "7af5f3b0-071d-4ea6-a410-902d66040cb6",
   "metadata": {},
   "outputs": [
    {
     "name": "stdout",
     "output_type": "stream",
     "text": [
      "Welcome to the office karan\n"
     ]
    }
   ],
   "source": [
    "greetings(\"karan\")"
   ]
  },
  {
   "cell_type": "code",
   "execution_count": 15,
   "id": "e2fb8a64-594f-4e6c-b60f-8b52f7ee8e93",
   "metadata": {},
   "outputs": [
    {
     "name": "stdout",
     "output_type": "stream",
     "text": [
      "Welcome to the office milan\n"
     ]
    }
   ],
   "source": [
    "greetings(\"milan\")"
   ]
  },
  {
   "cell_type": "code",
   "execution_count": 16,
   "id": "15552f2f-a48d-4fef-a69e-893ac5e66b90",
   "metadata": {},
   "outputs": [
    {
     "ename": "TypeError",
     "evalue": "greetings() missing 1 required positional argument: 'name'",
     "output_type": "error",
     "traceback": [
      "\u001b[0;31m---------------------------------------------------------------------------\u001b[0m",
      "\u001b[0;31mTypeError\u001b[0m                                 Traceback (most recent call last)",
      "Cell \u001b[0;32mIn[16], line 1\u001b[0m\n\u001b[0;32m----> 1\u001b[0m \u001b[43mgreetings\u001b[49m\u001b[43m(\u001b[49m\u001b[43m)\u001b[49m\n",
      "\u001b[0;31mTypeError\u001b[0m: greetings() missing 1 required positional argument: 'name'"
     ]
    }
   ],
   "source": [
    "greetings()#name is positional arguement #it means whaterever value pass you here function will understand this is name value # its means positiona its self\n",
    "#name is a argument"
   ]
  },
  {
   "cell_type": "code",
   "execution_count": 17,
   "id": "9a7ae36d-5b11-4685-90c9-343aaa297b3a",
   "metadata": {},
   "outputs": [],
   "source": [
    "def greet(ajay):\n",
    "    print(\"Welcome to the office\", ajay)"
   ]
  },
  {
   "cell_type": "code",
   "execution_count": 20,
   "id": "564f9ed3-263b-4125-82d9-049492167832",
   "metadata": {},
   "outputs": [
    {
     "name": "stdout",
     "output_type": "stream",
     "text": [
      "Welcome to the office ajay\n"
     ]
    }
   ],
   "source": [
    "greet(\"ajay\")"
   ]
  },
  {
   "cell_type": "code",
   "execution_count": 21,
   "id": "df9b110d-d840-4f8d-b93b-74422fbe9156",
   "metadata": {},
   "outputs": [
    {
     "name": "stdout",
     "output_type": "stream",
     "text": [
      "Welcome to the office milan\n"
     ]
    }
   ],
   "source": [
    "greet(\"milan\")"
   ]
  },
  {
   "cell_type": "code",
   "execution_count": 22,
   "id": "9dfdb8b6-d444-451e-9a98-18d6635a5597",
   "metadata": {},
   "outputs": [
    {
     "name": "stdout",
     "output_type": "stream",
     "text": [
      "This is my first function\n"
     ]
    }
   ],
   "source": [
    "def func():\n",
    "    print(\"This is my first function\")\n",
    "    \n",
    "func()"
   ]
  },
  {
   "cell_type": "code",
   "execution_count": 6,
   "id": "0d727116-8263-422c-9b95-ebdfb8151eda",
   "metadata": {},
   "outputs": [
    {
     "data": {
      "text/plain": [
       "'This is my first function in Python'"
      ]
     },
     "execution_count": 6,
     "metadata": {},
     "output_type": "execute_result"
    }
   ],
   "source": [
    "\"This is my first function\" + \" in Python\""
   ]
  },
  {
   "cell_type": "code",
   "execution_count": 56,
   "id": "e32e90c5-6c12-454b-9f5d-37188e958aa2",
   "metadata": {},
   "outputs": [
    {
     "ename": "TypeError",
     "evalue": "can only concatenate tuple (not \"str\") to tuple",
     "output_type": "error",
     "traceback": [
      "\u001b[0;31m---------------------------------------------------------------------------\u001b[0m",
      "\u001b[0;31mTypeError\u001b[0m                                 Traceback (most recent call last)",
      "Cell \u001b[0;32mIn[56], line 1\u001b[0m\n\u001b[0;32m----> 1\u001b[0m \u001b[43mfunc\u001b[49m\u001b[43m(\u001b[49m\u001b[43m)\u001b[49m\u001b[43m \u001b[49m\u001b[38;5;241;43m+\u001b[39;49m\u001b[43m \u001b[49m\u001b[38;5;124;43m\"\u001b[39;49m\u001b[38;5;124;43min Python\u001b[39;49m\u001b[38;5;124;43m\"\u001b[39;49m\u001b[38;5;66;03m#practice google colab here show different error\u001b[39;00m\n",
      "\u001b[0;31mTypeError\u001b[0m: can only concatenate tuple (not \"str\") to tuple"
     ]
    }
   ],
   "source": [
    "func() + \"in Python\"#practice google colab here show different error"
   ]
  },
  {
   "cell_type": "code",
   "execution_count": 21,
   "id": "2bd00a5e-57f3-4e69-9096-10770b2c8309",
   "metadata": {},
   "outputs": [
    {
     "data": {
      "text/plain": [
       "'This is my first function in Python'"
      ]
     },
     "execution_count": 21,
     "metadata": {},
     "output_type": "execute_result"
    }
   ],
   "source": [
    "def func():#return>> output of a function\n",
    "                               #do something\n",
    "    return\"This is my first function\"\n",
    "\n",
    "func() + \" in Python\""
   ]
  },
  {
   "cell_type": "code",
   "execution_count": 41,
   "id": "81635276-02c9-4bf5-9c62-621389741aa0",
   "metadata": {},
   "outputs": [],
   "source": [
    "def func():\n",
    "    return \"this is my first function\", 1, 2.2, True, 3+7j"
   ]
  },
  {
   "cell_type": "code",
   "execution_count": 33,
   "id": "a55bf889-c0a0-4aab-81e6-f9c64e286e4a",
   "metadata": {},
   "outputs": [
    {
     "data": {
      "text/plain": [
       "('this is my first function', 1, 2.2, True, (3+7j))"
      ]
     },
     "execution_count": 33,
     "metadata": {},
     "output_type": "execute_result"
    }
   ],
   "source": [
    "func()"
   ]
  },
  {
   "cell_type": "code",
   "execution_count": 34,
   "id": "3c683ca7-11ab-4386-9f9a-1ba76b2a3016",
   "metadata": {},
   "outputs": [
    {
     "data": {
      "text/plain": [
       "['ysaj iwjnec', True, (5+8j), 0.75]"
      ]
     },
     "execution_count": 34,
     "metadata": {},
     "output_type": "execute_result"
    }
   ],
   "source": [
    "def func():\n",
    "    return [\"ysaj iwjnec\" , True , 5+8j, 0.75]\n",
    "func()"
   ]
  },
  {
   "cell_type": "code",
   "execution_count": 35,
   "id": "dce869c9-bb26-4f00-a168-c0cef89418af",
   "metadata": {},
   "outputs": [
    {
     "data": {
      "text/plain": [
       "('ysaj iwjnec', True, (5+8j), 0.75)"
      ]
     },
     "execution_count": 35,
     "metadata": {},
     "output_type": "execute_result"
    }
   ],
   "source": [
    "def func():\n",
    "    return (\"ysaj iwjnec\" , True , 5+8j, 0.75)\n",
    "func()"
   ]
  },
  {
   "cell_type": "code",
   "execution_count": 36,
   "id": "0aee979e-17b5-4a51-843d-975446d64443",
   "metadata": {},
   "outputs": [
    {
     "data": {
      "text/plain": [
       "tuple"
      ]
     },
     "execution_count": 36,
     "metadata": {},
     "output_type": "execute_result"
    }
   ],
   "source": [
    "a = func()\n",
    "type(a)"
   ]
  },
  {
   "cell_type": "code",
   "execution_count": 48,
   "id": "5e1e9c32-83dc-439d-b2d8-a53ac9730e71",
   "metadata": {},
   "outputs": [],
   "source": [
    "a, b, c, d, e = func()"
   ]
  },
  {
   "cell_type": "code",
   "execution_count": 49,
   "id": "29024bec-a4b0-4d1c-af6b-0bc4e3a2f8a3",
   "metadata": {},
   "outputs": [
    {
     "data": {
      "text/plain": [
       "'this is my first function'"
      ]
     },
     "execution_count": 49,
     "metadata": {},
     "output_type": "execute_result"
    }
   ],
   "source": [
    "a\n"
   ]
  },
  {
   "cell_type": "code",
   "execution_count": 50,
   "id": "bfb1fa76-b5d2-4a56-a92c-e0a7ab6c0ff5",
   "metadata": {},
   "outputs": [
    {
     "data": {
      "text/plain": [
       "1"
      ]
     },
     "execution_count": 50,
     "metadata": {},
     "output_type": "execute_result"
    }
   ],
   "source": [
    "b"
   ]
  },
  {
   "cell_type": "code",
   "execution_count": 51,
   "id": "03a29e15-de1b-4832-8389-ace3bfd88106",
   "metadata": {},
   "outputs": [
    {
     "data": {
      "text/plain": [
       "2.2"
      ]
     },
     "execution_count": 51,
     "metadata": {},
     "output_type": "execute_result"
    }
   ],
   "source": [
    "c"
   ]
  },
  {
   "cell_type": "code",
   "execution_count": 52,
   "id": "ead90180-ac86-4fc6-83a3-597deca5dc39",
   "metadata": {},
   "outputs": [
    {
     "data": {
      "text/plain": [
       "True"
      ]
     },
     "execution_count": 52,
     "metadata": {},
     "output_type": "execute_result"
    }
   ],
   "source": [
    "d"
   ]
  },
  {
   "cell_type": "code",
   "execution_count": 53,
   "id": "9a851775-92b0-4aaa-8000-6a7e2e4ee769",
   "metadata": {},
   "outputs": [
    {
     "data": {
      "text/plain": [
       "(3+7j)"
      ]
     },
     "execution_count": 53,
     "metadata": {},
     "output_type": "execute_result"
    }
   ],
   "source": [
    "e"
   ]
  },
  {
   "cell_type": "code",
   "execution_count": 54,
   "id": "10aa9974-f61a-4087-983a-dcf9d53398d7",
   "metadata": {},
   "outputs": [
    {
     "ename": "ValueError",
     "evalue": "too many values to unpack (expected 3)",
     "output_type": "error",
     "traceback": [
      "\u001b[0;31m---------------------------------------------------------------------------\u001b[0m",
      "\u001b[0;31mValueError\u001b[0m                                Traceback (most recent call last)",
      "Cell \u001b[0;32mIn[54], line 1\u001b[0m\n\u001b[0;32m----> 1\u001b[0m a ,b, c \u001b[38;5;241m=\u001b[39m func()\n",
      "\u001b[0;31mValueError\u001b[0m: too many values to unpack (expected 3)"
     ]
    }
   ],
   "source": [
    "a ,b, c = func()"
   ]
  },
  {
   "cell_type": "code",
   "execution_count": 57,
   "id": "ae5484bd-f5ef-4217-b019-47202551e3a1",
   "metadata": {},
   "outputs": [
    {
     "data": {
      "text/plain": [
       "('this is my first function', 1, 2.2, True, (3+7j))"
      ]
     },
     "execution_count": 57,
     "metadata": {},
     "output_type": "execute_result"
    }
   ],
   "source": [
    "a = func()\n",
    "a"
   ]
  },
  {
   "cell_type": "code",
   "execution_count": 58,
   "id": "8064dccc-622d-40f8-97d7-f38a9ee59121",
   "metadata": {},
   "outputs": [
    {
     "data": {
      "text/plain": [
       "1"
      ]
     },
     "execution_count": 58,
     "metadata": {},
     "output_type": "execute_result"
    }
   ],
   "source": [
    "a[1]"
   ]
  },
  {
   "cell_type": "code",
   "execution_count": 59,
   "id": "8b59ce24-b174-44c8-8b86-62e25a3d6e59",
   "metadata": {},
   "outputs": [
    {
     "data": {
      "text/plain": [
       "'this is my first function'"
      ]
     },
     "execution_count": 59,
     "metadata": {},
     "output_type": "execute_result"
    }
   ],
   "source": [
    "a[0]"
   ]
  },
  {
   "cell_type": "code",
   "execution_count": 60,
   "id": "49d0a47d-2783-4fc5-becb-85c0620a60ec",
   "metadata": {},
   "outputs": [],
   "source": [
    "def func():\n",
    "    calc = 2+3+6*5\n",
    "    return calc"
   ]
  },
  {
   "cell_type": "code",
   "execution_count": 61,
   "id": "6e970411-e0ad-4ec3-89d6-a14c9cee24b1",
   "metadata": {},
   "outputs": [
    {
     "data": {
      "text/plain": [
       "35"
      ]
     },
     "execution_count": 61,
     "metadata": {},
     "output_type": "execute_result"
    }
   ],
   "source": [
    "func()"
   ]
  },
  {
   "cell_type": "code",
   "execution_count": 63,
   "id": "2398b1cc-8dae-46f0-9e56-bf1e50e96f41",
   "metadata": {},
   "outputs": [
    {
     "data": {
      "text/plain": [
       "int"
      ]
     },
     "execution_count": 63,
     "metadata": {},
     "output_type": "execute_result"
    }
   ],
   "source": [
    "type(func())"
   ]
  },
  {
   "cell_type": "code",
   "execution_count": 64,
   "id": "390ad1ed-be4e-4574-8c60-563e5749db4f",
   "metadata": {},
   "outputs": [],
   "source": [
    "def square_no(a): #a is called as an arguement\n",
    "    return a*a"
   ]
  },
  {
   "cell_type": "code",
   "execution_count": 65,
   "id": "0125df17-c37a-4d75-b8be-2f4f6c3d6523",
   "metadata": {},
   "outputs": [
    {
     "data": {
      "text/plain": [
       "81"
      ]
     },
     "execution_count": 65,
     "metadata": {},
     "output_type": "execute_result"
    }
   ],
   "source": [
    "square_no(9)"
   ]
  },
  {
   "cell_type": "code",
   "execution_count": 70,
   "id": "929b6c05-a061-4186-aae4-276d5e7c45f8",
   "metadata": {},
   "outputs": [],
   "source": [
    "#a is argument you can change the name any charater #suare_no also a varible that you can change anthing you want to know"
   ]
  },
  {
   "cell_type": "code",
   "execution_count": 67,
   "id": "ebe65156-4855-471b-b232-5edcffaf83c0",
   "metadata": {},
   "outputs": [
    {
     "data": {
      "text/plain": [
       "11236"
      ]
     },
     "execution_count": 67,
     "metadata": {},
     "output_type": "execute_result"
    }
   ],
   "source": [
    "def square_no(args):\n",
    "    return args*args\n",
    "\n",
    "square_no(106)"
   ]
  },
  {
   "cell_type": "code",
   "execution_count": 68,
   "id": "be85351b-1130-478b-ac05-a1b2866ac2ca",
   "metadata": {},
   "outputs": [],
   "source": [
    "def addition(a, b):\n",
    "    return a+b"
   ]
  },
  {
   "cell_type": "code",
   "execution_count": 71,
   "id": "1eec7770-98be-4d38-b5e4-74b0812bdc24",
   "metadata": {},
   "outputs": [
    {
     "data": {
      "text/plain": [
       "13"
      ]
     },
     "execution_count": 71,
     "metadata": {},
     "output_type": "execute_result"
    }
   ],
   "source": [
    "addition(5,8)"
   ]
  },
  {
   "cell_type": "code",
   "execution_count": 72,
   "id": "7139f322-cada-488f-acc4-a4fc63710db6",
   "metadata": {},
   "outputs": [
    {
     "data": {
      "text/plain": [
       "'pwskills'"
      ]
     },
     "execution_count": 72,
     "metadata": {},
     "output_type": "execute_result"
    }
   ],
   "source": [
    "addition(\"pw\", \"skills\")"
   ]
  },
  {
   "cell_type": "code",
   "execution_count": 73,
   "id": "51f50b6b-0ce0-4f3c-8463-7a27086ca07f",
   "metadata": {},
   "outputs": [
    {
     "data": {
      "text/plain": [
       "[1, 2, 3, 4, 5, 6]"
      ]
     },
     "execution_count": 73,
     "metadata": {},
     "output_type": "execute_result"
    }
   ],
   "source": [
    "addition([1, 2, 3], [4, 5, 6])"
   ]
  },
  {
   "cell_type": "code",
   "execution_count": 74,
   "id": "020be1c1-edd9-4c77-8b8f-1e884b7d3b99",
   "metadata": {},
   "outputs": [
    {
     "data": {
      "text/plain": [
       "'skillspw'"
      ]
     },
     "execution_count": 74,
     "metadata": {},
     "output_type": "execute_result"
    }
   ],
   "source": [
    "addition(\"skills\", \"pw\") "
   ]
  },
  {
   "cell_type": "code",
   "execution_count": 75,
   "id": "d27ed7fc-6c1c-43fe-ab8c-1b56fbf17b88",
   "metadata": {},
   "outputs": [
    {
     "data": {
      "text/plain": [
       "'pwskills'"
      ]
     },
     "execution_count": 75,
     "metadata": {},
     "output_type": "execute_result"
    }
   ],
   "source": [
    "# a and b are positional arguements>> it maintains order\n",
    "\n",
    "\n",
    "addition(b=\"skills\", a=\"pw\") "
   ]
  },
  {
   "cell_type": "code",
   "execution_count": 76,
   "id": "5fe3a29e-1766-4c5f-863f-43f2a82c558a",
   "metadata": {},
   "outputs": [],
   "source": [
    "def sum1(a, b, c):\n",
    "    return a+b+c"
   ]
  },
  {
   "cell_type": "code",
   "execution_count": 77,
   "id": "ef608a43-fab7-4d87-adac-83bd0792c761",
   "metadata": {},
   "outputs": [
    {
     "data": {
      "text/plain": [
       "17"
      ]
     },
     "execution_count": 77,
     "metadata": {},
     "output_type": "execute_result"
    }
   ],
   "source": [
    "sum1(4, 8, 5)"
   ]
  },
  {
   "cell_type": "code",
   "execution_count": 78,
   "id": "ef4259c6-34d7-4e65-a891-da0d34c88247",
   "metadata": {},
   "outputs": [],
   "source": [
    "#default argement\n",
    "def sum1(b, c, a=0):#if a is not(its not given eroor) its okay if give then calculated \n",
    "    return a+b+c"
   ]
  },
  {
   "cell_type": "code",
   "execution_count": 80,
   "id": "33de6cbf-10ef-41c6-b3af-4bf6295fc31f",
   "metadata": {},
   "outputs": [
    {
     "data": {
      "text/plain": [
       "9"
      ]
     },
     "execution_count": 80,
     "metadata": {},
     "output_type": "execute_result"
    }
   ],
   "source": [
    "sum1(4,5)"
   ]
  },
  {
   "cell_type": "code",
   "execution_count": 81,
   "id": "5c790222-b893-4e43-91f1-b3bddb78aa65",
   "metadata": {},
   "outputs": [
    {
     "data": {
      "text/plain": [
       "16"
      ]
     },
     "execution_count": 81,
     "metadata": {},
     "output_type": "execute_result"
    }
   ],
   "source": [
    "sum1(4,5,7)"
   ]
  },
  {
   "cell_type": "code",
   "execution_count": 85,
   "id": "a8f5929e-c597-45d9-9f2b-9577bdfdd7f8",
   "metadata": {},
   "outputs": [],
   "source": [
    "def sum1(a, b, c): #non-default argument follows default argument\n",
    "    return a+b+c"
   ]
  },
  {
   "cell_type": "code",
   "execution_count": 86,
   "id": "eb848e27-73cb-45fd-9549-d8576c0f0438",
   "metadata": {},
   "outputs": [
    {
     "data": {
      "text/plain": [
       "15"
      ]
     },
     "execution_count": 86,
     "metadata": {},
     "output_type": "execute_result"
    }
   ],
   "source": [
    "sum1(4,5,6)"
   ]
  },
  {
   "cell_type": "code",
   "execution_count": 87,
   "id": "d7a1032d-4c7a-44f3-9161-7c90b84e964f",
   "metadata": {},
   "outputs": [
    {
     "ename": "TypeError",
     "evalue": "sum1() missing 1 required positional argument: 'c'",
     "output_type": "error",
     "traceback": [
      "\u001b[0;31m---------------------------------------------------------------------------\u001b[0m",
      "\u001b[0;31mTypeError\u001b[0m                                 Traceback (most recent call last)",
      "Cell \u001b[0;32mIn[87], line 1\u001b[0m\n\u001b[0;32m----> 1\u001b[0m \u001b[43msum1\u001b[49m\u001b[43m(\u001b[49m\u001b[38;5;241;43m4\u001b[39;49m\u001b[43m,\u001b[49m\u001b[38;5;241;43m5\u001b[39;49m\u001b[43m)\u001b[49m\n",
      "\u001b[0;31mTypeError\u001b[0m: sum1() missing 1 required positional argument: 'c'"
     ]
    }
   ],
   "source": [
    "sum1(4,5)"
   ]
  },
  {
   "cell_type": "code",
   "execution_count": 88,
   "id": "9b41aa78-4c37-4f11-9192-3b1a2df3124a",
   "metadata": {},
   "outputs": [],
   "source": [
    "def sum1(b=0, c=0, a=0):\n",
    "    return a+b+c"
   ]
  },
  {
   "cell_type": "code",
   "execution_count": 91,
   "id": "f863155d-26c0-48de-8e41-582c4c9b8a27",
   "metadata": {},
   "outputs": [
    {
     "data": {
      "text/plain": [
       "0"
      ]
     },
     "execution_count": 91,
     "metadata": {},
     "output_type": "execute_result"
    }
   ],
   "source": [
    "sum1()"
   ]
  },
  {
   "cell_type": "code",
   "execution_count": 93,
   "id": "644408f3-0086-47a8-a394-ce33c35e0ebf",
   "metadata": {},
   "outputs": [
    {
     "data": {
      "text/plain": [
       "17"
      ]
     },
     "execution_count": 93,
     "metadata": {},
     "output_type": "execute_result"
    }
   ],
   "source": [
    "sum1(4,8,5)"
   ]
  },
  {
   "cell_type": "code",
   "execution_count": 94,
   "id": "bb718946-58e6-43eb-9b42-d5d02c3f797a",
   "metadata": {},
   "outputs": [],
   "source": [
    "def sum1(b=5, c=0, a=0):\n",
    "    return a+b+c"
   ]
  },
  {
   "cell_type": "code",
   "execution_count": 95,
   "id": "96da94c2-d203-4b39-bc35-d4176a173f77",
   "metadata": {},
   "outputs": [
    {
     "data": {
      "text/plain": [
       "5"
      ]
     },
     "execution_count": 95,
     "metadata": {},
     "output_type": "execute_result"
    }
   ],
   "source": [
    "sum1()"
   ]
  },
  {
   "cell_type": "code",
   "execution_count": 99,
   "id": "8f80d647-1837-4dd4-8621-306accd78cfb",
   "metadata": {},
   "outputs": [
    {
     "data": {
      "text/plain": [
       "8"
      ]
     },
     "execution_count": 99,
     "metadata": {},
     "output_type": "execute_result"
    }
   ],
   "source": [
    "sum1(a=3)"
   ]
  },
  {
   "cell_type": "code",
   "execution_count": 100,
   "id": "fad1d42f-9769-43e7-ae3b-11971343c474",
   "metadata": {},
   "outputs": [
    {
     "data": {
      "text/plain": [
       "5"
      ]
     },
     "execution_count": 100,
     "metadata": {},
     "output_type": "execute_result"
    }
   ],
   "source": [
    "sum1(5)"
   ]
  },
  {
   "cell_type": "code",
   "execution_count": 106,
   "id": "707dbecd-a2e4-4a81-ad64-61223010bbcd",
   "metadata": {},
   "outputs": [],
   "source": [
    "def add_two_number():\n",
    "    a = int(input(\"enter the first no\"))\n",
    "    b = int(input(\"enter the second no\"))\n",
    "    return a+b"
   ]
  },
  {
   "cell_type": "code",
   "execution_count": 108,
   "id": "73c89aac-1ecf-4976-a4ba-dc6ae41b0df1",
   "metadata": {},
   "outputs": [
    {
     "name": "stdin",
     "output_type": "stream",
     "text": [
      "enter the first no 78\n",
      "enter the second no 40\n"
     ]
    },
    {
     "data": {
      "text/plain": [
       "118"
      ]
     },
     "execution_count": 108,
     "metadata": {},
     "output_type": "execute_result"
    }
   ],
   "source": [
    "add_two_number()"
   ]
  },
  {
   "cell_type": "code",
   "execution_count": null,
   "id": "18460abf-845f-4b14-b3e6-ea6f7b4877fb",
   "metadata": {},
   "outputs": [],
   "source": [
    "#write a function that takes list as input and return all numeric values in a list"
   ]
  },
  {
   "cell_type": "code",
   "execution_count": 114,
   "id": "a13db980-475c-4599-abf8-7ff8f5a3da32",
   "metadata": {},
   "outputs": [],
   "source": [
    "def only_numeric(a):\n",
    "    n = []\n",
    "    for i in a:\n",
    "        if type(i) == int or type(i) == float:\n",
    "            n.append(i)\n",
    "    return n"
   ]
  },
  {
   "cell_type": "code",
   "execution_count": 115,
   "id": "38afa8d4-0bc6-46c2-8323-ec418d6a0ddc",
   "metadata": {},
   "outputs": [
    {
     "data": {
      "text/plain": [
       "[1, 2.2, 5, 6]"
      ]
     },
     "execution_count": 115,
     "metadata": {},
     "output_type": "execute_result"
    }
   ],
   "source": [
    "only_numeric([1, 2.2, \"Ajay\", True, 3+7j, \"pwskills\", 5, 6])"
   ]
  },
  {
   "cell_type": "code",
   "execution_count": 117,
   "id": "9302431b-bb5d-410f-9230-d31b1758f6ed",
   "metadata": {},
   "outputs": [],
   "source": [
    "#now in input take nested list\n",
    "#only_numeric([1, 2.2, \"Ajay\", True, 3+7j, \"pwskills\", 5, 6, [100, 101, \"Ajay\"]])"
   ]
  },
  {
   "cell_type": "code",
   "execution_count": 128,
   "id": "f3b5ed7c-3bba-4114-a6bf-5a3ba6b6d8d7",
   "metadata": {},
   "outputs": [],
   "source": [
    "def only_numeric(a):\n",
    "    n = []\n",
    "    for i in a:\n",
    "        if type(i) == list:\n",
    "            for j in i:\n",
    "                if type(j) == int or type(j) == float:\n",
    "                    n.append(j)\n",
    "                else:\n",
    "                     if type(i) == int or type(i) == float:\n",
    "                            n.append(i)\n",
    "    return n"
   ]
  },
  {
   "cell_type": "code",
   "execution_count": 132,
   "id": "f9856f30-a407-44e4-8fad-a14631acb045",
   "metadata": {},
   "outputs": [
    {
     "data": {
      "text/plain": [
       "[1, 2.2, 5, 6, 100, 101]"
      ]
     },
     "execution_count": 132,
     "metadata": {},
     "output_type": "execute_result"
    }
   ],
   "source": [
    "only_numeric([1, 2.2, \"Ajay\", True, 3+7j, \"pwskills\", 5, 6, [100, 101, \"Ajay\"]])"
   ]
  },
  {
   "cell_type": "code",
   "execution_count": 1,
   "id": "5bae5d59-a42b-4dab-b584-0bbe7e32a4ec",
   "metadata": {},
   "outputs": [],
   "source": [
    "#variable length arguement>>when you dont know the no of arguments"
   ]
  },
  {
   "cell_type": "code",
   "execution_count": 3,
   "id": "22a639dc-67e8-45d8-8bf5-3969b01409f7",
   "metadata": {},
   "outputs": [],
   "source": [
    "def sum1(*args):\n",
    "    return args"
   ]
  },
  {
   "cell_type": "code",
   "execution_count": 4,
   "id": "5fb82d65-35ab-4d7d-a451-cf01ecbe856b",
   "metadata": {},
   "outputs": [
    {
     "data": {
      "text/plain": [
       "(1, 5, 7, 8, 9, 21, 45)"
      ]
     },
     "execution_count": 4,
     "metadata": {},
     "output_type": "execute_result"
    }
   ],
   "source": [
    "sum1(1,5,7,8,9,21,45)"
   ]
  },
  {
   "cell_type": "code",
   "execution_count": 6,
   "id": "4daf5175-55a6-4bdb-8bff-3ecc19bca167",
   "metadata": {},
   "outputs": [],
   "source": [
    "#A function which can take any no of values and return the sum\n",
    "\n",
    "def sum1(*args):\n",
    "    s = 0\n",
    "    for i in args:\n",
    "        s = s+i\n",
    "    return s"
   ]
  },
  {
   "cell_type": "code",
   "execution_count": 7,
   "id": "82189e99-b235-4596-a4d4-dc5c38b5fdd6",
   "metadata": {},
   "outputs": [
    {
     "data": {
      "text/plain": [
       "18"
      ]
     },
     "execution_count": 7,
     "metadata": {},
     "output_type": "execute_result"
    }
   ],
   "source": [
    "sum1(5,6,7)"
   ]
  },
  {
   "cell_type": "code",
   "execution_count": 8,
   "id": "91e2c139-3062-415f-8eee-b02af3a10ba0",
   "metadata": {},
   "outputs": [],
   "source": [
    "#variable arguement with default arguement\n",
    "def test(*args, a):#first write variable argumennt\n",
    "    return args, a"
   ]
  },
  {
   "cell_type": "code",
   "execution_count": 10,
   "id": "556ef383-f72d-4590-ae7f-389281531b25",
   "metadata": {},
   "outputs": [
    {
     "data": {
      "text/plain": [
       "((0, 5, 7, 9, 14), 'kajdeu')"
      ]
     },
     "execution_count": 10,
     "metadata": {},
     "output_type": "execute_result"
    }
   ],
   "source": [
    "test(0,5,7,9,14,a=\"kajdeu\")"
   ]
  },
  {
   "cell_type": "code",
   "execution_count": 11,
   "id": "30bb057e-dd51-4a7b-a944-a2d1b39d5b5d",
   "metadata": {},
   "outputs": [],
   "source": [
    "#variable arguement >> takes any no of argement\n",
    "#positional argement>> fixed argement"
   ]
  },
  {
   "cell_type": "code",
   "execution_count": 12,
   "id": "49bda686-d84d-42ab-90ac-e0f3312b4ede",
   "metadata": {},
   "outputs": [],
   "source": [
    "#write a function can take any no of values and returns the list"
   ]
  },
  {
   "cell_type": "code",
   "execution_count": 14,
   "id": "e678574f-ec15-4d51-9814-54b7912d6820",
   "metadata": {},
   "outputs": [],
   "source": [
    "def return_list(*args):\n",
    "    l = []\n",
    "    for i in args:\n",
    "        if type(i) == list:\n",
    "            l.append(i)\n",
    "    return l"
   ]
  },
  {
   "cell_type": "code",
   "execution_count": 15,
   "id": "8da5fb4e-eeec-4722-853a-2e82b187e4ca",
   "metadata": {},
   "outputs": [
    {
     "data": {
      "text/plain": [
       "[[4, 5, [6, 7]], [1, 2, 3, 4]]"
      ]
     },
     "execution_count": 15,
     "metadata": {},
     "output_type": "execute_result"
    }
   ],
   "source": [
    "return_list(1, 2, 2.3, 5+7j, {2,3},[4, 5, [6, 7]], [1, 2, 3, 4], (2,3), True, \"Ajay\")"
   ]
  },
  {
   "cell_type": "code",
   "execution_count": 16,
   "id": "99e7a141-3c3c-40d8-b2a2-b9920e63fc99",
   "metadata": {},
   "outputs": [
    {
     "data": {
      "text/plain": [
       "'Ajay is working on CV.'"
      ]
     },
     "execution_count": 16,
     "metadata": {},
     "output_type": "execute_result"
    }
   ],
   "source": [
    "def team(name, project):\n",
    "    return f\"{name} is working on {project}.\"\n",
    "\n",
    "team(\"Ajay\", \"CV\")"
   ]
  },
  {
   "cell_type": "code",
   "execution_count": 26,
   "id": "af55f68b-c746-471a-8138-94e9fa1f810b",
   "metadata": {},
   "outputs": [
    {
     "data": {
      "text/plain": [
       "((1, 2, 3, 4, 5, 6), {'a': 456, 'b': 455})"
      ]
     },
     "execution_count": 26,
     "metadata": {},
     "output_type": "execute_result"
    }
   ],
   "source": [
    "def adc(*ajay,**bijay):\n",
    "    return ajay , bijay\n",
    "adc(1,2,3,4,5,6,a=456,b=455)"
   ]
  },
  {
   "cell_type": "code",
   "execution_count": 36,
   "id": "cc08d750-1387-42c1-8007-2da83a197d11",
   "metadata": {},
   "outputs": [],
   "source": [
    "#python namesapce\n",
    "\n",
    "def greet():\n",
    "    message = \"hello, welcome!\" #message variable is a local variable(scope is only inside function)\n",
    "    print(message)"
   ]
  },
  {
   "cell_type": "code",
   "execution_count": 37,
   "id": "d654c1ea-56a0-48b7-8deb-47cd7960dd94",
   "metadata": {},
   "outputs": [
    {
     "name": "stdout",
     "output_type": "stream",
     "text": [
      "hello, welcome!\n"
     ]
    }
   ],
   "source": [
    "greet()"
   ]
  },
  {
   "cell_type": "code",
   "execution_count": 38,
   "id": "b0f9ec59-f39f-4be8-a4c9-9a9cd120dd17",
   "metadata": {},
   "outputs": [],
   "source": [
    "subpart = \" to the course\" #global variable>> can be accessed outside the function as well\n",
    "def greet():\n",
    "    message = \"hello, welcome\" + subpart\n",
    "    print(message)"
   ]
  },
  {
   "cell_type": "code",
   "execution_count": 39,
   "id": "28620c01-e6c3-4a82-952f-be52a9c20b4a",
   "metadata": {},
   "outputs": [
    {
     "name": "stdout",
     "output_type": "stream",
     "text": [
      "hello, welcome to the course\n"
     ]
    }
   ],
   "source": [
    "greet()"
   ]
  },
  {
   "cell_type": "code",
   "execution_count": 40,
   "id": "4fc8ecfd-35f6-44d8-9532-dcf08d636798",
   "metadata": {},
   "outputs": [],
   "source": [
    "#namespace>> scope of variables\n",
    "#local variable>> a function defined inside a function should be accessed in the function only\n",
    "#global variable>> accessed any where"
   ]
  },
  {
   "cell_type": "code",
   "execution_count": 48,
   "id": "d73af63b-22a5-4638-896f-088f10375f35",
   "metadata": {},
   "outputs": [],
   "source": [
    "#function inside function\n",
    "\n",
    "\n",
    "def marks_in_subject(**kwargs):\n",
    "    marks_list = []\n",
    "    for sub, marks in kwargs.items():\n",
    "        marks_list.append(marks)\n",
    "    return marks_list"
   ]
  },
  {
   "cell_type": "code",
   "execution_count": 49,
   "id": "b1405c2a-50ff-4437-a226-7b6a555720b7",
   "metadata": {},
   "outputs": [
    {
     "data": {
      "text/plain": [
       "[90, 40, 30]"
      ]
     },
     "execution_count": 49,
     "metadata": {},
     "output_type": "execute_result"
    }
   ],
   "source": [
    "marks_in_subject(a = 90, b=40, c=30)"
   ]
  },
  {
   "cell_type": "code",
   "execution_count": 50,
   "id": "8289301d-0973-4674-953e-1811344e4924",
   "metadata": {},
   "outputs": [],
   "source": [
    "#calling function from outside\n",
    "def total_marks(marks_list):\n",
    "    return sum(marks_list)\n",
    "\n",
    "def marks_in_subject(**kwargs):\n",
    "    marks_list = []\n",
    "    for sub, marks in kwargs.items():\n",
    "        marks_list.append(marks)\n",
    "        \n",
    "    return total_marks(marks_list)"
   ]
  },
  {
   "cell_type": "code",
   "execution_count": 51,
   "id": "65ea8db2-1ddc-4dcf-af33-9c0c76a0e809",
   "metadata": {},
   "outputs": [
    {
     "data": {
      "text/plain": [
       "1589"
      ]
     },
     "execution_count": 51,
     "metadata": {},
     "output_type": "execute_result"
    }
   ],
   "source": [
    "marks_in_subject(a=45 ,b=989 ,c=555)"
   ]
  },
  {
   "cell_type": "code",
   "execution_count": 52,
   "id": "8975fb7e-7e7f-42ff-ba3a-be6576317303",
   "metadata": {},
   "outputs": [],
   "source": [
    "def find_power(num, power):\n",
    "    return num*power"
   ]
  },
  {
   "cell_type": "code",
   "execution_count": 55,
   "id": "227264eb-9fa5-4b3e-a23f-ea97c07f399f",
   "metadata": {},
   "outputs": [
    {
     "data": {
      "text/plain": [
       "6"
      ]
     },
     "execution_count": 55,
     "metadata": {},
     "output_type": "execute_result"
    }
   ],
   "source": [
    "find_power(2,3)"
   ]
  },
  {
   "cell_type": "code",
   "execution_count": 56,
   "id": "00f578a1-f8aa-4510-aef0-9f03486584df",
   "metadata": {},
   "outputs": [
    {
     "data": {
      "text/plain": [
       "6"
      ]
     },
     "execution_count": 56,
     "metadata": {},
     "output_type": "execute_result"
    }
   ],
   "source": [
    "2*3"
   ]
  },
  {
   "cell_type": "code",
   "execution_count": 60,
   "id": "29c5a9ce-8743-4ceb-ba57-104adaeb3d18",
   "metadata": {},
   "outputs": [],
   "source": [
    "def find_power(num, power):#this is cold documataion\n",
    "    \n",
    "    \"\"\"This function returns the power of no\n",
    "    Args:\n",
    "        num(int): provide any integer as input\n",
    "        power(int): provide power as integer\n",
    "    Returns:\n",
    "    integer: power of no\n",
    "    \"\"\"\n",
    "    return num*power"
   ]
  },
  {
   "cell_type": "code",
   "execution_count": 61,
   "id": "2ab4e0cf-8bca-4976-bc58-1e10292c6348",
   "metadata": {},
   "outputs": [
    {
     "name": "stdout",
     "output_type": "stream",
     "text": [
      "Help on function find_power in module __main__:\n",
      "\n",
      "find_power(num, power)\n",
      "    This function returns the power of no\n",
      "    Args:\n",
      "        num(int): provide any integer as input\n",
      "        power(int): provide power as integer\n",
      "    Returns:\n",
      "    integer: power of no\n",
      "\n"
     ]
    }
   ],
   "source": [
    "help(find_power)"
   ]
  },
  {
   "cell_type": "code",
   "execution_count": 65,
   "id": "612aa3d6-e5d3-4ecf-8efa-f77daf163997",
   "metadata": {},
   "outputs": [
    {
     "name": "stdout",
     "output_type": "stream",
     "text": [
      "This function returns the power of no\n",
      "    Args:\n",
      "        num(int): provide any integer as input\n",
      "        power(int): provide power as integer\n",
      "    Returns:\n",
      "    integer: power of no\n",
      "    \n"
     ]
    }
   ],
   "source": [
    "print(find_power.__doc__)"
   ]
  },
  {
   "cell_type": "markdown",
   "id": "783b82f9-db7e-452c-baec-a2149b0b6d63",
   "metadata": {},
   "source": [
    "## iterator and gerators"
   ]
  },
  {
   "cell_type": "code",
   "execution_count": null,
   "id": "ca2c05bd-7148-4619-8a53-284da70a2359",
   "metadata": {},
   "outputs": [],
   "source": [
    "#iterable>>\n",
    "#An iterable is any python object/sequential structure/data structure that is capable of returning\n",
    "#its members one at a time\n",
    "#permitting it to be iterated over in a for loop\n",
    "#example>> list, tuples"
   ]
  },
  {
   "cell_type": "code",
   "execution_count": 3,
   "id": "c16d1811-1800-4d9a-a50f-5705cbc2606b",
   "metadata": {},
   "outputs": [
    {
     "name": "stdout",
     "output_type": "stream",
     "text": [
      "cehuiehi6544"
     ]
    }
   ],
   "source": [
    "for i in (\"cehuiehi6544\"):#list is a iterable object\n",
    "    print(i,end=\"\")"
   ]
  },
  {
   "cell_type": "code",
   "execution_count": null,
   "id": "f6594d73-8cb7-4516-8b83-3ee5eb6dfc21",
   "metadata": {},
   "outputs": [],
   "source": [
    "#iteration>>\n",
    "#iteration is a process of looping through the elements fof an iterable (list, string).\n",
    "#using a loop\n",
    "#The process of returning element one by one iteration"
   ]
  },
  {
   "cell_type": "code",
   "execution_count": 4,
   "id": "08e908f1-91a7-4f23-8118-42120ea98c39",
   "metadata": {},
   "outputs": [
    {
     "name": "stdout",
     "output_type": "stream",
     "text": [
      "i\n",
      "m\n",
      "w\n",
      "n\n",
      "c\n",
      "w\n",
      "e\n",
      "c\n"
     ]
    }
   ],
   "source": [
    "for i in\"imwncwec\":\n",
    "    print(i)"
   ]
  },
  {
   "cell_type": "code",
   "execution_count": 1,
   "id": "e7b9764b-f454-4b88-9899-3a91f5bc679c",
   "metadata": {},
   "outputs": [],
   "source": [
    "#iterator>> an iterator is an object representing a stream of data>>return the data one by one\n",
    "\n",
    "#Analogy\n",
    "#potato(iterable) >> it can not be cooked in original form\n",
    "#chop/wash the potato >> ready for cooking>>iterator\n",
    "#the process of cooking>>iteration"
   ]
  },
  {
   "cell_type": "code",
   "execution_count": 5,
   "id": "9bdd6d51-c1cb-4d38-844d-094f81e7396c",
   "metadata": {},
   "outputs": [
    {
     "name": "stdout",
     "output_type": "stream",
     "text": [
      "p\n",
      "w\n",
      "s\n",
      "k\n",
      "i\n",
      "l\n",
      "l\n"
     ]
    }
   ],
   "source": [
    "#how pythone decide that s should be iterated >> comesthe concept of itertor \n",
    "s =\"pwskill\"#string is iterable\n",
    "for i in s:\n",
    "    print(i)"
   ]
  },
  {
   "cell_type": "code",
   "execution_count": 6,
   "id": "7a26fff9-de3a-4a21-b5a5-762d2c75a26b",
   "metadata": {},
   "outputs": [
    {
     "data": {
      "text/plain": [
       "<str_iterator at 0x775a8bdd6b90>"
      ]
     },
     "execution_count": 6,
     "metadata": {},
     "output_type": "execute_result"
    }
   ],
   "source": [
    "#python >>can i preparee s for iteration\n",
    "\n",
    "iter(s)#iterator object>>ready to the iterated"
   ]
  },
  {
   "cell_type": "code",
   "execution_count": 12,
   "id": "ec3328f9-fa23-4047-9aea-d6c2dfb9fa0c",
   "metadata": {},
   "outputs": [
    {
     "data": {
      "text/plain": [
       "<str_iterator at 0x775a880f56f0>"
      ]
     },
     "execution_count": 12,
     "metadata": {},
     "output_type": "execute_result"
    }
   ],
   "source": [
    "a=iter(s)\n",
    "iter(a)"
   ]
  },
  {
   "cell_type": "code",
   "execution_count": 13,
   "id": "b07cbe9f-5d7a-4c7d-98e4-b939a069d940",
   "metadata": {},
   "outputs": [
    {
     "data": {
      "text/plain": [
       "'p'"
      ]
     },
     "execution_count": 13,
     "metadata": {},
     "output_type": "execute_result"
    }
   ],
   "source": [
    "next(a)"
   ]
  },
  {
   "cell_type": "code",
   "execution_count": 14,
   "id": "7d14f58d-f025-4bd2-8e77-ce704b685c60",
   "metadata": {},
   "outputs": [
    {
     "data": {
      "text/plain": [
       "'w'"
      ]
     },
     "execution_count": 14,
     "metadata": {},
     "output_type": "execute_result"
    }
   ],
   "source": [
    "next(a)"
   ]
  },
  {
   "cell_type": "code",
   "execution_count": 43,
   "id": "e3a50b98-cf4c-497e-b657-3232c1b98043",
   "metadata": {},
   "outputs": [
    {
     "name": "stdout",
     "output_type": "stream",
     "text": [
      "p\n",
      "w\n",
      "s\n",
      "k\n",
      "i\n",
      "l\n",
      "l\n"
     ]
    }
   ],
   "source": [
    "for i in \"pwskill\": #first conveting the iterable string to iterator object(using iter) and then access using next\n",
    "    print(i)"
   ]
  },
  {
   "cell_type": "code",
   "execution_count": 46,
   "id": "0962355b-db93-4779-98e4-2648cd060950",
   "metadata": {},
   "outputs": [
    {
     "data": {
      "text/plain": [
       "<str_iterator at 0x775a882b1d50>"
      ]
     },
     "execution_count": 46,
     "metadata": {},
     "output_type": "execute_result"
    }
   ],
   "source": [
    "i = \"pwskill\"\n",
    "z=iter(i)\n",
    "iter(z)"
   ]
  },
  {
   "cell_type": "code",
   "execution_count": 47,
   "id": "4be05cc6-6e98-4237-a18e-dff117f1640a",
   "metadata": {},
   "outputs": [
    {
     "data": {
      "text/plain": [
       "'p'"
      ]
     },
     "execution_count": 47,
     "metadata": {},
     "output_type": "execute_result"
    }
   ],
   "source": [
    "next(z)"
   ]
  },
  {
   "cell_type": "code",
   "execution_count": 48,
   "id": "89dcd78a-2390-4eaf-aed0-cd08f449c351",
   "metadata": {},
   "outputs": [
    {
     "data": {
      "text/plain": [
       "'w'"
      ]
     },
     "execution_count": 48,
     "metadata": {},
     "output_type": "execute_result"
    }
   ],
   "source": [
    "next(z)"
   ]
  },
  {
   "cell_type": "code",
   "execution_count": 49,
   "id": "e2bef7da-8337-4972-a57e-9e4f9a22b322",
   "metadata": {},
   "outputs": [
    {
     "data": {
      "text/plain": [
       "<list_iterator at 0x775a883532b0>"
      ]
     },
     "execution_count": 49,
     "metadata": {},
     "output_type": "execute_result"
    }
   ],
   "source": [
    "l = iter([1,2.3,4,5])\n",
    "l"
   ]
  },
  {
   "cell_type": "code",
   "execution_count": 50,
   "id": "1ad5a467-2cc1-47a3-80e0-88fcf8ad9414",
   "metadata": {},
   "outputs": [
    {
     "data": {
      "text/plain": [
       "1"
      ]
     },
     "execution_count": 50,
     "metadata": {},
     "output_type": "execute_result"
    }
   ],
   "source": [
    "next(l)"
   ]
  },
  {
   "cell_type": "code",
   "execution_count": 51,
   "id": "367bc46e-c6d4-4178-a361-61223d3ede17",
   "metadata": {},
   "outputs": [
    {
     "data": {
      "text/plain": [
       "<tuple_iterator at 0x775a882ef610>"
      ]
     },
     "execution_count": 51,
     "metadata": {},
     "output_type": "execute_result"
    }
   ],
   "source": [
    "t = iter((1,2,3,4))\n",
    "t"
   ]
  },
  {
   "cell_type": "code",
   "execution_count": 52,
   "id": "4dcaa76c-f1fc-4893-a338-4eadf94af215",
   "metadata": {},
   "outputs": [
    {
     "data": {
      "text/plain": [
       "1"
      ]
     },
     "execution_count": 52,
     "metadata": {},
     "output_type": "execute_result"
    }
   ],
   "source": [
    "next(t)"
   ]
  },
  {
   "cell_type": "code",
   "execution_count": 53,
   "id": "71558f04-c4cc-4a4b-88aa-12a35fbd1c2e",
   "metadata": {},
   "outputs": [
    {
     "data": {
      "text/plain": [
       "<dict_keyiterator at 0x775a71e58860>"
      ]
     },
     "execution_count": 53,
     "metadata": {},
     "output_type": "execute_result"
    }
   ],
   "source": [
    "d = iter({\"name\":\"Ajay\"})\n",
    "d"
   ]
  },
  {
   "cell_type": "code",
   "execution_count": 54,
   "id": "418e1912-2d79-425b-b436-925479aaf032",
   "metadata": {},
   "outputs": [
    {
     "data": {
      "text/plain": [
       "'name'"
      ]
     },
     "execution_count": 54,
     "metadata": {},
     "output_type": "execute_result"
    }
   ],
   "source": [
    "next(d)"
   ]
  },
  {
   "cell_type": "code",
   "execution_count": 55,
   "id": "cdeac27e-24e2-47d7-9710-7e1dc017c37e",
   "metadata": {},
   "outputs": [],
   "source": [
    "#generator function"
   ]
  },
  {
   "cell_type": "code",
   "execution_count": 56,
   "id": "d0778b0f-8b8f-4152-baa7-f9c140d93590",
   "metadata": {},
   "outputs": [
    {
     "data": {
      "text/plain": [
       "[25, 100, 225]"
      ]
     },
     "execution_count": 56,
     "metadata": {},
     "output_type": "execute_result"
    }
   ],
   "source": [
    "#regular function>> takes a list and gives square of each of the list\n",
    "def square_number(n):\n",
    "    result = []\n",
    "    for i in n:\n",
    "        result.append(i ** 2)\n",
    "    return result\n",
    "square_number([5, 10, 15])"
   ]
  },
  {
   "cell_type": "code",
   "execution_count": 57,
   "id": "849c237b-d9ef-4fa1-85d0-67742be257ce",
   "metadata": {},
   "outputs": [
    {
     "data": {
      "text/plain": [
       "[0, 1, 4, 9, 16, 25, 36, 49, 64, 81]"
      ]
     },
     "execution_count": 57,
     "metadata": {},
     "output_type": "execute_result"
    }
   ],
   "source": [
    "#regular function calculates the square of the values and return in one go\n",
    "#since its returning in one go>>memory usage will be more and \n",
    "#it will a lot of execution time if there is lot of computation as all the\n",
    "#computations will be done first and then the calculation will be returned in one go\n",
    "def square_number(n):\n",
    "    result = []\n",
    "    for i in range(n):\n",
    "        result.append(i ** 2)\n",
    "    return result\n",
    "square_number(10)"
   ]
  },
  {
   "cell_type": "code",
   "execution_count": null,
   "id": "5aec82af-5d9c-4d29-ac17-b8c855fae82d",
   "metadata": {},
   "outputs": [],
   "source": [
    "#can we have something to generate result one by one one instead of one go\n",
    "#yield >> general function uses return statment but a generator function use yield statement"
   ]
  },
  {
   "cell_type": "code",
   "execution_count": 2,
   "id": "e8c89f42-5b96-46eb-aed7-924bfeb62e8d",
   "metadata": {},
   "outputs": [
    {
     "data": {
      "text/plain": [
       "<generator object square_number_gen at 0x793e0594a2d0>"
      ]
     },
     "execution_count": 2,
     "metadata": {},
     "output_type": "execute_result"
    }
   ],
   "source": [
    "def square_number_gen(n):#it is an iterator object\n",
    "    for i in range(n):\n",
    "        yield (i ** 2)#yield is creating a generator similar to iterator object\n",
    "square_number_gen(10)"
   ]
  },
  {
   "cell_type": "code",
   "execution_count": 3,
   "id": "c538ccd2-173b-41de-b2f0-2e488f9b3d01",
   "metadata": {},
   "outputs": [],
   "source": [
    "gen = square_number_gen(10)"
   ]
  },
  {
   "cell_type": "code",
   "execution_count": 4,
   "id": "0774878c-61c4-4ef6-b129-0da2c6b047f5",
   "metadata": {},
   "outputs": [
    {
     "data": {
      "text/plain": [
       "0"
      ]
     },
     "execution_count": 4,
     "metadata": {},
     "output_type": "execute_result"
    }
   ],
   "source": [
    "next(gen)"
   ]
  },
  {
   "cell_type": "code",
   "execution_count": 5,
   "id": "fc7d6263-d2c9-4a6e-a222-d25b37d7b323",
   "metadata": {},
   "outputs": [
    {
     "data": {
      "text/plain": [
       "1"
      ]
     },
     "execution_count": 5,
     "metadata": {},
     "output_type": "execute_result"
    }
   ],
   "source": [
    "next(gen)\n"
   ]
  },
  {
   "cell_type": "code",
   "execution_count": 6,
   "id": "3f711cc4-91f0-4b31-892e-858ed2b62281",
   "metadata": {},
   "outputs": [
    {
     "data": {
      "text/plain": [
       "4"
      ]
     },
     "execution_count": 6,
     "metadata": {},
     "output_type": "execute_result"
    }
   ],
   "source": [
    "next(gen)"
   ]
  },
  {
   "cell_type": "code",
   "execution_count": 7,
   "id": "d33abbd0-f194-4381-8b59-b416cbb117b1",
   "metadata": {},
   "outputs": [],
   "source": [
    "#fibonacci series>sum of last two number 0, 1, 1, 2, 3,5, 8..."
   ]
  },
  {
   "cell_type": "code",
   "execution_count": 10,
   "id": "a40d656f-63e9-41a5-aa13-93b420929e15",
   "metadata": {},
   "outputs": [],
   "source": [
    "def fib(n):\n",
    "    a = 0 \n",
    "    b = 1\n",
    "    for i in range(n): #if n=5, 0, 1, 2, 3, 4\n",
    "        yield a\n",
    "        a, b = b, a+b"
   ]
  },
  {
   "cell_type": "code",
   "execution_count": 12,
   "id": "89868442-b6dc-4b71-aff0-bdd4a398e0a5",
   "metadata": {},
   "outputs": [
    {
     "data": {
      "text/plain": [
       "<generator object fib at 0x793e05d09310>"
      ]
     },
     "execution_count": 12,
     "metadata": {},
     "output_type": "execute_result"
    }
   ],
   "source": [
    "f = fib(10)\n",
    "f"
   ]
  },
  {
   "cell_type": "code",
   "execution_count": 13,
   "id": "86f8c89a-cff9-4609-995e-8e18e616c31f",
   "metadata": {},
   "outputs": [
    {
     "data": {
      "text/plain": [
       "0"
      ]
     },
     "execution_count": 13,
     "metadata": {},
     "output_type": "execute_result"
    }
   ],
   "source": [
    "next(f)"
   ]
  },
  {
   "cell_type": "code",
   "execution_count": 14,
   "id": "8cebe90a-2253-4593-862b-efdb8daf6d66",
   "metadata": {},
   "outputs": [
    {
     "data": {
      "text/plain": [
       "1"
      ]
     },
     "execution_count": 14,
     "metadata": {},
     "output_type": "execute_result"
    }
   ],
   "source": [
    "next(f)"
   ]
  },
  {
   "cell_type": "code",
   "execution_count": 15,
   "id": "f28da69c-70ad-4e5f-85ac-cb30bea7633e",
   "metadata": {},
   "outputs": [
    {
     "data": {
      "text/plain": [
       "1"
      ]
     },
     "execution_count": 15,
     "metadata": {},
     "output_type": "execute_result"
    }
   ],
   "source": [
    "next(f)"
   ]
  },
  {
   "cell_type": "code",
   "execution_count": 16,
   "id": "4a3c653a-9d24-4f43-823e-4dfd3ba6ee82",
   "metadata": {},
   "outputs": [
    {
     "data": {
      "text/plain": [
       "2"
      ]
     },
     "execution_count": 16,
     "metadata": {},
     "output_type": "execute_result"
    }
   ],
   "source": [
    "next(f)"
   ]
  },
  {
   "cell_type": "code",
   "execution_count": 17,
   "id": "467a6ce2-9ea9-4d03-94c0-26f9845f80e5",
   "metadata": {},
   "outputs": [
    {
     "data": {
      "text/plain": [
       "3"
      ]
     },
     "execution_count": 17,
     "metadata": {},
     "output_type": "execute_result"
    }
   ],
   "source": [
    "next(f)"
   ]
  },
  {
   "cell_type": "code",
   "execution_count": 18,
   "id": "e3836ae8-c5c6-4e3b-8010-f334e04bbe21",
   "metadata": {},
   "outputs": [
    {
     "data": {
      "text/plain": [
       "5"
      ]
     },
     "execution_count": 18,
     "metadata": {},
     "output_type": "execute_result"
    }
   ],
   "source": [
    "next(f)"
   ]
  },
  {
   "cell_type": "code",
   "execution_count": 19,
   "id": "a82e8936-b528-4e7c-8ec6-c0e9210f6770",
   "metadata": {},
   "outputs": [
    {
     "data": {
      "text/plain": [
       "8"
      ]
     },
     "execution_count": 19,
     "metadata": {},
     "output_type": "execute_result"
    }
   ],
   "source": [
    "next(f)"
   ]
  },
  {
   "cell_type": "code",
   "execution_count": 20,
   "id": "5512826c-3fb9-462e-bb5c-8ebfa250d958",
   "metadata": {},
   "outputs": [
    {
     "data": {
      "text/plain": [
       "13"
      ]
     },
     "execution_count": 20,
     "metadata": {},
     "output_type": "execute_result"
    }
   ],
   "source": [
    "next(f)"
   ]
  },
  {
   "cell_type": "code",
   "execution_count": 21,
   "id": "705473db-e181-4cd2-b0ca-f5f0f4838c56",
   "metadata": {},
   "outputs": [
    {
     "data": {
      "text/plain": [
       "21"
      ]
     },
     "execution_count": 21,
     "metadata": {},
     "output_type": "execute_result"
    }
   ],
   "source": [
    "next(f)"
   ]
  },
  {
   "cell_type": "code",
   "execution_count": 22,
   "id": "d4ba5e37-69c6-4043-83a5-839df7a2b858",
   "metadata": {},
   "outputs": [
    {
     "data": {
      "text/plain": [
       "34"
      ]
     },
     "execution_count": 22,
     "metadata": {},
     "output_type": "execute_result"
    }
   ],
   "source": [
    "next(f)"
   ]
  },
  {
   "cell_type": "code",
   "execution_count": 23,
   "id": "a70f5874-529d-486c-a6d7-c42546bee6b8",
   "metadata": {},
   "outputs": [
    {
     "ename": "StopIteration",
     "evalue": "",
     "output_type": "error",
     "traceback": [
      "\u001b[0;31m---------------------------------------------------------------------------\u001b[0m",
      "\u001b[0;31mStopIteration\u001b[0m                             Traceback (most recent call last)",
      "Cell \u001b[0;32mIn[23], line 1\u001b[0m\n\u001b[0;32m----> 1\u001b[0m \u001b[38;5;28;43mnext\u001b[39;49m\u001b[43m(\u001b[49m\u001b[43mf\u001b[49m\u001b[43m)\u001b[49m\n",
      "\u001b[0;31mStopIteration\u001b[0m: "
     ]
    }
   ],
   "source": [
    "next(f)"
   ]
  },
  {
   "cell_type": "code",
   "execution_count": null,
   "id": "5703323a-f833-4891-8861-db9a08c1931a",
   "metadata": {},
   "outputs": [],
   "source": [
    "#write a funtion/program to create a reqursive function to calculate sum nos from 0-10"
   ]
  },
  {
   "cell_type": "code",
   "execution_count": null,
   "id": "cf1e76a2-d4f4-4848-8eea-d2a9c32f9679",
   "metadata": {},
   "outputs": [],
   "source": [
    "def addition(num):\n",
    "    if num:\n",
    "        return num = additional\n",
    "    \n",
    "\n",
    "    "
   ]
  },
  {
   "cell_type": "code",
   "execution_count": null,
   "id": "29ecb49c-63bb-40c3-ab8e-7dab3a59b43a",
   "metadata": {},
   "outputs": [],
   "source": [
    "#a list is given seprate string , integer , float in there seprate list\n",
    "def ff(code):"
   ]
  },
  {
   "cell_type": "code",
   "execution_count": 25,
   "id": "05e91822-357c-4e4d-8a60-d6a29713a8df",
   "metadata": {},
   "outputs": [],
   "source": [
    "#home work same above question list is nested"
   ]
  },
  {
   "cell_type": "code",
   "execution_count": 26,
   "id": "70a6b2af-b936-44e7-94cd-156d6f8b24dc",
   "metadata": {},
   "outputs": [],
   "source": [
    "#write a function takes ** kwargs and *args , and return whichever value is a set or tuple"
   ]
  },
  {
   "cell_type": "code",
   "execution_count": 27,
   "id": "ad6b1b89-d7ea-4d4d-a051-def487c33fd8",
   "metadata": {},
   "outputs": [],
   "source": [
    "#a variable inside a function will be accessed  inside a function only>> local variable \n",
    "#every where a global varible \n",
    "a=10\n",
    "def func(a,b):\n",
    "    c = a+b\n",
    "    return c"
   ]
  },
  {
   "cell_type": "code",
   "execution_count": 28,
   "id": "0c67af47-58be-4984-899f-f3c142080526",
   "metadata": {},
   "outputs": [
    {
     "data": {
      "text/plain": [
       "11"
      ]
     },
     "execution_count": 28,
     "metadata": {},
     "output_type": "execute_result"
    }
   ],
   "source": [
    "func(5,6)"
   ]
  },
  {
   "cell_type": "code",
   "execution_count": 30,
   "id": "dcf42dac-df1b-49b0-88f2-e8d8a17a44d5",
   "metadata": {},
   "outputs": [],
   "source": [
    "#lamda function:-anomynous and handfunction"
   ]
  },
  {
   "cell_type": "code",
   "execution_count": 31,
   "id": "1b69f135-e0e1-48b8-a13c-83341166059e",
   "metadata": {},
   "outputs": [],
   "source": [
    "#syntax-lamda argument : expression"
   ]
  },
  {
   "cell_type": "code",
   "execution_count": 33,
   "id": "a5e7f6d1-dd67-4a88-8377-5f249ae80e00",
   "metadata": {},
   "outputs": [],
   "source": [
    "sq=lambda x: x**2"
   ]
  },
  {
   "cell_type": "code",
   "execution_count": 34,
   "id": "0b8c7d83-0a64-47a1-8764-89d9fd83f81c",
   "metadata": {},
   "outputs": [
    {
     "data": {
      "text/plain": [
       "36"
      ]
     },
     "execution_count": 34,
     "metadata": {},
     "output_type": "execute_result"
    }
   ],
   "source": [
    "sq(6)"
   ]
  },
  {
   "cell_type": "code",
   "execution_count": 39,
   "id": "b295ad00-a882-46a6-a99a-9bf2b059965b",
   "metadata": {},
   "outputs": [
    {
     "name": "stdout",
     "output_type": "stream",
     "text": [
      "Help on class map in module builtins:\n",
      "\n",
      "class map(object)\n",
      " |  map(func, *iterables) --> map object\n",
      " |  \n",
      " |  Make an iterator that computes the function using arguments from\n",
      " |  each of the iterables.  Stops when the shortest iterable is exhausted.\n",
      " |  \n",
      " |  Methods defined here:\n",
      " |  \n",
      " |  __getattribute__(self, name, /)\n",
      " |      Return getattr(self, name).\n",
      " |  \n",
      " |  __iter__(self, /)\n",
      " |      Implement iter(self).\n",
      " |  \n",
      " |  __next__(self, /)\n",
      " |      Implement next(self).\n",
      " |  \n",
      " |  __reduce__(...)\n",
      " |      Return state information for pickling.\n",
      " |  \n",
      " |  ----------------------------------------------------------------------\n",
      " |  Static methods defined here:\n",
      " |  \n",
      " |  __new__(*args, **kwargs) from builtins.type\n",
      " |      Create and return a new object.  See help(type) for accurate signature.\n",
      "\n"
     ]
    }
   ],
   "source": [
    "#map\n",
    "help(map)"
   ]
  },
  {
   "cell_type": "code",
   "execution_count": 40,
   "id": "bbdf035e-0c85-4016-abf3-56bb2309d014",
   "metadata": {},
   "outputs": [],
   "source": [
    "def qw(l):\n",
    "    return l**2"
   ]
  },
  {
   "cell_type": "code",
   "execution_count": 44,
   "id": "9a6363be-a24e-4c7d-84f3-feec0633a5eb",
   "metadata": {},
   "outputs": [
    {
     "data": {
      "text/plain": [
       "[2, 3, 5]"
      ]
     },
     "execution_count": 44,
     "metadata": {},
     "output_type": "execute_result"
    }
   ],
   "source": [
    "l=[\"2\",\"3\",\"5\"]\n",
    "list(map(int,l))"
   ]
  },
  {
   "cell_type": "code",
   "execution_count": 45,
   "id": "9502807f-a846-432e-9271-6b41744ebb71",
   "metadata": {},
   "outputs": [],
   "source": [
    "#reduce \n",
    "\n",
    "from functools import reduce\n"
   ]
  },
  {
   "cell_type": "code",
   "execution_count": 48,
   "id": "d40aea40-b9eb-4203-ad79-5d3baa0f4890",
   "metadata": {},
   "outputs": [
    {
     "data": {
      "text/plain": [
       "806"
      ]
     },
     "execution_count": 48,
     "metadata": {},
     "output_type": "execute_result"
    }
   ],
   "source": [
    "l = [2,1,48,654,56,45]\n",
    "reduce(lambda x, y: x+y ,l)"
   ]
  },
  {
   "cell_type": "code",
   "execution_count": 50,
   "id": "9f9506be-02c2-4cbd-b898-670db9671bc5",
   "metadata": {},
   "outputs": [],
   "source": [
    "l = [1,4,65,9,94,64448,54]"
   ]
  },
  {
   "cell_type": "code",
   "execution_count": 52,
   "id": "ac7090c3-a1e0-49e6-85cf-abc79fa5139d",
   "metadata": {},
   "outputs": [
    {
     "data": {
      "text/plain": [
       "[4, 94, 64448, 54]"
      ]
     },
     "execution_count": 52,
     "metadata": {},
     "output_type": "execute_result"
    }
   ],
   "source": [
    "#filter\n",
    "list(filter(lambda x: x%2==0,l))"
   ]
  },
  {
   "cell_type": "code",
   "execution_count": null,
   "id": "a69692d4-dbe9-41ec-9749-31ef9a7d1642",
   "metadata": {},
   "outputs": [],
   "source": [
    "first_name=[\"Ajay\",\"Ramu\"]\n",
    "last name = [\"Gupta\",\"sinha\"]\n",
    "\n",
    "#combine respective first name and last name\n",
    "#make the first name all character being small\n",
    "#return a list. if last name is gupta is 1 other is  0"
   ]
  },
  {
   "cell_type": "code",
   "execution_count": 1,
   "id": "22ed5b4e-64f1-4db0-9e81-19265b669b26",
   "metadata": {},
   "outputs": [],
   "source": [
    "#lambda function>> anonymous function\n",
    "#syntax \n",
    "# lambda arguments : expression >> no need of return statement and def keyword"
   ]
  },
  {
   "cell_type": "code",
   "execution_count": 3,
   "id": "a2f266b1-dd1e-4fa1-a76e-bd78e22f62eb",
   "metadata": {},
   "outputs": [
    {
     "data": {
      "text/plain": [
       "[1, 25, 16]"
      ]
     },
     "execution_count": 3,
     "metadata": {},
     "output_type": "execute_result"
    }
   ],
   "source": [
    "#using lambda with map\n",
    "l=[1,5,4]\n",
    "list(map(lambda x: x**2, l))"
   ]
  },
  {
   "cell_type": "code",
   "execution_count": 4,
   "id": "c1a86301-9c3e-4e0b-979d-d0bdd02ab82a",
   "metadata": {},
   "outputs": [],
   "source": [
    "#reduce >> folding/reduction\n",
    "#syntax>> #reduce(func, iterable)\n",
    "#reduce will always take two arguement function\n",
    "from functools import reduce"
   ]
  },
  {
   "cell_type": "code",
   "execution_count": 5,
   "id": "67a64a23-aeec-4c62-9bbe-2a3336b34e9a",
   "metadata": {},
   "outputs": [
    {
     "data": {
      "text/plain": [
       "25"
      ]
     },
     "execution_count": 5,
     "metadata": {},
     "output_type": "execute_result"
    }
   ],
   "source": [
    "l = [2, 1, 3, 4, 4, 5, 6]\n",
    "reduce(lambda x, y:x+y, l) "
   ]
  },
  {
   "cell_type": "code",
   "execution_count": 6,
   "id": "70ab629e-552c-4d20-b5a9-4cfdacb339f2",
   "metadata": {},
   "outputs": [
    {
     "data": {
      "text/plain": [
       "10000"
      ]
     },
     "execution_count": 6,
     "metadata": {},
     "output_type": "execute_result"
    }
   ],
   "source": [
    "#the highest values at each stage you are comparing x and y\n",
    "numbers = [1, 2, 5, 3, 100, 1000, 6, 10000]\n",
    "reduce(lambda x, y: x if x>y else y, numbers)"
   ]
  },
  {
   "cell_type": "code",
   "execution_count": 7,
   "id": "bfacafe6-093c-44a6-bb38-f59f988c5eb7",
   "metadata": {},
   "outputs": [],
   "source": [
    "#filter function >> it is used to filter elements from an iterable based on some condition\n",
    "#syntax>> filter(function, iterable)"
   ]
  },
  {
   "cell_type": "code",
   "execution_count": 8,
   "id": "b6cf342f-d907-40b9-bf83-e620ec740151",
   "metadata": {},
   "outputs": [
    {
     "data": {
      "text/plain": [
       "[1, 3, 5]"
      ]
     },
     "execution_count": 8,
     "metadata": {},
     "output_type": "execute_result"
    }
   ],
   "source": [
    "list(filter(lambda x: x%2 != 0, l))"
   ]
  },
  {
   "cell_type": "code",
   "execution_count": 2,
   "id": "ee81129c-af47-4dc4-846c-f5f3c4ebd3b9",
   "metadata": {},
   "outputs": [
    {
     "name": "stdout",
     "output_type": "stream",
     "text": [
      "Using readlines()\n",
      "Line1: Geeks\n",
      "Line2: for\n",
      "Line3: Geeks\n",
      "\n",
      "Using readline()\n",
      "Line1: Geeks\n",
      "Line2: for\n",
      "Line3: Geeks\n",
      "\n",
      "Using for loop\n",
      "Line1: Geeks\n",
      "Line2: for\n",
      "Line3: Geeks\n"
     ]
    }
   ],
   "source": [
    "# Python program to\n",
    "# demonstrate with\n",
    "# statement\n",
    "\n",
    "L = [\"Geeks\\n\", \"for\\n\", \"Geeks\\n\"]\n",
    "\n",
    "\n",
    "# Writing to file\n",
    "with open(\"file.txt\", \"w\") as fp:\n",
    "    fp.writelines(L)\n",
    "\n",
    "\n",
    "# using readlines()\n",
    "count = 0\n",
    "print(\"Using readlines()\")\n",
    "\n",
    "with open(\"file.txt\") as fp:\n",
    "    Lines = fp.readlines()\n",
    "    for line in Lines:\n",
    "        count += 1\n",
    "        print(\"Line{}: {}\".format(count, line.strip()))\n",
    "\n",
    "\n",
    "# Using readline()\n",
    "count = 0\n",
    "print(\"\\nUsing readline()\")\n",
    "\n",
    "with open(\"file.txt\") as fp:\n",
    "    while True:\n",
    "        count += 1\n",
    "        line = fp.readline()\n",
    "\n",
    "        if not line:\n",
    "            break\n",
    "        print(\"Line{}: {}\".format(count, line.strip()))\n",
    "\n",
    "\n",
    "# Using for loop\n",
    "count = 0\n",
    "print(\"\\nUsing for loop\")\n",
    "\n",
    "with open(\"file.txt\") as fp:\n",
    "    for line in fp:\n",
    "        count += 1\n",
    "        print(\"Line{}: {}\".format(count, line.strip()))\n"
   ]
  },
  {
   "cell_type": "code",
   "execution_count": 9,
   "id": "a77ad4ec-598d-4001-9a9b-7304801fa58d",
   "metadata": {},
   "outputs": [],
   "source": [
    "str1=\"hello world\"\n",
    "new_str1=\"\"\n",
    "new_str2=''.join(filter(lambda x:x.lower() not in \"'a', 'e', 'i', 'o', 'u', 'A', 'E', 'I', 'O', 'U'\",str1))\n"
   ]
  },
  {
   "cell_type": "code",
   "execution_count": 10,
   "id": "74734968-80dc-4270-9214-aa70f1e13593",
   "metadata": {},
   "outputs": [
    {
     "name": "stdout",
     "output_type": "stream",
     "text": [
      "hllwrld\n"
     ]
    }
   ],
   "source": [
    "print(new_str2)"
   ]
  },
  {
   "cell_type": "code",
   "execution_count": null,
   "id": "dfeca04b-6617-4f42-a0d9-66a8d43efdd8",
   "metadata": {},
   "outputs": [],
   "source": []
  }
 ],
 "metadata": {
  "kernelspec": {
   "display_name": "Python 3 (ipykernel)",
   "language": "python",
   "name": "python3"
  },
  "language_info": {
   "codemirror_mode": {
    "name": "ipython",
    "version": 3
   },
   "file_extension": ".py",
   "mimetype": "text/x-python",
   "name": "python",
   "nbconvert_exporter": "python",
   "pygments_lexer": "ipython3",
   "version": "3.10.8"
  }
 },
 "nbformat": 4,
 "nbformat_minor": 5
}
