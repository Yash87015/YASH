{
 "cells": [
  {
   "cell_type": "code",
   "execution_count": 1,
   "id": "8bfd80d8-9586-41b4-9bc9-1bcd7f6e5e41",
   "metadata": {},
   "outputs": [
    {
     "name": "stdout",
     "output_type": "stream",
     "text": [
      "hello\n"
     ]
    }
   ],
   "source": [
    "print(\"hello\")"
   ]
  },
  {
   "cell_type": "code",
   "execution_count": 2,
   "id": "133de22a-7e40-41a3-9b18-7b8c17539b1a",
   "metadata": {},
   "outputs": [
    {
     "name": "stdout",
     "output_type": "stream",
     "text": [
      "8.0\n"
     ]
    }
   ],
   "source": [
    "a = 3.5\n",
    "b = 4.5\n",
    "print(a+b)\n"
   ]
  },
  {
   "cell_type": "code",
   "execution_count": 1,
   "id": "ee32a66e-bc26-4845-a3a6-ac0553974737",
   "metadata": {},
   "outputs": [
    {
     "name": "stdout",
     "output_type": "stream",
     "text": [
      "\n",
      "Here is a list of the Python keywords.  Enter any keyword to get more help.\n",
      "\n",
      "False               class               from                or\n",
      "None                continue            global              pass\n",
      "True                def                 if                  raise\n",
      "and                 del                 import              return\n",
      "as                  elif                in                  try\n",
      "assert              else                is                  while\n",
      "async               except              lambda              with\n",
      "await               finally             nonlocal            yield\n",
      "break               for                 not                 \n",
      "\n"
     ]
    }
   ],
   "source": [
    "help('keywords')"
   ]
  },
  {
   "cell_type": "code",
   "execution_count": 2,
   "id": "c7a4eced-b133-459d-9a58-b1d45075e115",
   "metadata": {},
   "outputs": [
    {
     "data": {
      "text/plain": [
       "bool"
      ]
     },
     "execution_count": 2,
     "metadata": {},
     "output_type": "execute_result"
    }
   ],
   "source": [
    "type(True)"
   ]
  },
  {
   "cell_type": "code",
   "execution_count": 5,
   "id": "4f734748-2891-4bc0-9072-9ad0815b8595",
   "metadata": {},
   "outputs": [],
   "source": [
    "#keyworld are predefind world that hold a specific meaning and specific purpose"
   ]
  },
  {
   "cell_type": "code",
   "execution_count": 18,
   "id": "69be1d58-6255-4690-90b7-98dc1d9eedaf",
   "metadata": {},
   "outputs": [
    {
     "name": "stdout",
     "output_type": "stream",
     "text": [
      "smaaller\n"
     ]
    }
   ],
   "source": [
    "a =  48*509 #assignment statement\n",
    "b =  45/2\n",
    "c = a+b\n",
    "if c > 3000:\n",
    "    print(\"smaaller\")\n",
    "else:\n",
    "    print(\"bigger\")\n",
    "    \n"
   ]
  },
  {
   "cell_type": "code",
   "execution_count": 19,
   "id": "fae45028-828b-4d22-ae78-3b6897c7aee8",
   "metadata": {},
   "outputs": [],
   "source": [
    "#operators >> special keyworld is perfoem operator >> manage and computation"
   ]
  },
  {
   "cell_type": "code",
   "execution_count": 20,
   "id": "f0f8cf5a-588c-4baf-8dfe-29687c3051fd",
   "metadata": {},
   "outputs": [],
   "source": [
    "#arithmatic opearator"
   ]
  },
  {
   "cell_type": "code",
   "execution_count": 21,
   "id": "150b75fb-e7ff-4626-95f4-5ac5287d2822",
   "metadata": {},
   "outputs": [
    {
     "data": {
      "text/plain": [
       "853"
      ]
     },
     "execution_count": 21,
     "metadata": {},
     "output_type": "execute_result"
    }
   ],
   "source": [
    "a = 56\n",
    "b = 797\n",
    "a+b"
   ]
  },
  {
   "cell_type": "code",
   "execution_count": 24,
   "id": "ec0a8a1d-261a-40a7-8fa4-fff26d8c53d3",
   "metadata": {},
   "outputs": [
    {
     "data": {
      "text/plain": [
       "853"
      ]
     },
     "execution_count": 24,
     "metadata": {},
     "output_type": "execute_result"
    }
   ],
   "source": [
    "add = a+b\n",
    "add"
   ]
  },
  {
   "cell_type": "markdown",
   "id": "7a6b178b-168e-4c55-bc27-d6636d7451d5",
   "metadata": {},
   "source": [
    "5*3\n"
   ]
  },
  {
   "cell_type": "code",
   "execution_count": 25,
   "id": "e00f077e-7b4a-4d6f-8c7d-efaa5821b953",
   "metadata": {},
   "outputs": [
    {
     "data": {
      "text/plain": [
       "15"
      ]
     },
     "execution_count": 25,
     "metadata": {},
     "output_type": "execute_result"
    }
   ],
   "source": [
    "5*3"
   ]
  },
  {
   "cell_type": "code",
   "execution_count": 28,
   "id": "84274baf-954b-491d-b587-3b922bdf9d38",
   "metadata": {},
   "outputs": [
    {
     "data": {
      "text/plain": [
       "1"
      ]
     },
     "execution_count": 28,
     "metadata": {},
     "output_type": "execute_result"
    }
   ],
   "source": [
    "#modulor operator \n",
    "25 % 4"
   ]
  },
  {
   "cell_type": "code",
   "execution_count": 29,
   "id": "ba35936e-18a5-4f83-af9a-891a623d9421",
   "metadata": {},
   "outputs": [
    {
     "data": {
      "text/plain": [
       "0"
      ]
     },
     "execution_count": 29,
     "metadata": {},
     "output_type": "execute_result"
    }
   ],
   "source": [
    "36 % 6 #36/6=0 shesh 0"
   ]
  },
  {
   "cell_type": "code",
   "execution_count": 32,
   "id": "8a011fd5-9b60-47c5-8551-5491227ee6bf",
   "metadata": {},
   "outputs": [
    {
     "data": {
      "text/plain": [
       "32"
      ]
     },
     "execution_count": 32,
     "metadata": {},
     "output_type": "execute_result"
    }
   ],
   "source": [
    "2 ** 5#2*2*2*2*2*"
   ]
  },
  {
   "cell_type": "code",
   "execution_count": 43,
   "id": "c4cf2ed6-8d82-4994-b101-a458e8c7fdb5",
   "metadata": {},
   "outputs": [
    {
     "data": {
      "text/plain": [
       "7888609052210118054117285652827862296732064351090230047702789306640625"
      ]
     },
     "execution_count": 43,
     "metadata": {},
     "output_type": "execute_result"
    }
   ],
   "source": [
    "5**100"
   ]
  },
  {
   "cell_type": "code",
   "execution_count": 44,
   "id": "95543203-9dfd-4733-ba20-27b5fbee0248",
   "metadata": {},
   "outputs": [
    {
     "data": {
      "text/plain": [
       "1.3333333333333333"
      ]
     },
     "execution_count": 44,
     "metadata": {},
     "output_type": "execute_result"
    }
   ],
   "source": [
    "#floor operator \n",
    "4/3"
   ]
  },
  {
   "cell_type": "code",
   "execution_count": 45,
   "id": "2399eff0-6cc0-4b33-9121-95a70e75a4e0",
   "metadata": {},
   "outputs": [
    {
     "data": {
      "text/plain": [
       "1"
      ]
     },
     "execution_count": 45,
     "metadata": {},
     "output_type": "execute_result"
    }
   ],
   "source": [
    "4 // 3"
   ]
  },
  {
   "cell_type": "code",
   "execution_count": 46,
   "id": "3c97efbb-13f4-4b30-88d5-1079ba1fc0ca",
   "metadata": {},
   "outputs": [],
   "source": [
    "#thats the above operation is called floor operaton\n"
   ]
  },
  {
   "cell_type": "code",
   "execution_count": 47,
   "id": "92b53644-3be6-4579-a5a8-32f1ce606580",
   "metadata": {},
   "outputs": [],
   "source": [
    "#comparison operator >> compare two value >> return a boolen value"
   ]
  },
  {
   "cell_type": "code",
   "execution_count": 1,
   "id": "b367700a-13a4-45ba-b8eb-2479adea4ba1",
   "metadata": {},
   "outputs": [
    {
     "data": {
      "text/plain": [
       "True"
      ]
     },
     "execution_count": 1,
     "metadata": {},
     "output_type": "execute_result"
    }
   ],
   "source": [
    "2 == 2"
   ]
  },
  {
   "cell_type": "code",
   "execution_count": 2,
   "id": "d87c1c0a-e8dd-4b3e-94dc-f44bdf80ec34",
   "metadata": {},
   "outputs": [
    {
     "data": {
      "text/plain": [
       "False"
      ]
     },
     "execution_count": 2,
     "metadata": {},
     "output_type": "execute_result"
    }
   ],
   "source": [
    "3 == 2"
   ]
  },
  {
   "cell_type": "code",
   "execution_count": 4,
   "id": "68cc5da0-0593-4fa9-9e86-b70ab1f638e9",
   "metadata": {},
   "outputs": [
    {
     "data": {
      "text/plain": [
       "True"
      ]
     },
     "execution_count": 4,
     "metadata": {},
     "output_type": "execute_result"
    }
   ],
   "source": [
    "3 != 2 #that indicate not equal to true (!)"
   ]
  },
  {
   "cell_type": "code",
   "execution_count": 5,
   "id": "97cca4ef-9930-4797-97a1-da70732fa027",
   "metadata": {},
   "outputs": [
    {
     "data": {
      "text/plain": [
       "True"
      ]
     },
     "execution_count": 5,
     "metadata": {},
     "output_type": "execute_result"
    }
   ],
   "source": [
    "10 > 2"
   ]
  },
  {
   "cell_type": "code",
   "execution_count": 6,
   "id": "d6254d6c-254e-49cb-8a75-cfca81b446b2",
   "metadata": {},
   "outputs": [
    {
     "data": {
      "text/plain": [
       "True"
      ]
     },
     "execution_count": 6,
     "metadata": {},
     "output_type": "execute_result"
    }
   ],
   "source": [
    "10 <= 10"
   ]
  },
  {
   "cell_type": "markdown",
   "id": "b1ce5cfc-9777-42fe-8bcb-ecbfacf10d6a",
   "metadata": {},
   "source": [
    "###logical operator \n",
    "#and \n",
    "#or\n",
    "#True and False\n",
    "\n"
   ]
  },
  {
   "cell_type": "code",
   "execution_count": 7,
   "id": "a0e7706d-5335-46e2-8cd7-77dc3d7a59a3",
   "metadata": {},
   "outputs": [],
   "source": [
    "#or operator additional oprator of two value 1 , 0"
   ]
  },
  {
   "cell_type": "code",
   "execution_count": 8,
   "id": "17477e00-edba-4a4c-9dd8-93fc395fce60",
   "metadata": {},
   "outputs": [],
   "source": [
    "#and operator multiplex operator of two value 1, 0"
   ]
  },
  {
   "cell_type": "code",
   "execution_count": 9,
   "id": "089dc9ed-63e3-43a3-aeb3-4bcec8a8dbee",
   "metadata": {},
   "outputs": [
    {
     "data": {
      "text/plain": [
       "False"
      ]
     },
     "execution_count": 9,
     "metadata": {},
     "output_type": "execute_result"
    }
   ],
   "source": [
    "True and False"
   ]
  },
  {
   "cell_type": "code",
   "execution_count": 10,
   "id": "4af4f33c-95f3-482f-bdad-3ee25898d667",
   "metadata": {},
   "outputs": [
    {
     "data": {
      "text/plain": [
       "True"
      ]
     },
     "execution_count": 10,
     "metadata": {},
     "output_type": "execute_result"
    }
   ],
   "source": [
    "True or False"
   ]
  },
  {
   "cell_type": "code",
   "execution_count": 11,
   "id": "19046155-a05f-4d86-bd92-7f3166358f3f",
   "metadata": {},
   "outputs": [],
   "source": [
    "#not operator means not eual to "
   ]
  },
  {
   "cell_type": "code",
   "execution_count": 12,
   "id": "8ab6b5e4-a55d-4672-80b4-50ec094f84f2",
   "metadata": {},
   "outputs": [
    {
     "data": {
      "text/plain": [
       "False"
      ]
     },
     "execution_count": 12,
     "metadata": {},
     "output_type": "execute_result"
    }
   ],
   "source": [
    "not True #0+0=0(lets say its not true means its false)"
   ]
  },
  {
   "cell_type": "code",
   "execution_count": 14,
   "id": "7f816ecf-6dbc-4e6b-a0af-b8286e49ab76",
   "metadata": {},
   "outputs": [
    {
     "data": {
      "text/plain": [
       "True"
      ]
     },
     "execution_count": 14,
     "metadata": {},
     "output_type": "execute_result"
    }
   ],
   "source": [
    "not False #0+1( lets say its not false means true (1))"
   ]
  },
  {
   "cell_type": "code",
   "execution_count": 15,
   "id": "38ec2554-cd18-410e-8bec-7be1d6d04b46",
   "metadata": {},
   "outputs": [],
   "source": [
    "#assignment operator a = 10 "
   ]
  },
  {
   "cell_type": "code",
   "execution_count": 16,
   "id": "2d4d01d5-21ce-4d35-be2e-0b18d0145390",
   "metadata": {},
   "outputs": [],
   "source": [
    "a = 10"
   ]
  },
  {
   "cell_type": "code",
   "execution_count": 17,
   "id": "602f8c82-6697-4e88-8431-88aa70cf1bc1",
   "metadata": {},
   "outputs": [
    {
     "data": {
      "text/plain": [
       "10"
      ]
     },
     "execution_count": 17,
     "metadata": {},
     "output_type": "execute_result"
    }
   ],
   "source": [
    "a"
   ]
  },
  {
   "cell_type": "code",
   "execution_count": 18,
   "id": "4eb4bae7-83e2-44d5-8e97-fcda7711db5a",
   "metadata": {},
   "outputs": [
    {
     "data": {
      "text/plain": [
       "5.0"
      ]
     },
     "execution_count": 18,
     "metadata": {},
     "output_type": "execute_result"
    }
   ],
   "source": [
    "a /2"
   ]
  },
  {
   "cell_type": "code",
   "execution_count": 19,
   "id": "ca11d744-9aa5-4e2d-93d6-494abaeab6e2",
   "metadata": {},
   "outputs": [
    {
     "data": {
      "text/plain": [
       "2025"
      ]
     },
     "execution_count": 19,
     "metadata": {},
     "output_type": "execute_result"
    }
   ],
   "source": [
    "b = 45\n",
    "b*45"
   ]
  },
  {
   "cell_type": "code",
   "execution_count": 20,
   "id": "b62f79dc-307e-40e5-a613-f7626dcac77d",
   "metadata": {},
   "outputs": [
    {
     "data": {
      "text/plain": [
       "12413.5"
      ]
     },
     "execution_count": 20,
     "metadata": {},
     "output_type": "execute_result"
    }
   ],
   "source": [
    "b = 49654\n",
    "b = b/4\n",
    "b"
   ]
  },
  {
   "cell_type": "code",
   "execution_count": 25,
   "id": "8fe82850-e9b8-40c4-b69c-4b782de79e52",
   "metadata": {},
   "outputs": [
    {
     "data": {
      "text/plain": [
       "17"
      ]
     },
     "execution_count": 25,
     "metadata": {},
     "output_type": "execute_result"
    }
   ],
   "source": [
    "b=12\n",
    "b+=5\n",
    "b"
   ]
  },
  {
   "cell_type": "code",
   "execution_count": 26,
   "id": "933ca850-a1cb-4b39-b4cf-223cb181f9f4",
   "metadata": {},
   "outputs": [
    {
     "data": {
      "text/plain": [
       "10"
      ]
     },
     "execution_count": 26,
     "metadata": {},
     "output_type": "execute_result"
    }
   ],
   "source": [
    "b=464\n",
    "b-=454\n",
    "b"
   ]
  },
  {
   "cell_type": "code",
   "execution_count": 30,
   "id": "2933482b-f61e-433e-9ef4-a313d1287923",
   "metadata": {},
   "outputs": [
    {
     "data": {
      "text/plain": [
       "6250"
      ]
     },
     "execution_count": 30,
     "metadata": {},
     "output_type": "execute_result"
    }
   ],
   "source": [
    "b*=5  # assignment operator\n",
    "b"
   ]
  },
  {
   "cell_type": "code",
   "execution_count": 41,
   "id": "c27d7dd9-a202-4232-b348-8c83881c8690",
   "metadata": {},
   "outputs": [],
   "source": [
    "# membership operator  #is , is not operator"
   ]
  },
  {
   "cell_type": "code",
   "execution_count": 32,
   "id": "ce60559e-33c4-4699-a9fc-99bcc3bf01d1",
   "metadata": {},
   "outputs": [
    {
     "data": {
      "text/plain": [
       "True"
      ]
     },
     "execution_count": 32,
     "metadata": {},
     "output_type": "execute_result"
    }
   ],
   "source": [
    "a = \"nihar solanki\"\n",
    "\"r\" in a"
   ]
  },
  {
   "cell_type": "code",
   "execution_count": 34,
   "id": "8fee5177-ee94-4c60-960d-141ee9d16d53",
   "metadata": {},
   "outputs": [
    {
     "data": {
      "text/plain": [
       "True"
      ]
     },
     "execution_count": 34,
     "metadata": {},
     "output_type": "execute_result"
    }
   ],
   "source": [
    "\"j\" not in a"
   ]
  },
  {
   "cell_type": "code",
   "execution_count": 35,
   "id": "6a98fe3b-4c4a-48a5-90f8-d89180d10fa7",
   "metadata": {},
   "outputs": [
    {
     "data": {
      "text/plain": [
       "False"
      ]
     },
     "execution_count": 35,
     "metadata": {},
     "output_type": "execute_result"
    }
   ],
   "source": [
    "a = [\"yash solanki\",\"4664\",\"kanak\"]\n",
    "\"dipen\" in a"
   ]
  },
  {
   "cell_type": "code",
   "execution_count": 36,
   "id": "a69b4000-e647-4459-9eda-d46cc3bb4d30",
   "metadata": {},
   "outputs": [],
   "source": [
    "#identity operator >> compare the location of the two object/variable"
   ]
  },
  {
   "cell_type": "code",
   "execution_count": 37,
   "id": "2444b79f-56c9-4a65-b6fc-e24d9654b884",
   "metadata": {},
   "outputs": [
    {
     "data": {
      "text/plain": [
       "-1"
      ]
     },
     "execution_count": 37,
     "metadata": {},
     "output_type": "execute_result"
    }
   ],
   "source": [
    "a =2\n",
    "b=3\n",
    "a-b"
   ]
  },
  {
   "cell_type": "code",
   "execution_count": 42,
   "id": "874dc8fc-14c0-48f2-b9db-95399743ea25",
   "metadata": {},
   "outputs": [
    {
     "data": {
      "text/plain": [
       "True"
      ]
     },
     "execution_count": 42,
     "metadata": {},
     "output_type": "execute_result"
    }
   ],
   "source": [
    "a is b"
   ]
  },
  {
   "cell_type": "code",
   "execution_count": 39,
   "id": "ec137bc7-dea0-42e7-9c8f-56b391ddb0b6",
   "metadata": {},
   "outputs": [
    {
     "data": {
      "text/plain": [
       "True"
      ]
     },
     "execution_count": 39,
     "metadata": {},
     "output_type": "execute_result"
    }
   ],
   "source": [
    "a is not b"
   ]
  },
  {
   "cell_type": "code",
   "execution_count": 40,
   "id": "00f9c98e-2756-4cc3-a029-31fa65be3f34",
   "metadata": {},
   "outputs": [
    {
     "data": {
      "text/plain": [
       "True"
      ]
     },
     "execution_count": 40,
     "metadata": {},
     "output_type": "execute_result"
    }
   ],
   "source": [
    "a = 2\n",
    "b = a\n",
    "a is b"
   ]
  },
  {
   "cell_type": "code",
   "execution_count": 43,
   "id": "d1bb3c3b-d1c4-4e50-a07e-0c0728ac1853",
   "metadata": {},
   "outputs": [],
   "source": [
    "#bitwise operator .>.> operation at bit level , manupleting indivudual bits within integer"
   ]
  },
  {
   "cell_type": "code",
   "execution_count": 44,
   "id": "cf604155-9fe3-4ca4-b6e4-866862cb45f4",
   "metadata": {},
   "outputs": [
    {
     "data": {
      "text/plain": [
       "10"
      ]
     },
     "execution_count": 44,
     "metadata": {},
     "output_type": "execute_result"
    }
   ],
   "source": [
    "10&10"
   ]
  },
  {
   "cell_type": "code",
   "execution_count": 45,
   "id": "e0616005-c45c-42c8-bf38-a81b3d3fdb9c",
   "metadata": {},
   "outputs": [
    {
     "data": {
      "text/plain": [
       "0"
      ]
     },
     "execution_count": 45,
     "metadata": {},
     "output_type": "execute_result"
    }
   ],
   "source": [
    "4&3"
   ]
  },
  {
   "cell_type": "code",
   "execution_count": 47,
   "id": "7c9860f8-f4e6-4fae-94ce-6a31c99e5e11",
   "metadata": {},
   "outputs": [
    {
     "data": {
      "text/plain": [
       "'0b1010'"
      ]
     },
     "execution_count": 47,
     "metadata": {},
     "output_type": "execute_result"
    }
   ],
   "source": [
    "bin(10)"
   ]
  },
  {
   "cell_type": "code",
   "execution_count": 48,
   "id": "8adce0e8-96da-4429-8a01-f0210924fdf9",
   "metadata": {},
   "outputs": [
    {
     "data": {
      "text/plain": [
       "2"
      ]
     },
     "execution_count": 48,
     "metadata": {},
     "output_type": "execute_result"
    }
   ],
   "source": [
    "18 & 3"
   ]
  },
  {
   "cell_type": "code",
   "execution_count": 51,
   "id": "56e406e6-1da2-4f73-9621-62b61a0c0a75",
   "metadata": {},
   "outputs": [],
   "source": [
    "#or b/w operator ( | )   # remember 8,4,2,1\n"
   ]
  },
  {
   "cell_type": "code",
   "execution_count": 50,
   "id": "c2731d9e-4b8a-42bd-93b8-85454da4b6a4",
   "metadata": {},
   "outputs": [
    {
     "data": {
      "text/plain": [
       "7"
      ]
     },
     "execution_count": 50,
     "metadata": {},
     "output_type": "execute_result"
    }
   ],
   "source": [
    "3 | 5"
   ]
  },
  {
   "cell_type": "code",
   "execution_count": 52,
   "id": "16b2603c-9f45-4e4a-91e2-d7add61e34cf",
   "metadata": {},
   "outputs": [],
   "source": [
    "#negation ~\n"
   ]
  },
  {
   "cell_type": "code",
   "execution_count": 53,
   "id": "7f79e509-f72c-40dd-982a-4005cfb26f5d",
   "metadata": {},
   "outputs": [
    {
     "data": {
      "text/plain": [
       "-4"
      ]
     },
     "execution_count": 53,
     "metadata": {},
     "output_type": "execute_result"
    }
   ],
   "source": [
    "~3"
   ]
  },
  {
   "cell_type": "code",
   "execution_count": 55,
   "id": "9c41e102-56a8-4413-b1f1-e787c421dd0e",
   "metadata": {},
   "outputs": [
    {
     "data": {
      "text/plain": [
       "-101"
      ]
     },
     "execution_count": 55,
     "metadata": {},
     "output_type": "execute_result"
    }
   ],
   "source": [
    "~100"
   ]
  },
  {
   "cell_type": "code",
   "execution_count": 56,
   "id": "2dce7c46-13ef-409b-b0e4-c549b44585d4",
   "metadata": {},
   "outputs": [
    {
     "data": {
      "text/plain": [
       "-8"
      ]
     },
     "execution_count": 56,
     "metadata": {},
     "output_type": "execute_result"
    }
   ],
   "source": [
    "~7"
   ]
  },
  {
   "cell_type": "code",
   "execution_count": 58,
   "id": "076b67e1-cae8-4a2d-83d4-89cd301b64e7",
   "metadata": {},
   "outputs": [],
   "source": [
    "#bw operator xor operator(^)"
   ]
  },
  {
   "cell_type": "code",
   "execution_count": 59,
   "id": "d51f0cca-eb1c-4218-925a-a9b7bbb82b4c",
   "metadata": {},
   "outputs": [
    {
     "data": {
      "text/plain": [
       "6"
      ]
     },
     "execution_count": 59,
     "metadata": {},
     "output_type": "execute_result"
    }
   ],
   "source": [
    "5^3"
   ]
  },
  {
   "cell_type": "code",
   "execution_count": 60,
   "id": "1d176809-6ec8-406d-a2b7-8391521bcf31",
   "metadata": {},
   "outputs": [
    {
     "data": {
      "text/plain": [
       "6"
      ]
     },
     "execution_count": 60,
     "metadata": {},
     "output_type": "execute_result"
    }
   ],
   "source": [
    "12^10"
   ]
  },
  {
   "cell_type": "code",
   "execution_count": 61,
   "id": "856cdc49-3680-40e3-9b9b-c903461bebd8",
   "metadata": {},
   "outputs": [
    {
     "data": {
      "text/plain": [
       "4"
      ]
     },
     "execution_count": 61,
     "metadata": {},
     "output_type": "execute_result"
    }
   ],
   "source": [
    "2^6"
   ]
  },
  {
   "cell_type": "code",
   "execution_count": 62,
   "id": "8011309f-4368-4bc4-b309-012955d67cef",
   "metadata": {},
   "outputs": [],
   "source": [
    "#shift operator >> left shift and right shift"
   ]
  },
  {
   "cell_type": "code",
   "execution_count": 63,
   "id": "d820e1cb-b891-4931-98df-5749caf48020",
   "metadata": {},
   "outputs": [],
   "source": [
    "#left shift operator << shifts the bits to the left by specifield no of position , filling (o) on the right\n",
    "#right shift operator >>"
   ]
  },
  {
   "cell_type": "code",
   "execution_count": 64,
   "id": "3a4a2579-26fb-48fd-a036-c700998488c3",
   "metadata": {},
   "outputs": [
    {
     "data": {
      "text/plain": [
       "280"
      ]
     },
     "execution_count": 64,
     "metadata": {},
     "output_type": "execute_result"
    }
   ],
   "source": [
    "35 << 3 # left shift add 3(0) add left side (LSO)"
   ]
  },
  {
   "cell_type": "code",
   "execution_count": 70,
   "id": "2a43287e-7a45-4d23-9fcb-60a844db6e37",
   "metadata": {},
   "outputs": [
    {
     "data": {
      "text/plain": [
       "4"
      ]
     },
     "execution_count": 70,
     "metadata": {},
     "output_type": "execute_result"
    }
   ],
   "source": [
    "35 >> 3 # right shift operator >> remove the no of element in the binary"
   ]
  },
  {
   "cell_type": "code",
   "execution_count": 71,
   "id": "a0764f11-7c64-439b-974c-39977fb85f01",
   "metadata": {},
   "outputs": [
    {
     "data": {
      "text/plain": [
       "'0b100011'"
      ]
     },
     "execution_count": 71,
     "metadata": {},
     "output_type": "execute_result"
    }
   ],
   "source": [
    "bin(35)"
   ]
  },
  {
   "cell_type": "code",
   "execution_count": 72,
   "id": "da60af9c-dc4b-4b01-b398-d50c7a3ecff0",
   "metadata": {},
   "outputs": [
    {
     "data": {
      "text/plain": [
       "10"
      ]
     },
     "execution_count": 72,
     "metadata": {},
     "output_type": "execute_result"
    }
   ],
   "source": [
    "5 << 1 #0101 add 0 #01010 its 10"
   ]
  },
  {
   "cell_type": "code",
   "execution_count": 73,
   "id": "4bc2117f-4029-46e5-a869-90d93c49f4ad",
   "metadata": {},
   "outputs": [
    {
     "data": {
      "text/plain": [
       "5"
      ]
     },
     "execution_count": 73,
     "metadata": {},
     "output_type": "execute_result"
    }
   ],
   "source": [
    "10 >> 1 #RSO"
   ]
  },
  {
   "cell_type": "code",
   "execution_count": null,
   "id": "9f03e479-4489-42dc-8583-bdd146bab761",
   "metadata": {},
   "outputs": [],
   "source": [
    "#order of precedence \n",
    "#excution of python statement will be from left to rightb"
   ]
  },
  {
   "cell_type": "code",
   "execution_count": 74,
   "id": "782caa04-df33-452b-a61c-fdae8401bb6a",
   "metadata": {},
   "outputs": [],
   "source": [
    "#always parenthesis first( ) inbettween valuse calculate first"
   ]
  },
  {
   "cell_type": "code",
   "execution_count": 75,
   "id": "fd794065-c5aa-49be-a5f2-ae6e1f9ba758",
   "metadata": {},
   "outputs": [
    {
     "data": {
      "text/plain": [
       "10"
      ]
     },
     "execution_count": 75,
     "metadata": {},
     "output_type": "execute_result"
    }
   ],
   "source": [
    "(5+9)-4"
   ]
  },
  {
   "cell_type": "code",
   "execution_count": 76,
   "id": "c58550bf-df1e-48a5-8bb2-69aa6fbef86d",
   "metadata": {},
   "outputs": [
    {
     "data": {
      "text/plain": [
       "4"
      ]
     },
     "execution_count": 76,
     "metadata": {},
     "output_type": "execute_result"
    }
   ],
   "source": [
    "9-(3+2)"
   ]
  },
  {
   "cell_type": "code",
   "execution_count": 77,
   "id": "4c170a03-8851-4bbf-8337-5bc925d46bf6",
   "metadata": {},
   "outputs": [
    {
     "data": {
      "text/plain": [
       "-12"
      ]
     },
     "execution_count": 77,
     "metadata": {},
     "output_type": "execute_result"
    }
   ],
   "source": [
    "(4-3)-(5+8)"
   ]
  },
  {
   "cell_type": "code",
   "execution_count": 78,
   "id": "da4cd091-48f9-40cb-b1bb-e00fb274593d",
   "metadata": {},
   "outputs": [
    {
     "data": {
      "text/plain": [
       "1"
      ]
     },
     "execution_count": 78,
     "metadata": {},
     "output_type": "execute_result"
    }
   ],
   "source": [
    "15%4%2"
   ]
  },
  {
   "cell_type": "code",
   "execution_count": 13,
   "id": "c2a0d558-b8d9-421c-a054-04d20d6d1b77",
   "metadata": {},
   "outputs": [
    {
     "name": "stdout",
     "output_type": "stream",
     "text": [
      "odd number\n"
     ]
    }
   ],
   "source": [
    "value = 45\n",
    "if value %2 == 0:\n",
    "    print(\"even number\")\n",
    "else:\n",
    "    print(\"odd number\")"
   ]
  },
  {
   "cell_type": "code",
   "execution_count": null,
   "id": "1d09dea2-9d6f-4ae0-936b-7a673100a2fe",
   "metadata": {},
   "outputs": [],
   "source": []
  },
  {
   "cell_type": "code",
   "execution_count": null,
   "id": "74048f07-7870-4535-92c6-1e6863fef2ed",
   "metadata": {},
   "outputs": [],
   "source": []
  },
  {
   "cell_type": "code",
   "execution_count": null,
   "id": "2ddf4a85-e765-4d91-b402-87a5fe545a8a",
   "metadata": {},
   "outputs": [],
   "source": []
  },
  {
   "cell_type": "code",
   "execution_count": null,
   "id": "f5f958d2-623c-4bb9-a438-a2caf5f78279",
   "metadata": {},
   "outputs": [],
   "source": []
  },
  {
   "cell_type": "code",
   "execution_count": null,
   "id": "54b01f93-e1ac-4a5d-b038-7635f639356e",
   "metadata": {},
   "outputs": [],
   "source": []
  },
  {
   "cell_type": "code",
   "execution_count": null,
   "id": "6a996266-5c1f-44ed-a21f-3b12498b5abb",
   "metadata": {},
   "outputs": [],
   "source": []
  },
  {
   "cell_type": "code",
   "execution_count": null,
   "id": "52a4b1f1-f171-433a-9cf4-e372aa7f4c37",
   "metadata": {},
   "outputs": [],
   "source": []
  },
  {
   "cell_type": "code",
   "execution_count": null,
   "id": "8e61fca8-94df-44d2-86d0-a2e258e26a66",
   "metadata": {},
   "outputs": [],
   "source": []
  }
 ],
 "metadata": {
  "kernelspec": {
   "display_name": "Python 3 (ipykernel)",
   "language": "python",
   "name": "python3"
  },
  "language_info": {
   "codemirror_mode": {
    "name": "ipython",
    "version": 3
   },
   "file_extension": ".py",
   "mimetype": "text/x-python",
   "name": "python",
   "nbconvert_exporter": "python",
   "pygments_lexer": "ipython3",
   "version": "3.10.8"
  }
 },
 "nbformat": 4,
 "nbformat_minor": 5
}
