{
  "cells": [
    {
      "cell_type": "markdown",
      "metadata": {
        "id": "view-in-github",
        "colab_type": "text"
      },
      "source": [
        "<a href=\"https://colab.research.google.com/github/Yash87015/YASH/blob/main/file_and_exceptions_handling_2(part%202).ipynb\" target=\"_parent\"><img src=\"https://colab.research.google.com/assets/colab-badge.svg\" alt=\"Open In Colab\"/></a>"
      ]
    },
    {
      "cell_type": "code",
      "execution_count": null,
      "id": "7123c4e1-34f5-48c0-a965-0994937731ac",
      "metadata": {
        "id": "7123c4e1-34f5-48c0-a965-0994937731ac"
      },
      "outputs": [],
      "source": [
        "#generally something that disrups the normal event is exception\n",
        "#In python an exception is an event that occurs during programme execution that disrupts the regular flow of code"
      ]
    },
    {
      "cell_type": "code",
      "execution_count": null,
      "id": "3c8f98e4-3840-4929-bb78-2ee58660194f",
      "metadata": {
        "id": "3c8f98e4-3840-4929-bb78-2ee58660194f",
        "outputId": "fc508b68-c973-4b93-a5c8-0c13e45254cf"
      },
      "outputs": [
        {
          "data": {
            "text/plain": [
              "0.5555555555555556"
            ]
          },
          "execution_count": 2,
          "metadata": {},
          "output_type": "execute_result"
        }
      ],
      "source": [
        "5/9"
      ]
    },
    {
      "cell_type": "code",
      "execution_count": null,
      "id": "80ee6ea4-110a-47c3-adba-3a2758f3709d",
      "metadata": {
        "id": "80ee6ea4-110a-47c3-adba-3a2758f3709d",
        "outputId": "1e770aa9-770d-4f8f-ca87-33c28c768ee9"
      },
      "outputs": [
        {
          "data": {
            "text/plain": [
              "5.0"
            ]
          },
          "execution_count": 3,
          "metadata": {},
          "output_type": "execute_result"
        }
      ],
      "source": [
        "10/2"
      ]
    },
    {
      "cell_type": "code",
      "execution_count": null,
      "id": "a945e101-0d15-4594-b3df-68b6d8e76db6",
      "metadata": {
        "id": "a945e101-0d15-4594-b3df-68b6d8e76db6",
        "outputId": "80a1ca0f-8c3a-4edf-e8c9-df74fd1af0e5"
      },
      "outputs": [
        {
          "name": "stdout",
          "output_type": "stream",
          "text": [
            "2.0\n",
            "0.6\n",
            "The code is running fine till now\n"
          ]
        },
        {
          "ename": "ZeroDivisionError",
          "evalue": "division by zero",
          "output_type": "error",
          "traceback": [
            "\u001b[0;31m---------------------------------------------------------------------------\u001b[0m",
            "\u001b[0;31mZeroDivisionError\u001b[0m                         Traceback (most recent call last)",
            "Cell \u001b[0;32mIn[4], line 4\u001b[0m\n\u001b[1;32m      2\u001b[0m \u001b[38;5;28mprint\u001b[39m(\u001b[38;5;241m3\u001b[39m\u001b[38;5;241m/\u001b[39m\u001b[38;5;241m5\u001b[39m)\n\u001b[1;32m      3\u001b[0m \u001b[38;5;28mprint\u001b[39m(\u001b[38;5;124m\"\u001b[39m\u001b[38;5;124mThe code is running fine till now\u001b[39m\u001b[38;5;124m\"\u001b[39m)\n\u001b[0;32m----> 4\u001b[0m \u001b[38;5;28mprint\u001b[39m(\u001b[38;5;241;43m6\u001b[39;49m\u001b[38;5;241;43m/\u001b[39;49m\u001b[38;5;241;43m0\u001b[39;49m)\n\u001b[1;32m      5\u001b[0m \u001b[38;5;28mprint\u001b[39m(\u001b[38;5;124m\"\u001b[39m\u001b[38;5;124mYour name is Ajay \u001b[39m\u001b[38;5;124m\"\u001b[39m)\n\u001b[1;32m      6\u001b[0m \u001b[38;5;28mprint\u001b[39m(\u001b[38;5;241m2\u001b[39m\u001b[38;5;241m+\u001b[39m\u001b[38;5;241m3\u001b[39m)\n",
            "\u001b[0;31mZeroDivisionError\u001b[0m: division by zero"
          ]
        }
      ],
      "source": [
        "print(4/2)\n",
        "print(3/5)\n",
        "print(\"The code is running fine till now\")\n",
        "print(6/0) #suspicious code #it threw an error thats why code after this didnt got executed\n",
        "print(\"Your name is Ajay \")\n",
        "print(2+3)\n",
        "print(\"The code ends\")"
      ]
    },
    {
      "cell_type": "code",
      "execution_count": null,
      "id": "c0a21c0f-b275-4176-933e-c207ffea7e31",
      "metadata": {
        "id": "c0a21c0f-b275-4176-933e-c207ffea7e31",
        "outputId": "e601d112-0909-4be9-d6d9-a96cdf3d4cb4"
      },
      "outputs": [
        {
          "name": "stdout",
          "output_type": "stream",
          "text": [
            "This is my first line of code\n",
            "90\n",
            "<class 'dict'>\n"
          ]
        },
        {
          "ename": "KeyError",
          "evalue": "'age'",
          "output_type": "error",
          "traceback": [
            "\u001b[0;31m---------------------------------------------------------------------------\u001b[0m",
            "\u001b[0;31mKeyError\u001b[0m                                  Traceback (most recent call last)",
            "Cell \u001b[0;32mIn[5], line 5\u001b[0m\n\u001b[1;32m      3\u001b[0m d \u001b[38;5;241m=\u001b[39m {\u001b[38;5;124m\"\u001b[39m\u001b[38;5;124mname\u001b[39m\u001b[38;5;124m\"\u001b[39m: \u001b[38;5;124m\"\u001b[39m\u001b[38;5;124mAjay\u001b[39m\u001b[38;5;124m\"\u001b[39m}\n\u001b[1;32m      4\u001b[0m \u001b[38;5;28mprint\u001b[39m(\u001b[38;5;28mtype\u001b[39m(d))\n\u001b[0;32m----> 5\u001b[0m \u001b[38;5;28mprint\u001b[39m(\u001b[43md\u001b[49m\u001b[43m[\u001b[49m\u001b[38;5;124;43m\"\u001b[39;49m\u001b[38;5;124;43mage\u001b[39;49m\u001b[38;5;124;43m\"\u001b[39;49m\u001b[43m]\u001b[49m)\n\u001b[1;32m      6\u001b[0m \u001b[38;5;28mprint\u001b[39m(\u001b[38;5;124m\"\u001b[39m\u001b[38;5;124mThis is last line of code\u001b[39m\u001b[38;5;124m\"\u001b[39m)\n",
            "\u001b[0;31mKeyError\u001b[0m: 'age'"
          ]
        }
      ],
      "source": [
        "print(\"This is my first line of code\")\n",
        "print(3*5*6)\n",
        "d = {\"name\": \"Ajay\"}\n",
        "print(type(d))\n",
        "print(d[\"age\"]) #it threw an error thats why code after this didnt got executed\n",
        "print(\"This is last line of code\")"
      ]
    },
    {
      "cell_type": "code",
      "execution_count": null,
      "id": "b55b55bc-662f-46ac-ac91-086eb61e2ee7",
      "metadata": {
        "id": "b55b55bc-662f-46ac-ac91-086eb61e2ee7",
        "outputId": "7d5c74ab-dfa1-4cfe-b618-a303bdc7dce0"
      },
      "outputs": [
        {
          "ename": "FileNotFoundError",
          "evalue": "[Errno 2] No such file or directory: 'example.txt'",
          "output_type": "error",
          "traceback": [
            "\u001b[0;31m---------------------------------------------------------------------------\u001b[0m",
            "\u001b[0;31mFileNotFoundError\u001b[0m                         Traceback (most recent call last)",
            "Cell \u001b[0;32mIn[6], line 1\u001b[0m\n\u001b[0;32m----> 1\u001b[0m f \u001b[38;5;241m=\u001b[39m \u001b[38;5;28;43mopen\u001b[39;49m\u001b[43m(\u001b[49m\u001b[38;5;124;43m\"\u001b[39;49m\u001b[38;5;124;43mexample.txt\u001b[39;49m\u001b[38;5;124;43m\"\u001b[39;49m\u001b[43m,\u001b[49m\u001b[43m \u001b[49m\u001b[38;5;124;43m\"\u001b[39;49m\u001b[38;5;124;43mr\u001b[39;49m\u001b[38;5;124;43m\"\u001b[39;49m\u001b[43m)\u001b[49m\n\u001b[1;32m      2\u001b[0m \u001b[38;5;28mprint\u001b[39m(\u001b[38;5;241m6\u001b[39m\u001b[38;5;241m+\u001b[39m\u001b[38;5;241m3\u001b[39m)\n\u001b[1;32m      3\u001b[0m \u001b[38;5;28mprint\u001b[39m(\u001b[38;5;124m\"\u001b[39m\u001b[38;5;124mThe file is opened and now I am performing some steps\u001b[39m\u001b[38;5;124m\"\u001b[39m)\n",
            "File \u001b[0;32m/opt/conda/lib/python3.10/site-packages/IPython/core/interactiveshell.py:282\u001b[0m, in \u001b[0;36m_modified_open\u001b[0;34m(file, *args, **kwargs)\u001b[0m\n\u001b[1;32m    275\u001b[0m \u001b[38;5;28;01mif\u001b[39;00m file \u001b[38;5;129;01min\u001b[39;00m {\u001b[38;5;241m0\u001b[39m, \u001b[38;5;241m1\u001b[39m, \u001b[38;5;241m2\u001b[39m}:\n\u001b[1;32m    276\u001b[0m     \u001b[38;5;28;01mraise\u001b[39;00m \u001b[38;5;167;01mValueError\u001b[39;00m(\n\u001b[1;32m    277\u001b[0m         \u001b[38;5;124mf\u001b[39m\u001b[38;5;124m\"\u001b[39m\u001b[38;5;124mIPython won\u001b[39m\u001b[38;5;124m'\u001b[39m\u001b[38;5;124mt let you open fd=\u001b[39m\u001b[38;5;132;01m{\u001b[39;00mfile\u001b[38;5;132;01m}\u001b[39;00m\u001b[38;5;124m by default \u001b[39m\u001b[38;5;124m\"\u001b[39m\n\u001b[1;32m    278\u001b[0m         \u001b[38;5;124m\"\u001b[39m\u001b[38;5;124mas it is likely to crash IPython. If you know what you are doing, \u001b[39m\u001b[38;5;124m\"\u001b[39m\n\u001b[1;32m    279\u001b[0m         \u001b[38;5;124m\"\u001b[39m\u001b[38;5;124myou can use builtins\u001b[39m\u001b[38;5;124m'\u001b[39m\u001b[38;5;124m open.\u001b[39m\u001b[38;5;124m\"\u001b[39m\n\u001b[1;32m    280\u001b[0m     )\n\u001b[0;32m--> 282\u001b[0m \u001b[38;5;28;01mreturn\u001b[39;00m \u001b[43mio_open\u001b[49m\u001b[43m(\u001b[49m\u001b[43mfile\u001b[49m\u001b[43m,\u001b[49m\u001b[43m \u001b[49m\u001b[38;5;241;43m*\u001b[39;49m\u001b[43margs\u001b[49m\u001b[43m,\u001b[49m\u001b[43m \u001b[49m\u001b[38;5;241;43m*\u001b[39;49m\u001b[38;5;241;43m*\u001b[39;49m\u001b[43mkwargs\u001b[49m\u001b[43m)\u001b[49m\n",
            "\u001b[0;31mFileNotFoundError\u001b[0m: [Errno 2] No such file or directory: 'example.txt'"
          ]
        }
      ],
      "source": [
        "f = open(\"example.txt\", \"r\")\n",
        "print(6+3)\n",
        "print(\"The file is opened and now I am performing some steps\")"
      ]
    },
    {
      "cell_type": "raw",
      "id": "191ffa72-97ab-4063-9fd4-89daf154b99b",
      "metadata": {
        "id": "191ffa72-97ab-4063-9fd4-89daf154b99b"
      },
      "source": [
        "#you were expecting something but it didnt happen, due to which the suspicious line threw error and\n",
        "the next lines of code didn't got executed.\n",
        "zerodivisionerror, typeerror, filenotfounderror>> these are exceptions rising due to suspicious code\n",
        "otherexceptions>>import error, runtime error\n",
        "\n",
        "list of exceptions>> https://docs.python.org/3/library/exceptions.html\n",
        "\n",
        "#why do we need to handle suspicious code/exceptions?\n",
        "-- Robust Application\n",
        "-- code cleaner >> fellow developer understands the corner cases\n",
        "\n",
        "#how to handle exceptions\n",
        ">>using try catch block to handle exceptions\n",
        ">>whenever exception occurs>>pyton stops teh program and generate exception\n",
        ">>handling this exception is advised\n",
        ">> every code that is risky/suspicious you should do exception handling"
      ]
    },
    {
      "cell_type": "code",
      "execution_count": null,
      "id": "513f5262-e994-4477-b19f-0717d2242e82",
      "metadata": {
        "id": "513f5262-e994-4477-b19f-0717d2242e82"
      },
      "outputs": [],
      "source": [
        "#syntax of try except\n",
        "# try:\n",
        "#     #suspicious code\n",
        "# except:\n",
        "#     #exceuted when exception occurs in try block\n"
      ]
    },
    {
      "cell_type": "code",
      "execution_count": null,
      "id": "9eb015e1-67d3-4c6d-9d6c-011e8e69d6de",
      "metadata": {
        "id": "9eb015e1-67d3-4c6d-9d6c-011e8e69d6de",
        "outputId": "d5c2f8f6-6df4-4647-aa55-430ad5e4f1a3"
      },
      "outputs": [
        {
          "name": "stdout",
          "output_type": "stream",
          "text": [
            "There is an issue with the code and the issue is: [Errno 2] No such file or directory: 'example.txt'\n",
            "9\n",
            "This is my next step\n"
          ]
        }
      ],
      "source": [
        "try:\n",
        "    f = open(\"example.txt\", \"r\")\n",
        "except Exception as e:#exception will always come inside except block\n",
        "    print(\"There is an issue with the code and the issue is:\", e)\n",
        "print(6+3)\n",
        "print(\"This is my next step\")"
      ]
    },
    {
      "cell_type": "code",
      "execution_count": null,
      "id": "cba4f25e-eb6f-4ba3-804e-20f45b62a3e0",
      "metadata": {
        "id": "cba4f25e-eb6f-4ba3-804e-20f45b62a3e0",
        "outputId": "baf3f938-4e08-4a70-e7bd-74d7798d0278"
      },
      "outputs": [
        {
          "name": "stdout",
          "output_type": "stream",
          "text": [
            "division by zero\n",
            "8\n",
            "Your name is Ajay \n",
            "5\n",
            "The code ends\n"
          ]
        }
      ],
      "source": [
        "try:\n",
        "    5/0\n",
        "except Exception as e:\n",
        "    print(e)\n",
        "print(5+3)\n",
        "print(\"Your name is Ajay \")\n",
        "print(2+3)\n",
        "print(\"The code ends\")"
      ]
    },
    {
      "cell_type": "code",
      "execution_count": null,
      "id": "bee82910-f987-4912-bba3-d3b8156b452a",
      "metadata": {
        "id": "bee82910-f987-4912-bba3-d3b8156b452a",
        "outputId": "8d1b9c92-7169-49d1-d191-072483f50e46"
      },
      "outputs": [
        {
          "name": "stdout",
          "output_type": "stream",
          "text": [
            "There is an issue with the code and the issue is: [Errno 2] No such file or directory: 'example.txt'\n"
          ]
        }
      ],
      "source": [
        "try:\n",
        "    f = open(\"example.txt\", \"r\")\n",
        "except Exception as e:\n",
        "    print(\"There is an issue with the code and the issue is:\", e)\n",
        "else:\n",
        "    print(5+3)\n",
        "    print(\"This will be executed if try except block is executed without any exception\")\n"
      ]
    },
    {
      "cell_type": "raw",
      "id": "597f6741-fcf0-48c5-9c3f-ff49f8aab80e",
      "metadata": {
        "id": "597f6741-fcf0-48c5-9c3f-ff49f8aab80e"
      },
      "source": [
        "#use case of else>> you want to execute some code only if the try statement is successful and code doent enter into exception block"
      ]
    },
    {
      "cell_type": "code",
      "execution_count": null,
      "id": "a57135b1-868d-43df-8f81-4c48cb2b18de",
      "metadata": {
        "id": "a57135b1-868d-43df-8f81-4c48cb2b18de",
        "outputId": "f71eaaf8-05e9-4277-c861-83e3e3e8c951"
      },
      "outputs": [
        {
          "name": "stdout",
          "output_type": "stream",
          "text": [
            "8\n",
            "This will be executed if try except block is executed without any exception\n"
          ]
        }
      ],
      "source": [
        "#use case -1\n",
        "try:\n",
        "    f = open(\"example.txt\", \"w\")\n",
        "except Exception as e:\n",
        "    print(\"There is an issue with the code and the issue is:\", e)\n",
        "else:\n",
        "    print(5+3)\n",
        "    print(\"This will be executed if try except block is executed without any exception\")\n"
      ]
    },
    {
      "cell_type": "code",
      "execution_count": null,
      "id": "5b142d0d-c0ce-48d3-8b7d-4ad12e9599cc",
      "metadata": {
        "id": "5b142d0d-c0ce-48d3-8b7d-4ad12e9599cc",
        "outputId": "958edbdd-a1fc-44c2-f6fa-5a68a0df1a3b"
      },
      "outputs": [
        {
          "name": "stdout",
          "output_type": "stream",
          "text": [
            "8\n",
            "This will be executed if try except block is executed without any exception\n"
          ]
        }
      ],
      "source": [
        "#use case 2\n",
        "try:\n",
        "    f = open(\"example.txt\", \"w\")\n",
        "    f.write(\"Hello to exception handling\")\n",
        "#you will not be able to see written content untill you close the file, close the file in else block\n",
        "except Exception as e:\n",
        "    print(\"There is an issue with the code and the issue is:\", e)\n",
        "else:\n",
        "    print(5+3)\n",
        "    print(\"This will be executed if try except block is executed without any exception\")\n"
      ]
    },
    {
      "cell_type": "code",
      "execution_count": null,
      "id": "22f5b348-b6d1-4485-b411-09ac7a452090",
      "metadata": {
        "id": "22f5b348-b6d1-4485-b411-09ac7a452090",
        "outputId": "1832f3f0-3fd5-475c-a215-5f3a175371d0"
      },
      "outputs": [
        {
          "name": "stdout",
          "output_type": "stream",
          "text": [
            "8\n",
            "This will be executed if try except block is executed without any exception\n"
          ]
        }
      ],
      "source": [
        "try:\n",
        "    f = open(\"example.txt\", \"w\")\n",
        "    f.write(\"Hello to exception handling\")\n",
        "#you will not be able to see written content untill you close the file, close the file in else block\n",
        "except Exception as e:\n",
        "    print(\"There is an issue with the code and the issue is:\", e)\n",
        "else:\n",
        "    f.close()\n",
        "    print(5+3)\n",
        "    print(\"This will be executed if try except block is executed without any exception\")\n"
      ]
    },
    {
      "cell_type": "code",
      "execution_count": null,
      "id": "f8244d26-be1a-4e7d-80e4-b2a668d653c9",
      "metadata": {
        "id": "f8244d26-be1a-4e7d-80e4-b2a668d653c9"
      },
      "outputs": [],
      "source": [
        "#else block is very helpful when your code didnt enter the xception block\n",
        "#for example you wanted to close the file after it was opened in try block"
      ]
    },
    {
      "cell_type": "code",
      "execution_count": null,
      "id": "993920b4-ec76-4050-a409-1f5a1decf017",
      "metadata": {
        "id": "993920b4-ec76-4050-a409-1f5a1decf017",
        "outputId": "5e7eb71b-d060-4b5e-c38e-52aaecebf9e0"
      },
      "outputs": [
        {
          "name": "stdout",
          "output_type": "stream",
          "text": [
            "8\n",
            "This will be executed if try except block is executed without any exception\n",
            "This will be executed always\n"
          ]
        }
      ],
      "source": [
        "#finally block >> always executed\n",
        "try:\n",
        "    f = open(\"example.txt\", \"w\")\n",
        "    f.write(\"Hello to exception handling\")\n",
        "except Exception as e:\n",
        "    print(\"There is an issue with the code and the issue is:\", e)\n",
        "else:\n",
        "    f.close()\n",
        "    print(5+3)\n",
        "    print(\"This will be executed if try except block is executed without any exception\")\n",
        "finally:\n",
        "    print(\"This will be executed always\")"
      ]
    },
    {
      "cell_type": "code",
      "execution_count": null,
      "id": "4ab097cf-58d4-4a60-be1a-0d473ae195f5",
      "metadata": {
        "id": "4ab097cf-58d4-4a60-be1a-0d473ae195f5",
        "outputId": "69bb1355-0c7e-4233-a787-06750fdb0022"
      },
      "outputs": [
        {
          "name": "stdout",
          "output_type": "stream",
          "text": [
            "There is an issue with the code and the issue is: [Errno 2] No such file or directory: 'example2.txt'\n",
            "This will be executed always\n"
          ]
        }
      ],
      "source": [
        "#finally block >> always executed\n",
        "#even if you enter exception block or not, finally will be executed always\n",
        "#similar to running other line of code\n",
        "try:\n",
        "    f = open(\"example2.txt\", \"r\")\n",
        "    f.write(\"Hello to exception handling\")\n",
        "except Exception as e:\n",
        "    print(\"There is an issue with the code and the issue is:\", e)\n",
        "else:\n",
        "    f.close()\n",
        "    print(5+3)\n",
        "    print(\"This will be executed if try except block is executed without any exception\")\n",
        "finally:\n",
        "    print(\"This will be executed always\")"
      ]
    },
    {
      "cell_type": "code",
      "execution_count": null,
      "id": "5fc130d6-9274-4cc0-9d50-b4e82ce9fdf1",
      "metadata": {
        "id": "5fc130d6-9274-4cc0-9d50-b4e82ce9fdf1",
        "outputId": "949d3718-ed71-428b-926f-232f3d0ce5a4"
      },
      "outputs": [
        {
          "name": "stdout",
          "output_type": "stream",
          "text": [
            "There is an issue with the code and the issue is: [Errno 2] No such file or directory: 'example2.txt'\n",
            "This will be executed always\n"
          ]
        }
      ],
      "source": [
        "try:\n",
        "    f = open(\"example2.txt\", \"r\")\n",
        "    f.write(\"Hello to exception handling\")\n",
        "except Exception as e:\n",
        "    print(\"There is an issue with the code and the issue is:\", e)\n",
        "else:\n",
        "    f.close()\n",
        "    print(5+3)\n",
        "    print(\"This will be executed if try except block is executed without any exception\")\n",
        "\n",
        "print(\"This will be executed always\")"
      ]
    },
    {
      "cell_type": "code",
      "execution_count": null,
      "id": "c4b8e0da-bedf-4e3d-8371-d92e081674ed",
      "metadata": {
        "id": "c4b8e0da-bedf-4e3d-8371-d92e081674ed",
        "outputId": "37c059f0-4eeb-47cc-8a9b-1989eefb4b30"
      },
      "outputs": [
        {
          "name": "stdout",
          "output_type": "stream",
          "text": [
            "division by zero\n",
            "This will be printed always\n"
          ]
        }
      ],
      "source": [
        "#another example\n",
        "try:\n",
        "    5/0\n",
        "except Exception as e:\n",
        "    print(e)\n",
        "finally:\n",
        "    print(\"This will be printed always\")"
      ]
    },
    {
      "cell_type": "code",
      "execution_count": null,
      "id": "7cfcff8f-7268-402a-aa10-f8d66ca54ee1",
      "metadata": {
        "id": "7cfcff8f-7268-402a-aa10-f8d66ca54ee1",
        "outputId": "32849c7e-dd2a-4fec-8989-c554b3bcb0d2"
      },
      "outputs": [
        {
          "name": "stdin",
          "output_type": "stream",
          "text": [
            "Enter your salary -3000\n"
          ]
        }
      ],
      "source": [
        "#custom exception\n",
        "income = int(input(\"Enter your salary\"))"
      ]
    },
    {
      "cell_type": "code",
      "execution_count": null,
      "id": "90a86c74-8ff6-40d1-9810-308bd452ec98",
      "metadata": {
        "id": "90a86c74-8ff6-40d1-9810-308bd452ec98"
      },
      "outputs": [],
      "source": [
        "def validate_salary(salary):\n",
        "    if salary <= 0:\n",
        "        print(\"negative salary is not possible\")\n",
        "    elif salary >= 30000000:\n",
        "        print(\"salary is unexpected\")\n",
        "    else:\n",
        "        print(\"salary is valid\")"
      ]
    },
    {
      "cell_type": "code",
      "execution_count": null,
      "id": "b6fee438-c574-4c9f-b6e9-71ee97ab8350",
      "metadata": {
        "id": "b6fee438-c574-4c9f-b6e9-71ee97ab8350",
        "outputId": "24b3aac9-cbbb-4cce-e511-5bff5a491515"
      },
      "outputs": [
        {
          "name": "stdout",
          "output_type": "stream",
          "text": [
            "salary is valid\n"
          ]
        }
      ],
      "source": [
        "validate_salary(500)"
      ]
    },
    {
      "cell_type": "code",
      "execution_count": null,
      "id": "685a687b-0e51-4b07-a8b8-b57545c966c3",
      "metadata": {
        "id": "685a687b-0e51-4b07-a8b8-b57545c966c3"
      },
      "outputs": [],
      "source": [
        "#custom exception class\n",
        "class ValidateSalary(Exception): #Exception is the parent class where all type of python exceptions are available\n",
        "    def __init__(self, msg):\n",
        "        self.msg = msg"
      ]
    },
    {
      "cell_type": "code",
      "execution_count": null,
      "id": "cbcd1108-6bb2-4072-93ca-142d013578fe",
      "metadata": {
        "id": "cbcd1108-6bb2-4072-93ca-142d013578fe"
      },
      "outputs": [],
      "source": [
        "def validate_salary(salary):\n",
        "    if salary <= 0:\n",
        "        raise ValidateSalary(\"negative salary is not possible\")\n",
        "    elif salary >= 30000000:\n",
        "        raise ValidateSalary(\"salary is unexpected\")\n",
        "    else:\n",
        "        print(\"salary is valid\")"
      ]
    },
    {
      "cell_type": "code",
      "execution_count": null,
      "id": "cca1c6d2-a96e-4abc-a8a8-f9f75ec3d292",
      "metadata": {
        "id": "cca1c6d2-a96e-4abc-a8a8-f9f75ec3d292",
        "outputId": "a95d67fc-0d8b-42ca-e135-0957249cd248"
      },
      "outputs": [
        {
          "name": "stdin",
          "output_type": "stream",
          "text": [
            "Enter your salary 300000000000000\n"
          ]
        },
        {
          "name": "stdout",
          "output_type": "stream",
          "text": [
            "salary is unexpected\n"
          ]
        }
      ],
      "source": [
        "try:\n",
        "    salary = int(input(\"Enter your salary\"))\n",
        "    validate_salary(salary)\n",
        "except ValidateSalary as e:\n",
        "    print(e)"
      ]
    },
    {
      "cell_type": "code",
      "execution_count": null,
      "id": "8673c97e-3dc4-4d5d-a7bd-a6949a3a4603",
      "metadata": {
        "id": "8673c97e-3dc4-4d5d-a7bd-a6949a3a4603"
      },
      "outputs": [],
      "source": [
        "text_content = \"\"\"\n",
        "example1\n",
        "example2\n",
        "example3\n",
        "\"\"\""
      ]
    },
    {
      "cell_type": "code",
      "source": [
        "with open(\"example.txt\", \"w\") as file:\n",
        "    file.write(text_content)"
      ],
      "metadata": {
        "id": "kWIFb1jc2N7I"
      },
      "id": "kWIFb1jc2N7I",
      "execution_count": null,
      "outputs": []
    },
    {
      "cell_type": "code",
      "source": [
        "with open(\"example.txt\", \"r\") as file:\n",
        "    data = file.read()\n",
        "print(data)"
      ],
      "metadata": {
        "colab": {
          "base_uri": "https://localhost:8080/"
        },
        "id": "Y7m-jiNi2-z4",
        "outputId": "710f2a4b-8d91-4bef-8c3e-985a98738348"
      },
      "id": "Y7m-jiNi2-z4",
      "execution_count": null,
      "outputs": [
        {
          "output_type": "stream",
          "name": "stdout",
          "text": [
            " \n",
            "example1\n",
            "example2\n",
            "example3\n",
            "\n"
          ]
        }
      ]
    },
    {
      "cell_type": "code",
      "source": [
        "#csv>>comma separated values file\n",
        "data = [[\"Name\", \"Course\", \"Fee\"],\n",
        "       [\"manjulika\", \"DS\", \"20000\"],\n",
        "       [\"manjulika ka boyfriend ajay\", \"DA\", \"30000\"]]"
      ],
      "metadata": {
        "id": "y-8AawBY3IUn"
      },
      "id": "y-8AawBY3IUn",
      "execution_count": null,
      "outputs": []
    },
    {
      "cell_type": "code",
      "source": [
        "for i in data:\n",
        "    print(i)"
      ],
      "metadata": {
        "colab": {
          "base_uri": "https://localhost:8080/"
        },
        "id": "abfOrVif3NW5",
        "outputId": "296cab4c-ecdb-48b0-9c9a-5528b802dc03"
      },
      "id": "abfOrVif3NW5",
      "execution_count": null,
      "outputs": [
        {
          "output_type": "stream",
          "name": "stdout",
          "text": [
            "['Name', 'Course', 'Fee']\n",
            "['manjulika', 'DS', '20000']\n",
            "['manjulika ka boyfriend ajay', 'DA', '30000']\n"
          ]
        }
      ]
    },
    {
      "cell_type": "code",
      "source": [
        "import csv\n",
        "with open(\"example_csv.csv\", \"w\") as f:\n",
        "    w = csv.writer(f)\n",
        "    for i in data:\n",
        "        w.writerow(i)"
      ],
      "metadata": {
        "id": "MWgDHIHb3ai9"
      },
      "id": "MWgDHIHb3ai9",
      "execution_count": null,
      "outputs": []
    },
    {
      "cell_type": "code",
      "source": [
        "with open(\"example_csv.csv\", 'r') as f:\n",
        "    r = csv.reader(f)\n",
        "    for i in r:\n",
        "        print(i)"
      ],
      "metadata": {
        "colab": {
          "base_uri": "https://localhost:8080/"
        },
        "id": "GxK3YDEF3djM",
        "outputId": "c6eb3476-fe41-47bd-a7c0-84add68f65d5"
      },
      "id": "GxK3YDEF3djM",
      "execution_count": null,
      "outputs": [
        {
          "output_type": "stream",
          "name": "stdout",
          "text": [
            "['Name', 'Course', 'Fee']\n",
            "['manjulika', 'DS', '20000']\n",
            "['manjulika ka boyfriend ajay', 'DA', '30000']\n"
          ]
        }
      ]
    },
    {
      "cell_type": "code",
      "source": [
        "#JSON>> Javascript object notation\n",
        "data = {\"name\": \"Ajay\",\n",
        "       \"course\":\"DS\",\n",
        "       \"fee\": 2000}\n",
        "data"
      ],
      "metadata": {
        "colab": {
          "base_uri": "https://localhost:8080/"
        },
        "id": "ffAS-RRi3u_s",
        "outputId": "3018db16-d522-4e3a-d914-71238e1679bf"
      },
      "id": "ffAS-RRi3u_s",
      "execution_count": null,
      "outputs": [
        {
          "output_type": "execute_result",
          "data": {
            "text/plain": [
              "{'name': 'Ajay', 'course': 'DS', 'fee': 2000}"
            ]
          },
          "metadata": {},
          "execution_count": 9
        }
      ]
    },
    {
      "cell_type": "code",
      "source": [
        "import json\n",
        "with open(\"file_json.json\", \"w\") as f:\n",
        "    json.dump(data, f)"
      ],
      "metadata": {
        "id": "lc-OtEXX3-ih"
      },
      "id": "lc-OtEXX3-ih",
      "execution_count": null,
      "outputs": []
    },
    {
      "cell_type": "code",
      "source": [
        "with open(\"file_json.json\", \"r\") as f:\n",
        "    data = json.load(f)\n",
        "print(data)"
      ],
      "metadata": {
        "colab": {
          "base_uri": "https://localhost:8080/"
        },
        "id": "yg88luIE4EQ-",
        "outputId": "00759bd3-bc2d-4750-87a2-48f6a0b9f764"
      },
      "id": "yg88luIE4EQ-",
      "execution_count": null,
      "outputs": [
        {
          "output_type": "stream",
          "name": "stdout",
          "text": [
            "{'name': 'Ajay', 'course': 'DS', 'fee': 2000}\n"
          ]
        }
      ]
    },
    {
      "cell_type": "code",
      "source": [
        "#write a binary data in a file\n",
        "#wb>>write byte mode\n",
        "with open(\"test_bin.bin\", \"wb\") as f:\n",
        "    f.write(b\"\\x48\\x65\\x6c\\x6c\\x6f\\x2c\\x20\\x57\\x6f\\x72\\x6c\\x64\\x21\")"
      ],
      "metadata": {
        "id": "-aXgbinm4LNH"
      },
      "id": "-aXgbinm4LNH",
      "execution_count": null,
      "outputs": []
    },
    {
      "cell_type": "code",
      "source": [
        "with open(\"test_bin.bin\", \"rb\") as f:\n",
        "    print(f.read())"
      ],
      "metadata": {
        "colab": {
          "base_uri": "https://localhost:8080/"
        },
        "id": "-p0CdsW54Qi6",
        "outputId": "cb45a0af-978f-47e1-8b63-61977dbc241f"
      },
      "id": "-p0CdsW54Qi6",
      "execution_count": null,
      "outputs": [
        {
          "output_type": "stream",
          "name": "stdout",
          "text": [
            "b'Hello, World!'\n"
          ]
        }
      ]
    },
    {
      "cell_type": "code",
      "source": [
        "#Buffered reading and writing\n",
        "#it alllows the program to read and write data in chunks\n",
        "#it increases test performance and efficiency"
      ],
      "metadata": {
        "id": "9gNaNffZ4TRl"
      },
      "id": "9gNaNffZ4TRl",
      "execution_count": null,
      "outputs": []
    },
    {
      "cell_type": "code",
      "source": [
        "import io\n",
        "with open('test_buf.txt', \"wb\") as f:\n",
        "    file = io.BufferedWriter(f)\n",
        "    file.write(b\"A computer is a machine that can be programmed to automatically carry out sequences of arithmetic or logical operations (computation). Modern digital electronic computers can perform generic sets of operations known as programs. These programs enable computers to perform a wide range of tasks. The term computer system may refer to a nominally complete computer that includes the hardware, operating system, software, and peripheral equipment needed and used for full operation; or to a group of computers that are linked and function together, such as a computer network or computer cluster.\")\n",
        "    file.write(b\"Hello world, how are you?\")\n",
        "    file.write(b\"I am studying ds\")\n",
        "    file.flush()"
      ],
      "metadata": {
        "id": "2ws4FKao4nW-"
      },
      "id": "2ws4FKao4nW-",
      "execution_count": null,
      "outputs": []
    },
    {
      "cell_type": "code",
      "source": [
        "with open('test_buf.txt', \"rb\") as f:\n",
        "    file = io.BufferedReader(f)\n",
        "    data = file.read(15) #read the first chunk of 100 bytes\n",
        "    print(data)"
      ],
      "metadata": {
        "colab": {
          "base_uri": "https://localhost:8080/"
        },
        "id": "J-qWugsR453Q",
        "outputId": "d80014a7-d093-41b1-ce44-a9a9a9f3a20c"
      },
      "id": "J-qWugsR453Q",
      "execution_count": null,
      "outputs": [
        {
          "output_type": "stream",
          "name": "stdout",
          "text": [
            "b'A computer is a'\n"
          ]
        }
      ]
    },
    {
      "cell_type": "markdown",
      "source": [
        "# General use of exceptions and best practices"
      ],
      "metadata": {
        "id": "rnsesdIy5JS8"
      },
      "id": "rnsesdIy5JS8"
    },
    {
      "cell_type": "code",
      "source": [
        "try:\n",
        "    10/0\n",
        "except Exception as e:\n",
        "    print(\"There is some error\", e)"
      ],
      "metadata": {
        "colab": {
          "base_uri": "https://localhost:8080/"
        },
        "id": "q0h1CNMT5B5_",
        "outputId": "f2c79ef6-07cd-4505-f6ef-ab58a21c7bea"
      },
      "id": "q0h1CNMT5B5_",
      "execution_count": null,
      "outputs": [
        {
          "output_type": "stream",
          "name": "stdout",
          "text": [
            "There is some error division by zero\n"
          ]
        }
      ]
    },
    {
      "cell_type": "code",
      "source": [
        "#The above example is of generic exception handling"
      ],
      "metadata": {
        "id": "PyIg7V3M5Lar"
      },
      "id": "PyIg7V3M5Lar",
      "execution_count": null,
      "outputs": []
    },
    {
      "cell_type": "code",
      "source": [
        "try:\n",
        "    10/0 #suspicion\n",
        "except ZeroDivisionError as e:\n",
        "    print(\"Here I am handling the zero divison error:\", e)"
      ],
      "metadata": {
        "colab": {
          "base_uri": "https://localhost:8080/"
        },
        "id": "nsgCupzA6OeF",
        "outputId": "d1b69a11-aac4-4d2e-c829-d1f476d3fc1a"
      },
      "id": "nsgCupzA6OeF",
      "execution_count": null,
      "outputs": [
        {
          "output_type": "stream",
          "name": "stdout",
          "text": [
            "Here I am handling the zero divison error: division by zero\n"
          ]
        }
      ]
    },
    {
      "cell_type": "code",
      "source": [
        "#best practice 1: always catch specific error\n",
        "#specificity in exception handling"
      ],
      "metadata": {
        "id": "gs5EbItK6QCs"
      },
      "id": "gs5EbItK6QCs",
      "execution_count": null,
      "outputs": []
    },
    {
      "cell_type": "code",
      "source": [
        "#another example\n",
        "try:\n",
        "    10/\"some string\"\n",
        "except TypeError as e:\n",
        "    print(\"Some string is being used in divison\", e)"
      ],
      "metadata": {
        "colab": {
          "base_uri": "https://localhost:8080/"
        },
        "id": "1imWMvJRC7jT",
        "outputId": "f4dca408-04a2-4b93-e0e3-49fc12671e47"
      },
      "id": "1imWMvJRC7jT",
      "execution_count": null,
      "outputs": [
        {
          "output_type": "stream",
          "name": "stdout",
          "text": [
            "Some string is being used in divison unsupported operand type(s) for /: 'int' and 'str'\n"
          ]
        }
      ]
    },
    {
      "cell_type": "code",
      "source": [
        "#benefit of handling specific error>> you know what error is expected and if\n",
        "#other error comes which you were not able to think, you be able address that"
      ],
      "metadata": {
        "id": "YEXYnD73Dk-O"
      },
      "id": "YEXYnD73Dk-O",
      "execution_count": null,
      "outputs": []
    },
    {
      "cell_type": "code",
      "source": [
        "#example to handle some specific exception\n",
        "try:\n",
        "    10/\"3\"\n",
        "except TypeError as e:\n",
        "    print(\"Some string is being used in divison\", e)\n",
        "    print(\"The calculation is\", 10/int(\"3\"))"
      ],
      "metadata": {
        "colab": {
          "base_uri": "https://localhost:8080/"
        },
        "id": "UXJ3IXEwDtPe",
        "outputId": "b67f0bfc-d5a0-4ed0-aa3c-a98ab50ad2cf"
      },
      "id": "UXJ3IXEwDtPe",
      "execution_count": null,
      "outputs": [
        {
          "output_type": "stream",
          "name": "stdout",
          "text": [
            "Some string is being used in divison unsupported operand type(s) for /: 'int' and 'str'\n",
            "The calculation is 3.3333333333333335\n"
          ]
        }
      ]
    },
    {
      "cell_type": "code",
      "source": [
        "#another example of handling specific exception\n",
        "\n",
        "try:\n",
        "    10/0\n",
        "except ZeroDivisionError as e:\n",
        "    print(\"Here I am handling the zero divison error:\", e)\n",
        "    print(\"Since the den value is 0, using default value 1, the quotient is \", 10/1)"
      ],
      "metadata": {
        "colab": {
          "base_uri": "https://localhost:8080/"
        },
        "id": "Zyuu4g6LFH2v",
        "outputId": "359474c0-4d6a-4ea6-878a-849dd7c7180b"
      },
      "id": "Zyuu4g6LFH2v",
      "execution_count": null,
      "outputs": [
        {
          "output_type": "stream",
          "name": "stdout",
          "text": [
            "Here I am handling the zero divison error: division by zero\n",
            "Since the den value is 0, using default value 1, the quotient is  10.0\n"
          ]
        }
      ]
    },
    {
      "cell_type": "code",
      "source": [
        "try:\n",
        "    int(\"pwskills\")\n",
        "except ValueError as e:\n",
        "    print(\"The string can not be converted to integer\", e)"
      ],
      "metadata": {
        "colab": {
          "base_uri": "https://localhost:8080/"
        },
        "id": "Yly-fxoBFrIX",
        "outputId": "52193050-6d77-42a3-e8fc-657623337bb7"
      },
      "id": "Yly-fxoBFrIX",
      "execution_count": null,
      "outputs": [
        {
          "output_type": "stream",
          "name": "stdout",
          "text": [
            "The string can not be converted to integer invalid literal for int() with base 10: 'pwskills'\n"
          ]
        }
      ]
    },
    {
      "cell_type": "code",
      "source": [
        "#handling two specific exception/multiple exceptions\n",
        "try:\n",
        "    10/0\n",
        "except (ZeroDivisionError, TypeError) as e:\n",
        "    print(\"The divison is not possible due the error>>\", e)"
      ],
      "metadata": {
        "colab": {
          "base_uri": "https://localhost:8080/"
        },
        "id": "aa7eee4JFt4J",
        "outputId": "0918526a-dc28-4b86-9709-82cf2d00eee7"
      },
      "id": "aa7eee4JFt4J",
      "execution_count": null,
      "outputs": [
        {
          "output_type": "stream",
          "name": "stdout",
          "text": [
            "The divison is not possible due the error>> division by zero\n"
          ]
        }
      ]
    },
    {
      "cell_type": "code",
      "source": [
        "#handle multiple exceptions in separate blocks\n",
        "try:\n",
        "    10/'str'\n",
        "except ZeroDivisionError as e:\n",
        "    print(\"The divison is not possible due the error>>\", e)\n",
        "except TypeError as e:\n",
        "    print(\"This is type error>>\", e)"
      ],
      "metadata": {
        "colab": {
          "base_uri": "https://localhost:8080/"
        },
        "id": "gqlB-sy9F5sl",
        "outputId": "5699c2cd-654b-484d-a9bb-bcb73b118db9"
      },
      "id": "gqlB-sy9F5sl",
      "execution_count": null,
      "outputs": [
        {
          "output_type": "stream",
          "name": "stdout",
          "text": [
            "This is type error>> unsupported operand type(s) for /: 'int' and 'str'\n"
          ]
        }
      ]
    },
    {
      "cell_type": "code",
      "source": [
        "import csv"
      ],
      "metadata": {
        "id": "4nn-ivEoGeI1"
      },
      "id": "4nn-ivEoGeI1",
      "execution_count": null,
      "outputs": []
    },
    {
      "cell_type": "code",
      "source": [
        "try:\n",
        "    import pwskills\n",
        "except ModuleNotFoundError as e:\n",
        "    print(\"The module not found\", e)"
      ],
      "metadata": {
        "colab": {
          "base_uri": "https://localhost:8080/"
        },
        "id": "L_zxImMrG4M9",
        "outputId": "231366ca-0834-49f3-c7f0-116792c8a38a"
      },
      "id": "L_zxImMrG4M9",
      "execution_count": null,
      "outputs": [
        {
          "output_type": "stream",
          "name": "stdout",
          "text": [
            "The module not found No module named 'pwskills'\n"
          ]
        }
      ]
    },
    {
      "cell_type": "code",
      "source": [
        "try:\n",
        "    test()\n",
        "except NameError as e:\n",
        "    print(\"The nameError is\", e)"
      ],
      "metadata": {
        "colab": {
          "base_uri": "https://localhost:8080/"
        },
        "id": "MBiGTBLGG8K7",
        "outputId": "70388b76-6840-4449-d266-1b473c221f2b"
      },
      "id": "MBiGTBLGG8K7",
      "execution_count": null,
      "outputs": [
        {
          "output_type": "stream",
          "name": "stdout",
          "text": [
            "The nameError is name 'test' is not defined\n"
          ]
        }
      ]
    },
    {
      "cell_type": "code",
      "source": [
        "d = {\"name\": \"Ajay\", \"class\": \"ds\"}"
      ],
      "metadata": {
        "id": "YsYzxtKMHCRW"
      },
      "id": "YsYzxtKMHCRW",
      "execution_count": null,
      "outputs": []
    },
    {
      "cell_type": "code",
      "source": [
        "try:\n",
        "    d = {\"name\": \"Ajay\", \"class\": \"ds\"}\n",
        "    d[\"age\"]\n",
        "except KeyError as e:\n",
        "    print(\"The key is not found\", e)"
      ],
      "metadata": {
        "colab": {
          "base_uri": "https://localhost:8080/"
        },
        "id": "pCn2hSBkHU2a",
        "outputId": "0419fc7f-c577-4e02-83d3-85da5e6a356e"
      },
      "id": "pCn2hSBkHU2a",
      "execution_count": null,
      "outputs": [
        {
          "output_type": "stream",
          "name": "stdout",
          "text": [
            "The key is not found 'age'\n"
          ]
        }
      ]
    },
    {
      "cell_type": "code",
      "source": [
        "try:\n",
        "    l = [1, 2, 3, 4]\n",
        "    l[4]\n",
        "except IndexError as e:\n",
        "    print(\"The index not found\", e)"
      ],
      "metadata": {
        "colab": {
          "base_uri": "https://localhost:8080/"
        },
        "id": "j_J6QqEuHb7w",
        "outputId": "dc7db6fc-bec1-478e-bb62-63951a758763"
      },
      "id": "j_J6QqEuHb7w",
      "execution_count": null,
      "outputs": [
        {
          "output_type": "stream",
          "name": "stdout",
          "text": [
            "The index not found list index out of range\n"
          ]
        }
      ]
    },
    {
      "cell_type": "code",
      "source": [
        "try:\n",
        "    f = open(\"example.txt\", \"r\")\n",
        "    f.read()\n",
        "except FileNotFoundError as e:\n",
        "    print(\"The following file was not created, please re run the code\", e)"
      ],
      "metadata": {
        "colab": {
          "base_uri": "https://localhost:8080/"
        },
        "id": "YQsDfuz4HiL5",
        "outputId": "c3a8b87e-be56-44b6-afd5-7b542a280e77"
      },
      "id": "YQsDfuz4HiL5",
      "execution_count": null,
      "outputs": [
        {
          "output_type": "stream",
          "name": "stdout",
          "text": [
            "The following file was not created, please re run the code [Errno 2] No such file or directory: 'example.txt'\n"
          ]
        }
      ]
    },
    {
      "cell_type": "code",
      "source": [
        "#sometime you will not know what could be the possible exceptions\n",
        "try:\n",
        "    f = open(\"example.txt\", \"r\")\n",
        "    f.read()\n",
        "except Exception as e: #parent class\n",
        "    print(\"first msg-----File is not opened due to\", e)\n",
        "except FileNotFoundError as e:\n",
        "    print(\"The following file was not created, please re run the code\", e)"
      ],
      "metadata": {
        "colab": {
          "base_uri": "https://localhost:8080/"
        },
        "id": "Gcxij9roHp_K",
        "outputId": "a969351c-a7b7-4cc1-89b9-6b1905e5b733"
      },
      "id": "Gcxij9roHp_K",
      "execution_count": null,
      "outputs": [
        {
          "output_type": "stream",
          "name": "stdout",
          "text": [
            "first msg-----File is not opened due to [Errno 2] No such file or directory: 'example.txt'\n"
          ]
        }
      ]
    },
    {
      "cell_type": "code",
      "source": [
        "#best practice\n",
        "#in case you know specific exception keep that block first\n",
        "#and the block of generic exception after that\n",
        "\n",
        "try:\n",
        "    f = open(\"example.txt\", \"r\")\n",
        "    f.read()\n",
        "except FileNotFoundError as e:\n",
        "    print(\"The following file was not created, please re run the code\", e)\n",
        "except Exception as e: #parent class\n",
        "    print(\"last msg-----File is not opened due to\", e)"
      ],
      "metadata": {
        "colab": {
          "base_uri": "https://localhost:8080/"
        },
        "id": "VYvzySaMHvUO",
        "outputId": "9f7e5cc5-33eb-49c8-c6e9-6ccc86ef6343"
      },
      "id": "VYvzySaMHvUO",
      "execution_count": null,
      "outputs": [
        {
          "output_type": "stream",
          "name": "stdout",
          "text": [
            "The following file was not created, please re run the code [Errno 2] No such file or directory: 'example.txt'\n"
          ]
        }
      ]
    },
    {
      "cell_type": "code",
      "source": [
        "#anothe rexample of above case\n",
        "try:\n",
        "    10/\"string\"\n",
        "except ZeroDivisionError as e:\n",
        "    print(\"The divison is not possible due the error>>\", e)\n",
        "except Exception as e:\n",
        "    print(\"The error is\", e)"
      ],
      "metadata": {
        "colab": {
          "base_uri": "https://localhost:8080/"
        },
        "id": "x4x26-3wJ4hG",
        "outputId": "3809dbf8-d45b-4082-e435-0b38a069e701"
      },
      "id": "x4x26-3wJ4hG",
      "execution_count": null,
      "outputs": [
        {
          "output_type": "stream",
          "name": "stdout",
          "text": [
            "The error is unsupported operand type(s) for /: 'int' and 'str'\n"
          ]
        }
      ]
    },
    {
      "cell_type": "code",
      "source": [
        "from google.colab import drive\n",
        "drive.mount('/content/drive')"
      ],
      "metadata": {
        "colab": {
          "base_uri": "https://localhost:8080/",
          "height": 0
        },
        "id": "d7_BKJYARhZM",
        "outputId": "639622cc-96c1-4e9c-a0f1-66910eebb8e6"
      },
      "id": "d7_BKJYARhZM",
      "execution_count": 2,
      "outputs": [
        {
          "output_type": "stream",
          "name": "stdout",
          "text": [
            "Mounted at /content/drive\n"
          ]
        }
      ]
    },
    {
      "cell_type": "code",
      "source": [
        "import logging\n",
        "import os\n",
        "\n",
        "# Create a folder for logs\n",
        "log_dir = '/content/drive/My Drive/Colab Notebooks/Logs'\n",
        "os.makedirs(log_dir, exist_ok=True)\n",
        "\n",
        "# Configure logging\n",
        "logging.basicConfig(filename=os.path.join(log_dir, 'my_log.log'), level=logging.DEBUG)\n",
        "\n",
        "# Test logging\n",
        "logging.info('This is a test log message.')"
      ],
      "metadata": {
        "id": "6Cx1S6nha2Zc"
      },
      "id": "6Cx1S6nha2Zc",
      "execution_count": null,
      "outputs": []
    },
    {
      "cell_type": "code",
      "source": [
        "#best practice>> always try to log\n",
        "import os\n",
        "import logging\n",
        "logging.basicConfig(filename = \"program.log\", level = logging.DEBUG,  force=True)\n",
        "try:\n",
        "    f = open(\"example.txt\", \"r\")\n",
        "    f.read()\n",
        "except FileNotFoundError as e:\n",
        "    logging.error(f\"My file was not found {e}\")"
      ],
      "metadata": {
        "id": "xu_6XSNAJ9k-"
      },
      "id": "xu_6XSNAJ9k-",
      "execution_count": null,
      "outputs": []
    },
    {
      "cell_type": "code",
      "source": [
        "import logging\n",
        "logging.basicConfig(filename = \"program1.log\", level = logging.DEBUG,force=True)\n",
        "try:\n",
        "    10/0\n",
        "except ZeroDivisionError as e:\n",
        "    logging.error(\"I am trying to handle a zero division error\")\n",
        "    logging.error(f\"My file was not found {e}\")"
      ],
      "metadata": {
        "id": "S4S9KXgWQdzk"
      },
      "id": "S4S9KXgWQdzk",
      "execution_count": null,
      "outputs": []
    },
    {
      "cell_type": "code",
      "source": [
        "#putting exception handling in a function\n",
        "def test(file):\n",
        "    try:\n",
        "        f = open(file, \"r\")\n",
        "        f.read()\n",
        "    except FileNotFoundError as e:\n",
        "        print(f\"My file was not found {e}\")"
      ],
      "metadata": {
        "id": "27Ns9NYfi9pe"
      },
      "id": "27Ns9NYfi9pe",
      "execution_count": null,
      "outputs": []
    },
    {
      "cell_type": "code",
      "source": [
        "test(\"example.txt\")"
      ],
      "metadata": {
        "colab": {
          "base_uri": "https://localhost:8080/"
        },
        "id": "lC568Bygnxw1",
        "outputId": "2ac48d69-520e-479f-905f-25da7060be84"
      },
      "id": "lC568Bygnxw1",
      "execution_count": null,
      "outputs": [
        {
          "output_type": "stream",
          "name": "stdout",
          "text": [
            "My file was not found [Errno 2] No such file or directory: 'example.txt'\n"
          ]
        }
      ]
    },
    {
      "cell_type": "code",
      "source": [
        "#do not try to use unnecessary exception/multiple exception\n",
        "#exmple:: filenotfound exception is never possible in divison\n",
        "#so no point to handle filenotfound error here\n",
        "#instead you can handle typeError or use generic excepction class\n",
        "try:\n",
        "    10/0\n",
        "except ZeroDivisionError as e:\n",
        "    print(\"The divison is not possible due the error>>\", e)\n",
        "except FileNotFoundError as e:#unnecessary\n",
        "    print(\"The error is\", e)"
      ],
      "metadata": {
        "colab": {
          "base_uri": "https://localhost:8080/"
        },
        "id": "6Kbp6iVzoS03",
        "outputId": "66cb6a47-9bb7-48f7-f012-848de63e9e56"
      },
      "id": "6Kbp6iVzoS03",
      "execution_count": null,
      "outputs": [
        {
          "output_type": "stream",
          "name": "stdout",
          "text": [
            "The divison is not possible due the error>> division by zero\n"
          ]
        }
      ]
    },
    {
      "cell_type": "code",
      "source": [
        "#zero divion error doesnt make any sense here\n",
        "def test(file):\n",
        "    try:\n",
        "        f = open(file, \"r\")\n",
        "        f.read()\n",
        "    except FileNotFoundError as e:\n",
        "        print(f\"My file was not found {e}\")\n",
        "    except ZeroDivisionError as e:#unnecesary\n",
        "        print(\"The divison is not possible due the error>>\", e)"
      ],
      "metadata": {
        "id": "n_upqM7QoUPa"
      },
      "id": "n_upqM7QoUPa",
      "execution_count": null,
      "outputs": []
    },
    {
      "cell_type": "code",
      "source": [
        "test(\"example.txt\")"
      ],
      "metadata": {
        "colab": {
          "base_uri": "https://localhost:8080/"
        },
        "id": "YSswV1NlomvY",
        "outputId": "52168a6d-9552-45f0-f0aa-ed6b0fa9cca6"
      },
      "id": "YSswV1NlomvY",
      "execution_count": null,
      "outputs": [
        {
          "output_type": "stream",
          "name": "stdout",
          "text": [
            "My file was not found [Errno 2] No such file or directory: 'example.txt'\n"
          ]
        }
      ]
    },
    {
      "cell_type": "code",
      "source": [
        "#best practice:: give proper documentation in docstring/proper comments in your code\n",
        "def test(file):\n",
        "    \"\"\"\n",
        "    This function is about is reading a file.\n",
        "\n",
        "    Args:\n",
        "        input: file(str)\n",
        "        output: text(str)\n",
        "    \"\"\"\n",
        "    try:\n",
        "        f = open(file, \"r\")\n",
        "        f.read()\n",
        "    except FileNotFoundError as e:\n",
        "        print(f\"My file was not found {e}\")\n",
        "    #unnecesary exception\n",
        "    except ZeroDivisionError as e:\n",
        "        print(\"The divison is not possible due the error>>\", e)"
      ],
      "metadata": {
        "id": "Z5jhUfpVoutR"
      },
      "id": "Z5jhUfpVoutR",
      "execution_count": null,
      "outputs": []
    },
    {
      "cell_type": "code",
      "source": [
        "#best practice>> always clean up the resources using finally\n",
        "\n",
        "\n",
        "def test(file):\n",
        "    \"\"\"\n",
        "    This function is about is reading a file.\n",
        "\n",
        "    Args:\n",
        "        input: file(str)\n",
        "        output: text(str)\n",
        "    \"\"\"\n",
        "    try:\n",
        "        f = open(file, \"w\")\n",
        "        f.write(\"Anything being written\")\n",
        "    except FileNotFoundError as e:\n",
        "        print(f\"My file was not found {e}\")\n",
        "    finally:\n",
        "        f.close()"
      ],
      "metadata": {
        "id": "3kFdd8xfpVIb"
      },
      "id": "3kFdd8xfpVIb",
      "execution_count": null,
      "outputs": []
    },
    {
      "cell_type": "code",
      "source": [
        "test(\"example.txt\")"
      ],
      "metadata": {
        "id": "oFJuHqCZpgCX"
      },
      "id": "oFJuHqCZpgCX",
      "execution_count": null,
      "outputs": []
    },
    {
      "cell_type": "markdown",
      "source": [
        "#   logging_debugging\n"
      ],
      "metadata": {
        "id": "SPxHF8yrqgSr"
      },
      "id": "SPxHF8yrqgSr"
    },
    {
      "cell_type": "markdown",
      "source": [
        "# what is logging and why its important\n",
        "Logging in Python is a means of tracking events that happen when your software runs. It's a built-in module that allows you to record information about your program's execution, including errors, warnings, and other useful messages.\n",
        "\n",
        "→  if you don’t have any logging record and your program crashes, there are very few chances that you detect the cause of the problem. And if you detect the cause, it will consume a lot of time. With logging, you can leave a trail of breadcrumbs so that if something goes wrong, we can determine the cause of the problem.\n",
        "\n",
        "There are a number of situations like if you are expecting an integer, you have been given a float and you can a cloud API, the service is down for maintenance, and much more. Such problems are out of control and are hard to determine.\n",
        "\n",
        "Logging is an essential part of building reliable software because it creates an audit trail of system operations. This trail can help diagnose issues, understand runtime behavior, and analyze user interactions.\n",
        "\n",
        "\n",
        "#Why print statement is not working\n",
        "\n",
        "→ Some developers use the concept of printing the statements to validate if the statements are executed correctly or if some error has occurred. But printing is not a good idea. It may solve your issues for simple scripts but for complex scripts, the printing approach will fail.\n",
        "Python has a built-in module logging which allows writing status messages to a file or any other output streams. The file can contain information on which part of the code is executed and what problems have arisen.  \n",
        "\n",
        "# syntax of logging\n",
        "\n",
        "logging.basicConfig(filename='app.log', level=logging.DEBUG, format='%(asctime)s - %(levelname)s - %(message)s')\n",
        "\n",
        "%(asctime)s: The time the log message was generated\n",
        "%(levelname)s: The severity level of the log message\n",
        "%(message)s: The log message\n",
        "\n",
        "\n",
        "\n",
        "filename: Specifies the file where logs will be saved.\n",
        "\n",
        "level: Sets the minimum severity level for messages to be logged (e.g., DEBUG, INFO, WARNING, ERROR, CRITICAL).\n",
        "\n",
        "format: Defines the format of the log messages.\n",
        "\n",
        "# logging output\n",
        "   Logger.info(msg): This will log a message with level INFO on this logger.\n",
        "\n",
        "Logger.warning(msg): This will log a message with a level WARNING on this logger.\n",
        "\n",
        "Logger.error(msg): This will log a message with level ERROR on this logger.\n",
        "\n",
        "Logger.critical(msg): This will log a message with level CRITICAL on this logger.\n",
        "\n",
        "Logger.log(lvl,msg): This will Log a message with integer level lvl on this logger.\n",
        "\n",
        "Logger.exception(msg): This will log a message with level ERROR on this logger.\n",
        "\n",
        "Logger.setLevel(lvl): This function sets the threshold of this logger to lvl. This means that all the messages below this level will be ignored.\n",
        "\n",
        "Logger.addFilter(filt): This adds a specific filter fit into this logger.\n",
        "\n",
        "Logger.removeFilter(filt): This removes a specific filter fit into this logger.\n",
        "\n",
        "Logger.filter(record): This method applies the logger’s filter to the record provided and returns True if the record is to be processed. Else, it will return False.\n",
        "\n",
        "Logger.addHandler(hdlr): This adds a specific handler hdlr to this logger.\n",
        "\n",
        "Logger.removeHandler(hdlr) : This removes a specific handler hdlr into this logger.\n",
        "\n",
        "Logger.hasHandlers(): This checks if the logger has any handler configured or not."
      ],
      "metadata": {
        "id": "WcMR1Hu5MnI4"
      },
      "id": "WcMR1Hu5MnI4"
    },
    {
      "cell_type": "code",
      "source": [
        "#debugging>>it is the process of identifying and fixing bugs/issues in your code\n",
        "# debugging involves >> breaking the code(checkpoint), executing the code,\n",
        "# inspecting the variables using print statment"
      ],
      "metadata": {
        "id": "cb3n7D6wqURU"
      },
      "id": "cb3n7D6wqURU",
      "execution_count": null,
      "outputs": []
    },
    {
      "cell_type": "code",
      "source": [
        "def divide(a, b):\n",
        "    return a/b"
      ],
      "metadata": {
        "id": "XQtflThj26KZ"
      },
      "id": "XQtflThj26KZ",
      "execution_count": null,
      "outputs": []
    },
    {
      "cell_type": "code",
      "source": [
        "divide(10,2)"
      ],
      "metadata": {
        "colab": {
          "base_uri": "https://localhost:8080/"
        },
        "id": "FK4N_kph490x",
        "outputId": "7f2f8298-0165-488f-c1d7-05d742d1db85"
      },
      "id": "FK4N_kph490x",
      "execution_count": null,
      "outputs": [
        {
          "output_type": "execute_result",
          "data": {
            "text/plain": [
              "5.0"
            ]
          },
          "metadata": {},
          "execution_count": 107
        }
      ]
    },
    {
      "cell_type": "code",
      "source": [
        "#divide(10,0)"
      ],
      "metadata": {
        "id": "1sgsjWZG5DHr"
      },
      "id": "1sgsjWZG5DHr",
      "execution_count": null,
      "outputs": []
    },
    {
      "cell_type": "code",
      "source": [
        "#for i in range(-10, 10):\n",
        " #   divide(i, i+1)\n",
        "#you have called divide function many times\n",
        "#at somewhere its throwing error, but where?\n",
        "#You have to debug the code >> for what value of a and b parameter, its throwing error"
      ],
      "metadata": {
        "id": "IhvsZyvB5ZNj"
      },
      "id": "IhvsZyvB5ZNj",
      "execution_count": null,
      "outputs": []
    },
    {
      "cell_type": "markdown",
      "source": [
        "# how to debug:\n",
        "breaking the code(checkpoint),\n",
        "executing the code,\n",
        "inspecting the variables using print statment"
      ],
      "metadata": {
        "id": "CgSLEFfc6SBv"
      },
      "id": "CgSLEFfc6SBv"
    },
    {
      "cell_type": "code",
      "source": [
        "#using print statement to debug\n",
        "try:\n",
        "  def divide(a, b):\n",
        "      \"\"\"\n",
        "  just practicing and make note\n",
        "\n",
        "\n",
        "      \"\"\"\n",
        "\n",
        "      return a/b\n",
        "\n",
        "  for i in range(-10, 10):\n",
        "      print(i, i+1)\n",
        "      divide(i, i+1)\n",
        "except ZeroDivisionError as e:\n",
        "    print(\"The error is\", e)"
      ],
      "metadata": {
        "colab": {
          "base_uri": "https://localhost:8080/"
        },
        "id": "EMCGyMWI6RUl",
        "outputId": "838d5a44-9923-4f75-cb13-1a5685514568"
      },
      "id": "EMCGyMWI6RUl",
      "execution_count": null,
      "outputs": [
        {
          "output_type": "stream",
          "name": "stdout",
          "text": [
            "-10 -9\n",
            "-9 -8\n",
            "-8 -7\n",
            "-7 -6\n",
            "-6 -5\n",
            "-5 -4\n",
            "-4 -3\n",
            "-3 -2\n",
            "-2 -1\n",
            "-1 0\n",
            "The error is division by zero\n"
          ]
        }
      ]
    },
    {
      "cell_type": "code",
      "source": [
        "#using another print statment inside function\n",
        "try:\n",
        "\n",
        "  def divide(a, b):\n",
        "      print(a, b)\n",
        "      return a/b\n",
        "\n",
        "  for i in range(-10, 10):\n",
        "      # print(i, i+1)\n",
        "      divide(i, i+1)\n",
        "except ZeroDivisionError as e:\n",
        "    print(\"The error is\", e)"
      ],
      "metadata": {
        "colab": {
          "base_uri": "https://localhost:8080/"
        },
        "id": "0HzPS6n46hu3",
        "outputId": "f2dc408b-a94a-4842-bde3-c3d48bf108e9"
      },
      "id": "0HzPS6n46hu3",
      "execution_count": null,
      "outputs": [
        {
          "output_type": "stream",
          "name": "stdout",
          "text": [
            "-10 -9\n",
            "-9 -8\n",
            "-8 -7\n",
            "-7 -6\n",
            "-6 -5\n",
            "-5 -4\n",
            "-4 -3\n",
            "-3 -2\n",
            "-2 -1\n",
            "-1 0\n",
            "The error is division by zero\n"
          ]
        }
      ]
    },
    {
      "cell_type": "code",
      "source": [
        "#from print statment you understand that when b is 0, it throws the error\n",
        "def divide(a, b):\n",
        "    print(a, b)\n",
        "    #breaking the code in terms of execution\n",
        "    if b == 0:\n",
        "        print(\"zero divion error\")\n",
        "        return\n",
        "    return a/b\n",
        "\n",
        "for i in range(-10, 10):\n",
        "    # print(i, i+1)\n",
        "    divide(i, i+1)\n"
      ],
      "metadata": {
        "colab": {
          "base_uri": "https://localhost:8080/"
        },
        "id": "yA5R0sYi7wI7",
        "outputId": "3433ce11-e541-4087-b5db-956d14160fbc"
      },
      "id": "yA5R0sYi7wI7",
      "execution_count": null,
      "outputs": [
        {
          "output_type": "stream",
          "name": "stdout",
          "text": [
            "-10 -9\n",
            "-9 -8\n",
            "-8 -7\n",
            "-7 -6\n",
            "-6 -5\n",
            "-5 -4\n",
            "-4 -3\n",
            "-3 -2\n",
            "-2 -1\n",
            "-1 0\n",
            "zero divion error\n",
            "0 1\n",
            "1 2\n",
            "2 3\n",
            "3 4\n",
            "4 5\n",
            "5 6\n",
            "6 7\n",
            "7 8\n",
            "8 9\n",
            "9 10\n"
          ]
        }
      ]
    },
    {
      "cell_type": "code",
      "source": [
        "#print statment is not a pythonic way to debug>>print statments are not efficient\n",
        "#print statment is good for simple scripts but not complex\n",
        "#in console/terminal all the print statments will be lost\n",
        "#you use logging instead of print stament"
      ],
      "metadata": {
        "id": "EWBLsfC59lrZ"
      },
      "id": "EWBLsfC59lrZ",
      "execution_count": null,
      "outputs": []
    },
    {
      "cell_type": "code",
      "source": [
        "#logging>> it records the state and flow of your program/code/software\n",
        "#it is useful for understanding, monitoring and debugging of your code\n",
        "#it shows how program behaves over time\n",
        "\n",
        "\n",
        "#Analogy>> diary entry since childhood to now>>you will understand how you evolved\n",
        "# similrly in complex scripts to understand how your code is changing the result\n",
        "# over time, you can log the specific steps"
      ],
      "metadata": {
        "id": "7VlJTqfS-D33"
      },
      "id": "7VlJTqfS-D33",
      "execution_count": null,
      "outputs": []
    },
    {
      "cell_type": "markdown",
      "source": [
        "Theoretical use case explanation\n",
        "\n",
        "see the different steps of coding below\n",
        "\n",
        "step1>> remove some element of list\n",
        "\n",
        "step 2>>captialize>>upper case\n",
        "\n",
        "step 3>> remove metropolitan city\n",
        "\n",
        "step 4>>lower case\n",
        "\n",
        "if after step 3 the list becomes empty, step 4 can throw error, so you can log the result of step 3 to debug"
      ],
      "metadata": {
        "id": "XrqgtQi5_q-c"
      },
      "id": "XrqgtQi5_q-c"
    },
    {
      "cell_type": "code",
      "source": [
        "#logging supports different levels of logging which helps to categorize messages based on their severity\n",
        "#analogy>> different level of severity if terror attack>>can go to emergency\n",
        "#similarly in logging we have different level"
      ],
      "metadata": {
        "id": "-oDDGtr2_jRX"
      },
      "id": "-oDDGtr2_jRX",
      "execution_count": null,
      "outputs": []
    },
    {
      "cell_type": "code",
      "source": [
        "import logging"
      ],
      "metadata": {
        "id": "tm9z7zhg_6LS"
      },
      "id": "tm9z7zhg_6LS",
      "execution_count": 3,
      "outputs": []
    },
    {
      "cell_type": "code",
      "source": [
        "logging.basicConfig(filename = 'test.log', level = logging.INFO,force=True)"
      ],
      "metadata": {
        "id": "jneVL7M3AaX3"
      },
      "id": "jneVL7M3AaX3",
      "execution_count": 12,
      "outputs": []
    },
    {
      "cell_type": "code",
      "source": [
        "logging.info(\"This is my normal information about the software\")"
      ],
      "metadata": {
        "id": "pf5rEmu-Ad--"
      },
      "id": "pf5rEmu-Ad--",
      "execution_count": 5,
      "outputs": []
    },
    {
      "cell_type": "code",
      "source": [
        "logging.warning(\"There can be empty list here\")"
      ],
      "metadata": {
        "id": "xrxzdwwaA7WA"
      },
      "id": "xrxzdwwaA7WA",
      "execution_count": 6,
      "outputs": []
    },
    {
      "cell_type": "code",
      "source": [
        "logging.debug(\"The length of list is\")"
      ],
      "metadata": {
        "id": "n3mJu6KVBF-O"
      },
      "id": "n3mJu6KVBF-O",
      "execution_count": 7,
      "outputs": []
    },
    {
      "cell_type": "code",
      "source": [
        "logging .error(\"Some error has happened\")"
      ],
      "metadata": {
        "id": "Y_KUuVNsBP24"
      },
      "id": "Y_KUuVNsBP24",
      "execution_count": 8,
      "outputs": []
    },
    {
      "cell_type": "code",
      "source": [
        "logging.critical(\"The software has stopped running\")"
      ],
      "metadata": {
        "id": "ZbIbKoF_BSgX"
      },
      "id": "ZbIbKoF_BSgX",
      "execution_count": 10,
      "outputs": []
    },
    {
      "cell_type": "code",
      "source": [
        "logging.shutdown()"
      ],
      "metadata": {
        "id": "YvJaesH1BWWB"
      },
      "id": "YvJaesH1BWWB",
      "execution_count": 11,
      "outputs": []
    },
    {
      "cell_type": "markdown",
      "source": [
        "#NOSET level is not used\n",
        "1. DEBUG>>lowest level of logging. To give detailed information of any variable, msg, while doing debugging\n",
        "2. INFO >> This is used to convey that the code is working as expected\n",
        "#example \"Data analysis is completed\"\n",
        "3. WARNING>>Used to indicate that something unexpected happend or potential issue in the code\n",
        "4. ERROR > Serious problem with some function\n",
        "5. CRITICAL>> Termination of program/code/software\n",
        "\n",
        "\n",
        "The above level of logging is executed in the same order>> debug being lowest priority and critical being highest priorit\n",
        "\n",
        "while defining level in logging.basicConfig, from that level the logs will be logged or in other words the log level priority will start from that level which is used to initialise the logging\n",
        "\n",
        "example>>> if you initialise with WARNING then only warning, error, critical msgs will le logged. debug and info will not be logged"
      ],
      "metadata": {
        "id": "1DEL0xULBgAt"
      },
      "id": "1DEL0xULBgAt"
    },
    {
      "cell_type": "code",
      "source": [
        "import logging\n",
        "logging.basicConfig(filename = \"test_new.log\", level = logging.DEBUG, format = '%(asctime)s %(message)s',force=True)"
      ],
      "metadata": {
        "id": "c6NtMTvTBg4P"
      },
      "id": "c6NtMTvTBg4P",
      "execution_count": 16,
      "outputs": []
    },
    {
      "cell_type": "code",
      "source": [
        "logging.debug(\"This msg is for debugging\")\n",
        "logging.info(\"This is my info msg\")\n",
        "logging.warning(\"This is my warning msg\")\n",
        "logging.shutdown()"
      ],
      "metadata": {
        "id": "BBfsIZYxONnU"
      },
      "id": "BBfsIZYxONnU",
      "execution_count": 17,
      "outputs": []
    },
    {
      "cell_type": "code",
      "source": [
        "#say you want level name in logs as well\n",
        "\n",
        "import logging\n",
        "logging.basicConfig(filename = \"test_new1.log\", level = logging.DEBUG, format = '%(asctime)s %(levelname)s %(message)s',force=True)\n",
        "\n",
        "logging.debug(\"This msg is for debugging\")\n",
        "logging.info(\"This is my info msg\")\n",
        "logging.warning(\"This is my warning msg\")\n",
        "logging.shutdown()"
      ],
      "metadata": {
        "id": "gFlitLGHQhHX"
      },
      "id": "gFlitLGHQhHX",
      "execution_count": 20,
      "outputs": []
    },
    {
      "cell_type": "code",
      "source": [
        "#use case with example\n",
        "import logging\n",
        "logging.basicConfig(filename = \"program.log\", level = logging.DEBUG, format = '%(asctime)s %(levelname)s %(message)s',force=True)"
      ],
      "metadata": {
        "id": "76fCkYA7Regh"
      },
      "id": "76fCkYA7Regh",
      "execution_count": 29,
      "outputs": []
    },
    {
      "cell_type": "code",
      "source": [
        "#write a program to separate the integer and string in two lists separately\n",
        "l = [1, \"hello\", [2, \"world\"],4, [3, \"Python\"]]"
      ],
      "metadata": {
        "id": "q9rAiqmDR1GD"
      },
      "id": "q9rAiqmDR1GD",
      "execution_count": 27,
      "outputs": []
    },
    {
      "cell_type": "code",
      "source": [
        "l1_int = []\n",
        "l2_str = []\n",
        "\n",
        "for i in l:\n",
        "    logging.info(f\"processing each element {i}\")\n",
        "\n",
        "    if type(i) == list:\n",
        "        for j in i:\n",
        "            logging.info(f\"processing sublist element: {j}\")\n",
        "            if type(j) == int:\n",
        "                l1_int.append(j)\n",
        "    elif type(i) == int:\n",
        "        l1_int.append(i)\n",
        "    else:\n",
        "        l2_str.append(i)\n",
        "logging.info(f\"The result is : {l1_int}, {l2_str}\")\n",
        "logging.shutdown()"
      ],
      "metadata": {
        "id": "so8l16R7TE2t"
      },
      "id": "so8l16R7TE2t",
      "execution_count": 28,
      "outputs": []
    },
    {
      "cell_type": "code",
      "source": [
        "#homework>> add else condition for sublist\n",
        "#Another program which finds a prime no from a given list of nos and use logging\n"
      ],
      "metadata": {
        "id": "ChYFfZxATFgX"
      },
      "id": "ChYFfZxATFgX",
      "execution_count": 30,
      "outputs": []
    },
    {
      "cell_type": "code",
      "source": [
        "#using numpy create 100 number\n",
        "import numpy as np\n",
        "a=np.arange(100)\n",
        "a"
      ],
      "metadata": {
        "colab": {
          "base_uri": "https://localhost:8080/",
          "height": 0
        },
        "id": "dLaebEpmTu4r",
        "outputId": "73abf693-3d46-4060-d1a6-db96a52e90ce"
      },
      "id": "dLaebEpmTu4r",
      "execution_count": 2,
      "outputs": [
        {
          "output_type": "execute_result",
          "data": {
            "text/plain": [
              "array([ 0,  1,  2,  3,  4,  5,  6,  7,  8,  9, 10, 11, 12, 13, 14, 15, 16,\n",
              "       17, 18, 19, 20, 21, 22, 23, 24, 25, 26, 27, 28, 29, 30, 31, 32, 33,\n",
              "       34, 35, 36, 37, 38, 39, 40, 41, 42, 43, 44, 45, 46, 47, 48, 49, 50,\n",
              "       51, 52, 53, 54, 55, 56, 57, 58, 59, 60, 61, 62, 63, 64, 65, 66, 67,\n",
              "       68, 69, 70, 71, 72, 73, 74, 75, 76, 77, 78, 79, 80, 81, 82, 83, 84,\n",
              "       85, 86, 87, 88, 89, 90, 91, 92, 93, 94, 95, 96, 97, 98, 99])"
            ]
          },
          "metadata": {},
          "execution_count": 2
        }
      ]
    },
    {
      "cell_type": "code",
      "source": [],
      "metadata": {
        "id": "WVst6Lr-XIuR"
      },
      "id": "WVst6Lr-XIuR",
      "execution_count": null,
      "outputs": []
    },
    {
      "cell_type": "code",
      "source": [
        "#using logging filter prime number from a add else codition and sublist\n",
        "import logging\n",
        "logging.basicConfig(filename = \"prime_no.log\", level = logging.DEBUG, format = '%(asctime)s %(levelname)s %(message)s',force=True)\n",
        "prime=[]\n",
        "non_prime=[]\n",
        "for i in a:\n",
        "    if i>1:\n",
        "        for j in range(2,i):\n",
        "            if i%j==0:\n",
        "                non_prime.append(i)\n",
        "                break\n",
        "        else:\n",
        "            prime.append(i)\n",
        "logging.info(f\"The result is : {prime}, {non_prime}\")\n",
        "logging.shutdown()\n"
      ],
      "metadata": {
        "id": "JP6rL_WHT6Ug"
      },
      "id": "JP6rL_WHT6Ug",
      "execution_count": 3,
      "outputs": []
    },
    {
      "cell_type": "markdown",
      "source": [
        "# Multithreading"
      ],
      "metadata": {
        "id": "Os1wwealpO00"
      },
      "id": "Os1wwealpO00"
    },
    {
      "cell_type": "markdown",
      "source": [
        "\n",
        "#Introduction to Multithreading\n",
        "\n",
        "1. Multithreading is a programming and execution model that allows multiple threads (smaller units of a process) to execute concurrently within the same program. A thread is the smallest unit of a process that can be independently scheduled and executed by the operating system. In a multithreaded environment, multiplethreads share the resources of a single process, such as memory space and file handles, but each thread has its own program counter, register set, and stack.\n",
        "\n",
        "# Definition of Multithreading:\n",
        "Multithreading involves the concurrent execution of multiple threads within a single process. Each thread represents an independent flow of execution, capable of performing tasks simultaneously with other threads.Threads within the same process share the same data space and system resources, allowing them to communicate and coordinate effectively.\n",
        "\n",
        "#Why Multithreading is Important in Software Development:\n",
        "\n",
        "1. Improved Performance: Multithreading can lead to significant performance improvements by allowing parallel\n",
        "execution of tasks. Different threads can execute tasks simultaneously, taking advantage of multiple CPU cores\n",
        "and reducing overall processing time.\n",
        "\n",
        "2. Responsiveness: In applications with graphical user interfaces (GUIs), multithreading is crucial for maintaining responsiveness. For example, a user interface can remain responsive while background threads handle time-consuming tasks, preventing the application from becoming unresponsive or freezing.\n",
        "\n",
        "3. Resource Utilization: Multithreading enables better utilization of system resources. By dividing a program into multiple threads, each thread can focus on specific tasks, making efficient use of available resources and improving overall system resource utilization.\n",
        "\n",
        "4. Concurrency: Multithreading facilitates the concurrent execution of tasks, allowing different parts of a program to run independently. This concurrency can lead to more efficient use of resources and improved application performance.\n",
        "\n",
        "#Comparison with Single-Threading:\n",
        "\n",
        "1. Parallelism: The most significant difference is that multithreading allows parallelism, where multiple threads execute tasks simultaneously, while single-threading executes tasks sequentially, one after another.\n",
        "\n",
        "2. Responsiveness: Multithreading enhances responsiveness by enabling tasks to run concurrently. In a single-threaded application, time-consuming tasks can block the entire program, making it unresponsive.\n",
        "\n",
        "3. Resource Utilization: Multithreading makes better use of available resources, especially in systems with multiple CPU cores Single-threaded applications may not fully exploit the processing power of modern hardware.\n",
        "\n",
        "4. Complexity: Multithreaded programming introduces additional complexity due to the need for synchronization\n",
        "and coordination between threads. Single-threaded programs are generally simpler to design and debug.\n",
        "\n",
        "\n",
        "\n"
      ],
      "metadata": {
        "id": "JMdH70jKxctn"
      },
      "id": "JMdH70jKxctn"
    },
    {
      "cell_type": "code",
      "source": [
        "#A process is an instance of a computer program\n",
        "#process runs parallely on multiple processors>> multiprocessing\n",
        "#process runs concurrently on multiple threads in a processor>>multithreading"
      ],
      "metadata": {
        "id": "KPpqZA3sXiki"
      },
      "id": "KPpqZA3sXiki",
      "execution_count": 67,
      "outputs": []
    },
    {
      "cell_type": "code",
      "source": [
        "import time\n",
        "start = time.perf_counter()\n",
        "\n",
        "def test_func():\n",
        "    print(\"do something\")\n",
        "    print(\"sleep for 1 sec\")\n",
        "    time.sleep(2)\n",
        "    print(\"done with sleeping\")\n",
        "test_func()\n",
        "end = time.perf_counter()\n",
        "\n",
        "print(f\"The program finished in {round(end-start, 2)} seconds\")"
      ],
      "metadata": {
        "colab": {
          "base_uri": "https://localhost:8080/",
          "height": 0
        },
        "id": "3A3Y4wgrcY_v",
        "outputId": "fa63c79e-10f2-417e-c40c-0d32fc1eaed3"
      },
      "id": "3A3Y4wgrcY_v",
      "execution_count": 6,
      "outputs": [
        {
          "output_type": "stream",
          "name": "stdout",
          "text": [
            "do something\n",
            "sleep for 1 sec\n",
            "done with sleeping\n",
            "The program finished in 2.0 seconds\n"
          ]
        }
      ]
    },
    {
      "cell_type": "code",
      "source": [
        "import time\n",
        "start = time.perf_counter()\n",
        "\n",
        "def test_func():\n",
        "    print(\"do something\")\n",
        "    print(\"sleep for 1 sec\")\n",
        "    time.sleep(0.000005)\n",
        "    print(\"done with sleeping\")\n",
        "test_func()\n",
        "test_func()\n",
        "test_func()\n",
        "test_func()\n",
        "test_func()\n",
        "end = time.perf_counter()\n",
        "\n",
        "print(f\"The program finished in {round(end-start, 2)} seconds\")"
      ],
      "metadata": {
        "colab": {
          "base_uri": "https://localhost:8080/",
          "height": 0
        },
        "id": "MtUS9-A5pmrW",
        "outputId": "5927fce9-54c9-4ff7-90d7-a2d8891a0e80"
      },
      "id": "MtUS9-A5pmrW",
      "execution_count": 9,
      "outputs": [
        {
          "output_type": "stream",
          "name": "stdout",
          "text": [
            "do something\n",
            "sleep for 1 sec\n",
            "done with sleeping\n",
            "do something\n",
            "sleep for 1 sec\n",
            "done with sleeping\n",
            "do something\n",
            "sleep for 1 sec\n",
            "done with sleeping\n",
            "do something\n",
            "sleep for 1 sec\n",
            "done with sleeping\n",
            "do something\n",
            "sleep for 1 sec\n",
            "done with sleeping\n",
            "The program finished in 0.01 seconds\n"
          ]
        }
      ]
    },
    {
      "cell_type": "markdown",
      "source": [
        "#difference between multi threding and multiprocessing\n",
        "1. multithred:-since it happen on one processor threds share a same memoryspace and resorces(data/variable) within a process\n",
        "multiprocessing:-multiple core/procesoor are there each process hs it own memory space and resorces which are isolated from other process\n",
        "2.multitread:-concrently run (Gil)\n",
        "multiprocessing:-it run truly parallely on multile cpu core\n",
        "3.mut:-input/output:-like downloading /uploading\n",
        "best for task that are part of same application and need to shar a data or resorces example downloading multiple tas on browser\n",
        "muproessing:-use case here suitable for task are independent and can run in isolation example some compution /multiple request assignment list\n",
        "\n",
        "\n"
      ],
      "metadata": {
        "id": "OWvxxpMJPnQI"
      },
      "id": "OWvxxpMJPnQI"
    },
    {
      "cell_type": "code",
      "source": [
        "#since the program ran sequentially(single thread on a single core), so it took 5 secs"
      ],
      "metadata": {
        "id": "2vwVbbpOwrqw"
      },
      "id": "2vwVbbpOwrqw",
      "execution_count": 71,
      "outputs": []
    },
    {
      "cell_type": "code",
      "source": [
        "import time\n",
        "import threading #python module\n",
        "start = time.perf_counter()\n",
        "\n",
        "def test_func():\n",
        "    print(\"do something\")\n",
        "    print(\"sleep for 1 sec\")\n",
        "    time.sleep(2)\n",
        "    print(\"done with sleeping\")\n",
        "\n",
        "#run the program on two threads\n",
        "t1 = threading.Thread(target = test_func)\n",
        "t2 = threading.Thread(target = test_func)\n",
        "\n",
        "\n",
        "t1.start() #to start the thread\n",
        "t2.start()\n",
        "\n",
        "\n",
        "t1.join() #join first executed these t1, t2 threads and then the main thread will be executed\n",
        "t2.join()\n",
        "\n",
        "\n",
        "end = time.perf_counter()\n",
        "\n",
        "print(f\"The program finished in {round(end-start, 1)} seconds\")"
      ],
      "metadata": {
        "colab": {
          "base_uri": "https://localhost:8080/",
          "height": 0
        },
        "id": "JQ4Nm-eqw7Ux",
        "outputId": "81991179-610b-49fd-a0e7-5046c02b79fe"
      },
      "id": "JQ4Nm-eqw7Ux",
      "execution_count": 15,
      "outputs": [
        {
          "output_type": "stream",
          "name": "stdout",
          "text": [
            "do something\n",
            "sleep for 1 sec\n",
            "do something\n",
            "sleep for 1 sec\n",
            "done with sleeping\n",
            "done with sleeping\n",
            "The program finished in 2.0 seconds\n"
          ]
        }
      ]
    },
    {
      "cell_type": "code",
      "source": [
        "import time\n",
        "import threading #python module\n",
        "start = time.perf_counter()\n",
        "\n",
        "def test_func():\n",
        "    print(\"do something\")\n",
        "    print(\"sleep for 1 sec\")\n",
        "    time.sleep(5)#IT WILL TAKE 5 SEC\n",
        "    print(\"done with sleeping\")\n",
        "\n",
        "threads = []\n",
        "for i in range(10):\n",
        "    t = threading.Thread(target = test_func)\n",
        "    t.start()\n",
        "    threads.append(t)\n",
        "\n",
        "for thread in threads:\n",
        "    thread.join()\n",
        "\n",
        "\n",
        "end = time.perf_counter()\n",
        "\n",
        "print(f\"The program finished in {round(end-start, 2)} seconds\")"
      ],
      "metadata": {
        "colab": {
          "base_uri": "https://localhost:8080/",
          "height": 0
        },
        "id": "uGok_4wUbgnW",
        "outputId": "b28e958d-d3f8-495b-a9ab-a2f2f782072a"
      },
      "id": "uGok_4wUbgnW",
      "execution_count": 17,
      "outputs": [
        {
          "output_type": "stream",
          "name": "stdout",
          "text": [
            "do something\n",
            "sleep for 1 sec\n",
            "do something\n",
            "sleep for 1 sec\n",
            "do something\n",
            "sleep for 1 sec\n",
            "do somethingdo something\n",
            "sleep for 1 sec\n",
            "\n",
            "sleep for 1 sec\n",
            "do somethingdo something\n",
            "sleep for 1 sec\n",
            "do something\n",
            "sleep for 1 sec\n",
            "do something\n",
            "sleep for 1 sec\n",
            "do something\n",
            "\n",
            "sleep for 1 sec\n",
            "sleep for 1 sec\n",
            "done with sleepingdone with sleeping\n",
            "done with sleeping\n",
            "done with sleeping\n",
            "\n",
            "done with sleeping\n",
            "done with sleeping\n",
            "done with sleeping\n",
            "done with sleeping\n",
            "done with sleepingdone with sleeping\n",
            "\n",
            "The program finished in 5.02 seconds\n"
          ]
        }
      ]
    },
    {
      "cell_type": "code",
      "source": [
        "#since test_func is called in 10 times, it should have taken 10 secs but due to multithreading got completed in 1 secs"
      ],
      "metadata": {
        "id": "nSRHo70KdiDL"
      },
      "id": "nSRHo70KdiDL",
      "execution_count": 18,
      "outputs": []
    },
    {
      "cell_type": "code",
      "source": [
        "#using multithreading with function that takes an argument\n",
        "import time\n",
        "import threading #python module\n",
        "start = time.perf_counter()\n",
        "\n",
        "def test_func(args):\n",
        "    print(\"do something\")\n",
        "    print(f\"sleep for {args} sec\")\n",
        "    time.sleep(args)\n",
        "    print(\"done with sleeping\")\n",
        "\n",
        "threads = []\n",
        "for i in range(10):\n",
        "    t = threading.Thread(target = test_func, args = [1])\n",
        "    t.start()\n",
        "    threads.append(t)\n",
        "\n",
        "for thread in threads:\n",
        "    thread.join()\n",
        "\n",
        "\n",
        "end = time.perf_counter()\n",
        "\n",
        "print(f\"The program finished in {round(end-start, 2)} seconds\")"
      ],
      "metadata": {
        "colab": {
          "base_uri": "https://localhost:8080/",
          "height": 0
        },
        "id": "yMUWHvdmdkDS",
        "outputId": "2d9cef31-a1d0-424e-fa71-e623aefd6779"
      },
      "id": "yMUWHvdmdkDS",
      "execution_count": 20,
      "outputs": [
        {
          "output_type": "stream",
          "name": "stdout",
          "text": [
            "do something\n",
            "sleep for 1 sec\n",
            "do something\n",
            "sleep for 1 sec\n",
            "do something\n",
            "sleep for 1 sec\n",
            "do something\n",
            "sleep for 1 sec\n",
            "do something\n",
            "sleep for 1 sec\n",
            "do somethingdo something\n",
            "sleep for 1 sec\n",
            "do something\n",
            "sleep for 1 sec\n",
            "\n",
            "do something\n",
            "sleep for 1 secsleep for 1 sec\n",
            "do something\n",
            "sleep for 1 sec\n",
            "\n",
            "done with sleeping\n",
            "done with sleeping\n",
            "done with sleeping\n",
            "done with sleeping\n",
            "done with sleeping\n",
            "done with sleeping\n",
            "done with sleeping\n",
            "done with sleeping\n",
            "done with sleeping\n",
            "done with sleeping\n",
            "The program finished in 1.01 seconds\n"
          ]
        }
      ]
    },
    {
      "cell_type": "code",
      "source": [
        "#use case\n",
        "#Multithreading works well with I/O bound task means where some output has to wait for input\n",
        "#eg: reading-writing files, network communiication, data base queries"
      ],
      "metadata": {
        "id": "MqibR0ZeeWPK"
      },
      "id": "MqibR0ZeeWPK",
      "execution_count": 22,
      "outputs": []
    },
    {
      "cell_type": "code",
      "source": [
        "#https://github.com/itsfoss/text-files\n",
        "import time\n",
        "import threading\n",
        "start = time.perf_counter()\n",
        "url_list = [\n",
        "    'https://raw.githubusercontent.com/dscape/spell/master/test/resources/big.txt',\n",
        "    'https://raw.githubusercontent.com/first20hours/google-10000-english/master/google-10000-english-no-swears.txt',\n",
        "    'https://raw.githubusercontent.com/itsfoss/text-files/master/sherlock.txt' ,\n",
        "    'https://raw.githubusercontent.com/itsfoss/text-files/master/sample_log_file.txt',\n",
        "]\n",
        "\n",
        "data_list = [\"data1.txt\", \"data2.txt\", \"data3.txt\", \"data4.txt\"]\n",
        "\n",
        "import urllib.request\n",
        "\n",
        "def file_download(url, filename):\n",
        "    urllib.request.urlretrieve(url, filename)\n",
        "\n",
        "\n",
        "threads = []\n",
        "for i in range(len(url_list)):\n",
        "    t = threading.Thread(target = file_download, args = (url_list[i], data_list[i]))\n",
        "    t.start()\n",
        "    threads.append(t)\n",
        "\n",
        "for thread in threads:\n",
        "    thread.join()\n",
        "\n",
        "\n",
        "end = time.perf_counter()\n",
        "\n",
        "print(f\"The program finished in {round(end-start, 2)} seconds\")"
      ],
      "metadata": {
        "colab": {
          "base_uri": "https://localhost:8080/",
          "height": 0
        },
        "id": "9h3egVmXeNcK",
        "outputId": "8cacbc58-7427-4a7e-a068-bdebd8ce2a3f"
      },
      "id": "9h3egVmXeNcK",
      "execution_count": 21,
      "outputs": [
        {
          "output_type": "stream",
          "name": "stdout",
          "text": [
            "The program finished in 0.45 seconds\n"
          ]
        }
      ]
    },
    {
      "cell_type": "code",
      "source": [
        "#multithreading using concurrent.futures >>keeps code concise\n",
        "\n",
        "\n",
        "import time\n",
        "import concurrent.futures\n",
        "start = time.perf_counter()\n",
        "\n",
        "url_list = [\n",
        "    'https://raw.githubusercontent.com/dscape/spell/master/test/resources/big.txt',\n",
        "    'https://raw.githubusercontent.com/first20hours/google-10000-english/master/google-10000-english-no-swears.txt',\n",
        "    'https://raw.githubusercontent.com/itsfoss/text-files/master/sherlock.txt' ,\n",
        "    'https://raw.githubusercontent.com/itsfoss/text-files/master/sample_log_file.txt',\n",
        "]\n",
        "\n",
        "\n",
        "data_list = ['data1.txt', 'data2.txt', 'data3.txt', 'data4.txt']\n",
        "\n",
        "import urllib.request\n",
        "def file_download(url, filename):\n",
        "    urllib.request.urlretrieve(url, filename)\n",
        "\n",
        "with concurrent.futures.ThreadPoolExecutor() as executor:\n",
        "    executor.map(file_download, url_list, data_list)\n",
        "\n",
        "\n",
        "\n",
        "end = time.perf_counter()\n",
        "\n",
        "\n",
        "print(f\"The program finished in {round(end-start, 2)} seconds.\")\n"
      ],
      "metadata": {
        "colab": {
          "base_uri": "https://localhost:8080/",
          "height": 0
        },
        "id": "pIkLTRJpeOBv",
        "outputId": "8f64fe5a-0f96-4ecc-c38f-af289a2c223b"
      },
      "id": "pIkLTRJpeOBv",
      "execution_count": 23,
      "outputs": [
        {
          "output_type": "stream",
          "name": "stdout",
          "text": [
            "The program finished in 0.21 seconds.\n"
          ]
        }
      ]
    },
    {
      "cell_type": "code",
      "source": [
        "#shared variable across all the threads\n",
        "\n",
        "start = time.perf_counter()\n",
        "shared_counter = 0.0005\n",
        "counter_lock = threading.Lock() #locking the counter for a specific thread\n",
        "\n",
        "def increment_shared_counter(x):\n",
        "    global shared_counter #that can be accessed by all the threads\n",
        "    with counter_lock:\n",
        "        shared_counter = shared_counter+1\n",
        "        print(f\"Thread {x}: incremented shared counter to {shared_counter}\")\n",
        "        time.sleep(1)\n",
        "\n",
        "threads = [threading.Thread(target = increment_shared_counter, args = (i,)) for i in [1, 2, 3, 4, 5, 6]]\n",
        "\n",
        "for thread in threads:\n",
        "    thread.start()\n",
        "for thread in threads:\n",
        "    thread.join()\n",
        "\n",
        "end = time.perf_counter()\n",
        "print(f\"The program finished in {round(end-start, 2)} seconds.\")"
      ],
      "metadata": {
        "colab": {
          "base_uri": "https://localhost:8080/",
          "height": 0
        },
        "id": "vNKAJd9Thrbn",
        "outputId": "b003facf-cdda-436c-95e7-f6f54320b4ad"
      },
      "id": "vNKAJd9Thrbn",
      "execution_count": 27,
      "outputs": [
        {
          "output_type": "stream",
          "name": "stdout",
          "text": [
            "Thread 1: incremented shared counter to 1.0005\n",
            "Thread 2: incremented shared counter to 2.0004999999999997\n",
            "Thread 3: incremented shared counter to 3.0004999999999997\n",
            "Thread 4: incremented shared counter to 4.0005\n",
            "Thread 5: incremented shared counter to 5.0005\n",
            "Thread 6: incremented shared counter to 6.0005\n",
            "The program finished in 6.01 seconds.\n"
          ]
        }
      ]
    },
    {
      "cell_type": "markdown",
      "source": [
        "Scenarios Where Multithreading is Preferable ​\n",
        "\n",
        "\n",
        "I/O-Bound Tasks:\n",
        "\n",
        "Example: Network operations, file I/O, database queries.\n",
        "Reason: Multithreading allows the program to continue executing other tasks while waiting for I/O operations to complete, making better use of CPU idle time. ​\n",
        "\n",
        "\n",
        "\n",
        "Shared Memory:\n",
        "\n",
        "Example: Applications that require frequent access to shared data structures.\n",
        "Reason: Threads share the same memory space, making it easier and faster to share data between them without the need for complex inter-process communication (IPC). ​\n",
        "\n",
        "\n",
        "\n",
        "Lightweight Tasks:\n",
        "\n",
        "Example: GUI applications where responsiveness is crucial.\n",
        "Reason: Threads are lighter than processes in terms of memory and resource usage, making them more suitable for tasks that require quick context switching. ​\n",
        "\n",
        "\n",
        "\n",
        "Real-Time Systems:\n",
        "\n",
        "Example: Embedded systems, real-time data processing.\n",
        "Reason: Threads can provide more predictable and lower-latency responses compared to processes.\n",
        "\n",
        "\n",
        "\n",
        "Scenarios Where Multiprocessing is a Better Choice\n",
        "\n",
        "\n",
        "CPU-Bound Tasks:\n",
        "\n",
        "Example: Mathematical computations, data analysis, image processing.\n",
        "Reason: Multiprocessing can take advantage of multiple CPU cores to perform true parallel execution, bypassing the Global Interpreter Lock (GIL) in Python.\n",
        "\n",
        "\n",
        "\n",
        "Independent Tasks:\n",
        "\n",
        "Example: Batch processing, parallel simulations.\n",
        "Reason: Processes run independently with their own memory space, reducing the risk of race conditions and making it easier to manage complex tasks that do not need to share state.\n",
        "\n",
        "\n",
        "\n",
        "Scalability:\n",
        "\n",
        "Example: Web servers, distributed systems.\n",
        "Reason: Multiprocessing can scale better across multiple CPU cores and even across multiple machines, providing better performance for large-scale applications.\n",
        "\n",
        "\n",
        "\n",
        "Fault Isolation:\n",
        "\n",
        "Example: Critical systems where reliability is crucial.\n",
        "Reason: If one process crashes, it does not affect other processes, providing better fault isolation compared to threads within the same process.\n",
        "\n",
        "\n",
        "\n",
        "In summary, multithreading is preferable for I/O-bound tasks, shared memory scenarios, lightweight tasks, and real-time systems, while multiprocessing is better suited for CPU-bound tasks, independent tasks, scalable applications, and scenarios requiring fault isolation. ​\n"
      ],
      "metadata": {
        "id": "lyrxEGTfkN7s"
      },
      "id": "lyrxEGTfkN7s"
    },
    {
      "cell_type": "code",
      "source": [
        "#same thing using concurrent futures\n",
        "\n",
        "start = time.perf_counter()\n",
        "shared_counter = 0\n",
        "counter_lock = threading.Lock() #locking the counter for a specific thread\n",
        "\n",
        "def increment_shared_counter(x):\n",
        "    global shared_counter #that can be accessed by all the threads\n",
        "    with counter_lock:\n",
        "        shared_counter = shared_counter+1\n",
        "        print(f\"Thread {x}: incremented shared counter to {shared_counter}\")\n",
        "        time.sleep(1)\n",
        "\n",
        "with concurrent.futures.ThreadPoolExecutor() as executor:\n",
        "    thread_args = [1, 2, 3, 4, 5, 6]\n",
        "    executor.map(increment_shared_counter, thread_args)\n",
        "\n",
        "end = time.perf_counter()\n",
        "print(f\"The program finished in {round(end-start, 2)} seconds.\")"
      ],
      "metadata": {
        "colab": {
          "base_uri": "https://localhost:8080/",
          "height": 0
        },
        "id": "rxa2PqoCkPUw",
        "outputId": "e566cf85-054b-47da-bf4a-8de4ebb80022"
      },
      "id": "rxa2PqoCkPUw",
      "execution_count": 28,
      "outputs": [
        {
          "output_type": "stream",
          "name": "stdout",
          "text": [
            "Thread 1: incremented shared counter to 1\n",
            "Thread 2: incremented shared counter to 2\n",
            "Thread 3: incremented shared counter to 3\n",
            "Thread 4: incremented shared counter to 4\n",
            "Thread 5: incremented shared counter to 5\n",
            "Thread 6: incremented shared counter to 6\n",
            "The program finished in 6.02 seconds.\n"
          ]
        }
      ]
    },
    {
      "cell_type": "code",
      "source": [
        "#summary>>shared variable can be incremented by individual threads of a process"
      ],
      "metadata": {
        "id": "Mw7jwXNLmI8Q"
      },
      "id": "Mw7jwXNLmI8Q",
      "execution_count": 29,
      "outputs": []
    },
    {
      "cell_type": "code",
      "source": [
        "\n",
        "\n",
        "import threading\n",
        "import time\n",
        "\n",
        "# Shared list\n",
        "numbers = []\n",
        "\n",
        "# Lock to prevent race conditions\n",
        "lock = threading.Lock()\n",
        "\n",
        "def add_numbers():\n",
        "    for i in range(10):\n",
        "        time.sleep(0.1)  # Simulate some work\n",
        "        with lock:\n",
        "            numbers.append(i)\n",
        "            print(f\"Added {i}, List: {numbers}\")\n",
        "\n",
        "def remove_numbers():\n",
        "    for i in range(10):\n",
        "        time.sleep(0.15)  # Simulate some work\n",
        "        with lock:\n",
        "            if numbers:\n",
        "                removed = numbers.pop(0)\n",
        "                print(f\"Removed {removed}, List: {numbers}\")\n",
        "\n",
        "# Create threads\n",
        "thread1 = threading.Thread(target=add_numbers)\n",
        "thread2 = threading.Thread(target=remove_numbers)\n",
        "\n",
        "# Start threads\n",
        "thread1.start()\n",
        "thread2.start()\n",
        "\n",
        "# Wait for threads to complete\n",
        "thread1.join()\n",
        "thread2.join()\n",
        "\n",
        "print(\"Final List:\", numbers)\n",
        "\n"
      ],
      "metadata": {
        "colab": {
          "base_uri": "https://localhost:8080/",
          "height": 0
        },
        "id": "QtCmApYLn5s9",
        "outputId": "33f8aa62-6f4a-408c-d2f3-f1a1b2e4d679"
      },
      "id": "QtCmApYLn5s9",
      "execution_count": 30,
      "outputs": [
        {
          "output_type": "stream",
          "name": "stdout",
          "text": [
            "Added 0, List: [0]\n",
            "Removed 0, List: []\n",
            "Added 1, List: [1]\n",
            "Added 2, List: [1, 2]\n",
            "Removed 1, List: [2]\n",
            "Added 3, List: [2, 3]\n",
            "Removed 2, List: [3]\n",
            "Added 4, List: [3, 4]\n",
            "Added 5, List: [3, 4, 5]\n",
            "Removed 3, List: [4, 5]\n",
            "Added 6, List: [4, 5, 6]\n",
            "Removed 4, List: [5, 6]\n",
            "Added 7, List: [5, 6, 7]\n",
            "Removed 5, List: [6, 7]\n",
            "Added 8, List: [6, 7, 8]\n",
            "Added 9, List: [6, 7, 8, 9]\n",
            "Removed 6, List: [7, 8, 9]\n",
            "Removed 7, List: [8, 9]\n",
            "Removed 8, List: [9]\n",
            "Removed 9, List: []\n",
            "Final List: []\n"
          ]
        }
      ]
    },
    {
      "cell_type": "code",
      "source": [
        "from concurrent.futures import ThreadPoolExecutor\n",
        "import math\n",
        "\n",
        "# Function to calculate factorial\n",
        "def factorial(n):\n",
        "    return math.factorial(n)\n",
        "\n",
        "# List of numbers from 1 to 10\n",
        "numbers = list(range(1, 11))\n",
        "\n",
        "# Using ThreadPoolExecutor to manage threads\n",
        "with ThreadPoolExecutor(max_workers=5) as executor:\n",
        "    # Map the factorial function to the list of numbers\n",
        "    results = list(executor.map(factorial, numbers))\n",
        "\n",
        "# Print the results\n",
        "for number, result in zip(numbers, results):\n",
        "    print(f\"Factorial of {number} is {result}\")\n"
      ],
      "metadata": {
        "colab": {
          "base_uri": "https://localhost:8080/",
          "height": 0
        },
        "id": "bV2Js_nopae6",
        "outputId": "b8cd81e5-16b9-4d22-b59a-ad1be5f68478"
      },
      "id": "bV2Js_nopae6",
      "execution_count": 31,
      "outputs": [
        {
          "output_type": "stream",
          "name": "stdout",
          "text": [
            "Factorial of 1 is 1\n",
            "Factorial of 2 is 2\n",
            "Factorial of 3 is 6\n",
            "Factorial of 4 is 24\n",
            "Factorial of 5 is 120\n",
            "Factorial of 6 is 720\n",
            "Factorial of 7 is 5040\n",
            "Factorial of 8 is 40320\n",
            "Factorial of 9 is 362880\n",
            "Factorial of 10 is 3628800\n"
          ]
        }
      ]
    },
    {
      "cell_type": "markdown",
      "source": [
        "Explanation:\n",
        "Shared List: We have a shared list numbers that both threads will access.\n",
        "Lock: We use a threading.Lock to ensure that only one thread can modify the list at a time, preventing race conditions.\n",
        "Add Numbers: The add_numbers function adds numbers to the list with a small delay to simulate work.\n",
        "Remove Numbers: The remove_numbers function removes numbers from the list with a small delay to simulate work.\n",
        "Threads: We create two threads, one for adding numbers and one for removing numbers.\n",
        "Start and Join: We start both threads and wait for them to complete using join.\n",
        "\n",
        "This program ensures that the list operations are thread-safe by using the lock to synchronize access to the shared list. If you have any questions or need further modifications, feel free to ask!"
      ],
      "metadata": {
        "id": "pB_khkc8oPoA"
      },
      "id": "pB_khkc8oPoA"
    },
    {
      "cell_type": "markdown",
      "source": [
        "#Multiprocessing"
      ],
      "metadata": {
        "id": "PRALw9pXnDiE"
      },
      "id": "PRALw9pXnDiE"
    },
    {
      "cell_type": "markdown",
      "source": [
        "#multiprocesssing\n",
        "mtiprocessing is a programming and execution mode\" that involves the concerrent execution of multiple processes. A process is an independent pro%ram that r,ns in its own memory space and has its own reso,rces.\n",
        "In multiprocessing, multiple processes run concurrently, each with its own set of instr,ctions and data. These processes can comm,nicate with each other thro,%h inter-process comm,nication (IPC) mechanisms.\n",
        "\n",
        "#Differentiating Multiprocessing from Multithreading:\n",
        "\n",
        "Independence:\n",
        "\n",
        "\n",
        "In m,\"tiprocessin%, each process has its own memory space and reso,rces. Processes are independent of each\n",
        "other, and comm,nication between them req,ires exp\"icit IPC mechanisms.\n",
        "\n",
        "In m,\"tithreadin%, m,\"tip\"e threads share the same memory space within a sin%\"e process. Threads are \"i%hter\n",
        "wei%ht than processes and share reso,rces more easi\"y.\n",
        "\n",
        "\n",
        "Communication:\n",
        "\n",
        "\n",
        "M,\"tiprocessin% re\"ies on IPC for comm,nication between processes. This can invo\"ve messa%e passin%, shared\n",
        "memory, or other comm,nication mechanisms.\n",
        "\n",
        "M,\"tithreadin% invo\"ves sharin% data more direct\"y since threads within the same process share the same\n",
        "memory space.\n",
        "\n",
        "\n",
        "Fault Isolation:\n",
        "\n",
        "\n",
        "Processes in m,\"tiprocessin% are more iso\"ated, providin% better fa,\"t iso\"ation. If one process crashes, it does\n",
        "not necessari\"y affect others.\n",
        "\n",
        "Threads in m,\"tithreadin% share the same memory space, makin% them more s,sceptib\"e to iss,es s,ch as\n",
        "data corr,ption or ,nintended interactions.\n",
        "\n",
        "\n",
        "Resource Utilization:\n",
        "\n",
        "\n",
        "M,\"tiprocessin% can take advanta%e of m,\"tip\"e CPU cores, as each process can r,n on a separate core.\n",
        "\n",
        "M,\"tithreadin% is s,itab\"e for tasks that can be para\"\"e\"ized within a sin%\"e process b,t may not f,\"\"y ,ti\"ize\n",
        "m,\"tip\"e cores.\n",
        "\n",
        "Importance of M,\"tiprocessin% in Modern Comp,tin%:\n",
        "\n",
        "\n",
        "Parallelism and Performance:\n",
        "\n",
        "\n",
        "M,\"tiprocessin% a\"\"ows for tr,e para\"\"e\"ism, enab\"in% m,\"tip\"e processes to r,n sim,\"taneo,s\"y on m,\"tip\"e CPU\n",
        "cores. This \"eads to improved performance and faster exec,tion of tasks.\n",
        "\n",
        "Differentiating Multiprocessing from Multithreading:\n",
        "Java + DSA\n",
        "Scalability:\n",
        "\n",
        "\n",
        "Multiprocessing enhances scalability in applications by leveraging the full potential of modern hardware,\n",
        "especially in systems with multiple processors or multicore architectures.\n",
        "\n",
        "\n",
        "Resource Utilization:\n",
        "\n",
        "\n",
        "Multiprocessing efficiently utilizes system resources by running multiple processes concurrently. This is essential\n",
        "for high-performance computing and applications with heavy computational workloads.\n",
        "\n",
        "\n",
        "Fault Tolerance:\n",
        "\n",
        "\n",
        "Processes in multiprocessing are more isolated, providing better fault tolerance. If one process fails, it is less\n",
        "likely to impact other processes. This is critical for building robust and reliable systems.\n",
        "\n",
        "\n",
        "Distributed Computing:\n",
        "\n",
        "\n",
        "Multiprocessing is fundamental in distributed computing, where tasks are distributed across multiple nodes or\n",
        "machines. Each node runs its processes, and communication between them is vital for collaborative\n",
        "computation.\n",
        "\n",
        "\n",
        "Task Isolation:\n",
        "\n",
        "\n",
        "Multiprocessing allows for task isolation, where different parts of a program or different functionalities can be\n",
        "executed in separate processes. This helps in building modular and\n",
        "\n",
        "maintainable code"
      ],
      "metadata": {
        "id": "JWWD3EPRqKfC"
      },
      "id": "JWWD3EPRqKfC"
    },
    {
      "cell_type": "code",
      "source": [
        "import time\n",
        "start = time.perf_counter()\n",
        "\n",
        "def test_func():\n",
        "    print(\"do something\")\n",
        "    print(\"sleep for 1 sec\")\n",
        "    time.sleep(1)\n",
        "    print(\"done with sleeping\")\n",
        "test_func()\n",
        "test_func()\n",
        "end = time.perf_counter()\n",
        "\n",
        "print(f\"The program finished in {round(end-start, 2)} seconds\")"
      ],
      "metadata": {
        "colab": {
          "base_uri": "https://localhost:8080/",
          "height": 0
        },
        "id": "Qdrb8u_pqLD1",
        "outputId": "c76189c0-5e88-4c12-e4b4-8abb774a1e8e"
      },
      "id": "Qdrb8u_pqLD1",
      "execution_count": 33,
      "outputs": [
        {
          "output_type": "stream",
          "name": "stdout",
          "text": [
            "do something\n",
            "sleep for 1 sec\n",
            "done with sleeping\n",
            "do something\n",
            "sleep for 1 sec\n",
            "done with sleeping\n",
            "The program finished in 2.0 seconds\n"
          ]
        }
      ]
    },
    {
      "cell_type": "code",
      "source": [
        "import multiprocessing\n",
        "\n",
        "import time\n",
        "start = time.perf_counter()\n",
        "\n",
        "def test_func():\n",
        "    print(\"do something\")\n",
        "    print(\"sleep for 1 sec\")\n",
        "    time.sleep(2)\n",
        "    print(\"done with sleeping\")\n",
        "\n",
        "p1 = multiprocessing.Process(target = test_func)\n",
        "p2 = multiprocessing.Process(target = test_func)\n",
        "\n",
        "p1.start()\n",
        "p2.start()\n",
        "\n",
        "p1.join()\n",
        "p2.join()\n",
        "\n",
        "\n",
        "end = time.perf_counter()\n",
        "\n",
        "print(f\"The program finished in {round(end-start, 2)} seconds\")"
      ],
      "metadata": {
        "colab": {
          "base_uri": "https://localhost:8080/",
          "height": 0
        },
        "id": "Lxp3MiOdqK0U",
        "outputId": "95d0f8c1-38a8-42e4-f9bf-2db48b3318fa"
      },
      "id": "Lxp3MiOdqK0U",
      "execution_count": 35,
      "outputs": [
        {
          "output_type": "stream",
          "name": "stdout",
          "text": [
            "do something\n",
            "sleep for 1 secdo something\n",
            "\n",
            "sleep for 1 sec\n",
            "done with sleeping\n",
            "done with sleeping\n",
            "The program finished in 2.04 seconds\n"
          ]
        }
      ]
    },
    {
      "cell_type": "code",
      "source": [
        "import multiprocessing\n",
        "\n",
        "import time\n",
        "start = time.perf_counter()\n",
        "\n",
        "def test_func():\n",
        "    print(\"do something\")\n",
        "    print(\"sleep for 1 sec\")\n",
        "    time.sleep(1)\n",
        "    print(\"done with sleeping\")\n",
        "\n",
        "processes = []\n",
        "for i in range(10):\n",
        "    p = multiprocessing.Process(target = test_func)\n",
        "    p.start()\n",
        "    processes.append(p)\n",
        "\n",
        "for process in processes:\n",
        "    process.join()\n",
        "\n",
        "\n",
        "\n",
        "end = time.perf_counter()\n",
        "\n",
        "print(f\"The program finished in {round(end-start, 2)} seconds\")"
      ],
      "metadata": {
        "colab": {
          "base_uri": "https://localhost:8080/",
          "height": 0
        },
        "id": "M2ZG3mu6qKum",
        "outputId": "04472203-7978-41a3-b33d-c00d0a02b872"
      },
      "id": "M2ZG3mu6qKum",
      "execution_count": 36,
      "outputs": [
        {
          "output_type": "stream",
          "name": "stdout",
          "text": [
            "do somethingdo something\n",
            "do something\n",
            "\n",
            "do somethingsleep for 1 secsleep for 1 sec\n",
            "\n",
            "sleep for 1 sec\n",
            "\n",
            "sleep for 1 sec\n",
            "do something\n",
            "do somethingsleep for 1 sec\n",
            "\n",
            "do somethingsleep for 1 sec\n",
            "do somethingdo something\n",
            "sleep for 1 sec\n",
            "\n",
            "\n",
            "sleep for 1 secdo somethingsleep for 1 sec\n",
            "\n",
            "\n",
            "sleep for 1 sec\n",
            "done with sleeping\n",
            "done with sleeping\n",
            "done with sleepingdone with sleeping\n",
            "\n",
            "done with sleeping\n",
            "done with sleeping\n",
            "done with sleeping\n",
            "done with sleepingdone with sleeping\n",
            "done with sleeping\n",
            "\n",
            "The program finished in 1.15 seconds\n"
          ]
        }
      ]
    },
    {
      "cell_type": "code",
      "source": [
        "#multiprocessing>> should be used in case of computation\n",
        "#use case 1:\n",
        "\n",
        "import multiprocessing\n",
        "\n",
        "import time\n",
        "start = time.perf_counter()\n",
        "\n",
        "def square(index, value):\n",
        "    value[index] = value[index] ** 2\n",
        "\n",
        "arr = multiprocessing.Array('i', [1, 2, 5, 3, 40000000000])\n",
        "\n",
        "\n",
        "processes = []\n",
        "for i in range(5): #in array 5 nos, therefore loop will be in range(5)\n",
        "    p = multiprocessing.Process(target = square, args = (i, arr))\n",
        "    p.start()\n",
        "    processes.append(p)\n",
        "\n",
        "for process in processes:\n",
        "    process.join()\n",
        "\n",
        "print(list(arr))\n",
        "\n",
        "\n",
        "\n",
        "end = time.perf_counter()\n",
        "\n",
        "print(f\"The program finished in {round(end-start, 2)} seconds\")"
      ],
      "metadata": {
        "colab": {
          "base_uri": "https://localhost:8080/",
          "height": 0
        },
        "id": "QDRSWQj_qKrd",
        "outputId": "2625b4c5-a71d-4d2c-852c-7d1c8e1e98f5"
      },
      "id": "QDRSWQj_qKrd",
      "execution_count": 37,
      "outputs": [
        {
          "output_type": "stream",
          "name": "stdout",
          "text": [
            "[1, 4, 25, 9, 822083584]\n",
            "The program finished in 0.03 seconds\n"
          ]
        }
      ]
    },
    {
      "cell_type": "markdown",
      "source": [],
      "metadata": {
        "id": "Xgs5kgzxqKa9"
      },
      "id": "Xgs5kgzxqKa9"
    },
    {
      "cell_type": "code",
      "source": [
        "#using multiprocessing.pool\n",
        "\n",
        "start = time.perf_counter()\n",
        "def square(no):\n",
        "    result = no*no\n",
        "    print(f\"The square of {no} is {result}  .\")\n",
        "\n",
        "numbers = [1, 2, 3, 4, 6000]\n",
        "\n",
        "with multiprocessing.Pool() as pool:\n",
        "    pool.map(square, numbers)\n",
        "\n",
        "end = time.perf_counter()\n",
        "\n",
        "print(f\"The program finished in {round(end-start, 2)} seconds\")"
      ],
      "metadata": {
        "colab": {
          "base_uri": "https://localhost:8080/",
          "height": 0
        },
        "id": "0Bfj-O5fqKOE",
        "outputId": "bf81fe54-6e25-403b-8d15-edaedf7f53ba"
      },
      "id": "0Bfj-O5fqKOE",
      "execution_count": 45,
      "outputs": [
        {
          "output_type": "stream",
          "name": "stdout",
          "text": [
            "The square of 1 is 1  .The square of 2 is 4  .\n",
            "The square of 3 is 9  .\n",
            "The square of 4 is 16  .\n",
            "\n",
            "The square of 6000 is 36000000  .\n",
            "The program finished in 0.05 seconds\n"
          ]
        }
      ]
    },
    {
      "cell_type": "code",
      "source": [
        "#no order in the results shows multiple core/processors being used and result returned not sequentially>>parallel execution of the code"
      ],
      "metadata": {
        "id": "uwLCA_IlxZce"
      },
      "id": "uwLCA_IlxZce",
      "execution_count": 46,
      "outputs": []
    },
    {
      "cell_type": "code",
      "source": [
        "#use case 2:\n",
        "#say you want to get admission is a school\n",
        "#you will make a enrollment request in a queue\n",
        "#these requests will be processed from the queue and registration will be done\n",
        "\n",
        "#These enrollment and registration tasks can run in parallel\n",
        "#this means while one process is busy putting the requests into the queue, the other process\n",
        "#can be busy processing those request"
      ],
      "metadata": {
        "id": "M9NlqNCmxZNl"
      },
      "id": "M9NlqNCmxZNl",
      "execution_count": 47,
      "outputs": []
    },
    {
      "cell_type": "code",
      "source": [
        "import multiprocessing\n",
        "\n",
        "def enroll_students(student_queue):\n",
        "    for student in [\"Rahul\", \"Rohit\", \"Aman\", \"Ajay\"]:\n",
        "        student_queue.put(f\"enroll request for {student}\")\n",
        "\n",
        "def register_students(students_queue):\n",
        "    while True:\n",
        "        enrollment_req = student_queue.get()\n",
        "        if enrollment_req is None:\n",
        "            break\n",
        "        print(f\"Register the enrollment request: {enrollment_req}\")\n",
        "\n",
        "if True:\n",
        "    student_queue = multiprocessing.Queue() #multiprocessing has data structure queue\n",
        "    enrollment_process = multiprocessing.Process(target = enroll_students, args = (student_queue,))\n",
        "    reg_process = multiprocessing.Process(target = register_students, args = (student_queue,))\n",
        "\n",
        "    enrollment_process.start()\n",
        "    reg_process.start()\n",
        "\n",
        "    enrollment_process.join()\n",
        "    reg_process.join()"
      ],
      "metadata": {
        "colab": {
          "base_uri": "https://localhost:8080/",
          "height": 0
        },
        "id": "p6rLCbDDqJ0V",
        "outputId": "b8f966e4-d590-42af-cbca-7404741f980d"
      },
      "id": "p6rLCbDDqJ0V",
      "execution_count": null,
      "outputs": [
        {
          "output_type": "stream",
          "name": "stdout",
          "text": [
            "Register the enrollment request: enroll request for Rahul\n",
            "Register the enrollment request: enroll request for Rohit\n",
            "Register the enrollment request: enroll request for Aman\n",
            "Register the enrollment request: enroll request for Ajay\n"
          ]
        }
      ]
    },
    {
      "cell_type": "code",
      "source": [
        "#using concurrent.futures process pool\n",
        "import concurrent.futures\n",
        "\n",
        "import time\n",
        "start = time.perf_counter()\n",
        "\n",
        "def test_func(i):\n",
        "    print(\"do something\")\n",
        "    print(\"sleep for 1 sec\")\n",
        "    time.sleep(1)\n",
        "    print(\"done with sleeping\")\n",
        "\n",
        "with concurrent.futures.ProcessPoolExecutor() as executor:\n",
        "    executor.map(test_func, range(10))\n",
        "\n",
        "\n",
        "\n",
        "end = time.perf_counter()\n",
        "\n",
        "print(f\"The program finished in {round(end-start, 2)} seconds\")"
      ],
      "metadata": {
        "colab": {
          "base_uri": "https://localhost:8080/",
          "height": 0
        },
        "id": "N2LIm-hczcCr",
        "outputId": "f818c764-e19b-4427-de20-4c30605f5411"
      },
      "id": "N2LIm-hczcCr",
      "execution_count": 51,
      "outputs": [
        {
          "output_type": "stream",
          "name": "stdout",
          "text": [
            "do somethingdo something\n",
            "sleep for 1 sec\n",
            "sleep for 1 sec\n",
            "\n",
            "done with sleeping\n",
            "done with sleepingdo something\n",
            "\n",
            "sleep for 1 secdo something\n",
            "\n",
            "sleep for 1 sec\n",
            "done with sleeping\n",
            "do something\n",
            "sleep for 1 secdone with sleeping\n",
            "\n",
            "do something\n",
            "sleep for 1 sec\n",
            "done with sleeping\n",
            "do something\n",
            "sleep for 1 sec\n",
            "done with sleeping\n",
            "do something\n",
            "sleep for 1 sec\n",
            "done with sleeping\n",
            "do something\n",
            "sleep for 1 sec\n",
            "done with sleeping\n",
            "do something\n",
            "sleep for 1 sec\n",
            "done with sleeping\n",
            "done with sleeping\n",
            "The program finished in 5.11 seconds\n"
          ]
        }
      ]
    },
    {
      "cell_type": "code",
      "source": [
        "import multiprocessing\n",
        "import time\n",
        "\n",
        "def square(n):\n",
        "    return n * n\n",
        "\n",
        "if __name__ == \"__main__\":\n",
        "    numbers = list(range(1, 11))\n",
        "    pool_sizes = [2, 4, 8]\n",
        "\n",
        "    for pool_size in pool_sizes:\n",
        "        start_time = time.time()\n",
        "        with multiprocessing.Pool(processes=pool_size) as pool:\n",
        "            results = pool.map(square, numbers)\n",
        "        end_time = time.time()\n",
        "        print(f\"Pool size: {pool_size}, Time taken: {end_time - start_time:.4f} seconds, Results: {results}\")"
      ],
      "metadata": {
        "colab": {
          "base_uri": "https://localhost:8080/",
          "height": 0
        },
        "id": "_Bkvk3linC1o",
        "outputId": "f42930b3-e91e-47ca-cfd2-921d8d57ec41"
      },
      "id": "_Bkvk3linC1o",
      "execution_count": 32,
      "outputs": [
        {
          "output_type": "stream",
          "name": "stdout",
          "text": [
            "Pool size: 2, Time taken: 0.0297 seconds, Results: [1, 4, 9, 16, 25, 36, 49, 64, 81, 100]\n",
            "Pool size: 4, Time taken: 0.0315 seconds, Results: [1, 4, 9, 16, 25, 36, 49, 64, 81, 100]\n",
            "Pool size: 8, Time taken: 0.0435 seconds, Results: [1, 4, 9, 16, 25, 36, 49, 64, 81, 100]\n"
          ]
        }
      ]
    },
    {
      "cell_type": "markdown",
      "source": [
        "This script defines a function square that computes the square of a number. It then creates a list of numbers from 1 to 10 and iterates over different pool sizes (2, 4, and 8). For each pool size, it measures the time taken to compute the squares in parallel and prints the results."
      ],
      "metadata": {
        "id": "_ZHvRnesqUr9"
      },
      "id": "_ZHvRnesqUr9"
    },
    {
      "cell_type": "code",
      "source": [],
      "metadata": {
        "id": "-dez_D3DqVWL"
      },
      "id": "-dez_D3DqVWL",
      "execution_count": null,
      "outputs": []
    }
  ],
  "metadata": {
    "kernelspec": {
      "display_name": "Python 3",
      "name": "python3"
    },
    "language_info": {
      "codemirror_mode": {
        "name": "ipython",
        "version": 3
      },
      "file_extension": ".py",
      "mimetype": "text/x-python",
      "name": "python",
      "nbconvert_exporter": "python",
      "pygments_lexer": "ipython3",
      "version": "3.10.8"
    },
    "colab": {
      "provenance": [],
      "include_colab_link": true
    }
  },
  "nbformat": 4,
  "nbformat_minor": 5
}