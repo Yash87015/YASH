{
 "cells": [
  {
   "cell_type": "code",
   "execution_count": 1,
   "id": "5a6f7786-46fc-4c14-8eda-64f2aeb1c94d",
   "metadata": {},
   "outputs": [],
   "source": [
    "#mutablity"
   ]
  },
  {
   "cell_type": "code",
   "execution_count": 4,
   "id": "c0e39d96-37c6-4370-870b-48f512559c8c",
   "metadata": {},
   "outputs": [],
   "source": [
    "list1=[1,2,3,\"ajay\",4,\"bijay\"]\n",
    "    "
   ]
  },
  {
   "cell_type": "code",
   "execution_count": 5,
   "id": "fb0e36c7-27ae-4a5e-810e-7a57d7978041",
   "metadata": {},
   "outputs": [],
   "source": [
    "list1[1]=100"
   ]
  },
  {
   "cell_type": "code",
   "execution_count": 12,
   "id": "3b015052-648c-430d-b263-cc4e04663bb4",
   "metadata": {},
   "outputs": [
    {
     "name": "stdout",
     "output_type": "stream",
     "text": [
      "[1, 100, 3, 'ajay', 4, 'bijay']\n"
     ]
    }
   ],
   "source": [
    "print(list1)          # thats called mutablity "
   ]
  },
  {
   "cell_type": "code",
   "execution_count": 7,
   "id": "83cb7195-3626-45c9-a164-5144fba94085",
   "metadata": {},
   "outputs": [],
   "source": [
    "#immutablity"
   ]
  },
  {
   "cell_type": "code",
   "execution_count": 11,
   "id": "e32f45c7-5e51-49bd-8807-f67d4952f6fe",
   "metadata": {},
   "outputs": [
    {
     "ename": "TypeError",
     "evalue": "'tuple' object does not support item assignment",
     "output_type": "error",
     "traceback": [
      "\u001b[0;31m---------------------------------------------------------------------------\u001b[0m",
      "\u001b[0;31mTypeError\u001b[0m                                 Traceback (most recent call last)",
      "Cell \u001b[0;32mIn[11], line 2\u001b[0m\n\u001b[1;32m      1\u001b[0m list2\u001b[38;5;241m=\u001b[39m(\u001b[38;5;124m\"\u001b[39m\u001b[38;5;124m1\u001b[39m\u001b[38;5;124m\"\u001b[39m,\u001b[38;5;124m\"\u001b[39m\u001b[38;5;124m2\u001b[39m\u001b[38;5;124m\"\u001b[39m,\u001b[38;5;124m\"\u001b[39m\u001b[38;5;124m3\u001b[39m\u001b[38;5;124m\"\u001b[39m,\u001b[38;5;124m\"\u001b[39m\u001b[38;5;124majay\u001b[39m\u001b[38;5;124m\"\u001b[39m,\u001b[38;5;124m\"\u001b[39m\u001b[38;5;124m4\u001b[39m\u001b[38;5;124m\"\u001b[39m,\u001b[38;5;124m\"\u001b[39m\u001b[38;5;124mbijay\u001b[39m\u001b[38;5;124m\"\u001b[39m)\n\u001b[0;32m----> 2\u001b[0m \u001b[43mlist2\u001b[49m\u001b[43m[\u001b[49m\u001b[38;5;241;43m2\u001b[39;49m\u001b[43m]\u001b[49m\u001b[38;5;241m=\u001b[39m\u001b[38;5;241m100\u001b[39m\n\u001b[1;32m      3\u001b[0m \u001b[38;5;28mprint\u001b[39m(list2)\n",
      "\u001b[0;31mTypeError\u001b[0m: 'tuple' object does not support item assignment"
     ]
    }
   ],
   "source": [
    "list2=(\"1\",\"2\",\"3\",\"ajay\",\"4\",\"bijay\") # thats called immutablity like string and tuple\n",
    "list2[2]=100\n",
    "print(list2)"
   ]
  },
  {
   "cell_type": "code",
   "execution_count": 4,
   "id": "ee95ca48-f7fd-4b3a-a668-7c90503a65d4",
   "metadata": {},
   "outputs": [
    {
     "data": {
      "text/plain": [
       "[1, 2, 'yash', True, '5+j3']"
      ]
     },
     "execution_count": 4,
     "metadata": {},
     "output_type": "execute_result"
    }
   ],
   "source": [
    "a=[1,2,\"yash\",True,\"5+j3\"]\n",
    "a"
   ]
  },
  {
   "cell_type": "code",
   "execution_count": 5,
   "id": "a175d0a7-7ff6-47ca-b639-1cb68a900896",
   "metadata": {},
   "outputs": [],
   "source": [
    "a.append(\"nihar\")"
   ]
  },
  {
   "cell_type": "code",
   "execution_count": 6,
   "id": "0a93bb60-1ff4-412b-92ab-21a66f97b7d3",
   "metadata": {},
   "outputs": [
    {
     "data": {
      "text/plain": [
       "[1, 2, 'yash', True, '5+j3', 'nihar']"
      ]
     },
     "execution_count": 6,
     "metadata": {},
     "output_type": "execute_result"
    }
   ],
   "source": [
    "a"
   ]
  },
  {
   "cell_type": "code",
   "execution_count": null,
   "id": "b2e3abbc-f7ed-47be-84a4-e40a89444ad9",
   "metadata": {},
   "outputs": [],
   "source": []
  }
 ],
 "metadata": {
  "kernelspec": {
   "display_name": "Python 3 (ipykernel)",
   "language": "python",
   "name": "python3"
  },
  "language_info": {
   "codemirror_mode": {
    "name": "ipython",
    "version": 3
   },
   "file_extension": ".py",
   "mimetype": "text/x-python",
   "name": "python",
   "nbconvert_exporter": "python",
   "pygments_lexer": "ipython3",
   "version": "3.10.8"
  }
 },
 "nbformat": 4,
 "nbformat_minor": 5
}
