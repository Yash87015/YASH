{
 "cells": [
  {
   "cell_type": "code",
   "execution_count": null,
   "id": "9a999e33-3e2e-4e35-a421-85ca53e078db",
   "metadata": {},
   "outputs": [],
   "source": []
  },
  {
   "cell_type": "markdown",
   "id": "6d2bd9ca-bfd7-495b-8f89-3b04fab2efc6",
   "metadata": {},
   "source": [
    "why numpy? \n",
    "\n",
    "→ already we have c and c++ fastest programming language and numpy is buit using c that why numpy computation is fast \n",
    "\n",
    "→ due to array since its store only homogeneous data , numpy array is faster\n",
    "\n",
    "→ beacuse numpy has homogenous arry that why mathamatic computation is very fast thats why numpy use\n",
    "\n",
    "→ since  it store homogenous data its can continuous memory location\n",
    "\n",
    "→ all the modules kept together is called package\n",
    "→ all maltiple package together is called as libray\n",
    "\n",
    "→ libray contain python packages and modules\n",
    "\n",
    "what is library?\n",
    "\n",
    "***a library is a collaction of pri-written code, that is used to perform comman task***"
   ]
  },
  {
   "cell_type": "markdown",
   "id": "e03067e7-39f0-43b9-a626-ed8066b6502f",
   "metadata": {},
   "source": [
    "# numpy"
   ]
  },
  {
   "cell_type": "markdown",
   "id": "10406696-c5d8-45f3-acd1-4f01ecc39cd5",
   "metadata": {},
   "source": [
    "numpy:-numerical python"
   ]
  },
  {
   "cell_type": "code",
   "execution_count": 1,
   "id": "74699cbd-e297-4d11-903b-fcfc798c7b60",
   "metadata": {},
   "outputs": [],
   "source": [
    "import numpy as np##2005 by Travis Oliphant"
   ]
  },
  {
   "cell_type": "code",
   "execution_count": 2,
   "id": "4b9c4fe8-c73f-4a1a-8fe6-580734dc8abd",
   "metadata": {},
   "outputs": [
    {
     "data": {
      "text/plain": [
       "'1.23.5'"
      ]
     },
     "execution_count": 2,
     "metadata": {},
     "output_type": "execute_result"
    }
   ],
   "source": [
    "np.__version__"
   ]
  },
  {
   "cell_type": "markdown",
   "id": "cdf12ad8-e259-43df-9a10-f936f5e99e51",
   "metadata": {},
   "source": [
    "what is arange function?\n",
    "why numpy array is faster  compare to other data stucture?\n",
    "what is numpy array and matrix difference?\n",
    "how can you increase dimension?\n",
    "linear algebra?solve inverse , transpose "
   ]
  },
  {
   "cell_type": "code",
   "execution_count": 3,
   "id": "d4fd6d10-96f4-44d9-baa2-726879e06cc4",
   "metadata": {},
   "outputs": [
    {
     "name": "stdout",
     "output_type": "stream",
     "text": [
      "\n",
      "NumPy\n",
      "=====\n",
      "\n",
      "Provides\n",
      "  1. An array object of arbitrary homogeneous items\n",
      "  2. Fast mathematical operations over arrays\n",
      "  3. Linear Algebra, Fourier Transforms, Random Number Generation\n",
      "\n",
      "How to use the documentation\n",
      "----------------------------\n",
      "Documentation is available in two forms: docstrings provided\n",
      "with the code, and a loose standing reference guide, available from\n",
      "`the NumPy homepage <https://numpy.org>`_.\n",
      "\n",
      "We recommend exploring the docstrings using\n",
      "`IPython <https://ipython.org>`_, an advanced Python shell with\n",
      "TAB-completion and introspection capabilities.  See below for further\n",
      "instructions.\n",
      "\n",
      "The docstring examples assume that `numpy` has been imported as `np`::\n",
      "\n",
      "  >>> import numpy as np\n",
      "\n",
      "Code snippets are indicated by three greater-than signs::\n",
      "\n",
      "  >>> x = 42\n",
      "  >>> x = x + 1\n",
      "\n",
      "Use the built-in ``help`` function to view a function's docstring::\n",
      "\n",
      "  >>> help(np.sort)\n",
      "  ... # doctest: +SKIP\n",
      "\n",
      "For some objects, ``np.info(obj)`` may provide additional help.  This is\n",
      "particularly true if you see the line \"Help on ufunc object:\" at the top\n",
      "of the help() page.  Ufuncs are implemented in C, not Python, for speed.\n",
      "The native Python help() does not know how to view their help, but our\n",
      "np.info() function does.\n",
      "\n",
      "To search for documents containing a keyword, do::\n",
      "\n",
      "  >>> np.lookfor('keyword')\n",
      "  ... # doctest: +SKIP\n",
      "\n",
      "General-purpose documents like a glossary and help on the basic concepts\n",
      "of numpy are available under the ``doc`` sub-module::\n",
      "\n",
      "  >>> from numpy import doc\n",
      "  >>> help(doc)\n",
      "  ... # doctest: +SKIP\n",
      "\n",
      "Available subpackages\n",
      "---------------------\n",
      "lib\n",
      "    Basic functions used by several sub-packages.\n",
      "random\n",
      "    Core Random Tools\n",
      "linalg\n",
      "    Core Linear Algebra Tools\n",
      "fft\n",
      "    Core FFT routines\n",
      "polynomial\n",
      "    Polynomial tools\n",
      "testing\n",
      "    NumPy testing tools\n",
      "distutils\n",
      "    Enhancements to distutils with support for\n",
      "    Fortran compilers support and more.\n",
      "\n",
      "Utilities\n",
      "---------\n",
      "test\n",
      "    Run numpy unittests\n",
      "show_config\n",
      "    Show numpy build configuration\n",
      "dual\n",
      "    Overwrite certain functions with high-performance SciPy tools.\n",
      "    Note: `numpy.dual` is deprecated.  Use the functions from NumPy or Scipy\n",
      "    directly instead of importing them from `numpy.dual`.\n",
      "matlib\n",
      "    Make everything matrices.\n",
      "__version__\n",
      "    NumPy version string\n",
      "\n",
      "Viewing documentation using IPython\n",
      "-----------------------------------\n",
      "Start IPython with the NumPy profile (``ipython -p numpy``), which will\n",
      "import `numpy` under the alias `np`.  Then, use the ``cpaste`` command to\n",
      "paste examples into the shell.  To see which functions are available in\n",
      "`numpy`, type ``np.<TAB>`` (where ``<TAB>`` refers to the TAB key), or use\n",
      "``np.*cos*?<ENTER>`` (where ``<ENTER>`` refers to the ENTER key) to narrow\n",
      "down the list.  To view the docstring for a function, use\n",
      "``np.cos?<ENTER>`` (to view the docstring) and ``np.cos??<ENTER>`` (to view\n",
      "the source code).\n",
      "\n",
      "Copies vs. in-place operation\n",
      "-----------------------------\n",
      "Most of the functions in `numpy` return a copy of the array argument\n",
      "(e.g., `np.sort`).  In-place versions of these functions are often\n",
      "available as array methods, i.e. ``x = np.array([1,2,3]); x.sort()``.\n",
      "Exceptions to this rule are documented.\n",
      "\n",
      "\n"
     ]
    }
   ],
   "source": [
    "print(np.__doc__)"
   ]
  },
  {
   "cell_type": "markdown",
   "id": "f061fcfe-7a4a-4fc5-9318-386500495157",
   "metadata": {},
   "source": [
    "numpy stored the data in a numpy array\n",
    "\n",
    "→ array is a data structure/cointainer  used to store data of some data type its is homogeneus its store the same data type"
   ]
  },
  {
   "cell_type": "code",
   "execution_count": 25,
   "id": "46c79978-6b91-4fb8-b59c-6e8d99c7620b",
   "metadata": {},
   "outputs": [],
   "source": [
    "l = [1,2,3,4,5,6]"
   ]
  },
  {
   "cell_type": "code",
   "execution_count": 26,
   "id": "75782336-0401-42d1-93a8-3096f39300fe",
   "metadata": {},
   "outputs": [],
   "source": [
    "ab=np.array(l)"
   ]
  },
  {
   "cell_type": "code",
   "execution_count": 12,
   "id": "cc341670-9c92-4c79-80ba-dd171cacc7c5",
   "metadata": {},
   "outputs": [
    {
     "data": {
      "text/plain": [
       "numpy.ndarray"
      ]
     },
     "execution_count": 12,
     "metadata": {},
     "output_type": "execute_result"
    }
   ],
   "source": [
    "type(ab)#nd means n dimension of array"
   ]
  },
  {
   "cell_type": "code",
   "execution_count": 13,
   "id": "228c5d0a-2690-4212-a8f1-91792d7a8039",
   "metadata": {},
   "outputs": [],
   "source": [
    "qw=[1,2,3,4,5,\"dyie\"]"
   ]
  },
  {
   "cell_type": "code",
   "execution_count": 14,
   "id": "76f3eff9-dd6b-431b-9050-24456885bd73",
   "metadata": {},
   "outputs": [],
   "source": [
    "qc=np.array(qw)"
   ]
  },
  {
   "cell_type": "code",
   "execution_count": 15,
   "id": "d65e04f4-ac7b-4e10-bbf1-ed2948071b83",
   "metadata": {},
   "outputs": [
    {
     "data": {
      "text/plain": [
       "numpy.ndarray"
      ]
     },
     "execution_count": 15,
     "metadata": {},
     "output_type": "execute_result"
    }
   ],
   "source": [
    "type(qc)"
   ]
  },
  {
   "cell_type": "code",
   "execution_count": 16,
   "id": "dd0b8257-15da-4caf-b561-a915a0079ed1",
   "metadata": {},
   "outputs": [
    {
     "data": {
      "text/plain": [
       "array(['1', '2', '3', '4', '5', 'dyie'], dtype='<U21')"
      ]
     },
     "execution_count": 16,
     "metadata": {},
     "output_type": "execute_result"
    }
   ],
   "source": [
    "np.array(qw)"
   ]
  },
  {
   "cell_type": "code",
   "execution_count": 17,
   "id": "4529bd94-d392-4dc0-be75-5f51007a1530",
   "metadata": {},
   "outputs": [
    {
     "data": {
      "text/plain": [
       "array([1, 2, 3, 4, 5, 6])"
      ]
     },
     "execution_count": 17,
     "metadata": {},
     "output_type": "execute_result"
    }
   ],
   "source": [
    "ab"
   ]
  },
  {
   "cell_type": "code",
   "execution_count": 18,
   "id": "e2c1de23-10ba-4f7e-808a-f8135a59a6b2",
   "metadata": {},
   "outputs": [],
   "source": [
    "r=[1,2,3,4,4.5]"
   ]
  },
  {
   "cell_type": "code",
   "execution_count": 30,
   "id": "d80d2d1f-7dd4-4e3f-81aa-a5b34b0a53c6",
   "metadata": {},
   "outputs": [],
   "source": [
    "qr=np.array(r)"
   ]
  },
  {
   "cell_type": "code",
   "execution_count": 31,
   "id": "cd86a359-7fe9-4798-a72c-96d710ed3cbc",
   "metadata": {},
   "outputs": [
    {
     "data": {
      "text/plain": [
       "1"
      ]
     },
     "execution_count": 31,
     "metadata": {},
     "output_type": "execute_result"
    }
   ],
   "source": [
    "qr.ndim#beacuse only has row only one dimension"
   ]
  },
  {
   "cell_type": "code",
   "execution_count": 32,
   "id": "561ed2e3-0ebc-400d-ba69-64e02d05d1da",
   "metadata": {},
   "outputs": [],
   "source": [
    "er=np.array([[1,2,3],[4,5,6]])"
   ]
  },
  {
   "cell_type": "code",
   "execution_count": 33,
   "id": "212b9c43-782e-4774-9e82-c15e1f04670e",
   "metadata": {},
   "outputs": [
    {
     "data": {
      "text/plain": [
       "2"
      ]
     },
     "execution_count": 33,
     "metadata": {},
     "output_type": "execute_result"
    }
   ],
   "source": [
    "er.ndim # now its has row and coloam that has two  dimension"
   ]
  },
  {
   "cell_type": "code",
   "execution_count": 34,
   "id": "f8889d61-c9f9-496a-92bb-09ca42412d2e",
   "metadata": {},
   "outputs": [
    {
     "data": {
      "text/plain": [
       "array([[1, 2, 3],\n",
       "       [4, 5, 6]])"
      ]
     },
     "execution_count": 34,
     "metadata": {},
     "output_type": "execute_result"
    }
   ],
   "source": [
    "er"
   ]
  },
  {
   "cell_type": "code",
   "execution_count": 36,
   "id": "96d05799-aa21-4520-a08b-3a515498c03c",
   "metadata": {},
   "outputs": [],
   "source": [
    "mad=np.matrix([1,2,3,4])"
   ]
  },
  {
   "cell_type": "code",
   "execution_count": 37,
   "id": "6c44fd29-a9a0-4161-90e1-f6b86756bc1e",
   "metadata": {},
   "outputs": [
    {
     "data": {
      "text/plain": [
       "numpy.matrix"
      ]
     },
     "execution_count": 37,
     "metadata": {},
     "output_type": "execute_result"
    }
   ],
   "source": [
    "type(mad)"
   ]
  },
  {
   "cell_type": "code",
   "execution_count": 38,
   "id": "d6e8d837-e9c6-46b7-8524-b67ed5e72287",
   "metadata": {},
   "outputs": [
    {
     "data": {
      "text/plain": [
       "2"
      ]
     },
     "execution_count": 38,
     "metadata": {},
     "output_type": "execute_result"
    }
   ],
   "source": [
    "mad.ndim"
   ]
  },
  {
   "cell_type": "code",
   "execution_count": 39,
   "id": "4d12d50c-f04c-4971-b66e-bb50b4d9a30a",
   "metadata": {},
   "outputs": [
    {
     "data": {
      "text/plain": [
       "matrix([[1, 2, 3, 4]])"
      ]
     },
     "execution_count": 39,
     "metadata": {},
     "output_type": "execute_result"
    }
   ],
   "source": [
    "mad"
   ]
  },
  {
   "cell_type": "markdown",
   "id": "6b1fe1b1-e253-46a7-b390-64cee38fbfc8",
   "metadata": {},
   "source": [
    "matrix has two dimension only not 1 or 3"
   ]
  },
  {
   "cell_type": "code",
   "execution_count": 40,
   "id": "49b392b9-c250-4cf8-a128-cb966555053a",
   "metadata": {},
   "outputs": [
    {
     "ename": "ValueError",
     "evalue": "matrix must be 2-dimensional",
     "output_type": "error",
     "traceback": [
      "\u001b[0;31m---------------------------------------------------------------------------\u001b[0m",
      "\u001b[0;31mValueError\u001b[0m                                Traceback (most recent call last)",
      "Cell \u001b[0;32mIn[40], line 1\u001b[0m\n\u001b[0;32m----> 1\u001b[0m \u001b[43mnp\u001b[49m\u001b[38;5;241;43m.\u001b[39;49m\u001b[43mmatrix\u001b[49m\u001b[43m(\u001b[49m\u001b[43m[\u001b[49m\u001b[43m[\u001b[49m\u001b[43m[\u001b[49m\u001b[38;5;241;43m1\u001b[39;49m\u001b[43m,\u001b[49m\u001b[38;5;241;43m2\u001b[39;49m\u001b[43m,\u001b[49m\u001b[38;5;241;43m3\u001b[39;49m\u001b[43m,\u001b[49m\u001b[38;5;241;43m4\u001b[39;49m\u001b[43m]\u001b[49m\u001b[43m]\u001b[49m\u001b[43m]\u001b[49m\u001b[43m)\u001b[49m\n",
      "File \u001b[0;32m/opt/conda/lib/python3.10/site-packages/numpy/matrixlib/defmatrix.py:149\u001b[0m, in \u001b[0;36mmatrix.__new__\u001b[0;34m(subtype, data, dtype, copy)\u001b[0m\n\u001b[1;32m    147\u001b[0m shape \u001b[38;5;241m=\u001b[39m arr\u001b[38;5;241m.\u001b[39mshape\n\u001b[1;32m    148\u001b[0m \u001b[38;5;28;01mif\u001b[39;00m (ndim \u001b[38;5;241m>\u001b[39m \u001b[38;5;241m2\u001b[39m):\n\u001b[0;32m--> 149\u001b[0m     \u001b[38;5;28;01mraise\u001b[39;00m \u001b[38;5;167;01mValueError\u001b[39;00m(\u001b[38;5;124m\"\u001b[39m\u001b[38;5;124mmatrix must be 2-dimensional\u001b[39m\u001b[38;5;124m\"\u001b[39m)\n\u001b[1;32m    150\u001b[0m \u001b[38;5;28;01melif\u001b[39;00m ndim \u001b[38;5;241m==\u001b[39m \u001b[38;5;241m0\u001b[39m:\n\u001b[1;32m    151\u001b[0m     shape \u001b[38;5;241m=\u001b[39m (\u001b[38;5;241m1\u001b[39m, \u001b[38;5;241m1\u001b[39m)\n",
      "\u001b[0;31mValueError\u001b[0m: matrix must be 2-dimensional"
     ]
    }
   ],
   "source": [
    "np.matrix([[[1,2,3,4]]])"
   ]
  },
  {
   "cell_type": "code",
   "execution_count": 41,
   "id": "0f534ac5-4861-49bd-a00f-bc3e1da42caf",
   "metadata": {},
   "outputs": [],
   "source": [
    "#more way to convert array\n",
    "#np.asarray\n",
    "#np.array\n",
    "#np.asanyarray\n",
    "q=[1,2,3,4,5]"
   ]
  },
  {
   "cell_type": "code",
   "execution_count": 42,
   "id": "ce06f018-fac3-44d6-8c7c-37eacabc0f70",
   "metadata": {},
   "outputs": [
    {
     "data": {
      "text/plain": [
       "array([1, 2, 3, 4, 5])"
      ]
     },
     "execution_count": 42,
     "metadata": {},
     "output_type": "execute_result"
    }
   ],
   "source": [
    "np.asarray(q)"
   ]
  },
  {
   "cell_type": "code",
   "execution_count": 45,
   "id": "61761c29-8e4e-40a5-9e8e-91afed0a8bb0",
   "metadata": {},
   "outputs": [],
   "source": [
    "qw=np.asarray(q)#intial function to convert array np.array come after this"
   ]
  },
  {
   "cell_type": "code",
   "execution_count": 46,
   "id": "421151ac-bec1-47f8-8e3a-fa00a2037b79",
   "metadata": {},
   "outputs": [
    {
     "data": {
      "text/plain": [
       "numpy.ndarray"
      ]
     },
     "execution_count": 46,
     "metadata": {},
     "output_type": "execute_result"
    }
   ],
   "source": [
    "type(qw)"
   ]
  },
  {
   "cell_type": "code",
   "execution_count": 50,
   "id": "5a801a02-0372-43e6-a1a1-0bbbee1e490a",
   "metadata": {},
   "outputs": [],
   "source": [
    "qe=np.asanyarray([[1,2,3,4]])"
   ]
  },
  {
   "cell_type": "code",
   "execution_count": 51,
   "id": "50fda7b6-8727-40a0-858e-8a51642dea4d",
   "metadata": {},
   "outputs": [
    {
     "data": {
      "text/plain": [
       "2"
      ]
     },
     "execution_count": 51,
     "metadata": {},
     "output_type": "execute_result"
    }
   ],
   "source": [
    "qe.ndim"
   ]
  },
  {
   "cell_type": "code",
   "execution_count": 52,
   "id": "a21d4701-d79f-4867-bfde-0c82ad5819d9",
   "metadata": {},
   "outputs": [
    {
     "data": {
      "text/plain": [
       "array([[1, 2, 3, 4]])"
      ]
     },
     "execution_count": 52,
     "metadata": {},
     "output_type": "execute_result"
    }
   ],
   "source": [
    "qe"
   ]
  },
  {
   "cell_type": "markdown",
   "id": "745342ef-c6ee-4186-95e6-1a1553d252ff",
   "metadata": {},
   "source": [
    "asanyarray will convert the input to the ndarray,but if somthing already in array it will subclass throw it will not do anything(Convert the input to an ndarray, but pass ndarray subclasses throw)"
   ]
  },
  {
   "cell_type": "code",
   "execution_count": 53,
   "id": "5fd67c3f-ebc3-457c-b170-a27924fe7115",
   "metadata": {},
   "outputs": [
    {
     "data": {
      "text/plain": [
       "matrix([[1, 2, 3, 4]])"
      ]
     },
     "execution_count": 53,
     "metadata": {},
     "output_type": "execute_result"
    }
   ],
   "source": [
    "mad"
   ]
  },
  {
   "cell_type": "code",
   "execution_count": 54,
   "id": "98ebfeef-9c99-4abc-95dd-48e1a1846d90",
   "metadata": {},
   "outputs": [
    {
     "data": {
      "text/plain": [
       "matrix([[1, 2, 3, 4]])"
      ]
     },
     "execution_count": 54,
     "metadata": {},
     "output_type": "execute_result"
    }
   ],
   "source": [
    "np.asanyarray(mad)"
   ]
  },
  {
   "cell_type": "code",
   "execution_count": 58,
   "id": "7ae094dc-fea5-4436-957d-3eb11a2e5a72",
   "metadata": {},
   "outputs": [
    {
     "data": {
      "text/plain": [
       "array([[1, 2, 3],\n",
       "       [4, 5, 6]])"
      ]
     },
     "execution_count": 58,
     "metadata": {},
     "output_type": "execute_result"
    }
   ],
   "source": [
    "er # accesing of array"
   ]
  },
  {
   "cell_type": "code",
   "execution_count": 59,
   "id": "fe008b0c-0ddd-476f-b2fb-bc457b032405",
   "metadata": {},
   "outputs": [
    {
     "data": {
      "text/plain": [
       "array([1, 2, 3])"
      ]
     },
     "execution_count": 59,
     "metadata": {},
     "output_type": "execute_result"
    }
   ],
   "source": [
    "er[0]"
   ]
  },
  {
   "cell_type": "code",
   "execution_count": 60,
   "id": "76efaeab-8359-4319-b8cd-e66bf50cc1be",
   "metadata": {},
   "outputs": [
    {
     "data": {
      "text/plain": [
       "array([4, 5, 6])"
      ]
     },
     "execution_count": 60,
     "metadata": {},
     "output_type": "execute_result"
    }
   ],
   "source": [
    "er[1]"
   ]
  },
  {
   "cell_type": "markdown",
   "id": "4b57c339-3e6c-412d-88d6-d7980cb3812c",
   "metadata": {},
   "source": [
    "er[0,1]=9#array is mutable"
   ]
  },
  {
   "cell_type": "code",
   "execution_count": 63,
   "id": "11bcf9ca-a1d0-4d45-9682-541e407628be",
   "metadata": {},
   "outputs": [
    {
     "data": {
      "text/plain": [
       "array([[1, 9, 3],\n",
       "       [4, 5, 6]])"
      ]
     },
     "execution_count": 63,
     "metadata": {},
     "output_type": "execute_result"
    }
   ],
   "source": [
    "er"
   ]
  },
  {
   "cell_type": "code",
   "execution_count": 64,
   "id": "eb877a7b-1302-4f7a-8c4e-7cb85eb7511a",
   "metadata": {},
   "outputs": [],
   "source": [
    "er[0,2]=7"
   ]
  },
  {
   "cell_type": "code",
   "execution_count": 65,
   "id": "b38c757e-15df-4e86-8d56-2850492aae7c",
   "metadata": {},
   "outputs": [
    {
     "data": {
      "text/plain": [
       "array([[1, 9, 7],\n",
       "       [4, 5, 6]])"
      ]
     },
     "execution_count": 65,
     "metadata": {},
     "output_type": "execute_result"
    }
   ],
   "source": [
    "er"
   ]
  },
  {
   "cell_type": "markdown",
   "id": "b46660d8-469b-4e1e-b847-94c4489f0621",
   "metadata": {},
   "source": [
    "→ array deep copy and shallow copy\n",
    "\n",
    "a and array will point to same memory locaion , so if changes is a an array it will reflate on both"
   ]
  },
  {
   "cell_type": "code",
   "execution_count": 66,
   "id": "bdb13b37-8f72-43da-a905-3f32a2b8b996",
   "metadata": {},
   "outputs": [],
   "source": [
    "a=er#shallow copy"
   ]
  },
  {
   "cell_type": "code",
   "execution_count": 67,
   "id": "d38d3fb9-3e00-4bbb-9407-9ce1c24b9434",
   "metadata": {},
   "outputs": [
    {
     "data": {
      "text/plain": [
       "array([[1, 9, 7],\n",
       "       [4, 5, 6]])"
      ]
     },
     "execution_count": 67,
     "metadata": {},
     "output_type": "execute_result"
    }
   ],
   "source": [
    "a"
   ]
  },
  {
   "cell_type": "code",
   "execution_count": 68,
   "id": "5066f471-6469-4403-a107-7d9b2ee3595e",
   "metadata": {},
   "outputs": [
    {
     "data": {
      "text/plain": [
       "array([[1, 9, 7],\n",
       "       [4, 5, 6]])"
      ]
     },
     "execution_count": 68,
     "metadata": {},
     "output_type": "execute_result"
    }
   ],
   "source": [
    "er"
   ]
  },
  {
   "cell_type": "code",
   "execution_count": 69,
   "id": "256de6e2-9118-444b-b245-270bd6e0df02",
   "metadata": {},
   "outputs": [],
   "source": [
    "a[1,2]=8"
   ]
  },
  {
   "cell_type": "code",
   "execution_count": 70,
   "id": "013f1809-e5cc-485a-b61b-13d2901a51d0",
   "metadata": {},
   "outputs": [
    {
     "data": {
      "text/plain": [
       "array([[1, 9, 7],\n",
       "       [4, 5, 8]])"
      ]
     },
     "execution_count": 70,
     "metadata": {},
     "output_type": "execute_result"
    }
   ],
   "source": [
    "a"
   ]
  },
  {
   "cell_type": "code",
   "execution_count": 71,
   "id": "83f804cf-053b-4d1a-9aef-285bde949863",
   "metadata": {},
   "outputs": [
    {
     "data": {
      "text/plain": [
       "array([[1, 9, 7],\n",
       "       [4, 5, 8]])"
      ]
     },
     "execution_count": 71,
     "metadata": {},
     "output_type": "execute_result"
    }
   ],
   "source": [
    "er"
   ]
  },
  {
   "cell_type": "code",
   "execution_count": 72,
   "id": "00725e27-67d7-4aaf-bf5b-cbe5375522b5",
   "metadata": {},
   "outputs": [],
   "source": [
    "#deep copy"
   ]
  },
  {
   "cell_type": "code",
   "execution_count": 74,
   "id": "5a0a1591-cff7-4f4b-9aa2-7ebd71152102",
   "metadata": {},
   "outputs": [],
   "source": [
    "c=a.copy()"
   ]
  },
  {
   "cell_type": "code",
   "execution_count": 75,
   "id": "a0b152b8-2d37-4632-893b-6b57fba7be13",
   "metadata": {},
   "outputs": [
    {
     "data": {
      "text/plain": [
       "array([[1, 9, 7],\n",
       "       [4, 5, 8]])"
      ]
     },
     "execution_count": 75,
     "metadata": {},
     "output_type": "execute_result"
    }
   ],
   "source": [
    "c"
   ]
  },
  {
   "cell_type": "code",
   "execution_count": 76,
   "id": "d6421055-a38e-4cb7-8b4b-791d3e502d4f",
   "metadata": {},
   "outputs": [
    {
     "data": {
      "text/plain": [
       "array([[1, 9, 7],\n",
       "       [4, 5, 8]])"
      ]
     },
     "execution_count": 76,
     "metadata": {},
     "output_type": "execute_result"
    }
   ],
   "source": [
    "a"
   ]
  },
  {
   "cell_type": "code",
   "execution_count": 77,
   "id": "400e0a35-6c20-47e7-ad3d-a40a6cd36896",
   "metadata": {},
   "outputs": [],
   "source": [
    "c[0,2]=45"
   ]
  },
  {
   "cell_type": "code",
   "execution_count": 78,
   "id": "357b3cfa-8335-405a-b417-3a7b7a7ff5b7",
   "metadata": {},
   "outputs": [
    {
     "data": {
      "text/plain": [
       "array([[ 1,  9, 45],\n",
       "       [ 4,  5,  8]])"
      ]
     },
     "execution_count": 78,
     "metadata": {},
     "output_type": "execute_result"
    }
   ],
   "source": [
    "c"
   ]
  },
  {
   "cell_type": "code",
   "execution_count": 79,
   "id": "018219ae-44a2-482e-b4c4-435983206225",
   "metadata": {},
   "outputs": [
    {
     "data": {
      "text/plain": [
       "array([[1, 9, 7],\n",
       "       [4, 5, 8]])"
      ]
     },
     "execution_count": 79,
     "metadata": {},
     "output_type": "execute_result"
    }
   ],
   "source": [
    "a"
   ]
  },
  {
   "cell_type": "markdown",
   "id": "e834f51d-b4da-4ea3-9e42-0a26fd374584",
   "metadata": {},
   "source": [
    "maltiple approch to generate any array"
   ]
  },
  {
   "cell_type": "code",
   "execution_count": 84,
   "id": "c4d0798d-4d93-4250-aaf0-2be21525858e",
   "metadata": {},
   "outputs": [],
   "source": [
    "er=np.fromfunction(lambda i,j:i==j,(3,3))#onstruct an array by executing a function over each coordinate.\n",
    "\n",
    "#The resulting array therefore has a value ``fn(x, y, z)`` at\n",
    "#coordinate ``(x, y, z)``.[00 01 02\n",
    "                       #   10 11 12\n",
    "                       #   20 21 22]\n"
   ]
  },
  {
   "cell_type": "code",
   "execution_count": 83,
   "id": "2e4d07d2-9775-4c3a-bc39-f6af36e2aaa2",
   "metadata": {},
   "outputs": [
    {
     "data": {
      "text/plain": [
       "False"
      ]
     },
     "execution_count": 83,
     "metadata": {},
     "output_type": "execute_result"
    }
   ],
   "source": [
    "1==2"
   ]
  },
  {
   "cell_type": "code",
   "execution_count": 85,
   "id": "8128e6af-86bc-4181-bde2-662712f6ca42",
   "metadata": {},
   "outputs": [
    {
     "data": {
      "text/plain": [
       "array([[ True, False, False],\n",
       "       [False,  True, False],\n",
       "       [False, False,  True]])"
      ]
     },
     "execution_count": 85,
     "metadata": {},
     "output_type": "execute_result"
    }
   ],
   "source": [
    "er"
   ]
  },
  {
   "cell_type": "code",
   "execution_count": 86,
   "id": "0eb69d4e-4adf-4f19-85ca-43cf2bde9dff",
   "metadata": {},
   "outputs": [
    {
     "data": {
      "text/plain": [
       "2"
      ]
     },
     "execution_count": 86,
     "metadata": {},
     "output_type": "execute_result"
    }
   ],
   "source": [
    "er.ndim"
   ]
  },
  {
   "cell_type": "code",
   "execution_count": 87,
   "id": "f8be1996-279b-4bf3-8017-ec96bc6d07a3",
   "metadata": {},
   "outputs": [
    {
     "data": {
      "text/plain": [
       "(3, 3)"
      ]
     },
     "execution_count": 87,
     "metadata": {},
     "output_type": "execute_result"
    }
   ],
   "source": [
    "er.shape #shape of array"
   ]
  },
  {
   "cell_type": "code",
   "execution_count": 89,
   "id": "cfa1abe0-28cc-42e7-8a34-c77829131021",
   "metadata": {},
   "outputs": [
    {
     "data": {
      "text/plain": [
       "9"
      ]
     },
     "execution_count": 89,
     "metadata": {},
     "output_type": "execute_result"
    }
   ],
   "source": [
    "er.size #shape of size"
   ]
  },
  {
   "cell_type": "code",
   "execution_count": 93,
   "id": "a969e38e-c311-4428-948b-c26ec7d734cb",
   "metadata": {},
   "outputs": [],
   "source": [
    "rt=np.fromfunction(lambda i,j:i*j,(3,3))"
   ]
  },
  {
   "cell_type": "code",
   "execution_count": 94,
   "id": "843934c6-982c-4601-9818-7a92f09d8524",
   "metadata": {},
   "outputs": [
    {
     "data": {
      "text/plain": [
       "array([[0., 0., 0.],\n",
       "       [0., 1., 2.],\n",
       "       [0., 2., 4.]])"
      ]
     },
     "execution_count": 94,
     "metadata": {},
     "output_type": "execute_result"
    }
   ],
   "source": [
    "rt"
   ]
  },
  {
   "cell_type": "code",
   "execution_count": 95,
   "id": "7b6202a6-55b6-4ff4-9f72-a5141c6f0467",
   "metadata": {},
   "outputs": [
    {
     "data": {
      "text/plain": [
       "2"
      ]
     },
     "execution_count": 95,
     "metadata": {},
     "output_type": "execute_result"
    }
   ],
   "source": [
    "rt.ndim"
   ]
  },
  {
   "cell_type": "code",
   "execution_count": 96,
   "id": "67d33036-572d-4ee4-9d16-f2a529ca6db0",
   "metadata": {},
   "outputs": [
    {
     "data": {
      "text/plain": [
       "(3, 3)"
      ]
     },
     "execution_count": 96,
     "metadata": {},
     "output_type": "execute_result"
    }
   ],
   "source": [
    "rt.shape"
   ]
  },
  {
   "cell_type": "code",
   "execution_count": 97,
   "id": "5a9af25e-3426-44a4-847e-081f01b98f23",
   "metadata": {},
   "outputs": [
    {
     "data": {
      "text/plain": [
       "9"
      ]
     },
     "execution_count": 97,
     "metadata": {},
     "output_type": "execute_result"
    }
   ],
   "source": [
    "rt.size"
   ]
  },
  {
   "cell_type": "code",
   "execution_count": 98,
   "id": "bc881112-2247-4ad3-82ec-bb9e59ce0c5b",
   "metadata": {},
   "outputs": [
    {
     "name": "stdout",
     "output_type": "stream",
     "text": [
      "0\n",
      "1\n",
      "2\n",
      "3\n",
      "4\n"
     ]
    }
   ],
   "source": [
    "for i in range(5):\n",
    "    print(i)"
   ]
  },
  {
   "cell_type": "code",
   "execution_count": 100,
   "id": "3ab3d438-6b49-4dad-9c7f-c47289a3f607",
   "metadata": {},
   "outputs": [
    {
     "data": {
      "text/plain": [
       "[0, 1, 2, 3, 4]"
      ]
     },
     "execution_count": 100,
     "metadata": {},
     "output_type": "execute_result"
    }
   ],
   "source": [
    "[i for i in range(5)]"
   ]
  },
  {
   "cell_type": "code",
   "execution_count": 101,
   "id": "d1b2a047-84e2-4afe-bc6e-20769edc1c96",
   "metadata": {},
   "outputs": [
    {
     "data": {
      "text/plain": [
       "<generator object <genexpr> at 0x771a9c372420>"
      ]
     },
     "execution_count": 101,
     "metadata": {},
     "output_type": "execute_result"
    }
   ],
   "source": [
    "(i for i in range(5))"
   ]
  },
  {
   "cell_type": "code",
   "execution_count": 106,
   "id": "602ad799-a095-443e-b3c5-3bfaf417893a",
   "metadata": {},
   "outputs": [],
   "source": [
    "iterator=(i for i in range(5))"
   ]
  },
  {
   "cell_type": "code",
   "execution_count": 108,
   "id": "4c1d770d-c1b8-41e2-bee3-ec5b39499c92",
   "metadata": {},
   "outputs": [
    {
     "data": {
      "text/plain": [
       "array([0, 1, 2, 3, 4])"
      ]
     },
     "execution_count": 108,
     "metadata": {},
     "output_type": "execute_result"
    }
   ],
   "source": [
    "np.fromiter(iterator,int)#Create a new 1-dimensional array from an iterable object."
   ]
  },
  {
   "cell_type": "code",
   "execution_count": 113,
   "id": "856f6982-4852-4836-aa47-08e7f6f36f3f",
   "metadata": {},
   "outputs": [
    {
     "data": {
      "text/plain": [
       "array([22., 23., 24.])"
      ]
     },
     "execution_count": 113,
     "metadata": {},
     "output_type": "execute_result"
    }
   ],
   "source": [
    "np.fromstring('22 23 24',sep=\" \")"
   ]
  },
  {
   "cell_type": "code",
   "execution_count": 114,
   "id": "0dd3c0a5-1b65-4a5b-8545-4b72c1800a9b",
   "metadata": {},
   "outputs": [
    {
     "data": {
      "text/plain": [
       "array([22, 23, 24])"
      ]
     },
     "execution_count": 114,
     "metadata": {},
     "output_type": "execute_result"
    }
   ],
   "source": [
    "np.fromstring('22 23 24',int,sep=\" \")"
   ]
  },
  {
   "cell_type": "code",
   "execution_count": 126,
   "id": "f2fc06d8-bbd8-4454-a5b9-8e5c08571676",
   "metadata": {},
   "outputs": [
    {
     "data": {
      "text/plain": [
       "['ajay', 'bijay', 'truma', 'fatru']"
      ]
     },
     "execution_count": 126,
     "metadata": {},
     "output_type": "execute_result"
    }
   ],
   "source": [
    "ty=\"ajay bijay truma fatru\"\n",
    "ty.split(\" \")"
   ]
  },
  {
   "cell_type": "code",
   "execution_count": 125,
   "id": "bd4280cc-df16-4c5e-a156-9559fad6ff46",
   "metadata": {},
   "outputs": [
    {
     "data": {
      "text/plain": [
       "array(['ajay', 'bijay', 'truma', 'fatru'], dtype='<U5')"
      ]
     },
     "execution_count": 125,
     "metadata": {},
     "output_type": "execute_result"
    }
   ],
   "source": [
    "np.array(ty.split(\" \"))"
   ]
  },
  {
   "cell_type": "code",
   "execution_count": 127,
   "id": "b91e5c9f-d5bc-4e40-9768-ac0ec063dff7",
   "metadata": {},
   "outputs": [
    {
     "data": {
      "text/plain": [
       "[0, 1, 2, 3, 4, 5, 6, 7, 8, 9]"
      ]
     },
     "execution_count": 127,
     "metadata": {},
     "output_type": "execute_result"
    }
   ],
   "source": [
    "list(range(0,10))"
   ]
  },
  {
   "cell_type": "markdown",
   "id": "4b8e18be-4baf-4c89-9c41-5cb7e106c646",
   "metadata": {},
   "source": [
    "array also same function called arange"
   ]
  },
  {
   "cell_type": "code",
   "execution_count": 132,
   "id": "752137d6-24c2-4370-a519-c855a22aabb3",
   "metadata": {},
   "outputs": [
    {
     "data": {
      "text/plain": [
       "array([0. , 0.1, 0.2, 0.3, 0.4, 0.5, 0.6, 0.7, 0.8, 0.9, 1. , 1.1, 1.2,\n",
       "       1.3, 1.4, 1.5, 1.6, 1.7, 1.8, 1.9, 2. , 2.1, 2.2, 2.3, 2.4, 2.5,\n",
       "       2.6, 2.7, 2.8, 2.9, 3. , 3.1, 3.2, 3.3, 3.4, 3.5, 3.6, 3.7, 3.8,\n",
       "       3.9, 4. , 4.1, 4.2, 4.3, 4.4, 4.5, 4.6, 4.7, 4.8, 4.9, 5. , 5.1,\n",
       "       5.2, 5.3, 5.4, 5.5, 5.6, 5.7, 5.8, 5.9, 6. , 6.1, 6.2, 6.3, 6.4,\n",
       "       6.5, 6.6, 6.7, 6.8, 6.9, 7. , 7.1, 7.2, 7.3, 7.4, 7.5, 7.6, 7.7,\n",
       "       7.8, 7.9, 8. , 8.1, 8.2, 8.3, 8.4, 8.5, 8.6, 8.7, 8.8, 8.9, 9. ,\n",
       "       9.1, 9.2, 9.3, 9.4, 9.5, 9.6, 9.7, 9.8, 9.9])"
      ]
     },
     "execution_count": 132,
     "metadata": {},
     "output_type": "execute_result"
    }
   ],
   "source": [
    "np.arange(0,10,0.1)"
   ]
  },
  {
   "cell_type": "code",
   "execution_count": 131,
   "id": "bad0683d-7ba1-4664-8270-1c683676be80",
   "metadata": {},
   "outputs": [
    {
     "data": {
      "text/plain": [
       "array([1.        , 1.44444444, 1.88888889, 2.33333333, 2.77777778,\n",
       "       3.22222222, 3.66666667, 4.11111111, 4.55555556, 5.        ])"
      ]
     },
     "execution_count": 131,
     "metadata": {},
     "output_type": "execute_result"
    }
   ],
   "source": [
    "np.linspace(1,5,10)#Return evenly spaced numbers over a specified interval.give"
   ]
  },
  {
   "cell_type": "code",
   "execution_count": 11,
   "id": "b0f3b80e-deab-4efb-bac8-892d38d6e443",
   "metadata": {},
   "outputs": [],
   "source": [
    "q=np.zeros(5,int)#Return a new array of given shape and type, filled with zeros."
   ]
  },
  {
   "cell_type": "code",
   "execution_count": 12,
   "id": "9307b348-81cb-4cd4-a1b0-ccb6f1009118",
   "metadata": {},
   "outputs": [
    {
     "data": {
      "text/plain": [
       "1"
      ]
     },
     "execution_count": 12,
     "metadata": {},
     "output_type": "execute_result"
    }
   ],
   "source": [
    "q.ndim"
   ]
  },
  {
   "cell_type": "code",
   "execution_count": 13,
   "id": "402af2c2-a748-4fef-a9b6-236d348f76c8",
   "metadata": {},
   "outputs": [
    {
     "data": {
      "text/plain": [
       "array([0, 0, 0, 0, 0])"
      ]
     },
     "execution_count": 13,
     "metadata": {},
     "output_type": "execute_result"
    }
   ],
   "source": [
    "q"
   ]
  },
  {
   "cell_type": "code",
   "execution_count": 23,
   "id": "45e5142e-8730-4e2a-9dd3-4251b8dbf689",
   "metadata": {},
   "outputs": [],
   "source": [
    "e=np.zeros((3,4,))"
   ]
  },
  {
   "cell_type": "code",
   "execution_count": 24,
   "id": "abcc1834-3a50-46ca-b6bf-fb9e5ceb3540",
   "metadata": {},
   "outputs": [
    {
     "data": {
      "text/plain": [
       "array([[0., 0., 0., 0.],\n",
       "       [0., 0., 0., 0.],\n",
       "       [0., 0., 0., 0.]])"
      ]
     },
     "execution_count": 24,
     "metadata": {},
     "output_type": "execute_result"
    }
   ],
   "source": [
    "e"
   ]
  },
  {
   "cell_type": "code",
   "execution_count": 25,
   "id": "b48c8bb9-1a54-4497-b761-4071467b4100",
   "metadata": {},
   "outputs": [
    {
     "data": {
      "text/plain": [
       "2"
      ]
     },
     "execution_count": 25,
     "metadata": {},
     "output_type": "execute_result"
    }
   ],
   "source": [
    "e.ndim"
   ]
  },
  {
   "cell_type": "code",
   "execution_count": 36,
   "id": "d0d988b0-8901-4791-bd43-8cef3e5a8432",
   "metadata": {},
   "outputs": [],
   "source": [
    "j=np.ones(((4,3)))"
   ]
  },
  {
   "cell_type": "code",
   "execution_count": 37,
   "id": "a1b37dc0-d78f-431f-b861-c56c8c31a1e4",
   "metadata": {},
   "outputs": [
    {
     "data": {
      "text/plain": [
       "array([[1., 1., 1.],\n",
       "       [1., 1., 1.],\n",
       "       [1., 1., 1.],\n",
       "       [1., 1., 1.]])"
      ]
     },
     "execution_count": 37,
     "metadata": {},
     "output_type": "execute_result"
    }
   ],
   "source": [
    "j"
   ]
  },
  {
   "cell_type": "code",
   "execution_count": 38,
   "id": "cff14fc3-f8c4-4a15-b767-16f18e689c4b",
   "metadata": {},
   "outputs": [
    {
     "data": {
      "text/plain": [
       "2"
      ]
     },
     "execution_count": 38,
     "metadata": {},
     "output_type": "execute_result"
    }
   ],
   "source": [
    "j.ndim"
   ]
  },
  {
   "cell_type": "code",
   "execution_count": 39,
   "id": "ca09a0c9-a003-4771-bad1-cf5c5975e85b",
   "metadata": {},
   "outputs": [],
   "source": [
    "r=[[[[0,2,3],[4,5,6],[7,8,9]]]]"
   ]
  },
  {
   "cell_type": "code",
   "execution_count": 41,
   "id": "afed8ded-3f3f-48ee-97ab-89f0eaa998c1",
   "metadata": {},
   "outputs": [],
   "source": [
    "q=np.array(r)"
   ]
  },
  {
   "cell_type": "code",
   "execution_count": 42,
   "id": "b65cee9e-3da1-48da-b5fd-a4d24da9d45d",
   "metadata": {},
   "outputs": [
    {
     "data": {
      "text/plain": [
       "array([[[[0, 2, 3],\n",
       "         [4, 5, 6],\n",
       "         [7, 8, 9]]]])"
      ]
     },
     "execution_count": 42,
     "metadata": {},
     "output_type": "execute_result"
    }
   ],
   "source": [
    "q"
   ]
  },
  {
   "cell_type": "code",
   "execution_count": 43,
   "id": "f0b218b9-7241-447c-b974-23ae31513cb7",
   "metadata": {},
   "outputs": [
    {
     "data": {
      "text/plain": [
       "4"
      ]
     },
     "execution_count": 43,
     "metadata": {},
     "output_type": "execute_result"
    }
   ],
   "source": [
    "q.ndim"
   ]
  },
  {
   "cell_type": "code",
   "execution_count": 60,
   "id": "04f00fe6-47c5-4a14-971c-046482cdc022",
   "metadata": {},
   "outputs": [],
   "source": [
    "e=np.zeros((3,4))"
   ]
  },
  {
   "cell_type": "code",
   "execution_count": 61,
   "id": "0ab0c353-fe8e-45b7-980b-773df3db348a",
   "metadata": {},
   "outputs": [
    {
     "data": {
      "text/plain": [
       "array([[0., 0., 0., 0.],\n",
       "       [0., 0., 0., 0.],\n",
       "       [0., 0., 0., 0.]])"
      ]
     },
     "execution_count": 61,
     "metadata": {},
     "output_type": "execute_result"
    }
   ],
   "source": [
    "e"
   ]
  },
  {
   "cell_type": "markdown",
   "id": "c235daf1-8f1c-4638-9837-b2ebf31ea043",
   "metadata": {},
   "source": [
    "3 D 3 dimension array"
   ]
  },
  {
   "cell_type": "code",
   "execution_count": 66,
   "id": "45f3597d-6764-47be-ac31-8b9a0c6a9241",
   "metadata": {},
   "outputs": [],
   "source": [
    "r=np.zeros((1,2,3))"
   ]
  },
  {
   "cell_type": "code",
   "execution_count": 67,
   "id": "2b8be79a-fd31-4108-bfe2-878f9c903e65",
   "metadata": {},
   "outputs": [
    {
     "data": {
      "text/plain": [
       "3"
      ]
     },
     "execution_count": 67,
     "metadata": {},
     "output_type": "execute_result"
    }
   ],
   "source": [
    "r.ndim"
   ]
  },
  {
   "cell_type": "code",
   "execution_count": 68,
   "id": "09b76f5b-3aba-487f-bb82-7b659f1cdf0d",
   "metadata": {},
   "outputs": [
    {
     "data": {
      "text/plain": [
       "array([[[0., 0., 0.],\n",
       "        [0., 0., 0.]]])"
      ]
     },
     "execution_count": 68,
     "metadata": {},
     "output_type": "execute_result"
    }
   ],
   "source": [
    "r"
   ]
  },
  {
   "cell_type": "code",
   "execution_count": 70,
   "id": "321ac582-4981-4845-b1b4-158ed5f51096",
   "metadata": {},
   "outputs": [],
   "source": [
    "q=np.ones((3,2,3))"
   ]
  },
  {
   "cell_type": "code",
   "execution_count": 71,
   "id": "e97e4835-66f5-4e59-9c06-d600a0284e91",
   "metadata": {},
   "outputs": [
    {
     "data": {
      "text/plain": [
       "array([[[1., 1., 1.],\n",
       "        [1., 1., 1.]],\n",
       "\n",
       "       [[1., 1., 1.],\n",
       "        [1., 1., 1.]],\n",
       "\n",
       "       [[1., 1., 1.],\n",
       "        [1., 1., 1.]]])"
      ]
     },
     "execution_count": 71,
     "metadata": {},
     "output_type": "execute_result"
    }
   ],
   "source": [
    "q"
   ]
  },
  {
   "cell_type": "code",
   "execution_count": 72,
   "id": "951d9a3d-031a-4073-b9fe-69f8953d2bfb",
   "metadata": {},
   "outputs": [
    {
     "data": {
      "text/plain": [
       "3"
      ]
     },
     "execution_count": 72,
     "metadata": {},
     "output_type": "execute_result"
    }
   ],
   "source": [
    "q.ndim"
   ]
  },
  {
   "cell_type": "code",
   "execution_count": 79,
   "id": "177bc8e9-9c18-4761-a35d-1e6935658d9c",
   "metadata": {},
   "outputs": [],
   "source": [
    "e=np.ones((1,1,1,2,3))"
   ]
  },
  {
   "cell_type": "code",
   "execution_count": 80,
   "id": "076cfa86-557e-4896-af8e-f41d72f18524",
   "metadata": {},
   "outputs": [
    {
     "data": {
      "text/plain": [
       "array([[[[[1., 1., 1.],\n",
       "          [1., 1., 1.]]]]])"
      ]
     },
     "execution_count": 80,
     "metadata": {},
     "output_type": "execute_result"
    }
   ],
   "source": [
    "e"
   ]
  },
  {
   "cell_type": "code",
   "execution_count": 81,
   "id": "210d5df3-da54-485e-9175-c1679d5d9150",
   "metadata": {},
   "outputs": [
    {
     "data": {
      "text/plain": [
       "5"
      ]
     },
     "execution_count": 81,
     "metadata": {},
     "output_type": "execute_result"
    }
   ],
   "source": [
    "e.ndim"
   ]
  },
  {
   "cell_type": "code",
   "execution_count": 82,
   "id": "3097ec4e-4b0b-439e-9cc0-727bfbf60f4a",
   "metadata": {},
   "outputs": [],
   "source": [
    "qw=np.ones((3,4))"
   ]
  },
  {
   "cell_type": "code",
   "execution_count": 83,
   "id": "f0f927cd-df7a-40e6-a4a6-cc2fe2d0f5d4",
   "metadata": {},
   "outputs": [
    {
     "data": {
      "text/plain": [
       "array([[1., 1., 1., 1.],\n",
       "       [1., 1., 1., 1.],\n",
       "       [1., 1., 1., 1.]])"
      ]
     },
     "execution_count": 83,
     "metadata": {},
     "output_type": "execute_result"
    }
   ],
   "source": [
    "qw"
   ]
  },
  {
   "cell_type": "code",
   "execution_count": 84,
   "id": "fec29345-94bf-4a82-bfb6-f39b9c336d87",
   "metadata": {},
   "outputs": [
    {
     "data": {
      "text/plain": [
       "2"
      ]
     },
     "execution_count": 84,
     "metadata": {},
     "output_type": "execute_result"
    }
   ],
   "source": [
    "qw.ndim"
   ]
  },
  {
   "cell_type": "code",
   "execution_count": 88,
   "id": "fc1bbf9b-3cc0-453c-bd0e-dabc40cb8e56",
   "metadata": {},
   "outputs": [],
   "source": [
    "a=qw+7"
   ]
  },
  {
   "cell_type": "code",
   "execution_count": 90,
   "id": "548fa351-bd35-48dd-bf85-2d8b945e7641",
   "metadata": {},
   "outputs": [],
   "source": [
    "b=a*2"
   ]
  },
  {
   "cell_type": "code",
   "execution_count": 91,
   "id": "806cf912-d2b9-4cc8-b45d-ef4da604e7f4",
   "metadata": {},
   "outputs": [
    {
     "data": {
      "text/plain": [
       "array([[16., 16., 16., 16.],\n",
       "       [16., 16., 16., 16.],\n",
       "       [16., 16., 16., 16.]])"
      ]
     },
     "execution_count": 91,
     "metadata": {},
     "output_type": "execute_result"
    }
   ],
   "source": [
    "b"
   ]
  },
  {
   "cell_type": "code",
   "execution_count": 92,
   "id": "5a722b46-d273-4962-b97b-2554806fc69d",
   "metadata": {},
   "outputs": [
    {
     "data": {
      "text/plain": [
       "array([[8., 8., 8., 8.],\n",
       "       [8., 8., 8., 8.],\n",
       "       [8., 8., 8., 8.]])"
      ]
     },
     "execution_count": 92,
     "metadata": {},
     "output_type": "execute_result"
    }
   ],
   "source": [
    "a"
   ]
  },
  {
   "cell_type": "code",
   "execution_count": 93,
   "id": "a0cc7410-67d3-4fcc-b5cc-2d06b1493fcb",
   "metadata": {},
   "outputs": [
    {
     "data": {
      "text/plain": [
       "array([[15., 15., 15., 15.],\n",
       "       [15., 15., 15., 15.],\n",
       "       [15., 15., 15., 15.]])"
      ]
     },
     "execution_count": 93,
     "metadata": {},
     "output_type": "execute_result"
    }
   ],
   "source": [
    "b -1"
   ]
  },
  {
   "cell_type": "code",
   "execution_count": 94,
   "id": "0c2deeaa-608c-4ba3-875a-3975c14da4a9",
   "metadata": {},
   "outputs": [
    {
     "data": {
      "text/plain": [
       "array([[1., 0., 0.],\n",
       "       [0., 1., 0.],\n",
       "       [0., 0., 1.]])"
      ]
     },
     "execution_count": 94,
     "metadata": {},
     "output_type": "execute_result"
    }
   ],
   "source": [
    "np.eye(3)#Return a 2-D array with ones on the diagonal and zeros elsewhere."
   ]
  },
  {
   "cell_type": "code",
   "execution_count": 97,
   "id": "7f6a0fbb-4a8d-4392-9306-1483ca3a501e",
   "metadata": {},
   "outputs": [],
   "source": [
    "e=np.eye(3,dtype=int)"
   ]
  },
  {
   "cell_type": "code",
   "execution_count": 98,
   "id": "0f6aafc8-3848-4411-ac68-12383ab9b315",
   "metadata": {},
   "outputs": [
    {
     "data": {
      "text/plain": [
       "array([[1, 0, 0],\n",
       "       [0, 1, 0],\n",
       "       [0, 0, 1]])"
      ]
     },
     "execution_count": 98,
     "metadata": {},
     "output_type": "execute_result"
    }
   ],
   "source": [
    "e"
   ]
  },
  {
   "cell_type": "code",
   "execution_count": 99,
   "id": "b1b7adf9-9f97-4d91-a217-a96f183c09b4",
   "metadata": {},
   "outputs": [
    {
     "data": {
      "text/plain": [
       "2"
      ]
     },
     "execution_count": 99,
     "metadata": {},
     "output_type": "execute_result"
    }
   ],
   "source": [
    "e.ndim"
   ]
  },
  {
   "cell_type": "code",
   "execution_count": 104,
   "id": "8cbfbd4a-8c93-4d2c-a7ce-9d982d5bf312",
   "metadata": {},
   "outputs": [
    {
     "data": {
      "text/plain": [
       "array([[15., 15., 15., 15.],\n",
       "       [15., 15., 15., 15.],\n",
       "       [15., 15., 15., 15.]])"
      ]
     },
     "execution_count": 104,
     "metadata": {},
     "output_type": "execute_result"
    }
   ],
   "source": [
    "np.empty((3,4))#Return a new array of given shape and type, without initializing entries.its means it give in array any number in entry"
   ]
  },
  {
   "cell_type": "code",
   "execution_count": 106,
   "id": "3e3f323d-c45c-48c6-9b09-9a9769d4d20b",
   "metadata": {},
   "outputs": [],
   "source": [
    "#random module\n",
    "import random"
   ]
  },
  {
   "cell_type": "code",
   "execution_count": 107,
   "id": "8a546251-bec6-4cd9-b8b9-c4981b7275b5",
   "metadata": {},
   "outputs": [
    {
     "data": {
      "text/plain": [
       "[1]"
      ]
     },
     "execution_count": 107,
     "metadata": {},
     "output_type": "execute_result"
    }
   ],
   "source": [
    "random.choices((1,2,3,45,5,6))"
   ]
  },
  {
   "cell_type": "code",
   "execution_count": 109,
   "id": "96ad0f00-eb58-472a-800c-03387b7710dc",
   "metadata": {},
   "outputs": [
    {
     "data": {
      "text/plain": [
       "['j']"
      ]
     },
     "execution_count": 109,
     "metadata": {},
     "output_type": "execute_result"
    }
   ],
   "source": [
    "random.choices(\"ajaaY\")"
   ]
  },
  {
   "cell_type": "code",
   "execution_count": 111,
   "id": "4a22ea21-7513-4c2d-9a9b-e2dfa4f65adb",
   "metadata": {},
   "outputs": [
    {
     "data": {
      "text/plain": [
       "4"
      ]
     },
     "execution_count": 111,
     "metadata": {},
     "output_type": "execute_result"
    }
   ],
   "source": [
    "random.randrange(1,10)"
   ]
  },
  {
   "cell_type": "code",
   "execution_count": 114,
   "id": "2bac8952-e8e8-4117-8e49-2fee330ca9de",
   "metadata": {},
   "outputs": [
    {
     "data": {
      "text/plain": [
       "0.32765372791506986"
      ]
     },
     "execution_count": 114,
     "metadata": {},
     "output_type": "execute_result"
    }
   ],
   "source": [
    "random.random()"
   ]
  },
  {
   "cell_type": "code",
   "execution_count": 120,
   "id": "8f8b8b19-d9de-4396-815a-1a5f16566b3a",
   "metadata": {},
   "outputs": [],
   "source": [
    "l=[1,2,3,4,5,6]\n",
    "random.shuffle(l)"
   ]
  },
  {
   "cell_type": "code",
   "execution_count": 121,
   "id": "7b80d6b5-2796-4f95-99ae-2d5317f2609d",
   "metadata": {},
   "outputs": [
    {
     "data": {
      "text/plain": [
       "[2, 6, 4, 3, 5, 1]"
      ]
     },
     "execution_count": 121,
     "metadata": {},
     "output_type": "execute_result"
    }
   ],
   "source": [
    "l"
   ]
  },
  {
   "cell_type": "code",
   "execution_count": 125,
   "id": "1225f6bf-be23-4fe1-94f8-ba1b374d88e4",
   "metadata": {},
   "outputs": [
    {
     "data": {
      "text/plain": [
       "12.600475097826662"
      ]
     },
     "execution_count": 125,
     "metadata": {},
     "output_type": "execute_result"
    }
   ],
   "source": [
    "random.uniform(6,14)#Get a random number in the range [a, b) or [a, b] depending on rounding"
   ]
  },
  {
   "cell_type": "code",
   "execution_count": 126,
   "id": "5ef8665c-90ad-4f3c-ba56-560baf856c01",
   "metadata": {},
   "outputs": [],
   "source": [
    "#random number related concept in  numpy"
   ]
  },
  {
   "cell_type": "code",
   "execution_count": 129,
   "id": "beb4b590-08a9-43d7-872d-60b68744e9c1",
   "metadata": {},
   "outputs": [
    {
     "data": {
      "text/plain": [
       "0.9536583539181515"
      ]
     },
     "execution_count": 129,
     "metadata": {},
     "output_type": "execute_result"
    }
   ],
   "source": [
    "np.random.random_sample()"
   ]
  },
  {
   "cell_type": "code",
   "execution_count": 131,
   "id": "b7f7aa94-6a14-44ec-aafb-24acad28cf54",
   "metadata": {},
   "outputs": [],
   "source": [
    "q=np.random.random_sample((5))"
   ]
  },
  {
   "cell_type": "code",
   "execution_count": 132,
   "id": "028a4d10-9f0b-463d-ae89-a9b0a4d447a9",
   "metadata": {},
   "outputs": [
    {
     "data": {
      "text/plain": [
       "1"
      ]
     },
     "execution_count": 132,
     "metadata": {},
     "output_type": "execute_result"
    }
   ],
   "source": [
    "q.ndim"
   ]
  },
  {
   "cell_type": "code",
   "execution_count": 133,
   "id": "51df31a5-5545-4c19-baf5-fb6404c2102b",
   "metadata": {},
   "outputs": [
    {
     "data": {
      "text/plain": [
       "array([0.25947444, 0.97758117, 0.92659455, 0.5356723 , 0.86033856])"
      ]
     },
     "execution_count": 133,
     "metadata": {},
     "output_type": "execute_result"
    }
   ],
   "source": [
    "q"
   ]
  },
  {
   "cell_type": "code",
   "execution_count": 137,
   "id": "dd762f76-d33b-4bda-a97e-a3983adae8b2",
   "metadata": {},
   "outputs": [],
   "source": [
    "q=np.random.rand(2)"
   ]
  },
  {
   "cell_type": "code",
   "execution_count": 140,
   "id": "4866cb9d-61ff-459b-9a79-48020cd65ea2",
   "metadata": {},
   "outputs": [
    {
     "data": {
      "text/plain": [
       "1"
      ]
     },
     "execution_count": 140,
     "metadata": {},
     "output_type": "execute_result"
    }
   ],
   "source": [
    "q.ndim"
   ]
  },
  {
   "cell_type": "code",
   "execution_count": 141,
   "id": "5eae303c-75f1-4a51-9109-f89718ef803e",
   "metadata": {},
   "outputs": [
    {
     "data": {
      "text/plain": [
       "array([0.15151491, 0.41523961])"
      ]
     },
     "execution_count": 141,
     "metadata": {},
     "output_type": "execute_result"
    }
   ],
   "source": [
    "q"
   ]
  },
  {
   "cell_type": "code",
   "execution_count": 145,
   "id": "b41e03cb-bcf8-4d5c-beaf-cfa45cf3ca67",
   "metadata": {},
   "outputs": [],
   "source": [
    "q=np.random.rand(2,3)"
   ]
  },
  {
   "cell_type": "code",
   "execution_count": 146,
   "id": "5912822a-24e2-43fb-a924-85153f894252",
   "metadata": {},
   "outputs": [
    {
     "data": {
      "text/plain": [
       "array([[0.84039901, 0.10191138, 0.81946569],\n",
       "       [0.98007511, 0.01731156, 0.45295096]])"
      ]
     },
     "execution_count": 146,
     "metadata": {},
     "output_type": "execute_result"
    }
   ],
   "source": [
    "q"
   ]
  },
  {
   "cell_type": "code",
   "execution_count": 147,
   "id": "b250df14-417f-492e-86c5-a53bcd4dfa7b",
   "metadata": {},
   "outputs": [
    {
     "data": {
      "text/plain": [
       "2"
      ]
     },
     "execution_count": 147,
     "metadata": {},
     "output_type": "execute_result"
    }
   ],
   "source": [
    "q.ndim"
   ]
  },
  {
   "cell_type": "code",
   "execution_count": 148,
   "id": "a4a5bfc4-0cb8-44aa-8769-57e90b80eee4",
   "metadata": {},
   "outputs": [
    {
     "data": {
      "text/plain": [
       "array([[-0.37392412,  0.31453149, -1.10010456],\n",
       "       [-0.27580617,  0.12396564,  0.85479583]])"
      ]
     },
     "execution_count": 148,
     "metadata": {},
     "output_type": "execute_result"
    }
   ],
   "source": [
    "np.random.randn(2,3)#Return a sample (or samples) from the \"standard normal\" distribution."
   ]
  },
  {
   "cell_type": "code",
   "execution_count": 151,
   "id": "26eafa06-ac0c-49d7-b636-e2eb83a6663b",
   "metadata": {},
   "outputs": [
    {
     "data": {
      "text/plain": [
       "array([[1, 3, 4, 1],\n",
       "       [4, 3, 1, 3],\n",
       "       [3, 4, 3, 4]])"
      ]
     },
     "execution_count": 151,
     "metadata": {},
     "output_type": "execute_result"
    }
   ],
   "source": [
    "np.random.randint(1,5,size=(3,4))#Return random integers from `low` (inclusive) to `high` (exclusive)"
   ]
  },
  {
   "cell_type": "code",
   "execution_count": 152,
   "id": "6c3cb3d3-9bfe-4d30-b441-f9f906b98762",
   "metadata": {},
   "outputs": [],
   "source": [
    "arr=np.random.randint(1,5,size=(3,4))"
   ]
  },
  {
   "cell_type": "markdown",
   "id": "6c7aab02-ab2d-492c-a96d-fe32ba286603",
   "metadata": {},
   "source": [
    "reshaping of array using reshape command\n",
    "\n",
    "→When reshaping an array in NumPy, the number of elements and order of elements in the array must remain the same. Here are some other conditions that apply to reshaping an array: \n",
    " \n",
    "Shape\n",
    "The shape of an array is the number of elements in each dimension. \n",
    "\n",
    "***size:-if array size 12 than you can convert in to [4 * 3], [6 * 2], [12 * 1] that you can reshape no other dimension like 3*3 beacuse its resultant give 9 not 12***\n",
    " \n",
    "Dimensions\n",
    "You can add or remove dimensions, or change the number of elements in each dimension. \n",
    " \n",
    "Compatibility\n",
    "The new shape must be compatible with the original shape. For example, you can reshape an 8-element 1D array into a 4-element 2D array, but not into a 3-element 3-rows 2D array. \n",
    " \n",
    "Data\n",
    "The reshape function returns a new array with the same data but a different shape. \n",
    " \n",
    "The reshape() function is useful when working with different dimensions of data, like transforming a 1D array into a 2D array or reshaping a 3D array into a 2D array. \n",
    " \n"
   ]
  },
  {
   "cell_type": "code",
   "execution_count": 158,
   "id": "ddf99020-e1cd-484f-a4b1-d4ecdb026e1f",
   "metadata": {},
   "outputs": [
    {
     "data": {
      "text/plain": [
       "array([[3, 4, 2, 4, 1, 2],\n",
       "       [2, 3, 1, 1, 1, 1]])"
      ]
     },
     "execution_count": 158,
     "metadata": {},
     "output_type": "execute_result"
    }
   ],
   "source": [
    "np.reshape(arr,(2,6))"
   ]
  },
  {
   "cell_type": "markdown",
   "id": "f236f10a-8429-49f9-861d-aa6f9898f960",
   "metadata": {},
   "source": [
    "Gives a new shape to an array without changing its data.\n",
    "\n",
    "Parameters\n",
    "----------\n",
    "a : array_like\n",
    "    Array to be reshaped.\n",
    "    \n",
    "    \n",
    "newshape : int or tuple of ints\n",
    "    The new shape should be compatible with the original shape. If\n",
    "    an integer, then the result will be a 1-D array of that length.\n",
    "    One shape dimension can be -1. In this case, the value is\n",
    "    inferred from the length of the array and remaining dimensions.\n",
    "    \n",
    "order : {'C', 'F', 'A'}, optional\n",
    "    Read the elements of `a` using this index order, and place the\n",
    "    elements into the reshaped array using this index order.  'C'\n",
    "    means to read / write the elements using C-like index order,\n",
    "    with the last axis index changing fastest, back to the first\n",
    "    axis index changing slowest. 'F' means to read / write the\n",
    "    elements using Fortran-like index order, with the first index\n",
    "    changing fastest, and the last index changing slowest. Note that\n",
    "    the 'C' and 'F' options take no account of the memory layout of\n",
    "    the underlying array, and only refer to the order of indexing.\n",
    "    'A' means to read / write the elements in Fortran-like index\n",
    "    order if `a` is Fortran *contiguous* in memory, C-like order\n",
    "    otherwise.\n",
    "\n",
    "Returns\n",
    "-------\n",
    "reshaped_array : ndarray\n",
    "    This will be a new view object if possible; otherwise, it will\n",
    "    be a copy.  Note there is no guarantee of the *memory layout* (C- or\n",
    "    Fortran- contiguous) of the returned array.\n",
    "\n",
    "See Also\n",
    "--------\n",
    "ndarray.reshape : Equivalent method.\n",
    "\n",
    "Notes\n",
    "-----\n",
    "It is not always possible to change the shape of an array without\n",
    "copying the data. If you want an error to be raised when the data is copied,\n",
    "you should assign the new shape to the shape attribute of the array::\n",
    "\n",
    " >>> a = np.zeros((10, 2))\n",
    "\n",
    " # A transpose makes the array non-contiguous\n",
    " >>> b = a.T\n",
    "\n",
    " # Taking a view makes it possible to modify the shape without modifying\n",
    " # the initial object.\n",
    " >>> c = b.view()\n",
    " >>> c.shape = (20)\n",
    " Traceback (most recent call last):\n",
    "    ...\n",
    " AttributeError: Incompatible shape for in-place modification. Use\n",
    " `.reshape()` to make a copy with the desired shape.\n",
    "\n",
    "The `order` keyword gives the index ordering both for *fetching* the values\n",
    "from `a`, and then *placing* the values into the output array.\n",
    "For example, let's say you have an array:\n",
    "\n",
    ">>> a = np.arange(6).reshape((3, 2))\n",
    ">>> a\n",
    "array([[0, 1],\n",
    "       [2, 3],\n",
    "       [4, 5]])\n",
    "\n",
    "You can think of reshaping as first raveling the array (using the given\n",
    "index order), then inserting the elements from the raveled array into the\n",
    "new array using the same kind of index ordering as was used for the\n",
    "raveling.\n",
    "\n",
    ">>> np.reshape(a, (2, 3)) # C-like index ordering\n",
    "array([[0, 1, 2],\n",
    "       [3, 4, 5]])\n",
    ">>> np.reshape(np.ravel(a), (2, 3)) # equivalent to C ravel then C reshape\n",
    "array([[0, 1, 2],\n",
    "       [3, 4, 5]])\n",
    ">>> np.reshape(a, (2, 3), order='F') # Fortran-like index ordering\n",
    "array([[0, 4, 3],\n",
    "       [2, 1, 5]])\n",
    ">>> np.reshape(np.ravel(a, order='F'), (2, 3), order='F')\n",
    "array([[0, 4, 3],\n",
    "       [2, 1, 5]])\n",
    "\n",
    "Examples\n",
    "--------\n",
    ">>> a = np.array([[1,2,3], [4,5,6]])\n",
    ">>> np.reshape(a, 6)\n",
    "array([1, 2, 3, 4, 5, 6])\n",
    ">>> np.reshape(a, 6, order='F')\n",
    "array([1, 4, 2, 5, 3, 6])\n",
    "\n",
    ">>> np.reshape(a, (3,-1))       # the unspecified value is inferred to be 2\n",
    "array([[1, 2],\n",
    "       [3, 4],\n",
    "       [5, 6]])"
   ]
  },
  {
   "cell_type": "code",
   "execution_count": 166,
   "id": "b6a2a7be-b167-4df2-88b5-f7ed98f089d6",
   "metadata": {},
   "outputs": [],
   "source": [
    "aq=np.reshape(arr,(4,3))#array size will naver change"
   ]
  },
  {
   "cell_type": "code",
   "execution_count": 167,
   "id": "3b09eaf3-608e-46c8-a23c-7cb0db5c5ec1",
   "metadata": {},
   "outputs": [
    {
     "data": {
      "text/plain": [
       "array([[3, 4, 2],\n",
       "       [4, 1, 2],\n",
       "       [2, 3, 1],\n",
       "       [1, 1, 1]])"
      ]
     },
     "execution_count": 167,
     "metadata": {},
     "output_type": "execute_result"
    }
   ],
   "source": [
    "aq"
   ]
  },
  {
   "cell_type": "code",
   "execution_count": 168,
   "id": "99afb46f-0bd3-42ad-bdea-1958c89894b4",
   "metadata": {},
   "outputs": [
    {
     "data": {
      "text/plain": [
       "(4, 3)"
      ]
     },
     "execution_count": 168,
     "metadata": {},
     "output_type": "execute_result"
    }
   ],
   "source": [
    "aq.shape"
   ]
  },
  {
   "cell_type": "code",
   "execution_count": 169,
   "id": "0e0c5c9e-bb27-4d8e-985c-5c1f4f2333af",
   "metadata": {},
   "outputs": [
    {
     "data": {
      "text/plain": [
       "12"
      ]
     },
     "execution_count": 169,
     "metadata": {},
     "output_type": "execute_result"
    }
   ],
   "source": [
    "aq.size"
   ]
  },
  {
   "cell_type": "code",
   "execution_count": 172,
   "id": "d77e0811-4546-4820-938e-21f53df57917",
   "metadata": {},
   "outputs": [
    {
     "data": {
      "text/plain": [
       "array([[3, 4, 2],\n",
       "       [4, 1, 2],\n",
       "       [2, 3, 1],\n",
       "       [1, 1, 1]])"
      ]
     },
     "execution_count": 172,
     "metadata": {},
     "output_type": "execute_result"
    }
   ],
   "source": [
    "#case when you dont know reshape of row or colomjust use -(minus)(any number)[-1] for count use row or colom\n",
    "aq.reshape(4,-1)"
   ]
  },
  {
   "cell_type": "code",
   "execution_count": 173,
   "id": "d5bc6b33-b9ce-4ba6-ada9-dab7acc7e6d8",
   "metadata": {},
   "outputs": [
    {
     "data": {
      "text/plain": [
       "(4, 3)"
      ]
     },
     "execution_count": 173,
     "metadata": {},
     "output_type": "execute_result"
    }
   ],
   "source": [
    "aq.shape"
   ]
  },
  {
   "cell_type": "code",
   "execution_count": 180,
   "id": "cd001477-5380-45f6-9028-2ebfba056fe8",
   "metadata": {},
   "outputs": [
    {
     "data": {
      "text/plain": [
       "array([[3, 4, 2, 4],\n",
       "       [1, 2, 2, 3],\n",
       "       [1, 1, 1, 1]])"
      ]
     },
     "execution_count": 180,
     "metadata": {},
     "output_type": "execute_result"
    }
   ],
   "source": [
    "aq.reshape(-1,4)"
   ]
  },
  {
   "cell_type": "code",
   "execution_count": 182,
   "id": "1a395621-af4c-4054-b4f6-5e13c25c69ab",
   "metadata": {},
   "outputs": [
    {
     "data": {
      "text/plain": [
       "(4, 3)"
      ]
     },
     "execution_count": 182,
     "metadata": {},
     "output_type": "execute_result"
    }
   ],
   "source": [
    "aq.shape"
   ]
  },
  {
   "cell_type": "code",
   "execution_count": 187,
   "id": "003df45f-021d-4ded-88f9-f8ab00bc257e",
   "metadata": {},
   "outputs": [
    {
     "data": {
      "text/plain": [
       "array([[3, 4, 2, 4],\n",
       "       [1, 2, 2, 3],\n",
       "       [1, 1, 1, 1]])"
      ]
     },
     "execution_count": 187,
     "metadata": {},
     "output_type": "execute_result"
    }
   ],
   "source": [
    "aq.reshape(-1,4).base#to see original array"
   ]
  },
  {
   "cell_type": "code",
   "execution_count": 193,
   "id": "d04296b9-b2e8-411f-bf15-a62da71568fa",
   "metadata": {},
   "outputs": [],
   "source": [
    "qw=aq.reshape(1,6,2)#multiplecation should be array size"
   ]
  },
  {
   "cell_type": "code",
   "execution_count": 192,
   "id": "972f87d0-a4d2-4418-a3b2-e4d71ccca848",
   "metadata": {},
   "outputs": [
    {
     "data": {
      "text/plain": [
       "2"
      ]
     },
     "execution_count": 192,
     "metadata": {},
     "output_type": "execute_result"
    }
   ],
   "source": [
    "aq.ndim"
   ]
  },
  {
   "cell_type": "code",
   "execution_count": 194,
   "id": "2ba7c4c4-080d-4acf-8340-9e1571325da7",
   "metadata": {},
   "outputs": [
    {
     "data": {
      "text/plain": [
       "3"
      ]
     },
     "execution_count": 194,
     "metadata": {},
     "output_type": "execute_result"
    }
   ],
   "source": [
    "qw.ndim"
   ]
  },
  {
   "cell_type": "markdown",
   "id": "a19f9d52-b0ce-402d-a10f-311837a52981",
   "metadata": {},
   "source": [
    "condition on numpy"
   ]
  },
  {
   "cell_type": "code",
   "execution_count": 196,
   "id": "a9b4c7d3-4b85-4dac-a597-02534b23fcf4",
   "metadata": {},
   "outputs": [],
   "source": [
    "qe=np.random.randint(1,10,(5,6))"
   ]
  },
  {
   "cell_type": "code",
   "execution_count": 197,
   "id": "60f4c158-9e4d-4d0f-bf43-e5a1b560601b",
   "metadata": {},
   "outputs": [
    {
     "data": {
      "text/plain": [
       "array([[9, 1, 6, 4, 3, 6],\n",
       "       [8, 6, 3, 2, 1, 4],\n",
       "       [1, 7, 9, 2, 5, 7],\n",
       "       [1, 9, 7, 3, 9, 3],\n",
       "       [9, 4, 1, 1, 2, 8]])"
      ]
     },
     "execution_count": 197,
     "metadata": {},
     "output_type": "execute_result"
    }
   ],
   "source": [
    "qe"
   ]
  },
  {
   "cell_type": "code",
   "execution_count": 198,
   "id": "53fb7e33-27cc-4dee-913f-3272b88d16fc",
   "metadata": {},
   "outputs": [
    {
     "data": {
      "text/plain": [
       "array([[ True, False,  True, False, False,  True],\n",
       "       [ True,  True, False, False, False, False],\n",
       "       [False,  True,  True, False, False,  True],\n",
       "       [False,  True,  True, False,  True, False],\n",
       "       [ True, False, False, False, False,  True]])"
      ]
     },
     "execution_count": 198,
     "metadata": {},
     "output_type": "execute_result"
    }
   ],
   "source": [
    "qe > 5"
   ]
  },
  {
   "cell_type": "code",
   "execution_count": 200,
   "id": "a2edbbd9-b064-4633-ab75-4888f3a40707",
   "metadata": {},
   "outputs": [
    {
     "data": {
      "text/plain": [
       "array([9, 6, 6, 8, 6, 7, 9, 7, 9, 7, 9, 9, 8])"
      ]
     },
     "execution_count": 200,
     "metadata": {},
     "output_type": "execute_result"
    }
   ],
   "source": [
    "qe[qe > 5]#select all the element of qe while condition is true"
   ]
  },
  {
   "cell_type": "code",
   "execution_count": 202,
   "id": "f4f893b2-54bc-4b54-8940-d93a7ab4f514",
   "metadata": {},
   "outputs": [
    {
     "data": {
      "text/plain": [
       "array([1, 6, 4, 3, 6, 8, 6, 3, 2, 1, 4, 1, 7, 2, 5, 7, 1, 7, 3, 3, 4, 1,\n",
       "       1, 2, 8])"
      ]
     },
     "execution_count": 202,
     "metadata": {},
     "output_type": "execute_result"
    }
   ],
   "source": [
    "qe[qe<9]"
   ]
  },
  {
   "cell_type": "code",
   "execution_count": 203,
   "id": "5ea4163d-8a09-418c-9600-6d15f0bcc833",
   "metadata": {},
   "outputs": [
    {
     "data": {
      "text/plain": [
       "array([[9, 1, 6, 4, 3, 6],\n",
       "       [8, 6, 3, 2, 1, 4],\n",
       "       [1, 7, 9, 2, 5, 7],\n",
       "       [1, 9, 7, 3, 9, 3],\n",
       "       [9, 4, 1, 1, 2, 8]])"
      ]
     },
     "execution_count": 203,
     "metadata": {},
     "output_type": "execute_result"
    }
   ],
   "source": [
    "qe\n"
   ]
  },
  {
   "cell_type": "markdown",
   "id": "6aad0292-f06d-4ff6-8b38-bea1f3826e4f",
   "metadata": {},
   "source": [
    "acess the element "
   ]
  },
  {
   "cell_type": "code",
   "execution_count": 206,
   "id": "02ac7b4d-e838-42ac-bf08-970c4184e686",
   "metadata": {},
   "outputs": [],
   "source": [
    "qe[1,4]=5"
   ]
  },
  {
   "cell_type": "code",
   "execution_count": 208,
   "id": "7e0541cd-9212-43ec-97ba-c4e11868cafd",
   "metadata": {},
   "outputs": [
    {
     "data": {
      "text/plain": [
       "4"
      ]
     },
     "execution_count": 208,
     "metadata": {},
     "output_type": "execute_result"
    }
   ],
   "source": [
    "qe[0][3]"
   ]
  },
  {
   "cell_type": "code",
   "execution_count": 225,
   "id": "5c856e52-6640-44aa-a254-2f74f68dfc5e",
   "metadata": {},
   "outputs": [
    {
     "data": {
      "text/plain": [
       "array([1, 9, 7, 3, 9, 3])"
      ]
     },
     "execution_count": 225,
     "metadata": {},
     "output_type": "execute_result"
    }
   ],
   "source": [
    "qe[3]"
   ]
  },
  {
   "cell_type": "code",
   "execution_count": 210,
   "id": "a0ba709e-91a9-4607-858d-f688ce38f2ec",
   "metadata": {},
   "outputs": [
    {
     "data": {
      "text/plain": [
       "9"
      ]
     },
     "execution_count": 210,
     "metadata": {},
     "output_type": "execute_result"
    }
   ],
   "source": [
    "qe[3][1]"
   ]
  },
  {
   "cell_type": "code",
   "execution_count": 214,
   "id": "9e223444-ca8e-4551-a90f-ffe819fa9713",
   "metadata": {},
   "outputs": [
    {
     "data": {
      "text/plain": [
       "array([[9, 1, 6, 4, 3, 6],\n",
       "       [8, 6, 3, 2, 5, 4],\n",
       "       [1, 7, 9, 2, 5, 7]])"
      ]
     },
     "execution_count": 214,
     "metadata": {},
     "output_type": "execute_result"
    }
   ],
   "source": [
    "#from oth with row 2nd row\n",
    "qe[0:3]"
   ]
  },
  {
   "cell_type": "code",
   "execution_count": 217,
   "id": "777e01f7-24f2-4abe-9d88-653785466c88",
   "metadata": {},
   "outputs": [],
   "source": [
    "#from oth to 2nd row and oth and 2nd coloum"
   ]
  },
  {
   "cell_type": "code",
   "execution_count": 219,
   "id": "307bffd8-96e4-48a2-91cb-89e4f03247e7",
   "metadata": {},
   "outputs": [
    {
     "data": {
      "text/plain": [
       "array([[9, 6],\n",
       "       [8, 3],\n",
       "       [1, 9]])"
      ]
     },
     "execution_count": 219,
     "metadata": {},
     "output_type": "execute_result"
    }
   ],
   "source": [
    "qe[0:3,(0,2)]"
   ]
  },
  {
   "cell_type": "code",
   "execution_count": 216,
   "id": "c74ac055-fe15-4923-be98-3085da86843d",
   "metadata": {},
   "outputs": [
    {
     "data": {
      "text/plain": [
       "array([[9, 1, 6, 4, 3, 6],\n",
       "       [8, 6, 3, 2, 5, 4],\n",
       "       [1, 7, 9, 2, 5, 7],\n",
       "       [1, 9, 7, 3, 9, 3],\n",
       "       [9, 4, 1, 1, 2, 8]])"
      ]
     },
     "execution_count": 216,
     "metadata": {},
     "output_type": "execute_result"
    }
   ],
   "source": [
    "qe"
   ]
  },
  {
   "cell_type": "markdown",
   "id": "062edcda-daed-4833-b058-a231ebbdb6db",
   "metadata": {},
   "source": [
    "silicing on both row and colom together"
   ]
  },
  {
   "cell_type": "code",
   "execution_count": 220,
   "id": "774ae462-2cf0-4253-86c6-be9f25dd5b69",
   "metadata": {},
   "outputs": [
    {
     "data": {
      "text/plain": [
       "array([[9, 1, 6, 4, 3, 6],\n",
       "       [8, 6, 3, 2, 5, 4],\n",
       "       [1, 7, 9, 2, 5, 7],\n",
       "       [1, 9, 7, 3, 9, 3],\n",
       "       [9, 4, 1, 1, 2, 8]])"
      ]
     },
     "execution_count": 220,
     "metadata": {},
     "output_type": "execute_result"
    }
   ],
   "source": [
    "qe"
   ]
  },
  {
   "cell_type": "code",
   "execution_count": 228,
   "id": "c85bec4a-777a-42c9-a861-3e325993866c",
   "metadata": {},
   "outputs": [
    {
     "data": {
      "text/plain": [
       "array([[9, 1, 6],\n",
       "       [8, 6, 3],\n",
       "       [1, 7, 9]])"
      ]
     },
     "execution_count": 228,
     "metadata": {},
     "output_type": "execute_result"
    }
   ],
   "source": [
    "#from 0th to 2nd row and colom will be 1nd to 3rd\n",
    "qe[0:3,0:3]"
   ]
  },
  {
   "cell_type": "code",
   "execution_count": 229,
   "id": "932d569d-3859-4397-98b1-9710dcea64e5",
   "metadata": {},
   "outputs": [
    {
     "data": {
      "text/plain": [
       "array([9, 4])"
      ]
     },
     "execution_count": 229,
     "metadata": {},
     "output_type": "execute_result"
    }
   ],
   "source": [
    "qe[0,[0,3]]"
   ]
  },
  {
   "cell_type": "code",
   "execution_count": 274,
   "id": "96da4fac-69f2-4684-8337-0c1d9b76c179",
   "metadata": {},
   "outputs": [],
   "source": [
    "a1=np.random.randint(1,4,(3,3))\n",
    "a2=np.random.randint(1,4,(3,3))\n"
   ]
  },
  {
   "cell_type": "code",
   "execution_count": 239,
   "id": "41474fa5-c7a2-43e4-a74e-f0b63801d70a",
   "metadata": {},
   "outputs": [
    {
     "data": {
      "text/plain": [
       "array([[2, 1, 3],\n",
       "       [0, 1, 1],\n",
       "       [1, 2, 1],\n",
       "       [2, 3, 1]])"
      ]
     },
     "execution_count": 239,
     "metadata": {},
     "output_type": "execute_result"
    }
   ],
   "source": [
    "a1"
   ]
  },
  {
   "cell_type": "code",
   "execution_count": 240,
   "id": "7f862a6c-4c7e-4586-ac2a-3f3c899b37ea",
   "metadata": {},
   "outputs": [
    {
     "data": {
      "text/plain": [
       "array([[ 4,  1,  8],\n",
       "       [ 5,  3, 10],\n",
       "       [10,  5,  6],\n",
       "       [ 8,  9,  3]])"
      ]
     },
     "execution_count": 240,
     "metadata": {},
     "output_type": "execute_result"
    }
   ],
   "source": [
    "a2"
   ]
  },
  {
   "cell_type": "code",
   "execution_count": 241,
   "id": "4aea7e9e-2917-4e9b-af48-db29a79cf9e8",
   "metadata": {},
   "outputs": [
    {
     "data": {
      "text/plain": [
       "array([[ 6,  2, 11],\n",
       "       [ 5,  4, 11],\n",
       "       [11,  7,  7],\n",
       "       [10, 12,  4]])"
      ]
     },
     "execution_count": 241,
     "metadata": {},
     "output_type": "execute_result"
    }
   ],
   "source": [
    "a1 + a2 #always index wise do operation not matrix"
   ]
  },
  {
   "cell_type": "code",
   "execution_count": 242,
   "id": "2ff5715c-1100-475f-8e26-50cf41c513a9",
   "metadata": {},
   "outputs": [
    {
     "data": {
      "text/plain": [
       "(array([[2, 1, 3],\n",
       "        [0, 1, 1],\n",
       "        [1, 2, 1],\n",
       "        [2, 3, 1]]),\n",
       " array([[ 4,  1,  8],\n",
       "        [ 5,  3, 10],\n",
       "        [10,  5,  6],\n",
       "        [ 8,  9,  3]]))"
      ]
     },
     "execution_count": 242,
     "metadata": {},
     "output_type": "execute_result"
    }
   ],
   "source": [
    "a1,a2"
   ]
  },
  {
   "cell_type": "code",
   "execution_count": 243,
   "id": "bb52b989-774c-4865-b14a-191a2d6c1c10",
   "metadata": {},
   "outputs": [
    {
     "ename": "ZeroDivisionError",
     "evalue": "division by zero",
     "output_type": "error",
     "traceback": [
      "\u001b[0;31m---------------------------------------------------------------------------\u001b[0m",
      "\u001b[0;31mZeroDivisionError\u001b[0m                         Traceback (most recent call last)",
      "Cell \u001b[0;32mIn[243], line 1\u001b[0m\n\u001b[0;32m----> 1\u001b[0m \u001b[38;5;241;43m4\u001b[39;49m\u001b[38;5;241;43m/\u001b[39;49m\u001b[38;5;241;43m0\u001b[39;49m\n",
      "\u001b[0;31mZeroDivisionError\u001b[0m: division by zero"
     ]
    }
   ],
   "source": [
    "4/0"
   ]
  },
  {
   "cell_type": "code",
   "execution_count": 244,
   "id": "1f7085a4-065c-46b9-92bb-50587d047d97",
   "metadata": {},
   "outputs": [
    {
     "name": "stderr",
     "output_type": "stream",
     "text": [
      "/tmp/ipykernel_105/1504525615.py:1: RuntimeWarning: divide by zero encountered in divide\n",
      "  a1/0\n",
      "/tmp/ipykernel_105/1504525615.py:1: RuntimeWarning: invalid value encountered in divide\n",
      "  a1/0\n"
     ]
    },
    {
     "data": {
      "text/plain": [
       "array([[inf, inf, inf],\n",
       "       [nan, inf, inf],\n",
       "       [inf, inf, inf],\n",
       "       [inf, inf, inf]])"
      ]
     },
     "execution_count": 244,
     "metadata": {},
     "output_type": "execute_result"
    }
   ],
   "source": [
    "a1/0"
   ]
  },
  {
   "cell_type": "code",
   "execution_count": 245,
   "id": "c5165816-9df0-4fe3-971a-9baa97cc8c8f",
   "metadata": {},
   "outputs": [
    {
     "data": {
      "text/plain": [
       "array([[0., 0., 0.],\n",
       "       [0., 0., 0.],\n",
       "       [0., 0., 0.],\n",
       "       [0., 0., 0.]])"
      ]
     },
     "execution_count": 245,
     "metadata": {},
     "output_type": "execute_result"
    }
   ],
   "source": [
    "0/a2"
   ]
  },
  {
   "cell_type": "code",
   "execution_count": 247,
   "id": "2430d92f-725b-474f-ab01-7957f66bb81d",
   "metadata": {},
   "outputs": [],
   "source": [
    "#matrix mul"
   ]
  },
  {
   "cell_type": "code",
   "execution_count": 260,
   "id": "7caa026f-c24b-41fd-a79d-341048edbdf4",
   "metadata": {},
   "outputs": [
    {
     "data": {
      "text/plain": [
       "array([[1, 1, 2],\n",
       "       [1, 2, 1],\n",
       "       [2, 3, 2],\n",
       "       [3, 1, 1]])"
      ]
     },
     "execution_count": 260,
     "metadata": {},
     "output_type": "execute_result"
    }
   ],
   "source": [
    "a1\n"
   ]
  },
  {
   "cell_type": "code",
   "execution_count": 261,
   "id": "d5fc2712-3195-4f59-94d6-76519f7a8465",
   "metadata": {},
   "outputs": [
    {
     "data": {
      "text/plain": [
       "array([[1, 1, 2],\n",
       "       [2, 1, 2],\n",
       "       [2, 2, 2],\n",
       "       [1, 2, 1]])"
      ]
     },
     "execution_count": 261,
     "metadata": {},
     "output_type": "execute_result"
    }
   ],
   "source": [
    "a2"
   ]
  },
  {
   "cell_type": "code",
   "execution_count": 275,
   "id": "e936ed80-2fc2-4048-912f-c2111295217c",
   "metadata": {},
   "outputs": [
    {
     "data": {
      "text/plain": [
       "array([[14,  7,  9],\n",
       "       [21, 11, 12],\n",
       "       [14,  8,  7]])"
      ]
     },
     "execution_count": 275,
     "metadata": {},
     "output_type": "execute_result"
    }
   ],
   "source": [
    "a1 @ a2"
   ]
  },
  {
   "cell_type": "code",
   "execution_count": 276,
   "id": "5ae15310-d9ed-49d4-94dd-1e557c66d9de",
   "metadata": {},
   "outputs": [
    {
     "data": {
      "text/plain": [
       "array([[2, 2, 2],\n",
       "       [9, 6, 2],\n",
       "       [3, 3, 3]])"
      ]
     },
     "execution_count": 276,
     "metadata": {},
     "output_type": "execute_result"
    }
   ],
   "source": [
    "a1 * a2"
   ]
  },
  {
   "cell_type": "code",
   "execution_count": 278,
   "id": "4a3b0a7f-96f0-4c53-af8e-5112dd30b4a9",
   "metadata": {},
   "outputs": [
    {
     "data": {
      "text/plain": [
       "array([[14,  7,  9],\n",
       "       [21, 11, 12],\n",
       "       [14,  8,  7]])"
      ]
     },
     "execution_count": 278,
     "metadata": {},
     "output_type": "execute_result"
    }
   ],
   "source": [
    "np.dot(a1,a2) #another way of matrix multi"
   ]
  },
  {
   "cell_type": "code",
   "execution_count": 279,
   "id": "cd58ac66-b611-4a89-b438-d0e8f22b38a2",
   "metadata": {},
   "outputs": [
    {
     "data": {
      "text/plain": [
       "(array([[1, 2, 2],\n",
       "        [3, 3, 2],\n",
       "        [1, 3, 1]]),\n",
       " array([[2, 1, 1],\n",
       "        [3, 2, 1],\n",
       "        [3, 1, 3]]))"
      ]
     },
     "execution_count": 279,
     "metadata": {},
     "output_type": "execute_result"
    }
   ],
   "source": [
    "a1,a2"
   ]
  },
  {
   "cell_type": "markdown",
   "id": "6830f95d-479c-4e8f-9ad2-89412c113036",
   "metadata": {},
   "source": [
    "brodcasting"
   ]
  },
  {
   "cell_type": "code",
   "execution_count": 322,
   "id": "f484d84e-4c7b-41f3-8175-4adcd6fdcf34",
   "metadata": {},
   "outputs": [],
   "source": [
    "a=np.zeros((3,3))"
   ]
  },
  {
   "cell_type": "code",
   "execution_count": 303,
   "id": "6f6dded7-bca9-498a-a97d-116e1154e135",
   "metadata": {},
   "outputs": [
    {
     "data": {
      "text/plain": [
       "array([[0., 0., 0.],\n",
       "       [0., 0., 0.],\n",
       "       [0., 0., 0.]])"
      ]
     },
     "execution_count": 303,
     "metadata": {},
     "output_type": "execute_result"
    }
   ],
   "source": [
    "a"
   ]
  },
  {
   "cell_type": "code",
   "execution_count": 323,
   "id": "8cbec252-cc85-4e53-974a-325c3edd6c09",
   "metadata": {},
   "outputs": [],
   "source": [
    "b=np.array([1,2,3])"
   ]
  },
  {
   "cell_type": "code",
   "execution_count": 312,
   "id": "32ecf0ab-22fe-4775-a22d-a47700086b5e",
   "metadata": {},
   "outputs": [
    {
     "data": {
      "text/plain": [
       "array([1, 2, 3])"
      ]
     },
     "execution_count": 312,
     "metadata": {},
     "output_type": "execute_result"
    }
   ],
   "source": [
    "b"
   ]
  },
  {
   "cell_type": "code",
   "execution_count": 325,
   "id": "c0da8c8d-6dda-4f12-a306-23f30d71e329",
   "metadata": {},
   "outputs": [],
   "source": [
    "c=b+a"
   ]
  },
  {
   "cell_type": "code",
   "execution_count": 326,
   "id": "3064257c-41fe-4ac5-aa03-d01c2dd8fe19",
   "metadata": {},
   "outputs": [
    {
     "data": {
      "text/plain": [
       "array([[1., 2., 3.],\n",
       "       [1., 2., 3.],\n",
       "       [1., 2., 3.]])"
      ]
     },
     "execution_count": 326,
     "metadata": {},
     "output_type": "execute_result"
    }
   ],
   "source": [
    "c"
   ]
  },
  {
   "cell_type": "markdown",
   "id": "4608b4b1-4465-473d-a28e-11271da3893b",
   "metadata": {},
   "source": [
    "transpose:-transpose means convert row to colomb and colomb to row"
   ]
  },
  {
   "cell_type": "code",
   "execution_count": 316,
   "id": "6c4f8533-8479-4246-9530-e178cb4506d2",
   "metadata": {},
   "outputs": [],
   "source": [
    "a=np.array([[1,2,3,4]])"
   ]
  },
  {
   "cell_type": "code",
   "execution_count": 317,
   "id": "dc6f229f-1788-480f-be8e-42b29383b73f",
   "metadata": {},
   "outputs": [
    {
     "data": {
      "text/plain": [
       "array([[1, 2, 3, 4]])"
      ]
     },
     "execution_count": 317,
     "metadata": {},
     "output_type": "execute_result"
    }
   ],
   "source": [
    "a"
   ]
  },
  {
   "cell_type": "code",
   "execution_count": 318,
   "id": "617cffd3-e944-471a-8d69-b7455490779f",
   "metadata": {},
   "outputs": [
    {
     "data": {
      "text/plain": [
       "2"
      ]
     },
     "execution_count": 318,
     "metadata": {},
     "output_type": "execute_result"
    }
   ],
   "source": [
    "a.ndim"
   ]
  },
  {
   "cell_type": "code",
   "execution_count": 319,
   "id": "1cf242f8-fbdb-45f0-9da1-965831df2586",
   "metadata": {},
   "outputs": [
    {
     "data": {
      "text/plain": [
       "array([[1],\n",
       "       [2],\n",
       "       [3],\n",
       "       [4]])"
      ]
     },
     "execution_count": 319,
     "metadata": {},
     "output_type": "execute_result"
    }
   ],
   "source": [
    "a.T"
   ]
  },
  {
   "cell_type": "code",
   "execution_count": 320,
   "id": "397a1572-21ce-432f-a467-10ff7048aaf1",
   "metadata": {},
   "outputs": [
    {
     "data": {
      "text/plain": [
       "array([1, 2, 3])"
      ]
     },
     "execution_count": 320,
     "metadata": {},
     "output_type": "execute_result"
    }
   ],
   "source": [
    "b"
   ]
  },
  {
   "cell_type": "code",
   "execution_count": 327,
   "id": "5fd00bfd-fb35-44e4-9075-638304d362da",
   "metadata": {},
   "outputs": [
    {
     "data": {
      "text/plain": [
       "array([[1., 2., 3.],\n",
       "       [1., 2., 3.],\n",
       "       [1., 2., 3.]])"
      ]
     },
     "execution_count": 327,
     "metadata": {},
     "output_type": "execute_result"
    }
   ],
   "source": [
    "c"
   ]
  },
  {
   "cell_type": "code",
   "execution_count": 328,
   "id": "5d0578ba-558c-4ea5-b922-b3ed9e4ee521",
   "metadata": {},
   "outputs": [
    {
     "data": {
      "text/plain": [
       "array([[1., 1., 1.],\n",
       "       [2., 2., 2.],\n",
       "       [3., 3., 3.]])"
      ]
     },
     "execution_count": 328,
     "metadata": {},
     "output_type": "execute_result"
    }
   ],
   "source": [
    "c.T"
   ]
  },
  {
   "cell_type": "code",
   "execution_count": 2,
   "id": "8a180122-ea7a-477c-8250-9d2d05f8323d",
   "metadata": {},
   "outputs": [],
   "source": [
    "a1=np.random.randint(1,4,(3,3))"
   ]
  },
  {
   "cell_type": "code",
   "execution_count": 3,
   "id": "a5c561a8-e239-4f06-a9bf-153e835ea4ff",
   "metadata": {},
   "outputs": [
    {
     "data": {
      "text/plain": [
       "array([[2, 3, 1],\n",
       "       [1, 3, 1],\n",
       "       [2, 3, 1]])"
      ]
     },
     "execution_count": 3,
     "metadata": {},
     "output_type": "execute_result"
    }
   ],
   "source": [
    "a1"
   ]
  },
  {
   "cell_type": "code",
   "execution_count": 4,
   "id": "d94291a8-4191-49f9-988b-0837ccbca9f1",
   "metadata": {},
   "outputs": [],
   "source": [
    "a2=np.random.randint(1,5,(3,3))"
   ]
  },
  {
   "cell_type": "code",
   "execution_count": 5,
   "id": "6e763fb2-06ca-4519-9bca-69b3722ffec0",
   "metadata": {},
   "outputs": [
    {
     "data": {
      "text/plain": [
       "array([[2, 4, 1],\n",
       "       [1, 4, 1],\n",
       "       [3, 1, 3]])"
      ]
     },
     "execution_count": 5,
     "metadata": {},
     "output_type": "execute_result"
    }
   ],
   "source": [
    "a2"
   ]
  },
  {
   "cell_type": "code",
   "execution_count": 7,
   "id": "f42003c4-c0c9-4186-bac7-236d34cd6209",
   "metadata": {},
   "outputs": [],
   "source": [
    "c=a1.flatten()#Return a copy of the array collapsed into one dimension."
   ]
  },
  {
   "cell_type": "code",
   "execution_count": 8,
   "id": "5a21f586-42f8-4e05-b6df-0567a9a5310b",
   "metadata": {},
   "outputs": [
    {
     "data": {
      "text/plain": [
       "array([2, 3, 1, 1, 3, 1, 2, 3, 1])"
      ]
     },
     "execution_count": 8,
     "metadata": {},
     "output_type": "execute_result"
    }
   ],
   "source": [
    "c"
   ]
  },
  {
   "cell_type": "code",
   "execution_count": 9,
   "id": "fa002cf0-950b-4157-9626-441496cdc2d2",
   "metadata": {},
   "outputs": [
    {
     "data": {
      "text/plain": [
       "1"
      ]
     },
     "execution_count": 9,
     "metadata": {},
     "output_type": "execute_result"
    }
   ],
   "source": [
    "c.ndim"
   ]
  },
  {
   "cell_type": "code",
   "execution_count": 10,
   "id": "857286b5-6ae5-480d-886d-55a66d9364eb",
   "metadata": {},
   "outputs": [],
   "source": [
    "e=np.array([1,2,3,4,5])"
   ]
  },
  {
   "cell_type": "code",
   "execution_count": 11,
   "id": "99ab5f8a-39d7-42d7-a3c4-d37c4813688f",
   "metadata": {},
   "outputs": [
    {
     "data": {
      "text/plain": [
       "array([1, 2, 3, 4, 5])"
      ]
     },
     "execution_count": 11,
     "metadata": {},
     "output_type": "execute_result"
    }
   ],
   "source": [
    "e"
   ]
  },
  {
   "cell_type": "code",
   "execution_count": 12,
   "id": "25e8d171-13fa-4f96-a9a9-63729e043f0b",
   "metadata": {},
   "outputs": [
    {
     "data": {
      "text/plain": [
       "1"
      ]
     },
     "execution_count": 12,
     "metadata": {},
     "output_type": "execute_result"
    }
   ],
   "source": [
    "e.ndim"
   ]
  },
  {
   "cell_type": "code",
   "execution_count": 16,
   "id": "1e34b1da-cc8b-4f8c-be27-3956e550fd98",
   "metadata": {},
   "outputs": [],
   "source": [
    "t=np.expand_dims(e,axis=0)#Expand the shape of an array.Insert a new axis that will appear at the `axis` position in the expanded array shape."
   ]
  },
  {
   "cell_type": "code",
   "execution_count": 17,
   "id": "b425245a-0be0-43f7-ac03-37d3bce57734",
   "metadata": {},
   "outputs": [
    {
     "data": {
      "text/plain": [
       "array([[1, 2, 3, 4, 5]])"
      ]
     },
     "execution_count": 17,
     "metadata": {},
     "output_type": "execute_result"
    }
   ],
   "source": [
    "t#in axis 0 means rows or (x axis) and 1 means colom(y axis)"
   ]
  },
  {
   "cell_type": "code",
   "execution_count": 18,
   "id": "3b322618-9331-4984-8eda-9606962cbc75",
   "metadata": {},
   "outputs": [
    {
     "data": {
      "text/plain": [
       "2"
      ]
     },
     "execution_count": 18,
     "metadata": {},
     "output_type": "execute_result"
    }
   ],
   "source": [
    "t.ndim"
   ]
  },
  {
   "cell_type": "code",
   "execution_count": 19,
   "id": "643c2977-8aba-45a6-b62f-217e9ae82cfb",
   "metadata": {},
   "outputs": [],
   "source": [
    "t1=np.expand_dims(e,axis=1)"
   ]
  },
  {
   "cell_type": "code",
   "execution_count": 21,
   "id": "06c3af6f-1acf-4a37-a47e-1ff6936816f1",
   "metadata": {},
   "outputs": [
    {
     "data": {
      "text/plain": [
       "2"
      ]
     },
     "execution_count": 21,
     "metadata": {},
     "output_type": "execute_result"
    }
   ],
   "source": [
    "t1.ndim"
   ]
  },
  {
   "cell_type": "code",
   "execution_count": 22,
   "id": "fbd5ebc2-fdd4-4a33-bedc-2c1b2bf7f64d",
   "metadata": {},
   "outputs": [
    {
     "data": {
      "text/plain": [
       "array([[1],\n",
       "       [2],\n",
       "       [3],\n",
       "       [4],\n",
       "       [5]])"
      ]
     },
     "execution_count": 22,
     "metadata": {},
     "output_type": "execute_result"
    }
   ],
   "source": [
    "t1"
   ]
  },
  {
   "cell_type": "code",
   "execution_count": 23,
   "id": "697183cf-2c74-4ca3-b24a-257615828b52",
   "metadata": {},
   "outputs": [],
   "source": [
    "qe=np.ones((3,4))"
   ]
  },
  {
   "cell_type": "code",
   "execution_count": 24,
   "id": "acc5d022-553c-4b08-8b6a-8548719a0e41",
   "metadata": {},
   "outputs": [
    {
     "data": {
      "text/plain": [
       "array([[1., 1., 1., 1.],\n",
       "       [1., 1., 1., 1.],\n",
       "       [1., 1., 1., 1.]])"
      ]
     },
     "execution_count": 24,
     "metadata": {},
     "output_type": "execute_result"
    }
   ],
   "source": [
    "qe"
   ]
  },
  {
   "cell_type": "code",
   "execution_count": 26,
   "id": "da1e2f84-1e7a-46cd-a8af-58bb55ee18ea",
   "metadata": {},
   "outputs": [],
   "source": [
    "u=np.expand_dims(qe,axis=0)"
   ]
  },
  {
   "cell_type": "code",
   "execution_count": 27,
   "id": "ee2ad02e-5a4a-4b46-b2e5-8f99b44438b3",
   "metadata": {},
   "outputs": [
    {
     "data": {
      "text/plain": [
       "array([[[1., 1., 1., 1.],\n",
       "        [1., 1., 1., 1.],\n",
       "        [1., 1., 1., 1.]]])"
      ]
     },
     "execution_count": 27,
     "metadata": {},
     "output_type": "execute_result"
    }
   ],
   "source": [
    "u"
   ]
  },
  {
   "cell_type": "code",
   "execution_count": 28,
   "id": "c044486e-d84b-469d-94fd-b8f02ca461b1",
   "metadata": {},
   "outputs": [
    {
     "data": {
      "text/plain": [
       "3"
      ]
     },
     "execution_count": 28,
     "metadata": {},
     "output_type": "execute_result"
    }
   ],
   "source": [
    "u.ndim"
   ]
  },
  {
   "cell_type": "code",
   "execution_count": 29,
   "id": "b0f02953-6f36-47ca-a325-92916e2a5f4d",
   "metadata": {},
   "outputs": [
    {
     "data": {
      "text/plain": [
       "2"
      ]
     },
     "execution_count": 29,
     "metadata": {},
     "output_type": "execute_result"
    }
   ],
   "source": [
    "qe.ndim"
   ]
  },
  {
   "cell_type": "code",
   "execution_count": 2,
   "id": "a71a49f2-52e6-40f6-9551-18f6419f1a78",
   "metadata": {},
   "outputs": [],
   "source": [
    "a=np.array(([1],[2],[3]))"
   ]
  },
  {
   "cell_type": "code",
   "execution_count": 3,
   "id": "fbafd518-e5be-4d8d-be7a-4f8a24441675",
   "metadata": {},
   "outputs": [
    {
     "data": {
      "text/plain": [
       "2"
      ]
     },
     "execution_count": 3,
     "metadata": {},
     "output_type": "execute_result"
    }
   ],
   "source": [
    "a.ndim"
   ]
  },
  {
   "cell_type": "code",
   "execution_count": 4,
   "id": "2c2179cb-a8be-460a-9d1e-84045fd1094d",
   "metadata": {},
   "outputs": [],
   "source": [
    "o=np.expand_dims(a,axis=1)"
   ]
  },
  {
   "cell_type": "code",
   "execution_count": 5,
   "id": "c8126889-232a-45b3-b6e7-c76e90770270",
   "metadata": {},
   "outputs": [
    {
     "data": {
      "text/plain": [
       "array([[[1]],\n",
       "\n",
       "       [[2]],\n",
       "\n",
       "       [[3]]])"
      ]
     },
     "execution_count": 5,
     "metadata": {},
     "output_type": "execute_result"
    }
   ],
   "source": [
    "o"
   ]
  },
  {
   "cell_type": "code",
   "execution_count": 6,
   "id": "15614f2a-973e-442f-9d41-06a7cdd763ea",
   "metadata": {},
   "outputs": [
    {
     "data": {
      "text/plain": [
       "3"
      ]
     },
     "execution_count": 6,
     "metadata": {},
     "output_type": "execute_result"
    }
   ],
   "source": [
    "o.ndim"
   ]
  },
  {
   "cell_type": "code",
   "execution_count": 7,
   "id": "e9f4099e-5ae1-4d35-8131-ba9f30296d0a",
   "metadata": {},
   "outputs": [
    {
     "data": {
      "text/plain": [
       "2"
      ]
     },
     "execution_count": 7,
     "metadata": {},
     "output_type": "execute_result"
    }
   ],
   "source": [
    "a.ndim"
   ]
  },
  {
   "cell_type": "markdown",
   "id": "49932687-71db-4d96-b6e2-36e042c373a1",
   "metadata": {},
   "source": [
    "squeezing of dimension\n",
    "\n",
    "→ squeezing the dime by 1 dimension "
   ]
  },
  {
   "cell_type": "code",
   "execution_count": 8,
   "id": "a76724e9-322f-435d-ba17-9b169191a445",
   "metadata": {},
   "outputs": [],
   "source": [
    "o1=np.squeeze(o)"
   ]
  },
  {
   "cell_type": "code",
   "execution_count": 9,
   "id": "2d50ab9f-5911-45b2-bf34-474b812461e8",
   "metadata": {},
   "outputs": [
    {
     "data": {
      "text/plain": [
       "1"
      ]
     },
     "execution_count": 9,
     "metadata": {},
     "output_type": "execute_result"
    }
   ],
   "source": [
    "o1.ndim"
   ]
  },
  {
   "cell_type": "code",
   "execution_count": 10,
   "id": "72aec6e0-4071-4e16-8807-25f7e872ceec",
   "metadata": {},
   "outputs": [
    {
     "data": {
      "text/plain": [
       "3"
      ]
     },
     "execution_count": 10,
     "metadata": {},
     "output_type": "execute_result"
    }
   ],
   "source": [
    "o.ndim"
   ]
  },
  {
   "cell_type": "code",
   "execution_count": 15,
   "id": "ce19dab1-91f2-4ef3-8781-70af7a79f48c",
   "metadata": {},
   "outputs": [
    {
     "data": {
      "text/plain": [
       "array([1, 1, 1, 2, 2, 2, 3, 3, 3])"
      ]
     },
     "execution_count": 15,
     "metadata": {},
     "output_type": "execute_result"
    }
   ],
   "source": [
    "o.repeat(3)"
   ]
  },
  {
   "cell_type": "code",
   "execution_count": 16,
   "id": "e19ab777-6ff8-4148-bca2-0e7e1bc442b8",
   "metadata": {},
   "outputs": [
    {
     "data": {
      "text/plain": [
       "array([[[1]],\n",
       "\n",
       "       [[2]],\n",
       "\n",
       "       [[3]]])"
      ]
     },
     "execution_count": 16,
     "metadata": {},
     "output_type": "execute_result"
    }
   ],
   "source": [
    "o"
   ]
  },
  {
   "cell_type": "code",
   "execution_count": 17,
   "id": "80964f32-7103-400b-9f3e-6a6327acbf19",
   "metadata": {},
   "outputs": [
    {
     "data": {
      "text/plain": [
       "array([[1],\n",
       "       [2],\n",
       "       [3]])"
      ]
     },
     "execution_count": 17,
     "metadata": {},
     "output_type": "execute_result"
    }
   ],
   "source": [
    "a"
   ]
  },
  {
   "cell_type": "code",
   "execution_count": 18,
   "id": "876753f4-8c4e-4b70-877e-cb2d1f52dff1",
   "metadata": {},
   "outputs": [
    {
     "data": {
      "text/plain": [
       "array([1, 1, 1, 2, 2, 2, 3, 3, 3])"
      ]
     },
     "execution_count": 18,
     "metadata": {},
     "output_type": "execute_result"
    }
   ],
   "source": [
    "a.repeat(3)"
   ]
  },
  {
   "cell_type": "code",
   "execution_count": 47,
   "id": "25d92192-b2bc-4d78-a0ae-d6568af0964f",
   "metadata": {},
   "outputs": [],
   "source": [
    "a1=np.random.randint(1,4,(3,3))"
   ]
  },
  {
   "cell_type": "code",
   "execution_count": 25,
   "id": "d8aa71a1-81d6-4184-b166-d9108558fa1b",
   "metadata": {},
   "outputs": [
    {
     "data": {
      "text/plain": [
       "array([[1, 3, 1],\n",
       "       [3, 1, 3],\n",
       "       [2, 1, 3]])"
      ]
     },
     "execution_count": 25,
     "metadata": {},
     "output_type": "execute_result"
    }
   ],
   "source": [
    "a1"
   ]
  },
  {
   "cell_type": "code",
   "execution_count": 26,
   "id": "a483a8db-25bf-4bee-9d19-e56130b29210",
   "metadata": {},
   "outputs": [
    {
     "data": {
      "text/plain": [
       "array([1, 1, 1, 3, 3, 3, 1, 1, 1, 3, 3, 3, 1, 1, 1, 3, 3, 3, 2, 2, 2, 1,\n",
       "       1, 1, 3, 3, 3])"
      ]
     },
     "execution_count": 26,
     "metadata": {},
     "output_type": "execute_result"
    }
   ],
   "source": [
    "np.repeat(a1,3)"
   ]
  },
  {
   "cell_type": "code",
   "execution_count": 28,
   "id": "24de91e1-37a6-47e5-8704-ba5c2a0cbd2e",
   "metadata": {},
   "outputs": [
    {
     "data": {
      "text/plain": [
       "array([[1, 1, 1, 3, 3, 3, 1, 1, 1],\n",
       "       [3, 3, 3, 1, 1, 1, 3, 3, 3],\n",
       "       [2, 2, 2, 1, 1, 1, 3, 3, 3]])"
      ]
     },
     "execution_count": 28,
     "metadata": {},
     "output_type": "execute_result"
    }
   ],
   "source": [
    "np.repeat(a1,3,axis=1)"
   ]
  },
  {
   "cell_type": "code",
   "execution_count": 30,
   "id": "f8bc05f6-b47d-45da-bf86-917aef28456a",
   "metadata": {},
   "outputs": [
    {
     "data": {
      "text/plain": [
       "array([[3],\n",
       "       [1],\n",
       "       [2]])"
      ]
     },
     "execution_count": 30,
     "metadata": {},
     "output_type": "execute_result"
    }
   ],
   "source": [
    "np.roll(a,1)"
   ]
  },
  {
   "cell_type": "code",
   "execution_count": 31,
   "id": "a40a06d7-29b1-43c6-af46-0a85099770b5",
   "metadata": {},
   "outputs": [
    {
     "data": {
      "text/plain": [
       "array([[1],\n",
       "       [2],\n",
       "       [3]])"
      ]
     },
     "execution_count": 31,
     "metadata": {},
     "output_type": "execute_result"
    }
   ],
   "source": [
    "a"
   ]
  },
  {
   "cell_type": "code",
   "execution_count": 32,
   "id": "77ea4463-1a49-423c-abf5-0061ce9fb7ec",
   "metadata": {},
   "outputs": [
    {
     "data": {
      "text/plain": [
       "array([[2],\n",
       "       [3],\n",
       "       [1]])"
      ]
     },
     "execution_count": 32,
     "metadata": {},
     "output_type": "execute_result"
    }
   ],
   "source": [
    "np.roll(a,-1)"
   ]
  },
  {
   "cell_type": "code",
   "execution_count": 33,
   "id": "2f367791-ccd4-4f79-ba77-c939e71a9207",
   "metadata": {},
   "outputs": [
    {
     "data": {
      "text/plain": [
       "array([[3],\n",
       "       [1],\n",
       "       [2]])"
      ]
     },
     "execution_count": 33,
     "metadata": {},
     "output_type": "execute_result"
    }
   ],
   "source": [
    "np.roll(a,-2)"
   ]
  },
  {
   "cell_type": "code",
   "execution_count": 34,
   "id": "9d1b066c-fb3c-4447-a3f6-1c89ba09c9ed",
   "metadata": {},
   "outputs": [],
   "source": [
    "r=np.array([[1,2],[3,4],[5,6],[7,8]])"
   ]
  },
  {
   "cell_type": "code",
   "execution_count": 35,
   "id": "bcc37eb2-9d5a-4fed-9301-cf760443a36e",
   "metadata": {},
   "outputs": [
    {
     "data": {
      "text/plain": [
       "array([[1, 2],\n",
       "       [3, 4],\n",
       "       [5, 6],\n",
       "       [7, 8]])"
      ]
     },
     "execution_count": 35,
     "metadata": {},
     "output_type": "execute_result"
    }
   ],
   "source": [
    "r"
   ]
  },
  {
   "cell_type": "code",
   "execution_count": 37,
   "id": "300bd16f-121d-492a-b19c-37cef90fadd4",
   "metadata": {},
   "outputs": [
    {
     "data": {
      "text/plain": [
       "array([[2, 3],\n",
       "       [4, 5],\n",
       "       [6, 7],\n",
       "       [8, 1]])"
      ]
     },
     "execution_count": 37,
     "metadata": {},
     "output_type": "execute_result"
    }
   ],
   "source": [
    "np.roll(r,-1)"
   ]
  },
  {
   "cell_type": "code",
   "execution_count": 39,
   "id": "e6352eea-0ff2-4c46-afe8-c44232f7e432",
   "metadata": {},
   "outputs": [
    {
     "data": {
      "text/plain": [
       "array([[7, 8],\n",
       "       [1, 2],\n",
       "       [3, 4],\n",
       "       [5, 6]])"
      ]
     },
     "execution_count": 39,
     "metadata": {},
     "output_type": "execute_result"
    }
   ],
   "source": [
    "np.roll(r,2)"
   ]
  },
  {
   "cell_type": "code",
   "execution_count": 40,
   "id": "d5ea054a-7b72-4836-b051-c31f71605043",
   "metadata": {},
   "outputs": [
    {
     "data": {
      "text/plain": [
       "array([[5, 6],\n",
       "       [7, 8],\n",
       "       [1, 2],\n",
       "       [3, 4]])"
      ]
     },
     "execution_count": 40,
     "metadata": {},
     "output_type": "execute_result"
    }
   ],
   "source": [
    "np.roll(r,2,axis=0)"
   ]
  },
  {
   "cell_type": "code",
   "execution_count": 41,
   "id": "1136e451-2c40-4374-a7ee-21fdc6439646",
   "metadata": {},
   "outputs": [
    {
     "data": {
      "text/plain": [
       "array([[-2, -3],\n",
       "       [-4, -5],\n",
       "       [-6, -7],\n",
       "       [-8, -9]])"
      ]
     },
     "execution_count": 41,
     "metadata": {},
     "output_type": "execute_result"
    }
   ],
   "source": [
    "~r"
   ]
  },
  {
   "cell_type": "markdown",
   "id": "45469832-16f4-42be-9bf0-1644cd0e5646",
   "metadata": {},
   "source": [
    "oeration on numpy string array\n"
   ]
  },
  {
   "cell_type": "code",
   "execution_count": 42,
   "id": "e13bce78-0c50-4092-ac8e-1dadee4350d5",
   "metadata": {},
   "outputs": [],
   "source": [
    "q=np.array([\"pw\",\"ajay\"])"
   ]
  },
  {
   "cell_type": "code",
   "execution_count": 43,
   "id": "62800065-e2eb-4f9c-a7ff-09e8fb31de76",
   "metadata": {},
   "outputs": [
    {
     "data": {
      "text/plain": [
       "array(['pw', 'ajay'], dtype='<U4')"
      ]
     },
     "execution_count": 43,
     "metadata": {},
     "output_type": "execute_result"
    }
   ],
   "source": [
    "q"
   ]
  },
  {
   "cell_type": "code",
   "execution_count": 44,
   "id": "59e0c41b-7e04-439c-8d7f-9dab42496dc4",
   "metadata": {},
   "outputs": [
    {
     "data": {
      "text/plain": [
       "array(['PW', 'AJAY'], dtype='<U4')"
      ]
     },
     "execution_count": 44,
     "metadata": {},
     "output_type": "execute_result"
    }
   ],
   "source": [
    "np.char.upper(q)"
   ]
  },
  {
   "cell_type": "code",
   "execution_count": 45,
   "id": "fdff51bc-3ab6-42c7-81a3-fcf35a087acb",
   "metadata": {},
   "outputs": [
    {
     "data": {
      "text/plain": [
       "array(['Pw', 'Ajay'], dtype='<U4')"
      ]
     },
     "execution_count": 45,
     "metadata": {},
     "output_type": "execute_result"
    }
   ],
   "source": [
    "np.char.capitalize(q)"
   ]
  },
  {
   "cell_type": "markdown",
   "id": "d3de7eb9-fbba-4e67-9aae-4fba28fdffbc",
   "metadata": {},
   "source": [
    "mathamatical function"
   ]
  },
  {
   "cell_type": "code",
   "execution_count": 48,
   "id": "7c4879b1-c257-4a7b-a40a-9f6ce0997042",
   "metadata": {},
   "outputs": [
    {
     "data": {
      "text/plain": [
       "array([[2, 2, 2],\n",
       "       [2, 1, 3],\n",
       "       [1, 2, 2]])"
      ]
     },
     "execution_count": 48,
     "metadata": {},
     "output_type": "execute_result"
    }
   ],
   "source": [
    "a1"
   ]
  },
  {
   "cell_type": "code",
   "execution_count": 49,
   "id": "d4368c75-ca2b-4a38-ac1f-1df1ab7c24f9",
   "metadata": {},
   "outputs": [
    {
     "data": {
      "text/plain": [
       "array([[0.90929743, 0.90929743, 0.90929743],\n",
       "       [0.90929743, 0.84147098, 0.14112001],\n",
       "       [0.84147098, 0.90929743, 0.90929743]])"
      ]
     },
     "execution_count": 49,
     "metadata": {},
     "output_type": "execute_result"
    }
   ],
   "source": [
    "np.sin(a1)"
   ]
  },
  {
   "cell_type": "code",
   "execution_count": 50,
   "id": "f789ba40-4dd4-41b4-ab2d-a6b3ae250452",
   "metadata": {},
   "outputs": [
    {
     "data": {
      "text/plain": [
       "array([[-0.41614684, -0.41614684, -0.41614684],\n",
       "       [-0.41614684,  0.54030231, -0.9899925 ],\n",
       "       [ 0.54030231, -0.41614684, -0.41614684]])"
      ]
     },
     "execution_count": 50,
     "metadata": {},
     "output_type": "execute_result"
    }
   ],
   "source": [
    "np.cos(a1)"
   ]
  },
  {
   "cell_type": "code",
   "execution_count": 51,
   "id": "1fec6a71-00c6-494e-886b-76bd39fd0fee",
   "metadata": {},
   "outputs": [
    {
     "data": {
      "text/plain": [
       "array([[-2.18503986, -2.18503986, -2.18503986],\n",
       "       [-2.18503986,  1.55740772, -0.14254654],\n",
       "       [ 1.55740772, -2.18503986, -2.18503986]])"
      ]
     },
     "execution_count": 51,
     "metadata": {},
     "output_type": "execute_result"
    }
   ],
   "source": [
    "np.tan(a1)"
   ]
  },
  {
   "cell_type": "code",
   "execution_count": 52,
   "id": "a15b09e0-52c1-4acd-80db-4709bf2f919f",
   "metadata": {},
   "outputs": [
    {
     "data": {
      "text/plain": [
       "array([[ 7.3890561 ,  7.3890561 ,  7.3890561 ],\n",
       "       [ 7.3890561 ,  2.71828183, 20.08553692],\n",
       "       [ 2.71828183,  7.3890561 ,  7.3890561 ]])"
      ]
     },
     "execution_count": 52,
     "metadata": {},
     "output_type": "execute_result"
    }
   ],
   "source": [
    "np.exp(a1)"
   ]
  },
  {
   "cell_type": "code",
   "execution_count": 54,
   "id": "989eafc5-7c22-4d25-b947-48e6073438a8",
   "metadata": {},
   "outputs": [
    {
     "data": {
      "text/plain": [
       "array([[ 8,  8,  8],\n",
       "       [ 8,  1, 27],\n",
       "       [ 1,  8,  8]])"
      ]
     },
     "execution_count": 54,
     "metadata": {},
     "output_type": "execute_result"
    }
   ],
   "source": [
    "np.power(a1,3)"
   ]
  },
  {
   "cell_type": "code",
   "execution_count": 55,
   "id": "d25fc34a-839c-4293-818a-e4919559c373",
   "metadata": {},
   "outputs": [
    {
     "data": {
      "text/plain": [
       "3"
      ]
     },
     "execution_count": 55,
     "metadata": {},
     "output_type": "execute_result"
    }
   ],
   "source": [
    "np.max(a1)"
   ]
  },
  {
   "cell_type": "code",
   "execution_count": 58,
   "id": "e3766118-4b45-4b67-a34b-07690f213a5f",
   "metadata": {},
   "outputs": [
    {
     "data": {
      "text/plain": [
       "1.8888888888888888"
      ]
     },
     "execution_count": 58,
     "metadata": {},
     "output_type": "execute_result"
    }
   ],
   "source": [
    "np.mean(a1)"
   ]
  },
  {
   "cell_type": "code",
   "execution_count": 57,
   "id": "8c770101-9af8-4830-a6fb-a6a73b66fa14",
   "metadata": {},
   "outputs": [
    {
     "data": {
      "text/plain": [
       "array([[2, 2, 2],\n",
       "       [2, 1, 3],\n",
       "       [1, 2, 2]])"
      ]
     },
     "execution_count": 57,
     "metadata": {},
     "output_type": "execute_result"
    }
   ],
   "source": [
    "a1"
   ]
  },
  {
   "cell_type": "code",
   "execution_count": 59,
   "id": "753bab84-51fc-4972-bcf5-59265968d032",
   "metadata": {},
   "outputs": [
    {
     "data": {
      "text/plain": [
       "1"
      ]
     },
     "execution_count": 59,
     "metadata": {},
     "output_type": "execute_result"
    }
   ],
   "source": [
    "np.min(a1)"
   ]
  },
  {
   "cell_type": "code",
   "execution_count": 60,
   "id": "99c5d664-4719-4827-bd3d-18a969f7e086",
   "metadata": {},
   "outputs": [
    {
     "data": {
      "text/plain": [
       "0.5665577237325317"
      ]
     },
     "execution_count": 60,
     "metadata": {},
     "output_type": "execute_result"
    }
   ],
   "source": [
    "np.std(a1)"
   ]
  },
  {
   "cell_type": "code",
   "execution_count": 61,
   "id": "50f865a0-1540-4f3a-8e2d-6972a4b7788c",
   "metadata": {},
   "outputs": [
    {
     "data": {
      "text/plain": [
       "0.3209876543209877"
      ]
     },
     "execution_count": 61,
     "metadata": {},
     "output_type": "execute_result"
    }
   ],
   "source": [
    "np.var(a1)"
   ]
  },
  {
   "cell_type": "code",
   "execution_count": 62,
   "id": "3145fb3f-fb2e-4b91-9e2b-b02b3df2ab35",
   "metadata": {},
   "outputs": [
    {
     "data": {
      "text/plain": [
       "array([[ 1,  1,  1],\n",
       "       [ 0, -1,  1],\n",
       "       [-2, -1, -1]])"
      ]
     },
     "execution_count": 62,
     "metadata": {},
     "output_type": "execute_result"
    }
   ],
   "source": [
    "np.subtract(a1,a)"
   ]
  },
  {
   "cell_type": "code",
   "execution_count": 63,
   "id": "1cc24652-ea70-415f-b7b4-2e02d6b04700",
   "metadata": {},
   "outputs": [
    {
     "data": {
      "text/plain": [
       "array([[2, 2, 2],\n",
       "       [2, 1, 3],\n",
       "       [1, 2, 2]])"
      ]
     },
     "execution_count": 63,
     "metadata": {},
     "output_type": "execute_result"
    }
   ],
   "source": [
    "a1"
   ]
  },
  {
   "cell_type": "code",
   "execution_count": 64,
   "id": "77b6ec43-f00b-4803-9396-80c5bcd41557",
   "metadata": {},
   "outputs": [
    {
     "data": {
      "text/plain": [
       "array([[1],\n",
       "       [2],\n",
       "       [3]])"
      ]
     },
     "execution_count": 64,
     "metadata": {},
     "output_type": "execute_result"
    }
   ],
   "source": [
    "a"
   ]
  },
  {
   "cell_type": "code",
   "execution_count": 94,
   "id": "768cc967-5076-4b16-87d5-40031936454a",
   "metadata": {},
   "outputs": [],
   "source": [
    "a2=np.multiply(a1,a)"
   ]
  },
  {
   "cell_type": "code",
   "execution_count": 66,
   "id": "a649c5b5-320a-47de-bed0-ea0ddeb364d0",
   "metadata": {},
   "outputs": [
    {
     "data": {
      "text/plain": [
       "array([[0, 0, 0],\n",
       "       [0, 1, 1],\n",
       "       [1, 2, 2]])"
      ]
     },
     "execution_count": 66,
     "metadata": {},
     "output_type": "execute_result"
    }
   ],
   "source": [
    "np.mod(a1,a)#reminder of division"
   ]
  },
  {
   "cell_type": "code",
   "execution_count": 68,
   "id": "cdd2c9d1-988f-4b72-8528-c44ece91c94b",
   "metadata": {},
   "outputs": [
    {
     "data": {
      "text/plain": [
       "array([[1.41421356, 1.41421356, 1.41421356],\n",
       "       [1.41421356, 1.        , 1.73205081],\n",
       "       [1.        , 1.41421356, 1.41421356]])"
      ]
     },
     "execution_count": 68,
     "metadata": {},
     "output_type": "execute_result"
    }
   ],
   "source": [
    "np.sqrt(a1)"
   ]
  },
  {
   "cell_type": "markdown",
   "id": "b6cde1aa-2d29-46ee-9c72-1f93d898bd7e",
   "metadata": {},
   "source": [
    "searching and sorting in numpy array"
   ]
  },
  {
   "cell_type": "code",
   "execution_count": 69,
   "id": "9c66bda0-6020-4f6f-9f2e-b34fe46b50fa",
   "metadata": {},
   "outputs": [],
   "source": [
    "e=np.array([5,6,1,2])"
   ]
  },
  {
   "cell_type": "code",
   "execution_count": 70,
   "id": "32e1b22f-fb2d-4390-b313-79a61eb89de8",
   "metadata": {},
   "outputs": [
    {
     "data": {
      "text/plain": [
       "array([5, 6, 1, 2])"
      ]
     },
     "execution_count": 70,
     "metadata": {},
     "output_type": "execute_result"
    }
   ],
   "source": [
    "e"
   ]
  },
  {
   "cell_type": "code",
   "execution_count": 71,
   "id": "126d19d3-5a19-474e-a9fb-32acbe1facb4",
   "metadata": {},
   "outputs": [
    {
     "data": {
      "text/plain": [
       "array([1, 2, 5, 6])"
      ]
     },
     "execution_count": 71,
     "metadata": {},
     "output_type": "execute_result"
    }
   ],
   "source": [
    "np.sort(e)#Return a sorted copy of an array."
   ]
  },
  {
   "cell_type": "code",
   "execution_count": 78,
   "id": "ad30e37d-b436-4d12-b6a8-2719087cd44d",
   "metadata": {},
   "outputs": [],
   "source": [
    "f= np.array([5,199,200,6,7,8])"
   ]
  },
  {
   "cell_type": "code",
   "execution_count": 79,
   "id": "3486d71c-6b07-492e-b989-6c03a5e9581a",
   "metadata": {},
   "outputs": [
    {
     "data": {
      "text/plain": [
       "array([  5,   6,   7,   8, 199, 200])"
      ]
     },
     "execution_count": 79,
     "metadata": {},
     "output_type": "execute_result"
    }
   ],
   "source": [
    "np.sort(f)"
   ]
  },
  {
   "cell_type": "code",
   "execution_count": 80,
   "id": "3dd7f545-b308-4c09-a653-621a73f01b93",
   "metadata": {},
   "outputs": [
    {
     "data": {
      "text/plain": [
       "6"
      ]
     },
     "execution_count": 80,
     "metadata": {},
     "output_type": "execute_result"
    }
   ],
   "source": [
    "np.searchsorted(f,170)#Find indices where elements should be inserted to maintain order.Find the indices into a sorted array `a` such that, if the\n",
    "                  #corresponding elements in `v` were inserted before the indices, the order of `a` would be preserved.\n"
   ]
  },
  {
   "cell_type": "code",
   "execution_count": 81,
   "id": "5b9bd137-7d9f-40f7-a0e2-d1b8e62712fa",
   "metadata": {},
   "outputs": [],
   "source": [
    "f= np.array([5,199,200,6,7,8,0,0,0,0,0])"
   ]
  },
  {
   "cell_type": "code",
   "execution_count": 82,
   "id": "7b62afd1-011a-46a9-bcb8-a270955852a9",
   "metadata": {},
   "outputs": [
    {
     "data": {
      "text/plain": [
       "array([  5, 199, 200,   6,   7,   8,   0,   0,   0,   0,   0])"
      ]
     },
     "execution_count": 82,
     "metadata": {},
     "output_type": "execute_result"
    }
   ],
   "source": [
    "f"
   ]
  },
  {
   "cell_type": "code",
   "execution_count": 85,
   "id": "d3ad28c0-fe7c-49f0-aed1-6a0b1b7effe5",
   "metadata": {},
   "outputs": [
    {
     "data": {
      "text/plain": [
       "6"
      ]
     },
     "execution_count": 85,
     "metadata": {},
     "output_type": "execute_result"
    }
   ],
   "source": [
    "np.count_nonzero(f)"
   ]
  },
  {
   "cell_type": "code",
   "execution_count": 86,
   "id": "43f64e72-3898-4d1f-a541-8e0bf29787b2",
   "metadata": {},
   "outputs": [
    {
     "data": {
      "text/plain": [
       "array([  5, 199, 200,   6,   7,   8])"
      ]
     },
     "execution_count": 86,
     "metadata": {},
     "output_type": "execute_result"
    }
   ],
   "source": [
    "f[f>0]"
   ]
  },
  {
   "cell_type": "code",
   "execution_count": 87,
   "id": "af132334-31dc-4de1-aace-b03729ad1e85",
   "metadata": {},
   "outputs": [
    {
     "data": {
      "text/plain": [
       "(array([0, 1, 2, 3, 4, 5]),)"
      ]
     },
     "execution_count": 87,
     "metadata": {},
     "output_type": "execute_result"
    }
   ],
   "source": [
    "np.where(f>0)"
   ]
  },
  {
   "cell_type": "code",
   "execution_count": 88,
   "id": "12be65b0-3bf2-44d3-8b9e-48e17e28816e",
   "metadata": {},
   "outputs": [
    {
     "data": {
      "text/plain": [
       "array([  5, 199, 200,   6,   7,   8])"
      ]
     },
     "execution_count": 88,
     "metadata": {},
     "output_type": "execute_result"
    }
   ],
   "source": [
    "np.extract(f>0,f)"
   ]
  },
  {
   "cell_type": "code",
   "execution_count": 90,
   "id": "2b2b8e1d-b7e5-445b-9cfe-d34e5bda4318",
   "metadata": {},
   "outputs": [
    {
     "data": {
      "text/plain": [
       "array([  360287970189639680, -4107282860161892352, -4035225266123964416,\n",
       "         432345564227567616,   504403158265495552,   576460752303423488,\n",
       "                          0,                    0,                    0,\n",
       "                          0,                    0])"
      ]
     },
     "execution_count": 90,
     "metadata": {},
     "output_type": "execute_result"
    }
   ],
   "source": [
    "f.byteswap()#Swap the bytes of the array elements"
   ]
  },
  {
   "cell_type": "code",
   "execution_count": 91,
   "id": "552b0104-40fa-4e32-a795-b38b0ebcd0eb",
   "metadata": {},
   "outputs": [],
   "source": [
    "import numpy.matlib as nm"
   ]
  },
  {
   "cell_type": "code",
   "execution_count": 92,
   "id": "20c7f9e3-2ee0-4eb4-948b-4978cfbc00aa",
   "metadata": {},
   "outputs": [
    {
     "data": {
      "text/plain": [
       "matrix([[0., 0., 0., 0., 0.]])"
      ]
     },
     "execution_count": 92,
     "metadata": {},
     "output_type": "execute_result"
    }
   ],
   "source": [
    "nm.zeros(5)"
   ]
  },
  {
   "cell_type": "code",
   "execution_count": 93,
   "id": "2b3f3d23-918b-4aed-bcec-bf479c696df1",
   "metadata": {},
   "outputs": [
    {
     "data": {
      "text/plain": [
       "array([[1., 1., 1., 1.],\n",
       "       [1., 1., 1., 1.],\n",
       "       [1., 1., 1., 1.]])"
      ]
     },
     "execution_count": 93,
     "metadata": {},
     "output_type": "execute_result"
    }
   ],
   "source": [
    "np.ones((3,4))"
   ]
  },
  {
   "cell_type": "markdown",
   "id": "2de6315a-6d55-4d1a-94ea-5f9cea9fb746",
   "metadata": {},
   "source": [
    "numpy liner algebra function"
   ]
  },
  {
   "cell_type": "code",
   "execution_count": 95,
   "id": "f3c7e25c-c53e-4cac-8e8a-e5076ba7dc37",
   "metadata": {},
   "outputs": [
    {
     "data": {
      "text/plain": [
       "array([[2, 2, 2],\n",
       "       [2, 1, 3],\n",
       "       [1, 2, 2]])"
      ]
     },
     "execution_count": 95,
     "metadata": {},
     "output_type": "execute_result"
    }
   ],
   "source": [
    "a1"
   ]
  },
  {
   "cell_type": "code",
   "execution_count": 96,
   "id": "5baa7d1e-85ba-4ab8-9633-a52524643338",
   "metadata": {},
   "outputs": [
    {
     "data": {
      "text/plain": [
       "array([[2, 2, 2],\n",
       "       [4, 2, 6],\n",
       "       [3, 6, 6]])"
      ]
     },
     "execution_count": 96,
     "metadata": {},
     "output_type": "execute_result"
    }
   ],
   "source": [
    "a2"
   ]
  },
  {
   "cell_type": "code",
   "execution_count": 98,
   "id": "12958274-686c-4f8c-8c19-bb172e789251",
   "metadata": {},
   "outputs": [
    {
     "data": {
      "text/plain": [
       "-23.999999999999993"
      ]
     },
     "execution_count": 98,
     "metadata": {},
     "output_type": "execute_result"
    }
   ],
   "source": [
    "np.linalg.det(a2)"
   ]
  },
  {
   "cell_type": "code",
   "execution_count": 100,
   "id": "0c2364b6-93f3-4f90-80a2-1645a85797a2",
   "metadata": {},
   "outputs": [
    {
     "data": {
      "text/plain": [
       "array([[ 1.  ,  0.  , -1.  ],\n",
       "       [ 0.25, -0.5 ,  0.5 ],\n",
       "       [-0.75,  0.5 ,  0.5 ]])"
      ]
     },
     "execution_count": 100,
     "metadata": {},
     "output_type": "execute_result"
    }
   ],
   "source": [
    "np.linalg.inv(a1)#in matrin you can not divide matrix you have inverse"
   ]
  },
  {
   "cell_type": "code",
   "execution_count": 101,
   "id": "f8abb349-4c31-4c06-9a57-643c7af22d7f",
   "metadata": {},
   "outputs": [],
   "source": [
    "a=np.array([[7,5.3,-3],[3,-5,2],[5,3,-7]])"
   ]
  },
  {
   "cell_type": "code",
   "execution_count": 105,
   "id": "0be7d92e-69f7-4c3c-bc74-ee22f67bb1d5",
   "metadata": {},
   "outputs": [
    {
     "data": {
      "text/plain": [
       "array([[ 7. ,  5.3, -3. ],\n",
       "       [ 3. , -5. ,  2. ],\n",
       "       [ 5. ,  3. , -7. ]])"
      ]
     },
     "execution_count": 105,
     "metadata": {},
     "output_type": "execute_result"
    }
   ],
   "source": [
    "a"
   ]
  },
  {
   "cell_type": "code",
   "execution_count": 106,
   "id": "300e989a-c3a4-4054-8f35-a657043415ae",
   "metadata": {},
   "outputs": [],
   "source": [
    "b=np.array([16,8,0])"
   ]
  },
  {
   "cell_type": "code",
   "execution_count": 107,
   "id": "7aeae84e-72b6-4080-9bdb-a308683a2bc1",
   "metadata": {},
   "outputs": [
    {
     "data": {
      "text/plain": [
       "array([2.59630607, 0.84432718, 2.21635884])"
      ]
     },
     "execution_count": 107,
     "metadata": {},
     "output_type": "execute_result"
    }
   ],
   "source": [
    "np.linalg.solve(a,b)"
   ]
  },
  {
   "cell_type": "code",
   "execution_count": 4,
   "id": "82838b77-f9a0-4e9a-bdd6-65e1bae9ff5c",
   "metadata": {},
   "outputs": [],
   "source": [
    "d = {\"Ram\": 500, \"Shyam\": 300}"
   ]
  },
  {
   "cell_type": "code",
   "execution_count": 6,
   "id": "c57ea6c2-1afa-46db-a285-82e954057f76",
   "metadata": {},
   "outputs": [
    {
     "data": {
      "text/plain": [
       "array({'Ram': 500, 'Shyam': 300}, dtype=object)"
      ]
     },
     "execution_count": 6,
     "metadata": {},
     "output_type": "execute_result"
    }
   ],
   "source": [
    "np.asarray(d)"
   ]
  },
  {
   "cell_type": "code",
   "execution_count": 9,
   "id": "013e08f3-5444-4c6b-9907-c399182cb26f",
   "metadata": {},
   "outputs": [
    {
     "data": {
      "text/plain": [
       "array([0, 1, 2, 3, 4])"
      ]
     },
     "execution_count": 9,
     "metadata": {},
     "output_type": "execute_result"
    }
   ],
   "source": [
    "#make an array from tuple iterables \n",
    "iterator = (i for i in range(5))\n",
    "np.fromiter(iterator,int)"
   ]
  },
  {
   "cell_type": "code",
   "execution_count": 11,
   "id": "dc97ffca-498f-4f6b-a280-af88bcc9d5b8",
   "metadata": {},
   "outputs": [
    {
     "data": {
      "text/plain": [
       "array([ 1.        ,  1.32885906,  1.65771812,  1.98657718,  2.31543624,\n",
       "        2.6442953 ,  2.97315436,  3.30201342,  3.63087248,  3.95973154,\n",
       "        4.2885906 ,  4.61744966,  4.94630872,  5.27516779,  5.60402685,\n",
       "        5.93288591,  6.26174497,  6.59060403,  6.91946309,  7.24832215,\n",
       "        7.57718121,  7.90604027,  8.23489933,  8.56375839,  8.89261745,\n",
       "        9.22147651,  9.55033557,  9.87919463, 10.20805369, 10.53691275,\n",
       "       10.86577181, 11.19463087, 11.52348993, 11.85234899, 12.18120805,\n",
       "       12.51006711, 12.83892617, 13.16778523, 13.4966443 , 13.82550336,\n",
       "       14.15436242, 14.48322148, 14.81208054, 15.1409396 , 15.46979866,\n",
       "       15.79865772, 16.12751678, 16.45637584, 16.7852349 , 17.11409396,\n",
       "       17.44295302, 17.77181208, 18.10067114, 18.4295302 , 18.75838926,\n",
       "       19.08724832, 19.41610738, 19.74496644, 20.0738255 , 20.40268456,\n",
       "       20.73154362, 21.06040268, 21.38926174, 21.71812081, 22.04697987,\n",
       "       22.37583893, 22.70469799, 23.03355705, 23.36241611, 23.69127517,\n",
       "       24.02013423, 24.34899329, 24.67785235, 25.00671141, 25.33557047,\n",
       "       25.66442953, 25.99328859, 26.32214765, 26.65100671, 26.97986577,\n",
       "       27.30872483, 27.63758389, 27.96644295, 28.29530201, 28.62416107,\n",
       "       28.95302013, 29.28187919, 29.61073826, 29.93959732, 30.26845638,\n",
       "       30.59731544, 30.9261745 , 31.25503356, 31.58389262, 31.91275168,\n",
       "       32.24161074, 32.5704698 , 32.89932886, 33.22818792, 33.55704698,\n",
       "       33.88590604, 34.2147651 , 34.54362416, 34.87248322, 35.20134228,\n",
       "       35.53020134, 35.8590604 , 36.18791946, 36.51677852, 36.84563758,\n",
       "       37.17449664, 37.5033557 , 37.83221477, 38.16107383, 38.48993289,\n",
       "       38.81879195, 39.14765101, 39.47651007, 39.80536913, 40.13422819,\n",
       "       40.46308725, 40.79194631, 41.12080537, 41.44966443, 41.77852349,\n",
       "       42.10738255, 42.43624161, 42.76510067, 43.09395973, 43.42281879,\n",
       "       43.75167785, 44.08053691, 44.40939597, 44.73825503, 45.06711409,\n",
       "       45.39597315, 45.72483221, 46.05369128, 46.38255034, 46.7114094 ,\n",
       "       47.04026846, 47.36912752, 47.69798658, 48.02684564, 48.3557047 ,\n",
       "       48.68456376, 49.01342282, 49.34228188, 49.67114094, 50.        ])"
      ]
     },
     "execution_count": 11,
     "metadata": {},
     "output_type": "execute_result"
    }
   ],
   "source": [
    "np.linspace(1,50,150)"
   ]
  },
  {
   "cell_type": "code",
   "execution_count": null,
   "id": "cf297240-0cca-4a42-b58f-75c0e20fc524",
   "metadata": {},
   "outputs": [],
   "source": []
  },
  {
   "cell_type": "code",
   "execution_count": null,
   "id": "6d337572-1cf1-4ea5-a408-2097764afd09",
   "metadata": {},
   "outputs": [],
   "source": []
  },
  {
   "cell_type": "code",
   "execution_count": null,
   "id": "dcbfeac7-579d-44a8-80de-e406808c9d78",
   "metadata": {},
   "outputs": [],
   "source": []
  },
  {
   "cell_type": "code",
   "execution_count": null,
   "id": "bdda5ea3-8db1-4c34-8466-f9e279fdfbf8",
   "metadata": {},
   "outputs": [],
   "source": []
  }
 ],
 "metadata": {
  "kernelspec": {
   "display_name": "Python 3 (ipykernel)",
   "language": "python",
   "name": "python3"
  },
  "language_info": {
   "codemirror_mode": {
    "name": "ipython",
    "version": 3
   },
   "file_extension": ".py",
   "mimetype": "text/x-python",
   "name": "python",
   "nbconvert_exporter": "python",
   "pygments_lexer": "ipython3",
   "version": "3.10.8"
  }
 },
 "nbformat": 4,
 "nbformat_minor": 5
}
