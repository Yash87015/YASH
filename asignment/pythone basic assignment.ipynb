{
 "cells": [
  {
   "cell_type": "markdown",
   "id": "9339e319-9465-47c2-a734-9de8195b2b89",
   "metadata": {},
   "source": [
    "# python basic assignment\n"
   ]
  },
  {
   "cell_type": "markdown",
   "id": "09614fde-c382-48f7-9240-861873f7e9dc",
   "metadata": {},
   "source": [
    "## Question 1 Explain the key feature of python that make it a popular choice for programming?"
   ]
  },
  {
   "cell_type": "markdown",
   "id": "1d229836-6927-49b0-ab77-5108c4da3dad",
   "metadata": {},
   "source": [
    "### Ans \n",
    "(1)python is very easy to learn and huge active community also python have a lot of libraries around 137000.\n",
    "\n",
    "(2)python easy to use machine lauguage , data scientis and data industry etc.. There are lot of also use in other industry like aotomation,image process, etc...\n",
    "\n",
    "(3)python is interpreted laungaueg , dynamically typed and free and open source programing laungage.\n",
    "above all of the reasons and key feature of python that make it a popular choise for programmin"
   ]
  },
  {
   "cell_type": "raw",
   "id": "c6d4a71f-265e-4574-af77-81e849eb15cf",
   "metadata": {},
   "source": [
    "\n"
   ]
  },
  {
   "cell_type": "markdown",
   "id": "bae81cc5-30fe-4ed9-b233-af4158fce013",
   "metadata": {},
   "source": [
    "## Quation 2 Describe the role of predefined keywords in Python and provide examples of how they are used in a program?\n"
   ]
  },
  {
   "cell_type": "markdown",
   "id": "bec5eee9-3b24-4184-a6c5-cf6e3da8ed0e",
   "metadata": {},
   "source": [
    "### Ans"
   ]
  },
  {
   "cell_type": "code",
   "execution_count": 3,
   "id": "37313804-0dad-4108-a147-68adc6c283d0",
   "metadata": {},
   "outputs": [
    {
     "name": "stdout",
     "output_type": "stream",
     "text": [
      "\n",
      "Here is a list of the Python keywords.  Enter any keyword to get more help.\n",
      "\n",
      "False               class               from                or\n",
      "None                continue            global              pass\n",
      "True                def                 if                  raise\n",
      "and                 del                 import              return\n",
      "as                  elif                in                  try\n",
      "assert              else                is                  while\n",
      "async               except              lambda              with\n",
      "await               finally             nonlocal            yield\n",
      "break               for                 not                 \n",
      "\n"
     ]
    }
   ],
   "source": [
    "help('keywords')"
   ]
  },
  {
   "cell_type": "raw",
   "id": "0c05268a-ca61-440e-a71c-4fce942aa2bd",
   "metadata": {},
   "source": [
    "above all of the world is predefiend key world and their are different type of uses that i explain below\n",
    "\n",
    "first of all lets run  simple program\n"
   ]
  },
  {
   "cell_type": "code",
   "execution_count": 4,
   "id": "474f419b-09c8-4709-806d-8d839d2136dc",
   "metadata": {},
   "outputs": [
    {
     "name": "stdout",
     "output_type": "stream",
     "text": [
      "i love python\n"
     ]
    }
   ],
   "source": [
    "a=\"i love python\" #print statement one of the predefind keyworld that use print the output that i asiign the varible. variable means [a]\n",
    "print(a)"
   ]
  },
  {
   "cell_type": "code",
   "execution_count": 12,
   "id": "1db12965-260a-42bf-9955-bec71e76359e",
   "metadata": {},
   "outputs": [
    {
     "data": {
      "text/plain": [
       "bool"
      ]
     },
     "execution_count": 12,
     "metadata": {},
     "output_type": "execute_result"
    }
   ],
   "source": [
    "#hence its prove True and False is bool value and also we use type as a predefiend keyworld to see which value we assign in variable\n",
    "#example 2.3\n",
    "a = True\n",
    "type(a)"
   ]
  },
  {
   "cell_type": "code",
   "execution_count": null,
   "id": "ac45d478-fbc2-4a48-9718-8edb3c493396",
   "metadata": {},
   "outputs": [],
   "source": []
  },
  {
   "cell_type": "raw",
   "id": "a8bdd9e5-ebba-44e9-a23d-493a22b8a9e9",
   "metadata": {},
   "source": [
    "now let see other predified keyworld and their uses in program \n",
    "\n",
    "first of all if , else , True , False , and , or , break , not , continue, in , while these are the keyworld and their uses of program  \n",
    "(1)if, elif, else  :-those are conditional statment that we can use when ever we have multiple choise in decision making there we can use if,elif and  else statment lets try with example\n",
    "those above statment use to creat google form to callect information from users and also use gread asigning system in education that we can use in example. {example 1}\n",
    "\n",
    "(2)True and False also in, not, is or statment :- True and False is bool value. when ever we use indentity operator and membership operator ther we can use as a output  true and false. these statment is True value indicate 1 and False value indicate 0 those are also see in example. Also see how to use thoes statment in pythone programming laugage. {example 2,2.1,2.2,2.3}\n",
    "    \n",
    "(3)while and for :-those are loop statment its using for creating a loop problem in mutiple chises . while we can also used of continue and break statment in there problem there we can see example of each\n",
    "    "
   ]
  },
  {
   "cell_type": "code",
   "execution_count": 1,
   "id": "41327f04-ca31-4f51-ae5b-716bcb7debd2",
   "metadata": {},
   "outputs": [
    {
     "name": "stdin",
     "output_type": "stream",
     "text": [
      " 96\n"
     ]
    },
    {
     "name": "stdout",
     "output_type": "stream",
     "text": [
      "topper student very good\n"
     ]
    }
   ],
   "source": [
    "#here we can use  if , else and elif keyworld to clarify that student is clever ,average ,good or topper by obtaied input from user [mark]\n",
    "#example 1\n",
    "student_obtained_mark = int(input())\n",
    "if (student_obtained_mark  <= 40):\n",
    "    print(\"just passing mark not good student need improvment\")\n",
    "elif (40 <= student_obtained_mark  <=50):\n",
    "    print(\"good mark but below average student need improvment\")\n",
    "elif (50 <= student_obtained_mark  <= 80):\n",
    "    print(\"average student but not clever student need improvment\") \n",
    "elif (80 <= student_obtained_mark  <=95):\n",
    "    print(\"cleaver student but not topper need improvment\")\n",
    "elif (student_obtained_mark >= 95):\n",
    "    print(\"topper student very good\")\n",
    "else:\n",
    "    print(\"cleaver student\")"
   ]
  },
  {
   "cell_type": "code",
   "execution_count": 3,
   "id": "b884f0be-cf9c-464a-99c3-cb9e454e2de5",
   "metadata": {},
   "outputs": [
    {
     "data": {
      "text/plain": [
       "8"
      ]
     },
     "execution_count": 3,
     "metadata": {},
     "output_type": "execute_result"
    }
   ],
   "source": [
    "#example 2\n",
    "#[example 2.1]\n",
    "#identity operator >> compare the location of the two object/variable\n",
    "a = 98\n",
    "b = 90\n",
    "a-b\n"
   ]
  },
  {
   "cell_type": "code",
   "execution_count": 4,
   "id": "b981e1fc-289a-4a07-a2ee-d1d984132ab2",
   "metadata": {},
   "outputs": [
    {
     "data": {
      "text/plain": [
       "False"
      ]
     },
     "execution_count": 4,
     "metadata": {},
     "output_type": "execute_result"
    }
   ],
   "source": [
    "a is b #her we use is statement"
   ]
  },
  {
   "cell_type": "code",
   "execution_count": 5,
   "id": "3fa087d1-1577-4d71-b215-0d113f00da9f",
   "metadata": {},
   "outputs": [
    {
     "data": {
      "text/plain": [
       "True"
      ]
     },
     "execution_count": 5,
     "metadata": {},
     "output_type": "execute_result"
    }
   ],
   "source": [
    "a is not b #here we use is and not stament in combine and ther is output is true or false "
   ]
  },
  {
   "cell_type": "code",
   "execution_count": 6,
   "id": "a448975d-2982-4a17-b060-045468debad6",
   "metadata": {},
   "outputs": [
    {
     "data": {
      "text/plain": [
       "True"
      ]
     },
     "execution_count": 6,
     "metadata": {},
     "output_type": "execute_result"
    }
   ],
   "source": [
    "#[example 2.2]\n",
    "# membership operator  #here we use in statment as predefiend keyworld\n",
    "a = \"jk upadyay sir\"\n",
    "\"j\" in a"
   ]
  },
  {
   "cell_type": "code",
   "execution_count": 104,
   "id": "21408d28-fbe1-48f9-8466-8b150c12d6f8",
   "metadata": {},
   "outputs": [
    {
     "data": {
      "text/plain": [
       "False"
      ]
     },
     "execution_count": 104,
     "metadata": {},
     "output_type": "execute_result"
    }
   ],
   "source": [
    "#hence its prove these statment is True value indicate 1 and False value indicate 0 those are also see in example \n",
    "#Also use and statment and or statment as a predefiend keyworld\n",
    "#example 2.3\n",
    "True and False"
   ]
  },
  {
   "cell_type": "code",
   "execution_count": 105,
   "id": "2be870c6-6cf9-4e87-a556-b2bca37031b8",
   "metadata": {
    "tags": []
   },
   "outputs": [
    {
     "data": {
      "text/plain": [
       "True"
      ]
     },
     "execution_count": 105,
     "metadata": {},
     "output_type": "execute_result"
    }
   ],
   "source": [
    "True or True"
   ]
  },
  {
   "cell_type": "code",
   "execution_count": 5,
   "id": "d073a4f4-a78e-4c7c-b30c-7039d87cd05d",
   "metadata": {},
   "outputs": [
    {
     "data": {
      "text/plain": [
       "False"
      ]
     },
     "execution_count": 5,
     "metadata": {},
     "output_type": "execute_result"
    }
   ],
   "source": [
    "5 == 3 "
   ]
  },
  {
   "cell_type": "raw",
   "id": "2cb482a6-6d4c-43b0-86e8-97ce96b595ab",
   "metadata": {},
   "source": [
    "those are the the predefiend keyworld in python and here we see 2 example how we can  use keyworld in program also other we can see in next quations"
   ]
  },
  {
   "cell_type": "code",
   "execution_count": null,
   "id": "825623bf-7216-4c64-8208-d2709b91e62b",
   "metadata": {},
   "outputs": [],
   "source": []
  },
  {
   "cell_type": "markdown",
   "id": "c5ff609b-34e4-4024-85cb-acfb56785979",
   "metadata": {},
   "source": [
    "## Question 3 Compare and contrast mutable and immutable objects in Python with examples ?"
   ]
  },
  {
   "cell_type": "markdown",
   "id": "89abb687-4d42-49c8-96b5-8994d9129aaf",
   "metadata": {},
   "source": [
    "### Ans"
   ]
  },
  {
   "cell_type": "raw",
   "id": "0177aedc-9c84-4ee0-b535-bee89b6772f2",
   "metadata": {},
   "source": [
    "Mutable:-mutable object means we can change the value or you can say edit the value in predefind variable \n",
    "mutable object we can say list is a mutable object\n",
    "\n",
    "Immutable:-Immutable object means we can not change the value in variable \n",
    "we can say tuple is immutable object\n",
    "string also immutable objet\n",
    "\n",
    "lets see with example"
   ]
  },
  {
   "cell_type": "code",
   "execution_count": 107,
   "id": "f6c55be5-6c2f-46e2-b76d-8ae5af9e79f5",
   "metadata": {},
   "outputs": [
    {
     "name": "stdout",
     "output_type": "stream",
     "text": [
      "[100, 2, 3, 'ajay', 4, 'bijay']\n"
     ]
    }
   ],
   "source": [
    "#mutablity #hence its prove list is a mutable object\n",
    "list1=[1,2,3,\"ajay\",4,\"bijay\"]\n",
    "list1[0]=100\n",
    "print(list1)"
   ]
  },
  {
   "cell_type": "code",
   "execution_count": 112,
   "id": "ffd05fde-77f9-47d1-be64-e1a3c5f6494a",
   "metadata": {},
   "outputs": [
    {
     "ename": "TypeError",
     "evalue": "'tuple' object does not support item assignment",
     "output_type": "error",
     "traceback": [
      "\u001b[0;31m---------------------------------------------------------------------------\u001b[0m",
      "\u001b[0;31mTypeError\u001b[0m                                 Traceback (most recent call last)",
      "Cell \u001b[0;32mIn[112], line 3\u001b[0m\n\u001b[1;32m      1\u001b[0m \u001b[38;5;66;03m#immutablity #hence its prove \u001b[39;00m\n\u001b[1;32m      2\u001b[0m a\u001b[38;5;241m=\u001b[39m(\u001b[38;5;241m2\u001b[39m,\u001b[38;5;241m4\u001b[39m)\n\u001b[0;32m----> 3\u001b[0m \u001b[43ma\u001b[49m\u001b[43m[\u001b[49m\u001b[38;5;241;43m0\u001b[39;49m\u001b[43m]\u001b[49m\u001b[38;5;241m=\u001b[39m\u001b[38;5;241m5\u001b[39m\n\u001b[1;32m      4\u001b[0m \u001b[38;5;28mprint\u001b[39m(a)\n",
      "\u001b[0;31mTypeError\u001b[0m: 'tuple' object does not support item assignment"
     ]
    }
   ],
   "source": [
    "#immutablity #hence its prove tuple is immutable object \n",
    "a=(2,4)\n",
    "a[0]=5\n",
    "print(a)"
   ]
  },
  {
   "cell_type": "code",
   "execution_count": null,
   "id": "514ce7f7-db27-4e22-b360-4bca9809d551",
   "metadata": {},
   "outputs": [],
   "source": []
  },
  {
   "cell_type": "markdown",
   "id": "1ea54679-381e-452d-a4ca-13d440e52540",
   "metadata": {},
   "source": [
    "## Question 4  Discuss the different types of operators in Python and provide examples of how they are used?"
   ]
  },
  {
   "cell_type": "markdown",
   "id": "049c61f3-47ac-4bff-8a2f-5ff71b6ec1a1",
   "metadata": {},
   "source": [
    "### Ans"
   ]
  },
  {
   "cell_type": "raw",
   "id": "fceba696-9af7-4ee0-a5a6-cbcf175cf984",
   "metadata": {},
   "source": [
    "there are  7 differnt type of operator in python \n",
    "(1)arithmatic operator\n",
    "(2)comparison operator\n",
    "(3)logical operator\n",
    "(4)bitwise operator\n",
    "(5)assignment operator\n",
    "(6)identity operator\n",
    "(7)membership operator"
   ]
  },
  {
   "cell_type": "markdown",
   "id": "077a30c3-f068-4b3e-b8ae-85d474cf38dc",
   "metadata": {},
   "source": [
    "(1)arithmatic operator:-this operator are used basic mathematical operation on number\n",
    "   example :- additional(+),substraction(-),multipication(*),division(/),modular(%),exponention(**),and floor division(//)"
   ]
  },
  {
   "cell_type": "code",
   "execution_count": 114,
   "id": "1e0d3710-7d30-4e08-8767-fb1fb28a775b",
   "metadata": {},
   "outputs": [
    {
     "data": {
      "text/plain": [
       "853"
      ]
     },
     "execution_count": 114,
     "metadata": {},
     "output_type": "execute_result"
    }
   ],
   "source": [
    "#these are simple addition opration example we can also do other operation in arithmatic operator\n",
    "a = 56\n",
    "b = 797\n",
    "a+b"
   ]
  },
  {
   "cell_type": "raw",
   "id": "92860dcd-f951-453e-9873-f4b4b9b8e40b",
   "metadata": {},
   "source": [
    "#(2)comparison operator:-These operator compare two values .\n",
    "Equal(==),Not equal(!=),Greater then(>),Less then(<),Greater than equal to (>=), Less then eual to(<=)"
   ]
  },
  {
   "cell_type": "code",
   "execution_count": 6,
   "id": "613bf395-afa0-41d6-a418-40586a0067e4",
   "metadata": {},
   "outputs": [
    {
     "data": {
      "text/plain": [
       "False"
      ]
     },
     "execution_count": 6,
     "metadata": {},
     "output_type": "execute_result"
    }
   ],
   "source": [
    "#these are simple 2 example greater than eual to and less than eual to . the output return value is boolean\n",
    "10<=5"
   ]
  },
  {
   "cell_type": "code",
   "execution_count": 7,
   "id": "3b84b22f-4942-45ff-bd78-dee4930e87d2",
   "metadata": {},
   "outputs": [
    {
     "data": {
      "text/plain": [
       "True"
      ]
     },
     "execution_count": 7,
     "metadata": {},
     "output_type": "execute_result"
    }
   ],
   "source": [
    "10>=5"
   ]
  },
  {
   "cell_type": "raw",
   "id": "f1638bff-63f4-47a8-9c8e-b0c5b6faa798",
   "metadata": {},
   "source": [
    "#logical operator:-These are used to combined multiple coditions.as output retrn in boolean value\n",
    "And(if both codition is true then value output is true oterwise always false.)\n",
    "Or(if one of the condion is true then value output is true oterwise false.)\n",
    "Not(if not true=false or not false = true.)"
   ]
  },
  {
   "cell_type": "code",
   "execution_count": 9,
   "id": "15276841-82e2-49a4-a5f5-06f462b0f27d",
   "metadata": {},
   "outputs": [
    {
     "data": {
      "text/plain": [
       "False"
      ]
     },
     "execution_count": 9,
     "metadata": {},
     "output_type": "execute_result"
    }
   ],
   "source": [
    "#her are some example \n",
    "True and False\n"
   ]
  },
  {
   "cell_type": "code",
   "execution_count": 10,
   "id": "5e4e3357-7077-4034-bf91-728c83043e98",
   "metadata": {},
   "outputs": [
    {
     "data": {
      "text/plain": [
       "True"
      ]
     },
     "execution_count": 10,
     "metadata": {},
     "output_type": "execute_result"
    }
   ],
   "source": [
    "True or False"
   ]
  },
  {
   "cell_type": "code",
   "execution_count": 11,
   "id": "a32d2398-d193-4887-9118-4e7db96ed7d8",
   "metadata": {},
   "outputs": [
    {
     "data": {
      "text/plain": [
       "True"
      ]
     },
     "execution_count": 11,
     "metadata": {},
     "output_type": "execute_result"
    }
   ],
   "source": [
    "not False"
   ]
  },
  {
   "cell_type": "raw",
   "id": "33572e86-1085-4e57-816d-a1e0324fcd39",
   "metadata": {},
   "source": [
    "Bitwise operator:These operator work at the binary level and used for manuplating bits.\n",
    "(1)Bitwise AND:-"
   ]
  }
 ],
 "metadata": {
  "kernelspec": {
   "display_name": "Python 3 (ipykernel)",
   "language": "python",
   "name": "python3"
  },
  "language_info": {
   "codemirror_mode": {
    "name": "ipython",
    "version": 3
   },
   "file_extension": ".py",
   "mimetype": "text/x-python",
   "name": "python",
   "nbconvert_exporter": "python",
   "pygments_lexer": "ipython3",
   "version": "3.10.8"
  }
 },
 "nbformat": 4,
 "nbformat_minor": 5
}
