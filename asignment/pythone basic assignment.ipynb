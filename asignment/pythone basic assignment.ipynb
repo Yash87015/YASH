{
 "cells": [
  {
   "cell_type": "markdown",
   "id": "9339e319-9465-47c2-a734-9de8195b2b89",
   "metadata": {},
   "source": [
    "# python basic assignment\n"
   ]
  },
  {
   "cell_type": "markdown",
   "id": "09614fde-c382-48f7-9240-861873f7e9dc",
   "metadata": {},
   "source": [
    "## Question 1 Explain the key feature of python that make it a popular choice for programming?"
   ]
  },
  {
   "cell_type": "markdown",
   "id": "1d229836-6927-49b0-ab77-5108c4da3dad",
   "metadata": {},
   "source": [
    "### Ans \n",
    "(1)python is very easy to learn and huge active community also python have a lot of libraries around 137000.\n",
    "\n",
    "(2)python easy to use machine lauguage , data scientis and data industry etc.. There are lot of also use in other industry like aotomation,image process, etc...\n",
    "\n",
    "(3)python is interpreted laungaueg , dynamically typed and free and open source programing laungage.\n",
    "above all of the reasons and key feature of python that make it a popular choise for programmin"
   ]
  },
  {
   "cell_type": "raw",
   "id": "c6d4a71f-265e-4574-af77-81e849eb15cf",
   "metadata": {},
   "source": [
    "\n"
   ]
  },
  {
   "cell_type": "markdown",
   "id": "bae81cc5-30fe-4ed9-b233-af4158fce013",
   "metadata": {},
   "source": [
    "## Quation 2 Describe the role of predefined keywords in Python and provide examples of how they are used in a program?\n"
   ]
  },
  {
   "cell_type": "markdown",
   "id": "bec5eee9-3b24-4184-a6c5-cf6e3da8ed0e",
   "metadata": {},
   "source": [
    "### Ans"
   ]
  },
  {
   "cell_type": "code",
   "execution_count": 13,
   "id": "37313804-0dad-4108-a147-68adc6c283d0",
   "metadata": {},
   "outputs": [
    {
     "name": "stdout",
     "output_type": "stream",
     "text": [
      "\n",
      "Here is a list of the Python keywords.  Enter any keyword to get more help.\n",
      "\n",
      "False               class               from                or\n",
      "None                continue            global              pass\n",
      "True                def                 if                  raise\n",
      "and                 del                 import              return\n",
      "as                  elif                in                  try\n",
      "assert              else                is                  while\n",
      "async               except              lambda              with\n",
      "await               finally             nonlocal            yield\n",
      "break               for                 not                 \n",
      "\n"
     ]
    }
   ],
   "source": [
    "help('keywords')"
   ]
  },
  {
   "cell_type": "markdown",
   "id": "7c12f95b-2a9c-4001-9caa-4ffaa5b496d4",
   "metadata": {},
   "source": [
    "### \n",
    "above all of the world is predefiend key world and their are different type of uses that i explain below\n",
    "\n",
    "first of all lets run  simple program"
   ]
  },
  {
   "cell_type": "code",
   "execution_count": 4,
   "id": "474f419b-09c8-4709-806d-8d839d2136dc",
   "metadata": {},
   "outputs": [
    {
     "name": "stdout",
     "output_type": "stream",
     "text": [
      "i love python\n"
     ]
    }
   ],
   "source": [
    "a=\"i love python\" #print statement one of the predefind keyworld that use print the output that i asiign the varible. variable means [a]\n",
    "print(a)"
   ]
  },
  {
   "cell_type": "code",
   "execution_count": 12,
   "id": "1db12965-260a-42bf-9955-bec71e76359e",
   "metadata": {},
   "outputs": [
    {
     "data": {
      "text/plain": [
       "bool"
      ]
     },
     "execution_count": 12,
     "metadata": {},
     "output_type": "execute_result"
    }
   ],
   "source": [
    "#hence its prove True and False is bool value and also we use type as a predefiend keyworld to see which value we assign in variable\n",
    "#example 2.3\n",
    "a = True\n",
    "type(a)"
   ]
  },
  {
   "cell_type": "code",
   "execution_count": null,
   "id": "ac45d478-fbc2-4a48-9718-8edb3c493396",
   "metadata": {},
   "outputs": [],
   "source": []
  },
  {
   "cell_type": "markdown",
   "id": "3c91273e-f9aa-4425-9c2c-758bdc48faac",
   "metadata": {},
   "source": [
    "### \n",
    "now let see other predified keyworld and their uses in program \n",
    "\n",
    "first of all if , else , True , False , and , or , break , not , continue, in , while these are the keyworld and their uses of program  \n",
    "(1)if, elif, else  :-those are conditional statment that we can use when ever we have multiple choise in decision making there we can use if,elif and  else statment lets try with example\n",
    "those above statment use to creat google form to callect information from users and also use gread asigning system in education that we can use in example. {example 6 in quation no . 6}\n",
    "\n",
    "(2)True and False also in, not, is or statment :- True and False is bool value. when ever we use indentity operator(example 4.1) and membership operator(example 4.2) ther we can use as a output  true and false. these statment is True value indicate 1 and False value indicate 0 those are also see in example. Also see how to use thoes statment in pythone programming laugage. \n",
    "    \n",
    "(3)while and for :-those are loop statment its using for creating a loop problem in mutiple chioes . while we can also used of continue and break statment in there problem there we can see example of each in { example 7 in quation no 7}\n",
    "    "
   ]
  },
  {
   "cell_type": "code",
   "execution_count": 4,
   "id": "b981e1fc-289a-4a07-a2ee-d1d984132ab2",
   "metadata": {},
   "outputs": [
    {
     "data": {
      "text/plain": [
       "False"
      ]
     },
     "execution_count": 4,
     "metadata": {},
     "output_type": "execute_result"
    }
   ],
   "source": [
    "a is b #her we use is statement"
   ]
  },
  {
   "cell_type": "code",
   "execution_count": 5,
   "id": "3fa087d1-1577-4d71-b215-0d113f00da9f",
   "metadata": {},
   "outputs": [
    {
     "data": {
      "text/plain": [
       "True"
      ]
     },
     "execution_count": 5,
     "metadata": {},
     "output_type": "execute_result"
    }
   ],
   "source": [
    "a is not b #here we use is and not stament in combine and ther is output is true or false "
   ]
  },
  {
   "cell_type": "code",
   "execution_count": 104,
   "id": "21408d28-fbe1-48f9-8466-8b150c12d6f8",
   "metadata": {},
   "outputs": [
    {
     "data": {
      "text/plain": [
       "False"
      ]
     },
     "execution_count": 104,
     "metadata": {},
     "output_type": "execute_result"
    }
   ],
   "source": [
    "#hence its prove these statment is True value indicate 1 and False value indicate 0 those are also see in example \n",
    "#Also use and statment and or statment as a predefiend keyworld\n",
    "#example 2.3\n",
    "True and False"
   ]
  },
  {
   "cell_type": "code",
   "execution_count": 105,
   "id": "2be870c6-6cf9-4e87-a556-b2bca37031b8",
   "metadata": {
    "tags": []
   },
   "outputs": [
    {
     "data": {
      "text/plain": [
       "True"
      ]
     },
     "execution_count": 105,
     "metadata": {},
     "output_type": "execute_result"
    }
   ],
   "source": [
    "True or True"
   ]
  },
  {
   "cell_type": "code",
   "execution_count": 5,
   "id": "d073a4f4-a78e-4c7c-b30c-7039d87cd05d",
   "metadata": {},
   "outputs": [
    {
     "data": {
      "text/plain": [
       "False"
      ]
     },
     "execution_count": 5,
     "metadata": {},
     "output_type": "execute_result"
    }
   ],
   "source": [
    "5 == 3 "
   ]
  },
  {
   "cell_type": "markdown",
   "id": "ac6995ca-c08d-4a93-ae56-59cc18a953e5",
   "metadata": {},
   "source": [
    "### \n",
    "those are the the predefiend keyworld in python and here we see 2 example how we can  use keyworld in program also other.\n",
    "we can see in next quations"
   ]
  },
  {
   "cell_type": "code",
   "execution_count": null,
   "id": "825623bf-7216-4c64-8208-d2709b91e62b",
   "metadata": {},
   "outputs": [],
   "source": []
  },
  {
   "cell_type": "markdown",
   "id": "c5ff609b-34e4-4024-85cb-acfb56785979",
   "metadata": {},
   "source": [
    "## Question 3 Compare and contrast mutable and immutable objects in Python with examples ?"
   ]
  },
  {
   "cell_type": "markdown",
   "id": "89abb687-4d42-49c8-96b5-8994d9129aaf",
   "metadata": {},
   "source": [
    "### Ans"
   ]
  },
  {
   "cell_type": "markdown",
   "id": "36930c29-9f3d-458a-968e-34dfd207ba03",
   "metadata": {},
   "source": [
    "### \n",
    "Mutable:-Object whose state or value can be changed after they are created are called mutable object on cointainer \n",
    "mutable object we can say list is a mutable object\n",
    "\n",
    "Immutable:Object whose state or value can not be  changed after they are created are called immutable object on cointainer \n",
    "we can say tuple is immutable object\n",
    "string also immutable objet\n",
    "\n",
    "lets see with example"
   ]
  },
  {
   "cell_type": "code",
   "execution_count": 107,
   "id": "f6c55be5-6c2f-46e2-b76d-8ae5af9e79f5",
   "metadata": {},
   "outputs": [
    {
     "name": "stdout",
     "output_type": "stream",
     "text": [
      "[100, 2, 3, 'ajay', 4, 'bijay']\n"
     ]
    }
   ],
   "source": [
    "#mutablity #hence its prove list is a mutable object\n",
    "list1=[1,2,3,\"ajay\",4,\"bijay\"]\n",
    "list1[0]=100\n",
    "print(list1)"
   ]
  },
  {
   "cell_type": "code",
   "execution_count": 16,
   "id": "514ce7f7-db27-4e22-b360-4bca9809d551",
   "metadata": {},
   "outputs": [
    {
     "ename": "TypeError",
     "evalue": "'tuple' object does not support item assignment",
     "output_type": "error",
     "traceback": [
      "\u001b[0;31m---------------------------------------------------------------------------\u001b[0m",
      "\u001b[0;31mTypeError\u001b[0m                                 Traceback (most recent call last)",
      "Cell \u001b[0;32mIn[16], line 3\u001b[0m\n\u001b[1;32m      1\u001b[0m \u001b[38;5;66;03m#immutablity #hence its prove tuple is immutable object \u001b[39;00m\n\u001b[1;32m      2\u001b[0m a\u001b[38;5;241m=\u001b[39m(\u001b[38;5;241m2\u001b[39m,\u001b[38;5;241m4\u001b[39m)\n\u001b[0;32m----> 3\u001b[0m \u001b[43ma\u001b[49m\u001b[43m[\u001b[49m\u001b[38;5;241;43m0\u001b[39;49m\u001b[43m]\u001b[49m\u001b[38;5;241m=\u001b[39m\u001b[38;5;241m5\u001b[39m\n\u001b[1;32m      4\u001b[0m \u001b[38;5;28mprint\u001b[39m(a) \u001b[38;5;66;03m#it will give you erorr\u001b[39;00m\n",
      "\u001b[0;31mTypeError\u001b[0m: 'tuple' object does not support item assignment"
     ]
    }
   ],
   "source": [
    "#immutablity #hence its prove tuple is immutable object \n",
    "a=(2,4)\n",
    "a[0]=5\n",
    "print(a) #it will give you erorr"
   ]
  },
  {
   "cell_type": "markdown",
   "id": "1ea54679-381e-452d-a4ca-13d440e52540",
   "metadata": {},
   "source": [
    "## Question 4  Discuss the different types of operators in Python and provide examples of how they are used?"
   ]
  },
  {
   "cell_type": "markdown",
   "id": "049c61f3-47ac-4bff-8a2f-5ff71b6ec1a1",
   "metadata": {},
   "source": [
    "### Ans"
   ]
  },
  {
   "cell_type": "markdown",
   "id": "4038946f-cbfb-4ce8-b1ba-4fd3095ab4a9",
   "metadata": {},
   "source": [
    "###\n",
    "there are  7 differnt type of operator in python \n",
    "\n",
    "(1)arithmatic operator\n",
    "(2)comparison operator\n",
    "(3)logical operator\n",
    "(4)bitwise operator\n",
    "(5)assignment operator\n",
    "(6)identity operator\n",
    "(7)membership operator"
   ]
  },
  {
   "cell_type": "markdown",
   "id": "e7939eaa-dd57-4cd1-9873-d1b7e668329b",
   "metadata": {},
   "source": [
    "### \n",
    "(1)arithmatic operator:-this operator are used basic mathematical operation on number\n",
    "   example :- additional(+),substraction(-),multipication(*),division(/),modular(%),exponention(**),and floor division(//)"
   ]
  },
  {
   "cell_type": "code",
   "execution_count": 114,
   "id": "1e0d3710-7d30-4e08-8767-fb1fb28a775b",
   "metadata": {},
   "outputs": [
    {
     "data": {
      "text/plain": [
       "853"
      ]
     },
     "execution_count": 114,
     "metadata": {},
     "output_type": "execute_result"
    }
   ],
   "source": [
    "#these are simple addition opration example we can also do other operation in arithmatic operator\n",
    "a = 56\n",
    "b = 797\n",
    "a+b"
   ]
  },
  {
   "cell_type": "markdown",
   "id": "f11b8f4d-a3c8-440a-b514-33579a16a67e",
   "metadata": {},
   "source": [
    "### \n",
    "(2)comparison operator:-These operator compare two values .\n",
    "Equal(==),Not equal(!=),Greater then(>),Less then(<),Greater than equal to (>=), Less then eual to(<=)"
   ]
  },
  {
   "cell_type": "code",
   "execution_count": 6,
   "id": "613bf395-afa0-41d6-a418-40586a0067e4",
   "metadata": {},
   "outputs": [
    {
     "data": {
      "text/plain": [
       "False"
      ]
     },
     "execution_count": 6,
     "metadata": {},
     "output_type": "execute_result"
    }
   ],
   "source": [
    "#these are simple 2 example greater than eual to and less than eual to . the output return value is boolean\n",
    "10<=5"
   ]
  },
  {
   "cell_type": "code",
   "execution_count": 7,
   "id": "3b84b22f-4942-45ff-bd78-dee4930e87d2",
   "metadata": {},
   "outputs": [
    {
     "data": {
      "text/plain": [
       "True"
      ]
     },
     "execution_count": 7,
     "metadata": {},
     "output_type": "execute_result"
    }
   ],
   "source": [
    "10>=5"
   ]
  },
  {
   "cell_type": "markdown",
   "id": "3e4e9b3f-c2c8-4d1e-8251-75298c84b9e5",
   "metadata": {},
   "source": [
    "### \n",
    "(3)logical operator:-These are used to combined multiple coditions.as output retrn in boolean value\n",
    "And(if both codition is true then value output is true oterwise always false.)\n",
    "Or(if one of the condion is true then value output is true oterwise false.)\n",
    "Not(if not true=false or not false = true.)"
   ]
  },
  {
   "cell_type": "code",
   "execution_count": 9,
   "id": "15276841-82e2-49a4-a5f5-06f462b0f27d",
   "metadata": {},
   "outputs": [
    {
     "data": {
      "text/plain": [
       "False"
      ]
     },
     "execution_count": 9,
     "metadata": {},
     "output_type": "execute_result"
    }
   ],
   "source": [
    "#her are some example \n",
    "True and False\n"
   ]
  },
  {
   "cell_type": "code",
   "execution_count": 10,
   "id": "5e4e3357-7077-4034-bf91-728c83043e98",
   "metadata": {},
   "outputs": [
    {
     "data": {
      "text/plain": [
       "True"
      ]
     },
     "execution_count": 10,
     "metadata": {},
     "output_type": "execute_result"
    }
   ],
   "source": [
    "True or False"
   ]
  },
  {
   "cell_type": "code",
   "execution_count": 11,
   "id": "a32d2398-d193-4887-9118-4e7db96ed7d8",
   "metadata": {},
   "outputs": [
    {
     "data": {
      "text/plain": [
       "True"
      ]
     },
     "execution_count": 11,
     "metadata": {},
     "output_type": "execute_result"
    }
   ],
   "source": [
    "not False"
   ]
  },
  {
   "cell_type": "markdown",
   "id": "2c5b3e31-d245-4583-971c-b8ffba05481d",
   "metadata": {},
   "source": [
    "### \n",
    "(4)Bitwise operator:These operator work at the binary level and used for manuplating bits.\n",
    "(1.1)Bitwise AND(&):-Compare each bit of the first operand to the corresponding bit of the secound operand and return 1 if both bits are 1.\n",
    "\n",
    "(1.2)Bitwise OR(|):-Compare each bit of the first operand to the corresponding bit of the secound operand and return 1 if at least one of the bits is 1.\n",
    "\n",
    "(1.3)Bitwise XOR(^):-Compare each bit of the first operand to the corresponding bit of the secound operand and return 1 if the bits are different.\n",
    "\n",
    "(1.4)Bitwise NOT(~):-invert the bits of the operand.\n",
    "\n",
    "(1.5)Bitwise shift operator:- there are two type of bitwise operator {1} left shift operator(<<) ,{2}right shift operator(>>)\n",
    "\n",
    "{1.5.1}Left shift operator(<<) :- shift the bits of the first operand to the left by the number of positions specified by the secound operand.(left shift operator adding last 3 bit 0 from left in opearation)\n",
    "{1.5.2}Right shift operator(>>):-shift the bits of the first operand to the right by the number of positions specified by the secound operand.(Right shift operator remove last 3 ditit from left)\n",
    "\n",
    "Above all the opeartor we see each one example"
   ]
  },
  {
   "cell_type": "code",
   "execution_count": 1,
   "id": "2e9bcae8-d692-46eb-a6df-c2e3c072c50d",
   "metadata": {},
   "outputs": [
    {
     "data": {
      "text/plain": [
       "4"
      ]
     },
     "execution_count": 1,
     "metadata": {},
     "output_type": "execute_result"
    }
   ],
   "source": [
    "#Bitwise AND(&)\n",
    "5 & 4 #0101 & 0100 = 0100 hence its prove 4"
   ]
  },
  {
   "cell_type": "code",
   "execution_count": 2,
   "id": "43a1a685-06ca-4410-9109-05deb5964ae4",
   "metadata": {},
   "outputs": [
    {
     "data": {
      "text/plain": [
       "5"
      ]
     },
     "execution_count": 2,
     "metadata": {},
     "output_type": "execute_result"
    }
   ],
   "source": [
    "#Bitwise OR(|)\n",
    "5 | 4 #0101 | 0100 = 0101 hence its prove 5"
   ]
  },
  {
   "cell_type": "code",
   "execution_count": 3,
   "id": "665ca736-e412-465b-8bcc-0be5a4b677dc",
   "metadata": {},
   "outputs": [
    {
     "data": {
      "text/plain": [
       "1"
      ]
     },
     "execution_count": 3,
     "metadata": {},
     "output_type": "execute_result"
    }
   ],
   "source": [
    "#Bitwise XOR(^)\n",
    "5 ^ 4 #0101 ^ 0100 = 0001"
   ]
  },
  {
   "cell_type": "code",
   "execution_count": 8,
   "id": "3008dc31-68d3-4a2c-9704-9f52c30f976c",
   "metadata": {},
   "outputs": [
    {
     "data": {
      "text/plain": [
       "-6"
      ]
     },
     "execution_count": 8,
     "metadata": {},
     "output_type": "execute_result"
    }
   ],
   "source": [
    "#Bitwise NOT(~)\n",
    "~5 # 0101 it gives -0110"
   ]
  },
  {
   "cell_type": "code",
   "execution_count": 9,
   "id": "84904770-cf75-44a1-a762-1fdb709dfdb7",
   "metadata": {},
   "outputs": [
    {
     "data": {
      "text/plain": [
       "80"
      ]
     },
     "execution_count": 9,
     "metadata": {},
     "output_type": "execute_result"
    }
   ],
   "source": [
    "#Left shift operator(<<)\n",
    "5 << 4 #0101 adding last 4 times 0 its output is 01010000 hence its prove 80"
   ]
  },
  {
   "cell_type": "code",
   "execution_count": 11,
   "id": "3221e0d1-747c-4845-9dd2-1917aa2ba027",
   "metadata": {},
   "outputs": [
    {
     "data": {
      "text/plain": [
       "2"
      ]
     },
     "execution_count": 11,
     "metadata": {},
     "output_type": "execute_result"
    }
   ],
   "source": [
    "#Right shift operator(>>)\n",
    "5 >> 1 #0101 remove last 1 digit the output is 010 hence its prove 2"
   ]
  },
  {
   "cell_type": "markdown",
   "id": "922ba87d-017e-49df-a644-c2c95591f355",
   "metadata": {},
   "source": [
    "### \n",
    "(5)assignment operator:-These operator assign value to variable. \n",
    "\n",
    "Assign(=),Add and assign(+=),Subtract and assign(-=),Multiply and assign(*=),Divide and assign(/=),Modular and assign(%=),Exponetiation and assign(**=),Floor division and assign(//=),Bitwise And and assign(&=),Bitwise or and assign(|=),Bitwise xor and assign(^=),Left shift and assign(<<=),Right shift and assign(>>=)."
   ]
  },
  {
   "cell_type": "code",
   "execution_count": 25,
   "id": "c4e77f7b-b747-40c5-b8ae-ea37014f284d",
   "metadata": {},
   "outputs": [
    {
     "name": "stdout",
     "output_type": "stream",
     "text": [
      "10\n"
     ]
    }
   ],
   "source": [
    "#Assign(=),Left shift and assign(<<=)  these  example show using two assignment operator other\n",
    "#also we can do with same type of example only change the sign \n",
    "x = 5\n",
    "x <<= 1\n",
    "print(x)"
   ]
  },
  {
   "cell_type": "markdown",
   "id": "bf93cb35-4c6c-4d77-b356-ca64b3e347f9",
   "metadata": {},
   "source": [
    "### \n",
    "(6)identity operator:-These operator check if two variable refer to the same object in memory.\n",
    "is , is not these two operator use as identity operator "
   ]
  },
  {
   "cell_type": "code",
   "execution_count": 28,
   "id": "ca20d049-96ee-4a1d-9037-b8d4a5219275",
   "metadata": {},
   "outputs": [
    {
     "data": {
      "text/plain": [
       "False"
      ]
     },
     "execution_count": 28,
     "metadata": {},
     "output_type": "execute_result"
    }
   ],
   "source": [
    "#example 4.1\n",
    "#identity operator >> compare the location of the two object/variable\n",
    "x=6\n",
    "y=5\n",
    "x is y"
   ]
  },
  {
   "cell_type": "code",
   "execution_count": 29,
   "id": "d5d2a6df-424b-4f2b-a593-1317612a0620",
   "metadata": {},
   "outputs": [
    {
     "data": {
      "text/plain": [
       "True"
      ]
     },
     "execution_count": 29,
     "metadata": {},
     "output_type": "execute_result"
    }
   ],
   "source": [
    "x is not y"
   ]
  },
  {
   "cell_type": "markdown",
   "id": "b2ee87f7-7f6c-43f5-abc9-a8efdc843170",
   "metadata": {},
   "source": [
    "### \n",
    "(7)Membership operator:-These operator check if a valur is present in a sequance in a sentence.(such as a list,string or tuple)"
   ]
  },
  {
   "cell_type": "code",
   "execution_count": 30,
   "id": "cc2cc911-9656-4cb2-9257-2dc08008e310",
   "metadata": {},
   "outputs": [
    {
     "data": {
      "text/plain": [
       "True"
      ]
     },
     "execution_count": 30,
     "metadata": {},
     "output_type": "execute_result"
    }
   ],
   "source": [
    "#example 4.2\n",
    "# membership operator  #here we use in statment as predefiend keyworld\n",
    "a = \"jk upadyay sir\"\n",
    "\"j\" in a"
   ]
  },
  {
   "cell_type": "code",
   "execution_count": 31,
   "id": "ad1b571a-9b66-4793-8be6-d462cb6bfe72",
   "metadata": {},
   "outputs": [
    {
     "data": {
      "text/plain": [
       "False"
      ]
     },
     "execution_count": 31,
     "metadata": {},
     "output_type": "execute_result"
    }
   ],
   "source": [
    "\"k\" not in a"
   ]
  },
  {
   "cell_type": "markdown",
   "id": "57d90d48-76bc-4520-8a0c-9dc6f878264c",
   "metadata": {},
   "source": [
    "## Quastion 5 explain the concept of type casting in Python with examples."
   ]
  },
  {
   "cell_type": "markdown",
   "id": "ae267c6c-c449-4fda-b7f4-95e99b58b789",
   "metadata": {},
   "source": [
    "### Ans"
   ]
  },
  {
   "cell_type": "markdown",
   "id": "45a2f525-271b-42d8-aad0-6846bc2f9dbc",
   "metadata": {},
   "source": [
    "### \n",
    "Type casting:-whenever we take input from user it take all input as a string we can convert thant input in interger,flote etc that conversion called type casting or type conversion\n",
    "type casting are two type (1) implicit (2) explicit\n",
    "what we above we done its called explicit \n",
    "implicit means python are understand what type of data type its called implicit at other like java does not understand"
   ]
  },
  {
   "cell_type": "code",
   "execution_count": 48,
   "id": "b328334c-355f-4b95-bee0-8ac8d01ea1e3",
   "metadata": {},
   "outputs": [
    {
     "name": "stdin",
     "output_type": "stream",
     "text": [
      " 45\n"
     ]
    },
    {
     "name": "stdout",
     "output_type": "stream",
     "text": [
      "<class 'str'>\n",
      "<class 'int'>\n"
     ]
    }
   ],
   "source": [
    "number = input()      #here you can see we take a input from user then aotomatically convert string to integer that called type casting\n",
    "print(type(number))\n",
    "print(type(int(number)))"
   ]
  },
  {
   "cell_type": "code",
   "execution_count": 53,
   "id": "625f56b0-9f8f-441f-ba10-1df664fc4410",
   "metadata": {},
   "outputs": [
    {
     "data": {
      "text/plain": [
       "int"
      ]
     },
     "execution_count": 53,
     "metadata": {},
     "output_type": "execute_result"
    }
   ],
   "source": [
    "#float to integer  \n",
    "b=6.90000\n",
    "type(b)\n",
    "flout_value = int(b)\n",
    "type(flout_value)"
   ]
  },
  {
   "cell_type": "code",
   "execution_count": 52,
   "id": "e2813178-b90b-4d88-81dc-2440e1b32223",
   "metadata": {},
   "outputs": [
    {
     "data": {
      "text/plain": [
       "str"
      ]
     },
     "execution_count": 52,
     "metadata": {},
     "output_type": "execute_result"
    }
   ],
   "source": [
    "#integer to string\n",
    "a = 50\n",
    "type(a)\n",
    "b = str(a)\n",
    "type(b)"
   ]
  },
  {
   "cell_type": "markdown",
   "id": "0c52f732-e9bc-45a6-8ef8-a7a68b36d2cc",
   "metadata": {},
   "source": [
    "### \n",
    "above we see 3 example of type casting and concept of type casting "
   ]
  },
  {
   "cell_type": "code",
   "execution_count": null,
   "id": "0f04a9cb-ae04-4186-96b4-784128cad74c",
   "metadata": {},
   "outputs": [],
   "source": []
  },
  {
   "cell_type": "markdown",
   "id": "f24e4d1e-dcbc-433f-bb17-b9b209664fc1",
   "metadata": {},
   "source": [
    "## Question 6 How do conditional statements work in Python? Illustrate with examples"
   ]
  },
  {
   "cell_type": "markdown",
   "id": "f62130c6-a5e4-4ecf-9b27-37a27779a3ed",
   "metadata": {},
   "source": [
    "### Ans"
   ]
  },
  {
   "cell_type": "markdown",
   "id": "fb317c56-3af3-4c57-a50d-9f5d23878e3e",
   "metadata": {},
   "source": [
    "### \n",
    "conditional statment :-if, elif , else those are conditional statment that we can use when ever we have multiple choise in decision making there we can use if,elif and  else (and nested if) statment lets try with example\n",
    "\n",
    "#those above statment use to creat google form to callect information from users and also use gread asigning system in education that we can use in example."
   ]
  },
  {
   "cell_type": "code",
   "execution_count": 54,
   "id": "8bd942ea-857f-47e4-a9bd-13530019e903",
   "metadata": {},
   "outputs": [
    {
     "name": "stdin",
     "output_type": "stream",
     "text": [
      " 55\n"
     ]
    },
    {
     "name": "stdout",
     "output_type": "stream",
     "text": [
      "average student but not clever student need improvment\n"
     ]
    }
   ],
   "source": [
    "#here we can use  if , else and elif keyworld to clarify that student is clever ,average ,good or topper by obtaied input from user [mark]\n",
    "#example 6\n",
    "student_obtained_mark = int(input())\n",
    "if (student_obtained_mark  <= 40):\n",
    "    print(\"just passing mark not good student need improvment\")\n",
    "elif (40 <= student_obtained_mark  <=50):\n",
    "    print(\"good mark but below average student need improvment\")\n",
    "elif (50 <= student_obtained_mark  <= 80):\n",
    "    print(\"average student but not clever student need improvment\") \n",
    "elif (80 <= student_obtained_mark  <=95):\n",
    "    print(\"cleaver student but not topper need improvment\")\n",
    "elif (student_obtained_mark >= 95):\n",
    "    print(\"topper student very good\")\n",
    "else:\n",
    "    print(\"cleaver student\")"
   ]
  },
  {
   "cell_type": "code",
   "execution_count": 55,
   "id": "3fe181fc-5be6-4455-9595-c0a0b9af1f26",
   "metadata": {},
   "outputs": [
    {
     "name": "stdout",
     "output_type": "stream",
     "text": [
      "both x and y is greater than 5\n"
     ]
    }
   ],
   "source": [
    "#example no 6.2\n",
    "#nested if else >> you can have multiple if else inside else\n",
    "x = 10\n",
    "y = 50\n",
    "if x > 5:\n",
    "    if y > 5:\n",
    "        print(\"both x and y is greater than 5\")\n",
    "    else:\n",
    "        print(\"x is greater than 5 but y is less than 5\")\n",
    "else:\n",
    "    print(\"x is not greater than 5\")\n"
   ]
  },
  {
   "cell_type": "code",
   "execution_count": 56,
   "id": "4eb42faa-1e87-4e8b-b466-b844628dfe3a",
   "metadata": {},
   "outputs": [
    {
     "name": "stdin",
     "output_type": "stream",
     "text": [
      "Please enter your name jk gupta\n",
      "Please enter your email @hcwuh.com\n",
      "Please enter your passworld sdjuuvnw123\n"
     ]
    },
    {
     "name": "stdout",
     "output_type": "stream",
     "text": [
      "Login/resigstration is sucessfull\n"
     ]
    }
   ],
   "source": [
    "#use cases of conditional statment\n",
    "#form fiilling\n",
    "name = input(\"Please enter your name\")\n",
    "email = input(\"Please enter your email\")\n",
    "passworld=input(\"Please enter your passworld\")\n",
    "\n",
    "if name == \"\":\n",
    "    print(\"please enter a valid name,can not be empty\")\n",
    "else:\n",
    "    if \"@\" not in email:\n",
    "        print(\"Please enter a valid email\")\n",
    "    else:\n",
    "        if len(passworld) <= 0:\n",
    "            print(\"No password entered , pls provide a valid password\")\n",
    "        else:\n",
    "            print(\"Login/resigstration is sucessfull\")"
   ]
  },
  {
   "cell_type": "raw",
   "id": "1faef144-88f3-4134-818b-a739913dd0d0",
   "metadata": {},
   "source": []
  },
  {
   "cell_type": "markdown",
   "id": "02725c86-4d78-4fde-8fa1-fb592b0d55aa",
   "metadata": {},
   "source": [
    "## Question 7  Describe the different types of loops in Python and their use cases with examples."
   ]
  },
  {
   "cell_type": "markdown",
   "id": "e2a3d3f5-a9de-476b-a1ea-1cc12e769c3b",
   "metadata": {},
   "source": [
    "### Ans"
   ]
  },
  {
   "cell_type": "markdown",
   "id": "7b043197-e9c0-41b3-b917-a89b2713e70e",
   "metadata": {},
   "source": [
    "### \n",
    "Loop statment  :- loop statement it allows you to excute a block of code repeatedly:\n",
    "\n",
    "loops are two type\n",
    "(1) while loop (2) for loop\n",
    "\n",
    "(1)while loop:- repeatedly excuted a block of code untill a condition is met\n",
    "(2)for loops :- iterate over a sequence of element .string, list and for loops iterate over a sequence of element \n",
    "\n",
    "(1.1)break:- This break statment use to exit the while loop\n",
    "(1.2)continue:-This continue statment skip the conditional variable and continue the while loop(skip the interaction)"
   ]
  },
  {
   "cell_type": "code",
   "execution_count": 4,
   "id": "a4041f8c-c41d-4292-a8ba-d2dc59331bf2",
   "metadata": {},
   "outputs": [
    {
     "name": "stdout",
     "output_type": "stream",
     "text": [
      "0\n",
      "1\n",
      "2\n",
      "3\n",
      "4\n",
      "5\n",
      "6\n"
     ]
    }
   ],
   "source": [
    "y = 10                        \n",
    "k = 0\n",
    "while k <= y:\n",
    "    if k == 7:\n",
    "        break\n",
    "    print(k)\n",
    "    k=k+1\n",
    "else:\n",
    "    print(\"number is higher then 10\")"
   ]
  },
  {
   "cell_type": "code",
   "execution_count": 3,
   "id": "e97ff0c8-3568-4f48-9157-1069bed9d658",
   "metadata": {},
   "outputs": [
    {
     "name": "stdout",
     "output_type": "stream",
     "text": [
      "0\n",
      "1\n",
      "2\n",
      "3\n",
      "5\n",
      "6\n",
      "7\n",
      "8\n",
      "9\n",
      "10\n",
      "number is higher then 10\n"
     ]
    }
   ],
   "source": [
    "for i in range(0,11):\n",
    "    if i==4:\n",
    "        continue\n",
    "    print(i)\n",
    "else:\n",
    "    print(\"number is higher then 10\")"
   ]
  },
  {
   "cell_type": "code",
   "execution_count": null,
   "id": "ea6b531d-2fbc-49f6-8cf7-9504902223cd",
   "metadata": {},
   "outputs": [],
   "source": [
    "#these are some use cases with example of while loop and for loop "
   ]
  },
  {
   "cell_type": "code",
   "execution_count": 1,
   "id": "22338594-14f8-459b-ad66-dbd2a45f38ad",
   "metadata": {},
   "outputs": [
    {
     "name": "stdout",
     "output_type": "stream",
     "text": [
      "* \n",
      "* * \n",
      "* * * \n",
      "* * * * \n"
     ]
    }
   ],
   "source": [
    "row = 1\n",
    "while row < 5:\n",
    "    col = 1\n",
    "    while col <= row:\n",
    "        print(\"*\", end = \" \")\n",
    "        col = col+1\n",
    "    print()\n",
    "    row =row+1"
   ]
  },
  {
   "cell_type": "code",
   "execution_count": 2,
   "id": "acf3c637-9782-4153-9b0f-57d9c48e872d",
   "metadata": {},
   "outputs": [
    {
     "name": "stdout",
     "output_type": "stream",
     "text": [
      "1 \n",
      "1 2 \n",
      "1 2 3 \n",
      "1 2 3 4 \n",
      "1 2 3 4 5 \n"
     ]
    }
   ],
   "source": [
    "for i in range(5):\n",
    "    for j in range(i+1):\n",
    "        print(j+1,end = \" \")\n",
    "    print()\n",
    "    j = i+1"
   ]
  },
  {
   "cell_type": "code",
   "execution_count": null,
   "id": "33dda785-66b1-4cba-b574-55fb305c7a2a",
   "metadata": {},
   "outputs": [],
   "source": []
  }
 ],
 "metadata": {
  "kernelspec": {
   "display_name": "Python 3 (ipykernel)",
   "language": "python",
   "name": "python3"
  },
  "language_info": {
   "codemirror_mode": {
    "name": "ipython",
    "version": 3
   },
   "file_extension": ".py",
   "mimetype": "text/x-python",
   "name": "python",
   "nbconvert_exporter": "python",
   "pygments_lexer": "ipython3",
   "version": "3.10.8"
  }
 },
 "nbformat": 4,
 "nbformat_minor": 5
}
