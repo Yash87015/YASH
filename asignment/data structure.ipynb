{
 "cells": [
  {
   "cell_type": "markdown",
   "id": "11a0b9d8-24a4-4a66-9177-31052b4c399d",
   "metadata": {},
   "source": [
    "# assignment data structure"
   ]
  },
  {
   "cell_type": "markdown",
   "id": "cadefa74-a5d4-411c-b183-589a4f9be523",
   "metadata": {},
   "source": [
    "### \n",
    "Name:-Yash solanki\n",
    "\n",
    "Reg email id:-yash87015@gmail.com\n",
    "\n",
    "Course name:-Data analytic\n",
    "\n",
    "Assignment name:-data structure\n",
    "\n",
    "Submission date:-not declare\n",
    "\n",
    "Git link:-https://github.com/Yash87015/YASH\n",
    "(in git hub use assignment folder )"
   ]
  },
  {
   "cell_type": "markdown",
   "id": "7303d8e0-af8c-4770-8695-a16efea06aab",
   "metadata": {},
   "source": [
    "##  question 1 Discuss string slicing and provide examples ?"
   ]
  },
  {
   "cell_type": "markdown",
   "id": "c48acad3-900b-4cb7-8856-7556ed77dbf4",
   "metadata": {},
   "source": [
    "### ans \n",
    "String silicing:-String slicing in Python allows you to extract a portion of a string by specifying a start and end index. It follows the format string , where start is the index where slicing begins (inclusive) and end is the index where it ends (exclusive).\n",
    "\n",
    "For example, with the string my_string = \"Hello, World!\", if you use my_string [7:12], it will return \"World\".\n",
    "If you omit start, it starts from the beginning of the string. If you omit end, it goes to the end of the string.\n",
    "Negative indices are also valid. string [-1] refers to the last character, string[-2] refers to the second last, and so on.\n",
    "\n",
    "(Why is Python String Slicing Useful? \n",
    "1)Python string slicing is advantageous for a number of factors:Subsetting Data: It makes it simple to access and manipulate substrings inside a bigger text since it enables you to extract specific chunks of a string\n",
    "2)Data Extraction: It makes the process of sifting through strings to find relevant information and extracting it, which is essential for tasks like data cleaning and analysis, simpler\n",
    "3)String Manipulation: Slicing makes it easier to manipulate strings in a variety of ways, including reversing strings and extracting words or characters for additional use\n",
    "4)Efficient Access: Slicing offers direct access to a segment rather than iterating through a string character by character, which may be more effective for some jobs\n",
    "5)Substring Creation: It permits the creation of substrings for activities like producing distinctive IDs, decoding file paths, or producing outputs with specific formatting)\n",
    "\n",
    "\n",
    "For understanding slicing we will use different methods, here we will cover 2 methods of string slicing,\n",
    "\n",
    "(1) one using the in-build slice() method\n",
    "\n",
    "(2) using the : array slice/list slicing\n",
    "\n",
    "String slicing in Python is about obtaining a sub-string from the given string by slicing it respectively from start to end."
   ]
  },
  {
   "cell_type": "markdown",
   "id": "3efdef86-3405-425c-afe5-11bff1259ee9",
   "metadata": {},
   "source": [
    "Index tracker for positive and negative index: String indexing and slicing in python. Here, the Negative comes into consideration when tracking the string in reverse. "
   ]
  },
  {
   "cell_type": "markdown",
   "id": "d21d9b68-2cb5-42ab-8e66-f0b4ca486cba",
   "metadata": {},
   "source": [
    "positive index:-python uses a string index to retrieve a specific character from a string using the syntax string . All strings use zero-based indexing. Positive indexing increments the index from zero and from left to right.(space also count as a index see in negative index example)"
   ]
  },
  {
   "cell_type": "code",
   "execution_count": 1,
   "id": "e470b03e-de58-4e5f-9f33-8ce7621eb288",
   "metadata": {},
   "outputs": [
    {
     "name": "stdout",
     "output_type": "stream",
     "text": [
      "e\n"
     ]
    }
   ],
   "source": [
    "#here positive index example \n",
    "jk = \"hello\" #here (h)=0,(e)=1,(l)=2,(l)=3,(o)=4 \n",
    "print(jk[1])"
   ]
  },
  {
   "cell_type": "code",
   "execution_count": 2,
   "id": "d0618013-b79f-43ca-8b1b-0b2a70312684",
   "metadata": {},
   "outputs": [
    {
     "name": "stdout",
     "output_type": "stream",
     "text": [
      "o\n"
     ]
    }
   ],
   "source": [
    "#here negative index example \n",
    "jk = \" hello\" #here ( )=-6,(h)=-5,(e)=-4,(l)=-3,(l)=-2,(o)=-1\n",
    "print(jk[-1]) # thats called negative index "
   ]
  },
  {
   "cell_type": "code",
   "execution_count": 6,
   "id": "589e38f9-1622-4977-b040-bde7b6736dc6",
   "metadata": {},
   "outputs": [
    {
     "name": "stdout",
     "output_type": "stream",
     "text": [
      " \n"
     ]
    }
   ],
   "source": [
    "print(jk[-6])"
   ]
  },
  {
   "cell_type": "code",
   "execution_count": 7,
   "id": "4ef00b1a-833d-4774-af58-09024e447a5d",
   "metadata": {},
   "outputs": [
    {
     "name": "stdout",
     "output_type": "stream",
     "text": [
      "h\n"
     ]
    }
   ],
   "source": [
    "print(jk[-5])"
   ]
  },
  {
   "cell_type": "markdown",
   "id": "4b797f08-060d-4b51-8d61-20cca2ea0db3",
   "metadata": {},
   "source": [
    "### \n",
    "(1)Slice() Method:-The slice() method returns an object containing the range of string slicing. The parameter includes a set of range of values defined as (start, stop, step). Let's look at the syntax of the slice method().\n",
    "\n",
    "Syntax:\n",
    "slice( Start_Index, End_Index, Steps )\n",
    "\n",
    "Here, Start_Index is the starting index of the string. End_Index is the last index before which all elements are considered. Steps are the number of steps to be jumped in each iteration. The Start_Index and Steps are optional. \n",
    "\n",
    "The Start_Index is 0 by default. The step is 1 by default.\n",
    "\n",
    "lets see with example\n"
   ]
  },
  {
   "cell_type": "code",
   "execution_count": 1,
   "id": "f82c9d2d-f525-4ad6-a76d-4ce59414dd2b",
   "metadata": {},
   "outputs": [
    {
     "name": "stdout",
     "output_type": "stream",
     "text": [
      "welcome\n"
     ]
    }
   ],
   "source": [
    "#here some example of silice method # w=0,e=1,l=2,c=3,o=4,m=5,e=6 ( )=7, g=8,u=9,j=10,a=,11,r=,12,a=13,t=14\n",
    "variable = \"welcome gujarat\"\n",
    "print(variable[slice(7)])"
   ]
  },
  {
   "cell_type": "code",
   "execution_count": 7,
   "id": "fc834752-442c-4266-ac2e-c5cbf6c116f5",
   "metadata": {},
   "outputs": [
    {
     "name": "stdout",
     "output_type": "stream",
     "text": [
      "come\n"
     ]
    }
   ],
   "source": [
    "#(start,end)index example\n",
    "print(variable[slice(3,7)])"
   ]
  },
  {
   "cell_type": "code",
   "execution_count": 16,
   "id": "00af93e5-2bf9-4ef6-9e6c-feb9dc4851d3",
   "metadata": {},
   "outputs": [
    {
     "name": "stdout",
     "output_type": "stream",
     "text": [
      "cm uaa\n"
     ]
    }
   ],
   "source": [
    "#(start,end,step) index example # step that skip the iteration(like here 2,4,6,8,10,12 are skip and print other output)\n",
    "print(variable[slice(3,15,2)])"
   ]
  },
  {
   "cell_type": "markdown",
   "id": "a6ada2b1-ff86-411a-a4bc-9672f0e12434",
   "metadata": {},
   "source": [
    "(2) List Slicing/Array Slicing:-The List Slicing method is the most common way of string slicing in Python. The parameter includes a set of range of values defined as [start:stop:step].\n",
    "\n",
    "syntax:-any_variable_that_you_type[Start_Index:End_Index:Steps] \n",
    "Here, Start_Index is the starting index of the string. End_Index is the last index before which all elements are considered. The step is the number of steps to be jumped in each iteration.\n",
    "\n",
    "Let's look at a few examples to understand string slicing in python"
   ]
  },
  {
   "cell_type": "code",
   "execution_count": 28,
   "id": "97dd7b6a-d824-4f29-9c88-882b879e3f68",
   "metadata": {},
   "outputs": [
    {
     "name": "stdout",
     "output_type": "stream",
     "text": [
      "k\n"
     ]
    }
   ],
   "source": [
    "#here we see array slicing examples #note:-you can see diffence between array slicing and slice method.\n",
    "#in slice method stat index is by default 0 and here arry slicing only that index print there is not any given by defalut\n",
    "A_B=\"kuch din to gujariye gujarat mai\"\n",
    "print(A_B[-32])"
   ]
  },
  {
   "cell_type": "code",
   "execution_count": 38,
   "id": "9453bb17-80f7-4214-b5d4-fcd4a396932c",
   "metadata": {},
   "outputs": [
    {
     "name": "stdout",
     "output_type": "stream",
     "text": [
      "kuch din to gujariye gujarat mai\n"
     ]
    }
   ],
   "source": [
    "#here we can use [:] and #start_index:end_index if you not provide end idex, it will be default give substring till the last index\n",
    "print(A_B[-32:])"
   ]
  },
  {
   "cell_type": "code",
   "execution_count": 48,
   "id": "017c1476-2a82-4d2c-af6c-717cab38863b",
   "metadata": {},
   "outputs": [
    {
     "name": "stdout",
     "output_type": "stream",
     "text": [
      "kuch din to gujariye gujarat\n"
     ]
    }
   ],
   "source": [
    "#except the last three character\n",
    "print(A_B[:-4])"
   ]
  },
  {
   "cell_type": "code",
   "execution_count": 61,
   "id": "59d0bd7e-639c-4fcd-ae87-f9e511be36e6",
   "metadata": {},
   "outputs": [
    {
     "name": "stdout",
     "output_type": "stream",
     "text": [
      "mai\n"
     ]
    }
   ],
   "source": [
    "#you want only last characters\n",
    "print(A_B[-3:])"
   ]
  },
  {
   "cell_type": "code",
   "execution_count": 62,
   "id": "ac060ad4-f0b2-4e2b-a051-efe52112808d",
   "metadata": {},
   "outputs": [
    {
     "name": "stdout",
     "output_type": "stream",
     "text": [
      "imtrjgeiau tndhu\n"
     ]
    }
   ],
   "source": [
    "#skip all even negativ index and print oter index #here you can see its reverse because of negative index\n",
    "print(A_B[::-2])"
   ]
  },
  {
   "cell_type": "code",
   "execution_count": 68,
   "id": "8406fb9b-75ad-43bc-a94c-cdfd101525a7",
   "metadata": {},
   "outputs": [
    {
     "name": "stdout",
     "output_type": "stream",
     "text": [
      "kc i ogjry uaa a\n"
     ]
    }
   ],
   "source": [
    "#skip all odd endex and print even index\n",
    "print(A_B[::2])"
   ]
  },
  {
   "cell_type": "code",
   "execution_count": 70,
   "id": "edfeb2d4-c47b-4528-ae04-7c4e7cec9b3b",
   "metadata": {},
   "outputs": [
    {
     "name": "stdout",
     "output_type": "stream",
     "text": [
      "imtrjgeiau tndh\n"
     ]
    }
   ],
   "source": [
    "print(A_B[-1:-30:-2])"
   ]
  },
  {
   "cell_type": "markdown",
   "id": "43bded66-3812-4dc1-928b-7e3c25244bc3",
   "metadata": {},
   "source": [
    "above we see some usefull examples and string silicing examples and therir uses "
   ]
  },
  {
   "cell_type": "markdown",
   "id": "cd1d5940-ef6c-4ff5-be41-8483cf7efae5",
   "metadata": {},
   "source": [
    "## question 2 explain the key features of list in python?"
   ]
  },
  {
   "cell_type": "markdown",
   "id": "eabffe33-8ab1-45dd-9814-4b6ca2f20da2",
   "metadata": {},
   "source": [
    "### Ans\n",
    "A list is a data structure in Python that is a mutable, or changeable, ordered sequence of elements. Each element or value that is inside of a list is called an item. Just as strings are defined as characters between quotes, lists are defined by having values between square brackets [ ]"
   ]
  },
  {
   "cell_type": "markdown",
   "id": "872da95d-d464-4a3b-a07e-147ee56668bd",
   "metadata": {},
   "source": [
    "A collection of items can be managed and stored in an ordered sequence using a Python list, a flexible and robust data structure. Because lists may hold components of several data types—integers, texts, and even other lists—they are incredibly versatile for various computer applications. You can quickly add, remove, and alter elements from Python lists and carry out operations like sorting and slicing\n",
    "\n",
    "Lists are mutable and dynamic; list items can be added, removed or changed after the list is defined. Lists are ordered; newly added items will be placed at the end of the list. Lists use zero-based indexing; every list item has an associated index, and the first item's index is 0."
   ]
  },
  {
   "cell_type": "markdown",
   "id": "8c6c00f0-4114-4195-b18b-2c03972dd612",
   "metadata": {},
   "source": [
    "Characteristics of Python Lists and we can say its all key feature in list\n",
    "(1) Ordered\n",
    "Python lists keep their elemental order. Every element has an index, with the first element's index being 0.\n",
    "(2) Mutable\n",
    "Lists are editable once they are created. You can modify, eliminate, or add components.\n",
    "(3)Heterogeneous\n",
    "List elements can be of various kinds of data, such as texts, floats, integers, and other lists.\n",
    "(4) Dynamic Size\n",
    "Lists can be expanded or contracted in size as needed. No prior specification of the list's size is necessary to add or remove elements.\n",
    "(5) Indexed Access\n",
    "An index can be used to access elements in a list. It is also possible to use negative indexing, in which the last element is denoted by -1.\n",
    "(6) Slicing\n",
    "Slicing a list to access a subset of its elements is supported. Several indices can be used for slicing.\n",
    "(7) Iterable\n",
    "Because lists are iterable, you can use a loop, like a for loop, to iterate through the elements.\n",
    "(8) Duplicate Elements\n",
    "Duplicate elements are possible in lists. Every instance of a component is handled independently.\n",
    "(9)Comprehensive Methods\n",
    "Many built-in methods, including append(), remove(), pop(), sort(), reverse(), and others, are included with lists for joint operations.\n",
    "(10) Supports Nesting\n",
    "Lists can be nested (lists of lists) because lists can have other lists as components.\n",
    "(11)list can contain homogeneous data type"
   ]
  },
  {
   "cell_type": "markdown",
   "id": "c4832367-d28c-4f1b-9b37-43b4e23eab77",
   "metadata": {},
   "source": [
    "here some more about list can be use in function\n",
    "The list data type has some more methods. Here are all of the methods of list objects:\n",
    "\n",
    "list.append(x)\n",
    "Add an item to the end of the list. Equivalent to a[len(a):] = [x].\n",
    "\n",
    "list.extend(iterable)\n",
    "Extend the list by appending all the items from the iterable. Equivalent to a[len(a):] = iterable.\n",
    "\n",
    "list.insert(i, x)\n",
    "Insert an item at a given position. The first argument is the index of the element before which to insert, so a.insert(0, x) inserts at the front of the list, and a.insert(len(a), x) is equivalent to a.append(x).\n",
    "\n",
    "list.remove(x)\n",
    "Remove the first item from the list whose value is equal to x. It raises a ValueError if there is no such item.\n",
    "\n",
    "list.pop([i])\n",
    "Remove the item at the given position in the list, and return it. If no index is specified, a.pop() removes and returns the last item in the list. It raises an IndexError if the list is empty or the index is outside the list range.\n",
    "\n",
    "list.clear()\n",
    "Remove all items from the list. Equivalent to del a[:].\n",
    "\n",
    "list.index(x[, start[, end]])\n",
    "Return zero-based index in the list of the first item whose value is equal to x. Raises a ValueError if there is no such item.\n",
    "\n",
    "The optional arguments start and end are interpreted as in the slice notation and are used to limit the search to a particular subsequence of the list. The returned index is computed relative to the beginning of the full sequence rather than the start argument.\n",
    "\n",
    "list.count(x)\n",
    "Return the number of times x appears in the list.\n",
    "\n",
    "list.sort(*, key=None, reverse=False)\n",
    "Sort the items of the list in place (the arguments can be used for sort customization, see sorted() for their explanation).\n",
    "\n",
    "list.reverse()\n",
    "Reverse the elements of the list in place.\n",
    "\n",
    "list.copy()\n",
    "Return a shallow copy of the list. Equivalent to a[:]."
   ]
  },
  {
   "cell_type": "markdown",
   "id": "20b84d47-37a9-4237-a624-063ddc987773",
   "metadata": {},
   "source": [
    "we can see how to crete list and examples in details next questions"
   ]
  },
  {
   "cell_type": "markdown",
   "id": "d201e41c-d0e3-4260-be75-5cc022e733cb",
   "metadata": {},
   "source": [
    "## question 3 describe how to acess,modify,and delete element in a list with examples?"
   ]
  },
  {
   "cell_type": "markdown",
   "id": "7b1e6376-cb71-4cb4-b5e4-772e2c3e71fc",
   "metadata": {},
   "source": [
    "### Ans\n",
    "In order to access the list items refer to the index number. Use the index operator [ ] to access an item in a list. The index must be an integer. Nested lists are accessed using nested indexing. index postion will be same as we see in question 1 \n",
    "\n",
    "lets see with example how to acess in list elemnt"
   ]
  },
  {
   "cell_type": "code",
   "execution_count": 1,
   "id": "21068a12-931f-49d0-9e59-2d0f3600bd36",
   "metadata": {},
   "outputs": [
    {
     "data": {
      "text/plain": [
       "'tomato'"
      ]
     },
     "execution_count": 1,
     "metadata": {},
     "output_type": "execute_result"
    }
   ],
   "source": [
    "#example 1\n",
    "market_list=[\"tomato\",\"brinjal\",\"khakhra\",\"butter milk\"]\n",
    "market_list[0]#here we see acess the elemnt in the list same concept index but differnt is here we acess whole elemnt in \n",
    "                  #the list perticulat their we acess each character"
   ]
  },
  {
   "cell_type": "code",
   "execution_count": 2,
   "id": "a5823963-39ef-4461-a668-ccb531ff7c8e",
   "metadata": {},
   "outputs": [
    {
     "data": {
      "text/plain": [
       "'butter milk'"
      ]
     },
     "execution_count": 2,
     "metadata": {},
     "output_type": "execute_result"
    }
   ],
   "source": [
    "market_list[-1] #see here we use negative index as well"
   ]
  },
  {
   "cell_type": "code",
   "execution_count": 33,
   "id": "e1b9fa7f-5f6a-440d-bfb8-a3c06103843b",
   "metadata": {},
   "outputs": [
    {
     "name": "stdout",
     "output_type": "stream",
     "text": [
      "(8+8j)\n"
     ]
    }
   ],
   "source": [
    "#example 2\n",
    "list1=[True,48,8+8j,45.65,\"rohit\",\"kks14\"]#here we also acess throw list element using print statment\n",
    "print(list1[2])"
   ]
  },
  {
   "cell_type": "code",
   "execution_count": 4,
   "id": "46287703-e976-4232-b61c-b36a3e595d35",
   "metadata": {},
   "outputs": [
    {
     "name": "stdout",
     "output_type": "stream",
     "text": [
      "rohit\n"
     ]
    }
   ],
   "source": [
    "print(list1[-2])"
   ]
  },
  {
   "cell_type": "code",
   "execution_count": 5,
   "id": "c4106e88-c6cb-40b7-9666-2a6f0683b369",
   "metadata": {},
   "outputs": [
    {
     "name": "stdout",
     "output_type": "stream",
     "text": [
      "[48, (8+8j), 45.65]\n"
     ]
    }
   ],
   "source": [
    "#You can specify a range of indexes by specifying where to start and where to end the range.\n",
    "#When specifying a range, the return value will be a new list with the specified items.\n",
    "print(list1[1:4])"
   ]
  },
  {
   "cell_type": "code",
   "execution_count": 11,
   "id": "3f155e73-d3f3-4588-9b9d-278c2147c1b7",
   "metadata": {},
   "outputs": [
    {
     "name": "stdout",
     "output_type": "stream",
     "text": [
      "[(8+8j), 45.65, 'rohit']\n"
     ]
    }
   ],
   "source": [
    "print(list1[-4:-1])"
   ]
  },
  {
   "cell_type": "markdown",
   "id": "44e05313-a8d6-4186-93ae-f556caf1ea4f",
   "metadata": {},
   "source": [
    "now lets see how to modified list element in list"
   ]
  },
  {
   "cell_type": "code",
   "execution_count": 34,
   "id": "b8637ad0-153a-47ca-824d-7c9dcb9b56eb",
   "metadata": {},
   "outputs": [
    {
     "data": {
      "text/plain": [
       "[True, 48, (8+8j), 45.65, 'rohit', 'kks14']"
      ]
     },
     "execution_count": 34,
     "metadata": {},
     "output_type": "execute_result"
    }
   ],
   "source": [
    "list1"
   ]
  },
  {
   "cell_type": "code",
   "execution_count": 35,
   "id": "980d5aa6-ecad-4790-a405-870c752508b9",
   "metadata": {},
   "outputs": [
    {
     "data": {
      "text/plain": [
       "['shalin', 48, (8+8j), 45.65, 'rohit', 'kks14']"
      ]
     },
     "execution_count": 35,
     "metadata": {},
     "output_type": "execute_result"
    }
   ],
   "source": [
    "list1[0]=\"shalin\"#here you can see list1 elemnt will be changed \n",
    "list1"
   ]
  },
  {
   "cell_type": "code",
   "execution_count": 36,
   "id": "44a7d9c2-967d-46e5-a5f0-57a372d0746c",
   "metadata": {},
   "outputs": [],
   "source": [
    "#lets see other ways also\n",
    "list1.append(\"nimrit\")#using this function you can add elment in the list"
   ]
  },
  {
   "cell_type": "code",
   "execution_count": 37,
   "id": "9b7fef33-a1fb-4dc8-a534-5d7f1b48ad47",
   "metadata": {},
   "outputs": [
    {
     "data": {
      "text/plain": [
       "['shalin', 48, (8+8j), 45.65, 'rohit', 'kks14', 'nimrit']"
      ]
     },
     "execution_count": 37,
     "metadata": {},
     "output_type": "execute_result"
    }
   ],
   "source": [
    "list1"
   ]
  },
  {
   "cell_type": "code",
   "execution_count": 38,
   "id": "a954a1d0-f09d-4479-98bf-27b38325ab67",
   "metadata": {},
   "outputs": [],
   "source": [
    "list1.remove(\"shalin\")#using this function you can remove elment in the list"
   ]
  },
  {
   "cell_type": "code",
   "execution_count": 39,
   "id": "8badc88f-f046-4a74-9ab5-4edc9d2c9145",
   "metadata": {},
   "outputs": [
    {
     "data": {
      "text/plain": [
       "[48, (8+8j), 45.65, 'rohit', 'kks14', 'nimrit']"
      ]
     },
     "execution_count": 39,
     "metadata": {},
     "output_type": "execute_result"
    }
   ],
   "source": [
    "list1"
   ]
  },
  {
   "cell_type": "code",
   "execution_count": 40,
   "id": "a349ef60-9db0-4fb4-b1fd-139e769c22f3",
   "metadata": {},
   "outputs": [
    {
     "data": {
      "text/plain": [
       "(8+8j)"
      ]
     },
     "execution_count": 40,
     "metadata": {},
     "output_type": "execute_result"
    }
   ],
   "source": [
    "list1.pop(1)#using this function you can remove any element using index value"
   ]
  },
  {
   "cell_type": "code",
   "execution_count": 41,
   "id": "580d142a-95b2-4ec4-ba49-5f0d07329f5c",
   "metadata": {},
   "outputs": [
    {
     "data": {
      "text/plain": [
       "[48, 45.65, 'rohit', 'kks14', 'nimrit']"
      ]
     },
     "execution_count": 41,
     "metadata": {},
     "output_type": "execute_result"
    }
   ],
   "source": [
    "list1"
   ]
  },
  {
   "cell_type": "code",
   "execution_count": 42,
   "id": "e7f292d3-cf05-4edb-a53c-71b64218795c",
   "metadata": {},
   "outputs": [],
   "source": [
    "list1.insert(2,\"bharti singh\")#using this function you can add eny elemnt in anywhere you can put the elemt in between also using index and name elemnt"
   ]
  },
  {
   "cell_type": "code",
   "execution_count": 43,
   "id": "435c0496-e4f3-4bb4-9ec5-7046eea16cc0",
   "metadata": {},
   "outputs": [
    {
     "data": {
      "text/plain": [
       "[48, 45.65, 'bharti singh', 'rohit', 'kks14', 'nimrit']"
      ]
     },
     "execution_count": 43,
     "metadata": {},
     "output_type": "execute_result"
    }
   ],
   "source": [
    "list1"
   ]
  },
  {
   "cell_type": "code",
   "execution_count": 48,
   "id": "552c72c7-c2bb-44dd-bd31-d4fcf89db334",
   "metadata": {},
   "outputs": [
    {
     "data": {
      "text/plain": [
       "0"
      ]
     },
     "execution_count": 48,
     "metadata": {},
     "output_type": "execute_result"
    }
   ],
   "source": [
    "list1.index(48)#to define what element is in what index value number no need to count if its not present its give erro "
   ]
  },
  {
   "cell_type": "code",
   "execution_count": 57,
   "id": "ede52e4b-3214-4a00-af54-37ed9cbadb39",
   "metadata": {},
   "outputs": [],
   "source": [
    "list1.extend([4])#extend mens by defult add the value in the last"
   ]
  },
  {
   "cell_type": "code",
   "execution_count": 59,
   "id": "03769795-e496-469a-a70b-75c525ce4de9",
   "metadata": {},
   "outputs": [
    {
     "name": "stdout",
     "output_type": "stream",
     "text": [
      "[48, 45.65, 'bharti singh', 'rohit', 'kks14', 'nimrit', 's', 'i', 'l', 'p', 'a', 's', 'i', 'l', 'p', 'a', 4]\n"
     ]
    }
   ],
   "source": [
    "print(list1)"
   ]
  },
  {
   "cell_type": "code",
   "execution_count": 60,
   "id": "6702ab0d-e1b3-4cfc-b778-7270c49a65bc",
   "metadata": {},
   "outputs": [],
   "source": [
    "list1.reverse()"
   ]
  },
  {
   "cell_type": "code",
   "execution_count": 62,
   "id": "cc0ff147-2ee8-4e70-8b24-9e29f78ff72a",
   "metadata": {},
   "outputs": [
    {
     "name": "stdout",
     "output_type": "stream",
     "text": [
      "[4, 'a', 'p', 'l', 'i', 's', 'a', 'p', 'l', 'i', 's', 'nimrit', 'kks14', 'rohit', 'bharti singh', 45.65, 48]"
     ]
    }
   ],
   "source": [
    "print(list1,end=\"\")"
   ]
  },
  {
   "cell_type": "markdown",
   "id": "2005ec88-b19c-4e0e-9dec-16af655c4338",
   "metadata": {},
   "source": [
    "now we can see how to delete or we can clear the elment in the list and we also see some other functional as well"
   ]
  },
  {
   "cell_type": "code",
   "execution_count": 69,
   "id": "02bceeeb-3560-418a-ba81-df514065a72d",
   "metadata": {},
   "outputs": [],
   "source": [
    "#now in list2  we can remove element 1 to 111 from positive index value\n",
    "list2=[4, 'a', 'p', 'l', 'i', 's', 'a', 'p', 'l', 'i', 's', 'nimrit', 'kks14', 'rohit', 'bharti singh', 45.65, 48]\n",
    "del list2[1:11]"
   ]
  },
  {
   "cell_type": "code",
   "execution_count": 70,
   "id": "1b585998-0b4f-4278-acd0-2021f1112a23",
   "metadata": {},
   "outputs": [
    {
     "data": {
      "text/plain": [
       "[4, 'nimrit', 'kks14', 'rohit', 'bharti singh', 45.65, 48]"
      ]
     },
     "execution_count": 70,
     "metadata": {},
     "output_type": "execute_result"
    }
   ],
   "source": [
    "list2"
   ]
  },
  {
   "cell_type": "markdown",
   "id": "f03012a5-6f21-4ef6-b660-e1173abc4a6f",
   "metadata": {},
   "source": [
    "we can also remove a perticular element using .remove fuction that we see in above examples but lets see with 1 also examples"
   ]
  },
  {
   "cell_type": "code",
   "execution_count": 71,
   "id": "c2e73523-6b2a-4fdf-bc10-4a0d06292fbb",
   "metadata": {},
   "outputs": [],
   "source": [
    "list2.remove('rohit')"
   ]
  },
  {
   "cell_type": "code",
   "execution_count": 72,
   "id": "e32d8547-1a92-4fc1-8f0b-a83392afb4e0",
   "metadata": {},
   "outputs": [
    {
     "data": {
      "text/plain": [
       "[4, 'nimrit', 'kks14', 'bharti singh', 45.65, 48]"
      ]
     },
     "execution_count": 72,
     "metadata": {},
     "output_type": "execute_result"
    }
   ],
   "source": [
    "list2"
   ]
  },
  {
   "cell_type": "markdown",
   "id": "1574e40a-cb9e-4b5d-ae83-f1662ca4fd43",
   "metadata": {},
   "source": [
    "we can also delete all the elemt in the list "
   ]
  },
  {
   "cell_type": "code",
   "execution_count": 73,
   "id": "f7ba37fe-bab4-456b-8db2-2c01e7fb155a",
   "metadata": {},
   "outputs": [],
   "source": [
    "list2.clear()"
   ]
  },
  {
   "cell_type": "code",
   "execution_count": 74,
   "id": "3e30fd3a-9a84-48af-b49a-d2b4f21cb435",
   "metadata": {},
   "outputs": [
    {
     "data": {
      "text/plain": [
       "[]"
      ]
     },
     "execution_count": 74,
     "metadata": {},
     "output_type": "execute_result"
    }
   ],
   "source": [
    "list2#here you can see list2 is empty"
   ]
  },
  {
   "cell_type": "markdown",
   "id": "b5e5c961-6002-486b-aeea-409a15e95167",
   "metadata": {},
   "source": [
    "you can delete a varible also lets see with example"
   ]
  },
  {
   "cell_type": "code",
   "execution_count": 75,
   "id": "bb72bd33-b6b6-403b-9f22-2cc862fe5db3",
   "metadata": {},
   "outputs": [
    {
     "data": {
      "text/plain": [
       "['tomato', 'brinjal', 'khakhra', 'butter milk']"
      ]
     },
     "execution_count": 75,
     "metadata": {},
     "output_type": "execute_result"
    }
   ],
   "source": [
    "market_list"
   ]
  },
  {
   "cell_type": "code",
   "execution_count": 76,
   "id": "2dd6b0d5-90df-4a55-892f-8def2c0e97e7",
   "metadata": {},
   "outputs": [],
   "source": [
    "del market_list"
   ]
  },
  {
   "cell_type": "code",
   "execution_count": 77,
   "id": "a3dc2d83-daf1-4952-b3bd-cd74acce3523",
   "metadata": {},
   "outputs": [
    {
     "ename": "NameError",
     "evalue": "name 'market_list' is not defined",
     "output_type": "error",
     "traceback": [
      "\u001b[0;31m---------------------------------------------------------------------------\u001b[0m",
      "\u001b[0;31mNameError\u001b[0m                                 Traceback (most recent call last)",
      "Cell \u001b[0;32mIn[77], line 1\u001b[0m\n\u001b[0;32m----> 1\u001b[0m \u001b[43mmarket_list\u001b[49m\n",
      "\u001b[0;31mNameError\u001b[0m: name 'market_list' is not defined"
     ]
    }
   ],
   "source": [
    "market_list"
   ]
  },
  {
   "cell_type": "markdown",
   "id": "a7e63756-83ee-4ddc-b96f-16f4d7aa1fae",
   "metadata": {},
   "source": [
    "see varible is deleted that why its giving error "
   ]
  },
  {
   "cell_type": "code",
   "execution_count": 80,
   "id": "23cdd3e7-335b-48a5-a0ff-2c2d4890c4d3",
   "metadata": {},
   "outputs": [],
   "source": [
    "list1.extend(\"pw skill\")"
   ]
  },
  {
   "cell_type": "code",
   "execution_count": 81,
   "id": "59230657-ebd1-482f-9d27-d2a64eb7a887",
   "metadata": {},
   "outputs": [
    {
     "data": {
      "text/plain": [
       "[4, 'p', 'w', ' ', 's', 'k', 'i', 'l', 'l']"
      ]
     },
     "execution_count": 81,
     "metadata": {},
     "output_type": "execute_result"
    }
   ],
   "source": [
    "list1"
   ]
  },
  {
   "cell_type": "code",
   "execution_count": 2,
   "id": "6960f4cb-388b-4914-940f-901e6864ccf0",
   "metadata": {},
   "outputs": [
    {
     "data": {
      "text/plain": [
       "2"
      ]
     },
     "execution_count": 2,
     "metadata": {},
     "output_type": "execute_result"
    }
   ],
   "source": [
    "list1=[4, 'nimrit', 'kks14', 'rohit', 'bharti singh', 45.65, 48,\"kks14\"]\n",
    "list1.count('kks14')#couts how many time repeat thats show and when ever elemnent is not in the list then show 0 "
   ]
  },
  {
   "cell_type": "code",
   "execution_count": 3,
   "id": "b3428b74-ca35-4674-a965-b92d46b1ee9c",
   "metadata": {},
   "outputs": [
    {
     "data": {
      "text/plain": [
       "0"
      ]
     },
     "execution_count": 3,
     "metadata": {},
     "output_type": "execute_result"
    }
   ],
   "source": [
    "list1.count(\"h\")"
   ]
  },
  {
   "cell_type": "code",
   "execution_count": 8,
   "id": "c4c91a16-4500-47bd-a7d4-8dff4377b154",
   "metadata": {},
   "outputs": [
    {
     "data": {
      "text/plain": [
       "[1, 2, 3, 4, 5, 6, 7, 8, 9]"
      ]
     },
     "execution_count": 8,
     "metadata": {},
     "output_type": "execute_result"
    }
   ],
   "source": [
    "list2=[1,4,5,9,7,8,6,3,2]\n",
    "sorted(list2)"
   ]
  },
  {
   "cell_type": "code",
   "execution_count": 12,
   "id": "d2147f3a-be1e-40fb-ad1c-7aedfdd9930c",
   "metadata": {},
   "outputs": [],
   "source": [
    "list3=[\"aa\",\"gg\",\"rr\",\"hh\",\"bb\",\"kk\"]\n",
    "list3.sort()"
   ]
  },
  {
   "cell_type": "code",
   "execution_count": 13,
   "id": "1a61c67e-f289-4672-9ea0-65e219b6f8f2",
   "metadata": {},
   "outputs": [
    {
     "data": {
      "text/plain": [
       "['aa', 'bb', 'gg', 'hh', 'kk', 'rr']"
      ]
     },
     "execution_count": 13,
     "metadata": {},
     "output_type": "execute_result"
    }
   ],
   "source": [
    "list3"
   ]
  },
  {
   "cell_type": "markdown",
   "id": "895ef791-cbe3-493c-897a-5c9c93b8ed7a",
   "metadata": {},
   "source": [
    "As an alternative to sorted(), the sort() method on a list sorts that list into ascending order, e.g. list.sort(). The sort() method changes the underlying list and returns None, so use it like this:\n",
    "\n",
    "The above is a very common misunderstanding with sort() -- it *does not return* the sorted list. The sort() method must be called on a list; it does not work on any enumerable collection (but the sorted() function above works on anything). The sort() method predates the sorted() function, so you will likely see it in older code. The sort() method does not need to create a new list, so it can be a little faster in the case that the elements to sort are already in a list."
   ]
  },
  {
   "cell_type": "code",
   "execution_count": 15,
   "id": "097b781e-ab43-4a55-800b-d24df9d8c293",
   "metadata": {},
   "outputs": [
    {
     "data": {
      "text/plain": [
       "6"
      ]
     },
     "execution_count": 15,
     "metadata": {},
     "output_type": "execute_result"
    }
   ],
   "source": [
    "len(list3)#to define how many element are there in the list use len() function to define"
   ]
  },
  {
   "cell_type": "markdown",
   "id": "442185be-4ff6-43a0-8761-5364b93f48ec",
   "metadata": {},
   "source": [
    "deep copy and shallow copy with example\n",
    "Deep copy:-A deep copy creates a new compound object before inserting copies of the items found in the original into it in a recursive manner. It means first constructing a new collection object and then recursively populating it with copies of the child objects found in the original. In the case of deep copy, a copy of the object is copied into another object.(change will be not reflect in other variable )\n",
    "\n",
    "It means that any changes made to a copy of the object do not reflect in the original object. "
   ]
  },
  {
   "cell_type": "code",
   "execution_count": 6,
   "id": "d8cb9354-b5f5-467a-a59c-c8c2ca9ca0d5",
   "metadata": {},
   "outputs": [],
   "source": [
    "lis1=['mcwm','ier','akd']\n",
    "lis2=[10,20,30]"
   ]
  },
  {
   "cell_type": "code",
   "execution_count": 7,
   "id": "10abeda7-4a73-45e9-88a7-b1a7fbef5dc1",
   "metadata": {},
   "outputs": [],
   "source": [
    "b=lis2.copy()"
   ]
  },
  {
   "cell_type": "code",
   "execution_count": 11,
   "id": "3cbd69bf-c7ba-46c6-8faa-72a754a87032",
   "metadata": {},
   "outputs": [
    {
     "data": {
      "text/plain": [
       "[10, 20, 30]"
      ]
     },
     "execution_count": 11,
     "metadata": {},
     "output_type": "execute_result"
    }
   ],
   "source": [
    "lis2"
   ]
  },
  {
   "cell_type": "code",
   "execution_count": 10,
   "id": "ef70bc21-94e3-4bfe-a81a-ffd93b6867d0",
   "metadata": {},
   "outputs": [
    {
     "data": {
      "text/plain": [
       "[10, 20, 30]"
      ]
     },
     "execution_count": 10,
     "metadata": {},
     "output_type": "execute_result"
    }
   ],
   "source": [
    "b"
   ]
  },
  {
   "cell_type": "code",
   "execution_count": 12,
   "id": "d518ce79-16d9-4c7a-9205-67d22e7257de",
   "metadata": {},
   "outputs": [],
   "source": [
    "b[0]=(40)"
   ]
  },
  {
   "cell_type": "code",
   "execution_count": 13,
   "id": "6bf3caa9-e998-48ed-a03a-9fa41ffe7692",
   "metadata": {},
   "outputs": [
    {
     "data": {
      "text/plain": [
       "[40, 20, 30]"
      ]
     },
     "execution_count": 13,
     "metadata": {},
     "output_type": "execute_result"
    }
   ],
   "source": [
    "b"
   ]
  },
  {
   "cell_type": "code",
   "execution_count": 14,
   "id": "21284b69-bc50-42f4-a227-9b4f1039ed19",
   "metadata": {},
   "outputs": [
    {
     "data": {
      "text/plain": [
       "[10, 20, 30]"
      ]
     },
     "execution_count": 14,
     "metadata": {},
     "output_type": "execute_result"
    }
   ],
   "source": [
    "lis2 # hence its prove does not change in original list thats called deep copy"
   ]
  },
  {
   "cell_type": "markdown",
   "id": "712151a9-f351-4dfb-96de-f49a520f715a",
   "metadata": {},
   "source": [
    "shallow copy:-a shallow copy creates a new object that references the same underlying data of the original object. This means although the objects have different names, both objects point to the same memory location. So if you make changes in either of the objects then the changes will affect both objects.Creates a new dictionary with the same structure (key-value pairs) as the original, but the values themselves are references to the original objects.Any changes made to mutable objects within the copied dictionary will also affect the original dictionary\n",
    "\n",
    "shallow copy:-change will be reflect"
   ]
  },
  {
   "cell_type": "code",
   "execution_count": 17,
   "id": "2e082397-ceee-4c6f-aa68-a07ae4633d75",
   "metadata": {},
   "outputs": [],
   "source": [
    "lis1\n",
    "a = lis1"
   ]
  },
  {
   "cell_type": "code",
   "execution_count": 18,
   "id": "96370830-4a01-4227-9217-355950ed1771",
   "metadata": {},
   "outputs": [
    {
     "data": {
      "text/plain": [
       "['mcwm', 'ier', 'akd']"
      ]
     },
     "execution_count": 18,
     "metadata": {},
     "output_type": "execute_result"
    }
   ],
   "source": [
    "lis1"
   ]
  },
  {
   "cell_type": "code",
   "execution_count": 19,
   "id": "46e563a7-11e2-4c13-9320-d8c13d7009aa",
   "metadata": {},
   "outputs": [
    {
     "data": {
      "text/plain": [
       "['mcwm', 'ier', 'akd']"
      ]
     },
     "execution_count": 19,
     "metadata": {},
     "output_type": "execute_result"
    }
   ],
   "source": [
    "a"
   ]
  },
  {
   "cell_type": "code",
   "execution_count": 20,
   "id": "471e3e3d-ef81-42cb-af2f-c20c7542ac78",
   "metadata": {},
   "outputs": [],
   "source": [
    "a[0]=\"joweidc\""
   ]
  },
  {
   "cell_type": "code",
   "execution_count": 21,
   "id": "fa53060c-5471-4d7f-a791-9d8254ae85aa",
   "metadata": {},
   "outputs": [
    {
     "data": {
      "text/plain": [
       "['joweidc', 'ier', 'akd']"
      ]
     },
     "execution_count": 21,
     "metadata": {},
     "output_type": "execute_result"
    }
   ],
   "source": [
    "a"
   ]
  },
  {
   "cell_type": "code",
   "execution_count": 23,
   "id": "0aa87d2b-744e-44b9-b12f-522177884adb",
   "metadata": {},
   "outputs": [
    {
     "data": {
      "text/plain": [
       "['joweidc', 'ier', 'akd']"
      ]
     },
     "execution_count": 23,
     "metadata": {},
     "output_type": "execute_result"
    }
   ],
   "source": [
    "lis1#hence its prove Any changes made to mutable objects within the copied list will also affect the original list thats called shallow copy "
   ]
  },
  {
   "cell_type": "raw",
   "id": "938f7867-fa2f-47b6-9fad-d1177778b612",
   "metadata": {},
   "source": [
    "above see how to element is the list acesss,modified,and delete in the value see with examples we also see some other fuctions as well like count,reverse and sort etc."
   ]
  },
  {
   "cell_type": "markdown",
   "id": "b320d642-62c9-4774-a804-80f6534dd02e",
   "metadata": {},
   "source": [
    "## question 4 compare and contrast tuples and lists with examples."
   ]
  },
  {
   "cell_type": "markdown",
   "id": "3deca0c3-f01b-4c1c-aec8-664bc8259834",
   "metadata": {},
   "source": [
    "### Ans \n",
    "lets understand what is tuple and then we compare to the list\n",
    "\n",
    "Tuples are ordered collection of elements, heterogenous lets see proper defination of the tuple\n",
    "\n",
    "(tuple:-A tuple, pronounced TUH-pul, is an ordered and finite list of elements in various fields of interest, including computing. The exact nature of that list depends on the context in which it is used, although the meaning is conceptually similar across disciplines. Tuples are found in mathematics, computer programming and the relational data model on which many modern database systems are based.\n",
    "\n",
    "Tuples in mathematicsIn mathematics, a tuple is an ordered sequence of values. The values can be repeated, but their number is always finite. A tuple is often represented by a comma-delimited list whose values are enclosed in parentheses, although they're sometimes enclosed in square brackets or angle brackets. The following tuple uses parentheses and contains four values.)\n",
    "\n",
    "(refer this defination of the tuple)\n",
    "Tuples in computer programmingSome programming languages include a data element referred to as a tuple, which is similar in concept to the tuple used in mathematics. Tuples in programming are also ordered lists with a finite number of elements. In addition, the tuple's values can usually be duplicated and be of any type. A tuple's elements are also typically immutable -- something that cannot be changed. This immutability often translates to better performance than a data structure such as an array or list, whose values can be changed.\n",
    "\n",
    "lets see how to create tuple\n",
    "There are various ways by which you can create a tuple in Python. They are as follows:(1)Using round brackets ,(2)With one itemTuple,(3) Constructor\n",
    "lets see with examples\n"
   ]
  },
  {
   "cell_type": "code",
   "execution_count": 16,
   "id": "c588c4d2-e894-4754-80d9-35d4a699b1f0",
   "metadata": {},
   "outputs": [
    {
     "name": "stdout",
     "output_type": "stream",
     "text": [
      "('shalin', 'sumona', 'gasmir')\n"
     ]
    }
   ],
   "source": [
    "#create a tuple using round brackets\n",
    "t_p=(\"shalin\",\"sumona\",\"gasmir\")\n",
    "print(t_p)"
   ]
  },
  {
   "cell_type": "code",
   "execution_count": 17,
   "id": "a7078643-b8ee-4072-ade2-8d9408bf76ce",
   "metadata": {},
   "outputs": [
    {
     "data": {
      "text/plain": [
       "tuple"
      ]
     },
     "execution_count": 17,
     "metadata": {},
     "output_type": "execute_result"
    }
   ],
   "source": [
    "type(t_p)#here you can see the type of variable is tuple"
   ]
  },
  {
   "cell_type": "code",
   "execution_count": 20,
   "id": "e550cc05-5378-4cb7-b9e1-f1f4c8da04fe",
   "metadata": {},
   "outputs": [
    {
     "name": "stdout",
     "output_type": "stream",
     "text": [
      "(1, 2, 4, 'rohit shettey')\n"
     ]
    }
   ],
   "source": [
    "#Create a Tuple With One Item\n",
    "#Here, in the above snippet we are considering a variable called values which holds a tuple that consists of either int or str, the ‘…’\n",
    "#means that the tuple will hold more than one int or str.\n",
    "k_p: tuple[int | str, ...] = (1,2,4,\"rohit shettey\")\n",
    "print(k_p)"
   ]
  },
  {
   "cell_type": "code",
   "execution_count": 22,
   "id": "c1414f5d-e655-4b32-9268-94a016f4fad9",
   "metadata": {},
   "outputs": [
    {
     "data": {
      "text/plain": [
       "tuple"
      ]
     },
     "execution_count": 22,
     "metadata": {},
     "output_type": "execute_result"
    }
   ],
   "source": [
    "type(k_p)"
   ]
  },
  {
   "cell_type": "markdown",
   "id": "e754aa05-72a0-4988-a346-7f338c0d51a6",
   "metadata": {},
   "source": [
    "Note: In case your generating a tuple with a single element, make sure to add a comma after the element. Let us see an example of the same.\n",
    "(it is optional not for question its only for understanding)"
   ]
  },
  {
   "cell_type": "code",
   "execution_count": 23,
   "id": "793acb84-b91d-45ab-9d62-1669a08c39a4",
   "metadata": {},
   "outputs": [
    {
     "name": "stdout",
     "output_type": "stream",
     "text": [
      "<class 'tuple'>\n",
      "<class 'str'>\n"
     ]
    }
   ],
   "source": [
    "j_k = (\"team sumona\",)\n",
    "print(type(j_k))\n",
    "#NOT a tuple\n",
    "y_k = (\"team gasmir\")\n",
    "print(type(y_k))"
   ]
  },
  {
   "cell_type": "code",
   "execution_count": 24,
   "id": "e5ae8200-14ec-41bb-80f0-75c83044e383",
   "metadata": {},
   "outputs": [
    {
     "name": "stdout",
     "output_type": "stream",
     "text": [
      "('bollywood', 'tollywood', 'hollywood')\n"
     ]
    }
   ],
   "source": [
    "#Tuple Constructor in Python\n",
    "#To create a tuple with a Tuple constructor, we will pass the elements as its parameters.\n",
    "tuple_constructor = tuple((\"bollywood\", \"tollywood\", \"hollywood\"))\n",
    "print(tuple_constructor)"
   ]
  },
  {
   "cell_type": "code",
   "execution_count": 25,
   "id": "44a7b341-c98e-487a-a2f6-e8bc146d4f2c",
   "metadata": {},
   "outputs": [
    {
     "data": {
      "text/plain": [
       "tuple"
      ]
     },
     "execution_count": 25,
     "metadata": {},
     "output_type": "execute_result"
    }
   ],
   "source": [
    "type(tuple_constructor)"
   ]
  },
  {
   "cell_type": "markdown",
   "id": "5600b2ba-0f8e-451c-b05c-4d62ae7f6fa3",
   "metadata": {},
   "source": [
    "Tuple Items or we can say tuple characteristic \n",
    "Tuple items are ordered, unchangeable, and allow duplicate values.\n",
    "\n",
    "Tuple items are indexed, the first item has index [0], the second item has index [1] etc.\n",
    "\n",
    "(1)Ordered:-When we say that tuples are ordered, it means that the items have a defined order, and that order will not change.\n",
    "\n",
    "(2)Unchangeable:-Tuples are unchangeable, meaning that we cannot change, add or remove items after the tuple has been created.\n",
    "\n",
    "(3)Allow Duplicates:-Since tuples are indexed, they can have items with the same value:\n",
    "\n",
    "(4)tuple can contain heterogenous data type "
   ]
  },
  {
   "cell_type": "markdown",
   "id": "b5a5bf81-4ae5-4dd4-a3e4-56ce21dc4e6f",
   "metadata": {},
   "source": [
    "we see the tuple and list both now lets compare and see whats is the difference between them also we can see with examples\n",
    "\n",
    "In Python, lists and tuples are both built-in data structures that store collections of data.meaning they can store any kind of data type and are sequential.both allow duplicate element. However, they differ in a few key ways:\n",
    "\n",
    "(0)Tuples usually contain a heterogeneous sequence of elements, while lists usually contain a homogeneous sequence\n",
    "\n",
    "(1)Lists are defined using square brackets [...], while tuples use parentheses (...).\n",
    "\n",
    "(2)Mutability: Lists are mutable, meaning they can be modified after creation, while tuples are immutable, meaning they cannot be changed.Size: Tuples have a fixed size, while lists can have a variable size.\n",
    "\n",
    "(3)Performance: Tuples are more memory efficient and faster than lists, especially when looking up values.\n",
    "\n",
    "(4)Error-proneness: List operations are more error-prone than tuple operations.\n",
    "\n",
    "(5)Syntax: The syntactical differences between lists and tuples are straightforward but essential. Lists are delineated using square brackets, like so: [1, 2, 3]. Tuples, in contrast, are encased in parentheses: (1, 2, 3). Though it might seem a minor distinction, it's a critical one, ensuring clarity in code.\n",
    "\n",
    "(6)Data integrity – By ensuring that the data’s structure and contents stay consistent, tuples can be utilised to ensure data integrity. To make sure the caller is aware of how much data to expect, for instance, if a function returns a set amount of values, you might want to return them as a tuple rather than a list."
   ]
  },
  {
   "cell_type": "markdown",
   "id": "88c76931-d927-40a1-b951-ce1eb239633e",
   "metadata": {},
   "source": [
    "(While operations like indexing and slicing can be performed on tuples much like lists, their immutable nature ensures some common methods are missing. For instance, there’s no append() or remove() for tuples. These restrictions, though seeming limiting, are what make tuples reliable for certain tasks.)"
   ]
  },
  {
   "cell_type": "markdown",
   "id": "993bcdb4-4bf8-46a3-815b-142882253697",
   "metadata": {},
   "source": [
    "lets see with examples"
   ]
  },
  {
   "cell_type": "code",
   "execution_count": 26,
   "id": "4b8d1dc0-43e3-4d2e-a56b-c60f4332caf1",
   "metadata": {},
   "outputs": [
    {
     "data": {
      "text/plain": [
       "['aa', 'bb', 'gg', 'hh', 'kk', 'rr']"
      ]
     },
     "execution_count": 26,
     "metadata": {},
     "output_type": "execute_result"
    }
   ],
   "source": [
    "#Test whether tuples are immutable and lists are mutableHere we are going to compare the list and tuple mutability tests.\n",
    "list3"
   ]
  },
  {
   "cell_type": "code",
   "execution_count": 27,
   "id": "3f844846-aea3-48ce-98de-4f43c1f718d9",
   "metadata": {},
   "outputs": [],
   "source": [
    "list3[3]=\"ll\""
   ]
  },
  {
   "cell_type": "code",
   "execution_count": 28,
   "id": "b56926e2-1ba6-4fa6-ac95-a668f84a078d",
   "metadata": {},
   "outputs": [
    {
     "data": {
      "text/plain": [
       "['aa', 'bb', 'gg', 'll', 'kk', 'rr']"
      ]
     },
     "execution_count": 28,
     "metadata": {},
     "output_type": "execute_result"
    }
   ],
   "source": [
    "list3#see lisst is mutable its can be changed once we create a list"
   ]
  },
  {
   "cell_type": "code",
   "execution_count": 29,
   "id": "64986ad0-ba62-421b-8cfb-b53442b2b60f",
   "metadata": {},
   "outputs": [
    {
     "ename": "TypeError",
     "evalue": "'tuple' object does not support item assignment",
     "output_type": "error",
     "traceback": [
      "\u001b[0;31m---------------------------------------------------------------------------\u001b[0m",
      "\u001b[0;31mTypeError\u001b[0m                                 Traceback (most recent call last)",
      "Cell \u001b[0;32mIn[29], line 2\u001b[0m\n\u001b[1;32m      1\u001b[0m tuple1 \u001b[38;5;241m=\u001b[39m (\u001b[38;5;124m\"\u001b[39m\u001b[38;5;124mkks14\u001b[39m\u001b[38;5;124m\"\u001b[39m,\u001b[38;5;124m\"\u001b[39m\u001b[38;5;124mlaughter shef\u001b[39m\u001b[38;5;124m\"\u001b[39m,)\n\u001b[0;32m----> 2\u001b[0m \u001b[43mtuple1\u001b[49m\u001b[43m[\u001b[49m\u001b[38;5;241;43m0\u001b[39;49m\u001b[43m]\u001b[49m \u001b[38;5;241m=\u001b[39m \u001b[38;5;124m\"\u001b[39m\u001b[38;5;124mbollywood movie\u001b[39m\u001b[38;5;124m\"\u001b[39m\n\u001b[1;32m      3\u001b[0m \u001b[38;5;28mprint\u001b[39m(tuple1)\n",
      "\u001b[0;31mTypeError\u001b[0m: 'tuple' object does not support item assignment"
     ]
    }
   ],
   "source": [
    "tuple1 = (\"kks14\",\"laughter shef\",)\n",
    "tuple1[0] = \"bollywood movie\"\n",
    "print(tuple1)"
   ]
  },
  {
   "cell_type": "markdown",
   "id": "37711fc8-38d7-4f49-a7ad-f69b83877ec5",
   "metadata": {},
   "source": [
    "see tuple are immutable above error is proof that . we can see tupe can not be modified"
   ]
  },
  {
   "cell_type": "markdown",
   "id": "a5c1d836-b5d5-4f8b-b671-84e16271ac7f",
   "metadata": {},
   "source": [
    "Test whether Tuples are Memory Efficient as tuples are stored in a single memory block therefore they don’t require extra space for new objects whereas the lists are allocated in two blocks, first the fixed one with all the Python object information and second a variable-sized block for the data."
   ]
  },
  {
   "cell_type": "code",
   "execution_count": 30,
   "id": "2c865ff3-9872-4dc5-98e0-95cc5fb6583e",
   "metadata": {},
   "outputs": [
    {
     "name": "stdout",
     "output_type": "stream",
     "text": [
      "88\n",
      "64\n"
     ]
    }
   ],
   "source": [
    "import sys\n",
    "a_list = []\n",
    "a_tuple = ()\n",
    "a_list = [\"team master shef\",\"team laugter shef\",\"team soprts\"]\n",
    "a_tuple = (\"team shalin\",\"team kamolika\",\"team monjulika\")\n",
    "print(sys.getsizeof(a_list))\n",
    "print(sys.getsizeof(a_tuple))"
   ]
  },
  {
   "cell_type": "markdown",
   "id": "c0700a64-49a5-44d7-a9c8-d25373cc2dac",
   "metadata": {},
   "source": [
    "Performance:Test whether the implication of iterations is comparatively faster in TuplesAs tuples are stored in a single memory block, therefore, they don’t require extra space for new objects as they are immutable whereas the lists are allocated in two blocks, first the fixed one with all the Python object information and second a variable-sized block for the data which makes them even faster."
   ]
  },
  {
   "cell_type": "code",
   "execution_count": 1,
   "id": "f5ad9603-a1eb-4b7a-9e53-65ac537a37a0",
   "metadata": {},
   "outputs": [
    {
     "name": "stdout",
     "output_type": "stream",
     "text": [
      "Total lookup time for Tuple:  81811\n",
      "Total lookup time for LIST:  81611\n"
     ]
    }
   ],
   "source": [
    "import sys, platform\n",
    "import time\n",
    "\n",
    "l=list(range(100))\n",
    "t=tuple(range(100))\n",
    "\n",
    "start = time.time_ns()\n",
    "for i in range(len(t)):\n",
    "    a = t[i]\n",
    "end = time.time_ns()\n",
    "print(\"Total lookup time for Tuple: \", end - start)\n",
    "\n",
    "start = time.time_ns()\n",
    "for i in range(len(l)):\n",
    "    a = l[i]\n",
    "end = time.time_ns()\n",
    "print(\"Total lookup time for LIST: \", end - start)\n"
   ]
  },
  {
   "cell_type": "markdown",
   "id": "6d217d00-c0db-4854-aae1-87c8d267521f",
   "metadata": {},
   "source": [
    "above we see the differnce between list and tuple with example but conclsion of the this question is main two  difference is important \n",
    "list is mutable and tuple is immutable.\n",
    "there for Unlike lists, which can have items appended or removed from them via the use of list methods, the tuple is an immutable structure. The tuple in the example above has two items in it: this size is fixed and can never be changed.but both of have index cocept(means you can acess but you can not modified in tuple but you can do in list) as well and both are nested mens you can create tuple inside tuple and list inside list\n",
    "\n",
    "thats it compare and contrast tuples and lists with examples above we see "
   ]
  },
  {
   "cell_type": "markdown",
   "id": "15f0ff2c-e161-48fe-9d06-86f7a89e8a7f",
   "metadata": {},
   "source": [
    "## question 5 describe the key feature of sets and provide examples of their use cases."
   ]
  },
  {
   "cell_type": "markdown",
   "id": "567ce7e8-9091-4a85-bce8-93ac4b2c5ee2",
   "metadata": {},
   "source": [
    "### Ans \n",
    "sets:-sets are unordered and unique collection of elements doesn't alllow duplicate elements\n"
   ]
  },
  {
   "cell_type": "markdown",
   "id": "9ef12a32-0c9a-4ca2-bf8e-2857415a432f",
   "metadata": {},
   "source": [
    "set:-Set is a data type in python used to store several items in a single variable. It is one of the four built-in data types (List, Dictionary, Tuple, and Set) having qualities and usage different from the other three. It is a collection that is written with curly brackets and is both unindexed and unordered. \n",
    "\n",
    "Set Items:-Items of a set in python are immutable (unchangeable), do not duplicate values, and unordered. Thus, items in a set do not appear in a stipulated manner, i.e., they can appear in a different order every time it is used. Due to this, set items cannot be referred to by key or index. \n",
    "\n",
    "After a set is created, its items cannot be changed. However, new items can be added. As we mentioned, all set items need to be unique because duplicates are not allowed. Items in a set can be of any data type.so that why you also say its set is  mutable object "
   ]
  },
  {
   "cell_type": "markdown",
   "id": "985725be-6084-4b7a-b3f9-8b96a2921dcb",
   "metadata": {},
   "source": [
    "To create a python set, place all elements or items separated by a comma inside curly braces {}. The built-in set() function can also be used to create a set in python. As per definition, a set can have any number and any items. However, mutable elements such as dictionaries, lists, or sets are not allowed as its elements.\n",
    "\n",
    "set is immutable data structure has a stable hash values like tuples"
   ]
  },
  {
   "cell_type": "markdown",
   "id": "9155ab89-9125-499d-90c9-19385ff493f6",
   "metadata": {},
   "source": [
    " Note: Set items are unchangeable, but you can remove items and add new items. but not replace item or value of the set cannot be change"
   ]
  },
  {
   "cell_type": "code",
   "execution_count": 1,
   "id": "ae5f3dea-a3be-4d81-9e1f-571a1b9afb9a",
   "metadata": {},
   "outputs": [
    {
     "name": "stdout",
     "output_type": "stream",
     "text": [
      "<class 'set'>\n"
     ]
    }
   ],
   "source": [
    "s = {1,2,3,7,4,7,7,7,8,5,6,9}\n",
    "print(type(s))"
   ]
  },
  {
   "cell_type": "code",
   "execution_count": 4,
   "id": "b24e1378-de25-495b-9295-e1bdba51543b",
   "metadata": {
    "tags": []
   },
   "outputs": [
    {
     "data": {
      "text/plain": [
       "{1, 2, 3, 4, 5, 6, 7, 8, 9}"
      ]
     },
     "execution_count": 4,
     "metadata": {},
     "output_type": "execute_result"
    }
   ],
   "source": [
    "#hence its prove set dosent allow duplication\n",
    "s"
   ]
  },
  {
   "cell_type": "code",
   "execution_count": 24,
   "id": "7c84c3ef-d581-4187-97b0-ecd19596cee0",
   "metadata": {},
   "outputs": [
    {
     "ename": "TypeError",
     "evalue": "'set' object does not support item assignment",
     "output_type": "error",
     "traceback": [
      "\u001b[0;31m---------------------------------------------------------------------------\u001b[0m",
      "\u001b[0;31mTypeError\u001b[0m                                 Traceback (most recent call last)",
      "Cell \u001b[0;32mIn[24], line 1\u001b[0m\n\u001b[0;32m----> 1\u001b[0m \u001b[43ms\u001b[49m\u001b[43m[\u001b[49m\u001b[38;5;241;43m0\u001b[39;49m\u001b[43m]\u001b[49m \u001b[38;5;241m=\u001b[39m \u001b[38;5;241m10\u001b[39m \u001b[38;5;66;03m# see set has no index sysytem hence its prove\u001b[39;00m\n",
      "\u001b[0;31mTypeError\u001b[0m: 'set' object does not support item assignment"
     ]
    }
   ],
   "source": [
    "s[0] = 10 # see set has no index and unique and  Immutable object is  Set"
   ]
  },
  {
   "cell_type": "code",
   "execution_count": 36,
   "id": "a28ad0b4-6710-4fc6-95a2-debd7f3dc4ce",
   "metadata": {},
   "outputs": [
    {
     "ename": "TypeError",
     "evalue": "unhashable type: 'set'",
     "output_type": "error",
     "traceback": [
      "\u001b[0;31m---------------------------------------------------------------------------\u001b[0m",
      "\u001b[0;31mTypeError\u001b[0m                                 Traceback (most recent call last)",
      "Cell \u001b[0;32mIn[36], line 1\u001b[0m\n\u001b[0;32m----> 1\u001b[0m s \u001b[38;5;241m=\u001b[39m {\u001b[38;5;241m1\u001b[39m, \u001b[38;5;241m2\u001b[39m, \u001b[38;5;241m3\u001b[39m, \u001b[38;5;241m4\u001b[39m, \u001b[38;5;241m5\u001b[39m, {\u001b[38;5;241m4\u001b[39m, \u001b[38;5;241m5\u001b[39m, \u001b[38;5;241m6\u001b[39m}} \u001b[38;5;66;03m# hence its prove set is unhashable type\u001b[39;00m\n",
      "\u001b[0;31mTypeError\u001b[0m: unhashable type: 'set'"
     ]
    }
   ],
   "source": [
    "s = {1, 2, 3, 4, 5, {4, 5, 6}} # hence its prove set is unhashable type"
   ]
  },
  {
   "cell_type": "markdown",
   "id": "72c61ea6-0682-4206-aae2-69a198ad550b",
   "metadata": {},
   "source": [
    "various set method with their uses\n",
    "\n",
    "(Set in python have various methods. We have seen the use of some of the above. Below is a list of all the available methods for the set objects:\n",
    "\n",
    "update()- used to update the set with union of others and itself\n",
    "\n",
    "add()- used to add a single item to the set\n",
    "\n",
    "copy()- used to return a copy of the set\n",
    "\n",
    "clear()- used to remove all items of the set\n",
    "\n",
    "discard()- used to remove an item from the set. If the item is not an element, then nothing is done\n",
    "\n",
    "pop()- used to return and remove an arbitrary set item, KeyError is raised if the set is empty\n",
    "\n",
    "remove()- used to remove an item from the set. KeyError is raised if an item is not a member of the set\n",
    "\n",
    "intersection_update()- used to update a set with the intersection of another set and itself\n",
    "\n",
    "difference_update()- used to remove intersecting items from this set)\n",
    "\n",
    "symmetric_difference_update()- used to update a set with the symmetric difference of another set and itself union()- used to return a new set as a union of sets\n",
    "\n",
    "here its new concept of Python Frozenset new class having the characteristics of a set in python whose items cannot be changes post assignment is known as Frozenset. Like tuples behave as immutable lists, frozensets behave as immutable sets.\n",
    "\n",
    "As sets are unhashable, they cannot be uses as keys of a dictionary. However, frozensets are hashable and can act as keys of a dictionary. \n",
    "\n",
    "frozenset() function is used to create frozensets. As they are immutable, add and remove item methide aren’t supported. However, the following methods are:\n",
    "issubset()- if another set is contained in this set, return true\n",
    "\n",
    "issuperset()- if this set is contained in another set, return true\n",
    "\n",
    "isdisjoint()- if the intersection of two sets is null, return true\n",
    "\n",
    "symmetric_difference()- used to return a new set as the symmetric difference of two sets \n",
    "\n",
    "difference()- used to return a new set as the difference of two or more sets\n",
    "\n",
    "intersection()- used to return a new set as intersection of two sets\n",
    "(about frozen sets that we discuss example in next question not here)"
   ]
  },
  {
   "cell_type": "markdown",
   "id": "9695c7d3-344f-4f1b-aed8-4b98f459ebd6",
   "metadata": {},
   "source": [
    "lets see with example with above use cases"
   ]
  },
  {
   "cell_type": "code",
   "execution_count": 31,
   "id": "6d03fbeb-633a-446e-8a72-f867659e9c44",
   "metadata": {},
   "outputs": [],
   "source": [
    "a={11,12,13,14,15,16,17,18}\n",
    "a.add(19)#not compulsory that it will add to the last of set that see in line number [41]"
   ]
  },
  {
   "cell_type": "code",
   "execution_count": 32,
   "id": "4581429f-1875-4eb6-ba77-67583e49160b",
   "metadata": {},
   "outputs": [
    {
     "data": {
      "text/plain": [
       "{11, 12, 13, 14, 15, 16, 17, 18, 19}"
      ]
     },
     "execution_count": 32,
     "metadata": {},
     "output_type": "execute_result"
    }
   ],
   "source": [
    "a"
   ]
  },
  {
   "cell_type": "code",
   "execution_count": 34,
   "id": "09bc2461-41aa-40eb-a56f-77d0c6c644b2",
   "metadata": {},
   "outputs": [],
   "source": [
    "a.update([20])#updates take iterable ."
   ]
  },
  {
   "cell_type": "code",
   "execution_count": 35,
   "id": "a4cd3fa7-8900-4b4b-8e7e-15249939f1f2",
   "metadata": {},
   "outputs": [
    {
     "data": {
      "text/plain": [
       "{11, 12, 13, 14, 15, 16, 17, 18, 19, 20}"
      ]
     },
     "execution_count": 35,
     "metadata": {},
     "output_type": "execute_result"
    }
   ],
   "source": [
    "a"
   ]
  },
  {
   "cell_type": "code",
   "execution_count": 43,
   "id": "0fc15b34-c32a-4f20-9add-86e7b6c3f6de",
   "metadata": {},
   "outputs": [
    {
     "data": {
      "text/plain": [
       "12"
      ]
     },
     "execution_count": 43,
     "metadata": {},
     "output_type": "execute_result"
    }
   ],
   "source": [
    "a.pop()#it is not compulsory that it will remove the last element also pop remove rendamly not a specific argument need\n",
    "       #if you give it will throw you error"
   ]
  },
  {
   "cell_type": "code",
   "execution_count": 38,
   "id": "bcc42eae-0b22-45c2-b9e3-dfbc35abeb15",
   "metadata": {},
   "outputs": [
    {
     "data": {
      "text/plain": [
       "{12, 13, 14, 15, 16, 17, 18, 19, 20}"
      ]
     },
     "execution_count": 38,
     "metadata": {},
     "output_type": "execute_result"
    }
   ],
   "source": [
    "a"
   ]
  },
  {
   "cell_type": "code",
   "execution_count": 39,
   "id": "2019cea5-5f1b-47ec-b1c1-3d80ad9914ed",
   "metadata": {},
   "outputs": [],
   "source": [
    "a.remove(14)      #removes a spcific element"
   ]
  },
  {
   "cell_type": "code",
   "execution_count": 40,
   "id": "4d377d83-073d-42fb-995f-d7c101ab5605",
   "metadata": {},
   "outputs": [
    {
     "data": {
      "text/plain": [
       "{12, 13, 15, 16, 17, 18, 19, 20}"
      ]
     },
     "execution_count": 40,
     "metadata": {},
     "output_type": "execute_result"
    }
   ],
   "source": [
    "a"
   ]
  },
  {
   "cell_type": "code",
   "execution_count": 41,
   "id": "c4b6a3cc-155f-4317-8a70-bf849ad048c9",
   "metadata": {},
   "outputs": [],
   "source": [
    "a.add(14)"
   ]
  },
  {
   "cell_type": "code",
   "execution_count": 42,
   "id": "e570c5a7-802f-4a3c-b798-d52b739f3b47",
   "metadata": {},
   "outputs": [
    {
     "data": {
      "text/plain": [
       "{12, 13, 14, 15, 16, 17, 18, 19, 20}"
      ]
     },
     "execution_count": 42,
     "metadata": {},
     "output_type": "execute_result"
    }
   ],
   "source": [
    "a"
   ]
  },
  {
   "cell_type": "code",
   "execution_count": 44,
   "id": "ae088702-f7f1-456f-9625-3cd37606d367",
   "metadata": {},
   "outputs": [],
   "source": [
    "a.clear()# to clear all element in set hence its prove"
   ]
  },
  {
   "cell_type": "code",
   "execution_count": 45,
   "id": "985a35ec-6496-4f07-8766-ed8b945d546a",
   "metadata": {},
   "outputs": [
    {
     "data": {
      "text/plain": [
       "set()"
      ]
     },
     "execution_count": 45,
     "metadata": {},
     "output_type": "execute_result"
    }
   ],
   "source": [
    "a"
   ]
  },
  {
   "cell_type": "code",
   "execution_count": 46,
   "id": "9fa5df50-3a3b-46bf-bf8d-f0962271fb12",
   "metadata": {},
   "outputs": [
    {
     "data": {
      "text/plain": [
       "{'kamsdco', 'oewncwnd', 'ojncdwnd'}"
      ]
     },
     "execution_count": 46,
     "metadata": {},
     "output_type": "execute_result"
    }
   ],
   "source": [
    "# you can delete a varible also lets see \n",
    "s={\"kamsdco\",\"oewncwnd\",\"ojncdwnd\"}\n",
    "s"
   ]
  },
  {
   "cell_type": "code",
   "execution_count": 47,
   "id": "397bc82e-23ef-4548-9a17-8e6d9d480476",
   "metadata": {},
   "outputs": [],
   "source": [
    "del s"
   ]
  },
  {
   "cell_type": "code",
   "execution_count": 48,
   "id": "cc7505d5-65fc-40e2-bdc1-f946cee3a4b5",
   "metadata": {},
   "outputs": [
    {
     "ename": "NameError",
     "evalue": "name 's' is not defined",
     "output_type": "error",
     "traceback": [
      "\u001b[0;31m---------------------------------------------------------------------------\u001b[0m",
      "\u001b[0;31mNameError\u001b[0m                                 Traceback (most recent call last)",
      "Cell \u001b[0;32mIn[48], line 1\u001b[0m\n\u001b[0;32m----> 1\u001b[0m \u001b[43ms\u001b[49m\n",
      "\u001b[0;31mNameError\u001b[0m: name 's' is not defined"
     ]
    }
   ],
   "source": [
    "s #hence its prove "
   ]
  },
  {
   "cell_type": "code",
   "execution_count": 58,
   "id": "07a3afda-ccb2-4288-a6eb-104da1fa3639",
   "metadata": {},
   "outputs": [],
   "source": [
    "b = {21,22,23,24,26,27,29}\n",
    "b.discard(23)#used to remove an item from the set. If the item is not an element, then nothing is done"
   ]
  },
  {
   "cell_type": "code",
   "execution_count": 50,
   "id": "73922d49-8869-46a0-b56b-75f48f6ffa44",
   "metadata": {},
   "outputs": [
    {
     "data": {
      "text/plain": [
       "{21, 22, 24, 26, 27, 29}"
      ]
     },
     "execution_count": 50,
     "metadata": {},
     "output_type": "execute_result"
    }
   ],
   "source": [
    "b"
   ]
  },
  {
   "cell_type": "code",
   "execution_count": 59,
   "id": "1eb75841-2ab7-4fcb-bdc9-47ded8b3018a",
   "metadata": {},
   "outputs": [
    {
     "data": {
      "text/plain": [
       "{21, 22, 23, 24, 25, 26, 27, 28, 29}"
      ]
     },
     "execution_count": 59,
     "metadata": {},
     "output_type": "execute_result"
    }
   ],
   "source": [
    "b.union([23,28,25]) #used to return a new set as a union of sets"
   ]
  },
  {
   "cell_type": "code",
   "execution_count": 61,
   "id": "7e406356-b916-4f70-9814-ccae3f9dc2f8",
   "metadata": {},
   "outputs": [
    {
     "data": {
      "text/plain": [
       "{21, 22, 24, 26, 27, 29}"
      ]
     },
     "execution_count": 61,
     "metadata": {},
     "output_type": "execute_result"
    }
   ],
   "source": [
    "b.difference([23])#used to remove intersecting items from this set)"
   ]
  },
  {
   "cell_type": "code",
   "execution_count": 55,
   "id": "ce692629-207a-4ec1-9df5-75c7740cdf3a",
   "metadata": {},
   "outputs": [
    {
     "data": {
      "text/plain": [
       "{11, 12, 17, 20, 22, 24, 25, 26, 29, 41, 45}"
      ]
     },
     "execution_count": 55,
     "metadata": {},
     "output_type": "execute_result"
    }
   ],
   "source": [
    "#set operations\n",
    "#Union[|]: combines elements from two sets excluding duplicates\n",
    "#Intersection[&]: only common elements btw sets\n",
    "#difference[-]: return the elements that is present in first set and not in second\n",
    "#symmetric difference[^]: returns elements that are present in either of sets but not in both\n",
    "#lets see with example\n",
    "a={11,22,12,24,26,17,20}\n",
    "b={41,45,22,24,29,17,25}\n",
    "a|b"
   ]
  },
  {
   "cell_type": "code",
   "execution_count": 57,
   "id": "8be4c3be-c523-46c1-aecf-084aaa8136f9",
   "metadata": {},
   "outputs": [
    {
     "name": "stdout",
     "output_type": "stream",
     "text": [
      "{24, 17, 22}\n",
      "{26, 11, 20, 12}\n",
      "{41, 11, 12, 45, 20, 25, 26, 29}\n"
     ]
    }
   ],
   "source": [
    "print(a&b) #intersection,difference,and symmetric difference hence its prove\n",
    "print(a-b)\n",
    "print(a^b)"
   ]
  },
  {
   "cell_type": "markdown",
   "id": "ae3d2c64-e191-4d28-bd9a-60bba65802ee",
   "metadata": {},
   "source": [
    "above we see what is set, use cases of set , some function and their uses and also key feature of sets all of this with examples"
   ]
  },
  {
   "cell_type": "markdown",
   "id": "36ea0a56-c9b4-4d8c-a756-844ec9bc0760",
   "metadata": {},
   "source": [
    "## question 6 discuss the use cases of tuples and sets in python programming"
   ]
  },
  {
   "cell_type": "markdown",
   "id": "3f85344c-c8aa-4093-a01b-496da206229c",
   "metadata": {},
   "source": [
    "### Ans\n",
    "use cases of tuples\n",
    "Tuples are great to use if you want the data in your collection to be read-only, never to change, and always remain the same and constant. Because of this ability and the guarantee that data is never changed\n",
    "example emloye id , bank zccoun no, addhar card etc\n",
    "\n",
    "Tuple is a collection which is ordered and unchangeable. Allows duplicate members.\n",
    "\n",
    "(note:-Set items are unchangeable, but you can remove and/or add items whenever you like.\n",
    "As of Python version 3.7, dictionaries are ordered. In Python 3.6 and earlier, dictionaries are unordered.)\n",
    "\n",
    "how to create tuple that we see in question 4\n",
    "\n",
    "Some of the most relevant characteristics of tuple objects include the following:\n",
    "(0.1)Tuple allow duplication\n",
    "(1)Ordered: They contain elements that are sequentially arranged according to their specific insertion order.\n",
    "\n",
    "(2)Lightweight: They consume relatively small amounts of memory compared to other sequences like lists.\n",
    "(3)Indexable through a zero-based index: They allow you to access their elements by integer indices that start from zero.\n",
    "\n",
    "(4)Immutable: They don’t support in-place mutations or changes to their contained elements. They don’t support growing or shrinking operations.Heterogeneous: They can store objects of different data types and domains, including mutable objects.\n",
    "\n",
    "(5)Nestable: They can contain other tuples, so you can have tuples of tuples.\n",
    "(6)Iterable: They support iteration, so you can traverse them using a loop or comprehension while you perform operations with each of their elements.\n",
    "\n",
    "(7)Sliceable: They support slicing operations, meaning that you can extract a series of elements from a tuple.\n",
    "(8)Combinable: They support concatenation operations, so you can combine two or more tuples using the concatenation operators, which creates a new tuple.\n",
    "\n",
    "(9)Hashable: They can work as keys in dictionaries when all the tuple items are immutable."
   ]
  },
  {
   "cell_type": "code",
   "execution_count": 67,
   "id": "6129230a-76b0-45fd-b576-5c9ddcd66e86",
   "metadata": {},
   "outputs": [
    {
     "name": "stdout",
     "output_type": "stream",
     "text": [
      "banana\n",
      "apple\n",
      "black berry\n"
     ]
    }
   ],
   "source": [
    "#lets see with use case with example\n",
    "#Unpacking a Tuple\n",
    "#When we create a tuple, we normally assign values to it. This is called \"packing\" a tuple:\n",
    "fruits=('banana','apple','black berry')\n",
    "(shalin, aditi, shilpa) = fruits\n",
    "print(shalin)\n",
    "print(aditi)\n",
    "print(shilpa)"
   ]
  },
  {
   "cell_type": "code",
   "execution_count": 68,
   "id": "14daf1e1-4119-4320-b2ec-131a5790d28e",
   "metadata": {},
   "outputs": [
    {
     "data": {
      "text/plain": [
       "tuple"
      ]
     },
     "execution_count": 68,
     "metadata": {},
     "output_type": "execute_result"
    }
   ],
   "source": [
    "type(fruits)"
   ]
  },
  {
   "cell_type": "code",
   "execution_count": 69,
   "id": "e624f7ea-2ed9-441d-9386-d5eff35b9f64",
   "metadata": {},
   "outputs": [
    {
     "data": {
      "text/plain": [
       "('banana', 'apple', 'black berry')"
      ]
     },
     "execution_count": 69,
     "metadata": {},
     "output_type": "execute_result"
    }
   ],
   "source": [
    "fruits"
   ]
  },
  {
   "cell_type": "code",
   "execution_count": 70,
   "id": "ef27e57d-863e-4256-b6f9-84c01dd29280",
   "metadata": {},
   "outputs": [],
   "source": [
    "vegetable=(\"potato\",\"tomato\",\"brinjal\",\"carrot\") #add two varible in one tuple\n",
    "mix=fruits+vegetable"
   ]
  },
  {
   "cell_type": "code",
   "execution_count": 71,
   "id": "cb19905a-76a7-415c-a76b-b09df41b4b49",
   "metadata": {},
   "outputs": [
    {
     "data": {
      "text/plain": [
       "('banana', 'apple', 'black berry', 'potato', 'tomato', 'brinjal', 'carrot')"
      ]
     },
     "execution_count": 71,
     "metadata": {},
     "output_type": "execute_result"
    }
   ],
   "source": [
    "mix"
   ]
  },
  {
   "cell_type": "code",
   "execution_count": 73,
   "id": "47d0710d-fdf9-45bc-ac6b-5e5fd04cf2f7",
   "metadata": {},
   "outputs": [
    {
     "name": "stdout",
     "output_type": "stream",
     "text": [
      "banana\n",
      "apple\n",
      "black berry\n",
      "potato\n",
      "tomato\n",
      "brinjal\n",
      "carrot\n"
     ]
    }
   ],
   "source": [
    "#You can also loop through the tuple items by referring to their index number.\n",
    "#Use the range() and len() functions to create a suitable iterable\n",
    "for i in range(len(mix)):#ypu can also do it in while loops\n",
    "    print(mix[i])"
   ]
  },
  {
   "cell_type": "code",
   "execution_count": 75,
   "id": "5b52ffa6-a08b-4ac8-8973-fc3c38c8983a",
   "metadata": {},
   "outputs": [
    {
     "data": {
      "text/plain": [
       "'your name:manjulika'"
      ]
     },
     "execution_count": 75,
     "metadata": {},
     "output_type": "execute_result"
    }
   ],
   "source": [
    "#other use cases of tuple # you cas access the record any time\n",
    "record=(\"join date:28\",\"course name:data analytic\",\"your name:manjulika\")\n",
    "record[2]"
   ]
  },
  {
   "cell_type": "markdown",
   "id": "0c6505b4-4774-4510-aa05-031c7348f3ad",
   "metadata": {},
   "source": [
    "use casess of sets \n",
    "\n",
    "(1) some of the use case of sets we see in previous question \n",
    "\n",
    "(2)Removing duplicates: One of the most common use cases of set is to remove duplicates from a list or any other sequence. Since sets only contain unique elements, we can convert the sequence to a set, which automatically removes the duplicates.\n",
    "\n",
    "(3)Communicating: Sets can be used to formally describe what is included and not included in something. For example, you might describe a playlist as including songs like \"jay hind\" and \"ae vatan\". \n",
    "\n",
    "(4)Making rules: Sets can be used to identify what merits correction or alterations. \n",
    "\n",
    "(5)Programming: Programmers use set theory to deal with large sets of data in Python and MySQL. \n",
    "\n",
    "(6)Representing, gathering, and analyzing comparable data: Sets can be used to represent, gather, and analyze comparable data.\n",
    "\n",
    "(7)Storing a collection of linked things: Sets can be used to store a collection of linked things. \n",
    "\n",
    "(8)Identifying groupings of similar things: Sets can be used to identify groupings of similar things. For example, you can store books in a bookcase in a specific way, such as by alphabetical order, genre, or your favorites. You can also keep related clothing groups together in a closet, such as dresses, trousers, pants, coats, shawls, and socks. \n",
    "\n",
    "(9)Storing hashable elements: Since sets only contain hashable elements, they are useful when we need to store a collection of unique hashable elements.\n",
    "\n",
    "let see with examples as well also see frozen set examples"
   ]
  },
  {
   "cell_type": "code",
   "execution_count": 78,
   "id": "d0e0f7cc-a211-4f15-81c5-16a49e22b38f",
   "metadata": {},
   "outputs": [
    {
     "data": {
      "text/plain": [
       "{'BTS songs', 'ae vatan', 'blackpink songs', 'bollywood songs'}"
      ]
     },
     "execution_count": 78,
     "metadata": {},
     "output_type": "execute_result"
    }
   ],
   "source": [
    "playlist={\"BTS songs\",\"bollywood songs\",\"blackpink songs\"}\n",
    "playlist.add(\"ae vatan\")\n",
    "playlist"
   ]
  },
  {
   "cell_type": "code",
   "execution_count": 79,
   "id": "e74feacc-f9c0-46c8-9e09-8f9cf8fd943d",
   "metadata": {},
   "outputs": [
    {
     "name": "stdout",
     "output_type": "stream",
     "text": [
      "{1, 2, 3, 4, 5}\n"
     ]
    }
   ],
   "source": [
    "#remove dublication\n",
    "my = [1, 2, 3, 2, 1, 4, 5, 4]\n",
    "set1 = set(my)\n",
    "print(set1)  "
   ]
  },
  {
   "cell_type": "code",
   "execution_count": 80,
   "id": "8e0fe7de-5358-43eb-bf56-1d4527ef2149",
   "metadata": {},
   "outputs": [
    {
     "name": "stdout",
     "output_type": "stream",
     "text": [
      "element in set\n"
     ]
    }
   ],
   "source": [
    "#Membership testing: Both set and frozenset are efficient for membership testing.\n",
    "#We can use the in operator to check if an element is present in a set or a frozenset.\n",
    "if 3 in my:\n",
    "    print(\"element in set\")\n",
    "else:\n",
    "    print(\"not in set\")"
   ]
  },
  {
   "cell_type": "code",
   "execution_count": 81,
   "id": "40c54770-fcd6-4c36-9d63-0122ac94f129",
   "metadata": {},
   "outputs": [],
   "source": [
    "##frozen sets>>immutable version of set, cannot be added or removed any new element\n",
    "my = frozenset([1, 2, 2, 2, 3, 3, 4, 5])"
   ]
  },
  {
   "cell_type": "code",
   "execution_count": 82,
   "id": "9c007c15-4759-4673-a494-8c45720e52bf",
   "metadata": {},
   "outputs": [
    {
     "data": {
      "text/plain": [
       "frozenset"
      ]
     },
     "execution_count": 82,
     "metadata": {},
     "output_type": "execute_result"
    }
   ],
   "source": [
    "type(my)"
   ]
  },
  {
   "cell_type": "code",
   "execution_count": 83,
   "id": "7c06bb55-a9e9-4813-80ed-92111e9b8c52",
   "metadata": {},
   "outputs": [
    {
     "ename": "AttributeError",
     "evalue": "'frozenset' object has no attribute 'add'",
     "output_type": "error",
     "traceback": [
      "\u001b[0;31m---------------------------------------------------------------------------\u001b[0m",
      "\u001b[0;31mAttributeError\u001b[0m                            Traceback (most recent call last)",
      "Cell \u001b[0;32mIn[83], line 1\u001b[0m\n\u001b[0;32m----> 1\u001b[0m \u001b[43mmy\u001b[49m\u001b[38;5;241;43m.\u001b[39;49m\u001b[43madd\u001b[49m(\u001b[38;5;241m5\u001b[39m)\n",
      "\u001b[0;31mAttributeError\u001b[0m: 'frozenset' object has no attribute 'add'"
     ]
    }
   ],
   "source": [
    "my.add(5)# hence its prove frozen sets is immutable"
   ]
  },
  {
   "cell_type": "markdown",
   "id": "289c0790-d26a-4771-a1f6-34e67913e655",
   "metadata": {},
   "source": [
    "Hashing keys in a dictionary: Since frozenset is immutable, it can be used as a key in a dictionary,while set cannot be used as a key since it is mutable."
   ]
  },
  {
   "cell_type": "markdown",
   "id": "ffe05d7b-6db5-41a0-a16a-38450d63b2b9",
   "metadata": {},
   "source": [
    "Memory usage: In terms of memory usage, frozenset takes up less memory than a regular set. This is because a set is mutable, meaning that its elements can be added, removed, or changed after it is created. As a result, a set needs to allocate extra memory to allow for these changes. On the other hand, a frozenset is immutable, so it doesn't need this extra memory allocation, making it more memory-efficient.\n",
    "\n",
    "To demonstrate this, you can use the sys.getsizeof() function in Python to check the memory usage of objects."
   ]
  },
  {
   "cell_type": "markdown",
   "id": "47980f37-6000-4c5b-b8be-274ebc962ddc",
   "metadata": {},
   "source": [
    "above we see use cases od sets and tuple with examples"
   ]
  },
  {
   "cell_type": "code",
   "execution_count": null,
   "id": "16522a78-ffd2-4580-ac1b-9a8ce4dbaeb3",
   "metadata": {},
   "outputs": [],
   "source": []
  },
  {
   "cell_type": "markdown",
   "id": "57735652-2a17-4b70-ac10-64ffbf98e191",
   "metadata": {},
   "source": [
    "## question 7 describe how to add, modify, and delete iteams in dictionary with examples."
   ]
  },
  {
   "cell_type": "markdown",
   "id": "d099c4ac-6a01-41d5-b512-94dc3586b36c",
   "metadata": {},
   "source": [
    "### Ans\n",
    "Dictionary:-dictionary is a data structure that stores data as key value pairKeys are unique and immutable\n",
    "\n",
    "Note:dictionaries are unordered. but from Python 3.7 version, dictionaries retain the order of insertion. This means that if you iterate over a dictionary, the items will be returned in the order they were added."
   ]
  },
  {
   "cell_type": "code",
   "execution_count": 1,
   "id": "bb11f310-5a58-4c26-a2c5-bc29f2ec56e5",
   "metadata": {},
   "outputs": [
    {
     "data": {
      "text/plain": [
       "dict"
      ]
     },
     "execution_count": 1,
     "metadata": {},
     "output_type": "execute_result"
    }
   ],
   "source": [
    "d = {}\n",
    "type(d)"
   ]
  },
  {
   "cell_type": "markdown",
   "id": "6fde64c3-428b-448a-ad21-07fcf921cd2d",
   "metadata": {},
   "source": [
    "see thed ata type was dictionary now lets see how to acess , add , modify and delete iteams in dictionsry step by steps with example\n"
   ]
  },
  {
   "cell_type": "markdown",
   "id": "045be5af-fc98-49d0-8ffc-24e662d99a34",
   "metadata": {},
   "source": [
    "Accessing Items\n",
    "You can access the items of a dictionary by referring to its key name, inside square brackets[]"
   ]
  },
  {
   "cell_type": "code",
   "execution_count": 4,
   "id": "03a48b91-e335-4665-af53-dae78ef7b992",
   "metadata": {},
   "outputs": [
    {
     "data": {
      "text/plain": [
       "'data analytic'"
      ]
     },
     "execution_count": 4,
     "metadata": {},
     "output_type": "execute_result"
    }
   ],
   "source": [
    "#lets see acess the  iteams useing key . you can only acess the iteams using key vice-versa not possible\n",
    "dic={'name':'data analytic','date of join':'1 aug','email':'usa@gmail.com'}\n",
    "dic['name']"
   ]
  },
  {
   "cell_type": "code",
   "execution_count": 8,
   "id": "f5ece5d4-107c-4c91-8bd9-c6daa52e37c4",
   "metadata": {},
   "outputs": [
    {
     "ename": "KeyError",
     "evalue": "'data analytic'",
     "output_type": "error",
     "traceback": [
      "\u001b[0;31m---------------------------------------------------------------------------\u001b[0m",
      "\u001b[0;31mKeyError\u001b[0m                                  Traceback (most recent call last)",
      "Cell \u001b[0;32mIn[8], line 2\u001b[0m\n\u001b[1;32m      1\u001b[0m \u001b[38;5;66;03m# \u001b[39;00m\n\u001b[0;32m----> 2\u001b[0m \u001b[43mdic\u001b[49m\u001b[43m[\u001b[49m\u001b[38;5;124;43m'\u001b[39;49m\u001b[38;5;124;43mdata analytic\u001b[39;49m\u001b[38;5;124;43m'\u001b[39;49m\u001b[43m]\u001b[49m\n",
      "\u001b[0;31mKeyError\u001b[0m: 'data analytic'"
     ]
    }
   ],
   "source": [
    "# see vice versa not posible hence its prove \n",
    "dic['data analytic']"
   ]
  },
  {
   "cell_type": "code",
   "execution_count": 9,
   "id": "a36c900f-1656-4240-82ea-3c6880d7c292",
   "metadata": {},
   "outputs": [],
   "source": [
    "#similar method to get same result but using get function lets see with example\n",
    "x=dic.get('name')"
   ]
  },
  {
   "cell_type": "code",
   "execution_count": 10,
   "id": "683fa999-7344-4988-9eaa-b317b1225838",
   "metadata": {},
   "outputs": [
    {
     "data": {
      "text/plain": [
       "'data analytic'"
      ]
     },
     "execution_count": 10,
     "metadata": {},
     "output_type": "execute_result"
    }
   ],
   "source": [
    "x # see hence its prove "
   ]
  },
  {
   "cell_type": "markdown",
   "id": "74e15ba3-e2d2-48e7-a5db-0a00a3ed8d72",
   "metadata": {},
   "source": [
    "(note:-dic has heterogeneous(only for value) data type(Values can be of any type: Values in a Python dictionary can be of any type, including strings, numbers, lists, tuples, and even other dictionaries.) it can be stored any data type but some of charater in key function not use as in key like # , @ any special charater if you use its give you error.\n",
    "\n",
    "#only string and numvbers can be used as in a key of the dictionary)\n"
   ]
  },
  {
   "cell_type": "code",
   "execution_count": 11,
   "id": "49b8abbe-e100-4a69-b3b2-a56108133526",
   "metadata": {},
   "outputs": [
    {
     "data": {
      "text/plain": [
       "dict_keys(['name', 'date of join', 'email'])"
      ]
     },
     "execution_count": 11,
     "metadata": {},
     "output_type": "execute_result"
    }
   ],
   "source": [
    "dic.keys()#this fuction you can acess all the keys"
   ]
  },
  {
   "cell_type": "code",
   "execution_count": 12,
   "id": "3927092f-c104-40b5-970f-1b93bddbd742",
   "metadata": {},
   "outputs": [
    {
     "data": {
      "text/plain": [
       "dict_values(['data analytic', '1 aug', 'usa@gmail.com'])"
      ]
     },
     "execution_count": 12,
     "metadata": {},
     "output_type": "execute_result"
    }
   ],
   "source": [
    "dic.values()#this function you can acess the all values in the dic hence its prove with  the examples"
   ]
  },
  {
   "cell_type": "code",
   "execution_count": 13,
   "id": "5bce24fa-992e-42c4-9439-1124ea0b7773",
   "metadata": {},
   "outputs": [
    {
     "data": {
      "text/plain": [
       "dict_items([('name', 'data analytic'), ('date of join', '1 aug'), ('email', 'usa@gmail.com')])"
      ]
     },
     "execution_count": 13,
     "metadata": {},
     "output_type": "execute_result"
    }
   ],
   "source": [
    "dic.items()#this fuction you can acess both keys and value in dic"
   ]
  },
  {
   "cell_type": "markdown",
   "id": "927a2b6b-5318-427e-b7e9-24f5d8463df3",
   "metadata": {},
   "source": [
    "changes and add :- in dic you You can change the value of a specific item by referring to its key name and The update() method will update the dictionary with the items from the given argument.you can add item without using update function\n",
    "\n",
    "letss see with examples"
   ]
  },
  {
   "cell_type": "code",
   "execution_count": 14,
   "id": "46284a8e-277f-498f-bc8d-3b4124695230",
   "metadata": {},
   "outputs": [],
   "source": [
    "#lets change the value \n",
    "dic['name']='data scientic'"
   ]
  },
  {
   "cell_type": "code",
   "execution_count": 15,
   "id": "22e49249-7642-45ed-b531-9ec4d47375ed",
   "metadata": {},
   "outputs": [
    {
     "data": {
      "text/plain": [
       "dict_items([('name', 'data scientic'), ('date of join', '1 aug'), ('email', 'usa@gmail.com')])"
      ]
     },
     "execution_count": 15,
     "metadata": {},
     "output_type": "execute_result"
    }
   ],
   "source": [
    "dic.items() #see value change hence its prove"
   ]
  },
  {
   "cell_type": "code",
   "execution_count": 17,
   "id": "06babaea-a90c-42fb-9224-b709c5ee86d4",
   "metadata": {},
   "outputs": [],
   "source": [
    "#in dictionary you can update the new key value pair will be add in dic.\n",
    "dic.update({'age':100})"
   ]
  },
  {
   "cell_type": "code",
   "execution_count": 18,
   "id": "27e74766-1194-446a-b76f-175b1f7cf308",
   "metadata": {},
   "outputs": [
    {
     "data": {
      "text/plain": [
       "dict_items([('name', 'data scientic'), ('date of join', '1 aug'), ('email', 'usa@gmail.com'), ('age', 100)])"
      ]
     },
     "execution_count": 18,
     "metadata": {},
     "output_type": "execute_result"
    }
   ],
   "source": [
    "dic.items()"
   ]
  },
  {
   "cell_type": "code",
   "execution_count": 19,
   "id": "5f04aa6e-7c51-488b-a5da-82a68c426636",
   "metadata": {},
   "outputs": [],
   "source": [
    "# in dic you can add item other way also lets see without usig update function\n",
    "dic['color']='red'"
   ]
  },
  {
   "cell_type": "code",
   "execution_count": 20,
   "id": "e1e16f6a-01d7-471f-96ff-d684cd4d5cbe",
   "metadata": {},
   "outputs": [
    {
     "data": {
      "text/plain": [
       "dict_items([('name', 'data scientic'), ('date of join', '1 aug'), ('email', 'usa@gmail.com'), ('age', 100), ('color', 'red')])"
      ]
     },
     "execution_count": 20,
     "metadata": {},
     "output_type": "execute_result"
    }
   ],
   "source": [
    "dic.items()"
   ]
  },
  {
   "cell_type": "markdown",
   "id": "f008b179-8e95-4b84-8b75-b982d6863571",
   "metadata": {},
   "source": [
    "remove and delete :- in dic you can remove and delete specific iteam as well in different way use differnt specific fuction as well that way see in with examples as well(but you can not change the key value element beacuse key is immutable)"
   ]
  },
  {
   "cell_type": "code",
   "execution_count": 23,
   "id": "978cd760-6cc0-4972-97c0-6ab1ce67bf63",
   "metadata": {},
   "outputs": [
    {
     "data": {
      "text/plain": [
       "'red'"
      ]
     },
     "execution_count": 23,
     "metadata": {},
     "output_type": "execute_result"
    }
   ],
   "source": [
    "#pop():-Removes the element with the specified key\n",
    "dic.pop('color')"
   ]
  },
  {
   "cell_type": "code",
   "execution_count": 25,
   "id": "4de918ca-db9a-4735-bf1c-7de52f743e2b",
   "metadata": {},
   "outputs": [
    {
     "data": {
      "text/plain": [
       "dict_items([('name', 'data scientic'), ('date of join', '1 aug'), ('email', 'usa@gmail.com'), ('age', 100)])"
      ]
     },
     "execution_count": 25,
     "metadata": {},
     "output_type": "execute_result"
    }
   ],
   "source": [
    "dic.items()"
   ]
  },
  {
   "cell_type": "code",
   "execution_count": 27,
   "id": "a5dd25a2-ec89-42e0-b0e0-010732d7fa19",
   "metadata": {},
   "outputs": [
    {
     "data": {
      "text/plain": [
       "('age', 100)"
      ]
     },
     "execution_count": 27,
     "metadata": {},
     "output_type": "execute_result"
    }
   ],
   "source": [
    "#popitem():-Removes the last inserted key-value pair\n",
    "dic.popitem()"
   ]
  },
  {
   "cell_type": "code",
   "execution_count": 28,
   "id": "ee107537-6d25-4d4e-a0b7-94a897cbce15",
   "metadata": {},
   "outputs": [
    {
     "data": {
      "text/plain": [
       "dict_items([('name', 'data scientic'), ('date of join', '1 aug'), ('email', 'usa@gmail.com')])"
      ]
     },
     "execution_count": 28,
     "metadata": {},
     "output_type": "execute_result"
    }
   ],
   "source": [
    "dic.items()"
   ]
  },
  {
   "cell_type": "code",
   "execution_count": 29,
   "id": "c3b8ccc5-eaa0-46ca-8d7c-3a98caf29bf5",
   "metadata": {},
   "outputs": [],
   "source": [
    "#clear():-Removes all the elements from the dictionary\n",
    "dic.clear()"
   ]
  },
  {
   "cell_type": "code",
   "execution_count": 30,
   "id": "e7b59798-384d-4d04-9e74-c33c65a71c46",
   "metadata": {},
   "outputs": [
    {
     "data": {
      "text/plain": [
       "dict_items([])"
      ]
     },
     "execution_count": 30,
     "metadata": {},
     "output_type": "execute_result"
    }
   ],
   "source": [
    "dic.items()"
   ]
  },
  {
   "cell_type": "code",
   "execution_count": 31,
   "id": "483dae1c-2a32-4fab-b309-7b7af7d07bb6",
   "metadata": {},
   "outputs": [
    {
     "data": {
      "text/plain": [
       "{'name': 'data analytic', 'date of join': '1 aug', 'email': 'usa@gmail.com'}"
      ]
     },
     "execution_count": 31,
     "metadata": {},
     "output_type": "execute_result"
    }
   ],
   "source": [
    "dic.update({'name':'data analytic','date of join':'1 aug','email':'usa@gmail.com'})\n",
    "dic"
   ]
  },
  {
   "cell_type": "code",
   "execution_count": 32,
   "id": "a6241f82-beac-4430-9900-73077179cc3d",
   "metadata": {},
   "outputs": [],
   "source": [
    "#in dictionary you can delete the iteam as well varible\n",
    "#The del keyword removes the item with the specified key name:\n",
    "del dic['email']"
   ]
  },
  {
   "cell_type": "code",
   "execution_count": 33,
   "id": "a3cbe89e-f822-426a-a916-314caf8b2b79",
   "metadata": {},
   "outputs": [
    {
     "data": {
      "text/plain": [
       "{'name': 'data analytic', 'date of join': '1 aug'}"
      ]
     },
     "execution_count": 33,
     "metadata": {},
     "output_type": "execute_result"
    }
   ],
   "source": [
    "dic"
   ]
  },
  {
   "cell_type": "code",
   "execution_count": 34,
   "id": "edaab58e-5734-4523-b316-503607379da4",
   "metadata": {},
   "outputs": [],
   "source": [
    "#The del keyword can also delete the dictionary completely:\n",
    "del dic"
   ]
  },
  {
   "cell_type": "code",
   "execution_count": 35,
   "id": "f230a679-6d1d-4385-b48c-395385202d8a",
   "metadata": {},
   "outputs": [
    {
     "ename": "NameError",
     "evalue": "name 'dic' is not defined",
     "output_type": "error",
     "traceback": [
      "\u001b[0;31m---------------------------------------------------------------------------\u001b[0m",
      "\u001b[0;31mNameError\u001b[0m                                 Traceback (most recent call last)",
      "Cell \u001b[0;32mIn[35], line 1\u001b[0m\n\u001b[0;32m----> 1\u001b[0m \u001b[43mdic\u001b[49m\n",
      "\u001b[0;31mNameError\u001b[0m: name 'dic' is not defined"
     ]
    }
   ],
   "source": [
    "dic #hence its prove"
   ]
  },
  {
   "cell_type": "markdown",
   "id": "0e64bce6-2ffd-403e-b80a-6e5b07f34851",
   "metadata": {},
   "source": [
    "(Copy a Dictionary\n",
    "You cannot copy a dictionary simply by typing dict2 = dict1, because: dict2 will only be a reference to dict1, and changes made in dict1 will automatically also be made in dict2.\n",
    "\n",
    "There are ways to make a copy, one way is to use the built-in Dictionary method copy(). lets see with example.)(this is just for knowledge)\n"
   ]
  },
  {
   "cell_type": "code",
   "execution_count": 36,
   "id": "f95a79dd-c999-418c-b5d8-a56f70402894",
   "metadata": {},
   "outputs": [
    {
     "data": {
      "text/plain": [
       "{'name': ['Sanjay', 'Ajay', 1, 2],\n",
       " 'email': 'aj@gmail.com',\n",
       " 'contact': (1234, 678)}"
      ]
     },
     "execution_count": 36,
     "metadata": {},
     "output_type": "execute_result"
    }
   ],
   "source": [
    "ab={'name': ['Sanjay', \"Ajay\", 1, 2], 'email': 'aj@gmail.com', 'contact': (1234, 678)}\n",
    "ab"
   ]
  },
  {
   "cell_type": "code",
   "execution_count": 37,
   "id": "34519ae7-3b62-46a4-afae-9f578cac77f8",
   "metadata": {},
   "outputs": [
    {
     "data": {
      "text/plain": [
       "{'name': ['Sanjay', 'Ajay', 1, 2],\n",
       " 'email': 'aj@gmail.com',\n",
       " 'contact': (1234, 678)}"
      ]
     },
     "execution_count": 37,
     "metadata": {},
     "output_type": "execute_result"
    }
   ],
   "source": [
    "#Make a copy of a dictionary with the copy() method:\n",
    "dic=ab.copy()\n",
    "dic"
   ]
  },
  {
   "cell_type": "code",
   "execution_count": 38,
   "id": "0aa0f307-1d01-4886-98bc-b593b171ac55",
   "metadata": {},
   "outputs": [],
   "source": [
    "#Another way to make a copy is to use the built-in function dict().\n",
    "ajk=dict(ab)"
   ]
  },
  {
   "cell_type": "code",
   "execution_count": 39,
   "id": "bd1f6a2b-f745-441c-9f7c-f33118079ef0",
   "metadata": {},
   "outputs": [
    {
     "data": {
      "text/plain": [
       "{'name': ['Sanjay', 'Ajay', 1, 2],\n",
       " 'email': 'aj@gmail.com',\n",
       " 'contact': (1234, 678)}"
      ]
     },
     "execution_count": 39,
     "metadata": {},
     "output_type": "execute_result"
    }
   ],
   "source": [
    "ajk"
   ]
  },
  {
   "cell_type": "markdown",
   "id": "63530c16-78a8-4315-8bbb-e0b7ffd6605e",
   "metadata": {},
   "source": [
    "above we see how to add , remove and delete element in dectionary for more about the  dictionARY we see in next question"
   ]
  },
  {
   "cell_type": "markdown",
   "id": "4418ec7b-6997-472a-803c-2bd2ea65640c",
   "metadata": {},
   "source": [
    "## question 8 Discuss the importance of dictionary keys being immutable and provide examples."
   ]
  },
  {
   "cell_type": "markdown",
   "id": "767c8153-9255-4b15-b3e8-1290d95f28d1",
   "metadata": {},
   "source": [
    "### Ans\n",
    "Keys must be immutable: Keys in a Python dictionary must be permanent, suggesting they cannot be changed once made. This is often because word references utilize the hash value of the keys for efficient lookup, and mutable keys can cause hash collisions.\n",
    "\n",
    "Keys must be unique: A dictionary in Python must have unique keys. If you attempt to include a key that already exists within the Dictionary, the unused value will overwrite the old value.\n",
    "\n",
    "The hash table implementation of dictionaries uses a hash value calculated from the key value to find the key. If the key were a mutable object, its value could change, and thus its hash could also change.\n",
    "\n",
    "If the key were a mutable object, its value could change, and thus its hash could also change. But since whoever changes the key object can't tell that it was being used as a dictionary key, it can't move the entry around in the dictionary.\n",
    "\n",
    "lets see with examples and use cases also"
   ]
  },
  {
   "cell_type": "markdown",
   "id": "c13d9584-79c3-420e-bd00-8cbf03425bbd",
   "metadata": {},
   "source": [
    "first of all lets see some function and use case\n",
    "\n",
    "fromkey:-creates a new dictionary from an iterable that provides the keys for the dictionary. You can also specify a value to map to the keys. If you don't specify a value, the keys are set to None by default. The syntax for fromkeys() is: "
   ]
  },
  {
   "cell_type": "code",
   "execution_count": 41,
   "id": "d65a323f-c950-441b-93a2-4fbbad8b3bf4",
   "metadata": {},
   "outputs": [
    {
     "data": {
      "text/plain": [
       "{(1, 2, 3): ('a', 'b', 'c'), 'jdad': 'ajdi'}"
      ]
     },
     "execution_count": 41,
     "metadata": {},
     "output_type": "execute_result"
    }
   ],
   "source": [
    "dz={(1, 2, 3):(\"a\", \"b\", \"c\"),\"jdad\":'ajdi'}\n",
    "dz"
   ]
  },
  {
   "cell_type": "code",
   "execution_count": 45,
   "id": "021ab5b5-dd2b-4e48-9ae4-b61e1254ebd4",
   "metadata": {},
   "outputs": [
    {
     "data": {
      "text/plain": [
       "{1: ('a', 'b', 'c'), 2: ('a', 'b', 'c'), 3: ('a', 'b', 'c')}"
      ]
     },
     "execution_count": 45,
     "metadata": {},
     "output_type": "execute_result"
    }
   ],
   "source": [
    "d.fromkeys((1, 2, 3), (\"a\", \"b\", \"c\"))"
   ]
  },
  {
   "cell_type": "code",
   "execution_count": 51,
   "id": "dcb52445-8bb1-4dbd-a7ee-947c23a24bbb",
   "metadata": {},
   "outputs": [
    {
     "data": {
      "text/plain": [
       "{(1, 2, 3): 'dictionary', 'jdad': 'dictionary'}"
      ]
     },
     "execution_count": 51,
     "metadata": {},
     "output_type": "execute_result"
    }
   ],
   "source": [
    "d.fromkeys((dz),('dictionary'))"
   ]
  },
  {
   "cell_type": "markdown",
   "id": "dfa00169-b85e-4fd1-9105-59edad915319",
   "metadata": {},
   "source": [
    "zip:zip() function creates an iterator that will aggregate elements from two or more iterables. You can use the resulting iterator to quickly and consistently solve common programming problems, like creating dictionaries. In this tutorial, you’ll discover the logic behind the Python zip() function and how you can use it to solve real-world problems.\n",
    "\n",
    "zip() function is defined as zip(*iterables). The function takes in iterables as arguments and returns an iterator. This iterator generates a series of tuples containing elements from each iterable. zip() can accept any type of iterable, such as files, lists, tuples, dictionaries, sets, and so on."
   ]
  },
  {
   "cell_type": "code",
   "execution_count": 1,
   "id": "1264b0e8-6202-43d4-804a-464a4b6b3cea",
   "metadata": {},
   "outputs": [
    {
     "name": "stdout",
     "output_type": "stream",
     "text": [
      "('karan', 80)\n",
      "('dip', 95)\n",
      "('milan', 100)\n"
     ]
    }
   ],
   "source": [
    "students = [\"karan\", \"dip\", \"milan\"]\n",
    "marks = [80, 95, 100]\n",
    "\n",
    "for i in zip(students, marks):\n",
    "    print(i)"
   ]
  },
  {
   "cell_type": "code",
   "execution_count": 8,
   "id": "28844c4a-df9f-44ae-8939-f694273c1844",
   "metadata": {},
   "outputs": [],
   "source": [
    "#store the above info in key value pair>> dict\n",
    "students = [\"karan\", \"dip\", \"milan\"]\n",
    "marks = [80, 95, 100]\n",
    "students_marks = {}\n",
    "for student, mark in zip(students, marks):\n",
    "    students_marks[student] = mark"
   ]
  },
  {
   "cell_type": "code",
   "execution_count": 9,
   "id": "eca04aa7-ed6d-4659-86d7-628875a69b81",
   "metadata": {},
   "outputs": [
    {
     "data": {
      "text/plain": [
       "{'karan': 80, 'dip': 95, 'milan': 100}"
      ]
     },
     "execution_count": 9,
     "metadata": {},
     "output_type": "execute_result"
    }
   ],
   "source": [
    "students_marks"
   ]
  },
  {
   "cell_type": "code",
   "execution_count": 10,
   "id": "0a031dd4-78ae-472f-a429-b215540cc0ec",
   "metadata": {},
   "outputs": [
    {
     "data": {
      "text/plain": [
       "{'karan': 80, 'dip': 95, 'milan': 100}"
      ]
     },
     "execution_count": 10,
     "metadata": {},
     "output_type": "execute_result"
    }
   ],
   "source": [
    "#using dictionary comprehension method\n",
    "{student:marks for student, marks in zip(students, marks)}"
   ]
  },
  {
   "cell_type": "markdown",
   "id": "db7fb370-207d-40c8-9fd6-f2cabde20257",
   "metadata": {},
   "source": [
    "above dictionary comprehension method is very usefull and best practice work and looks better and very usefull case always"
   ]
  },
  {
   "cell_type": "markdown",
   "id": "d34ef5e8-bc2f-4f83-b6f1-de5e59a37b4c",
   "metadata": {},
   "source": [
    "now lets see some use case of dictionary as well as lets see whay key immutable need in every examples "
   ]
  },
  {
   "cell_type": "code",
   "execution_count": 12,
   "id": "0baf6f93-2108-42a6-8b8d-244a30a017ab",
   "metadata": {},
   "outputs": [],
   "source": [
    "employee_records = {\n",
    "    'E001': {'name': 'karan', 'department': 'Engineering', 'salary': 75000},\n",
    "    'E002': {'name': 'milan', 'department': 'Marketing', 'salary': 65000},\n",
    "    'E003': {'name': 'Dk', 'department': 'Finance', 'salary': 80000}}"
   ]
  },
  {
   "cell_type": "code",
   "execution_count": 13,
   "id": "6ba7b4ed-9cff-4a62-b743-49a068e6abd6",
   "metadata": {},
   "outputs": [
    {
     "data": {
      "text/plain": [
       "{'name': 'karan', 'department': 'Engineering', 'salary': 75000}"
      ]
     },
     "execution_count": 13,
     "metadata": {},
     "output_type": "execute_result"
    }
   ],
   "source": [
    "employee_records.get('E001')"
   ]
  },
  {
   "cell_type": "markdown",
   "id": "d51e04d7-4527-4044-8b0c-92a11132d161",
   "metadata": {},
   "source": [
    "like above example when ever we acess employe record we can acess but if key is mutable and we chenge name as a key then its complete messs in a record that why necessary and very useful that key is immutable object now lets see other example as well"
   ]
  },
  {
   "cell_type": "code",
   "execution_count": 15,
   "id": "e3a16a05-494d-4dec-b1ca-66a91521ad57",
   "metadata": {},
   "outputs": [],
   "source": [
    "restaurant_menu = {\n",
    "    'Dish1': {'name': 'Pasta Carbonara', 'price': 15.99, 'description': 'Creamy pasta with bacon and parmesan'},\n",
    "    'Dish2': {'name': 'Chicken Caesar Salad', 'price': 12.50, 'description': 'Grilled chicken with romaine lettuce and Caesar dressing'},\n",
    "    'Dish3': {'name': 'Margherita Pizza', 'price': 14.00, 'description': 'Pizza topped with tomato, mozzarella, and basil'}}"
   ]
  },
  {
   "cell_type": "code",
   "execution_count": 16,
   "id": "a5da6c31-2309-4d02-b4ee-a0d9d44074c2",
   "metadata": {},
   "outputs": [
    {
     "data": {
      "text/plain": [
       "dict_keys(['Dish1', 'Dish2', 'Dish3'])"
      ]
     },
     "execution_count": 16,
     "metadata": {},
     "output_type": "execute_result"
    }
   ],
   "source": [
    "restaurant_menu.keys()"
   ]
  },
  {
   "cell_type": "code",
   "execution_count": 17,
   "id": "986cfff6-94ee-48e8-8204-1cb1b3b0a7b2",
   "metadata": {},
   "outputs": [
    {
     "data": {
      "text/plain": [
       "dict_items([('Dish1', {'name': 'Pasta Carbonara', 'price': 15.99, 'description': 'Creamy pasta with bacon and parmesan'}), ('Dish2', {'name': 'Chicken Caesar Salad', 'price': 12.5, 'description': 'Grilled chicken with romaine lettuce and Caesar dressing'}), ('Dish3', {'name': 'Margherita Pizza', 'price': 14.0, 'description': 'Pizza topped with tomato, mozzarella, and basil'})])"
      ]
     },
     "execution_count": 17,
     "metadata": {},
     "output_type": "execute_result"
    }
   ],
   "source": [
    "restaurant_menu.items()"
   ]
  },
  {
   "cell_type": "code",
   "execution_count": null,
   "id": "58a62f80-a11c-4c09-9f6f-0c3c6f7a3c46",
   "metadata": {},
   "outputs": [],
   "source": []
  }
 ],
 "metadata": {
  "kernelspec": {
   "display_name": "Python 3 (ipykernel)",
   "language": "python",
   "name": "python3"
  },
  "language_info": {
   "codemirror_mode": {
    "name": "ipython",
    "version": 3
   },
   "file_extension": ".py",
   "mimetype": "text/x-python",
   "name": "python",
   "nbconvert_exporter": "python",
   "pygments_lexer": "ipython3",
   "version": "3.10.8"
  }
 },
 "nbformat": 4,
 "nbformat_minor": 5
}
