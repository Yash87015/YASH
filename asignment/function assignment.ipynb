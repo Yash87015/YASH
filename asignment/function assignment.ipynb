{
 "cells": [
  {
   "cell_type": "markdown",
   "id": "aec5b522-e5b5-4b94-9051-6791feaedabb",
   "metadata": {},
   "source": [
    "#                                                      ***function assignment***\n",
    "Name:-Yash solanki\n",
    "\n",
    "Reg email id:-yash87015@gmail.com\n",
    "\n",
    "Course name:-Data analytic\n",
    "\n",
    "Assignment name:-function assignment\n",
    "\n",
    "Submission date:-not declare\n",
    "\n",
    "Git link:-https://github.com/Yash87015/YASH\n",
    "(in git hub use assignment folder )"
   ]
  },
  {
   "cell_type": "markdown",
   "id": "e7c4d6c6-f18c-4563-becf-b180a378d9df",
   "metadata": {},
   "source": [
    "\n",
    "\n",
    "# Theory questions"
   ]
  },
  {
   "cell_type": "markdown",
   "id": "4c116773-6ca5-43d9-aa6a-1165d012ae9b",
   "metadata": {},
   "source": [
    "## question 1 What is the difference between a function and a method in Python?"
   ]
  },
  {
   "cell_type": "markdown",
   "id": "48744558-c38a-48ee-b292-0e7b5ce83d61",
   "metadata": {},
   "source": [
    "### Ans"
   ]
  },
  {
   "cell_type": "markdown",
   "id": "4197acdf-70ff-437c-8dc6-96cffe8c7d6a",
   "metadata": {},
   "source": [
    "→ function:-function is a block of code which performs some specific task/computation\n",
    "\n",
    "→ Python Functions is a block of statements that return the specific task. The idea is to put some commonly or repeatedly done tasks together and make a function so that instead of writing the same code again and again for different inputs, we can do the function calls to reuse code contained in it over and over again.\n",
    "\n",
    "→ Types of Functions:\n",
    "1)Built-in Function: Built-in functions are the pre-defined function in Python that can be directly used.\n",
    "2)User-Defined Function: They are not pre-defined functions. The user creates their own function to fulfill their specific needs.\n",
    "\n",
    "syntax of function\n",
    "\n",
    "\n",
    "def function_name(arguments):\n",
    "\n",
    "    “ “ “\n",
    "    functions logics\n",
    "    ” ” ”\n",
    "    return values\n",
    "\n",
    "***Function is block of code that is also called by its name. (independent)\n",
    "The function can have different parameters or may not have any at all. If any data (parameters) are passed, they are passed explicitly.\n",
    "It may or may not return any data.\n",
    "Function does not deal with Class and its instance concept.***"
   ]
  },
  {
   "cell_type": "code",
   "execution_count": 1,
   "id": "1696e966-f7d7-4395-9cdc-80f578013418",
   "metadata": {},
   "outputs": [
    {
     "data": {
      "text/plain": [
       "13"
      ]
     },
     "execution_count": 1,
     "metadata": {},
     "output_type": "execute_result"
    }
   ],
   "source": [
    "def func_name(a,b):\n",
    "    return a+b\n",
    "\n",
    "func_name(5,8)"
   ]
  },
  {
   "cell_type": "code",
   "execution_count": 3,
   "id": "fa2f87d2-bb3c-45b4-93c6-8a89674be9c9",
   "metadata": {},
   "outputs": [
    {
     "name": "stdout",
     "output_type": "stream",
     "text": [
      "13\n"
     ]
    }
   ],
   "source": [
    "#some inbuid fuction,when we use inbit function no need to use def,always write a umber in list other wise it give you error\n",
    "a=sum([5,8])\n",
    "print(a)"
   ]
  },
  {
   "cell_type": "markdown",
   "id": "f5768799-0d36-4f48-a99a-75281de9a11d",
   "metadata": {},
   "source": [
    "→ method:- As Python is an Object-Oriented Programming language, so it contains objects, and these objects have different properties and behavior. Methods in Python are used to define the behavior of the python objects.\n",
    "\n",
    "→ It facilitates code reusability by creating various methods or functions in the program. It also improves readability and accessibility to a particular code block. Methods creation makes it easy to debug for the programmers.\n",
    "\n",
    "→ Types of Methods in Python:\n",
    "1)Instance Method\n",
    "2)Class Method\n",
    "3)Static Method\n",
    "\n",
    "syntax of method\n",
    "\n",
    "class class_name:\n",
    "\tdef method_name () :\n",
    "    \n",
    "\t\t......\n",
    "\t\t# method body\n",
    "\t\t...... \n",
    "\n",
    "\n",
    "***Method is called by its name, but it is associated to an object (dependent).\n",
    "A method definition always includes ‘self’ as its first parameter.\n",
    "A method is implicitly passed to the object on which it is invoked.\n",
    "It may or may not return any data.\n",
    "A method can operate on the data (instance variables) that is contained by the corresponding class***"
   ]
  },
  {
   "cell_type": "code",
   "execution_count": 4,
   "id": "27666d5a-1274-47bc-a791-4f7bda86e1ee",
   "metadata": {},
   "outputs": [],
   "source": [
    "class Alphabet:\n",
    "    def Capital_Letters(self):\n",
    "        print(\"A,B,C,D......\")\n",
    "    \n",
    "    def Small_Letters(self):\n",
    "        print(\"a,b,c,d.....\")"
   ]
  },
  {
   "cell_type": "code",
   "execution_count": 5,
   "id": "f60f95dd-a244-4e36-b128-371f823d82b3",
   "metadata": {},
   "outputs": [],
   "source": [
    "A=Alphabet()"
   ]
  },
  {
   "cell_type": "code",
   "execution_count": 6,
   "id": "d4b67b8c-36a0-418c-9ac1-dd00e9353100",
   "metadata": {},
   "outputs": [
    {
     "name": "stdout",
     "output_type": "stream",
     "text": [
      "A,B,C,D......\n"
     ]
    }
   ],
   "source": [
    "A.Capital_Letters()"
   ]
  },
  {
   "cell_type": "code",
   "execution_count": 7,
   "id": "d4805cf3-1120-4b7b-abc6-b2b0fb28ce5c",
   "metadata": {},
   "outputs": [
    {
     "name": "stdout",
     "output_type": "stream",
     "text": [
      "a,b,c,d.....\n"
     ]
    }
   ],
   "source": [
    "A.Small_Letters()"
   ]
  },
  {
   "cell_type": "markdown",
   "id": "b5eff303-0f06-443e-a5ac-aeb26721f87d",
   "metadata": {},
   "source": [
    "**Key Difference Between Methods and Function**\n",
    "\n",
    "→ Method definition is always present inside the class, while the class is not required to define the function.\n",
    "\n",
    "→ Functions can have a zero parameter, whereas the method should have a default parameter, either self or cls, to get the object.\n",
    "\n",
    "→ The method operates the data in the class, while a function is used to return or pass the data.\n",
    "\n",
    "→ A function can be directly called by its name, while a method can’t be called by its name.\n",
    "\n",
    "→ The method lies under Object-Oriented Programming, while a function is an independent functionality.\n",
    "\n",
    "→ Functions can be called only by its name, as it is defined independently. But methods can’t be called by its name only, we need to invoke the class by a reference of that class in which it is defined, i.e. method is defined within a class and hence they are dependent on that class."
   ]
  },
  {
   "cell_type": "markdown",
   "id": "8ac5ef6c-e4ac-4dc6-9089-214930e3ee9f",
   "metadata": {},
   "source": [
    "## question 2  Explain the concept of function arguments and parameters in Python."
   ]
  },
  {
   "cell_type": "markdown",
   "id": "18ef97b5-1bed-4e0d-b2ca-e795f163cac4",
   "metadata": {},
   "source": [
    "### Ans\n",
    "→ parameter:-In programming, a parameter refers to a named variable within a function or method definition. The parameter serves as a placeholder for a value that will be passed to the function or method at the time of its call. Essentially, parameters define the type of data a function can accept and also dictate how many pieces of data it expects. They act as the blueprint for the arguments that will be provided during the function's execution."
   ]
  },
  {
   "cell_type": "markdown",
   "id": "39de420f-b1e1-4280-99eb-daae246200b9",
   "metadata": {},
   "source": [
    "→ Arguments:-An argument in programming is the value passed to a function or a method when it is called. The function uses these values to perform operations or calculations.Arguments are the real, concrete data that replace the function's parameters when the function executes."
   ]
  },
  {
   "cell_type": "markdown",
   "id": "74878391-5907-45ba-927f-8e8fdde8b371",
   "metadata": {},
   "source": [
    "\n",
    "**Fundamentally, parameters are the variables inside a function's parentheses. Arguments provide values for those parameters.\n",
    "\n",
    "***A parameter is the variable listed inside the parentheses in the function definition.***\n",
    "\n",
    "***An argument is the value that are sent to the function when it is called.***"
   ]
  },
  {
   "cell_type": "code",
   "execution_count": 33,
   "id": "80762ac7-910b-44e6-b69f-74b04e3bbb1c",
   "metadata": {},
   "outputs": [
    {
     "name": "stdout",
     "output_type": "stream",
     "text": [
      "Hello, jk\n"
     ]
    }
   ],
   "source": [
    "#The terms parameter and argument can be used for the same thing: information that are passed into a function.\n",
    "#From a function's perspective: A parameter is the variable listed inside the parentheses in the function definition.\n",
    "#An argument is the value that is sent to the function when it is called.\n",
    "def greet(name):  # 'name' is a parameter\n",
    "    print(\"Hello,\", name)\n",
    "greet(\"jk\") #\"jk\" is an argument"
   ]
  },
  {
   "cell_type": "code",
   "execution_count": 29,
   "id": "e76f0a74-e422-44d1-b255-53f2e1766234",
   "metadata": {},
   "outputs": [
    {
     "name": "stdout",
     "output_type": "stream",
     "text": [
      "Making a Margherita pizza with cheese and tomato toppings!\n"
     ]
    }
   ],
   "source": [
    "#In programming, we utilize functions to organize our code and make it simpler to reuse.\n",
    "#Like a recipe , a function encompasses a set of instructions (code) that tells the computer what to do.\n",
    "#However, like a chef , we may have to plan different types of dishes (execute the function) \n",
    "#with diverse ingredients (arguments) and cooking strategies (parameters).\n",
    "def make_pizza(pizza_type, toppings):\n",
    "    # Code to make pizza\n",
    "    print(\"Making a \" + pizza_type + \" pizza with \" + toppings + \" toppings!\")\n",
    "    \n",
    "make_pizza(\"Margherita\", \"cheese and tomato\")"
   ]
  },
  {
   "cell_type": "markdown",
   "id": "64fc0558-c206-4116-8fe7-d6ada49d1fd2",
   "metadata": {},
   "source": [
    "that the pizza_type and toppings are the arguments that are passed to the make_pizza function\n",
    "\n",
    "***Think of a function as a recipe. The parameters are the ingredients listed in the recipe, and the arguments are the actual ingredients you use when you cook.***"
   ]
  },
  {
   "cell_type": "markdown",
   "id": "1924f87f-fb53-4a2c-a62e-514f2cbc68c7",
   "metadata": {},
   "source": [
    "(Similarities Between Argument and Parameter)(optioal for understanding perpose)\n",
    "\n",
    "→ Function Association: Both parameters and arguments are intrinsically linked to functions. They are essential in the process of defining and calling functions.\n",
    "\n",
    "→ Data Passing: They are both used to pass data to functions. Parameters receive the data, and arguments supply it.\n",
    " \n",
    "→ Flexibility in Function Execution: Both contribute to the flexibility of functions, allowing the same function to operate on different data values.\n",
    "\n",
    "→ Types of Data: Both can represent any type of data that the programming language supports, such as integers, strings, objects, etc.\n",
    "\n",
    "→ Influence on Function Behavior: Parameters and arguments directly affect the function's behaviour. The function's output depends on the argument values passed to its parameters.\n",
    "\n",
    "Types of Function Arguments in Python (optioal for understanding perpose)(its not include in question)\n",
    "Python has four built-in function argument types we can use to call functions and have them perform their intended tasks. These are:\n",
    "\n",
    "1)Default Arguments:-Default arguments in Python have pre-set values if the user does not specify them when calling the function. The default value can be any data type like a list, dictionary, string, number, etc.Default arguments are defined by assigning values to arguments in the function definition.\n",
    "\n",
    "2)Keyword Arguments:-Keyword arguments, or named arguments, are parameters passed to a Python function that specify the argument name and value. This makes the code more readable by eliminating the need to remember the order of parameters. Keyword arguments can also set default values for unspecified parameters. Using keyword arguments enhances code readability and maintainability. Keyword arguments explicitly state which argument matches which parameter. \n",
    "\n",
    "3)Arbitrary Arguments:-Arbitrary arguments in Python enable functions to accept an unlimited number of arguments. This allows for flexibility when creating functions that require an unknown number of arguments. Arbitrary arguments are denoted with an asterisk (*) before the argument name . These arguments can create a list  or dictionary of the passed arguments\n",
    "\n",
    "explaination of below example:-This code defines a function called sum_numbers which takes an arbitrary number of arguments. The asterisk before args indicates that this argument will take an arbitrary number of arguments. When the function is called, it takes in a series of numbers as arguments and adds them together, returning the sum. The function then iterates through each of the arguments, adding them together and storing the total in a variable called the result. Finally, the function returns the result.\n",
    "\n",
    "4)Required Arguments:-Required arguments are when calling a function. They are position-dependent, meaning their matters. Required arguments are defined when the function is created and cannot when the function is called. Arguments must be given in the same as defined when invoking a function.\n",
    "\n",
    "explaination of below example:-This code defines a function named my_function that accepts two arguments, arg1, and arg2. The code calls the function, passing 10 and 20 as the two arguments. The function adds arg1 and arg2, then returns the result. The result of the function is stored in the variable result, then printed to the screen, showing the value 30."
   ]
  },
  {
   "cell_type": "code",
   "execution_count": 38,
   "id": "2835d3ae-75f1-439e-8601-167347231aa9",
   "metadata": {},
   "outputs": [
    {
     "data": {
      "text/plain": [
       "9"
      ]
     },
     "execution_count": 38,
     "metadata": {},
     "output_type": "execute_result"
    }
   ],
   "source": [
    "# example 1 default argument\n",
    "def sum1(b, c, a=0):#if a is not(its not given eroor) its okay if give then calculated #thats the define function\n",
    "    return a+b+c  \n",
    "sum1(5,4) #thats how you call a function"
   ]
  },
  {
   "cell_type": "code",
   "execution_count": 34,
   "id": "756584fa-8ce0-44d6-9c34-43d169b1686c",
   "metadata": {},
   "outputs": [
    {
     "name": "stdout",
     "output_type": "stream",
     "text": [
      "Hello, Bob. You are 25 years old and you are a male.\n"
     ]
    }
   ],
   "source": [
    "#example 2 of keyword argument\n",
    "def greeting(name, age, gender):\n",
    "    print(\"Hello, %s. You are %d years old and you are a %s.\" % (name, age, gender))\n",
    "\n",
    "greeting(\"Bob\", 25, \"male\") # Hello, Bob. You are 25 years old and you are a male.\n"
   ]
  },
  {
   "cell_type": "code",
   "execution_count": 35,
   "id": "70e54077-2730-4949-8c00-7435e8b7205f",
   "metadata": {},
   "outputs": [
    {
     "name": "stdout",
     "output_type": "stream",
     "text": [
      "15\n"
     ]
    }
   ],
   "source": [
    "#example 3 of arbitary argument # you can use number of argument as you want #variable length arguement>>when you dont know the no of arguments\n",
    "def sum_numbers(*args):#(*)thats called asterisk\n",
    "    result = 0\n",
    "    for i in args:\n",
    "        result += i\n",
    "    return result\n",
    "\n",
    "print(sum_numbers(1, 2, 3, 4, 5))"
   ]
  },
  {
   "cell_type": "code",
   "execution_count": 36,
   "id": "93d5158e-f635-4b59-bdf4-dc28d40af908",
   "metadata": {},
   "outputs": [
    {
     "name": "stdout",
     "output_type": "stream",
     "text": [
      "30\n"
     ]
    }
   ],
   "source": [
    "#example 4 of required argument\n",
    "def my_function(arg1, arg2):\n",
    "    # function code\n",
    "    return arg1 + arg2\n",
    "\n",
    "result = my_function(10, 20)\n",
    "print(result) # prints 30\n"
   ]
  },
  {
   "cell_type": "markdown",
   "id": "7159dfa2-d404-4306-8650-69c0e405f8a2",
   "metadata": {},
   "source": [
    "## question 3 What are the different ways to define and call a function in Python?"
   ]
  },
  {
   "cell_type": "markdown",
   "id": "b74e7b1a-3e8c-4433-9617-666eed79f8b5",
   "metadata": {},
   "source": [
    "### Ans \n",
    "***Define a function*** \n",
    "\n",
    "→ Use the keyword def to declare the function and follow this up with the function name. \n",
    "\n",
    "→ Add parameters to the function: they should be within the parentheses of the function.End your line with a colon. \n",
    "\n",
    "→ Add statements that the functions should execute.\n",
    "\n",
    "→ End your function with a return statement if the function should output something. Without the return statement, your function will return an object None.\n",
    "\n",
    "→ function_name: A unique name to identify the function\n",
    "\n",
    "→ function body: The code that executes when the function is called.\n",
    "\n",
    "#parameters: (Optional) Input values for the function.\n",
    "#Docstring: It is an optional section that documents what the role of the function is. It enhances readability if a user looks at his code after a long duration.\n",
    "#Return statement: It is an optional statement. The return keyword can be used by the Python function to return a value.\n",
    "\n",
    "1) Standard Function Definition:\n",
    "This is the most common way to define a function:\n",
    "2) Lambda Function (Anonymous Function):\n",
    "Used for small, one-line functions:\n",
    "3) Nested Functions:\n",
    "Functions defined inside other functions:\n",
    " "
   ]
  },
  {
   "cell_type": "markdown",
   "id": "7873d1f0-efa2-4d43-a30b-593515708274",
   "metadata": {},
   "source": [
    "***Call a Function***\n",
    "\n",
    "→ Calling a function means that you execute the function that you have defined - either directly from the Python prompt or through another function\n",
    "\n",
    "→ To call a function, simply use its name followed by parentheses and pass any required arguments:\n",
    "\n",
    "1) Direct Call:\n",
    "This is the most common way of calling a function. You simply write the function name followed by parentheses containing any arguments.\n",
    "\n",
    "2) Using Keyword Arguments:\n",
    "You can pass arguments by explicitly specifying their names. This improves readability and allows you to change the order of arguments.\n",
    "\n",
    "3) Using Default Arguments:\n",
    "You can define default values for function parameters. If an argument is not provided during the call, the default value is used.\n",
    "\n",
    "4)  Calling Functions as Methods:\n",
    "When a function is defined within a class, it becomes a method. You can call the method using an instance of the class.\n",
    "\n",
    "5) Using Arbitrary Number of Keyword Arguments:\n",
    "You can use ** kwargs to pass an arbitrary number of keyword arguments to a function. The arguments are collected in a dictionary.\n",
    "\n",
    "we see example as well and we also see some other types of example as well how to define and call a function in examples"
   ]
  },
  {
   "cell_type": "markdown",
   "id": "f2d4a995-2540-4610-a137-d37039a7698a",
   "metadata": {},
   "source": [
    "see above example 1 to 4 in question 2 there you can see different example how to difine and call a function"
   ]
  },
  {
   "cell_type": "code",
   "execution_count": 5,
   "id": "62ef025d-b453-4be5-a693-52b11a42266a",
   "metadata": {},
   "outputs": [
    {
     "name": "stdout",
     "output_type": "stream",
     "text": [
      "name:jk\n",
      "corse:data analytic\n"
     ]
    }
   ],
   "source": [
    "# example 5\n",
    "def print_info(**kwargs): # here see how to define\n",
    "    for key, value in kwargs.items():\n",
    "        print(f\"{key}:{value}\")\n",
    "        \n",
    "print_info(name=\"jk\",corse=\"data analytic\") # here see how to call "
   ]
  },
  {
   "cell_type": "code",
   "execution_count": null,
   "id": "1f14053e-ab5a-463f-bf90-488687bb8ba9",
   "metadata": {},
   "outputs": [],
   "source": []
  },
  {
   "cell_type": "markdown",
   "id": "c4c51223-0b9b-45a6-9b34-ac7471dc89cd",
   "metadata": {},
   "source": [
    "## question 4 What is the purpose of the `return` statement in a Python function?"
   ]
  },
  {
   "cell_type": "markdown",
   "id": "d6e81c5c-d6f7-4d1d-9a39-cd0fc4f73f1a",
   "metadata": {},
   "source": [
    "### Ans\n",
    "\n",
    "→ the return statement serves two primary purposes:\n",
    "1) Exiting a Function: It marks the end of a function's execution and returns control back to the caller.\n",
    "2) Returning a Value: It allows a function to pass data back to the caller, which can then be used for further operations or decisions in the program.\n",
    "\n",
    "→ Using return , you can write a function that returns a value. You can assign the returned values to a variable which can be used in whatever manner you choose. This is useful when you need to use the results your function produces for something else\n",
    "\n",
    "lets see with example"
   ]
  },
  {
   "cell_type": "code",
   "execution_count": 18,
   "id": "9abad155-8e95-4fb2-b154-39f124da7f17",
   "metadata": {},
   "outputs": [
    {
     "data": {
      "text/plain": [
       "13"
      ]
     },
     "execution_count": 18,
     "metadata": {},
     "output_type": "execute_result"
    }
   ],
   "source": [
    "#example 6\n",
    "def sum1(x,y):\n",
    "    total=x+y\n",
    "    return total\n",
    "sum1(5,8)"
   ]
  },
  {
   "cell_type": "code",
   "execution_count": 21,
   "id": "a90b90dc-a419-408a-9264-010e1ce8dd39",
   "metadata": {},
   "outputs": [
    {
     "data": {
      "text/plain": [
       "'Hello, yk. You are 45 years old and you are a male.'"
      ]
     },
     "execution_count": 21,
     "metadata": {},
     "output_type": "execute_result"
    }
   ],
   "source": [
    "#example 7\n",
    "def greeting(name, age, gender):\n",
    "    return \"Hello, %s. You are %d years old and you are a %s.\" % (name, age, gender)\n",
    "greeting(\"yk\",45,\"male\")"
   ]
  },
  {
   "cell_type": "code",
   "execution_count": null,
   "id": "215d28af-1cac-4272-909e-106f761903f3",
   "metadata": {},
   "outputs": [],
   "source": []
  },
  {
   "cell_type": "markdown",
   "id": "2b3c5952-3b8b-4c01-a600-fc66bd4910c0",
   "metadata": {},
   "source": [
    "## question 5. What are iterators in Python and how do they differ from iterables?"
   ]
  },
  {
   "cell_type": "markdown",
   "id": "29f3f2ac-86e5-41bb-acd8-6b0cd8f268d5",
   "metadata": {},
   "source": [
    "### Ans \n",
    "Iterable:***An iterable is any python object/sequential structure/data structure that is capable of returning its members one at a time***\n",
    "→ permitting it to be iterated over in a for loop\n",
    "→ example>> list, tuples\n",
    "→ To be iterable, an object must implement the __iter__() method, which returns an iterator.\n",
    "→ Examples include lists, tuples, strings, dictionaries, sets, and files.\n",
    ".__iter__():-\tCalled to initialize the iterator. It must return an iterator object.\n",
    "\n",
    "\n",
    "iterators:- ***An iterator is an object representing a stream of data and return the data one by one***\n",
    "→ an iterator is an object that allows you to iterate over collections of data, such as lists, tuples, dictionaries, and sets.\n",
    "***Iterators take responsibility for two main actions:***\n",
    "***1) Returning the data from a stream or container one item at a time***\n",
    "***2) Keeping track of the current and visited items***\n",
    "\n",
    "A Python object is considered an iterator when it implements two special methods collectively known as the iterator protocol. These two methods make Python iterators work. So, if you want to create custom iterator classes, then you must implement the following methods:\n",
    "\n",
    "→ Technically, in Python, an iterator is an object which implements the iterator protocol, which consist of the methods is iter and next\n",
    "\n",
    ".__next__():-\tCalled to iterate over the iterator. It must return the next value in the data stream.\n",
    "\n",
    "Process of iterator its called iteration(iteration is a process of looping through the elements fof an iterable (list, string).using a loop\n",
    "The process of returning element one by one iteration)\n",
    "→ An object that represents a stream of data.\n",
    "→ It keeps track of the current position within the iterable and provides the next element using the __next__() method.\n",
    "→ When there are no more elements, the __next__() method raises a StopIteration exception.\n",
    "\n",
    "***Analogy\n",
    "potato(iterable) >> it can not be cooked in original form\n",
    "chop/wash the potato >> ready for cooking>>iterator\n",
    "the process of cooking>>iteration***\n",
    "\n",
    "In simple terms:\n",
    "Iterable: Think of it as a container holding data that can be iterated over.\n",
    "Iterator: Think of it as a pointer that moves through the elements of an iterable.\n",
    "\n",
    "***Key Differences between iterable and iterator***\n",
    "\n",
    "***Iterable:-You can iterate over an iterable multiple times. Each time you use iter() on it, you get a new iterator.***\n",
    "\n",
    "***Iterator:-You can iterate over an iterator only once. Once you reach the end, it's exhausted.***\n"
   ]
  },
  {
   "cell_type": "code",
   "execution_count": 10,
   "id": "58911ec6-48f9-4704-9b3f-aaf1e584f544",
   "metadata": {},
   "outputs": [
    {
     "data": {
      "text/plain": [
       "1"
      ]
     },
     "execution_count": 10,
     "metadata": {},
     "output_type": "execute_result"
    }
   ],
   "source": [
    "#example 8\n",
    "iterable=([1,2,3])#you can also use string or dict or set ant data type\n",
    "iterator=iter(iterable)\n",
    "next(iterator)"
   ]
  },
  {
   "cell_type": "code",
   "execution_count": 11,
   "id": "ae3c25d6-6845-459e-bdb6-31e266b4836c",
   "metadata": {},
   "outputs": [
    {
     "data": {
      "text/plain": [
       "2"
      ]
     },
     "execution_count": 11,
     "metadata": {},
     "output_type": "execute_result"
    }
   ],
   "source": [
    "next(iterator)"
   ]
  },
  {
   "cell_type": "code",
   "execution_count": 12,
   "id": "6874e928-01d5-4aad-b8ee-fe5dd9eac5a5",
   "metadata": {},
   "outputs": [
    {
     "data": {
      "text/plain": [
       "3"
      ]
     },
     "execution_count": 12,
     "metadata": {},
     "output_type": "execute_result"
    }
   ],
   "source": [
    "next(iterator)"
   ]
  },
  {
   "cell_type": "code",
   "execution_count": 13,
   "id": "a9730ccd-658b-4a45-bd57-6ffd215aff05",
   "metadata": {},
   "outputs": [
    {
     "ename": "StopIteration",
     "evalue": "",
     "output_type": "error",
     "traceback": [
      "\u001b[0;31m---------------------------------------------------------------------------\u001b[0m",
      "\u001b[0;31mStopIteration\u001b[0m                             Traceback (most recent call last)",
      "Cell \u001b[0;32mIn[13], line 1\u001b[0m\n\u001b[0;32m----> 1\u001b[0m \u001b[38;5;28;43mnext\u001b[39;49m\u001b[43m(\u001b[49m\u001b[43miterator\u001b[49m\u001b[43m)\u001b[49m\n",
      "\u001b[0;31mStopIteration\u001b[0m: "
     ]
    }
   ],
   "source": [
    "next(iterator)#see that exhausted and also throut the whole process called iteration"
   ]
  },
  {
   "cell_type": "code",
   "execution_count": null,
   "id": "ebe0214c-b11e-4687-8bfe-114723d62724",
   "metadata": {},
   "outputs": [],
   "source": []
  },
  {
   "cell_type": "markdown",
   "id": "d5f219e6-5d43-4f77-9944-e0ce2a9a8253",
   "metadata": {},
   "source": [
    "## question 6 Explain the concept of generators in Python and how they are defined.?"
   ]
  },
  {
   "cell_type": "markdown",
   "id": "621ce85e-22cc-488f-942a-c90dea501970",
   "metadata": {},
   "source": [
    "### Ans\n",
    "***generator:-A generator in Python is a function that uses the yield keyword to return a sequence of values one at a time, instead of returning them all at once like a regular function. This makes generators memory-efficient and suitable for working with large datasets.***\n",
    "\n",
    "→ Generator functions in Python are a way to create iterators in a more concise and memory-efficient manner\n",
    "\n",
    "→ These functions allow you to iterate over a potentially large sequence of data without loading the entire\n",
    "sequence into memory.\n",
    "\n",
    "syntax of generator function:\n",
    "\n",
    "def function_name():\n",
    "\n",
    "    yield statement \n",
    "    \n",
    "Use of yield: Instead of using return to send a value back to the caller, a generator function uses ‘yield’. When the generator function encounters a ‘yield’ statement, it returns the value specified in the yield andpauses its execution state. The next time the generator is called, it resumes from where it left off.\n"
   ]
  },
  {
   "cell_type": "code",
   "execution_count": 5,
   "id": "0e3b4d9f-e846-499e-b958-8c95ced0b0aa",
   "metadata": {},
   "outputs": [
    {
     "name": "stdout",
     "output_type": "stream",
     "text": [
      "0\n",
      "1\n",
      "1\n",
      "2\n",
      "3\n",
      "5\n",
      "8\n",
      "13\n",
      "21\n",
      "34\n"
     ]
    }
   ],
   "source": [
    "#example 9\n",
    "def Feb_generator():\n",
    "    a , b=0 , 1\n",
    "    while True:\n",
    "        yield a   #yield is creating a generator similar to iterator object\n",
    "        a,b=b,a+b\n",
    "f_g=Feb_generator()\n",
    "for _ in range(10):\n",
    "    print(next(f_g,))"
   ]
  },
  {
   "cell_type": "code",
   "execution_count": 7,
   "id": "c16bf7cc-3c5c-4b42-b8fd-cd61e2146574",
   "metadata": {},
   "outputs": [
    {
     "data": {
      "text/plain": [
       "generator"
      ]
     },
     "execution_count": 7,
     "metadata": {},
     "output_type": "execute_result"
    }
   ],
   "source": [
    "type(f_g)"
   ]
  },
  {
   "cell_type": "markdown",
   "id": "82f9415a-90e3-4ac5-b24f-7e2647ed6756",
   "metadata": {},
   "source": [
    "## question 7 What are the advantages of using generators over regular functions?"
   ]
  },
  {
   "cell_type": "markdown",
   "id": "b7e4c4fe-f586-4072-a668-6c0f59cbef13",
   "metadata": {},
   "source": [
    "### Ans\n",
    "→ The main difference between a regular function and a generator function is that the latter uses the yield keyword to produce a series of values over time, one at a time, rather than returning a single result.\n",
    "\n",
    "advantages  of using generators:\n",
    "1) Lazy Evaluation: Generator functions follow the concept of lazy evaluation. This means that the values are generated on-the-fly and only when requested. This is particularly useful for working with large datasets or infinite sequences.\n",
    "2) Memory Efficiency: Generators are memory-efficient because they don't store all values in memory at once.Each value is generated and consumed one at a time, making them suitable for working with large datasets or when memory usage is a concern.\n",
    "3) Convenience: Generators simplify code for iterating over large datasets or streams of data without needing to manage state explicitly.\n",
    "4) Maintain State: Generators automatically maintain their state between yield statements, making them suitable for iterative processes."
   ]
  },
  {
   "cell_type": "markdown",
   "id": "5d5cdef3-9571-4b48-a0e6-78dbaec29cc5",
   "metadata": {},
   "source": [
    "regular function calculates the square of the values and return in one go,since its returning in one go then memory usage will be more and it will a lot of execution time if there is lot of computation as all the computations will be done first and then the calculation will be returned in one go but in generator result one by one instead of go lets see with example"
   ]
  },
  {
   "cell_type": "code",
   "execution_count": 11,
   "id": "18d38487-6b5a-455c-b0d8-144c74cca54d",
   "metadata": {},
   "outputs": [],
   "source": [
    "def square_number_gen(n):\n",
    "    for i in range(n):\n",
    "        yield (i ** 2)\n",
    "square_number_gen(4)\n",
    "gen=square_number_gen(4)"
   ]
  },
  {
   "cell_type": "code",
   "execution_count": 12,
   "id": "f61b48de-b96d-4ab9-b807-77f0ef7d4459",
   "metadata": {},
   "outputs": [
    {
     "data": {
      "text/plain": [
       "0"
      ]
     },
     "execution_count": 12,
     "metadata": {},
     "output_type": "execute_result"
    }
   ],
   "source": [
    "next(gen)"
   ]
  },
  {
   "cell_type": "code",
   "execution_count": 13,
   "id": "f99b6e34-5bd3-4d59-bbbb-23210df0f52c",
   "metadata": {},
   "outputs": [
    {
     "data": {
      "text/plain": [
       "1"
      ]
     },
     "execution_count": 13,
     "metadata": {},
     "output_type": "execute_result"
    }
   ],
   "source": [
    "next(gen)"
   ]
  },
  {
   "cell_type": "code",
   "execution_count": 14,
   "id": "c3c4c4d6-8fb4-4ccc-b9ef-6ba7e83745e8",
   "metadata": {},
   "outputs": [
    {
     "data": {
      "text/plain": [
       "4"
      ]
     },
     "execution_count": 14,
     "metadata": {},
     "output_type": "execute_result"
    }
   ],
   "source": [
    "next(gen)"
   ]
  },
  {
   "cell_type": "code",
   "execution_count": 15,
   "id": "2526e73f-aab5-4859-b488-084b29eb22b4",
   "metadata": {},
   "outputs": [
    {
     "data": {
      "text/plain": [
       "9"
      ]
     },
     "execution_count": 15,
     "metadata": {},
     "output_type": "execute_result"
    }
   ],
   "source": [
    "next(gen)"
   ]
  },
  {
   "cell_type": "code",
   "execution_count": null,
   "id": "9ae8541b-c03a-4dba-a1a5-f499dbe7003b",
   "metadata": {},
   "outputs": [],
   "source": []
  },
  {
   "cell_type": "markdown",
   "id": "f9700193-0c3d-407b-b6ce-0683b15f156c",
   "metadata": {},
   "source": [
    "## question 8  What is a lambda function in Python and when is it typically used?"
   ]
  },
  {
   "cell_type": "markdown",
   "id": "a61edda3-d2f9-403c-8210-a79c58065f3e",
   "metadata": {},
   "source": [
    "### Ans"
   ]
  },
  {
   "cell_type": "markdown",
   "id": "8b0290ef-5079-46fb-b0f9-19693666718e",
   "metadata": {},
   "source": [
    "***lambda:-A lambda function is an anonymous function (i.e., defined without a name) that can take any number of arguments but, unlike normal functions, evaluates and returns only one expression.***\n",
    "\n",
    "→ A lambda function in Python is a concise way to create anonymous functions, also known as lambda expressionsp\n",
    "→ Unlike regular functions defined using the def keyword, lambda functions are often used for short-term operations and are defined in a single line.\n",
    "\n",
    "The basic syntax of a lambda function is:\n",
    "lambda argument: expression\n",
    "\n",
    "Here, arguments are the input parameters, and expression is the operation to be performed using those parameters. Lambda functions can have any number of input parameters but can only have one expression.\n",
    "\n",
    "limitation:\n",
    "Simplicity: Lambda functions can only have one expression, so they can't handle larger tasks. \n",
    "Readability: If overused or made too complex, they can make code harder to understand. \n",
    "\n",
    "use cases:-Lambda functions are ideal for situations where you need a small, anonymous function for a short period of time. They are not recommended for complex functions with multiple expressions and statements. "
   ]
  },
  {
   "cell_type": "code",
   "execution_count": 23,
   "id": "4701b6d0-c34b-417d-888e-8bbf042a8119",
   "metadata": {},
   "outputs": [],
   "source": [
    "#example 10\n",
    "even_number=lambda x: x%2==0"
   ]
  },
  {
   "cell_type": "code",
   "execution_count": 24,
   "id": "dffcde0c-3ef4-4650-b304-02d896925928",
   "metadata": {},
   "outputs": [
    {
     "data": {
      "text/plain": [
       "True"
      ]
     },
     "execution_count": 24,
     "metadata": {},
     "output_type": "execute_result"
    }
   ],
   "source": [
    "even_number(10)"
   ]
  },
  {
   "cell_type": "code",
   "execution_count": 25,
   "id": "5e32e281-df7e-4112-9920-f253a98283eb",
   "metadata": {},
   "outputs": [
    {
     "data": {
      "text/plain": [
       "False"
      ]
     },
     "execution_count": 25,
     "metadata": {},
     "output_type": "execute_result"
    }
   ],
   "source": [
    "even_number(15)"
   ]
  },
  {
   "cell_type": "code",
   "execution_count": null,
   "id": "ff301d8a-ec39-44be-8f0a-8373f06d2fc1",
   "metadata": {},
   "outputs": [],
   "source": []
  },
  {
   "cell_type": "markdown",
   "id": "075b45da-a680-4a37-9b93-6dfb8b313ce0",
   "metadata": {},
   "source": [
    "## 9. Explain the purpose and usage of the `map()` function in Python."
   ]
  },
  {
   "cell_type": "markdown",
   "id": "49605367-2531-4a0d-8a91-34995412d229",
   "metadata": {},
   "source": [
    "### Ans \n",
    "→ The map() function in Python is a powerful tool for applying a function to every item in an iterable (like a list, tuple, etc.) and returning a new iterator with the results.\n",
    "\n",
    "→ ***Map:- The map function executes a specified function for each item in an iterable. The item is sent to the function as a parameter***\n",
    "\n",
    "→ map Make an iterator that computes the function using arguments from each of the iterables.  Stops when the shortest iterable is exhauste\n",
    "\n",
    "→ The map() function in Python is a built-in function that applies a given function to all the items in an iterable (e.g., a list) and returns an iterable map object (an iterator) of the results.\n",
    "\n",
    "→ map() is a core concept in functional programming, promoting a declarative style of coding."
   ]
  },
  {
   "cell_type": "markdown",
   "id": "66c97833-fdab-453e-bf92-1072c3228200",
   "metadata": {},
   "source": [
    "use cases of map:-Applying mathematical operations,Converting data types,Manipulating strings,Working with multiple iterables,Cleaning and filtering data.lets see one example"
   ]
  },
  {
   "cell_type": "code",
   "execution_count": 7,
   "id": "2579e31f-8d50-4f23-b570-635c5a6c2c07",
   "metadata": {},
   "outputs": [],
   "source": [
    "#example 11\n",
    "first_name = [\"Ajay\",\"Ramu\"]\n",
    "last_name  = [\"Gupta\",\"sinha\"]\n",
    "full_name=list(map(lambda first,last:f\"{first} {last}\",first_name,last_name))"
   ]
  },
  {
   "cell_type": "code",
   "execution_count": 8,
   "id": "3e80bb7f-c71f-4b77-a5c5-5bc7035b117d",
   "metadata": {},
   "outputs": [
    {
     "name": "stdout",
     "output_type": "stream",
     "text": [
      "['Ajay Gupta', 'Ramu sinha']\n"
     ]
    }
   ],
   "source": [
    "print(full_name)"
   ]
  },
  {
   "cell_type": "code",
   "execution_count": null,
   "id": "d5cbd920-dda0-4a07-accb-e7543f62d020",
   "metadata": {},
   "outputs": [],
   "source": []
  },
  {
   "cell_type": "markdown",
   "id": "a2d3b611-d306-42f2-a08b-4462ff7a71db",
   "metadata": {},
   "source": [
    "## question 10. What is the difference between `map()`, `reduce()`, and `filter()` functions in Python?"
   ]
  },
  {
   "cell_type": "markdown",
   "id": "c635770b-fae5-4596-a64e-60a4634ab141",
   "metadata": {},
   "source": [
    "## Ans\n",
    "Map, Reduce, and filter are built-in functions that allow you to apply operations to iterables (like lists, tuples, etc.) in a functional programming style. Here's a breakdown of their differences below:\n",
    "\n",
    "Map:-Applies a function to each item in an iterable and returns a new iterable with the transformed values.sy:-map(function, iterable)\n",
    "Filter:-Filters an iterable by keeping only the elements that meet a specific condition defined by a function.sy:-filter(function, iterable)\n",
    "Reduce:- Combines the elements of an iterable into a single value by repeatedly applying a function. Sy: reduce(function, iterable, initializer)\n",
    "\n",
    "key difference:\n",
    "1) Output:- map returns an iterable with the same length as the input, filter returns an iterable with potentially fewer elements, and reduce returns a single value.\n",
    "2) Functionality:- map transforms elements, filter selects elements, and reduce aggregates elements.\n",
    "3) Function Argument:-The function passed to map takes a single argument, the function passed to filter takes a single argument and returns a boolean value, and the function passed to reduce takes two arguments.\n",
    "\n",
    "→'Map' applies a given function to each item of an iterable (like a list or set) and returns a list of the results. 'Filter' constructs a list from elements of an iterable for which a function returns true. 'Reduce' applies a rolling computation to sequential pairs of values in a list and returns a single result.\n",
    "\n",
    "lets see with example"
   ]
  },
  {
   "cell_type": "code",
   "execution_count": 23,
   "id": "6c999597-6c78-4692-b191-8455b8599c05",
   "metadata": {},
   "outputs": [],
   "source": [
    "#exaple 12\n",
    "from functools import reduce\n",
    "numbers=[1,2,3,4,5,6,7,8,9]\n",
    "square_num=list(map(lambda x:x**2,numbers))\n",
    "even_num=list(filter(lambda x:x%2==0,numbers))\n",
    "addition=reduce(lambda x,y:x+y,numbers)"
   ]
  },
  {
   "cell_type": "code",
   "execution_count": 17,
   "id": "7223ff9d-d086-47a7-b504-3a4c06a1cde7",
   "metadata": {},
   "outputs": [
    {
     "name": "stdout",
     "output_type": "stream",
     "text": [
      "[1, 4, 9, 16, 25, 36, 49, 64, 81]\n"
     ]
    }
   ],
   "source": [
    "print(square_num)"
   ]
  },
  {
   "cell_type": "code",
   "execution_count": 20,
   "id": "2ed0a25e-2893-40d6-af06-f8c287607859",
   "metadata": {},
   "outputs": [
    {
     "name": "stdout",
     "output_type": "stream",
     "text": [
      "[2, 4, 6, 8]\n"
     ]
    }
   ],
   "source": [
    "print(even_num)"
   ]
  },
  {
   "cell_type": "code",
   "execution_count": 24,
   "id": "8a552b3f-bf0a-4065-8d10-60195783fe48",
   "metadata": {},
   "outputs": [
    {
     "name": "stdout",
     "output_type": "stream",
     "text": [
      "45\n"
     ]
    }
   ],
   "source": [
    "print(addition)"
   ]
  },
  {
   "cell_type": "code",
   "execution_count": null,
   "id": "3d733eb5-2eb8-4e62-a84b-70e129036060",
   "metadata": {},
   "outputs": [],
   "source": []
  },
  {
   "cell_type": "markdown",
   "id": "f1e9476c-64e7-4c1f-90c6-29d17ed85834",
   "metadata": {},
   "source": [
    "## question 11 . Using pen & Paper write the internal mechanism for sum operation using  reduce function on this given list:[47,11,42,13]; "
   ]
  },
  {
   "cell_type": "markdown",
   "id": "32f1b088-1c40-4945-affe-3be8c13e374b",
   "metadata": {},
   "source": [
    "### Ans"
   ]
  },
  {
   "cell_type": "code",
   "execution_count": 16,
   "id": "ffcbdf1b-6a6f-4c20-ace3-b0bbea46ab0c",
   "metadata": {},
   "outputs": [
    {
     "name": "stdout",
     "output_type": "stream",
     "text": [
      "113\n"
     ]
    }
   ],
   "source": [
    "from functools import reduce\n",
    "list1=[47,11,42,13]\n",
    "total_sum=reduce(lambda x,y:x+y,list1)\n",
    "print(total_sum)"
   ]
  },
  {
   "cell_type": "code",
   "execution_count": null,
   "id": "a53798f2-8f11-440c-af96-c5887a656d06",
   "metadata": {},
   "outputs": [],
   "source": []
  },
  {
   "cell_type": "markdown",
   "id": "ef2dae5a-e520-44d5-aadd-68e1028a2eb9",
   "metadata": {},
   "source": [
    "# Practical Questions:"
   ]
  },
  {
   "cell_type": "markdown",
   "id": "f66e2070-2b48-4f93-8bd8-7a49b9096570",
   "metadata": {},
   "source": [
    "## question 1 . Write a Python function that takes a list of numbers as input and returns the sum of all even numbers in the list."
   ]
  },
  {
   "cell_type": "markdown",
   "id": "8b4b2b40-20d9-4aa1-991a-56677cd92eb6",
   "metadata": {},
   "source": [
    "### ans \n",
    "Here we see as a input we take a numbers as a list and return all the sum of even number using reduce function"
   ]
  },
  {
   "cell_type": "code",
   "execution_count": 49,
   "id": "bbb81eb8-3771-4cff-80cb-0e2008e6860d",
   "metadata": {},
   "outputs": [
    {
     "name": "stdout",
     "output_type": "stream",
     "text": [
      "110\n"
     ]
    }
   ],
   "source": [
    "from functools import reduce\n",
    "numbers=[1,2,3,4,5,6,7,8,9,10,11,12,13,14,15,16,1,7,18,19,20]\n",
    "sum_even_number=reduce(lambda x,num:x + num if num%2==0 else x,numbers,0)\n",
    "print(sum_even_number)"
   ]
  },
  {
   "cell_type": "code",
   "execution_count": null,
   "id": "2d7d8eee-dfac-4073-a382-8f989b5f52e8",
   "metadata": {},
   "outputs": [],
   "source": []
  },
  {
   "cell_type": "markdown",
   "id": "e69ae151-263f-443c-b24c-e3041f07eb55",
   "metadata": {},
   "source": [
    "## question 2. Create a Python function that accepts a string and returns the reverse of that string."
   ]
  },
  {
   "cell_type": "markdown",
   "id": "8a1a91be-f8e4-41ea-b596-a343e9a75626",
   "metadata": {},
   "source": [
    "### Ans\n",
    "here ypu can see two example with .join()and reversed function and also see to how to use reduce functtion and create a reversed string"
   ]
  },
  {
   "cell_type": "code",
   "execution_count": 1,
   "id": "3dbbcd2b-8956-4a69-a477-a74bd0fcb76f",
   "metadata": {},
   "outputs": [
    {
     "name": "stdin",
     "output_type": "stream",
     "text": [
      " thats my first program\n"
     ]
    },
    {
     "data": {
      "text/plain": [
       "'margorp tsrif ym staht'"
      ]
     },
     "execution_count": 1,
     "metadata": {},
     "output_type": "execute_result"
    }
   ],
   "source": [
    "#example 2\n",
    "\"\".join(reversed(input(str())))"
   ]
  },
  {
   "cell_type": "code",
   "execution_count": 2,
   "id": "303f4b7d-513f-40d7-919c-36eca9e4eb70",
   "metadata": {},
   "outputs": [
    {
     "data": {
      "text/plain": [
       "'dlrow olleh'"
      ]
     },
     "execution_count": 2,
     "metadata": {},
     "output_type": "execute_result"
    }
   ],
   "source": [
    "#example 3\n",
    "from functools import reduce \n",
    "def reversed_string(string_input):\n",
    "    return reduce(lambda a, b:b+a,string_input)\n",
    "reversed_string(\"hello world\")"
   ]
  },
  {
   "cell_type": "code",
   "execution_count": null,
   "id": "6693d798-0467-488d-936c-c8d6a7b738c9",
   "metadata": {},
   "outputs": [],
   "source": []
  },
  {
   "cell_type": "markdown",
   "id": "b589643e-e17e-4e66-9d14-675bde1434f1",
   "metadata": {},
   "source": [
    "## question 3.  Implement a Python function that takes a list of integers and returns a new list containing the squares of each number."
   ]
  },
  {
   "cell_type": "markdown",
   "id": "cf2079d0-0c4c-4700-b063-acad68a60c88",
   "metadata": {},
   "source": [
    "### Ans"
   ]
  },
  {
   "cell_type": "code",
   "execution_count": 2,
   "id": "803c74ba-9aec-4050-a7fa-096284287630",
   "metadata": {},
   "outputs": [
    {
     "name": "stdout",
     "output_type": "stream",
     "text": [
      "[1, 4, 9, 16, 25, 36, 49, 64]\n"
     ]
    }
   ],
   "source": [
    "x=[1,2,3,4,5,6,7,8]\n",
    "squared_number = list(map(lambda x: x**2,x))\n",
    "print(squared_number)"
   ]
  },
  {
   "cell_type": "code",
   "execution_count": null,
   "id": "aa6a3833-2f7f-41dc-b617-63a2b9f0cf73",
   "metadata": {},
   "outputs": [],
   "source": []
  },
  {
   "cell_type": "markdown",
   "id": "aae0a083-9f32-41c8-b3cf-46439cd2bc29",
   "metadata": {},
   "source": [
    "## question 4. Write a Python function that checks if a given number is prime or not from 1 to 200."
   ]
  },
  {
   "cell_type": "markdown",
   "id": "8d8dfc11-e8de-4eb1-b7b4-cc6a3d55fdad",
   "metadata": {},
   "source": [
    "### Ans"
   ]
  },
  {
   "cell_type": "code",
   "execution_count": 1,
   "id": "f3cec896-c68b-48de-b2c8-bcccf3551bba",
   "metadata": {},
   "outputs": [
    {
     "name": "stdout",
     "output_type": "stream",
     "text": [
      "2 3 5 7 11 13 17 19 23 29 31 37 41 43 47 53 59 61 67 71 73 79 83 89 97 101 103 107 109 113 127 131 137 139 149 151 157 163 167 173 179 181 191 193 197 199 "
     ]
    }
   ],
   "source": [
    "def is_prime(num,i=2):\n",
    "    lis=[]\n",
    "    if num < 2:\n",
    "        return 0\n",
    "    elif num <= 2:\n",
    "        return num==2\n",
    "    elif num % i == 0:\n",
    "        return 0\n",
    "    elif i * i > num:\n",
    "        return True\n",
    "    return is_prime(num,i+1)\n",
    "# Print prime numbers between 1 and 200\n",
    "for num in range(1, 201):\n",
    "    if is_prime(num):\n",
    "        print(num,end=\" \")"
   ]
  },
  {
   "cell_type": "code",
   "execution_count": null,
   "id": "08914f51-9efc-4323-98c4-2b178817ca02",
   "metadata": {},
   "outputs": [],
   "source": []
  },
  {
   "cell_type": "markdown",
   "id": "8ffd891a-7ac2-409d-88e1-aab5ea617d15",
   "metadata": {},
   "source": [
    "## question 5. Create an iterator class in Python that generates the Fibonacci sequence up to a specified number of terms"
   ]
  },
  {
   "cell_type": "markdown",
   "id": "03138be7-9761-4010-8980-19ec8b7b00fe",
   "metadata": {},
   "source": [
    "### Ans\n"
   ]
  },
  {
   "cell_type": "code",
   "execution_count": 14,
   "id": "7080b84b-6790-4c6f-a719-9bdb2d94ba6c",
   "metadata": {},
   "outputs": [],
   "source": [
    "def fib(n):\n",
    "    a = 0 \n",
    "    b = 1\n",
    "    for i in range(n): \n",
    "        yield a\n",
    "        a, b = b, a+b"
   ]
  },
  {
   "cell_type": "code",
   "execution_count": 15,
   "id": "7d8ebb93-4b0b-4d1a-b0c3-67ca1cd5e43c",
   "metadata": {},
   "outputs": [],
   "source": [
    "f = fib(7)"
   ]
  },
  {
   "cell_type": "code",
   "execution_count": 18,
   "id": "4b722cd1-9fba-4f84-9dee-d9f3736d34b5",
   "metadata": {},
   "outputs": [
    {
     "name": "stdout",
     "output_type": "stream",
     "text": [
      "0\n"
     ]
    }
   ],
   "source": [
    "print(next(f))"
   ]
  },
  {
   "cell_type": "code",
   "execution_count": 19,
   "id": "5c51c62d-a128-4fb8-b3b9-59cd5028c137",
   "metadata": {},
   "outputs": [
    {
     "data": {
      "text/plain": [
       "1"
      ]
     },
     "execution_count": 19,
     "metadata": {},
     "output_type": "execute_result"
    }
   ],
   "source": [
    "next(f)"
   ]
  },
  {
   "cell_type": "code",
   "execution_count": 20,
   "id": "827bca50-06c1-4120-9f5f-a876846b5d20",
   "metadata": {},
   "outputs": [
    {
     "data": {
      "text/plain": [
       "1"
      ]
     },
     "execution_count": 20,
     "metadata": {},
     "output_type": "execute_result"
    }
   ],
   "source": [
    "next(f)"
   ]
  },
  {
   "cell_type": "code",
   "execution_count": 21,
   "id": "27164362-0b62-464f-b7b3-a18d28acb9dc",
   "metadata": {},
   "outputs": [
    {
     "data": {
      "text/plain": [
       "2"
      ]
     },
     "execution_count": 21,
     "metadata": {},
     "output_type": "execute_result"
    }
   ],
   "source": [
    "next(f)"
   ]
  },
  {
   "cell_type": "code",
   "execution_count": 22,
   "id": "20ee8fdd-e36a-4cd8-8a31-0179fbc903f5",
   "metadata": {},
   "outputs": [
    {
     "data": {
      "text/plain": [
       "3"
      ]
     },
     "execution_count": 22,
     "metadata": {},
     "output_type": "execute_result"
    }
   ],
   "source": [
    "next(f)"
   ]
  },
  {
   "cell_type": "code",
   "execution_count": 23,
   "id": "ce0f8257-06bb-4cd9-8421-ef5d33fb7e63",
   "metadata": {},
   "outputs": [
    {
     "data": {
      "text/plain": [
       "5"
      ]
     },
     "execution_count": 23,
     "metadata": {},
     "output_type": "execute_result"
    }
   ],
   "source": [
    "next(f)"
   ]
  },
  {
   "cell_type": "code",
   "execution_count": 24,
   "id": "aef9ba97-5873-4180-8a46-71b2a3f6365d",
   "metadata": {},
   "outputs": [
    {
     "data": {
      "text/plain": [
       "8"
      ]
     },
     "execution_count": 24,
     "metadata": {},
     "output_type": "execute_result"
    }
   ],
   "source": [
    "next(f)"
   ]
  },
  {
   "cell_type": "code",
   "execution_count": 25,
   "id": "19228455-7313-4cac-8f81-f3d8d22bb845",
   "metadata": {},
   "outputs": [
    {
     "ename": "StopIteration",
     "evalue": "",
     "output_type": "error",
     "traceback": [
      "\u001b[0;31m---------------------------------------------------------------------------\u001b[0m",
      "\u001b[0;31mStopIteration\u001b[0m                             Traceback (most recent call last)",
      "Cell \u001b[0;32mIn[25], line 1\u001b[0m\n\u001b[0;32m----> 1\u001b[0m \u001b[38;5;28;43mnext\u001b[39;49m\u001b[43m(\u001b[49m\u001b[43mf\u001b[49m\u001b[43m)\u001b[49m\n",
      "\u001b[0;31mStopIteration\u001b[0m: "
     ]
    }
   ],
   "source": [
    "next(f)"
   ]
  },
  {
   "cell_type": "code",
   "execution_count": null,
   "id": "48bdb2be-ec0a-4ea5-bd4d-5c839023a056",
   "metadata": {},
   "outputs": [],
   "source": []
  },
  {
   "cell_type": "markdown",
   "id": "c1150357-cc1b-4907-ae86-b69a2f7b604e",
   "metadata": {},
   "source": [
    "## question 6. Write a generator function in Python that yields the powers of 2 up to a given exponent."
   ]
  },
  {
   "cell_type": "markdown",
   "id": "e269a4df-10b2-4133-8ea0-53b3b88b0c26",
   "metadata": {},
   "source": [
    "### Ans"
   ]
  },
  {
   "cell_type": "code",
   "execution_count": 55,
   "id": "1755be00-31a0-40ce-96e4-27b0d3cc2c8b",
   "metadata": {},
   "outputs": [],
   "source": [
    "def find_power(base,exponent):\n",
    "    yield base**exponent"
   ]
  },
  {
   "cell_type": "code",
   "execution_count": 56,
   "id": "f98a334c-5a69-4a03-8a10-943f9d4d021a",
   "metadata": {},
   "outputs": [],
   "source": [
    "ae=find_power(2,3)"
   ]
  },
  {
   "cell_type": "code",
   "execution_count": 57,
   "id": "56defb11-1259-4dad-9f9e-0b76f1b1bdeb",
   "metadata": {},
   "outputs": [
    {
     "name": "stdout",
     "output_type": "stream",
     "text": [
      "8\n"
     ]
    }
   ],
   "source": [
    "print(next(ae))"
   ]
  },
  {
   "cell_type": "code",
   "execution_count": null,
   "id": "c9c50687-5d48-479d-bfd7-92995af6e096",
   "metadata": {},
   "outputs": [],
   "source": []
  },
  {
   "cell_type": "markdown",
   "id": "36843329-f94a-4fe3-b0e9-f94bf364a937",
   "metadata": {},
   "source": [
    "## question 7. Implement a generator function that reads a file line by line and yields each line as a string."
   ]
  },
  {
   "cell_type": "markdown",
   "id": "141dcd27-4f3e-4463-a72a-459e2ff9b9d6",
   "metadata": {},
   "source": [
    "### Ans"
   ]
  },
  {
   "cell_type": "code",
   "execution_count": 65,
   "id": "a42cef45-ad43-4a6d-a520-fc413ab8668e",
   "metadata": {},
   "outputs": [
    {
     "name": "stdout",
     "output_type": "stream",
     "text": [
      "line 1:-First book in list\n",
      "line 2:-secoung file from list\n",
      "line 3:third file from book\n"
     ]
    }
   ],
   "source": [
    "import io\n",
    "\n",
    "def read_line_by_line(L):\n",
    "    file_object = io.StringIO(\"\\n\".join(L))\n",
    "    for line in file_object:\n",
    "        yield line.strip()\n",
    "\n",
    "\n",
    "L = [\"line 1:-First book in list\", \"line 2:-secoung file from list\",\"line 3:third file from book\"]\n",
    "for line in read_list_line_by_line(L):\n",
    "    print(line)\n"
   ]
  },
  {
   "cell_type": "code",
   "execution_count": null,
   "id": "55ff7b66-ef34-4c16-8364-5bb01e0434f3",
   "metadata": {},
   "outputs": [],
   "source": []
  },
  {
   "cell_type": "markdown",
   "id": "36fe7305-815c-4ecf-9a87-fb7c68c9ddfe",
   "metadata": {},
   "source": [
    "## question 8. Use a lambda function in Python to sort a list of tuples based on the second element of each tuple."
   ]
  },
  {
   "cell_type": "markdown",
   "id": "d3f9c0a3-559f-4cb0-8396-070af372286d",
   "metadata": {},
   "source": [
    "### Ans"
   ]
  },
  {
   "cell_type": "code",
   "execution_count": 67,
   "id": "16a132be-857d-4756-b6cc-05207e879d41",
   "metadata": {},
   "outputs": [],
   "source": [
    "planet= [('Earth', 3), ('Jupiter', 5), ('Mercury', 1), ('Mars', 4), ('Neptune', 8), ('Saturn', 6), ('Uranus', 7), ('Venus', 2)]\n",
    "new_planet_sorted_list = sorted(planet, key=lambda x: x[1])"
   ]
  },
  {
   "cell_type": "code",
   "execution_count": 68,
   "id": "b0e5a57c-737b-4f01-8c6c-92309484af95",
   "metadata": {
    "tags": []
   },
   "outputs": [
    {
     "name": "stdout",
     "output_type": "stream",
     "text": [
      "[('Mercury', 1), ('Venus', 2), ('Earth', 3), ('Mars', 4), ('Jupiter', 5), ('Saturn', 6), ('Uranus', 7), ('Neptune', 8)]\n"
     ]
    }
   ],
   "source": [
    "print(new_planet_sorted_list)"
   ]
  },
  {
   "cell_type": "code",
   "execution_count": null,
   "id": "8131e695-9c0a-4cd2-83df-eb15a69f4b89",
   "metadata": {},
   "outputs": [],
   "source": []
  },
  {
   "cell_type": "markdown",
   "id": "c79d63d1-7357-431f-9343-8f7afded6fcf",
   "metadata": {},
   "source": [
    "## question 9. Write a Python program that uses `map()` to convert a list of temperatures from Celsius to Fahrenheit."
   ]
  },
  {
   "cell_type": "markdown",
   "id": "d86f7a47-13c4-4c53-8bc4-2a354dacfbe2",
   "metadata": {},
   "source": [
    "### Ans"
   ]
  },
  {
   "cell_type": "code",
   "execution_count": 70,
   "id": "71d5f2ac-4c2c-41d1-a4cf-4be9be2f8ce6",
   "metadata": {},
   "outputs": [
    {
     "name": "stdout",
     "output_type": "stream",
     "text": [
      "[113.0, -4.0, 41.0]\n"
     ]
    }
   ],
   "source": [
    "def celsius_to_fahrenheit(celsius):\n",
    "    return (celsius * 9/5) + 32\n",
    "temperatures_celsius = [45,-20,5]\n",
    "temperatures_fahrenheit = list(map(lambda x: (celsius_to_fahrenheit(x)), temperatures_celsius))\n",
    "print(temperatures_fahrenheit)"
   ]
  },
  {
   "cell_type": "code",
   "execution_count": null,
   "id": "9d8fdcdc-c906-40d5-b988-e38ea4cb94f9",
   "metadata": {},
   "outputs": [],
   "source": []
  },
  {
   "cell_type": "markdown",
   "id": "757378eb-81ca-4ddc-84e6-015fef5d2003",
   "metadata": {},
   "source": [
    "## question 10. Create a Python program that uses `filter()` to remove all the vowels from a given string."
   ]
  },
  {
   "cell_type": "markdown",
   "id": "6196bd5b-fc8b-4a7c-b89b-22d81587d5d1",
   "metadata": {},
   "source": [
    "### Ans"
   ]
  },
  {
   "cell_type": "code",
   "execution_count": 13,
   "id": "5ed84b53-5278-4c05-b7ca-cc9448af16a7",
   "metadata": {},
   "outputs": [],
   "source": [
    "str1=\"hello world\""
   ]
  },
  {
   "cell_type": "code",
   "execution_count": 14,
   "id": "d5fe120e-6492-45a4-801f-6307c3161432",
   "metadata": {},
   "outputs": [],
   "source": [
    "new_str= ''.join(filter(lambda x:x.lower() not in \"'a', 'e', 'i', 'o', 'u', 'A', 'E', 'I', 'O', 'U'\",str1))"
   ]
  },
  {
   "cell_type": "code",
   "execution_count": 15,
   "id": "25db62e2-ccaa-435a-a8c6-a38c4c395764",
   "metadata": {},
   "outputs": [
    {
     "data": {
      "text/plain": [
       "'hllwrld'"
      ]
     },
     "execution_count": 15,
     "metadata": {},
     "output_type": "execute_result"
    }
   ],
   "source": [
    "new_str"
   ]
  },
  {
   "cell_type": "markdown",
   "id": "5eae7fd7-15a1-4448-9140-8b8576b98441",
   "metadata": {},
   "source": [
    "## 11) Imagine an accounting routine used in a book shop. It works on a list with sublists, which look like this:\n",
    "\n",
    "\n",
    "\n",
    "\n",
    "\n",
    "\n",
    "\n",
    "\n",
    "\n",
    "\n",
    "\n",
    "\n",
    "## Write a Python program, which returns a list with 2-tuples. Each tuple consists of the order number and the product of the price per item and the quantity. The product should be increased by 10,- € if the value of the order is smaller than 100,00 €. Write a Python program using lambda and map"
   ]
  },
  {
   "cell_type": "markdown",
   "id": "c304de2d-257c-4f65-a997-8dd1e5ccff27",
   "metadata": {},
   "source": [
    "### Ans"
   ]
  },
  {
   "cell_type": "code",
   "execution_count": 94,
   "id": "ce27b894-9c18-44d2-9678-8a902c53fbdb",
   "metadata": {},
   "outputs": [
    {
     "name": "stdout",
     "output_type": "stream",
     "text": [
      "[('34587', 163.8), ('98762', 284.0), ('77226', 108.85000000000001), ('88112', 84.97)]\n"
     ]
    }
   ],
   "source": [
    "from functools import reduce\n",
    "orders = [ [\"34587\", \"Learning Python, Mark Lutz\", 4, 40.95],[\"98762\", \"Programming Python, Mark Lutz\", 5, 56.80],[\"77226\", \"Head First Python, Paul Barry\", 3,32.95],[\"88112\", \"Einführung in Python3, Bernd Klein\", \t3, 24.99]]\n",
    "min_order = 100\n",
    "invoice_totals = list(map(lambda x: x if x[1] >= min_order else (x[0], x[1] + 10), \n",
    "                  map(lambda x: (x[0],x[2] * x[3]), orders)))\n",
    "print(invoice_totals)"
   ]
  },
  {
   "cell_type": "code",
   "execution_count": null,
   "id": "14729676-136f-45db-a07a-34530dd6b75f",
   "metadata": {},
   "outputs": [],
   "source": []
  }
 ],
 "metadata": {
  "kernelspec": {
   "display_name": "Python 3 (ipykernel)",
   "language": "python",
   "name": "python3"
  },
  "language_info": {
   "codemirror_mode": {
    "name": "ipython",
    "version": 3
   },
   "file_extension": ".py",
   "mimetype": "text/x-python",
   "name": "python",
   "nbconvert_exporter": "python",
   "pygments_lexer": "ipython3",
   "version": "3.10.8"
  }
 },
 "nbformat": 4,
 "nbformat_minor": 5
}
