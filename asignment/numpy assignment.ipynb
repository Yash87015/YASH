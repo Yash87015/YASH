{
 "cells": [
  {
   "cell_type": "markdown",
   "id": "16188078-2975-43f6-a76c-9c7c2abfa682",
   "metadata": {},
   "source": [
    "#                                                      ***numpy assignment***\n",
    "Name:-Yash solanki\n",
    "\n",
    "Reg email id:-yash87015@gmail.com\n",
    "\n",
    "Course name:-Data analytic\n",
    "\n",
    "Assignment name:-numpy assignment\n",
    "\n",
    "Submission date:-not declare\n",
    "\n",
    "Git link:-https://github.com/Yash87015/YASH\n",
    "(in git hub use assignment folder )"
   ]
  },
  {
   "cell_type": "code",
   "execution_count": null,
   "id": "72a06369-0f1f-4a63-9744-a3f72dd9e87f",
   "metadata": {},
   "outputs": [],
   "source": []
  }
 ],
 "metadata": {
  "kernelspec": {
   "display_name": "Python 3 (ipykernel)",
   "language": "python",
   "name": "python3"
  },
  "language_info": {
   "codemirror_mode": {
    "name": "ipython",
    "version": 3
   },
   "file_extension": ".py",
   "mimetype": "text/x-python",
   "name": "python",
   "nbconvert_exporter": "python",
   "pygments_lexer": "ipython3",
   "version": "3.10.8"
  }
 },
 "nbformat": 4,
 "nbformat_minor": 5
}
