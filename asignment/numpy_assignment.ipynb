{
 "cells": [
  {
   "cell_type": "markdown",
   "metadata": {
    "id": "U0W1NRnaM6Ml"
   },
   "source": [
    "#                   numpy assignment\n",
    "\n",
    "Name:-Yash solanki\n",
    "\n",
    "Reg email id:-yash87015@gmail.com\n",
    "\n",
    "Course name:-Data analytic\n",
    "\n",
    "Assignment name:-numpy assignment\n",
    "\n",
    "Submission date:-not declare\n",
    "\n",
    "Git link:-https://github.com/Yash87015/YASH (in git hub use assignment folder )"
   ]
  },
  {
   "cell_type": "markdown",
   "metadata": {
    "id": "s6CTGz3crgO3"
   },
   "source": [
    "# theoretical Questions:\n",
    "\n",
    " ## 1. Explain the purpose and advantages of NumPy in scientific computing and data analysis. How does it enhance Python's capabilities for numerical operations?\n",
    "\n",
    " ### Ans\n",
    "\n",
    "→ NumPy is a programming library designed for the\n",
    "Python language. It enhances Python by providing\n",
    "support for large, multi-dimensional arrays and matrices. In addition, NumPy offers a wide range of high-level mathematical functions specifically designed to operate on these arrays.\n",
    "\n",
    "→  NumPy is an open-source library in the Python language. (https://numpy.org/)\n",
    "\n",
    "→ NumPy is a fundamental Python library for scientific computing and data analysis, providing highly optimized multidimensional arrays that enable fast and efficient numerical operations, significantly enhancing Python's capabilities for handling large datasets and complex mathematical calculations compared to standard Python lists, especially when dealing with large-scale data processing tasks due to its optimized C-based implementation.\n",
    "\n",
    "→ Key advantages of NumPy:\n",
    "\n",
    "1) Performance:\n",
    "NumPy arrays are stored in contiguous memory blocks and utilize compiled C code for operations, resulting in significantly faster execution times compared to Python lists, especially for large datasets and vectorized operations.\n",
    "\n",
    "2) Multidimensional Arrays:\n",
    "NumPy's core data structure is the 'ndarray' (N-dimensional array), allowing for seamless manipulation of matrices, vectors, and higher-dimensional data structures commonly encountered in scientific computing.\n",
    "\n",
    "3) Vectorized Operations:\n",
    "NumPy enables performing operations on entire arrays element-wise, eliminating the need for explicit loops and leading to cleaner, more concise code while maintaining high performance.\n",
    "\n",
    "4) Integration with other libraries:\n",
    "NumPy serves as a foundation for many other scientific Python libraries like SciPy, Pandas, and Matplotlib, allowing for smooth data exchange and complex analysis pipelines.\n",
    "\n",
    "5) Mathematical functions:\n",
    "NumPy provides a rich collection of mathematical functions like trigonometric operations, linear algebra routines, and statistical calculations, readily accessible for scientific computations.\n",
    "\n",
    "→ NumPy provides a comprehensive suite of mathematical functions, enabling users to perform addition, subtraction, multiplication, and more on arrays. Broadcasting, a key feature, simplifies operations between arrays of different shapes, enhancing code efficiency and readability.\n",
    "\n",
    "→ Universal Functions (ufuncs): NumPy’s funcs operate element-wise on arrays, facilitating fast computations across entire arrays without explicit looping. Functions like np.sin(), np.cos(), np.exp(), and np.sqrt() expedite complex mathematical calculations efficiently.\n",
    "\n",
    "\n",
    "**How NumPy enhances Python for numerical operations**\n",
    "\n",
    "1) Efficient data storage:-Unlike Python lists, NumPy arrays store data in a homogeneous manner, with all elements having the same data type, leading to optimized memory usage.\n",
    "\n",
    "2) Optimized algorithms:\n",
    "By leveraging compiled C code, NumPy can perform complex mathematical operations on large datasets significantly faster than using standard Python loops.\n",
    "\n",
    "3) Simplified syntax:\n",
    "NumPy provides a user-friendly interface for performing complex array manipulations with intuitive syntax, making it easier to write and understand scientific computing code.\n",
    "\n",
    "**use cases of numpy**\n",
    "\n",
    "1) Data Analysis and Preprocessing: NumPy is widely used in data analysis tasks, including data cleaning, manipulation, and transformation, due to its efficient array operations and mathematical functionalities.\n",
    "\n",
    "2) Scientific Computing: Applications in physics, biology, engineering, and finance leverage NumPy for simulations, solving differential equations, numerical integration, and more.\n",
    "\n",
    "3) Machine Learning: NumPy forms the backbone of many machine learning algorithms by handling data representation and mathematical computations efficiently, supporting tasks like feature extraction, data normalization, and model evaluation.\n",
    "\n",
    "\n",
    "\n",
    "\n",
    "\n"
   ]
  },
  {
   "cell_type": "markdown",
   "metadata": {
    "id": "W-Jm4V-eNX2H"
   },
   "source": [
    "## 2. Compare and contrast np.mean() and np.average() functions in NumPy. When would you use one over the other?\n",
    "\n",
    "### Ans\n",
    "\n",
    "→ 'Mean' & 'Average' are not the same thing. They are frequently used interchangeably, but they should not even be. The np.mean() method returns the arithmetic mean, but the np.average() function returns the algebraic mean if no additional parameters are specified, but it may also be used to compute a weighted average.\n",
    "\n",
    "\n",
    "In NumPy, the np.mean() and np.average() functions are used to calculate the arithmetic mean across an array, but they have some differences:\n",
    "\n",
    "→ np.mean(): Returns the arithmetic mean.\n",
    "\n",
    "→ np.average(): Returns the algebraic mean by default, but can also be used to calculate a weighted average.\n",
    "\n",
    "lets see in details\n",
    "1) np.mean():-\n",
    "→ The term \"mean\" often refers to the \"arithmetic mean\", which is the sum of a set of numbers divided by the total number of the numbers in the set.\n",
    "\n",
    "→Syntax:numpy.mean(a, axis=None, dtype=None, **kwargs)(we see with examples as well)\n",
    "→ axis:-This setting establishes the axis along which the arithmetic means are calculated.\n",
    "→ dtype:-\tThis option specifies the data type used to compute the mean.\n",
    "\n",
    "→ A mean is the summation of all elements divided by the total number of elements. This signifies that they all have the same weight or are only measured once. This means :\n",
    "(1+2+3+4+5+6+7+8+9+10)/10=5.5\n",
    "\n",
    "→ np.mean() accepts a few arguments that np.average() does not. One of the most important is the dtype argument, which allows you to specify the data type that will be employed in the computation.\n",
    "\n",
    "2) np.average():-\n",
    "→ The term \"average\" refers to a variety of computations, the \"arithmetic mean\" is one of them. Other terms include 'median,' 'mode,' 'weighted mean,' 'interquartile mean,' and a variety of others.\n",
    "\n",
    "→ numpy.average(), on the contrary, allows you to compute a Weighted Mean, with each value in your array having a distinct weight.\n",
    "\n",
    "→ Syntax:-numpy.average(a, axis=None, weights=None, **kwargs)\n",
    "\n",
    "→ A weighted mean includes elements with varying weights. It can be hard to imagine, so we'll envision the weighting fits more comfortably over the numbers and looks something like this:\n",
    "\n",
    "(0*10 + 1*9 + 2*8 + 3*7 + 4*6 + 5*5 + 6*4 + 7*3 + 8*2 + 9*1  )/55=3.6\n",
    "\n",
    "**Difference between np.average() and np.mean()**\n",
    "\n",
    "→ Many more arguments, such as dtype, out, where, and others, are available in the np.mean() method that is not accessible in the np.average() function.\n",
    "\n",
    "→ If the weights option is specified, the np.average() function may compute a weighted mean, but np.mean() cannot.\n",
    "\n",
    "→ Since np.average does not take into consideration boolean masks, it will compute the average over the entire collection of data. While the np.mean() method takes into account boolean masks, compute the mean solely across unmasked data.\n",
    "\n",
    "→ if weight is define then we use .average() and if necessary use dtype fuction need than we use .mean().there where whould be use one over other"
   ]
  },
  {
   "cell_type": "code",
   "execution_count": 12,
   "metadata": {
    "colab": {
     "base_uri": "https://localhost:8080/",
     "height": 0
    },
    "id": "VZZz6YC9MxS7",
    "outputId": "0e623881-130f-41bb-90ea-81a992cb4a80"
   },
   "outputs": [
    {
     "name": "stdout",
     "output_type": "stream",
     "text": [
      "5.5\n",
      "5.5\n",
      "3.6666666666666665\n"
     ]
    }
   ],
   "source": [
    "import numpy as np\n",
    "a=np.array([1,2,3,4,5,6,7,8,9,10])\n",
    "weight1 = np.array([9,8,7,6,5,4,3,2,1,0])\n",
    "print(np.mean(a))\n",
    "print(np.average(a))#here we see in average weight is not given thats why output will be same\n",
    "print(np.average(a,axis=0,weights=weight1))"
   ]
  },
  {
   "cell_type": "code",
   "execution_count": 13,
   "metadata": {
    "colab": {
     "base_uri": "https://localhost:8080/",
     "height": 176
    },
    "id": "NTF6RU9vG-_D",
    "outputId": "9094de03-8cad-4ae8-e919-f6cfcfd24f04"
   },
   "outputs": [
    {
     "name": "stdout",
     "output_type": "stream",
     "text": [
      "5.5\n"
     ]
    },
    {
     "ename": "TypeError",
     "evalue": "_average_dispatcher() got an unexpected keyword argument 'dtype'",
     "output_type": "error",
     "traceback": [
      "\u001b[0;31m---------------------------------------------------------------------------\u001b[0m",
      "\u001b[0;31mTypeError\u001b[0m                                 Traceback (most recent call last)",
      "Cell \u001b[0;32mIn[13], line 2\u001b[0m\n\u001b[1;32m      1\u001b[0m \u001b[38;5;28mprint\u001b[39m(np\u001b[38;5;241m.\u001b[39mmean(a,dtype\u001b[38;5;241m=\u001b[39m\u001b[38;5;28mfloat\u001b[39m))\n\u001b[0;32m----> 2\u001b[0m \u001b[38;5;28mprint\u001b[39m(\u001b[43mnp\u001b[49m\u001b[38;5;241;43m.\u001b[39;49m\u001b[43maverage\u001b[49m\u001b[43m(\u001b[49m\u001b[43ma\u001b[49m\u001b[43m,\u001b[49m\u001b[43mdtype\u001b[49m\u001b[38;5;241;43m=\u001b[39;49m\u001b[38;5;28;43mfloat\u001b[39;49m\u001b[43m)\u001b[49m)\u001b[38;5;66;03m#see average doesnt support dtype\u001b[39;00m\n",
      "File \u001b[0;32m<__array_function__ internals>:179\u001b[0m, in \u001b[0;36maverage\u001b[0;34m(*args, **kwargs)\u001b[0m\n",
      "\u001b[0;31mTypeError\u001b[0m: _average_dispatcher() got an unexpected keyword argument 'dtype'"
     ]
    }
   ],
   "source": [
    "print(np.mean(a,dtype=float))\n",
    "print(np.average(a,dtype=float))#see average doesnt support dtype"
   ]
  },
  {
   "cell_type": "markdown",
   "metadata": {
    "id": "yHEna_zmO5l3"
   },
   "source": [
    "## 3. Describe the methods for reversing a NumPy array along different axes. Provide examples for 1D and 2D arrays.\n",
    "\n",
    "### Ans\n",
    "You can reverse a NumPy array using these functions: np.flip(), np.fliplr() and np.flipud().\n",
    "\n",
    "→ np.flip():-This function reverses the order of elements in an array along the specified axis. If no axis is specified, it reverses the entire array.\n",
    "\n",
    "→ np.flipud(): This function flips an array vertically (up/down)\n",
    "\n",
    "→ np.fliplr(): This function flips an array horizontally (left/right).\n",
    "\n",
    "→ lests see with 1D and 2D arry example"
   ]
  },
  {
   "cell_type": "code",
   "execution_count": 2,
   "metadata": {
    "id": "kRICCYovHsFN"
   },
   "outputs": [],
   "source": [
    "b=np.array([1,2,3])#1d array\n",
    "c=np.array([[1,2,3],[4,5,6]])#2D array"
   ]
  },
  {
   "cell_type": "code",
   "execution_count": null,
   "metadata": {
    "colab": {
     "base_uri": "https://localhost:8080/"
    },
    "id": "yXesNTmlROgH",
    "outputId": "c97e7fc1-8418-4252-c53a-9f8b77dabf5e"
   },
   "outputs": [
    {
     "name": "stdout",
     "output_type": "stream",
     "text": [
      "[3 2 1]\n"
     ]
    }
   ],
   "source": [
    "#lets see np.flip()\n",
    "print(np.flip(b))"
   ]
  },
  {
   "cell_type": "code",
   "execution_count": null,
   "metadata": {
    "colab": {
     "base_uri": "https://localhost:8080/"
    },
    "id": "Lm2mqByxSVlJ",
    "outputId": "c1acc5aa-eb77-4ce1-c164-27b853c28ea7"
   },
   "outputs": [
    {
     "name": "stdout",
     "output_type": "stream",
     "text": [
      "[[6 5 4]\n",
      " [3 2 1]]\n"
     ]
    }
   ],
   "source": [
    "print(np.flip(c))"
   ]
  },
  {
   "cell_type": "code",
   "execution_count": null,
   "metadata": {
    "colab": {
     "base_uri": "https://localhost:8080/"
    },
    "id": "RI8V9hS6R5hu",
    "outputId": "73981437-ddc4-4a25-e758-48a048ec0752"
   },
   "outputs": [
    {
     "name": "stdout",
     "output_type": "stream",
     "text": [
      "[[4 5 6]\n",
      " [1 2 3]]\n",
      "[[3 2 1]\n",
      " [6 5 4]]\n"
     ]
    }
   ],
   "source": [
    "print(np.flip(c,axis=0))#reverse row\n",
    "print(np.flip(c,axis=1))#reverse column"
   ]
  },
  {
   "cell_type": "code",
   "execution_count": null,
   "metadata": {
    "colab": {
     "base_uri": "https://localhost:8080/"
    },
    "id": "gBc9PesGSIlS",
    "outputId": "96c29fdb-3f2a-4918-b7da-031b23b0f2e5"
   },
   "outputs": [
    {
     "name": "stdout",
     "output_type": "stream",
     "text": [
      "for 1d array: [3 2 1]\n",
      "for 2d array: [[4 5 6]\n",
      " [1 2 3]]\n"
     ]
    }
   ],
   "source": [
    "#np.flipud()\n",
    "print(\"for 1d array:\",np.flipud(b))\n",
    "print(\"for 2d array:\",np.flipud(c,))"
   ]
  },
  {
   "cell_type": "code",
   "execution_count": null,
   "metadata": {
    "colab": {
     "base_uri": "https://localhost:8080/"
    },
    "id": "3uRbjFzSSsYF",
    "outputId": "af5fd8dd-689d-4778-c88b-315a2531d764"
   },
   "outputs": [
    {
     "name": "stdout",
     "output_type": "stream",
     "text": [
      "[[3 2 1]\n",
      " [6 5 4]]\n"
     ]
    }
   ],
   "source": [
    "print(np.fliplr(c))#np.fliplr does not work in 1d array"
   ]
  },
  {
   "cell_type": "code",
   "execution_count": 9,
   "metadata": {
    "colab": {
     "base_uri": "https://localhost:8080/",
     "height": 0
    },
    "id": "i3DlECqryR62",
    "outputId": "3fb95059-e866-4d71-92d6-558bccc8c01f"
   },
   "outputs": [
    {
     "name": "stdout",
     "output_type": "stream",
     "text": [
      "using silicing array: [3 2 1]\n",
      "using silicing array: [[4 5 6]\n",
      " [1 2 3]]\n",
      "using silicing array: [[6 5 4]\n",
      " [3 2 1]]\n",
      "using silicing array: [[3 2 1]\n",
      " [6 5 4]]\n"
     ]
    }
   ],
   "source": [
    "#we cane use silicing also to filip the element\n",
    "print(\"using silicing array:\",b[::-1])#to reverse rows.\n",
    "print(\"using silicing array:\",c[::-1])\n",
    "print(\"using silicing array:\",c[::-1,::-1])#reverse both axis\n",
    "print(\"using silicing array:\",c[:,::-1])#to reverse columns.\n"
   ]
  },
  {
   "cell_type": "markdown",
   "metadata": {
    "id": "OrlETVWuWBaK"
   },
   "source": [
    "## 4. How can you determine the data type of elements in a NumPy array? Discuss the importance of data types in memory management and performance.\n",
    "\n",
    "### Ans\n",
    "→ we can determine the data useing np.dtype function thats give output value as data type of element in numpy array\n",
    "\n",
    "→ np.dtype:-Object to be converted to a data type object.\n",
    "\n",
    "**importance of data type in memory managment**\n",
    "→ Data types play a crucial role in memory management and performance by dictating how much memory is allocated to store different data values, allowing the system to optimize storage and perform operations efficiently based on the specific data type, ultimately leading to faster and more reliable programs\n",
    "\n",
    "→ Efficient memory allocation:Each data type has a predefined size, so when a variable is declared with a specific data type, the system allocates the appropriate amount of memory needed to store that type of data, preventing unnecessary memory usage.\n",
    "\n",
    "→ Optimized operations:Knowing the data type allows the compiler to perform the correct operations on the data, which can be significantly faster than trying to handle different data types with generic operations.\n",
    "\n",
    "→ Data integrity:Data types help enforce data integrity by defining the range of values that can be stored in a variable, preventing potential errors from incompatible data types being used in calculations.\n",
    "\n",
    "→ Example: Integer vs. Floating-point: Storing a whole number (like \"10\") as an integer requires less memory than storing a decimal value (like \"10.5\") as a floating-point number. By using the appropriate data type, you can optimize memory usage.\n",
    "\n",
    "**importance of data type in performance**\n",
    "→ Impact on performance:\n",
    "\n",
    "→ (1)Faster execution:-When the system knows the exact data type, it can perform calculations and data manipulations more efficiently, leading to faster program execution.\n",
    "\n",
    "→ (2)Reduced memory overhead:-By allocating the correct amount of memory for each data type, you can minimize unnecessary memory usage, especially in applications with large datasets.\n",
    "\n",
    "**Important considerations when choosing data types**\n",
    "→ Data size:Select a data type that is appropriate for the expected range of values to avoid unnecessary memory allocation.\n",
    "\n",
    "→Precision:If high precision is needed, choose a data type that can handle decimal values accurately.\n",
    "\n",
    "→ Application needs:Consider the specific operations that will be performed on the data to select the most efficient data type.\n",
    "\n",
    "→ Data types in programming are classifications that specify the kind of data a variable can hold. They are crucial because they define how the data can be used, what operations can be performed on it, and how much memory is allocated for storing it"
   ]
  },
  {
   "cell_type": "code",
   "execution_count": null,
   "metadata": {
    "colab": {
     "base_uri": "https://localhost:8080/"
    },
    "id": "4taNU6fLT74c",
    "outputId": "94486c77-787f-4f53-d85c-ba6417dfa728"
   },
   "outputs": [
    {
     "name": "stdout",
     "output_type": "stream",
     "text": [
      "int64\n",
      "float64\n",
      "bool\n",
      "complex128\n"
     ]
    }
   ],
   "source": [
    "a=np.array([1,2,3])\n",
    "b=np.array([1.1,2.2,3.3])\n",
    "c=np.array([1,2,3],dtype=np.bool_)#yoy can also define dtype what ever yoy want\n",
    "d=np.array([1,2,3],dtype=complex)\n",
    "print(a.dtype)\n",
    "print(b.dtype)\n",
    "print(c.dtype)\n",
    "print(d.dtype)"
   ]
  },
  {
   "cell_type": "markdown",
   "metadata": {
    "id": "axx6fQhDcVSO"
   },
   "source": [
    "## 5. Define ndarrays in NumPy and explain their key features. How do they differ from standard Python lists?\n",
    "\n",
    "### Ans\n",
    "→ An ndarray is a multi-dimensional array of items of the same type and size. The number of dimensions and items contained in the array is defined with a tuple of N non-negative integers that specify each dimension's size. An ndarray has an associated data-type object which specifies the dtype stored in the ndarray\n",
    "\n",
    "**Key features of ndarrays**\n",
    "\n",
    "→ Homogeneous Data Type:All elements within an ndarray must be of the same data type, such as integers, floats, or strings. This enables efficient operations on the array.\n",
    "\n",
    "→ Multi-dimensional:An ndarray can represent arrays of any number of dimensions, from 1D vectors to 2D matrices to even higher-dimensional arrays.\n",
    "\n",
    "→ Fixed Size:-Once created, the size (shape) of an ndarray is fixed. Adding or removing elements requires creating a new array.\n",
    "\n",
    "→ Efficient Operations:-NumPy provides optimized C and Fortran-based implementations for performing mathematical operations on ndarrays, making them significantly faster than native Python lists.\n",
    "\n",
    "→ Broadcasting:NumPy allows operations between arrays with different but compatible shapes, making it easier to perform complex calculations.\n",
    "\n",
    "→Vectorization:Instead of using loops, you can perform operations on entire arrays in a single operation, leading to more concise and efficient code.\n",
    "\n",
    "→Indexing and Slicing:NumPy provides powerful indexing and slicing capabilities to access and modify specific elements or subarrays within an ndarray.\n",
    "\n",
    "→Interoperability:NumPy ndarrays can easily be integrated with other Python libraries and data structures.\n",
    "\n",
    "**NumPy's ndarray and standard Python lists are both ways to store collections of data, but they have key differences that make ndarrays particularly powerful for numerical computations**\n",
    "\n",
    "1) Homogeneous Data Type:\n",
    "\n",
    "→ ndarray:Elements in an ndarray must all be of the same data type (e.g., integers, floats, etc.). This allows for efficient memory usage and faster operations.\n",
    "\n",
    "→ List:Lists can contain elements of different data types (e.g., integers, strings, other lists) within the same list.\n",
    "\n",
    "\n",
    "2) Fixed Size:\n",
    "\n",
    "→ ndarray: The size of an ndarray is fixed at creation. Changing the size requires creating a new array.\n",
    "\n",
    "→ List: Lists are dynamic and can grow or shrink as needed.\n",
    "\n",
    "\n",
    "3) Vectorized Operations:\n",
    "\n",
    "→ ndarray:ndarrays support vectorized operations, meaning you can perform mathematical operations on entire arrays without writing explicit loops. This is significantly faster than looping over a list in Python.\n",
    "\n",
    "→List:Lists do not support vectorized operations. You need to loop through the list to perform operations on individual elements.\n",
    "\n",
    "\n",
    "4) Broadcasting:\n",
    "\n",
    "→ ndarray: NumPy supports broadcasting, which allows you to perform operations on arrays with different but compatible shapes.\n",
    "\n",
    "→ List: Lists do not support broadcasting.\n",
    "\n",
    "5) Memory Efficiency:\n",
    "\n",
    "→ndarray: ndarrays are more memory efficient than lists for storing large amounts of numerical data due to their homogeneous data type and contiguous memory allocation.\n",
    "\n",
    "6) Functionality:\n",
    "\n",
    "→ ndarray:NumPy offers a rich set of functions and methods specifically designed for working with arrays, including mathematical operations, linear algebra, statistical analysis, and more.\n",
    "\n",
    "→ List:Python lists offer general-purpose functionality for adding, removing, and manipulating elements.\n",
    "\n",
    "**In summary**\n",
    "\n",
    "Use ndarrays for numerical computations involving large amounts of data, where speed and efficiency are crucial.\n",
    "Use lists for storing collections of heterogeneous data types or when you need dynamic resizing."
   ]
  },
  {
   "cell_type": "markdown",
   "metadata": {
    "id": "5L8AX4oum5AE"
   },
   "source": [
    "## 6. Analyze the performance benefits of NumPy arrays over Python lists for large-scale numerical operations.\n",
    "\n",
    "### Ans\n",
    "\n",
    "→ NumPy arrays offer significant performance advantages over Python lists for large-scale numerical operations due to their underlying implementation and optimized features.that we see in above question\n",
    "\n",
    "→ NumPy arrays are more memory efficient compared to Python lists. They store homogeneous data types in contiguous memory blocks, reducing memory overhead and improving memory utilization, especially for large datasets.\n",
    "\n",
    "→ Lower Memory Consumption: NumPy arrays are more compact than Python lists.\n",
    "\n",
    "**Examples of Performance Benefits**\n",
    "\n",
    "→ Element-wise Operations:NumPy arrays outperform Python lists by a significant margin when performing element-wise operations like addition, subtraction, multiplication, and division.\n",
    "\n",
    "→ Linear Algebra:NumPy provides highly optimized functions for linear algebra operations like matrix multiplication, eigenvalue decomposition, and solving linear systems, which are much faster than their Python equivalents.\n",
    "\n",
    "→ Statistical Operations:NumPy's statistical functions, such as mean, median, standard deviation, and correlation, are optimized for performance and can handle large datasets efficiently.\n",
    "\n",
    "**In Summary**\n",
    "\n",
    "→ NumPy arrays are the go-to choice for large-scale numerical operations in Python due to their optimized implementation, vectorized operations, and memory efficiency. They offer significant performance improvements over Python lists, making them essential for scientific computing, data analysis, and machine learning tasks.\n",
    "\n",
    "→ Python Lists : You need to use a loop to iterate over each element and perform the addition. This approach is slow due to the overhead of Python's dynamic type checking and the repeated method calls.\n",
    "\n",
    "→ NumPy Arrays : You can simply use the + operator on two arrays, and NumPy will perform the addition in a highly optimized manner. This operation is executed much faster and more efficiently. Overall, NumPy arrays provide substantial performance benefits for large-scale numerical operations, including improved memory efficiency, faster computations, reduced overhead, and advanced features that are crucial for high-performance scientific and data analysis tasks."
   ]
  },
  {
   "cell_type": "markdown",
   "metadata": {
    "id": "apnwhjisp3E7"
   },
   "source": [
    "## 7. Compare vstack() and hstack() functions in NumPy. Provide examples demonstrating their usage and output.\n",
    "\n",
    "### Ans\n",
    "\n",
    "→ In NumPy, vstack and hstack are functions used to stack arrays vertically and horizontally, respectively. Here's a comparison:\n",
    "\n",
    "1) vstack():VSTACK returns the array formed by appending each of the array arguments in a row-wise fashion. The resulting array will be the following dimensions:\n",
    "\n",
    "→ Rows: the combined count of all the rows from each of the array arguments.\n",
    "\n",
    "→ Columns: The maximum of the column count from each of the array arguments.\n",
    "\n",
    "→ Stacks arrays vertically (along the first axis, i.e., rows).\n",
    "\n",
    "→ The arrays must have the same number of columns.\n",
    "\n",
    "\n",
    "2) hstack():HSTACK returns the array formed by appending each of the array arguments in a column-wise fashion. The resulting array will be the following dimensions:\n",
    "\n",
    "→ Rows    The maximum of the row count from each of the array arguments.\n",
    "\n",
    "→ Columns    The combined count of all the columns from each of the array arguments.\n",
    "\n",
    "→ Stacks arrays horizontally (along the second axis, i.e., columns).\n",
    "\n",
    "→ The arrays must have the same number of rows.\n",
    "\n",
    "**key difference**\n",
    "\n",
    "→ Stacking direction: vstack stacks along rows, while hstack stacks along columns.\n",
    "\n",
    "→ Dimension requirement: vstack requires matching column counts, while hstack requires matching row counts.\n",
    "\n",
    "→ If the axis is set to 0, it works as vstack and if the axis is 1, it works as hstack."
   ]
  },
  {
   "cell_type": "code",
   "execution_count": 10,
   "metadata": {
    "colab": {
     "base_uri": "https://localhost:8080/",
     "height": 0
    },
    "id": "2QjV39XLb_Rw",
    "outputId": "d0e1b674-a55e-482d-d1bb-06468479538e"
   },
   "outputs": [
    {
     "name": "stdout",
     "output_type": "stream",
     "text": [
      "vstack operatio: [[1 2 3]\n",
      " [4 5 6]]\n",
      "hstack operatio: [1 2 3 4 5 6]\n"
     ]
    }
   ],
   "source": [
    "a=np.array([1,2,3])\n",
    "b=np.array([4,5,6])\n",
    "print(\"vstack operatio:\",np.vstack((a,b)))\n",
    "print(\"hstack operatio:\",np.hstack((a,b)))"
   ]
  },
  {
   "cell_type": "code",
   "execution_count": null,
   "metadata": {
    "colab": {
     "base_uri": "https://localhost:8080/"
    },
    "id": "cEkSavc8tjVl",
    "outputId": "f55523f9-dc9d-443d-8d5b-708fd3aa5540"
   },
   "outputs": [
    {
     "name": "stdout",
     "output_type": "stream",
     "text": [
      "vstack operatio: [[ 1  2  3]\n",
      " [ 4  5  6]\n",
      " [ 7  8  9]\n",
      " [10 11 12]]\n",
      "hstack operatio: [[ 1  2  3  7  8  9]\n",
      " [ 4  5  6 10 11 12]]\n"
     ]
    }
   ],
   "source": [
    "c=np.array([[1,2,3],[4,5,6]])\n",
    "d=np.array([[7,8,9],[10,11,12]])\n",
    "print(\"vstack operatio:\",np.vstack((c,d)))\n",
    "print(\"hstack operatio:\",np.hstack((c,d)))"
   ]
  },
  {
   "cell_type": "markdown",
   "metadata": {
    "id": "jEPYZsgwvfNz"
   },
   "source": [
    "## 8. Explain the differences between fliplr() and flipud() methods in NumPy, including their effects on various array dimensions.\n",
    "\n",
    "### Ans\n",
    "\n",
    "**diffrence between fliplr() and flipud()**\n",
    "\n",
    "→ In NumPy, fliplr() flips an array horizontally (left to right), while flipud() flips an array vertically (up to down), meaning fliplr() reverses the columns of a matrix while flipud() reverses the rows, regardless of the array's dimensionality.\n",
    "\n",
    "**Key points**\n",
    "\n",
    "Axis of Flipping:\n",
    "\n",
    "fliplr(): Flips along the second axis (column index).\n",
    "flipud(): Flips along the first axis (row index).\n",
    "\n",
    "**Impact on different array dimensions**\n",
    "\n",
    "→ 1D array: Both fliplr() and flipud() will simply reverse the order of elements in the array as there is only one axis.\n",
    "\n",
    "→ 2D array (matrix):\n",
    "\n",
    "fliplr(): Columns are reversed.\n",
    "\n",
    "flipud(): Rows are reversed.\n",
    "\n",
    "→ Higher dimensional arrays: The flipping operation will only affect the specified axis (second axis for fliplr, first axis for flipud) while leaving other dimensions unchanged.\n",
    "\n",
    "→ View vs. Copy:Both fliplr() and flipud() return a view of the original array, meaning changes to the flipped array will also affect the original array.\n",
    "\n",
    "→ np.flip() function:NumPy also provides a more general flip() function where you can explicitly specify the axis along which to flip."
   ]
  },
  {
   "cell_type": "code",
   "execution_count": null,
   "metadata": {
    "colab": {
     "base_uri": "https://localhost:8080/"
    },
    "id": "UC-i6MM30o6k",
    "outputId": "103dc051-2125-4827-9ff3-1da99e867714"
   },
   "outputs": [
    {
     "name": "stdout",
     "output_type": "stream",
     "text": [
      "flipud operation on array a:\n",
      " [3 2 1]\n",
      "fliplr operation on array b:\n",
      " [[3 2 1]\n",
      " [6 5 4]]\n",
      "flipud operation on array a:\n",
      " [[4 5 6]\n",
      " [1 2 3]]\n"
     ]
    }
   ],
   "source": [
    "a=np.array([1,2,3])\n",
    "b=np.array([[1,2,3],[4,5,6]])\n",
    "print(\"flipud operation on array a:\\n\",np.flipud(a))\n",
    "print(\"fliplr operation on array b:\\n\",np.fliplr(b))\n",
    "print(\"flipud operation on array a:\\n\",np.flipud(b))"
   ]
  },
  {
   "cell_type": "markdown",
   "metadata": {
    "id": "zLb9B5lL1pM9"
   },
   "source": [
    "## 9. Discuss the functionality of the array_split() method in NumPy. How does it handle uneven splits?\n",
    "\n",
    "### Ans\n",
    "→ In NumPy, the split() function is used to split an array into multiple sub-arrays along a specified axis. However, it has a limitation: it requires the array to be split into equal-sized sub-arrays. If the array cannot be divided evenly, the function will raise an error.\n",
    "\n",
    "→ To handle uneven splits, you should use the array_split() function instead. Here's how it works:\n",
    "\n",
    " **Functionality of arry_split()**\n",
    "\n",
    "→ array_split() splits an array into multiple sub-arrays along a specified axis, even if the splits are not equal.\n",
    "\n",
    "→The array_split() method in NumPy is used to split an array into multiple sub-arrays. It is particularly useful for dividing data into chunks or segments, especially when working with large datasets. Here a detailed look at how array_split() works and how it handles uneven splits\n",
    "\n",
    "→Syntax :\n",
    "numpy.array_split(ary, indices_or_sections, axis=0)\n",
    "\n",
    "→ ary : The input array to be split.\n",
    "\n",
    "→ axis : Axis along which to split the array. The default is 0, meaning splitting along the first axis (rows for 2D arrays).\n",
    "\n",
    "→ indices_or_sections : Defines how to split the array:\n",
    "\n",
    "**Handling Uneven Splits**\n",
    "\n",
    "→ If the array cannot be divided equally, array_split() distributes the remaining elements as evenly as possible among the sub-arrays. The first few sub-arrays may have one more element than the others.\n",
    "\n",
    "→If the number of elements is not perfectly divisible, some sub-arrays will have one more element than others. For example, if you split an array with 10 elements into 3 parts, you will get two sub-arrays with 3 elements each and one sub-array with 4 elements.\n",
    "\n",
    "→ The array is split at the specified indices. The resulting sub-arrays will be the segments between these indices.\n",
    "\n",
    "→ If the specified indices do not evenly divide the array, the last sub-array will contain the remaining elements."
   ]
  },
  {
   "cell_type": "code",
   "execution_count": 11,
   "metadata": {
    "colab": {
     "base_uri": "https://localhost:8080/",
     "height": 0
    },
    "id": "-WcW8zLG1JqN",
    "outputId": "81111081-f051-48a8-a774-b184c8646430"
   },
   "outputs": [
    {
     "name": "stdout",
     "output_type": "stream",
     "text": [
      "[array([1, 2]), array([3, 4]), array([5, 6]), array([7, 8]), array([ 9, 10])]\n"
     ]
    }
   ],
   "source": [
    "#Splitting into Equal Parts\n",
    "a=np.array([1,2,3,4,5,6,7,8,9,10])\n",
    "print(np.array_split(a,5))"
   ]
  },
  {
   "cell_type": "code",
   "execution_count": 13,
   "metadata": {
    "colab": {
     "base_uri": "https://localhost:8080/",
     "height": 0
    },
    "id": "uQFcIePn4t6m",
    "outputId": "abe7fdb6-0a3b-4250-934e-4f5dfbbd7fd3"
   },
   "outputs": [
    {
     "name": "stdout",
     "output_type": "stream",
     "text": [
      "[array([1, 2, 3, 4]), array([5, 6, 7]), array([ 8,  9, 10])]\n"
     ]
    }
   ],
   "source": [
    "#Splitting with Uneven Parts\n",
    "b=np.array([1,2,3,4,5,6,7,8,9,10])\n",
    "print(np.array_split(b,3))\n"
   ]
  },
  {
   "cell_type": "markdown",
   "metadata": {
    "id": "PsduLM-j6AIx"
   },
   "source": [
    "## 10. Explain the concepts of vectorization and broadcasting in NumPy. How do they contribute to efficient array operations?\n",
    "\n",
    "### Ans\n",
    "→ Vectorization and broadcasting are techniques in NumPy that help speed up array operations and make them more efficient\n",
    "\n",
    "→ lets see each one in details\n",
    "\n",
    "1) vectorization:-This technique applies an operation to an entire array at once, instead of looping over each element. Vectorization uses pre-compiled functions and mathematical operations, and delegates operations to C. This makes vectorized operations faster and more efficient than using for loops.\n",
    "\n",
    "→ The a1 + a2 operation performs element-wise addition on the entire arrays simultaneously, without the need to loop through each element individually in Python.\n",
    "\n",
    "→ This is due to lower-level optimizations and reduced overhead associated with Python’s dynamic typing and interpreted nature.\n",
    "\n",
    "\n",
    "2) Broadcasting:- Broadcasting works by checking if arrays are compatible and stretching smaller dimensions to match larger ones. Broadcasting avoids unnecessary data copies and usually leads to efficient algorithm implementations.\n",
    "\n",
    "→ In the second example, the scalar value 2 is effectively \"broadcast\" to match the shape of arr1, allowing the addition operation to be applied element-wise even though the dimensions are different\n",
    "\n",
    "→ this technique used in NumPy to perform arithmetic operations on arrays of different shapes in a way that aligns dimensions automatically. It allows operations between arrays of different sizes by \"broadcasting\" the smaller array across the larger one.\n",
    "\n",
    "**Here are some rules for broadcasting**\n",
    "\n",
    "→ If two arrays are the same length in a dimension, that dimension is operated on element-wise.\n",
    "\n",
    "→ If one array has a value in a dimension and the other array is size 1 in that dimension, the value is broadcast and used with each item in the other array.\n",
    "\n",
    "→ If the arrays are different sizes and neither is size 1, broadcasting can't be performed.\n",
    "\n",
    "***How They Contribute to Efficient Array Operations***\n",
    "\n",
    "Speed : Vectorization and broadcasting both leverage efficient low-level implementations, reducing the need for Python-level loops and computations. This results in faster execution times.\n",
    "\n",
    "Memory Efficiency : Broadcasting avoids the need for creating large intermediate arrays, as it operates directly on existing arrays by broadcasting smaller arrays as needed.\n",
    "\n",
    "Code Simplicity : Both techniques enable more concise and readable code, avoiding the complexity of nested loops and manual array manipulations.\n",
    "\n",
    "→ Improved performance: By avoiding explicit Python loops, computations are significantly faster, especially when dealing with large datasets.\n",
    "\n",
    "→ Concise code: Vectorized operations often result in more readable and concise code.\n",
    "\n",
    "→ Flexibility: Broadcasting allows operations on arrays with different shapes, making data manipulation easier."
   ]
  },
  {
   "cell_type": "code",
   "execution_count": 14,
   "metadata": {
    "colab": {
     "base_uri": "https://localhost:8080/",
     "height": 0
    },
    "id": "rrgESc2s5B-_",
    "outputId": "ea7dfaa3-4aff-49d2-a027-0287ab2d65bd"
   },
   "outputs": [
    {
     "name": "stdout",
     "output_type": "stream",
     "text": [
      "[5 7 9]\n"
     ]
    }
   ],
   "source": [
    "#vectorization\n",
    "a1=np.array([1,2,3])\n",
    "a2=np.array([4,5,6])\n",
    "print(a1+a2)"
   ]
  },
  {
   "cell_type": "code",
   "execution_count": 15,
   "metadata": {
    "colab": {
     "base_uri": "https://localhost:8080/",
     "height": 0
    },
    "id": "21GHQTLdAUsc",
    "outputId": "6cf96863-90b1-4408-9ff0-6ec0167e80c6"
   },
   "outputs": [
    {
     "name": "stdout",
     "output_type": "stream",
     "text": [
      "[3 4 5]\n"
     ]
    }
   ],
   "source": [
    "#brodcasting\n",
    "arr1 = np.array([1, 2, 3])\n",
    "scalar = 2\n",
    "result = arr1 + scalar\n",
    "print(result)"
   ]
  },
  {
   "cell_type": "code",
   "execution_count": 16,
   "metadata": {
    "colab": {
     "base_uri": "https://localhost:8080/",
     "height": 0
    },
    "id": "1d8NqQrPAzCF",
    "outputId": "fc004fe0-6fd2-45c9-f9b4-037df3df8c54"
   },
   "outputs": [
    {
     "name": "stdout",
     "output_type": "stream",
     "text": [
      "[[ 8 10 12]\n",
      " [11 13 15]]\n"
     ]
    }
   ],
   "source": [
    "#adding 2D and 1D dime\n",
    "a=np.array([[1,2,3],[4,5,6]])\n",
    "b=np.array([7,8,9])\n",
    "print(a+b)"
   ]
  },
  {
   "cell_type": "markdown",
   "metadata": {
    "id": "Eqq359fhBROl"
   },
   "source": [
    "#Practical Questions:\n",
    "\n",
    "## 1. Create a 3x3 NumPy array with random integers between 1 and 100. Then, interchange its rows and columns.\n",
    "\n",
    "### Ans\n"
   ]
  },
  {
   "cell_type": "code",
   "execution_count": 19,
   "metadata": {
    "colab": {
     "base_uri": "https://localhost:8080/",
     "height": 0
    },
    "id": "cBTSHZSlA_A7",
    "outputId": "cd0af126-1c77-4851-dacb-977b3e576e05"
   },
   "outputs": [
    {
     "name": "stdout",
     "output_type": "stream",
     "text": [
      "[[97 39  8]\n",
      " [33 35  4]\n",
      " [70 78 72]]\n"
     ]
    }
   ],
   "source": [
    "#create 3x3 numply between 1 to 100\n",
    "a=np.random.randint(1,100,(3,3))\n",
    "print(a)"
   ]
  },
  {
   "cell_type": "code",
   "execution_count": 20,
   "metadata": {
    "colab": {
     "base_uri": "https://localhost:8080/",
     "height": 0
    },
    "id": "ePaI-XHcBuRB",
    "outputId": "010a5f14-e407-49f3-e28c-f9295e9ca103"
   },
   "outputs": [
    {
     "data": {
      "text/plain": [
       "array([[97, 33, 70],\n",
       "       [39, 35, 78],\n",
       "       [ 8,  4, 72]])"
      ]
     },
     "execution_count": 20,
     "metadata": {},
     "output_type": "execute_result"
    }
   ],
   "source": [
    "#interchage rows and column using transpose\n",
    "a.T"
   ]
  },
  {
   "cell_type": "markdown",
   "metadata": {
    "id": "GjssQi2pCZlB"
   },
   "source": [
    "## 2. Generate a 1D NumPy array with 10 elements. Reshape it into a 2x5 array, then into a 5x2 array.\n",
    "\n",
    "### Ans"
   ]
  },
  {
   "cell_type": "code",
   "execution_count": 22,
   "metadata": {
    "colab": {
     "base_uri": "https://localhost:8080/",
     "height": 0
    },
    "id": "bRDZWD0tB3tH",
    "outputId": "c85b5194-5e28-441d-cd3d-01e1038b2cce"
   },
   "outputs": [
    {
     "name": "stdout",
     "output_type": "stream",
     "text": [
      "[0 1 2 3 4 5 6 7 8 9]\n",
      "dimension of array is: 1\n"
     ]
    }
   ],
   "source": [
    "#generate 1D array with 10 elements.\n",
    "a=np.arange(10)\n",
    "print(a)\n",
    "\n",
    "b=a.ndim\n",
    "print(\"dimension of array is:\",b)"
   ]
  },
  {
   "cell_type": "code",
   "execution_count": 23,
   "metadata": {
    "colab": {
     "base_uri": "https://localhost:8080/",
     "height": 0
    },
    "id": "BKWYU3cZCogY",
    "outputId": "2d6e1034-52ce-423b-ddfe-108dbd005c8f"
   },
   "outputs": [
    {
     "name": "stdout",
     "output_type": "stream",
     "text": [
      "[[0 1 2 3 4]\n",
      " [5 6 7 8 9]]\n"
     ]
    }
   ],
   "source": [
    "#reshape of array into 2x5\n",
    "a=a.reshape(2,5)\n",
    "print(a)"
   ]
  },
  {
   "cell_type": "code",
   "execution_count": 24,
   "metadata": {
    "colab": {
     "base_uri": "https://localhost:8080/",
     "height": 0
    },
    "id": "1NDlwd0TDHha",
    "outputId": "d0074efa-2eea-4d7d-9d3a-2bef913aa170"
   },
   "outputs": [
    {
     "name": "stdout",
     "output_type": "stream",
     "text": [
      "[[0 1]\n",
      " [2 3]\n",
      " [4 5]\n",
      " [6 7]\n",
      " [8 9]]\n"
     ]
    }
   ],
   "source": [
    "#reshape of array into 5x2\n",
    "a=a.reshape(5,2)\n",
    "print(a)"
   ]
  },
  {
   "cell_type": "markdown",
   "metadata": {
    "id": "vTlon4k5DVUd"
   },
   "source": [
    "## 3. Create a 4x4 NumPy array with random float values. Add a border of zeros around it, resulting in a 6x6 array.\n",
    "\n",
    "### Ans"
   ]
  },
  {
   "cell_type": "code",
   "execution_count": 14,
   "metadata": {
    "colab": {
     "base_uri": "https://localhost:8080/",
     "height": 0
    },
    "id": "xZJuvvEkDPZn",
    "outputId": "6118674c-3e8e-41ae-e081-789ce91d0f44"
   },
   "outputs": [
    {
     "name": "stdout",
     "output_type": "stream",
     "text": [
      "[[0.8197067  0.99290705 0.74567811 0.95365818]\n",
      " [0.1940247  0.77692307 0.65709761 0.72703576]\n",
      " [0.40880151 0.81379881 0.09669474 0.14651464]\n",
      " [0.597067   0.08232104 0.34557739 0.67812154]]\n"
     ]
    }
   ],
   "source": [
    "#create a 4x4 numpy array with random float values\n",
    "a=np.random.rand(4,4)\n",
    "print(a)"
   ]
  },
  {
   "cell_type": "code",
   "execution_count": 15,
   "metadata": {
    "colab": {
     "base_uri": "https://localhost:8080/",
     "height": 0
    },
    "id": "VmnVrjRvDqAi",
    "outputId": "0331a945-02e2-4926-df9b-4657592e796f"
   },
   "outputs": [
    {
     "name": "stdout",
     "output_type": "stream",
     "text": [
      "[[0.         0.         0.         0.         0.         0.        ]\n",
      " [0.         0.8197067  0.99290705 0.74567811 0.95365818 0.        ]\n",
      " [0.         0.1940247  0.77692307 0.65709761 0.72703576 0.        ]\n",
      " [0.         0.40880151 0.81379881 0.09669474 0.14651464 0.        ]\n",
      " [0.         0.597067   0.08232104 0.34557739 0.67812154 0.        ]\n",
      " [0.         0.         0.         0.         0.         0.        ]]\n"
     ]
    }
   ],
   "source": [
    "#add a broder of zeros around it\n",
    "a=np.pad(a,pad_width=1,mode='constant',constant_values=0)\n",
    "print(a)"
   ]
  },
  {
   "cell_type": "code",
   "execution_count": 16,
   "metadata": {
    "colab": {
     "base_uri": "https://localhost:8080/",
     "height": 0
    },
    "id": "jI0hOoF5Dyb5",
    "outputId": "ccb289ef-db66-4209-fcaa-f65dfd200832"
   },
   "outputs": [
    {
     "name": "stdout",
     "output_type": "stream",
     "text": [
      "shape of array: (6, 6)\n"
     ]
    }
   ],
   "source": [
    "#print the resulting 6x6 array\n",
    "print(\"shape of array:\",a.shape)"
   ]
  },
  {
   "cell_type": "markdown",
   "metadata": {
    "id": "P22CoZfNEYXd"
   },
   "source": [
    "## 4. Using NumPy, create an array of integers from 10 to 60 with a step of 5.\n",
    "\n",
    "### Ans"
   ]
  },
  {
   "cell_type": "code",
   "execution_count": 33,
   "metadata": {
    "colab": {
     "base_uri": "https://localhost:8080/",
     "height": 0
    },
    "id": "-jejsH8PEJsy",
    "outputId": "1909dc8c-fad8-47f8-b45b-4fa30f53df7a"
   },
   "outputs": [
    {
     "name": "stdout",
     "output_type": "stream",
     "text": [
      "[10 15 20 25 30 35 40 45 50 55 60]\n"
     ]
    }
   ],
   "source": [
    "#create array from 10 to 60 with step 5\n",
    "a=np.arange(10,61,5)\n",
    "print(a)"
   ]
  },
  {
   "cell_type": "markdown",
   "metadata": {
    "id": "LV4W0pcmFNPl"
   },
   "source": [
    "## 5. Create a NumPy array of strings ['python', 'numpy', 'pandas']. Apply different case transformations (uppercase, lowercase, title case, etc.) to each element.\n",
    "\n",
    "### Ans"
   ]
  },
  {
   "cell_type": "code",
   "execution_count": 34,
   "metadata": {
    "colab": {
     "base_uri": "https://localhost:8080/",
     "height": 0
    },
    "id": "mJOrU9aWE8-L",
    "outputId": "64ff5b44-4393-4924-e821-dd47e1172ee8"
   },
   "outputs": [
    {
     "name": "stdout",
     "output_type": "stream",
     "text": [
      "['python' 'numpy' 'pandas']\n"
     ]
    }
   ],
   "source": [
    "#create numpy array of string ['python','numpy','pandas']\n",
    "a=np.array(['python','numpy','pandas'])\n",
    "print(a)"
   ]
  },
  {
   "cell_type": "code",
   "execution_count": 36,
   "metadata": {
    "colab": {
     "base_uri": "https://localhost:8080/",
     "height": 0
    },
    "id": "7dbUEtDqFiH7",
    "outputId": "8c1b83a4-6935-462f-ed22-fe2b2502f0a0"
   },
   "outputs": [
    {
     "name": "stdout",
     "output_type": "stream",
     "text": [
      "uppercase: ['PYTHON' 'NUMPY' 'PANDAS']\n",
      "lowercase: ['python' 'numpy' 'pandas']\n",
      "titlecase: ['Python' 'Numpy' 'Pandas']\n"
     ]
    }
   ],
   "source": [
    "#apply diffrent case transformation (uppercase,lowercase,title)\n",
    "print(\"uppercase:\",np.char.upper(a))\n",
    "print(\"lowercase:\",np.char.lower(a))\n",
    "print(\"titlecase:\",np.char.title(a))\n"
   ]
  },
  {
   "cell_type": "markdown",
   "metadata": {
    "id": "k5-uxineF7Kx"
   },
   "source": [
    "## 6. Generate a NumPy array of words. Insert a space between each character of every word in the array.\n",
    "\n",
    "### Ans"
   ]
  },
  {
   "cell_type": "code",
   "execution_count": 37,
   "metadata": {
    "colab": {
     "base_uri": "https://localhost:8080/",
     "height": 0
    },
    "id": "SBuZLywEF2Ta",
    "outputId": "91b13f4f-8236-459c-e0c3-a8108ec745e4"
   },
   "outputs": [
    {
     "name": "stdout",
     "output_type": "stream",
     "text": [
      "['hii , i am learning data toolkit module']\n"
     ]
    }
   ],
   "source": [
    "#generate numpy array of words\n",
    "a=np.array([\"hii , i am learning data toolkit module\"])\n",
    "print(a)"
   ]
  },
  {
   "cell_type": "code",
   "execution_count": 38,
   "metadata": {
    "colab": {
     "base_uri": "https://localhost:8080/",
     "height": 0
    },
    "id": "YBu8p_10GVcC",
    "outputId": "4e06c119-00fa-4722-b794-9a9d2740484a"
   },
   "outputs": [
    {
     "name": "stdout",
     "output_type": "stream",
     "text": [
      "['h i i   ,   i   a m   l e a r n i n g   d a t a   t o o l k i t   m o d u l e']\n"
     ]
    }
   ],
   "source": [
    "#insert a space between each character\n",
    "b=np.char.join(\" \",a)\n",
    "print(b)"
   ]
  },
  {
   "cell_type": "markdown",
   "metadata": {
    "id": "h6SHE5J_Goo1"
   },
   "source": [
    "## 7. Create two 2D NumPy arrays and perform element-wise addition, subtraction, multiplication, and division.\n",
    "\n",
    "### Ans"
   ]
  },
  {
   "cell_type": "code",
   "execution_count": 39,
   "metadata": {
    "colab": {
     "base_uri": "https://localhost:8080/",
     "height": 0
    },
    "id": "Rme3s8q_GdIK",
    "outputId": "a02bb86b-5217-45e2-a459-ca95b8df535f"
   },
   "outputs": [
    {
     "name": "stdout",
     "output_type": "stream",
     "text": [
      "[[1 2 3]\n",
      " [4 5 6]]\n",
      "[[ 7  8  9]\n",
      " [10 11 12]]\n"
     ]
    }
   ],
   "source": [
    "#create 2 2D numpy arrays\n",
    "a=np.array([[1,2,3],[4,5,6]])\n",
    "b=np.array([[7,8,9],[10,11,12]])\n",
    "print(a)\n",
    "print(b)"
   ]
  },
  {
   "cell_type": "code",
   "execution_count": 41,
   "metadata": {
    "colab": {
     "base_uri": "https://localhost:8080/",
     "height": 0
    },
    "id": "i1D0pwd8HAf-",
    "outputId": "411e52ae-951d-4771-8c48-9c3775ee2712"
   },
   "outputs": [
    {
     "name": "stdout",
     "output_type": "stream",
     "text": [
      "addition: [[ 8 10 12]\n",
      " [14 16 18]]\n",
      "\n",
      "subtraction: [[-6 -6 -6]\n",
      " [-6 -6 -6]]\n",
      "\n",
      "multiplication: [[ 7 16 27]\n",
      " [40 55 72]]\n",
      "\n",
      "division: [[0.14285714 0.25       0.33333333]\n",
      " [0.4        0.45454545 0.5       ]]\n"
     ]
    }
   ],
   "source": [
    "#perform element wise operation\n",
    "print(\"addition:\",a+b)\n",
    "print(\"\\nsubtraction:\",a-b)\n",
    "print(\"\\nmultiplication:\",a*b)\n",
    "print(\"\\ndivision:\",a/b)"
   ]
  },
  {
   "cell_type": "markdown",
   "metadata": {
    "id": "79NzaeSiHdAt"
   },
   "source": [
    "## 8. Use NumPy to create a 5x5 identity matrix, then extract its diagonal elements.\n",
    "\n",
    "### Ans"
   ]
  },
  {
   "cell_type": "code",
   "execution_count": 42,
   "metadata": {
    "colab": {
     "base_uri": "https://localhost:8080/",
     "height": 0
    },
    "id": "_0atOYn8HJgl",
    "outputId": "e6ab0de3-071d-44fe-b21f-ce81fd259b67"
   },
   "outputs": [
    {
     "name": "stdout",
     "output_type": "stream",
     "text": [
      "[[1. 0. 0. 0. 0.]\n",
      " [0. 1. 0. 0. 0.]\n",
      " [0. 0. 1. 0. 0.]\n",
      " [0. 0. 0. 1. 0.]\n",
      " [0. 0. 0. 0. 1.]]\n"
     ]
    }
   ],
   "source": [
    "#create 5x5 identity matrix\n",
    "a=np.eye(5)\n",
    "print(a)\n"
   ]
  },
  {
   "cell_type": "code",
   "execution_count": 43,
   "metadata": {
    "colab": {
     "base_uri": "https://localhost:8080/",
     "height": 0
    },
    "id": "hl5PQEtOIDJ3",
    "outputId": "2be9e367-7de0-4480-83ff-03f0df5d3e06"
   },
   "outputs": [
    {
     "name": "stdout",
     "output_type": "stream",
     "text": [
      "[1. 1. 1. 1. 1.]\n"
     ]
    }
   ],
   "source": [
    "#extract its diogonal element\n",
    "print(np.diag(a))"
   ]
  },
  {
   "cell_type": "markdown",
   "metadata": {
    "id": "QpiWZdA3IRBj"
   },
   "source": [
    "## 9. Generate a NumPy array of 100 random integers between 0 and 1000. Find and display all prime numbers in this array?\n",
    "\n",
    "### Ans"
   ]
  },
  {
   "cell_type": "code",
   "execution_count": 22,
   "metadata": {
    "colab": {
     "base_uri": "https://localhost:8080/",
     "height": 0
    },
    "id": "vTZkWcxrIJBE",
    "outputId": "779910a3-de29-4f7c-a68b-c480d055b09d"
   },
   "outputs": [
    {
     "name": "stdout",
     "output_type": "stream",
     "text": [
      "[601  61 212 894 722 802 887 803 592 549 733 947 321  46 365 746  80 718\n",
      " 204 472 300 469 202 913 542 308 193 223 274 876 335 778 142 427 112 476\n",
      " 451 606 211 732 356 992 583 229 953   5 556 976 808 632 571 380  56   0\n",
      " 229 893  30 295 733 668 888  12 515 857 107 846 612   3 242   6 916 154\n",
      " 411 469 909 252 828  32  50 777 214 653 787 530 469 502 206 384 206 631\n",
      " 701  14 167 488 993 169 414 379 482 735]\n"
     ]
    }
   ],
   "source": [
    "#generate numpy array of 100 random int between 0 to 1000\n",
    "a=np.random.randint(0,1001,100)\n",
    "print(a)"
   ]
  },
  {
   "cell_type": "code",
   "execution_count": 46,
   "metadata": {
    "colab": {
     "base_uri": "https://localhost:8080/",
     "height": 0
    },
    "id": "_fYx5zl3InBH",
    "outputId": "a9738591-0c57-4010-e009-0bde6682396e"
   },
   "outputs": [
    {
     "name": "stdout",
     "output_type": "stream",
     "text": [
      "601\n",
      "61\n",
      "887\n",
      "733\n",
      "947\n",
      "193\n",
      "223\n",
      "211\n",
      "229\n",
      "953\n",
      "5\n",
      "571\n",
      "229\n",
      "733\n",
      "857\n",
      "107\n",
      "3\n",
      "653\n",
      "787\n",
      "631\n",
      "701\n",
      "167\n",
      "379\n"
     ]
    }
   ],
   "source": [
    "#display all prime number in this array\n",
    "for i in a:\n",
    "    if i>1:\n",
    "        for j in range(2,i):\n",
    "            if i%j==0:\n",
    "                break\n",
    "        else:\n",
    "            print(i)"
   ]
  },
  {
   "cell_type": "markdown",
   "metadata": {
    "id": "noKp5jusN64s"
   },
   "source": [
    "## 10. Create a NumPy array representing daily temperatures for a month. Calculate and display the weekly averages.\n",
    "\n",
    "### Ans\n"
   ]
  },
  {
   "cell_type": "code",
   "execution_count": 49,
   "metadata": {
    "colab": {
     "base_uri": "https://localhost:8080/",
     "height": 0
    },
    "id": "YLtBZbjiI7xH",
    "outputId": "9831b1ae-7cd7-4527-b581-86152078a6c0"
   },
   "outputs": [
    {
     "name": "stdout",
     "output_type": "stream",
     "text": [
      "[-24 -17 -27  10 -17 -15  12 -12 -13 -13 -11   5 -30  23 -18  11 -23 -14\n",
      "  19   3 -15   0  14  24   7  13 -14 -12  23  -3]\n"
     ]
    }
   ],
   "source": [
    "#create numpy array represnting daily temprature for a mounth 30 temrature from -30 to 30\n",
    "daily_tem=np.random.randint(-30,31,30)\n",
    "print(daily_tem)\n"
   ]
  },
  {
   "cell_type": "code",
   "execution_count": 51,
   "metadata": {
    "colab": {
     "base_uri": "https://localhost:8080/",
     "height": 0
    },
    "id": "9HjUng8BO4bI",
    "outputId": "547f31ee-561d-42ac-fd5e-763988c7f2d3"
   },
   "outputs": [
    {
     "name": "stdout",
     "output_type": "stream",
     "text": [
      "[[-24 -17 -27  10 -17 -15]\n",
      " [ 12 -12 -13 -13 -11   5]\n",
      " [-30  23 -18  11 -23 -14]\n",
      " [ 19   3 -15   0  14  24]\n",
      " [  7  13 -14 -12  23  -3]]\n"
     ]
    }
   ],
   "source": [
    "#create weekly temrature using reshaping\n",
    "weekly_tem=daily_tem.reshape(5,6)\n",
    "print(weekly_tem)"
   ]
  },
  {
   "cell_type": "code",
   "execution_count": 52,
   "metadata": {
    "colab": {
     "base_uri": "https://localhost:8080/",
     "height": 0
    },
    "id": "oUvEziz7Pk6t",
    "outputId": "e98ca244-5992-4564-fff0-07abac8a301c"
   },
   "outputs": [
    {
     "name": "stdout",
     "output_type": "stream",
     "text": [
      "[-15.          -5.33333333  -8.5          7.5          2.33333333]\n"
     ]
    }
   ],
   "source": [
    "#display weekly average\n",
    "weekly_avg=np.mean(weekly_tem,axis=1)\n",
    "print(weekly_avg)\n"
   ]
  },
  {
   "cell_type": "code",
   "execution_count": null,
   "metadata": {
    "id": "piXn2L2LP_LS"
   },
   "outputs": [],
   "source": []
  }
 ],
 "metadata": {
  "colab": {
   "authorship_tag": "ABX9TyOCMUNTcAortzLRFFQhn22y",
   "include_colab_link": true,
   "provenance": []
  },
  "kernelspec": {
   "display_name": "Python 3 (ipykernel)",
   "language": "python",
   "name": "python3"
  },
  "language_info": {
   "codemirror_mode": {
    "name": "ipython",
    "version": 3
   },
   "file_extension": ".py",
   "mimetype": "text/x-python",
   "name": "python",
   "nbconvert_exporter": "python",
   "pygments_lexer": "ipython3",
   "version": "3.10.8"
  }
 },
 "nbformat": 4,
 "nbformat_minor": 4
}
