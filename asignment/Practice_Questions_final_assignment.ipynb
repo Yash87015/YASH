{
  "cells": [
    {
      "cell_type": "markdown",
      "metadata": {
        "id": "HISGL6s0HbGs"
      },
      "source": [
        "Name:-Yash solanki\n",
        "\n",
        "Reg email id:-yash87015@gmail.com\n",
        "\n",
        "Course name:-Data analytic\n",
        "\n",
        "Assignment name:- Practice Questions_final Assignment\n",
        "\n",
        "Submission date:-4/11/2024\n",
        "\n",
        "Git link:-https://github.com/Yash87015/YASH (in git hub use assignment folder )"
      ]
    },
    {
      "cell_type": "markdown",
      "metadata": {
        "id": "ZcccNvqZHubg"
      },
      "source": [
        "## Q1. Generate a list of 100 integers containing values between 90 to 130 and store it in the variable `int_list`.After generating the list, find the following:(i) Write a Python function to calculate the mean of a given list of numbers.Create a function to find the median of a list of numbers.(ii) Develop a program to compute the mode of a list of integers.(iii) Implement a function to calculate the weighted mean of a list of values and their corresponding weights.(iv) Write a Python function to find the geometric mean of a list of positive numbers.(v) Create a program to calculate the harmonic mean of a list of values.(vi) Build a function to determine the midrange of a list of numbers (average of the minimum and maximum).(vii) Implement a Python program to find the trimmed mean of a list, excluding a certain percentage of outliers.\n",
        "\n",
        "### Ans"
      ]
    },
    {
      "cell_type": "code",
      "execution_count": null,
      "metadata": {
        "colab": {
          "base_uri": "https://localhost:8080/"
        },
        "id": "QAwSFCzUHN1g",
        "outputId": "eb214710-13d1-40a4-b488-cfb212fa02ff"
      },
      "outputs": [
        {
          "name": "stdout",
          "output_type": "stream",
          "text": [
            "[118, 90, 100, 90, 106, 91, 119, 102, 116, 116, 101, 129, 101, 101, 114, 119, 128, 130, 114, 127, 128, 105, 130, 116, 108, 97, 91, 123, 90, 91, 100, 109, 91, 117, 113, 92, 122, 109, 93, 93, 112, 123, 110, 113, 129, 118, 104, 99, 102, 130, 125, 119, 117, 121, 119, 120, 101, 96, 115, 92, 92, 107, 125, 97, 108, 103, 104, 98, 103, 117, 105, 102, 110, 114, 110, 95, 112, 99, 121, 91, 127, 114, 93, 90, 108, 103, 100, 117, 128, 118, 101, 113, 126, 115, 124, 112, 91, 129, 117, 101]\n"
          ]
        }
      ],
      "source": [
        "#Generate list of 100 integer containing between 90 to 130 and store in variable\n",
        "import random\n",
        "int_list = [random.randint(90, 130) for _ in range(100)]\n",
        "print(int_list)"
      ]
    },
    {
      "cell_type": "code",
      "execution_count": null,
      "metadata": {
        "colab": {
          "base_uri": "https://localhost:8080/"
        },
        "id": "pwvoHfSCIhz5",
        "outputId": "3822b4bf-2e17-4ea2-c08b-674a873cd78f"
      },
      "outputs": [
        {
          "name": "stdout",
          "output_type": "stream",
          "text": [
            "Mean: 109.35\n",
            "Mean: 109.35\n"
          ]
        }
      ],
      "source": [
        "#task-1 calculate the mean of a given list of numbers\n",
        "def calculate_mean(numbers):\n",
        "    if not numbers:\n",
        "        return None\n",
        "    return sum(numbers) / len(numbers)\n",
        "\n",
        "mean = calculate_mean(int_list)\n",
        "print(\"Mean:\", mean)\n",
        "\n",
        "#same task using numpy\n",
        "import numpy as np\n",
        "mean = np.mean(int_list)\n",
        "print(\"Mean:\", mean)\n"
      ]
    },
    {
      "cell_type": "code",
      "execution_count": null,
      "metadata": {
        "colab": {
          "base_uri": "https://localhost:8080/"
        },
        "id": "elihFTfuaxnn",
        "outputId": "e0384cb2-7f3f-4efa-ddc3-b13176469e8b"
      },
      "outputs": [
        {
          "name": "stdout",
          "output_type": "stream",
          "text": [
            "Median: 110.0\n",
            "Median: 110.0\n"
          ]
        }
      ],
      "source": [
        "#task-1.2 calculate mediam of given list of numbers\n",
        "def calculate_median(numbers):\n",
        "    numbers.sort()\n",
        "    n = len(numbers)\n",
        "    if n % 2 == 0:\n",
        "        mid1 = numbers[n // 2 - 1]\n",
        "        mid2 = numbers[n // 2]\n",
        "        median = (mid1 + mid2) / 2\n",
        "    else:\n",
        "        median = numbers[n // 2]\n",
        "    return median\n",
        "\n",
        "median = calculate_median(int_list)\n",
        "print(\"Median:\", median)\n",
        "\n",
        "#same task using numpy\n",
        "median = np.median(int_list)\n",
        "print(\"Median:\", median)\n"
      ]
    },
    {
      "cell_type": "code",
      "execution_count": null,
      "metadata": {
        "colab": {
          "base_uri": "https://localhost:8080/"
        },
        "id": "DGr7iogEbIOG",
        "outputId": "6cf06079-ad8e-470d-de87-a6e9511505ee"
      },
      "outputs": [
        {
          "name": "stdout",
          "output_type": "stream",
          "text": [
            "Mode: [91, 101]\n",
            "Mode: 91\n"
          ]
        }
      ],
      "source": [
        "#task-2 Develop a program to compute the mode of a list of integers\n",
        "from collections import Counter\n",
        "\n",
        "def calculate_mode(numbers):\n",
        "    counter = Counter(numbers)\n",
        "    max_count = max(counter.values())\n",
        "    mode = [num for num, count in counter.items() if count == max_count]\n",
        "    return mode\n",
        "\n",
        "mode = calculate_mode(int_list)\n",
        "print(\"Mode:\", mode)\n",
        "\n",
        "#same task using stastic module\n",
        "import statistics\n",
        "mode = statistics.mode(int_list)\n",
        "print(\"Mode:\", mode)"
      ]
    },
    {
      "cell_type": "code",
      "execution_count": null,
      "metadata": {
        "colab": {
          "base_uri": "https://localhost:8080/"
        },
        "id": "Ps4cKupga_rm",
        "outputId": "c2f8d395-82b6-4493-e2fe-b78725de54ea"
      },
      "outputs": [
        {
          "name": "stdout",
          "output_type": "stream",
          "text": [
            "Weighted Mean: 116.23029702970297\n"
          ]
        }
      ],
      "source": [
        "# task -3 Implement a function to calculate the weighted mean of a given list of values and their corresponding weights.\n",
        "def calculate_weighted_mean(values, weights):\n",
        "    if not values or not weights:\n",
        "        return None\n",
        "    if len(values) != len(weights):\n",
        "        return None\n",
        "    weighted_sum = sum(value * weight for value, weight in zip(values, weights))\n",
        "    total_weight = sum(weights)\n",
        "    if total_weight == 0:\n",
        "        return None\n",
        "    return weighted_sum / total_weight\n",
        "\n",
        "#values is given list and wight generate new list of 1  to 100\n",
        "values = int_list\n",
        "weights = list(range(1, 101))\n",
        "weighted_mean = calculate_weighted_mean(values, weights)\n",
        "print(\"Weighted Mean:\", weighted_mean)\n"
      ]
    },
    {
      "cell_type": "code",
      "execution_count": null,
      "metadata": {
        "colab": {
          "base_uri": "https://localhost:8080/"
        },
        "id": "42_a_ouEngqv",
        "outputId": "37cb6ab1-6a82-4790-b04e-9ce94bbc6fc9"
      },
      "outputs": [
        {
          "name": "stdout",
          "output_type": "stream",
          "text": [
            "Geometric Mean: 108.67797966560292\n",
            "Geometric Mean: 108.67797966560295\n",
            "Geometric Mean: 108.67797966560292\n"
          ]
        }
      ],
      "source": [
        "#task-4  Write a Python function to find the geometric mean of a list of positive numbers.\n",
        "def calculate_geometric_mean(numbers):\n",
        "    if not numbers:\n",
        "        return None\n",
        "    product = 1\n",
        "    for num in numbers:\n",
        "        if num <= 0:\n",
        "            return None\n",
        "        product *= num\n",
        "    return product ** (1 / len(numbers))\n",
        "\n",
        "geometric_mean = calculate_geometric_mean(int_list)\n",
        "print(\"Geometric Mean:\", geometric_mean)\n",
        "\n",
        "#using numpy module using log module\n",
        "geometric_mean = np.exp(np.mean(np.log(int_list)))\n",
        "print(\"Geometric Mean:\", geometric_mean)\n",
        "\n",
        "#geometric mean list of positive number using math module\n",
        "import math\n",
        "geometric_mean = math.prod(int_list) ** (1/len(int_list))\n",
        "print(\"Geometric Mean:\", geometric_mean)\n"
      ]
    },
    {
      "cell_type": "code",
      "execution_count": null,
      "metadata": {
        "colab": {
          "base_uri": "https://localhost:8080/"
        },
        "id": "9yqSOaHDvXyK",
        "outputId": "3bb58f84-b668-442b-d566-fcdb60f59eb9"
      },
      "outputs": [
        {
          "name": "stdout",
          "output_type": "stream",
          "text": [
            "Harmonic Mean: 108.00299654229784\n",
            "Harmonic Mean: 108.00299654229778\n",
            "Harmonic Mean: 108.00299654229784\n"
          ]
        }
      ],
      "source": [
        "#task -5 Create a program to calculate the harmonic mean of a list of values\n",
        "def calculate_harmonic_mean(numbers):\n",
        "    if not numbers:\n",
        "        return None\n",
        "    harmonic_sum = sum(1 / num for num in numbers)\n",
        "    return len(numbers) / harmonic_sum\n",
        "\n",
        "harmonic_mean = calculate_harmonic_mean(int_list)\n",
        "print(\"Harmonic Mean:\", harmonic_mean)\n",
        "\n",
        "#using stats module\n",
        "import statistics\n",
        "harmonic_mean = statistics.harmonic_mean(int_list)\n",
        "print(\"Harmonic Mean:\", harmonic_mean)\n",
        "\n",
        "\n",
        "\n",
        "#using other modele\n",
        "harmonic_mean = len(int_list) / sum(1 / num for num in int_list)\n",
        "print(\"Harmonic Mean:\", harmonic_mean)\n",
        "\n",
        "\n"
      ]
    },
    {
      "cell_type": "code",
      "execution_count": null,
      "metadata": {
        "colab": {
          "base_uri": "https://localhost:8080/"
        },
        "id": "Xn70zcexvlTW",
        "outputId": "dadaff1c-c3e1-4b91-aa53-1301974fdc46"
      },
      "outputs": [
        {
          "name": "stdout",
          "output_type": "stream",
          "text": [
            "Harmonic Mean (NumPy): 108.0029965422978\n"
          ]
        }
      ],
      "source": [
        "# task-5 using numpy\n",
        "\n",
        "import numpy as np\n",
        "\n",
        "def calculate_harmonic_mean_numpy(numbers):\n",
        "    \"\"\"Calculates the harmonic mean of a list of values using NumPy.\n",
        "\n",
        "    Args:\n",
        "    numbers (list): A list of numbers.\n",
        "\n",
        "    Returns:\n",
        "    float: The harmonic mean of the numbers.\n",
        "    \"\"\"\n",
        "\n",
        "    # Convert the list to a NumPy array\n",
        "    numbers_array = np.array(numbers)\n",
        "\n",
        "    # Calculate the harmonic mean using NumPy's reciprocal function\n",
        "    harmonic_mean = len(numbers_array) / np.sum(1.0 / numbers_array)\n",
        "\n",
        "    return harmonic_mean\n",
        "\n",
        "# Example usage:\n",
        "harmonic_mean_numpy = calculate_harmonic_mean_numpy(int_list)\n",
        "print(\"Harmonic Mean (NumPy):\", harmonic_mean_numpy)"
      ]
    },
    {
      "cell_type": "code",
      "execution_count": null,
      "metadata": {
        "colab": {
          "base_uri": "https://localhost:8080/"
        },
        "id": "o2cSzs2Ax5hN",
        "outputId": "bedaae99-6034-4e1d-c4f6-810c2fc8b445"
      },
      "outputs": [
        {
          "name": "stdout",
          "output_type": "stream",
          "text": [
            "Midrange using function: 110.0\n",
            "Midrange using statistics: 110\n",
            "Midrange using numpy: 110.0\n",
            "Midrange using manually: 110.0\n"
          ]
        }
      ],
      "source": [
        "#task-6 Build a function to determine the midrange of a list of numbers (average of the minimum and maximum)\n",
        "def calculate_midrange(numbers):\n",
        "    if not numbers:\n",
        "        return None\n",
        "    minimum = min(numbers)\n",
        "    maximum = max(numbers)\n",
        "    midrange = (minimum + maximum) / 2\n",
        "    return midrange\n",
        "\n",
        "midrange = calculate_midrange(int_list)\n",
        "print(\"Midrange using function:\", midrange)\n",
        "\n",
        "#using stasts\n",
        "import statistics\n",
        "midrange = statistics.mean([min(int_list), max(int_list)])\n",
        "print(\"Midrange using statistics:\", midrange)\n",
        "\n",
        "#using numpy\n",
        "midrange = (np.min(int_list) + np.max(int_list)) / 2\n",
        "print(\"Midrange using numpy:\", midrange)\n",
        "\n",
        "#using other module\n",
        "midrange = (min(int_list) + max(int_list)) / 2\n",
        "print(\"Midrange using manually:\", midrange)"
      ]
    },
    {
      "cell_type": "code",
      "execution_count": null,
      "metadata": {
        "colab": {
          "base_uri": "https://localhost:8080/"
        },
        "id": "92wGX9vKzKqL",
        "outputId": "d2a51901-dd25-43d2-94ce-8e9945314e33"
      },
      "outputs": [
        {
          "name": "stdout",
          "output_type": "stream",
          "text": [
            "Trimmed Mean: 109.2625\n",
            "Trimmed Mean: 109.35\n",
            "Trimmed Mean: 109.2625\n",
            "Trimmed Mean: 109.2625\n",
            "Trimmed Mean: 109.2625\n"
          ]
        }
      ],
      "source": [
        "# Task-7 Implement a Python program to find the trimmed mean of a list, excluding a certain percentage of outliers.\n",
        "import statistics\n",
        "def calculate_trimmed_mean(numbers, trim_percentage):\n",
        "    if not numbers:\n",
        "        return None\n",
        "    sorted_numbers = sorted(numbers)\n",
        "    n = len(numbers)\n",
        "    trim_count = int(n * trim_percentage / 100)\n",
        "    trimmed_numbers = sorted_numbers[trim_count:-trim_count]\n",
        "    trimmed_mean = statistics.mean(trimmed_numbers)\n",
        "    return trimmed_mean\n",
        "\n",
        "trimmed_mean = calculate_trimmed_mean(int_list, 10)\n",
        "print(\"Trimmed Mean:\", trimmed_mean)\n",
        "\n",
        "#using other module\n",
        "import numpy as np\n",
        "trimmed_mean = np.mean(int_list)\n",
        "print(\"Trimmed Mean:\", trimmed_mean)\n",
        "\n",
        "#using manually\n",
        "sorted_numbers = sorted(int_list)\n",
        "n = len(int_list)\n",
        "trim_percentage = 10\n",
        "trim_count = int(n * trim_percentage / 100)\n",
        "trimmed_numbers = sorted_numbers[trim_count:-trim_count]\n",
        "trimmed_mean = sum(trimmed_numbers) / len(trimmed_numbers)\n",
        "print(\"Trimmed Mean:\", trimmed_mean)\n",
        "\n",
        "#using scipy.stats\n",
        "from scipy.stats import trim_mean\n",
        "trimmed_mean = trim_mean(int_list, 0.1)\n",
        "print(\"Trimmed Mean:\", trimmed_mean)\n",
        "\n",
        "#other types also\n",
        "import scipy.stats\n",
        "\n",
        "def calculate_trimmed_mean(numbers, trim_percentage):\n",
        "    \"\"\"Calculates the trimmed mean of a list, excluding a certain percentage of outliers.\n",
        "\n",
        "    Args:\n",
        "        numbers (list): The list of numbers.\n",
        "        trim_percentage (float): The percentage of outliers to trim from both ends of the sorted list.\n",
        "\n",
        "    Returns:\n",
        "        float: The trimmed mean.\n",
        "    \"\"\"\n",
        "    return scipy.stats.trim_mean(numbers, trim_percentage / 100)\n",
        "\n",
        "# Example usage:\n",
        "trimmed_mean = calculate_trimmed_mean(int_list, 10)\n",
        "print(\"Trimmed Mean:\", trimmed_mean)"
      ]
    },
    {
      "cell_type": "markdown",
      "metadata": {
        "id": "XacDFS6s05mB"
      },
      "source": [
        "##  Q2. Generate a list of 500 integers containing values between 200 to 300 and store it in the variable `int_list2`.After generating the list, find the following:(i) Compare the given list of visualization for the given data: 1. Frequency & Gaussian distribution 2. Frequency smoothened KDE plot 3. Gaussian distribution & smoothened KDE plot (ii) Write a Python function to calculate the range of a given list of numbers.(iii) Create a program to find the variance and standard deviation of a list of numbers.(iv) Implement a function to compute the interquartile range (IQR) of a list of values. (v) Build a program to calculate the coefficient of variation for a dataset.(vi) Write a Python function to find the mean absolute deviation (MAD) of a list of numbers.(vii) Create a program to calculate the quartile deviation of a list of values.(viii) Implement a function to find the range-based coefficient of dispersion for a dataset.\n",
        "\n",
        "### Ans"
      ]
    },
    {
      "cell_type": "code",
      "execution_count": null,
      "metadata": {
        "colab": {
          "base_uri": "https://localhost:8080/"
        },
        "id": "IpudWyQu1Mvg",
        "outputId": "4af06bc7-b3cd-41c3-efd1-8a413ae6e095"
      },
      "outputs": [
        {
          "name": "stdout",
          "output_type": "stream",
          "text": [
            "[211, 229, 260, 232, 231, 204, 262, 230, 269, 207, 218, 249, 282, 222, 210, 230, 217, 287, 247, 279, 251, 286, 224, 211, 299, 259, 255, 250, 271, 287, 262, 277, 206, 279, 238, 256, 238, 250, 247, 229, 284, 292, 242, 264, 231, 224, 278, 203, 293, 290, 250, 262, 247, 248, 203, 240, 280, 254, 207, 261, 219, 277, 216, 216, 252, 201, 299, 292, 264, 217, 251, 278, 241, 286, 215, 233, 296, 241, 224, 277, 299, 229, 223, 275, 243, 278, 202, 256, 291, 265, 246, 241, 272, 201, 229, 251, 282, 225, 227, 223, 277, 295, 261, 281, 264, 238, 288, 296, 264, 253, 207, 243, 262, 205, 269, 211, 210, 221, 236, 277, 237, 242, 286, 265, 289, 286, 242, 216, 239, 269, 249, 299, 240, 252, 219, 288, 203, 288, 206, 202, 300, 292, 250, 224, 229, 228, 282, 300, 232, 276, 264, 201, 202, 247, 263, 257, 241, 283, 218, 290, 294, 222, 288, 234, 285, 270, 233, 288, 208, 265, 231, 264, 247, 239, 270, 218, 216, 219, 292, 273, 278, 207, 253, 223, 261, 245, 208, 206, 299, 231, 290, 283, 242, 294, 213, 241, 270, 208, 247, 223, 225, 278, 275, 235, 209, 250, 264, 202, 277, 244, 281, 292, 274, 211, 230, 232, 274, 287, 260, 225, 289, 219, 242, 287, 213, 242, 201, 212, 264, 224, 241, 220, 289, 243, 238, 265, 273, 281, 231, 207, 253, 251, 203, 209, 252, 251, 294, 243, 203, 255, 222, 230, 236, 278, 234, 291, 234, 260, 249, 209, 265, 287, 257, 250, 291, 210, 200, 215, 243, 258, 279, 227, 205, 242, 223, 207, 283, 290, 246, 239, 274, 279, 209, 267, 211, 281, 238, 249, 252, 254, 212, 264, 267, 233, 243, 292, 267, 220, 215, 279, 229, 275, 247, 226, 222, 262, 260, 214, 246, 231, 213, 228, 275, 247, 232, 249, 231, 211, 275, 260, 253, 236, 201, 231, 206, 265, 273, 200, 212, 214, 284, 207, 210, 294, 275, 255, 240, 297, 255, 284, 244, 212, 298, 204, 236, 279, 236, 218, 280, 216, 203, 258, 252, 217, 276, 224, 250, 274, 217, 205, 209, 217, 292, 280, 280, 231, 210, 215, 209, 254, 284, 278, 276, 286, 229, 244, 248, 259, 284, 206, 251, 271, 281, 263, 233, 245, 216, 258, 217, 278, 205, 290, 264, 279, 263, 224, 239, 217, 224, 289, 249, 239, 239, 222, 213, 299, 232, 229, 276, 234, 244, 278, 281, 242, 239, 255, 279, 207, 274, 282, 269, 240, 207, 274, 256, 263, 275, 219, 287, 295, 264, 274, 290, 274, 234, 278, 258, 237, 214, 233, 260, 232, 240, 210, 273, 243, 243, 242, 221, 252, 207, 265, 245, 232, 279, 244, 212, 208, 276, 290, 248, 296, 297, 245, 224, 207, 288, 299, 205, 300, 224, 235, 253, 290, 295, 294, 279, 262, 288, 220, 292, 282, 289, 294, 211, 281, 234, 298, 212, 271, 243, 245, 294, 273, 201, 267, 285, 271, 214, 287]\n"
          ]
        }
      ],
      "source": [
        "# Generate a list of 500 integer containing value between 200 to 300 and store in variable lnt_list2\n",
        "int_list2 = [random.randint(200, 300) for _ in range(500)]\n",
        "print(int_list2)"
      ]
    },
    {
      "cell_type": "code",
      "execution_count": null,
      "metadata": {
        "colab": {
          "base_uri": "https://localhost:8080/",
          "height": 564
        },
        "id": "OtLF42eU2sI0",
        "outputId": "82d651f6-4d3c-469b-a647-f3c4338fd0a1"
      },
      "outputs": [
        {
          "data": {
            "image/png": "[encoded data removed]",
            "text/plain": [
              "<Figure size 1000x600 with 1 Axes>"
            ]
          },
          "metadata": {},
          "output_type": "display_data"
        }
      ],
      "source": [
        "#task. (i) Compare the given list of visualization for the given data:\n",
        "\n",
        "# 1. Frequency & Gaussian distribution\n",
        "import matplotlib.pyplot as plt\n",
        "import seaborn as sns\n",
        "\n",
        "plt.figure(figsize=(10, 6))\n",
        "sns.histplot(int_list2, kde=True)\n",
        "plt.title('Frequency & Gaussian distribution')\n",
        "plt.xlabel('Values')\n",
        "plt.ylabel('Frequency')\n",
        "plt.show()\n",
        "\n"
      ]
    },
    {
      "cell_type": "code",
      "execution_count": null,
      "metadata": {
        "colab": {
          "base_uri": "https://localhost:8080/",
          "height": 472
        },
        "id": "-dH7Ss-33GVq",
        "outputId": "f3b692d0-6b69-4047-8c96-bda762a6018a"
      },
      "outputs": [
        {
          "data": {
            "image/png": "[encoded data removed]",
            "text/plain": [
              "<Figure size 640x480 with 1 Axes>"
            ]
          },
          "metadata": {},
          "output_type": "display_data"
        }
      ],
      "source": [
        "#task. (i)\n",
        "# 2. Frequency smoothened KDE plot\n",
        "\n",
        "sns.kdeplot(int_list2, fill=True)\n",
        "plt.title('Frequency smoothened KDE plot')\n",
        "plt.xlabel('Values')\n",
        "plt.ylabel('Density')\n",
        "plt.show()\n",
        "\n",
        "\n"
      ]
    },
    {
      "cell_type": "code",
      "execution_count": null,
      "metadata": {
        "colab": {
          "base_uri": "https://localhost:8080/",
          "height": 472
        },
        "id": "np68dvZQ4Afg",
        "outputId": "b4719e64-1d69-4fa2-a997-be517dfd22e7"
      },
      "outputs": [
        {
          "data": {
            "image/png": "[encoded data removed]",
            "text/plain": [
              "<Figure size 640x480 with 1 Axes>"
            ]
          },
          "metadata": {},
          "output_type": "display_data"
        }
      ],
      "source": [
        "#task. (i)\n",
        "# 3. Gaussian distribution & smoothened KDE plot\n",
        "sns.histplot(int_list2, kde=True)\n",
        "sns.kdeplot(int_list2, fill=True)\n",
        "plt.title('Gaussian distribution & smoothened KDE plot')\n",
        "plt.xlabel('Values')\n",
        "plt.ylabel('Density')\n",
        "plt.show()\n"
      ]
    },
    {
      "cell_type": "code",
      "execution_count": null,
      "metadata": {
        "colab": {
          "base_uri": "https://localhost:8080/"
        },
        "id": "Ofb6cmQu4P_f",
        "outputId": "9e87a15c-7916-4452-f46a-a3b832659c11"
      },
      "outputs": [
        {
          "name": "stdout",
          "output_type": "stream",
          "text": [
            "Range: 100\n",
            "Range: 100\n",
            "Range: 100\n",
            "Range: 100\n",
            "Minimum: 200\n",
            "Maximum: 300\n"
          ]
        }
      ],
      "source": [
        "# task-(ii) Write a Python function to calculate the range of a given list of numbers.\n",
        "def calculate_range(numbers):\n",
        "    if not numbers:\n",
        "        return None\n",
        "    minimum = min(numbers)\n",
        "    maximum = max(numbers)\n",
        "    range_value = maximum - minimum\n",
        "    return range_value\n",
        "\n",
        "range_value = calculate_range(int_list2)\n",
        "print(\"Range:\", range_value)\n",
        "\n",
        "#using numpy\n",
        "range_value = np.ptp(int_list2)\n",
        "print(\"Range:\", range_value)\n",
        "\n",
        "#using manually\n",
        "minimum = min(int_list2)\n",
        "maximum = max(int_list2)\n",
        "range_value = maximum - minimum\n",
        "print(\"Range:\", range_value)\n",
        "\n",
        "#give min and max value print also\n",
        "def calculate_range(numbers):\n",
        "    if not numbers:\n",
        "        return None\n",
        "    minimum = min(numbers)\n",
        "    maximum = max(numbers)\n",
        "    range_value = maximum - minimum\n",
        "    return range_value, minimum, maximum\n",
        "\n",
        "range_value, minimum, maximum = calculate_range(int_list2)\n",
        "print(\"Range:\", range_value)\n",
        "print(\"Minimum:\", minimum)\n",
        "print(\"Maximum:\", maximum)\n"
      ]
    },
    {
      "cell_type": "code",
      "execution_count": null,
      "metadata": {
        "colab": {
          "base_uri": "https://localhost:8080/"
        },
        "id": "ZMekMDVm5ViR",
        "outputId": "ee521232-951b-4fb2-c97c-72e7f7987f64"
      },
      "outputs": [
        {
          "name": "stdout",
          "output_type": "stream",
          "text": [
            "Variance using function: 834.4187414829655\n",
            "Standard Deviation using function: 28.886307162442304\n",
            "Variance using numpy: 834.4187414829659\n",
            "Standard Deviation using numpy: 28.88630716244231\n",
            "Variance using stats: 834.418741482966\n",
            "Standard Deviation using stats: 28.88630716244231\n",
            "Variance using manually: 834.4187414829655\n",
            "Standard Deviation using manually: 28.886307162442304\n",
            "Variance other way defining function: 834.4187414829655\n",
            "Standard Deviation other way defining function: 28.886307162442304\n"
          ]
        }
      ],
      "source": [
        "#task-(iii) Create a program to find the variance and standard deviation of a list of numbers.\n",
        "def calculate_variance(numbers):\n",
        "    if not numbers:\n",
        "        return None\n",
        "    mean = sum(numbers) / len(numbers)\n",
        "    variance = sum((x - mean) ** 2 for x in numbers) / (len(numbers) - 1)\n",
        "    return variance\n",
        "\n",
        "variance = calculate_variance(int_list2)\n",
        "print(\"Variance using function:\", variance)\n",
        "\n",
        "\n",
        "def calculate_standard_deviation(numbers):\n",
        "    variance = calculate_variance(numbers)\n",
        "    if variance is None:\n",
        "        return None\n",
        "    return variance ** 0.5\n",
        "\n",
        "standard_deviation = calculate_standard_deviation(int_list2)\n",
        "print(\"Standard Deviation using function:\", standard_deviation)\n",
        "\n",
        "#using numpy\n",
        "variance = np.var(int_list2, ddof=1)\n",
        "print(\"Variance using numpy:\", variance)\n",
        "\n",
        "standard_deviation = np.std(int_list2, ddof=1)\n",
        "print(\"Standard Deviation using numpy:\", standard_deviation)\n",
        "\n",
        "#using other module\n",
        "import statistics\n",
        "variance = statistics.variance(int_list2)\n",
        "print(\"Variance using stats:\", variance)\n",
        "\n",
        "standard_deviation = statistics.stdev(int_list2)\n",
        "print(\"Standard Deviation using stats:\", standard_deviation)\n",
        "\n",
        "#using manually\n",
        "mean = sum(int_list2) / len(int_list2)\n",
        "variance = sum((x - mean) ** 2 for x in int_list2) / (len(int_list2) - 1)\n",
        "print(\"Variance using manually:\", variance)\n",
        "\n",
        "standard_deviation = variance ** 0.5\n",
        "print(\"Standard Deviation using manually:\", standard_deviation)\n",
        "\n",
        "#Any other module\n",
        "def calculate_variance(numbers):\n",
        "    if not numbers:\n",
        "        return None\n",
        "    mean = sum(numbers) / len(numbers)\n",
        "    variance = sum((x - mean) ** 2 for x in numbers) / (len(numbers) - 1)\n",
        "    return variance\n",
        "\n",
        "variance = calculate_variance(int_list2)\n",
        "print(\"Variance other way defining function:\", variance)\n",
        "\n",
        "#standard deviation\n",
        "def calculate_standard_deviation(numbers):\n",
        "    variance = calculate_variance(numbers)\n",
        "    if variance is None:\n",
        "        return None\n",
        "    return variance ** 0.5\n",
        "\n",
        "standard_deviation = calculate_standard_deviation(int_list2)\n",
        "print(\"Standard Deviation other way defining function:\", standard_deviation)\n",
        "\n",
        "\n",
        "\n"
      ]
    },
    {
      "cell_type": "code",
      "execution_count": null,
      "metadata": {
        "colab": {
          "base_uri": "https://localhost:8080/"
        },
        "id": "hfFrDXqD774Y",
        "outputId": "dfcbe470-296b-4e20-8f4b-8eecf12fd5a8"
      },
      "outputs": [
        {
          "name": "stdout",
          "output_type": "stream",
          "text": [
            "Interquartile Range: 52\n",
            "Interquartile Range: 52.0\n",
            "Interquartile Range: 52.0\n",
            "Interquartile Range: 52.0\n"
          ]
        }
      ],
      "source": [
        "#task-.(iv) Implement a function to compute the interquartile range (IQR) of a list of values.\n",
        "def calculate_iqr(numbers):\n",
        "    if not numbers:\n",
        "        return None\n",
        "    sorted_numbers = sorted(numbers)\n",
        "    n = len(numbers)\n",
        "    q1_index = int(n * 0.25)\n",
        "    q3_index = int(n * 0.75)\n",
        "    q1 = sorted_numbers[q1_index]\n",
        "    q3 = sorted_numbers[q3_index]\n",
        "    iqr = q3 - q1\n",
        "    return iqr\n",
        "\n",
        "    iqr = np.percentile(numbers, 75) - np.percentile(numbers, 25)\n",
        "    return iqr\n",
        "\n",
        "iqr = calculate_iqr(int_list2)\n",
        "print(\"Interquartile Range:\", iqr)\n",
        "\n",
        "#other ways\n",
        "q1 = np.percentile(int_list2, 25)\n",
        "q3 = np.percentile(int_list2, 75)\n",
        "iqr = q3 - q1\n",
        "print(\"Interquartile Range:\", iqr)\n",
        "\n",
        "#stats module\n",
        "import statistics\n",
        "iqr = statistics.quantiles(int_list2)[2] - statistics.quantiles(int_list2)[0]\n",
        "print(\"Interquartile Range:\", iqr)\n",
        "\n",
        "#scipy.sats\n",
        "from scipy.stats import iqr\n",
        "iqr = iqr(int_list2)\n",
        "print(\"Interquartile Range:\", iqr)\n",
        "\n"
      ]
    },
    {
      "cell_type": "code",
      "execution_count": null,
      "metadata": {
        "colab": {
          "base_uri": "https://localhost:8080/"
        },
        "id": "zERqkltg9eaW",
        "outputId": "5ac53779-710b-44e5-b511-d31e7ee0dff8"
      },
      "outputs": [
        {
          "name": "stdout",
          "output_type": "stream",
          "text": [
            "Coefficient of Variation: 11.580648808689324\n",
            "Coefficient of Variation: 11.569062363758661\n",
            "Coefficient of Variation: 11.580648808689327\n"
          ]
        }
      ],
      "source": [
        "# task-(v) Build a program to calculate the coefficient of variation for a dataset.\n",
        "def calculate_coefficient_of_variation(numbers):\n",
        "    if not numbers:\n",
        "        return None\n",
        "    mean = sum(numbers) / len(numbers)\n",
        "    std_dev = (sum((x - mean) ** 2 for x in numbers) / (len(numbers) - 1)) ** 0.5\n",
        "    if std_dev == 0:\n",
        "        return None\n",
        "\n",
        "    coefficient_of_variation = (std_dev / mean) * 100\n",
        "    return coefficient_of_variation\n",
        "\n",
        "\n",
        "coefficient_of_variation = calculate_coefficient_of_variation(int_list2)\n",
        "print(\"Coefficient of Variation:\", coefficient_of_variation)\n",
        "\n",
        "#using numpy\n",
        "coefficient_of_variation = np.std(int_list2) / np.mean(int_list2) * 100\n",
        "print(\"Coefficient of Variation:\", coefficient_of_variation)\n",
        "\n",
        "#using other module\n",
        "import statistics\n",
        "coefficient_of_variation = statistics.stdev(int_list2) / statistics.mean(int_list2) * 100\n",
        "print(\"Coefficient of Variation:\", coefficient_of_variation)\n",
        "\n"
      ]
    },
    {
      "cell_type": "code",
      "execution_count": null,
      "metadata": {
        "colab": {
          "base_uri": "https://localhost:8080/"
        },
        "id": "I2FNik9k8yRg",
        "outputId": "c7601c7a-36d9-4422-a218-af802b2293d2"
      },
      "outputs": [
        {
          "name": "stdout",
          "output_type": "stream",
          "text": [
            "Mean Absolute Deviation: 24.966463999999988\n",
            "Mean Absolute Deviation: 24.966464\n",
            "Mean Absolute Deviation: 24.966464\n"
          ]
        }
      ],
      "source": [
        "#task-.(vi) Write a Python function to find the mean absolute deviation (MAD) of a list of numbers.\n",
        "def calculate_mean_absolute_deviation(numbers):\n",
        "    if not numbers:\n",
        "        return None\n",
        "    mean = sum(numbers) / len(numbers)\n",
        "    mad = sum(abs(x - mean) for x in numbers) / len(numbers)\n",
        "    return mad\n",
        "\n",
        "    mean_absolute_deviation = np.mean(np.abs(numbers - np.mean(numbers)))\n",
        "    return mean_absolute_deviation\n",
        "\n",
        "mean_absolute_deviation = calculate_mean_absolute_deviation(int_list2)\n",
        "print(\"Mean Absolute Deviation:\", mean_absolute_deviation)\n",
        "\n",
        "#using numpy\n",
        "mean_absolute_deviation = np.mean(np.abs(int_list2 - np.mean(int_list2)))\n",
        "print(\"Mean Absolute Deviation:\", mean_absolute_deviation)\n",
        "\n",
        "#using other module\n",
        "import statistics\n",
        "mean_absolute_deviation = statistics.mean(abs(x - statistics.mean(int_list2)) for x in int_list2)\n",
        "print(\"Mean Absolute Deviation:\", mean_absolute_deviation)\n",
        "\n",
        "\n"
      ]
    },
    {
      "cell_type": "code",
      "execution_count": null,
      "metadata": {
        "colab": {
          "base_uri": "https://localhost:8080/"
        },
        "id": "eMuSK4vY_Zaa",
        "outputId": "f6f853d4-e995-494a-becf-919e8ee13e61"
      },
      "outputs": [
        {
          "name": "stdout",
          "output_type": "stream",
          "text": [
            "Quartile Deviation: 52\n",
            "Quartile Deviation using numpy: 52.0\n",
            "Quartile Deviation using stats: 52.0\n",
            "Quartile Deviation using manually: 52.0\n"
          ]
        }
      ],
      "source": [
        "# task-(vii) Create a program to calculate the quartile deviation of a list of values.\n",
        "def calculate_quartile_deviation(numbers):\n",
        "    if not numbers:\n",
        "        return None\n",
        "    sorted_numbers = sorted(numbers)\n",
        "    n = len(numbers)\n",
        "    q1_index = int(n * 0.25)\n",
        "    q3_index = int(n * 0.75)\n",
        "    q1 = sorted_numbers[q1_index]\n",
        "    q3 = sorted_numbers[q3_index]\n",
        "    quartile_deviation = q3 - q1\n",
        "    return quartile_deviation\n",
        "\n",
        "quartile_deviation = calculate_quartile_deviation(int_list2)\n",
        "print(\"Quartile Deviation:\", quartile_deviation)\n",
        "\n",
        "#using numpy,stats,and manually\n",
        "import numpy as np\n",
        "quartile_deviation = np.percentile(int_list2, 75) - np.percentile(int_list2, 25)\n",
        "print(\"Quartile Deviation using numpy:\", quartile_deviation)\n",
        "\n",
        "import statistics\n",
        "quartile_deviation = statistics.quantiles(int_list2)[2] - statistics.quantiles(int_list2)[0]\n",
        "print(\"Quartile Deviation using stats:\", quartile_deviation)\n",
        "\n",
        "quartile_deviation = np.quantile(int_list2, 0.75) - np.quantile(int_list2, 0.25)\n",
        "print(\"Quartile Deviation using manually:\", quartile_deviation)\n",
        "\n"
      ]
    },
    {
      "cell_type": "code",
      "execution_count": null,
      "metadata": {
        "colab": {
          "base_uri": "https://localhost:8080/"
        },
        "id": "2JtIwpsLAftm",
        "outputId": "f168ae13-f2b2-466c-ab25-72da34627f9d"
      },
      "outputs": [
        {
          "name": "stdout",
          "output_type": "stream",
          "text": [
            "Range-Based Coefficient of Dispersion: 0.40090444041758205\n",
            "Range-Based Coefficient of Dispersion: 0.40090444041758205\n",
            "Range-Based Coefficient of Dispersion: 0.40090444041758205\n"
          ]
        }
      ],
      "source": [
        "#task-(viii) Implement a function to find the range-based coefficient of dispersion for a dataset.\n",
        "def calculate_range_based_coefficient_of_dispersion(numbers):\n",
        "    if not numbers:\n",
        "        return None\n",
        "    minimum = min(numbers)\n",
        "    maximum = max(numbers)\n",
        "    range_value = maximum - minimum\n",
        "    mean = sum(numbers) / len(numbers)\n",
        "    coefficient_of_dispersion = range_value / mean\n",
        "    return coefficient_of_dispersion\n",
        "\n",
        "#example used case\n",
        "coefficient_of_dispersion = calculate_range_based_coefficient_of_dispersion(int_list2)\n",
        "print(\"Range-Based Coefficient of Dispersion:\", coefficient_of_dispersion)\n",
        "\n",
        "#using numpy\n",
        "range_based_coefficient_of_dispersion = np.ptp(int_list2) / np.mean(int_list2)\n",
        "print(\"Range-Based Coefficient of Dispersion:\", range_based_coefficient_of_dispersion)\n",
        "\n",
        "#using other module\n",
        "import statistics\n",
        "range_based_coefficient_of_dispersion = (max(int_list2) - min(int_list2)) / statistics.mean(int_list2)\n",
        "print(\"Range-Based Coefficient of Dispersion:\", range_based_coefficient_of_dispersion)\n"
      ]
    },
    {
      "cell_type": "markdown",
      "metadata": {
        "id": "2h8ITl_M7HjD"
      },
      "source": [
        "## Q3. Write a Python class representing a discrete random variable with methods to calculate its expected value and variance.\n",
        "\n",
        "### Ans"
      ]
    },
    {
      "cell_type": "code",
      "execution_count": null,
      "metadata": {
        "colab": {
          "base_uri": "https://localhost:8080/"
        },
        "id": "S0iSsFxwBa8y",
        "outputId": "4778c8ae-f4e9-45de-db42-8e2d09e13b03"
      },
      "outputs": [
        {
          "name": "stdout",
          "output_type": "stream",
          "text": [
            "Expected Value: 3.2\n",
            "Variance: 1.56\n"
          ]
        }
      ],
      "source": [
        "import math\n",
        "import warnings\n",
        "warnings.filterwarnings(\"ignore\")\n",
        "\n",
        "class DiscreteRandomVariable:\n",
        "    def __init__(self, values, probabilities):\n",
        "        \"\"\"\n",
        "        Initialize a discrete random variable with a list of values and their corresponding probabilities.\n",
        "\n",
        "        Args:\n",
        "            values (list): A list of possible values the random variable can take.\n",
        "            probabilities (list): A list of probabilities corresponding to each value.\n",
        "        \"\"\"\n",
        "        if len(values) != len(probabilities):\n",
        "            raise ValueError(\"The number of values must be equal to the number of probabilities.\")\n",
        "\n",
        "        if not all(0 <= p <= 1 for p in probabilities):\n",
        "            raise ValueError(\"Probabilities must be between 0 and 1.\")\n",
        "\n",
        "        if not 0.9999 <= sum(probabilities) <= 1.0001:\n",
        "            raise ValueError(\"The sum of probabilities must be 1.\")\n",
        "\n",
        "        self.values = values\n",
        "        self.probabilities = probabilities\n",
        "\n",
        "    def expected_value(self):\n",
        "\n",
        "        \"\"\"\n",
        "        Calculate the expected value (mean) of the discrete random variable.\n",
        "\n",
        "        Returns:\n",
        "            float: The expected value.\n",
        "            \"\"\"\n",
        "        return sum(v * p for v, p in zip(self.values, self.probabilities))\n",
        "\n",
        "    def variance(self):\n",
        "        \"\"\"\n",
        "        Calculate the variance of the discrete random variable.\n",
        "\n",
        "        Returns:\n",
        "            float: The variance.\n",
        "        \"\"\"\n",
        "        mean = self.expected_value()\n",
        "        return sum(p * (v - mean)**2 for v, p in zip(self.values, self.probabilities))\n",
        "\n",
        "    def __repr__(self):\n",
        "        \"\"\"\n",
        "        String representation of the DiscreteRandomVariable object.\n",
        "        \"\"\"\n",
        "        return f\"DiscreteRandomVariable(values={self.values}, probabilities={self.probabilities})\"\n",
        "\n",
        "\n",
        "\n",
        "# Example usage\n",
        "values = [1, 2, 3, 4, 5]\n",
        "probabilities = [0.1, 0.2, 0.3, 0.2, 0.2]\n",
        "\n",
        "random_var = DiscreteRandomVariable(values, probabilities)\n",
        "\n",
        "print(f\"Expected Value: {random_var.expected_value()}\")\n",
        "print(f\"Variance: {random_var.variance()}\")"
      ]
    },
    {
      "cell_type": "markdown",
      "metadata": {
        "id": "IVRkwLNZDVjw"
      },
      "source": [
        "## Q4. Implement a program to simulate the rolling of a fair six-sided die and calculate the expected value and variance of the outcomes.\n",
        "\n",
        "### Ans"
      ]
    },
    {
      "cell_type": "code",
      "execution_count": null,
      "metadata": {
        "colab": {
          "base_uri": "https://localhost:8080/"
        },
        "id": "eyw9JgsTEXON",
        "outputId": "4fb77ab8-b0b9-4da2-d09c-cbaa460e40cf"
      },
      "outputs": [
        {
          "name": "stdout",
          "output_type": "stream",
          "text": [
            "Expected Value: 3.4938\n",
            "Variance: 2.9001615600001514\n"
          ]
        }
      ],
      "source": [
        "\n",
        "import random\n",
        "\n",
        "def simulate_die_roll(num_trials):\n",
        "    \"\"\"\n",
        "    Simulates rolling a fair six-sided die and calculates the expected value and variance.\n",
        "\n",
        "    Args:\n",
        "        num_trials: The number of times to roll the die.\n",
        "\n",
        "    Returns:\n",
        "        A tuple containing the expected value and variance of the outcomes.\n",
        "    \"\"\"\n",
        "    outcomes = [random.randint(1, 6) for _ in range(num_trials)]\n",
        "    expected_value = sum(outcomes) / num_trials\n",
        "    variance = sum((x - expected_value) ** 2 for x in outcomes) / num_trials\n",
        "    return expected_value, variance\n",
        "\n",
        "# Example usage\n",
        "num_trials = 10000\n",
        "expected_value, variance = simulate_die_roll(num_trials)\n",
        "print(f\"Expected Value: {expected_value}\")\n",
        "print(f\"Variance: {variance}\")"
      ]
    },
    {
      "cell_type": "markdown",
      "metadata": {
        "id": "wEcAS5Z_ExjA"
      },
      "source": [
        "## Q5. Create a Python function to generate random samples from a given probability distribution (e.g.,binomial, Poisson) and calculate their mean and variance.\n",
        "\n",
        "### Ans"
      ]
    },
    {
      "cell_type": "code",
      "execution_count": null,
      "metadata": {
        "colab": {
          "base_uri": "https://localhost:8080/"
        },
        "id": "ERGYLQySFAZs",
        "outputId": "237c2d99-6f18-4704-a789-1735ad278d41"
      },
      "outputs": [
        {
          "name": "stdout",
          "output_type": "stream",
          "text": [
            "Binomial Distribution:\n",
            "Samples: [5, 5, 6, 4, 5, 5, 7, 1, 1, 10, 7, 5, 6, 5, 5, 5, 5, 6, 4, 7]\n",
            "Mean: 4.994\n",
            "Variance: 2.493964000000001\n",
            "\n",
            "Poisson Distribution:\n",
            "Samples: [6, 6, 4, 5, 4, 5, 12, 10, 12, 5, 7, 8, 5, 5, 7, 6, 4, 3, 10, 5]\n",
            "Mean: 5.064\n",
            "Variance: 5.191904\n"
          ]
        }
      ],
      "source": [
        "\n",
        "import random\n",
        "import numpy as np\n",
        "\n",
        "def generate_samples(distribution, *args, num_samples=1000):\n",
        "    \"\"\"\n",
        "    Generates random samples from a given probability distribution and calculates their mean and variance.\n",
        "\n",
        "    Args:\n",
        "        distribution (str): The name of the probability distribution ('binomial', 'poisson').\n",
        "        *args: Distribution-specific parameters (e.g., n, p for binomial; lambda for Poisson).\n",
        "        num_samples (int): The number of samples to generate.\n",
        "\n",
        "    Returns:\n",
        "        tuple: A tuple containing the generated samples, their mean, and variance.\n",
        "    \"\"\"\n",
        "    if distribution == 'binomial':\n",
        "        if len(args) != 2:\n",
        "            raise ValueError(\"Binomial distribution requires 'n' and 'p' parameters.\")\n",
        "        n, p = args\n",
        "        samples = [np.random.binomial(n, p) for _ in range(num_samples)]\n",
        "    elif distribution == 'poisson':\n",
        "        if len(args) != 1:\n",
        "            raise ValueError(\"Poisson distribution requires 'lambda' parameter.\")\n",
        "        lam = args[0]\n",
        "        samples = [np.random.poisson(lam) for _ in range(num_samples)]\n",
        "    else:\n",
        "        raise ValueError(\"Invalid distribution name.\")\n",
        "\n",
        "    mean = np.mean(samples)\n",
        "    variance = np.var(samples)\n",
        "    return samples, mean, variance\n",
        "\n",
        "# Example usage:\n",
        "# Binomial distribution with n=10, p=0.5\n",
        "binomial_samples, binomial_mean, binomial_variance = generate_samples('binomial', 10, 0.5)\n",
        "print(\"Binomial Distribution:\")\n",
        "print(\"Samples:\", binomial_samples[:20])  # Print first 20 samples\n",
        "print(\"Mean:\", binomial_mean)\n",
        "print(\"Variance:\", binomial_variance)\n",
        "\n",
        "\n",
        "# Poisson distribution with lambda=5\n",
        "poisson_samples, poisson_mean, poisson_variance = generate_samples('poisson', 5)\n",
        "print(\"\\nPoisson Distribution:\")\n",
        "print(\"Samples:\", poisson_samples[:20]) # Print first 20 samples\n",
        "print(\"Mean:\", poisson_mean)\n",
        "print(\"Variance:\", poisson_variance)\n",
        "\n",
        "\n"
      ]
    },
    {
      "cell_type": "markdown",
      "metadata": {
        "id": "moO0lJwkbNnQ"
      },
      "source": [
        "## Q6. Write a Python script to generate random numbers from a Gaussian (normal) distribution and compute the mean, variance, and standard deviation of the samples.\n",
        "\n",
        "### Ans"
      ]
    },
    {
      "cell_type": "code",
      "execution_count": null,
      "metadata": {
        "colab": {
          "base_uri": "https://localhost:8080/",
          "height": 619
        },
        "id": "bFBYSQvsbWC5",
        "outputId": "bcd18118-0e25-4aaa-ceb2-44d40e47941f"
      },
      "outputs": [
        {
          "name": "stdout",
          "output_type": "stream",
          "text": [
            "Mean: 0.008412336957758523\n",
            "Variance: 0.96056080027554\n",
            "Standard Deviation: 0.9800820375231555\n"
          ]
        },
        {
          "data": {
            "image/png": "[encoded data removed]",
            "text/plain": [
              "<Figure size 800x600 with 1 Axes>"
            ]
          },
          "metadata": {},
          "output_type": "display_data"
        }
      ],
      "source": [
        "#define a fuction to generare random numbers from noramal distribution\n",
        "def generate_random_numbers(mean, std_dev, num_samples):\n",
        "    \"\"\"\n",
        "    Generate random numbers from a Gaussian (normal)\n",
        "    distribution with specified mean and standard deviation.\n",
        "\n",
        "    Args:\n",
        "        mean (float): The mean of the Gaussian distribution.\n",
        "        std_dev (float): The standard deviation of the Gaussian\n",
        "        distribution.\n",
        "        num_samples (int): The number of random numbers to\n",
        "        generate.\n",
        "\n",
        "    Returns:\n",
        "        list: A list of generated random numbers.\n",
        "    \"\"\"\n",
        "    random_numbers = [np.random.normal(mean, std_dev) for _ in range(num_samples)]\n",
        "    return random_numbers\n",
        "\n",
        "# Example usage:\n",
        "mean = 0.0\n",
        "std_dev = 1.0\n",
        "num_samples = 1000\n",
        "\n",
        "random_numbers = generate_random_numbers(mean, std_dev, num_samples)\n",
        "\n",
        "mean_value = np.mean(random_numbers)\n",
        "variance = np.var(random_numbers)\n",
        "std_dev = np.std(random_numbers)\n",
        "\n",
        "print(\"Mean:\", mean_value)\n",
        "print(\"Variance:\", variance)\n",
        "print(\"Standard Deviation:\", std_dev)\n",
        "\n",
        "#vizulization\n",
        "\n",
        "import matplotlib.pyplot as plt\n",
        "import seaborn as sns\n",
        "\n",
        "plt.figure(figsize=(8, 6))\n",
        "sns.histplot(random_numbers, bins=30, kde=True)\n",
        "plt.title(\"Random Numbers from Gaussian Distribution\")\n",
        "plt.xlabel(\"Value\")\n",
        "plt.ylabel(\"Frequency\")\n",
        "plt.show()\n",
        "\n",
        "\n",
        "\n"
      ]
    },
    {
      "cell_type": "markdown",
      "metadata": {
        "id": "hI54jl2JgJww"
      },
      "source": [
        "## Q7. Use seaborn library to load tips dataset. Find the following from the dataset for the columns total_bill and tip`: (i) Write a Python function that calculates their skewness.(ii) Create a program that determines whether the columns exhibit positive skewness, negative skewness, or is approximately symmetric.(iii) Write a function that calculates the covariance between two columns.(iv) Implement a Python program that calculates the Pearson correlation coefficient between two columns.(v) Write a script to visualize the correlation between two specific columns in a Pandas DataFrame using scatter plots\n",
        "\n",
        "### Ans"
      ]
    },
    {
      "cell_type": "code",
      "execution_count": null,
      "metadata": {
        "id": "S5QwXE2LfGka"
      },
      "outputs": [],
      "source": [
        "#load data set\n",
        "import seaborn as sns\n",
        "tips_df = sns.load_dataset(\"tips\")"
      ]
    },
    {
      "cell_type": "code",
      "execution_count": null,
      "metadata": {
        "colab": {
          "base_uri": "https://localhost:8080/"
        },
        "id": "Zh5KfvxThA5G",
        "outputId": "e406dcbc-4e95-4dc8-a93d-c72242c6cc53"
      },
      "outputs": [
        {
          "name": "stdout",
          "output_type": "stream",
          "text": [
            "     total_bill   tip\n",
            "0         16.99  1.01\n",
            "1         10.34  1.66\n",
            "2         21.01  3.50\n",
            "3         23.68  3.31\n",
            "4         24.59  3.61\n",
            "..          ...   ...\n",
            "239       29.03  5.92\n",
            "240       27.18  2.00\n",
            "241       22.67  2.00\n",
            "242       17.82  1.75\n",
            "243       18.78  3.00\n",
            "\n",
            "[244 rows x 2 columns]\n"
          ]
        }
      ],
      "source": [
        "#display all total_bill and tip\n",
        "import pandas as pd\n",
        "print(tips_df[['total_bill', 'tip']])\n",
        "\n"
      ]
    },
    {
      "cell_type": "code",
      "execution_count": null,
      "metadata": {
        "colab": {
          "base_uri": "https://localhost:8080/",
          "height": 643
        },
        "id": "XFR_qbLChPfQ",
        "outputId": "e7742ff6-c485-4dba-8bfc-cfa37a6e71f8"
      },
      "outputs": [
        {
          "name": "stdout",
          "output_type": "stream",
          "text": [
            "Skewness of total_bill: 1.1262346334818638\n",
            "Skewness of tip: 1.4564266884221506\n"
          ]
        },
        {
          "data": {
            "image/png": "[encoded data removed]",
            "text/plain": [
              "<Figure size 1200x600 with 2 Axes>"
            ]
          },
          "metadata": {},
          "output_type": "display_data"
        }
      ],
      "source": [
        "#task- (i) Write a Python function that calculates their skewness.\n",
        "import scipy.stats as stats\n",
        "\n",
        "def calculate_skewness(data):\n",
        "    \"\"\"\n",
        "    Calculates the skewness of a given dataset using scipy.stats.skew.\n",
        "\n",
        "    Args:\n",
        "        data (list or numpy array): The dataset.\n",
        "\n",
        "    Returns:\n",
        "        float: The skewness of the dataset.\n",
        "\n",
        "        \"\"\"\n",
        "    return stats.skew(data)\n",
        "\n",
        "#example use case\n",
        "skewness_total_bill = calculate_skewness(tips_df['total_bill'])\n",
        "skewness_tip = calculate_skewness(tips_df['tip'])\n",
        "\n",
        "print(\"Skewness of total_bill:\", skewness_total_bill)\n",
        "print(\"Skewness of tip:\", skewness_tip)\n",
        "\n",
        "#vizulization of both seprate plot show horizontly with big size\n",
        "import matplotlib.pyplot as plt\n",
        "import seaborn as sns\n",
        "\n",
        "#both plot show horizontally\n",
        "fig, axes = plt.subplots(1, 2, figsize=(12, 6))\n",
        "\n",
        "sns.histplot(tips_df['total_bill'], kde=True, ax=axes[0])\n",
        "axes[0].set_title('total_bill')\n",
        "axes[0].set_xlabel('Value')\n",
        "axes[0].set_ylabel('Frequency')\n",
        "\n",
        "sns.histplot(tips_df['tip'], kde=True, ax=axes[1])\n",
        "axes[1].set_title('tip')\n",
        "axes[1].set_xlabel('Value')\n",
        "axes[1].set_ylabel('Frequency')\n",
        "\n",
        "plt.tight_layout()\n",
        "plt.show()\n"
      ]
    },
    {
      "cell_type": "code",
      "execution_count": null,
      "metadata": {
        "colab": {
          "base_uri": "https://localhost:8080/"
        },
        "id": "VCPb-ixtmd6T",
        "outputId": "863c8ac9-6ea1-4e01-b525-579af5e11949"
      },
      "outputs": [
        {
          "name": "stdout",
          "output_type": "stream",
          "text": [
            "Skewness of total_bill: Positive Skewness\n",
            "Skewness of tip: Positive Skewness\n"
          ]
        }
      ],
      "source": [
        "# task-(ii) Create a program that determines whether the columns exhibit positive skewness, negative skewness, or is approximately symmetric.\n",
        "import matplotlib.pyplot as plt\n",
        "import seaborn as sns\n",
        "\n",
        "def check_skewness(data):\n",
        "    \"\"\"\n",
        "    Determines whether a given dataset exhibits positive skewness, negative skewness, or is approximately symmetric.\n",
        "\n",
        "    Args:\n",
        "        data (list or numpy array): The dataset.\n",
        "        \"\"\"\n",
        "    skewness = stats.skew(data)\n",
        "    if skewness > 0:\n",
        "        return \"Positive Skewness\"\n",
        "    elif skewness < 0:\n",
        "        return \"Negative Skewness\"\n",
        "\n",
        "    else:\n",
        "        return \"Symmetric\"\n",
        "\n",
        "\n",
        "#example use case\n",
        "skewness_total_bill = check_skewness(tips_df['total_bill'])\n",
        "skewness_tip = check_skewness(tips_df['tip'])\n",
        "\n",
        "print(\"Skewness of total_bill:\", skewness_total_bill)\n",
        "print(\"Skewness of tip:\", skewness_tip)\n"
      ]
    },
    {
      "cell_type": "code",
      "execution_count": null,
      "metadata": {
        "colab": {
          "base_uri": "https://localhost:8080/"
        },
        "id": "-ix99Zyxplcn",
        "outputId": "d2787b40-5416-4d3e-cf6a-a9937742e601"
      },
      "outputs": [
        {
          "name": "stdout",
          "output_type": "stream",
          "text": [
            "Covariance between total_bill and tip: 8.323501629224854\n"
          ]
        }
      ],
      "source": [
        "# task-.(iii) Write a function that calculates the covariance between two columns.\n",
        "\n",
        "def calculate_covariance(data1, data2):\n",
        "    \"\"\"\n",
        "    Calculates the covariance between two datasets.\n",
        "\n",
        "    Args:\n",
        "        data1 (list or numpy array): The first dataset.\n",
        "        data2 (list or numpy array): The second dataset.\n",
        "\n",
        "        Returns:\n",
        "        float: The covariance between the two datasets.\n",
        "    \"\"\"\n",
        "    return np.cov(data1, data2)[0, 1]\n",
        "\n",
        "#example use case\n",
        "covariance_total_bill_tip = calculate_covariance(tips_df['total_bill'], tips_df['tip'])\n",
        "print(\"Covariance between total_bill and tip:\", covariance_total_bill_tip)\n"
      ]
    },
    {
      "cell_type": "code",
      "execution_count": null,
      "metadata": {
        "colab": {
          "base_uri": "https://localhost:8080/"
        },
        "id": "7ocOySm-u91d",
        "outputId": "49b1226c-a2dc-4051-9439-aa98902ccc53"
      },
      "outputs": [
        {
          "name": "stdout",
          "output_type": "stream",
          "text": [
            "Pearson correlation coefficient between total_bill and tip: 0.6757341092113641\n"
          ]
        }
      ],
      "source": [
        "#task-(iv) Implement a Python program that calculates the Pearson correlation coefficient between two columns.\n",
        "\n",
        "def calculate_pearson_correlation(data1,data2):\n",
        "    \"\"\"\n",
        "    Calculates the Pearson correlation coefficient\n",
        "    between two datasets.\n",
        "\n",
        "    Args:\n",
        "        data1 (list or numpy array): The first dataset.\n",
        "        data2 (list or numpy array): The second dataset.\n",
        "\n",
        "        Returns:\n",
        "        float: The Pearson correlation coefficient\n",
        "        between the two datasets.\n",
        "    \"\"\"\n",
        "    return np.corrcoef(data1, data2)[0, 1]\n",
        "\n",
        "#example use case\n",
        "correlation_total_bill_tip = calculate_pearson_correlation(tips_df['total_bill'], tips_df['tip'])\n",
        "print(\"Pearson correlation coefficient between total_bill and tip:\", correlation_total_bill_tip)"
      ]
    },
    {
      "cell_type": "code",
      "execution_count": null,
      "metadata": {
        "colab": {
          "base_uri": "https://localhost:8080/",
          "height": 564
        },
        "id": "Lr3sIaAqu-31",
        "outputId": "c7b91e45-fd74-4fd3-9553-d1aedfb9663f"
      },
      "outputs": [
        {
          "data": {
            "image/png": "[encoded data removed]",
            "text/plain": [
              "<Figure size 800x600 with 1 Axes>"
            ]
          },
          "metadata": {},
          "output_type": "display_data"
        }
      ],
      "source": [
        "#task-(v) Write a script to visualize the correlation between two specific columns in a Pandas DataFrame using scatter plots\n",
        "import matplotlib.pyplot as plt\n",
        "import seaborn as sns\n",
        "\n",
        "# Select two columns for correlation analysis\n",
        "x = tips_df['total_bill']\n",
        "y = tips_df['tip']\n",
        "\n",
        "# Create a scatter plot\n",
        "plt.figure(figsize=(8, 6))\n",
        "sns.scatterplot(x=x, y=y, data=tips_df)\n",
        "plt.title(\"Scatter Plot: total_bill vs tip\")\n",
        "plt.xlabel(\"total_bill\")\n",
        "plt.ylabel(\"tip\")\n",
        "plt.show()"
      ]
    },
    {
      "cell_type": "markdown",
      "metadata": {
        "id": "12L-wYxkxHjd"
      },
      "source": [
        "## Q8. Write a Python function to calculate the probability density function (PDF) of a continuous random variable for a given normal distribution.\n",
        "\n",
        "### Ans\n"
      ]
    },
    {
      "cell_type": "code",
      "execution_count": null,
      "metadata": {
        "colab": {
          "base_uri": "https://localhost:8080/",
          "height": 1000
        },
        "id": "-8nX0bL9xadF",
        "outputId": "3249ba17-0a5a-4d4c-f4be-34ce72bd40b4"
      },
      "outputs": [
        {
          "name": "stdout",
          "output_type": "stream",
          "text": [
            "[1.33830226e-04 1.84295302e-04 2.52138056e-04 3.42709873e-04\n",
            " 4.62784614e-04 6.20862299e-04 8.27514755e-04 1.09577221e-03\n",
            " 1.44154732e-03 1.88408981e-03 2.44646147e-03 3.15601632e-03\n",
            " 4.04486639e-03 5.15030799e-03 6.51517825e-03 8.18810653e-03\n",
            " 1.02236211e-02 1.26820683e-02 1.56292995e-02 1.91360817e-02\n",
            " 2.32771927e-02 2.81301641e-02 3.37736510e-02 4.02854146e-02\n",
            " 4.77399263e-02 5.62056185e-02 6.57418315e-02 7.63955298e-02\n",
            " 8.81978860e-02 1.01160853e-01 1.15273870e-01 1.30500851e-01\n",
            " 1.46777638e-01 1.64010075e-01 1.82072870e-01 2.00809396e-01\n",
            " 2.20032535e-01 2.39526659e-01 2.59050772e-01 2.78342808e-01\n",
            " 2.97125003e-01 3.15110210e-01 3.32008980e-01 3.47537175e-01\n",
            " 3.61423830e-01 3.73418974e-01 3.83301094e-01 3.90883931e-01\n",
            " 3.96022313e-01 3.98616779e-01 3.98616779e-01 3.96022313e-01\n",
            " 3.90883931e-01 3.83301094e-01 3.73418974e-01 3.61423830e-01\n",
            " 3.47537175e-01 3.32008980e-01 3.15110210e-01 2.97125003e-01\n",
            " 2.78342808e-01 2.59050772e-01 2.39526659e-01 2.20032535e-01\n",
            " 2.00809396e-01 1.82072870e-01 1.64010075e-01 1.46777638e-01\n",
            " 1.30500851e-01 1.15273870e-01 1.01160853e-01 8.81978860e-02\n",
            " 7.63955298e-02 6.57418315e-02 5.62056185e-02 4.77399263e-02\n",
            " 4.02854146e-02 3.37736510e-02 2.81301641e-02 2.32771927e-02\n",
            " 1.91360817e-02 1.56292995e-02 1.26820683e-02 1.02236211e-02\n",
            " 8.18810653e-03 6.51517825e-03 5.15030799e-03 4.04486639e-03\n",
            " 3.15601632e-03 2.44646147e-03 1.88408981e-03 1.44154732e-03\n",
            " 1.09577221e-03 8.27514755e-04 6.20862299e-04 4.62784614e-04\n",
            " 3.42709873e-04 2.52138056e-04 1.84295302e-04 1.33830226e-04]\n"
          ]
        },
        {
          "data": {
            "image/png": "[encoded data removed]",
            "text/plain": [
              "<Figure size 800x600 with 1 Axes>"
            ]
          },
          "metadata": {},
          "output_type": "display_data"
        }
      ],
      "source": [
        "#calculate pdf of continuous random variable for given normal distribution\n",
        "import numpy as np\n",
        "import matplotlib.pyplot as plt\n",
        "import seaborn as sns\n",
        "from scipy.stats import norm\n",
        "def calculate_pdf(x, mean, std_dev):\n",
        "    \"\"\"\n",
        "    Calculates the probability density function (PDF) of a continuous\n",
        "    random variable for a given normal distribution.\n",
        "\n",
        "    Args:\n",
        "        x (float or numpy array): The value or values for which the PDF\n",
        "        is to be calculated.\n",
        "        mean (float): The mean of the normal distribution.\n",
        "        std_dev (float): The standard deviation of the normal distribution.\n",
        "\n",
        "        Returns:\n",
        "        float or numpy array: The PDF value(s) for the given x value(s).\n",
        "    \"\"\"\n",
        "    pdf = (1 / (std_dev * np.sqrt(2 * np.pi))) * np.exp(-0.5 * ((x - mean) / std_dev)**2)\n",
        "    return pdf\n",
        "\n",
        "#example use\n",
        "mean = 0.0\n",
        "std_dev = 1.0\n",
        "x = np.linspace(-4, 4, 100)\n",
        "pdf_values = calculate_pdf(x, mean, std_dev)\n",
        "print(pdf_values)\n",
        "\n",
        "# Plot the PDF\n",
        "plt.figure(figsize=(8, 6))\n",
        "plt.plot(x, pdf_values, label='PDF')\n",
        "plt.title('PDF of a Normal Distribution')\n",
        "plt.xlabel('x')\n",
        "plt.ylabel('Probability Density')\n",
        "plt.legend()\n",
        "plt.grid(True)\n",
        "plt.show()\n"
      ]
    },
    {
      "cell_type": "markdown",
      "metadata": {
        "id": "NKHF5dy5973m"
      },
      "source": [
        "## Q9. Create a program to calculate the cumulative distribution function (CDF) of exponential distribution.\n",
        "\n",
        "### Ans"
      ]
    },
    {
      "cell_type": "code",
      "execution_count": null,
      "metadata": {
        "colab": {
          "base_uri": "https://localhost:8080/",
          "height": 874
        },
        "id": "jkcXG_bD9VRv",
        "outputId": "cb617011-3976-4291-f4ee-ff0025e9352b"
      },
      "outputs": [
        {
          "name": "stdout",
          "output_type": "stream",
          "text": [
            "[0.         0.0776293  0.1492323  0.21527681 0.27619432 0.33238285\n",
            " 0.38420951 0.4320129  0.47610534 0.51677492 0.55428735 0.58888771\n",
            " 0.62080207 0.65023894 0.67739065 0.70243459 0.72553439 0.74684096\n",
            " 0.76649352 0.78462047 0.80134023 0.81676205 0.83098668 0.84410707\n",
            " 0.85620893 0.86737133 0.8776672  0.88716381 0.89592321 0.90400262\n",
            " 0.91145483 0.91832853 0.92466863 0.93051655 0.9359105  0.94088572\n",
            " 0.94547472 0.94970748 0.95361166 0.95721275 0.9605343  0.96359799\n",
            " 0.96642385 0.96903035 0.9714345  0.97365202 0.97569739 0.97758399\n",
            " 0.97932413 0.98092918 0.98240964 0.98377516 0.98503469 0.98619643\n",
            " 0.98726799 0.98825637 0.98916802 0.9900089  0.9907845  0.9914999\n",
            " 0.99215975 0.99276839 0.99332977 0.99384758 0.99432518 0.99476572\n",
            " 0.99517205 0.99554684 0.99589254 0.9962114  0.9965055  0.99677678\n",
            " 0.99702699 0.99725779 0.99747066 0.99766701 0.99784812 0.99801517\n",
            " 0.99816925 0.99831137 0.99844246 0.99856337 0.99867489 0.99877776\n",
            " 0.99887264 0.99896016 0.99904088 0.99911534 0.99918401 0.99924736\n",
            " 0.99930578 0.99935968 0.99940938 0.99945523 0.99949752 0.99953653\n",
            " 0.99957251 0.99960569 0.9996363  0.99966454]\n"
          ]
        },
        {
          "data": {
            "image/png": "[encoded data removed]",
            "text/plain": [
              "<Figure size 800x600 with 1 Axes>"
            ]
          },
          "metadata": {},
          "output_type": "display_data"
        }
      ],
      "source": [
        "def calculate_cdf(x, rate):\n",
        "    \"\"\"\n",
        "    Calculates the cumulative distribution function (CDF) of an exponential\n",
        "    distribution.\n",
        "\n",
        "    Args:\n",
        "        x (float or numpy array): The value or values for which the CDF\n",
        "        is to be calculated.\n",
        "        rate (float): The rate parameter of the exponential distribution.\n",
        "\n",
        "\n",
        "        Returns:\n",
        "        float or numpy array: The CDF value(s) for the given x value(s).\n",
        "    \"\"\"\n",
        "    cdf = 1 - np.exp(-rate * x)\n",
        "    return cdf\n",
        "\n",
        "#example use case\n",
        "x=np.linspace(0, 4, 100)\n",
        "rate=2.0\n",
        "cdf_values = calculate_cdf(x, rate)\n",
        "print(cdf_values)\n",
        "\n",
        "#plot\n",
        "plt.figure(figsize=(8, 6))\n",
        "plt.plot(x, cdf_values, label='CDF')\n",
        "plt.title('CDF of an Exponential Distribution')\n",
        "plt.xlabel('x')\n",
        "plt.ylabel('Cumulative Probability')\n",
        "plt.legend()\n",
        "plt.grid(True)\n",
        "plt.show()"
      ]
    },
    {
      "cell_type": "markdown",
      "metadata": {
        "id": "ENaptYg0_OTG"
      },
      "source": [
        "## Q10. Write a Python function to calculate the probability mass function (PMF) of Poisson distribution.\n",
        "\n",
        "### Ans\n"
      ]
    },
    {
      "cell_type": "code",
      "execution_count": null,
      "metadata": {
        "colab": {
          "base_uri": "https://localhost:8080/",
          "height": 619
        },
        "id": "175Yuyns_Zmt",
        "outputId": "a951eddc-bddf-4c26-ad62-904425e14d46"
      },
      "outputs": [
        {
          "name": "stdout",
          "output_type": "stream",
          "text": [
            "[1.35335283e-01 2.70670566e-01 2.70670566e-01 1.80447044e-01\n",
            " 9.02235222e-02 3.60894089e-02 1.20298030e-02 3.43708656e-03\n",
            " 8.59271640e-04 1.90949253e-04]\n"
          ]
        },
        {
          "data": {
            "image/png": "[encoded data removed]",
            "text/plain": [
              "<Figure size 1000x600 with 1 Axes>"
            ]
          },
          "metadata": {},
          "output_type": "display_data"
        }
      ],
      "source": [
        "def calculate_pmf(k, lam):\n",
        "    \"\"\"\n",
        "    Calculates the probability\n",
        "    mass function (PMF) of a Poisson distribution.\n",
        "\n",
        "    Args:\n",
        "        k (int or numpy array): The value or values for which the PMF\n",
        "        is to be calculated.\n",
        "        lam (float): The rate parameter of the Poisson distribution.\n",
        "\n",
        "    Returns:\n",
        "        float or numpy array: The PMF value(s) for the given k value(s).\n",
        "    \"\"\"\n",
        "\n",
        "    from scipy.stats import poisson\n",
        "    pmf_values = poisson.pmf(k, lam)\n",
        "    return pmf_values\n",
        "\n",
        "\n",
        "#example use case\n",
        "lam = 2.0\n",
        "k = np.arange(0, 10)\n",
        "pmf_values = calculate_pmf(k, lam)\n",
        "print(pmf_values)\n",
        "\n",
        "#vizullazation poisson distribution\n",
        "plt.figure(figsize=(10,6))\n",
        "plt.bar(k, pmf_values)\n",
        "plt.xlabel(\"Number of Events (k)\")\n",
        "plt.ylabel(\"Probability\")\n",
        "plt.title(f\"Poisson Distribution probability mass function (λ = {lam})\")\n",
        "plt.show()"
      ]
    },
    {
      "cell_type": "markdown",
      "metadata": {
        "id": "6LD4hJH-DOde"
      },
      "source": [
        "## Q11. A company wants to test if a new website layout leads to a higher conversion rate (percentage of visitors who make a purchase). They collect data from the old and new layouts to compare.To generate the data use the following command:```python ---import numpy as np ---50 purchases out of 1000 visitors=old_layout = np.array([1] * 50 + [0] * 950)--- 70 purchases out of 1000 visitors  new_layout = np.array([1] * 70 + [0] * 930) ```Apply z-test to find which layout is successful.\n",
        "\n",
        "### Ans\n",
        "\n"
      ]
    },
    {
      "cell_type": "code",
      "execution_count": null,
      "metadata": {
        "colab": {
          "base_uri": "https://localhost:8080/"
        },
        "id": "LHmptPoiFPFV",
        "outputId": "c8404c02-d03d-4812-cc39-468083d9473b"
      },
      "outputs": [
        {
          "name": "stdout",
          "output_type": "stream",
          "text": [
            "conversion_rate_new is :- 0.07\n",
            "conversion_rate_old is:- 0.05\n",
            "Z-Statistic: 1.8831\n",
            "P-Value: 0.0298\n",
            "Result: Reject the null hypothesis.\n",
            "That means The new layout is statistically significantly better (higher conversion rate).\n"
          ]
        }
      ],
      "source": [
        "# given data\n",
        "import numpy as np\n",
        "from scipy.stats import norm\n",
        "from statsmodels.stats.proportion import proportions_ztest\n",
        "\n",
        "# Generate the data\n",
        "# 50 perchases out of 1000 visitors\n",
        "old_layout = np.array([1] * 50 + [0] * 950)\n",
        "# 70 purchases out of 1000 visitors\n",
        "new_layout = np.array([1] * 70 + [0] * 930)\n",
        "\n",
        "\n",
        "\n",
        "# Apply z-test\n",
        "\n",
        "#define hypothesis\n",
        "null_hypothesis = \"The new layout has the same conversion rate as the old layout.\"\n",
        "alternate_hypothesis = \"The new layout has a higher conversion rate than the old layout.\"\n",
        "\n",
        "#deining one tail test or two - tail test\n",
        "alpha = 0.05\n",
        "one_tailed = True\n",
        "\n",
        "# Calculate the conversion rates\n",
        "conversion_rate_old = np.mean(old_layout)\n",
        "conversion_rate_new = np.mean(new_layout)\n",
        "\n",
        "print(\"conversion_rate_new is :-\",conversion_rate_new)\n",
        "print(\"conversion_rate_old is:-\",conversion_rate_old)\n",
        "\n",
        "#calculate sigma of population or standard error SE\n",
        "\n",
        "#calculate pooled proporstion\n",
        "pooled_proportion = (np.sum(old_layout) + np.sum(new_layout)) / (len(old_layout) + len(new_layout))\n",
        "\n",
        "#calculate standard error\n",
        "SE = np.sqrt(pooled_proportion * (1 - pooled_proportion) * ((1 / len(old_layout)) + (1 / len(new_layout))))\n",
        "\n",
        "# Calculate the z-statistic\n",
        "z_statistic = (conversion_rate_new - conversion_rate_old) / SE\n",
        "\n",
        "#Calculate p value\n",
        "p_value = 1 - norm.cdf(z_statistic)\n",
        "\n",
        "# Output results\n",
        "print(f\"Z-Statistic: {z_statistic:.4f}\")\n",
        "print(f\"P-Value: {p_value:.4f}\")\n",
        "\n",
        "# Interpretation\n",
        "if p_value < alpha:\n",
        "  print(\"Result: Reject the null hypothesis.\")\n",
        "else:\n",
        "  print(\"Result: Fail to reject the null hypothesis.\")\n",
        "\n",
        "#conclusion\n",
        "if p_value < alpha:\n",
        "  print(\"That means The new layout is statistically significantly better (higher conversion rate).\")\n",
        "else:\n",
        "  print(\"That means No significant difference between the old and new layout.\")\n",
        "\n",
        "\n"
      ]
    },
    {
      "cell_type": "markdown",
      "metadata": {
        "id": "wNI6oeZ1OYA5"
      },
      "source": [
        "## Q12. A tutoring service claims that its program improves students' exam scores. A sample of students who participated in the program was taken, and their scores before and after the program were recorded.Use the below code to generate samples of respective arrays of marks:```python before_program = np.array([75, 80, 85, 70, 90, 78, 92, 88, 82, 87]) after_program = np.array([80, 85, 90, 80, 92, 80, 95, 90, 85, 88])```Use z-test to find if the claims made by tutor are true or false.\n",
        "\n",
        "### Ans"
      ]
    },
    {
      "cell_type": "code",
      "execution_count": null,
      "metadata": {
        "colab": {
          "base_uri": "https://localhost:8080/"
        },
        "id": "l5CHsBVdNz9A",
        "outputId": "aa7bace8-0ee5-4bfc-d547-0128ccf9d307"
      },
      "outputs": [
        {
          "name": "stdout",
          "output_type": "stream",
          "text": [
            "Z-score: 4.593190894944668\n",
            "P-value: 2.182597052646784e-06\n",
            "Reject the null hypothesis: The tutoring program has a significant effect.\n"
          ]
        }
      ],
      "source": [
        "#given data sample\n",
        "import numpy as np\n",
        "Before_program = np.array([75,80,85,70,90,78,92,88,82,87])\n",
        "After_program = np.array([80,85,90,80,92,80,95,90,85,88])\n",
        "\n",
        "#Define hypothesis\n",
        "null_hypothesis = \"The tutoring program has no effect on student exam scores.\"\n",
        "alternate_hypothesis = \"The tutoring program improves student exam\"\n",
        "\n",
        "#Differnce between after and before\n",
        "difference = After_program - Before_program\n",
        "\n",
        "#Calculate standard deviation of difference\n",
        "std_diffence = np.std(difference,ddof=1)\n",
        "\n",
        "#canculate mean of difference\n",
        "mean_difference = np.mean(difference)\n",
        "\n",
        "#lenth of differnce\n",
        "Length_difference = len(difference)\n",
        "\n",
        "from scipy import stats\n",
        "#caculate z-score and p-value\n",
        "z_score = mean_difference / (std_diffence / np.sqrt(Length_difference))\n",
        "p_value = 1 - stats.norm.cdf(z_score)\n",
        "\n",
        "#conclusion\n",
        "print(\"Z-score:\", z_score)\n",
        "print(\"P-value:\", p_value)\n",
        "\n",
        "#interpritantion of z test\n",
        "if p_value < 0.05:\n",
        "  print(\"Reject the null hypothesis: The tutoring program has a significant effect.\")\n",
        "else:\n",
        "    print(\"Fail to reject the null hypothesis: The tutoring program does not have a significant effect.\")\n"
      ]
    },
    {
      "cell_type": "markdown",
      "metadata": {
        "id": "WAHkMo3RLMGD"
      },
      "source": [
        "## 13. A pharmaceutical company wants to determine if a new drug is effective in reducing blood pressure. They conduct a study and record blood pressure measurements before and after administering the drug.Use the below code to generate samples of respective arrays of blood pressure:```python before_drug = np.array([145, 150, 140, 135, 155, 160, 152, 148, 130, 138]) after_drug = np.array([130, 140, 132, 128, 145, 148, 138, 136, 125, 130])```Implement z-test to find if the drug really works or not.\n",
        "\n",
        "### Ans"
      ]
    },
    {
      "cell_type": "code",
      "execution_count": null,
      "metadata": {
        "colab": {
          "base_uri": "https://localhost:8080/"
        },
        "id": "DgNW5dDvjiMU",
        "outputId": "ed7f3b74-eeb6-42cd-adc3-ec55474f843f"
      },
      "outputs": [
        {
          "name": "stdout",
          "output_type": "stream",
          "text": [
            "Z-statistic: -10.049875621120888\n",
            "P-value: 4.599172203850193e-24\n",
            "Reject the null hypothesis: The new drug has a significant effect.\n"
          ]
        }
      ],
      "source": [
        "import numpy as np\n",
        "from scipy import stats\n",
        "\n",
        "# Data: blood pressure before and after taking the drug\n",
        "before_drug = np.array([145, 150, 140, 135, 155, 160, 152, 148, 130, 138])\n",
        "after_drug = np.array([130, 140, 132, 128, 145, 148, 138, 136, 125, 130])\n",
        "\n",
        "# Calculate the differences between after and before measurements\n",
        "differences = after_drug - before_drug\n",
        "\n",
        "# Calculate the mean and standard deviation of the differences\n",
        "mean_diff = np.mean(differences)\n",
        "std_diff = np.std(differences, ddof=1)  # sample standard deviation\n",
        "n = len(differences)\n",
        "\n",
        "# Z-test statistic (using sample std as an approximation of population std)\n",
        "z_statistic = mean_diff / (std_diff / np.sqrt(n))\n",
        "\n",
        "# Calculate the p-value for a one-tailed test\n",
        "p_value = stats.norm.cdf(z_statistic)\n",
        "\n",
        "# Output the results\n",
        "z_statistic, p_value = z_statistic, p_value\n",
        "\n",
        "print(f\"Z-statistic: {z_statistic}\")\n",
        "print(f\"P-value: {p_value}\")\n",
        "\n",
        "#conclusion\n",
        "if p_value < 0.05:\n",
        "  print(\"Reject the null hypothesis: The new drug has a significant effect.\")\n",
        "else:\n",
        "    print(\"Fail to reject the null hypothesis: The new drug does not have a significant effect.\")"
      ]
    },
    {
      "cell_type": "code",
      "execution_count": null,
      "metadata": {
        "colab": {
          "base_uri": "https://localhost:8080/"
        },
        "id": "vAGkJAjzbD3z",
        "outputId": "0559dc54-8136-4182-ab9f-df1d7a36ae4c"
      },
      "outputs": [
        {
          "name": "stdout",
          "output_type": "stream",
          "text": [
            "T-statistic: 10.04987562112089\n",
            "P-value: 3.433031432681152e-06\n",
            "Reject the null hypothesis. The drug appears to be effective in reducing blood pressure.\n"
          ]
        }
      ],
      "source": [
        "#here this example i think we perfer t test in both example q12,and 13 beacuse there is no of sample is less than 30 and standard derivation is not given thats why we perform t-tesst in compare to z-test\n",
        "import numpy as np\n",
        "from scipy.stats import ttest_rel\n",
        "\n",
        "before_drug = np.array([145, 150, 140, 135, 155, 160, 152, 148, 130, 138])\n",
        "after_drug = np.array([130, 140, 132, 128, 145, 148, 138, 136, 125, 130])\n",
        "\n",
        "# Perform paired t-test\n",
        "t_statistic, p_value = ttest_rel(before_drug, after_drug)\n",
        "\n",
        "# Print the results\n",
        "print(f\"T-statistic: {t_statistic}\")\n",
        "print(f\"P-value: {p_value}\")\n",
        "\n",
        "# Interpret the results\n",
        "alpha = 0.05  # Significance level\n",
        "if p_value < alpha:\n",
        "    print(\"Reject the null hypothesis. The drug appears to be effective in reducing blood pressure.\")\n",
        "else:\n",
        "    print(\"Fail to reject the null hypothesis. There is not enough evidence to conclude that the drug is effective.\")"
      ]
    },
    {
      "cell_type": "markdown",
      "source": [
        "## 14. A customer service department claims that their average response time is less than 5 minutes. A sample of recent customer interactions was taken, and the response times were recorded.Implement the below code to generate the array of response time:```pythonresponse_times = np.array([4.3, 3.8, 5.1, 4.9, 4.7, 4.2, 5.2, 4.5, 4.6, 4.4])```Implement z-test to find the claims made by customer service department are tru or false.\n",
        "\n",
        "### Ans\n",
        "\n",
        "\n"
      ],
      "metadata": {
        "id": "34qqo6li4YIo"
      }
    },
    {
      "cell_type": "code",
      "source": [
        "\n",
        "\n",
        "import numpy as np\n",
        "from scipy.stats import norm\n",
        "\n",
        "# Given data\n",
        "response_times = np.array([4.3, 3.8, 5.1, 4.9, 4.7, 4.2, 5.2, 4.5, 4.6, 4.4])\n",
        "\n",
        "# Hypothesized mean response time\n",
        "hypothesized_mean = 5\n",
        "\n",
        "# Calculate the sample mean and standard deviation\n",
        "sample_mean = np.mean(response_times)\n",
        "sample_std = np.std(response_times, ddof=1)  # Use ddof=1 for sample standard deviation\n",
        "sample_size = len(response_times)\n",
        "\n",
        "# Calculate the z-statistic\n",
        "z_statistic = (sample_mean - hypothesized_mean) / (sample_std / np.sqrt(sample_size))\n",
        "\n",
        "# Calculate the p-value (one-tailed test, since the claim is \"less than\")\n",
        "p_value = norm.cdf(z_statistic)\n",
        "\n",
        "# Set the significance level\n",
        "alpha = 0.05\n",
        "\n",
        "# Print the results\n",
        "print(\"Sample Mean:\", sample_mean)\n",
        "print(\"Sample Standard Deviation:\", sample_std)\n",
        "print(\"Z-statistic:\", z_statistic)\n",
        "print(\"P-value:\", p_value)\n",
        "\n",
        "# Conclusion\n",
        "if p_value < alpha:\n",
        "    print(\"Reject the null hypothesis. The average response time is less than 5 minutes.\")\n",
        "else:\n",
        "    print(\"Fail to reject the null hypothesis. There is not enough evidence to conclude that the average response time is less than 5 minutes.\")"
      ],
      "metadata": {
        "colab": {
          "base_uri": "https://localhost:8080/"
        },
        "id": "woLwLQ2a5FFd",
        "outputId": "42cebcae-8635-4f65-ae09-550ec156eab0"
      },
      "execution_count": null,
      "outputs": [
        {
          "output_type": "stream",
          "name": "stdout",
          "text": [
            "Sample Mean: 4.57\n",
            "Sample Standard Deviation: 0.4270050741306634\n",
            "Z-statistic: -3.184457226042963\n",
            "P-value: 0.0007251287113068958\n",
            "Reject the null hypothesis. The average response time is less than 5 minutes.\n"
          ]
        }
      ]
    },
    {
      "cell_type": "markdown",
      "source": [
        "## 15. A company is testing two different website layouts to see which one leads to higher click-through rates.Write a Python function to perform an A/B test analysis, including calculating the t-statistic, degrees of freedom, and p-value.Use the following data:```python layout_a_clicks = [28, 32, 33, 29, 31, 34, 30, 35, 36, 37] layout_b_clicks = [40, 41, 38, 42, 39, 44, 43, 41, 45, 47]\n",
        "\n",
        "### Ans"
      ],
      "metadata": {
        "id": "FTrQdP8Z5_6a"
      }
    },
    {
      "cell_type": "code",
      "source": [
        "import numpy as np\n",
        "from scipy import stats\n",
        "\n",
        "def ab_test_analysis(layout_a_clicks, layout_b_clicks):\n",
        "    # Calculate the means of both layouts\n",
        "    mean_a = np.mean(layout_a_clicks)\n",
        "    mean_b = np.mean(layout_b_clicks)\n",
        "\n",
        "    # Calculate the standard deviations of both layouts\n",
        "    std_a = np.std(layout_a_clicks, ddof=1)\n",
        "    std_b = np.std(layout_b_clicks, ddof=1)\n",
        "\n",
        "    # Sample sizes\n",
        "    n_a = len(layout_a_clicks)\n",
        "    n_b = len(layout_b_clicks)\n",
        "\n",
        "    # Calculate the pooled standard deviation\n",
        "    pooled_std = np.sqrt(((std_a**2) / n_a) + ((std_b**2) / n_b))\n",
        "\n",
        "    # Calculate the t-statistic\n",
        "    t_stat = (mean_a - mean_b) / pooled_std\n",
        "\n",
        "    # Calculate the degrees of freedom using Welch-Satterthwaite equation\n",
        "    df = ((std_a**2 / n_a + std_b**2 / n_b) ** 2) / (((std_a**2 / n_a) ** 2) / (n_a - 1) + ((std_b**2 / n_b) ** 2) / (n_b - 1))\n",
        "\n",
        "    # Calculate the p-value (two-tailed test)\n",
        "    p_value = 2 * (1 - stats.t.cdf(np.abs(t_stat), df))\n",
        "\n",
        "    return t_stat, df, p_value\n",
        "\n",
        "# Data for layouts A and B\n",
        "layout_a_clicks = [28, 32, 33, 29, 31, 34, 30, 35, 36, 37]\n",
        "layout_b_clicks = [40, 41, 38, 42, 39, 44, 43, 41, 45, 47]\n",
        "\n",
        "# Perform the A/B test analysis\n",
        "t_stat, df, p_value = ab_test_analysis(layout_a_clicks, layout_b_clicks)\n",
        "\n",
        "# Print results\n",
        "print(f\"T-statistic: {t_stat:.4f}\")\n",
        "print(f\"Degrees of Freedom: {df:.4f}\")\n",
        "print(f\"P-value: {p_value:.10f}\")\n",
        "\n",
        "# Interpretation based on p-value\n",
        "if p_value < 0.05:\n",
        "    print(\"The difference between the two layouts is statistically significant.\")\n",
        "else:\n",
        "    print(\"The difference between the two layouts is not statistically significant.\")\n"
      ],
      "metadata": {
        "colab": {
          "base_uri": "https://localhost:8080/"
        },
        "id": "KKadjhMt6W7o",
        "outputId": "daae8b71-9b02-45c6-be83-aec75352db07"
      },
      "execution_count": null,
      "outputs": [
        {
          "output_type": "stream",
          "name": "stdout",
          "text": [
            "T-statistic: -7.2981\n",
            "Degrees of Freedom: 17.8799\n",
            "P-value: 0.0000009197\n",
            "The difference between the two layouts is statistically significant.\n"
          ]
        }
      ]
    },
    {
      "cell_type": "code",
      "source": [
        "#or manually\n",
        "import numpy as np\n",
        "from scipy import stats\n",
        "\n",
        "# Data for layouts A and B\n",
        "layout_a_clicks = [28, 32, 33, 29, 31, 34, 30, 35, 36, 37]\n",
        "layout_b_clicks = [40, 41, 38, 42, 39, 44, 43, 41, 45, 47]\n",
        "\n",
        "# Calculate the means\n",
        "mean_a = np.mean(layout_a_clicks)\n",
        "mean_b = np.mean(layout_b_clicks)\n",
        "\n",
        "# Calculate the variances\n",
        "var_a = np.var(layout_a_clicks, ddof=1)  # sample variance (ddof=1)\n",
        "var_b = np.var(layout_b_clicks, ddof=1)  # sample variance (ddof=1)\n",
        "\n",
        "# Calculate the sample sizes\n",
        "n_a = len(layout_a_clicks)\n",
        "n_b = len(layout_b_clicks)\n",
        "\n",
        "# Calculate the t-statistic\n",
        "t_stat = (mean_a - mean_b) / np.sqrt((var_a / n_a) + (var_b / n_b))\n",
        "\n",
        "# Calculate the degrees of freedom using Welch-Satterthwaite equation\n",
        "df = ((var_a / n_a + var_b / n_b) ** 2) / \\\n",
        "    (((var_a / n_a) ** 2 / (n_a - 1)) + ((var_b / n_b) ** 2 / (n_b - 1)))\n",
        "\n",
        "# Calculate the p-value\n",
        "p_value = 2 * (1 - stats.t.cdf(np.abs(t_stat), df))\n",
        "\n",
        "# Print results\n",
        "print(f\"Mean of Layout A: {mean_a:.2f}\")\n",
        "print(f\"Mean of Layout B: {mean_b:.2f}\")\n",
        "print(f\"T-statistic: {t_stat:.4f}\")\n",
        "print(f\"Degrees of Freedom: {df:.4f}\")\n",
        "print(f\"P-value: {p_value:.10f}\")\n",
        "\n",
        "# Interpretation based on p-value\n",
        "if p_value < 0.05:\n",
        "    print(\"The difference between the two layouts is statistically significant.\")\n",
        "else:\n",
        "    print(\"The difference between the two layouts is not statistically significant.\")\n"
      ],
      "metadata": {
        "colab": {
          "base_uri": "https://localhost:8080/"
        },
        "id": "mL1W2JFwhNE-",
        "outputId": "52171115-d194-43a7-ed3e-48365a6e9221"
      },
      "execution_count": null,
      "outputs": [
        {
          "output_type": "stream",
          "name": "stdout",
          "text": [
            "Mean of Layout A: 32.50\n",
            "Mean of Layout B: 42.00\n",
            "T-statistic: -7.2981\n",
            "Degrees of Freedom: 17.8799\n",
            "P-value: 0.0000009197\n",
            "The difference between the two layouts is statistically significant.\n"
          ]
        }
      ]
    },
    {
      "cell_type": "markdown",
      "source": [
        "## 16.A pharmaceutical company wants to determine if a new drug is more effective than an existing drug in reducing cholesterol levels. Create a program to analyze the clinical trial data and calculate the tstatistic and p-value for the treatment effect.Use the following data of cholestrol level:```python existing_drug_levels = [180, 182, 175, 185, 178, 176, 172, 184, 179, 183] new_drug_levels = [170, 172, 165, 168, 175, 173, 170, 178, 172, 176]\n",
        "\n",
        "### Ans"
      ],
      "metadata": {
        "id": "tgYlfI4-_-sz"
      }
    },
    {
      "cell_type": "code",
      "source": [
        "existing_drug_levels = [180, 182, 175, 185, 178, 176, 172, 184, 179, 183]\n",
        "new_drug_levels = [170, 172, 165, 168, 175, 173, 170, 178, 172, 176]\n",
        "\n",
        "# Perform an independent samples t-test\n",
        "t_statistic, p_value = stats.ttest_ind(existing_drug_levels, new_drug_levels)\n",
        "\n",
        "# Print the results\n",
        "print(f\"T-statistic: {t_statistic}\")\n",
        "print(f\"P-value: {p_value}\")\n",
        "\n",
        "# Interpret the results\n",
        "alpha = 0.05  # Significance level\n",
        "if p_value < alpha:\n",
        "    print(\"Reject the null hypothesis. The new drug is significantly different from the existing drug in reducing cholesterol levels.\")\n",
        "else:\n",
        "    print(\"Fail to reject the null hypothesis. There is not enough evidence to conclude that the new drug is significantly different.\")"
      ],
      "metadata": {
        "colab": {
          "base_uri": "https://localhost:8080/"
        },
        "id": "8XaZqTELfCcc",
        "outputId": "55e1ca76-a874-42fe-bf10-61536cb21b8a"
      },
      "execution_count": null,
      "outputs": [
        {
          "output_type": "stream",
          "name": "stdout",
          "text": [
            "T-statistic: 4.14048098620866\n",
            "P-value: 0.0006143398442372505\n",
            "Reject the null hypothesis. The new drug is significantly different from the existing drug in reducing cholesterol levels.\n"
          ]
        }
      ]
    },
    {
      "cell_type": "markdown",
      "source": [
        "## 17. A school district introduces an educational intervention program to improve math scores. Write a Python function to analyze pre- and post-intervention test scores, calculating the t-statistic and p-value to determine if the intervention had a significant impact.Use the following data of test score:```python pre_intervention_scores = [80, 85, 90, 75, 88, 82, 92, 78, 85, 87] post_intervention_scores = [90, 92, 88, 92, 95, 91, 96, 93, 89, 93]\n",
        "\n",
        "### Ans"
      ],
      "metadata": {
        "id": "rlPJEAdhgQuF"
      }
    },
    {
      "cell_type": "code",
      "source": [
        "pre_intervention_scores = [80, 85, 90, 75, 88, 82, 92, 78, 85, 87]\n",
        "post_intervention_scores = [90, 92, 88, 92, 95, 91, 96, 93, 89, 93]\n",
        "\n",
        "# Perform paired t-test\n",
        "t_statistic, p_value = stats.ttest_rel(pre_intervention_scores, post_intervention_scores)\n",
        "\n",
        "# Print the results\n",
        "print(f\"T-statistic: {t_statistic}\")\n",
        "print(f\"P-value: {p_value}\")\n",
        "\n",
        "# Interpret the results\n",
        "alpha = 0.05  # Significance level\n",
        "if p_value < alpha:\n",
        "    print(\"Reject the null hypothesis. The intervention had a significant positive impact on math scores.\")\n",
        "else:\n",
        "    print(\"Fail to reject the null hypothesis. There is not enough evidence to conclude that the intervention significantly impacted math scores.\")\n",
        "\n",
        "#calculate same but manually\n",
        "#calculate mean , variance and length of intervention score\n",
        "import numpy as np\n",
        "from scipy import stats\n",
        "\n",
        "pre_intervention_scores = [80, 85, 90, 75, 88, 82, 92, 78, 85, 87]\n",
        "post_intervention_scores = [90, 92, 88, 92, 95, 91, 96, 93, 89, 93]\n",
        "\n",
        "# Calculate the means\n",
        "mean_pre = np.mean(pre_intervention_scores)\n",
        "mean_post = np.mean(post_intervention_scores)\n",
        "\n",
        "#calculate the variance\n",
        "var_pre = np.var(pre_intervention_scores, ddof=1)\n",
        "var_post = np.var(post_intervention_scores, ddof=1)\n",
        "\n",
        "#calculate lenth\n",
        "n_pre = len(pre_intervention_scores)\n",
        "n_post = len(post_intervention_scores)\n",
        "\n",
        "#t-test\n",
        "t_statistic = (mean_pre - mean_post) / np.sqrt((var_pre / n_pre) + (var_post / n_post))\n",
        "p_value = 2 * (1 - stats.t.cdf(np.abs(t_statistic), n_pre + n_post - 2))\n",
        "\n",
        "#interpretation of result\n",
        "print(f\"T-statistic: {t_statistic}\")\n",
        "print(f\"P-value: {p_value}\")\n",
        "\n",
        "if p_value < 0.05:\n",
        "    print(\"Reject the null hypothesis. The intervention had a significant positive impact on math scores.\")\n",
        "else:\n",
        "    print(\"Fail to reject the null hypothesis. There is not enough evidence to conclude that the intervention significantly impacted math scores.\")\n",
        "\n"
      ],
      "metadata": {
        "colab": {
          "base_uri": "https://localhost:8080/"
        },
        "id": "ixUtxmd2i3tp",
        "outputId": "801439cc-f9b7-46c9-8fdf-2291f4ab0ca0"
      },
      "execution_count": null,
      "outputs": [
        {
          "output_type": "stream",
          "name": "stdout",
          "text": [
            "T-statistic: -4.42840883965761\n",
            "P-value: 0.0016509548165795493\n",
            "Reject the null hypothesis. The intervention had a significant positive impact on math scores.\n",
            "T-statistic: -4.080355128162117\n",
            "P-value: 0.0007022570725707666\n",
            "Reject the null hypothesis. The intervention had a significant positive impact on math scores.\n"
          ]
        }
      ]
    },
    {
      "cell_type": "markdown",
      "source": [
        "## 18. An HR department wants to investigate if there's a gender-based salary gap within the company. Develop a program to analyze salary data, calculate the t-statistic, and determine if there's a statistically significant difference between the average salaries of male and female employees.Use the below code to generate synthetic data:```python → Generate synthetic salary data for male and female employeesnp.random.see(0)..For reproducibility male_salaries = np.random.normal(loc=50000, scale=10000, size=20) female_salaries = np.random.normal(loc=55000, scale=9000, size=20)```\n",
        "\n",
        "### Ans"
      ],
      "metadata": {
        "id": "Aoiy-V2RkH6W"
      }
    },
    {
      "cell_type": "code",
      "source": [
        "#given data\n",
        "import numpy as np\n",
        "np.random.seed(0)\n",
        "male_salaries = np.random.normal(loc=50000, scale=10000, size=20)\n",
        "female_salaries = np.random.normal(loc=55000, scale=9000, size=20)\n",
        "\n",
        "#perform t-test\n",
        "t_statistic, p_value = stats.ttest_ind(male_salaries, female_salaries)\n",
        "\n",
        "#print results\n",
        "print(f\"T-statistic: {t_statistic}\")\n",
        "print(f\"P-value: {p_value}\")\n",
        "\n",
        "#interpretation of result\n",
        "\n",
        "alpha = 0.05  # Significance level\n",
        "if p_value < alpha:\n",
        "    print(\"Reject the null hypothesis. There is a statistically significant difference \"\n",
        "          \"between the average salaries of male and female employees.\")\n",
        "else:\n",
        "    print(\"Fail to reject the null hypothesis. There is not enough evidence to conclude \"\n",
        "          \"a statistically significant difference between the average salaries.\")\n"
      ],
      "metadata": {
        "colab": {
          "base_uri": "https://localhost:8080/"
        },
        "id": "g_hGffQbkDVW",
        "outputId": "09943360-8322-44e1-c1ee-03f29c9287de"
      },
      "execution_count": null,
      "outputs": [
        {
          "output_type": "stream",
          "name": "stdout",
          "text": [
            "T-statistic: 0.06114208969631383\n",
            "P-value: 0.9515665020676465\n",
            "Fail to reject the null hypothesis. There is not enough evidence to conclude a statistically significant difference between the average salaries.\n"
          ]
        }
      ]
    },
    {
      "cell_type": "markdown",
      "source": [
        "## 19.A manufacturer produces two different versions of a product and wants to compare their quality scores. Create a Python function to analyze quality assessment data, calculate the t-statistic, and decide whether there's a significant difference in quality between the two versions.Use the following data:```python  version1_scores = [85, 88, 82, 89, 87, 84, 90, 88, 85, 86, 91, 83, 87, 84, 89, 86, 84, 88, 85, 86, 89, 90, 87, 88, 85] version2_scores = [80, 78, 83, 81, 79, 82, 76, 80, 78, 81, 77, 82, 80, 79, 82, 79, 80, 81, 79, 82, 79, 78, 80, 81, 82]\n",
        "\n",
        "### Ans"
      ],
      "metadata": {
        "id": "2We_UpAinjQX"
      }
    },
    {
      "cell_type": "code",
      "source": [
        "#given data\n",
        "version1_scores = [85, 88, 82, 89, 87, 84, 90, 88, 85, 86, 91, 83, 87, 84, 89, 86, 84, 88, 85, 86, 89, 90, 87, 88, 85]\n",
        "version2_scores = [80, 78, 83, 81, 79, 82, 76, 80, 78, 81, 77, 82, 80, 79, 82, 79, 80, 81, 79, 82, 79, 78, 80, 81, 82]\n",
        "\n",
        "#perform t-test\n",
        "t_statistic, p_value = stats.ttest_ind(version1_scores, version2_scores)\n",
        "\n",
        "#print results\n",
        "print(f\"T-statistic: {t_statistic}\")\n",
        "print(f\"P-value: {p_value}\")\n",
        "\n",
        "#interpetation of result\n",
        "alpha = 0.05  # Significance level\n",
        "if p_value < alpha:\n",
        "    print(\"Reject the null hypothesis. There is a statistically significant difference in quality between the two versions.\")\n",
        "else:\n",
        "    print(\"Fail to reject the null hypothesis. There is not enough evidence to conclude a statistically significant difference in quality between the two versions.\")"
      ],
      "metadata": {
        "colab": {
          "base_uri": "https://localhost:8080/"
        },
        "id": "dJP5vLnjns2f",
        "outputId": "562275dc-098d-4811-8ae1-fc4486256e6e"
      },
      "execution_count": null,
      "outputs": [
        {
          "output_type": "stream",
          "name": "stdout",
          "text": [
            "T-statistic: 11.325830417646698\n",
            "P-value: 3.6824250702873965e-15\n",
            "Reject the null hypothesis. There is a statistically significant difference in quality between the two versions.\n"
          ]
        }
      ]
    },
    {
      "cell_type": "markdown",
      "source": [
        "### 20. A restaurant chain collects customer satisfaction scores for two different branches. Write a program to analyze the scores, calculate the t-statistic, and determine if there's a statistically significant difference in customer satisfaction between the branches.Use the below data of scores:```python branch_a_scores = [4, 5, 3, 4, 5, 4, 5, 3, 4, 4, 5, 4, 4, 3, 4, 5, 5, 4, 3, 4, 5, 4, 3, 5, 4, 4, 5, 3, 4, 5, 4] branch_b_scores = [3, 4, 2, 3, 4, 3, 4, 2, 3, 3, 4, 3, 3, 2, 3, 4, 4, 3, 2, 3, 4, 3, 2, 4, 3, 3, 4, 2, 3, 4, 3]\n",
        "\n",
        "### Ans"
      ],
      "metadata": {
        "id": "bZhjkSfWptE4"
      }
    },
    {
      "cell_type": "code",
      "source": [
        "#given data\n",
        "Branch_A_scores = [4, 5, 3, 4, 5, 4, 5, 3, 4, 4, 5, 4, 4, 3, 4, 5, 5, 4, 3, 4, 5, 4, 3, 5, 4, 4, 5, 3, 4, 5, 4]\n",
        "Branch_B_scores = [3, 4, 2, 3, 4, 3, 4, 2, 3, 3, 4, 3, 3, 2, 3, 4, 4, 3, 2, 3, 4, 3, 2, 4, 3, 3, 4, 2, 3, 4, 3]\n",
        "\n",
        "#perform t-test\n",
        "t_statistic, p_value = stats.ttest_ind(Branch_A_scores, Branch_B_scores)\n",
        "\n",
        "#print results\n",
        "print(f\"T-statistic: {t_statistic}\")\n",
        "print(f\"P-value: {p_value}\")\n",
        "\n",
        "#interpretation of result\n",
        "alpha = 0.05  # Significance level\n",
        "if p_value < alpha:\n",
        "    print(\"Reject the null hypothesis. There is a statistically significant difference in customer satisfaction between the branches.\")\n",
        "else:\n",
        "    print(\"Fail to reject the null hypothesis. There is not enough evidence to conclude a statistically significant difference in customer satisfaction between the branches.\")"
      ],
      "metadata": {
        "colab": {
          "base_uri": "https://localhost:8080/"
        },
        "id": "IKjl1Kl4pcpo",
        "outputId": "b404f2ad-9361-4f13-d3ed-551acf4d03ae"
      },
      "execution_count": null,
      "outputs": [
        {
          "output_type": "stream",
          "name": "stdout",
          "text": [
            "T-statistic: 5.480077554195743\n",
            "P-value: 8.895290509945655e-07\n",
            "Reject the null hypothesis. There is a statistically significant difference in customer satisfaction between the branches.\n"
          ]
        }
      ]
    },
    {
      "cell_type": "markdown",
      "source": [
        "## 21. A political analyst wants to determine if there is a significant association between age groups and voter preferences (Candidate A or Candidate B). They collect data from a sample of 500 voters and classify them into different age groups and candidate preferences. Perform a Chi-Square test to determine if there is a significant association between age groups and voter preferences.\n",
        "\n",
        "\n",
        "## Use the below code to generate data:\n",
        "##```python  np.random.seed(0),age_groups = np.random.choice([ 18 30 , 31 50 , 51+', 51+'], size=30),voter_preferences = np.random.choice(['Candidate A', 'Candidate B'], size=30)```\n",
        "\n",
        "### Ans\n",
        "\n"
      ],
      "metadata": {
        "id": "739bnLLysEIq"
      }
    },
    {
      "cell_type": "code",
      "source": [
        "import numpy as np\n",
        "from scipy.stats import chi2_contingency\n",
        "import pandas as pd\n",
        "\n",
        "\n",
        "# Generate synthetic data (replace with actual data if available)\n",
        "np.random.seed(0)\n",
        "age_groups = np.random.choice(['18-30', '31-50', '51+'], size=500)\n",
        "voter_preferences = np.random.choice(['Candidate A', 'Candidate B'], size=500)\n",
        "\n",
        "# Create a contingency table\n",
        "contingency_table = pd.crosstab(age_groups, voter_preferences)\n",
        "\n",
        "# Perform the Chi-Square test\n",
        "chi2, p, dof, expected = chi2_contingency(contingency_table)\n",
        "\n",
        "# Print the results\n",
        "print(\"Contingency Table:\")\n",
        "print(contingency_table)\n",
        "print(\"\\nChi-Square Statistic:\", chi2)\n",
        "print(\"P-value:\", p)\n",
        "print(\"Degrees of Freedom:\", dof)\n",
        "print(\"Expected Frequencies:\")\n",
        "print(expected)\n",
        "\n",
        "# Interpret the results\n",
        "alpha = 0.05\n",
        "if p < alpha:\n",
        "    print(\"\\nReject the null hypothesis. There is a significant association between age groups and voter preferences.\")\n",
        "else:\n",
        "    print(\"\\nFail to reject the null hypothesis. There is no significant association between age groups and voter preferences.\")"
      ],
      "metadata": {
        "colab": {
          "base_uri": "https://localhost:8080/"
        },
        "id": "YMcU1jSKt2EP",
        "outputId": "d4e29fa1-9e59-4199-ac4d-63ff0c21c6c2"
      },
      "execution_count": null,
      "outputs": [
        {
          "output_type": "stream",
          "name": "stdout",
          "text": [
            "Contingency Table:\n",
            "col_0  Candidate A  Candidate B\n",
            "row_0                          \n",
            "18-30           95           87\n",
            "31-50           87           82\n",
            "51+             84           65\n",
            "\n",
            "Chi-Square Statistic: 0.8779923945254768\n",
            "P-value: 0.6446832311860852\n",
            "Degrees of Freedom: 2\n",
            "Expected Frequencies:\n",
            "[[96.824 85.176]\n",
            " [89.908 79.092]\n",
            " [79.268 69.732]]\n",
            "\n",
            "Fail to reject the null hypothesis. There is no significant association between age groups and voter preferences.\n"
          ]
        }
      ]
    },
    {
      "cell_type": "markdown",
      "source": [
        "##  22. A company conducted a customer satisfaction survey to determine if there is a significant relationship between product satisfaction levels (Satisfied, Neutral, Dissatisfied) and the region where customers are located (East, West, North, South). The survey data is summarized in a contingency table. Conduct a ChiSquare test to determine if there is a significant relationship between product satisfaction levels and customer regions.Sample data:```python Sample data: Product satisfaction levels (rows) vs. Customer regions (columns) data = np.array([[50, 30, 40, 20], [30, 40, 30, 50], [20, 30, 40, 30]])\n",
        "\n",
        "### Ans"
      ],
      "metadata": {
        "id": "n2Dv8WWbvQUq"
      }
    },
    {
      "cell_type": "code",
      "source": [
        "#given data\n",
        "data = np.array([[50, 30, 40, 20], [30, 40, 30, 50], [20, 30, 40, 30]])\n",
        "\n",
        "#perform chi-square test\n",
        "chi2, p, dof, expected = chi2_contingency(data)\n",
        "\n",
        "print(\"Chi-square statistic:\", chi2)\n",
        "print(\"P-value:\", p)\n",
        "print(\"Degrees of freedom:\", dof)\n",
        "print(\"Expected frequencies:\", expected)\n",
        "\n",
        "alpha = 0.05\n",
        "\n",
        "if p < alpha:\n",
        "    print(\"Reject the null hypothesis. There is a significant relationship between product satisfaction and customer regions.\")\n",
        "else:\n",
        "    print(\"Fail to reject the null hypothesis. There is no significant relationship between product satisfaction and customer regions.\")"
      ],
      "metadata": {
        "colab": {
          "base_uri": "https://localhost:8080/"
        },
        "id": "5EJ3LW3hvhsc",
        "outputId": "18a531d2-fbf8-48ef-cef5-27d220baa2d8"
      },
      "execution_count": null,
      "outputs": [
        {
          "output_type": "stream",
          "name": "stdout",
          "text": [
            "Chi-square statistic: 27.777056277056275\n",
            "P-value: 0.00010349448486004387\n",
            "Degrees of freedom: 6\n",
            "Expected frequencies: [[34.14634146 34.14634146 37.56097561 34.14634146]\n",
            " [36.58536585 36.58536585 40.24390244 36.58536585]\n",
            " [29.26829268 29.26829268 32.19512195 29.26829268]]\n",
            "Reject the null hypothesis. There is a significant relationship between product satisfaction and customer regions.\n"
          ]
        }
      ]
    },
    {
      "cell_type": "code",
      "source": [
        "#manuall calculated chi-square test with definanation\n",
        "import numpy as np\n",
        "from scipy.stats import chi2\n",
        "\n",
        "# Sample data\n",
        "data = np.array([[50, 30, 40, 20], [30, 40, 30, 50], [20,30, 40, 30]])\n",
        "\n",
        "# Calculate the expected frequencies\n",
        "row_totals = np.sum(data, axis=1)\n",
        "col_totals = np.sum(data, axis=0)\n",
        "total = np.sum(data)\n",
        "\n",
        "expected = np.outer(row_totals, col_totals) / total\n",
        "\n",
        "expected = np.where(data == 0, 0, expected)\n",
        "\n",
        "#calculate expected frequances print\n",
        "print(\"Expected Frequencies:\")\n",
        "print(expected)\n",
        "\n",
        "\n",
        "\n",
        "#calculate chi-squarfe test\n",
        "chi2_stat = np.sum((data - expected)**2 / expected)\n",
        "degrees_of_freedom = (data.shape[0] - 1) * (data.shape[1] - 1)\n",
        "\n",
        "#compare with critical value\n",
        "alpha=0.05\n",
        "critical_value = chi2.ppf(1-alpha, degrees_of_freedom)\n",
        "\n",
        "#print results\n",
        "print(\"Chi-square statistic:\", chi2_stat)\n",
        "print(\"Degrees of freedom:\", degrees_of_freedom)\n",
        "print(\"Critical value:\", critical_value)\n",
        "\n",
        "if chi2_stat >= critical_value:\n",
        "    print(\"Reject the null hypothesis. There is a significant relationship between product satisfaction and customer regions.\")\n",
        "else:\n",
        "    print(\"Fail to reject the null hypothesis. There is no significant relationship between product satisfaction and customer regions.\")"
      ],
      "metadata": {
        "colab": {
          "base_uri": "https://localhost:8080/"
        },
        "id": "b3i_49a3xWah",
        "outputId": "eae2b449-7cc8-451d-a89a-55493701776f"
      },
      "execution_count": null,
      "outputs": [
        {
          "output_type": "stream",
          "name": "stdout",
          "text": [
            "Expected Frequencies:\n",
            "[[34.14634146 34.14634146 37.56097561 34.14634146]\n",
            " [36.58536585 36.58536585 40.24390244 36.58536585]\n",
            " [29.26829268 29.26829268 32.19512195 29.26829268]]\n",
            "Chi-square statistic: 27.777056277056275\n",
            "Degrees of freedom: 6\n",
            "Critical value: 12.591587243743977\n",
            "Reject the null hypothesis. There is a significant relationship between product satisfaction and customer regions.\n"
          ]
        }
      ]
    },
    {
      "cell_type": "markdown",
      "source": [
        "## 23.A company implemented an employee training program to improve job performance (Effective, Neutral,Ineffective). After the training, they collected data from a sample of employees and classified them based on their job performance before and after the training. Perform a Chi-Square test to determine if there is a significant difference between job performance levels before and after the training. Sample data:```python Sample data: Job performance levels before (rows) and after (columns) training data = np.array([[50, 30, 20], [30, 40, 30], [20, 30, 40]])\n",
        "\n",
        "### Ans"
      ],
      "metadata": {
        "id": "PQsf9J7Aw9ip"
      }
    },
    {
      "cell_type": "code",
      "source": [
        "#given data\n",
        "data = np.array([[50, 30, 20], [30, 40, 30], [20, 30, 40]])\n",
        "\n",
        "#perform chi-square test\n",
        "chi2, p, dof, expected = chi2_contingency(data)\n",
        "\n",
        "print(f\"Chi-square statistic: {chi2:.5f}\")\n",
        "print(f\"P-value: {p:.5f}\")\n",
        "print(f\"Degrees of freedom: {dof}\")\n",
        "print(\"Expected frequencies:\\n\", expected)\n",
        "\n",
        "alpha = 0.05\n",
        "\n",
        "if p < alpha:\n",
        "    print(\"Reject the null hypothesis. There is a significant difference between job performance levels before and after the training.\")\n",
        "else:\n",
        "    print(\"Fail to reject the null hypothesis. There is no significant difference between job performance levels before and after the training.\")"
      ],
      "metadata": {
        "colab": {
          "base_uri": "https://localhost:8080/"
        },
        "id": "EPfV-tFzxUmp",
        "outputId": "a88b494e-f142-48d9-a091-15f9195f4916"
      },
      "execution_count": null,
      "outputs": [
        {
          "output_type": "stream",
          "name": "stdout",
          "text": [
            "Chi-square statistic: 22.16173\n",
            "P-value: 0.00019\n",
            "Degrees of freedom: 4\n",
            "Expected frequencies:\n",
            " [[34.48275862 34.48275862 31.03448276]\n",
            " [34.48275862 34.48275862 31.03448276]\n",
            " [31.03448276 31.03448276 27.93103448]]\n",
            "Reject the null hypothesis. There is a significant difference between job performance levels before and after the training.\n"
          ]
        }
      ]
    },
    {
      "cell_type": "markdown",
      "source": [
        "## 24. A company produces three different versions of a product: Standard, Premium, and Deluxe. The company wants to determine if there is a significant difference in customer satisfaction scores among the three product versions. They conducted a survey and collected customer satisfaction scores for each version from a random sample of customers. Perform an ANOVA test to determine if there is a significant difference in customer satisfaction scores. Use the following data:```python Sample data: Customer satisfaction scores for each product version standard_scores = [80, 85, 90, 78, 88, 82, 92, 78, 85, 87]premium_scores = [90, 92, 88, 92, 95, 91, 96, 93, 89, 93],deluxe_scores = [95, 98, 92, 97, 96, 94, 98, 97, 92, 99]\n",
        "\n",
        "### Ans"
      ],
      "metadata": {
        "id": "FB-7nEPL4mVL"
      }
    },
    {
      "cell_type": "code",
      "source": [
        "#given data\n",
        "standard_scores = [80, 85, 90, 78, 88, 82, 92, 78, 85, 87]\n",
        "premium_scores = [90, 92, 88, 92, 95, 91, 96, 93, 89, 93]\n",
        "deluxe_scores = [95, 98, 92, 97, 96, 94, 98, 97, 92, 99]\n",
        "\n",
        "# Perform ANOVA test\n",
        "f_statistic, p_value = stats.f_oneway(standard_scores, premium_scores, deluxe_scores)\n",
        "\n",
        "# Print the results\n",
        "print(f\"F-statistic: {f_statistic:.10f}\")\n",
        "print(f\"P-value: {p_value:.10f}\")\n",
        "\n",
        "# Interpret the results\n",
        "alpha = 0.05\n",
        "if p_value < alpha:\n",
        "    print(\"Reject the null hypothesis. There is a significant difference in customer satisfaction scores among the three product versions.\")\n",
        "else:\n",
        "    print(\"Fail to reject the null hypothesis. There is no significant difference in customer satisfaction scores among the three product versions.\")"
      ],
      "metadata": {
        "colab": {
          "base_uri": "https://localhost:8080/"
        },
        "id": "3uLvE6dD48Dv",
        "outputId": "7f506738-ac06-4510-837a-f2ccdd7d3a30"
      },
      "execution_count": null,
      "outputs": [
        {
          "output_type": "stream",
          "name": "stdout",
          "text": [
            "F-statistic: 27.0355623100\n",
            "P-value: 0.0000003579\n",
            "Reject the null hypothesis. There is a significant difference in customer satisfaction scores among the three product versions.\n"
          ]
        }
      ]
    },
    {
      "cell_type": "markdown",
      "source": [],
      "metadata": {
        "id": "qvOJ0Y3s8JHz"
      }
    },
    {
      "cell_type": "markdown",
      "source": [],
      "metadata": {
        "id": "KCOqCpoL9Xt0"
      }
    },
    {
      "cell_type": "markdown",
      "source": [],
      "metadata": {
        "id": "quU8F7pn9YGk"
      }
    },
    {
      "cell_type": "markdown",
      "source": [],
      "metadata": {
        "id": "2WjomSv99Yec"
      }
    },
    {
      "cell_type": "code",
      "source": [],
      "metadata": {
        "id": "n7P-G5mn9ZEL"
      },
      "execution_count": null,
      "outputs": []
    },
    {
      "cell_type": "code",
      "source": [],
      "metadata": {
        "id": "AKr8bqUc9Z7b"
      },
      "execution_count": null,
      "outputs": []
    },
    {
      "cell_type": "code",
      "source": [],
      "metadata": {
        "id": "YWCbiMzk9ai8"
      },
      "execution_count": null,
      "outputs": []
    },
    {
      "cell_type": "code",
      "source": [],
      "metadata": {
        "id": "eRHJ1A8_9Zgk"
      },
      "execution_count": null,
      "outputs": []
    },
    {
      "cell_type": "markdown",
      "source": [
        "## 23.A company implemented an employee training program to improve job performance (Effective, Neutral,Ineffective). After the training, they collected data from a sample of employees and classified them based on their job performance before and after the training. Perform a Chi-Square test to determine if there is a significant difference between job performance levels before and after the training. Sample data:```python Sample data: Job performance levels before (rows) and after (columns) training data = np.array([[50, 30, 20], [30, 40, 30], [20, 30, 40]])\n",
        "\n",
        "### Ans"
      ],
      "metadata": {
        "id": "R_jut2ug8K1y"
      }
    },
    {
      "cell_type": "code",
      "source": [],
      "metadata": {
        "id": "T6UpJWlx8OZM"
      },
      "execution_count": null,
      "outputs": []
    },
    {
      "cell_type": "code",
      "source": [
        "#given data\n",
        "data = np.array([[50, 30, 20], [30, 40, 30], [20, 30, 40]])\n",
        "\n",
        "#perform chi-square test\n",
        "chi2, p, dof, expected = chi2_contingency(data)\n",
        "\n",
        "print(f\"Chi-square statistic: {chi2:.5f}\")\n",
        "print(f\"P-value: {p:.5f}\")\n",
        "print(f\"Degrees of freedom: {dof}\")\n",
        "print(\"Expected frequencies:\\n\", expected)\n",
        "\n",
        "alpha = 0.05\n",
        "\n",
        "if p < alpha:\n",
        "    print(\"Reject the null hypothesis. There is a significant difference between job performance levels before and after the training.\")\n",
        "else:\n",
        "    print(\"Fail to reject the null hypothesis. There is no significant difference between job performance levels before and after the training.\")"
      ],
      "metadata": {
        "colab": {
          "base_uri": "https://localhost:8080/"
        },
        "outputId": "4019cc4e-81b0-4f13-f18a-f155470e2320",
        "id": "I-gSZvEz8OrU"
      },
      "execution_count": null,
      "outputs": [
        {
          "output_type": "stream",
          "name": "stdout",
          "text": [
            "Chi-square statistic: 22.16173\n",
            "P-value: 0.00019\n",
            "Degrees of freedom: 4\n",
            "Expected frequencies:\n",
            " [[34.48275862 34.48275862 31.03448276]\n",
            " [34.48275862 34.48275862 31.03448276]\n",
            " [31.03448276 31.03448276 27.93103448]]\n",
            "Reject the null hypothesis. There is a significant difference between job performance levels before and after the training.\n"
          ]
        }
      ]
    },
    {
      "cell_type": "markdown",
      "source": [],
      "metadata": {
        "id": "YvHJ8QRK8W0D"
      }
    },
    {
      "cell_type": "markdown",
      "source": [
        "## 24. A company produces three different versions of a product: Standard, Premium, and Deluxe. The company wants to determine if there is a significant difference in customer satisfaction scores among the three product versions. They conducted a survey and collected customer satisfaction scores for each version from a random sample of customers. Perform an ANOVA test to determine if there is a significant difference in customer satisfaction scores. Use the following data:```python Sample data: Customer satisfaction scores for each product version standard_scores = [80, 85, 90, 78, 88, 82, 92, 78, 85, 87]premium_scores = [90, 92, 88, 92, 95, 91, 96, 93, 89, 93],deluxe_scores = [95, 98, 92, 97, 96, 94, 98, 97, 92, 99]\n",
        "\n",
        "### Ans"
      ],
      "metadata": {
        "id": "ghGYzzgn8XTf"
      }
    },
    {
      "cell_type": "code",
      "source": [],
      "metadata": {
        "id": "NS9rrw_58YIE"
      },
      "execution_count": null,
      "outputs": []
    },
    {
      "cell_type": "code",
      "source": [
        "#given data\n",
        "standard_scores = [80, 85, 90, 78, 88, 82, 92, 78, 85, 87]\n",
        "premium_scores = [90, 92, 88, 92, 95, 91, 96, 93, 89, 93]\n",
        "deluxe_scores = [95, 98, 92, 97, 96, 94, 98, 97, 92, 99]\n",
        "\n",
        "# Perform ANOVA test\n",
        "f_statistic, p_value = stats.f_oneway(standard_scores, premium_scores, deluxe_scores)\n",
        "\n",
        "# Print the results\n",
        "print(f\"F-statistic: {f_statistic:.10f}\")\n",
        "print(f\"P-value: {p_value:.10f}\")\n",
        "\n",
        "# Interpret the results\n",
        "alpha = 0.05\n",
        "if p_value < alpha:\n",
        "    print(\"Reject the null hypothesis. There is a significant difference in customer satisfaction scores among the three product versions.\")\n",
        "else:\n",
        "    print(\"Fail to reject the null hypothesis. There is no significant difference in customer satisfaction scores among the three product versions.\")"
      ],
      "metadata": {
        "colab": {
          "base_uri": "https://localhost:8080/"
        },
        "outputId": "2ca5c152-eb94-4a0f-8b6b-dc7d1400c9ae",
        "id": "SQrczVKf8cI6"
      },
      "execution_count": null,
      "outputs": [
        {
          "output_type": "stream",
          "name": "stdout",
          "text": [
            "F-statistic: 27.0355623100\n",
            "P-value: 0.0000003579\n",
            "Reject the null hypothesis. There is a significant difference in customer satisfaction scores among the three product versions.\n"
          ]
        }
      ]
    }
  ],
  "metadata": {
    "colab": {
      "provenance": []
    },
    "kernelspec": {
      "display_name": "Python 3",
      "name": "python3"
    },
    "language_info": {
      "name": "python"
    }
  },
  "nbformat": 4,
  "nbformat_minor": 0
}