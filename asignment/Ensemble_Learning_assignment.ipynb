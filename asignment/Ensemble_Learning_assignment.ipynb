{
  "nbformat": 4,
  "nbformat_minor": 0,
  "metadata": {
    "colab": {
      "provenance": []
    },
    "kernelspec": {
      "name": "python3",
      "display_name": "Python 3"
    },
    "language_info": {
      "name": "python"
    }
  },
  "cells": [
    {
      "cell_type": "markdown",
      "source": [
        "\n",
        "Name:-Yash solanki\n",
        "\n",
        "Reg email id:-yash87015@gmail.com\n",
        "\n",
        "Course name:-Data analytic\n",
        "\n",
        "Assignment name:- Ensemble Learning assignment.\n",
        "\n",
        "Submission date:-11/3/2025\n",
        "\n",
        "Git link:-https://github.com/Yash87015/YASH (in git hub use assignment folder )"
      ],
      "metadata": {
        "id": "59R_NcAcfK4u"
      }
    },
    {
      "cell_type": "markdown",
      "source": [
        "# Theoretical\n",
        "\n"
      ],
      "metadata": {
        "id": "EB0mFZnlfYpF"
      }
    },
    {
      "cell_type": "markdown",
      "source": [
        "## Q1: Can we use Bagging for regression problems?  \n",
        "**Ans**: Yes, Bagging can be used for regression problems. It's called Bagging Regressor, where multiple models are trained on random samples and their predictions are averaged.\n",
        "\n",
        "## Q2: What is the difference between multiple model training and single model training?  \n",
        "**Ans**: Multiple model training involves training multiple models on different subsets or variations of the data. Single model training involves training only one model on the entire dataset.\n",
        "\n",
        "### Q3: Explain the concept of feature randomness in Random Forest.  \n",
        "**Ans**: Feature randomness in Random Forest means that for each split in a tree, only a random subset of features is considered, rather than all features. This helps create diverse trees and improves the model’s performance.\n",
        "\n",
        "### Q4: What is OOB (Out-of-Bag) Score?  \n",
        "**Ans**: OOB score is the accuracy of a Random Forest model evaluated using data points that were not included in a particular bootstrap sample for training a tree. It acts as a validation score.\n",
        "\n",
        "### Q5: How can you measure the importance of features in a Random Forest model?  \n",
        "**Ans**: Feature importance in Random Forest can be measured by looking at how much each feature contributes to reducing impurity (like Gini or entropy) in the trees.\n",
        "\n",
        "### Q6: Explain the working principle of a Bagging Classifier.  \n",
        "**Ans**: A Bagging Classifier works by training multiple classifiers on different random subsets of the training data and then combining their predictions (typically by majority vote for classification).\n",
        "\n",
        "### Q7: How do you evaluate a Bagging Classifiers performance?  \n",
        "**Ans**: The performance of a Bagging Classifier can be evaluated using metrics like accuracy, precision, recall, or F1-score, based on the problem.\n",
        "\n",
        "### Q8: How does a Bagging Regressor work?  \n",
        "**Ans**: A Bagging Regressor works by training multiple regressors on different bootstrap samples and averaging their predictions to get the final result.\n",
        "\n",
        "### Q9: What is the main advantage of ensemble techniques?  \n",
        "**Ans**: The main advantage of ensemble techniques is that they combine multiple models to improve accuracy and robustness, reducing the risk of overfitting.\n",
        "\n",
        "### Q10: What is the main challenge of ensemble methods?  \n",
        "**Ans**: The main challenge of ensemble methods is increased computation cost and complexity, as they require training multiple models.\n",
        "\n",
        "### Q11: Explain the key idea behind ensemble techniques.  \n",
        "**Ans**: The key idea of ensemble techniques is to combine multiple models to produce a more accurate and reliable prediction than any single model.\n",
        "\n",
        "### Q12: What is a Random Forest Classifier?  \n",
        "**Ans**: A Random Forest Classifier is an ensemble model made up of many decision trees. It makes predictions by combining the outputs of individual trees, usually via majority voting.\n",
        "\n",
        "### Q13: What are the main types of ensemble techniques?  \n",
        "**Ans**: The main types of ensemble techniques are Bagging, Boosting, and Stacking.\n",
        "\n",
        "### Q14: What is ensemble learning in machine learning?  \n",
        "**Ans**: Ensemble learning is a technique where multiple models are combined to improve prediction performance, typically reducing overfitting and bias.\n",
        "\n",
        "### Q15: When should we avoid using ensemble methods?  \n",
        "**Ans**: Ensemble methods should be avoided when computational efficiency is a concern or when there is a lack of sufficient data for training multiple models.\n",
        "\n",
        "### Q16: How does Bagging help in reducing overfitting?  \n",
        "**Ans**: Bagging reduces overfitting by averaging the predictions of multiple models, which helps smooth out noise and variance in the data.\n",
        "\n",
        "### Q17: Why is Random Forest better than a single Decision Tree?  \n",
        "**Ans**: Random Forest is better than a single Decision Tree because it reduces overfitting by averaging multiple trees and using feature randomness to improve generalization.\n",
        "\n",
        "### Q18: What is the role of bootstrap sampling in Bagging?  \n",
        "**Ans**: Bootstrap sampling is used in Bagging to create random subsets of the data, with replacement, for each model to train on. This helps in creating diverse models.\n",
        "\n",
        "### Q19: What are some real-world applications of ensemble techniques?  \n",
        "**Ans**: Real-world applications of ensemble techniques include fraud detection, recommendation systems, medical diagnosis, and predictive maintenance.\n",
        "\n",
        "### Q20: What is the difference between Bagging and Boosting?  \n",
        "**Ans**: Bagging trains models independently on random subsets of data and combines their predictions, while Boosting trains models sequentially, with each model focusing on the mistakes of the previous one to improve performance."
      ],
      "metadata": {
        "id": "Wlux_-_jf-xE"
      }
    },
    {
      "cell_type": "markdown",
      "source": [
        "# Practical"
      ],
      "metadata": {
        "id": "BVeKE8XjjRF8"
      }
    },
    {
      "cell_type": "code",
      "source": [
        "#import required library\n",
        "import pandas as pd\n",
        "import numpy as np\n",
        "import matplotlib.pyplot as plt\n",
        "import seaborn as sns\n",
        "import warnings\n",
        "warnings.filterwarnings('ignore')\n",
        "from sklearn.preprocessing import StandardScaler\n",
        "from sklearn.model_selection import train_test_split\n",
        "from sklearn.tree import DecisionTreeClassifier, DecisionTreeRegressor, plot_tree\n",
        "from sklearn.metrics import accuracy_score, classification_report, confusion_matrix, mean_squared_error, r2_score, RocCurveDisplay, mean_absolute_error, mean_squared_error, r2_score\n",
        "from sklearn.ensemble import RandomForestRegressor,BaggingRegressor,AdaBoostRegressor,VotingRegressor\n",
        "from sklearn.ensemble import RandomForestClassifier, BaggingClassifier, AdaBoostClassifier, VotingClassifier\n",
        "from sklearn.linear_model import LogisticRegression\n",
        "from sklearn.svm import SVC\n",
        "from sklearn.neighbors import KNeighborsClassifier\n",
        "from sklearn.model_selection import GridSearchCV,RandomizedSearchCV\n",
        "from sklearn.datasets import make_classification,make_regression\n",
        "from sklearn.datasets import load_iris,load_diabetes,fetch_california_housing,fetch_20newsgroups_vectorized,load_breast_cancer,load_wine,load_digits"
      ],
      "metadata": {
        "id": "PoLbGXpojuNK"
      },
      "execution_count": 1,
      "outputs": []
    },
    {
      "cell_type": "markdown",
      "source": [
        "### Q21. Train a Bagging Classifier using Decision Trees on a sample dataset and print model accuracy?\n",
        "**Ans**"
      ],
      "metadata": {
        "id": "ZCfPuJyLjU2K"
      }
    },
    {
      "cell_type": "code",
      "execution_count": 2,
      "metadata": {
        "id": "Fh4W_STFubHC",
        "colab": {
          "base_uri": "https://localhost:8080/"
        },
        "outputId": "58cf0cc7-69bf-473e-da37-eb69623d6627"
      },
      "outputs": [
        {
          "output_type": "stream",
          "name": "stdout",
          "text": [
            "Accuracy: 1.0\n"
          ]
        }
      ],
      "source": [
        "data = load_iris()\n",
        "X = data.data\n",
        "y = data.target\n",
        "X_train, X_test, y_train, y_test = train_test_split(X, y, test_size=0.2, random_state=42)\n",
        "\n",
        "#model with baggong classifier\n",
        "bagging_clf = BaggingClassifier(estimator=DecisionTreeClassifier(), n_estimators=10, random_state=42)\n",
        "bagging_clf.fit(X_train, y_train)\n",
        "y_pred = bagging_clf.predict(X_test)\n",
        "accuracy = accuracy_score(y_test, y_pred)\n",
        "print(f\"Accuracy: {accuracy}\")\n"
      ]
    },
    {
      "cell_type": "markdown",
      "source": [
        "### Q22. Train a Bagging Regressor using Decision Trees and evaluate using Mean Squared Error (MSE)?\n",
        "**Ans**"
      ],
      "metadata": {
        "id": "jMhWDzbymRVR"
      }
    },
    {
      "cell_type": "code",
      "source": [
        "data = load_diabetes()\n",
        "df = pd.DataFrame(data.data, columns=data.feature_names)\n",
        "df['target'] = data.target\n",
        "X = df.drop('target', axis=1)\n",
        "y = df['target']\n",
        "X_train, X_test, y_train, y_test = train_test_split(X, y, test_size=0.3, random_state=42)\n",
        "#model bagging regressor\n",
        "bagging_reg = BaggingRegressor(estimator=DecisionTreeRegressor(), n_estimators=700, random_state=42)\n",
        "bagging_reg.fit(X_train, y_train)\n",
        "y_pred = bagging_reg.predict(X_test)\n",
        "mse = mean_squared_error(y_test, y_pred)\n",
        "print(f\"Mean Squared Error: {mse}\")\n",
        "print(f\"R2 Score: {r2_score(y_test, y_pred)}\")"
      ],
      "metadata": {
        "colab": {
          "base_uri": "https://localhost:8080/"
        },
        "id": "M-EYoybvl_Ee",
        "outputId": "adb52728-35c5-4780-d864-5b8350464b4a"
      },
      "execution_count": 3,
      "outputs": [
        {
          "output_type": "stream",
          "name": "stdout",
          "text": [
            "Mean Squared Error: 2865.891725272365\n",
            "R2 Score: 0.469112942113705\n"
          ]
        }
      ]
    },
    {
      "cell_type": "markdown",
      "source": [
        "### Q23.Train a Random Forest Classifier on the Breast Cancer dataset and print feature importance scores?\n",
        "**Ans**"
      ],
      "metadata": {
        "id": "8u-J3DuInkXJ"
      }
    },
    {
      "cell_type": "code",
      "source": [
        "data = load_breast_cancer()\n",
        "df = pd.DataFrame(data.data, columns=data.feature_names)\n",
        "df['target'] = data.target\n",
        "\n",
        "X = df.drop('target', axis=1)\n",
        "y = df['target']\n",
        "\n",
        "X_train, X_test, y_train, y_test = train_test_split(X, y, test_size=0.2, random_state=42)\n",
        "\n",
        "#model random forest classifier\n",
        "rf_clf = RandomForestClassifier(n_estimators=100, random_state=42)\n",
        "rf_clf.fit(X_train, y_train)\n",
        "y_pred = rf_clf.predict(X_test)\n",
        "accuracy = accuracy_score(y_test, y_pred)\n",
        "print(f\"accuracy:\",accuracy)\n",
        "\n",
        "for feature, importance in zip(X.columns, rf_clf.feature_importances_):\n",
        "    print(f\"{feature}: {importance}\")\n"
      ],
      "metadata": {
        "colab": {
          "base_uri": "https://localhost:8080/"
        },
        "id": "_UnVJkyUnKby",
        "outputId": "d9eaff04-9ef5-4f9c-8251-92d482adc76d"
      },
      "execution_count": 4,
      "outputs": [
        {
          "output_type": "stream",
          "name": "stdout",
          "text": [
            "accuracy: 0.9649122807017544\n",
            "mean radius: 0.048703371737755234\n",
            "mean texture: 0.013590877656998469\n",
            "mean perimeter: 0.053269746128179675\n",
            "mean area: 0.04755500886018552\n",
            "mean smoothness: 0.007285327830663239\n",
            "mean compactness: 0.013944325074050485\n",
            "mean concavity: 0.06800084191430111\n",
            "mean concave points: 0.10620998844591638\n",
            "mean symmetry: 0.003770291819290666\n",
            "mean fractal dimension: 0.0038857721093275\n",
            "radius error: 0.02013891719419153\n",
            "texture error: 0.004723988073894702\n",
            "perimeter error: 0.01130301388178435\n",
            "area error: 0.022406960160458473\n",
            "smoothness error: 0.004270910110504497\n",
            "compactness error: 0.005253215538990106\n",
            "concavity error: 0.009385832251596627\n",
            "concave points error: 0.003513255105598506\n",
            "symmetry error: 0.004018418617722808\n",
            "fractal dimension error: 0.00532145634222884\n",
            "worst radius: 0.07798687515738047\n",
            "worst texture: 0.021749011006763207\n",
            "worst perimeter: 0.06711483267839194\n",
            "worst area: 0.15389236463205394\n",
            "worst smoothness: 0.010644205147280952\n",
            "worst compactness: 0.020266035899623565\n",
            "worst concavity: 0.031801595740040434\n",
            "worst concave points: 0.14466326620735528\n",
            "worst symmetry: 0.010120176131974357\n",
            "worst fractal dimension: 0.005210118545497296\n"
          ]
        }
      ]
    },
    {
      "cell_type": "markdown",
      "source": [
        "### Q24. Train a Random Forest Regressor and compare its performance with a single Decision Tree?\n",
        "**Ans**"
      ],
      "metadata": {
        "id": "zZYTsUSKtJfm"
      }
    },
    {
      "cell_type": "code",
      "source": [
        "data = fetch_california_housing()\n",
        "df = pd.DataFrame(data.data, columns=data.feature_names)\n",
        "df['target'] = data.target\n",
        "\n",
        "X = df.drop('target', axis=1)\n",
        "y = df['target']\n",
        "\n",
        "X_train, X_test, y_train, y_test = train_test_split(X, y, test_size=0.3, random_state=42)\n",
        "\n",
        "#single descion tree regressor\n",
        "dt_reg = DecisionTreeRegressor(random_state=42)\n",
        "dt_reg.fit(X_train, y_train)\n",
        "y_pred = dt_reg.predict(X_test)\n",
        "mse_dt = mean_squared_error(y_test, y_pred)\n",
        "print(f\"Mean Squared Error (Decision Tree): {mse_dt}\")\n",
        "print(f\"R2 Score: {r2_score(y_test, y_pred)}\")\n",
        "\n",
        "#random forest regressor\n",
        "rf_reg = RandomForestRegressor(n_estimators=100, random_state=42)\n",
        "rf_reg.fit(X_train, y_train)\n",
        "y_pred = rf_reg.predict(X_test)\n",
        "mse_rf = mean_squared_error(y_test, y_pred)\n",
        "print(f\"Mean Squared Error (Random Forest): {mse_rf}\")\n",
        "print(f\"R2 Score: {r2_score(y_test, y_pred)}\")\n",
        "\n",
        "#compare\n",
        "if mse_dt < mse_rf:\n",
        "    print(\"Decision Tree performs better.\")\n",
        "else:\n",
        "    print(\"Random Forest performs better.\")"
      ],
      "metadata": {
        "colab": {
          "base_uri": "https://localhost:8080/"
        },
        "id": "kj7Xz0v9qjbt",
        "outputId": "22f07c91-82b7-44fa-c612-94ea6540dc79"
      },
      "execution_count": 5,
      "outputs": [
        {
          "output_type": "stream",
          "name": "stdout",
          "text": [
            "Mean Squared Error (Decision Tree): 0.5280096503174904\n",
            "R2 Score: 0.5977192261218356\n",
            "Mean Squared Error (Random Forest): 0.25650512920799395\n",
            "R2 Score: 0.8045734925119942\n",
            "Random Forest performs better.\n"
          ]
        }
      ]
    },
    {
      "cell_type": "markdown",
      "source": [
        "### Q25. Compute the Out-of-Bag (OOB) Score for a Random Forest Classifier?\n",
        "**Ans**"
      ],
      "metadata": {
        "id": "Ua1GyB2HEE5m"
      }
    },
    {
      "cell_type": "code",
      "source": [
        "data = load_wine()\n",
        "df = pd.DataFrame(data.data, columns=data.feature_names)\n",
        "df['target'] = data.target\n",
        "\n",
        "X = df.drop('target', axis=1)\n",
        "y = df['target']\n",
        "\n",
        "X_train, X_test, y_train, y_test = train_test_split(X, y, test_size=0.2, random_state=42)\n",
        "\n",
        "#model random forest classifier\n",
        "rf_clf = RandomForestClassifier(n_estimators=100, random_state=42, oob_score=True)\n",
        "rf_clf.fit(X_train, y_train)\n",
        "y_pred = rf_clf.predict(X_test)\n",
        "\n",
        "accuracy = accuracy_score(y_test, y_pred)\n",
        "print(f\"accuracy:\",accuracy)\n",
        "oob_score = rf_clf.oob_score_\n",
        "print(f\"OOB Score: {oob_score}\")\n",
        "\n"
      ],
      "metadata": {
        "colab": {
          "base_uri": "https://localhost:8080/"
        },
        "id": "ipWcnldYv7u_",
        "outputId": "2a14c8c5-f358-43bd-dd8a-dd61aff3ab04"
      },
      "execution_count": 6,
      "outputs": [
        {
          "output_type": "stream",
          "name": "stdout",
          "text": [
            "accuracy: 1.0\n",
            "OOB Score: 0.9647887323943662\n"
          ]
        }
      ]
    },
    {
      "cell_type": "markdown",
      "source": [
        "### Q26. Train a Bagging Classifier using SVM as a base estimator and print accuracy?\n",
        "**Ans**"
      ],
      "metadata": {
        "id": "n6o4ROXzEuJ9"
      }
    },
    {
      "cell_type": "code",
      "source": [
        "data = load_breast_cancer()\n",
        "df = pd.DataFrame(data.data, columns=data.feature_names)\n",
        "df['target'] = data.target\n",
        "X = df.drop('target', axis=1)\n",
        "y = df['target']\n",
        "X_train, X_test, y_train, y_test = train_test_split(X, y, test_size=0.2, random_state=42)\n",
        "\n",
        "#model bagging classifier\n",
        "bagging_clf = BaggingClassifier(estimator=SVC(), n_estimators=40, random_state=42)\n",
        "\n",
        "bagging_clf.fit(X_train, y_train)\n",
        "y_pred = bagging_clf.predict(X_test)\n",
        "accuracy = accuracy_score(y_test, y_pred)\n",
        "print(f\"Accuracy: {accuracy}\")\n"
      ],
      "metadata": {
        "colab": {
          "base_uri": "https://localhost:8080/"
        },
        "id": "qskNwlNyEmBA",
        "outputId": "22b74b0f-19ba-46e6-b430-96cd6aef1582"
      },
      "execution_count": 7,
      "outputs": [
        {
          "output_type": "stream",
          "name": "stdout",
          "text": [
            "Accuracy: 0.9473684210526315\n"
          ]
        }
      ]
    },
    {
      "cell_type": "markdown",
      "source": [
        "### Q27. Train a Random Forest Classifier with different numbers of trees and compare accuracy?\n",
        "**Ans**"
      ],
      "metadata": {
        "id": "j5JM6nBVwvBz"
      }
    },
    {
      "cell_type": "code",
      "source": [
        "data = load_digits()\n",
        "df = pd.DataFrame(data.data, columns=data.feature_names)\n",
        "df['target'] = data.target\n",
        "X = df.drop('target', axis=1)\n",
        "y = df['target']\n",
        "X_train, X_test , y_train, y_test = train_test_split(X, y, test_size=0.2, random_state=42)\n",
        "\n",
        "#model random forest classifier\n",
        "rf_clf = RandomForestClassifier(random_state=42)\n",
        "param_grid = {'n_estimators': [50, 100, 200, 300, 400]}\n",
        "\n",
        "accuracy = []\n",
        "for n_estimators in param_grid['n_estimators']:\n",
        "    rf_clf.set_params(n_estimators=n_estimators)\n",
        "    rf_clf.fit(X_train, y_train)\n",
        "    y_pred = rf_clf.predict(X_test)\n",
        "    accuracy.append(accuracy_score(y_test, y_pred))\n",
        "    print(f\"Accuracy with {n_estimators} trees: {accuracy_score(y_test, y_pred)}\")"
      ],
      "metadata": {
        "colab": {
          "base_uri": "https://localhost:8080/"
        },
        "id": "ddSAmBYQHSPt",
        "outputId": "547e3e03-5ad6-4655-99f2-0add4477c792"
      },
      "execution_count": 8,
      "outputs": [
        {
          "output_type": "stream",
          "name": "stdout",
          "text": [
            "Accuracy with 50 trees: 0.9722222222222222\n",
            "Accuracy with 100 trees: 0.9722222222222222\n",
            "Accuracy with 200 trees: 0.9694444444444444\n",
            "Accuracy with 300 trees: 0.975\n",
            "Accuracy with 400 trees: 0.975\n"
          ]
        }
      ]
    },
    {
      "cell_type": "markdown",
      "source": [
        "### Q28. Train a Bagging Classifier using Logistic Regression as a base estimator and print AUC score?\n",
        "**Ans**"
      ],
      "metadata": {
        "id": "TR3806hw2jaf"
      }
    },
    {
      "cell_type": "code",
      "source": [
        "data = load_breast_cancer()\n",
        "df = pd.DataFrame(data.data, columns=data.feature_names)\n",
        "df['target'] = data.target\n",
        "\n",
        "X = df.drop('target', axis=1)\n",
        "y = df['target']\n",
        "\n",
        "X_train, X_test, y_train, y_test = train_test_split(X, y, test_size=0.2, random_state=42)\n",
        "\n",
        "#model bagging classifier\n",
        "bagging_clf = BaggingClassifier(estimator=LogisticRegression(), n_estimators=10, random_state=42)\n",
        "bagging_clf.fit(X_train, y_train)\n",
        "y_pred = bagging_clf.predict(X_test)\n",
        "accuracy = accuracy_score(y_test, y_pred)\n",
        "print(f\"Accuracy: {accuracy}\")\n",
        "\n",
        "#auc score\n",
        "from sklearn.metrics import roc_auc_score\n",
        "y_pred_proba = bagging_clf.predict_proba(X_test)[:, 1]\n",
        "auc = roc_auc_score(y_test, y_pred_proba)\n",
        "print(f\"AUC Score: {auc}\")\n",
        "print(f'classification report:\\n{classification_report(y_test, y_pred)}')\n"
      ],
      "metadata": {
        "colab": {
          "base_uri": "https://localhost:8080/"
        },
        "id": "LudKtU6B1zPZ",
        "outputId": "571e67c8-fdcc-4258-8cb0-82511eb6af58"
      },
      "execution_count": 9,
      "outputs": [
        {
          "output_type": "stream",
          "name": "stdout",
          "text": [
            "Accuracy: 0.9649122807017544\n",
            "AUC Score: 0.9977071732721913\n",
            "classification report:\n",
            "              precision    recall  f1-score   support\n",
            "\n",
            "           0       0.98      0.93      0.95        43\n",
            "           1       0.96      0.99      0.97        71\n",
            "\n",
            "    accuracy                           0.96       114\n",
            "   macro avg       0.97      0.96      0.96       114\n",
            "weighted avg       0.97      0.96      0.96       114\n",
            "\n"
          ]
        }
      ]
    },
    {
      "cell_type": "markdown",
      "source": [
        "### Q29. Train a Random Forest Regressor and analyze feature importance scores?\n",
        "**Ans**"
      ],
      "metadata": {
        "id": "gtO2wFkT4MMv"
      }
    },
    {
      "cell_type": "code",
      "source": [
        "data = fetch_california_housing()\n",
        "df = pd.DataFrame(data.data, columns=data.feature_names)\n",
        "df['target'] = data.target\n",
        "\n",
        "X = df.drop('target', axis=1)\n",
        "y = df['target']\n",
        "\n",
        "X_train, X_test, y_train, y_test = train_test_split(X, y, test_size=0.3, random_state=42)\n",
        "\n",
        "#random forest regressor\n",
        "rf_reg = RandomForestRegressor(n_estimators=100, random_state=42)\n",
        "rf_reg.fit(X_train, y_train)\n",
        "y_pred = rf_reg.predict(X_test)\n",
        "mse = mean_squared_error(y_test, y_pred)\n",
        "print(f\"Mean Squared Error: {mse}\")\n",
        "print(f\"R2 Score: {r2_score(y_test, y_pred)}\")\n",
        "\n",
        "#feature imporatance\n",
        "for feature, importance in zip(X.columns, rf_reg.feature_importances_):\n",
        "    print(f\"{feature}: {importance}\")"
      ],
      "metadata": {
        "colab": {
          "base_uri": "https://localhost:8080/"
        },
        "id": "sIt3vE4t3jfP",
        "outputId": "2f933181-85a9-4ecf-bbd9-c577c5b950e8"
      },
      "execution_count": 10,
      "outputs": [
        {
          "output_type": "stream",
          "name": "stdout",
          "text": [
            "Mean Squared Error: 0.25650512920799395\n",
            "R2 Score: 0.8045734925119942\n",
            "MedInc: 0.5260109842753186\n",
            "HouseAge: 0.05465403794347876\n",
            "AveRooms: 0.04718824566150784\n",
            "AveBedrms: 0.02999453307261222\n",
            "Population: 0.031721806473035755\n",
            "AveOccup: 0.13821986994513355\n",
            "Latitude: 0.08608613054646935\n",
            "Longitude: 0.08612439208244402\n"
          ]
        }
      ]
    },
    {
      "cell_type": "markdown",
      "source": [
        "### Q30. Train an ensemble model using both Bagging and Random Forest and compare accuracy.?\n",
        "**Ans**\n"
      ],
      "metadata": {
        "id": "g8eLEXpMyasJ"
      }
    },
    {
      "cell_type": "code",
      "source": [
        "data = load_digits()\n",
        "df = pd.DataFrame(data.data, columns=data.feature_names)\n",
        "df['target'] = data.target\n",
        "\n",
        "x = df.drop(axis=1, columns='target')\n",
        "y = df['target']\n",
        "\n",
        "x_train, x_test, y_train, y_test = train_test_split(x, y, test_size=0.2, random_state=42)\n",
        "\n",
        "#bagging model\n",
        "bagging_clf = BaggingClassifier(estimator=DecisionTreeClassifier(), n_estimators=10, random_state=42)\n",
        "bagging_clf.fit(x_train, y_train)\n",
        "y_pred_bagging = bagging_clf.predict(x_test)\n",
        "accuracy_bagging = accuracy_score(y_test, y_pred_bagging)\n",
        "print(f\"Accuracy with Bagging: {accuracy_bagging}\")\n",
        "\n",
        "#random forest model\n",
        "rf_clf = RandomForestClassifier(n_estimators=100, random_state=42)\n",
        "rf_clf.fit(x_train, y_train)\n",
        "y_pred_rf = rf_clf.predict(x_test)\n",
        "accuracy_rf = accuracy_score(y_test, y_pred_rf)\n",
        "print(f\"Accuracy with Random Forest: {accuracy_rf}\")\n",
        "\n",
        "#compare\n",
        "if accuracy_bagging > accuracy_rf:\n",
        "    print(\"Bagging performs better.\")\n",
        "else:\n",
        "    print(\"Random Forest performs better.\")"
      ],
      "metadata": {
        "id": "ifE0uQZD5uXt",
        "colab": {
          "base_uri": "https://localhost:8080/"
        },
        "outputId": "a545c38f-e16f-4aaf-b0db-064d02283ed7"
      },
      "execution_count": 11,
      "outputs": [
        {
          "output_type": "stream",
          "name": "stdout",
          "text": [
            "Accuracy with Bagging: 0.9444444444444444\n",
            "Accuracy with Random Forest: 0.9722222222222222\n",
            "Random Forest performs better.\n"
          ]
        }
      ]
    },
    {
      "cell_type": "markdown",
      "source": [
        "### Q31. Train a Random Forest Classifier and tune hyperparameters using GridSearchCV?\n",
        "**Ans**"
      ],
      "metadata": {
        "id": "jItMpN4L1C1h"
      }
    },
    {
      "cell_type": "code",
      "source": [
        "data = load_breast_cancer()\n",
        "df = pd.DataFrame(data.data, columns=data.feature_names)\n",
        "df['target']=data.target\n",
        "\n",
        "x=df.drop(axis=1,columns='target')\n",
        "y=df['target']\n",
        "\n",
        "x_train,x_test,y_train,y_test=train_test_split(x,y,test_size=0.2,random_state=42)\n",
        "\n",
        "#random forest classifier\n",
        "rf_clf=RandomForestClassifier(random_state=42)\n",
        "param_grid = {\n",
        "    'n_estimators': [50, 100,150],'max_depth': [None, 10, 20, 30],\n",
        "    'min_samples_split': [2,3,10],'min_samples_leaf': [1, 2, 4]\n",
        "}\n",
        "\n",
        "grid_search = GridSearchCV(estimator=rf_clf, param_grid=param_grid, cv=5, scoring='accuracy')\n",
        "grid_search.fit(x_train, y_train)\n",
        "best_params = grid_search.best_params_\n",
        "best_rf_clf = grid_search.best_estimator_\n",
        "y_pred = best_rf_clf.predict(x_test)\n",
        "accuracy = accuracy_score(y_test, y_pred)\n",
        "print(f\"Best Hyperparameters: {best_params}\")\n",
        "print(f\"Accuracy: {accuracy}\")\n"
      ],
      "metadata": {
        "colab": {
          "base_uri": "https://localhost:8080/"
        },
        "id": "TOzpdEAF0Oec",
        "outputId": "da2f2305-a842-45b4-9bee-f17af02038d2"
      },
      "execution_count": 12,
      "outputs": [
        {
          "output_type": "stream",
          "name": "stdout",
          "text": [
            "Best Hyperparameters: {'max_depth': None, 'min_samples_leaf': 1, 'min_samples_split': 3, 'n_estimators': 150}\n",
            "Accuracy: 0.9649122807017544\n"
          ]
        }
      ]
    },
    {
      "cell_type": "markdown",
      "source": [
        "### Q32.  Train a Bagging Regressor with different numbers of base estimators and compare performance?\n",
        "**Ans**"
      ],
      "metadata": {
        "id": "lA3dnzbN7W7J"
      }
    },
    {
      "cell_type": "code",
      "source": [
        "data = fetch_california_housing()\n",
        "df = pd.DataFrame(data.data, columns=data.feature_names)\n",
        "df['target'] = data.target\n",
        "\n",
        "x = df.drop('target', axis=1)\n",
        "y = df['target']\n",
        "\n",
        "x_train, x_test, y_train, y_test = train_test_split(x, y, test_size=0.3, random_state=42)\n",
        "\n",
        "#bagging regressor\n",
        "estimators = [10, 50, 100, 200]\n",
        "for n_estimators in estimators:\n",
        "    bagging_reg = BaggingRegressor(estimator=DecisionTreeRegressor(), n_estimators=n_estimators, random_state=42)\n",
        "    bagging_reg.fit(x_train, y_train)\n",
        "    y_pred = bagging_reg.predict(x_test)\n",
        "    mse = mean_squared_error(y_test, y_pred)\n",
        "    print(f\"Mean Squared Error with {n_estimators} estimators: {mse}\")\n",
        "    print(f\"R2 Score: {r2_score(y_test, y_pred)}\")\n",
        "    print()"
      ],
      "metadata": {
        "colab": {
          "base_uri": "https://localhost:8080/"
        },
        "id": "8OnBkhuZ2RyA",
        "outputId": "c25c39ac-79a1-4340-f55e-95cb6a6032aa"
      },
      "execution_count": 13,
      "outputs": [
        {
          "output_type": "stream",
          "name": "stdout",
          "text": [
            "Mean Squared Error with 10 estimators: 0.28623579601385674\n",
            "R2 Score: 0.7819222480823047\n",
            "\n",
            "Mean Squared Error with 50 estimators: 0.25787382250585034\n",
            "R2 Score: 0.8035307104364535\n",
            "\n",
            "Mean Squared Error with 100 estimators: 0.2568358813508342\n",
            "R2 Score: 0.8043214985798688\n",
            "\n",
            "Mean Squared Error with 200 estimators: 0.2541650541215747\n",
            "R2 Score: 0.8063563523823236\n",
            "\n"
          ]
        }
      ]
    },
    {
      "cell_type": "markdown",
      "source": [
        "### Q33. Train a Random Forest Classifier and analyze misclassified samples?\n",
        "**Ans**"
      ],
      "metadata": {
        "id": "MtuVFmiS9aTJ"
      }
    },
    {
      "cell_type": "code",
      "source": [
        "data = load_breast_cancer()\n",
        "df = pd.DataFrame(data.data, columns=data.feature_names)\n",
        "df['target'] = data.target\n",
        "\n",
        "x = df.drop('target', axis=1)\n",
        "y = df['target']\n",
        "\n",
        "x_train, x_test, y_train, y_test = train_test_split(x, y, test_size=0.3, random_state=42)\n",
        "\n",
        "#random forest classifier\n",
        "rf_clf = RandomForestClassifier(n_estimators=100, random_state=42)\n",
        "rf_clf.fit(x_train, y_train)\n",
        "y_pred = rf_clf.predict(x_test)\n",
        "\n",
        "#evalute\n",
        "accuracy = accuracy_score(y_test, y_pred)\n",
        "print(f\"Accuracy: {accuracy}\")\n",
        "\n",
        "#identify misclasiify data\n",
        "misclassified_indices = np.where(y_pred != y_test)[0]\n",
        "\n",
        "#dataframe\n",
        "misclassified_samples = pd.DataFrame({\n",
        "    'True Label': y_test.iloc[misclassified_indices],\n",
        "    'Predicted Label': y_pred[misclassified_indices],\n",
        "    'Feature Values': x_test.iloc[misclassified_indices].values.tolist()\n",
        "})\n",
        "\n",
        "#display\n",
        "print(\"Misclassified Samples:\")\n",
        "print(misclassified_samples)\n"
      ],
      "metadata": {
        "id": "8llX2RCx76p7",
        "colab": {
          "base_uri": "https://localhost:8080/"
        },
        "outputId": "cb3810ea-e779-4595-9057-d3bd38737c64"
      },
      "execution_count": 14,
      "outputs": [
        {
          "output_type": "stream",
          "name": "stdout",
          "text": [
            "Accuracy: 0.9707602339181286\n",
            "Misclassified Samples:\n",
            "     True Label  Predicted Label  \\\n",
            "81            1                0   \n",
            "73            0                1   \n",
            "255           0                1   \n",
            "86            0                1   \n",
            "414           0                1   \n",
            "\n",
            "                                        Feature Values  \n",
            "81   [13.34, 15.86, 86.49, 520.0, 0.1078, 0.1535, 0...  \n",
            "73   [13.8, 15.79, 90.43, 584.1, 0.1007, 0.128, 0.0...  \n",
            "255  [13.96, 17.05, 91.43, 602.4, 0.1096, 0.1279, 0...  \n",
            "86   [14.48, 21.46, 94.25, 648.2, 0.09444, 0.09947,...  \n",
            "414  [15.13, 29.81, 96.71, 719.5, 0.0832, 0.04605, ...  \n"
          ]
        }
      ]
    },
    {
      "cell_type": "markdown",
      "source": [
        "### Q34.  Train a Bagging Classifier and compare its performance with a single Decision Tree Classifier?\n",
        "**Ans**\n"
      ],
      "metadata": {
        "id": "jN2wPGWnhRcy"
      }
    },
    {
      "cell_type": "code",
      "source": [
        "data = load_breast_cancer()\n",
        "df = pd.DataFrame(data.data, columns=data.feature_names)\n",
        "df['target'] = data.target\n",
        "\n",
        "x = df.drop('target', axis=1)\n",
        "y = df['target']\n",
        "\n",
        "x_train, x_test, y_train, y_test = train_test_split(x, y, test_size=0.2, random_state=42)\n",
        "\n",
        "#bagging classifier\n",
        "bagging_clf = BaggingClassifier(estimator=DecisionTreeClassifier(), n_estimators=10, random_state=42)\n",
        "bagging_clf.fit(x_train, y_train)\n",
        "y_pred_bagging = bagging_clf.predict(x_test)\n",
        "accuracy_bagging = accuracy_score(y_test, y_pred_bagging)\n",
        "print(f\"Accuracy with Bagging: {accuracy_bagging}\")\n",
        "\n",
        "#single decision tree classifier\n",
        "dt_clf = DecisionTreeClassifier()\n",
        "dt_clf.fit(x_train, y_train)\n",
        "y_pred_dt = dt_clf.predict(x_test)\n",
        "accuracy_dt = accuracy_score(y_test, y_pred_dt)\n",
        "print(f\"Accuracy with Single Decision Tree: {accuracy_dt}\")\n",
        "\n",
        "#compare\n",
        "if accuracy_bagging > accuracy_dt:\n",
        "    print(\"Bagging performs better.\")\n",
        "else:\n",
        "    print(\"Single Decision Tree performs better.\")"
      ],
      "metadata": {
        "colab": {
          "base_uri": "https://localhost:8080/"
        },
        "id": "XHzgze-uepT3",
        "outputId": "ce73b6a9-b8e1-4401-ac0f-6a110ee5677e"
      },
      "execution_count": 15,
      "outputs": [
        {
          "output_type": "stream",
          "name": "stdout",
          "text": [
            "Accuracy with Bagging: 0.956140350877193\n",
            "Accuracy with Single Decision Tree: 0.9385964912280702\n",
            "Bagging performs better.\n"
          ]
        }
      ]
    },
    {
      "cell_type": "markdown",
      "source": [
        "### Q35.Train a Random Forest Classifier and visualize the confusion matrix?\n",
        "**Ans**"
      ],
      "metadata": {
        "id": "QgEEQowFiEgK"
      }
    },
    {
      "cell_type": "code",
      "source": [
        "data = load_breast_cancer()\n",
        "df= pd.DataFrame(data.data, columns=data.feature_names)\n",
        "df['target'] = data.target\n",
        "\n",
        "x=df.drop(axis=1,columns='target')\n",
        "y=df['target']\n",
        "\n",
        "x_train,x_test,y_train,y_test=train_test_split(x,y,test_size=0.2,random_state=42)\n",
        "\n",
        "#RFC\n",
        "rf_clf=RandomForestClassifier(n_estimators=100,random_state=42)\n",
        "rf_clf.fit(x_train,y_train)\n",
        "y_pred=rf_clf.predict(x_test)\n",
        "accuracy=accuracy_score(y_test,y_pred)\n",
        "print(f\"Accuracy: {accuracy}\")\n",
        "\n",
        "#confusion matrix\n",
        "cm=confusion_matrix(y_test,y_pred)\n",
        "\n",
        "#visualize\n",
        "plt.figure(figsize=(8, 6))\n",
        "sns.heatmap(cm, annot=True, fmt='d', cmap='Blues', xticklabels=['Class 0', 'Class 1'], yticklabels=['Class 0', 'Class 1'])\n",
        "plt.xlabel('Predicted')\n",
        "plt.ylabel('True')\n",
        "plt.title('Confusion Matrix')\n",
        "plt.show()\n"
      ],
      "metadata": {
        "colab": {
          "base_uri": "https://localhost:8080/",
          "height": 581
        },
        "id": "8Wjkh3t9h-Kf",
        "outputId": "4b0268f6-74bc-4659-94cd-21111cb714d9"
      },
      "execution_count": 16,
      "outputs": [
        {
          "output_type": "stream",
          "name": "stdout",
          "text": [
            "Accuracy: 0.9649122807017544\n"
          ]
        },
        {
          "output_type": "display_data",
          "data": {
            "text/plain": [
              "<Figure size 800x600 with 2 Axes>"
            ],
            "image/png": "[encoded data removed]"
          },
          "metadata": {}
        }
      ]
    },
    {
      "cell_type": "markdown",
      "source": [
        "### Q36. Train a Stacking Classifier using Decision Trees, SVM, and Logistic Regression, and compare accuracy?\n",
        "**Ans**"
      ],
      "metadata": {
        "id": "dsT9iHo-i1Fy"
      }
    },
    {
      "cell_type": "code",
      "source": [
        "data = load_wine()\n",
        "df = pd.DataFrame(data.data, columns=data.feature_names)\n",
        "df['target'] = data.target\n",
        "\n",
        "x = df.drop('target', axis=1)\n",
        "y = df['target']\n",
        "\n",
        "x_train, x_test, y_train, y_test = train_test_split(x, y, test_size=0.3, random_state=42)\n",
        "\n",
        "\n",
        "from sklearn.ensemble import StackingClassifier\n",
        "\n",
        "#train indivusal model\n",
        "dt_clf = DecisionTreeClassifier()\n",
        "svm_clf = SVC()\n",
        "lr_clf = LogisticRegression(max_iter=1000)\n",
        "\n",
        "\n",
        "stacking_clf = StackingClassifier(estimators=[('dt', dt_clf), ('svm', svm_clf), ('lr', lr_clf)],final_estimator=LogisticRegression())\n",
        "\n",
        "\n",
        "stacking_clf.fit(x_train, y_train)\n",
        "y_pred = stacking_clf.predict(x_test)\n",
        "accuracy = accuracy_score(y_test, y_pred)\n",
        "print(f\"Accuracy with stacking: {accuracy}\")\n",
        "\n",
        "dt_clf.fit(x_train, y_train)\n",
        "svm_clf.fit(x_train, y_train)\n",
        "lr_clf.fit(x_train, y_train)\n",
        "\n",
        "y_pred_dt = dt_clf.predict(x_test)\n",
        "y_pred_svm = svm_clf.predict(x_test)\n",
        "y_pred_lr = lr_clf.predict(x_test)\n",
        "\n",
        "accuracy_dt = accuracy_score(y_test, y_pred_dt)\n",
        "accuracy_svm = accuracy_score(y_test, y_pred_svm)\n",
        "accuracy_lr = accuracy_score(y_test, y_pred_lr)\n",
        "\n",
        "print(f\"Accuracy with Decision Tree: {accuracy_dt}\")\n",
        "print(f\"Accuracy with SVM: {accuracy_svm}\")\n",
        "print(f\"Accuracy with Logistic Regression: {accuracy_lr}\")"
      ],
      "metadata": {
        "colab": {
          "base_uri": "https://localhost:8080/"
        },
        "id": "ap7aD0-aimhD",
        "outputId": "7d15d84d-e0ba-4ff3-da95-665b31091055"
      },
      "execution_count": 17,
      "outputs": [
        {
          "output_type": "stream",
          "name": "stdout",
          "text": [
            "Accuracy with stacking: 0.9629629629629629\n",
            "Accuracy with Decision Tree: 0.9444444444444444\n",
            "Accuracy with SVM: 0.7592592592592593\n",
            "Accuracy with Logistic Regression: 1.0\n"
          ]
        }
      ]
    },
    {
      "cell_type": "markdown",
      "source": [
        "### Q37. Train a Random Forest Classifier and print the top 5 most important features?\n",
        "**Ans**"
      ],
      "metadata": {
        "id": "ILZKSA8Rn2ng"
      }
    },
    {
      "cell_type": "code",
      "source": [
        "data = load_wine()\n",
        "df= pd.DataFrame(data.data, columns=data.feature_names)\n",
        "df['target'] = data.target\n",
        "\n",
        "x=df.drop(axis=1,columns='target')\n",
        "y=df['target']\n",
        "\n",
        "x_train,x_test,y_train,y_test=train_test_split(x,y,test_size=0.2,random_state=42)\n",
        "\n",
        "#random forest classifier\n",
        "rf_clf=RandomForestClassifier(n_estimators=100,random_state=42)\n",
        "rf_clf.fit(x_train,y_train)\n",
        "y_pred=rf_clf.predict(x_test)\n",
        "\n",
        "#evalution\n",
        "print(f\"Accuracy: {accuracy_score(y_test,y_pred)}\")\n",
        "\n",
        "#top 5 important feture\n",
        "importances = rf_clf.feature_importances_\n",
        "feature_names = x.columns\n",
        "feature_importances = pd.Series(importances, index=feature_names)\n",
        "top_features = feature_importances.nlargest(5)\n",
        "print(\"Top 5 Most Important Features:\")\n",
        "print(top_features)\n"
      ],
      "metadata": {
        "colab": {
          "base_uri": "https://localhost:8080/"
        },
        "id": "5cgcDThdlQ5K",
        "outputId": "a57fa4f1-362d-4881-a409-b27319b5f820"
      },
      "execution_count": 18,
      "outputs": [
        {
          "output_type": "stream",
          "name": "stdout",
          "text": [
            "Accuracy: 1.0\n",
            "Top 5 Most Important Features:\n",
            "flavanoids                      0.202293\n",
            "color_intensity                 0.171202\n",
            "proline                         0.139046\n",
            "alcohol                         0.112398\n",
            "od280/od315_of_diluted_wines    0.111564\n",
            "dtype: float64\n"
          ]
        }
      ]
    },
    {
      "cell_type": "markdown",
      "source": [
        "### Q38.Train a Bagging Classifier and evaluate performance using Precision, Recall, and F1-score?\n",
        "**Ans**\n"
      ],
      "metadata": {
        "id": "eNIyrF9MpLpg"
      }
    },
    {
      "cell_type": "code",
      "source": [
        "data = load_wine()\n",
        "df = pd.DataFrame(data.data, columns=data.feature_names)\n",
        "df['target'] = data.target\n",
        "\n",
        "x = df.drop('target', axis=1)\n",
        "y = df['target']\n",
        "\n",
        "x_train, x_test, y_train, y_test = train_test_split(x, y, test_size=0.2, random_state=42)\n",
        "\n",
        "#bagging clasiifier\n",
        "bagging_clf = BaggingClassifier(estimator=DecisionTreeClassifier(), n_estimators=10, random_state=42)\n",
        "bagging_clf.fit(x_train, y_train)\n",
        "y_pred = bagging_clf.predict(x_test)\n",
        "\n",
        "#evalution\n",
        "from sklearn.metrics import precision_score, recall_score, f1_score\n",
        "accuracy = accuracy_score(y_test, y_pred)\n",
        "precision = precision_score(y_test, y_pred, average='weighted')\n",
        "recall = recall_score(y_test, y_pred, average='weighted')\n",
        "f1 = f1_score(y_test, y_pred, average='weighted')\n",
        "\n",
        "print(f\"Accuracy: {accuracy}\")\n",
        "print(f\"Precision: {precision}\")\n",
        "print(f\"Recall: {recall}\")\n",
        "print(f\"F1-Score: {f1}\")"
      ],
      "metadata": {
        "colab": {
          "base_uri": "https://localhost:8080/"
        },
        "id": "c5-_ea3mofoe",
        "outputId": "1b453ff4-ea3f-4f80-eed4-f20fbe973629"
      },
      "execution_count": 19,
      "outputs": [
        {
          "output_type": "stream",
          "name": "stdout",
          "text": [
            "Accuracy: 0.9722222222222222\n",
            "Precision: 0.974074074074074\n",
            "Recall: 0.9722222222222222\n",
            "F1-Score: 0.9717752234993614\n"
          ]
        }
      ]
    },
    {
      "cell_type": "markdown",
      "source": [
        "### Q39. Train a Random Forest Classifier and analyze the effect of max_depth on accuracy?\n",
        "**Ans**"
      ],
      "metadata": {
        "id": "1mEn_B4AqZAH"
      }
    },
    {
      "cell_type": "code",
      "source": [
        "data = load_digits()\n",
        "df = pd.DataFrame(data.data, columns=data.feature_names)\n",
        "df['target'] = data.target\n",
        "\n",
        "x = df.drop('target', axis=1)\n",
        "y = df['target']\n",
        "\n",
        "x_train, x_test, y_train, y_test = train_test_split(x, y, test_size=0.2, random_state=42)\n",
        "\n",
        "#random forest\n",
        "rf_clf = RandomForestClassifier(n_estimators=200, random_state=2)\n",
        "max_depths = [None, 10, 20, 7, 40,60,5]\n",
        "for max_depth in max_depths:\n",
        "    rf_clf.set_params(max_depth=max_depth)\n",
        "    rf_clf.fit(x_train, y_train)\n",
        "    y_pred = rf_clf.predict(x_test)\n",
        "    accuracy = accuracy_score(y_test, y_pred)\n",
        "    print(f\"Accuracy with max_depth={max_depth}: {accuracy}\")\n"
      ],
      "metadata": {
        "colab": {
          "base_uri": "https://localhost:8080/"
        },
        "id": "PDLYY3nppyLR",
        "outputId": "3f786943-50f8-4efc-dc94-2c69db3e328b"
      },
      "execution_count": 20,
      "outputs": [
        {
          "output_type": "stream",
          "name": "stdout",
          "text": [
            "Accuracy with max_depth=None: 0.975\n",
            "Accuracy with max_depth=10: 0.975\n",
            "Accuracy with max_depth=20: 0.975\n",
            "Accuracy with max_depth=7: 0.9666666666666667\n",
            "Accuracy with max_depth=40: 0.975\n",
            "Accuracy with max_depth=60: 0.975\n",
            "Accuracy with max_depth=5: 0.9361111111111111\n"
          ]
        }
      ]
    },
    {
      "cell_type": "markdown",
      "source": [
        "### Q40.  Train a Bagging Regressor using different base estimators (DecisionTree and KNeighbors) and compare performance?\n",
        "**Ans**"
      ],
      "metadata": {
        "id": "4KIc3wWjrkGQ"
      }
    },
    {
      "cell_type": "code",
      "source": [
        "from sklearn.neighbors import KNeighborsRegressor\n",
        "data = fetch_california_housing()\n",
        "df = pd.DataFrame(data.data, columns=data.feature_names)\n",
        "df['target'] = data.target\n",
        "\n",
        "x = df.drop('target', axis=1)\n",
        "y = df['target']\n",
        "\n",
        "x_train, x_test, y_train, y_test = train_test_split(x, y, test_size=0.3, random_state=42)\n",
        "\n",
        "#bagging regressor\n",
        "\n",
        "bagging_reg_with_dt = BaggingRegressor(estimator=DecisionTreeRegressor(), n_estimators=10, random_state=42)\n",
        "bagging_reg_with_knn = BaggingRegressor(estimator=KNeighborsRegressor(), n_estimators=10, random_state=42)\n",
        "\n",
        "bagging_reg_with_dt.fit(x_train, y_train)\n",
        "bagging_reg_with_knn.fit(x_train, y_train)\n",
        "\n",
        "y_pred_dt = bagging_reg_with_dt.predict(x_test)\n",
        "y_pred_knn = bagging_reg_with_knn.predict(x_test)\n",
        "\n",
        "mse_dt = mean_squared_error(y_test, y_pred_dt)\n",
        "mse_knn = mean_squared_error(y_test, y_pred_knn)\n",
        "\n",
        "print(f\"Mean Squared Error with Decision Tree: {mse_dt}\")\n",
        "print(f\"Mean Squared Error with KNeighbors: {mse_knn}\")\n",
        "\n",
        "r2_dt = r2_score(y_test, y_pred_dt)\n",
        "r2_knn = r2_score(y_test, y_pred_knn)\n",
        "\n",
        "print(f\"R2 Score with Decision Tree: {r2_dt}\")\n",
        "print(f\"R2 Score with KNeighbors: {r2_knn}\")\n"
      ],
      "metadata": {
        "colab": {
          "base_uri": "https://localhost:8080/"
        },
        "id": "__5YD2JQrDoI",
        "outputId": "3eac640a-9cb0-4a58-c537-d5d65aa48e88"
      },
      "execution_count": 22,
      "outputs": [
        {
          "output_type": "stream",
          "name": "stdout",
          "text": [
            "Mean Squared Error with Decision Tree: 0.28623579601385674\n",
            "Mean Squared Error with KNeighbors: 1.1216257660085827\n",
            "R2 Score with Decision Tree: 0.7819222480823047\n",
            "R2 Score with KNeighbors: 0.1454541013022933\n"
          ]
        }
      ]
    },
    {
      "cell_type": "markdown",
      "source": [
        "### Q41. Train a Random Forest Classifier and evaluate its performance using ROC-AUC Score?\n",
        "**Ans**"
      ],
      "metadata": {
        "id": "SV4zYsHMs7Rf"
      }
    },
    {
      "cell_type": "code",
      "source": [
        "data = load_breast_cancer()\n",
        "df = pd.DataFrame(data.data, columns=data.feature_names)\n",
        "df['target'] = data.target\n",
        "\n",
        "x = df.drop('target', axis=1)\n",
        "y = df['target']\n",
        "\n",
        "x_train, x_test, y_train, y_test = train_test_split(x, y, test_size=0.2, random_state=42)\n",
        "\n",
        "#random forest classifier\n",
        "rf_clf = RandomForestClassifier(n_estimators=100, random_state=42)\n",
        "rf_clf.fit(x_train, y_train)\n",
        "y_pred = rf_clf.predict(x_test)\n",
        "\n",
        "#evalution\n",
        "from sklearn.metrics import roc_auc_score\n",
        "accuracy = accuracy_score(y_test, y_pred)\n",
        "roc_auc = roc_auc_score(y_test, y_pred)\n",
        "print(f\"Accuracy: {accuracy}\")\n",
        "print(f\"ROC-AUC Score: {roc_auc}\")\n",
        "\n"
      ],
      "metadata": {
        "id": "hBX_qObCr8sZ",
        "colab": {
          "base_uri": "https://localhost:8080/"
        },
        "outputId": "0f378d0a-254a-4d04-aa40-00b2bc0671fc"
      },
      "execution_count": 23,
      "outputs": [
        {
          "output_type": "stream",
          "name": "stdout",
          "text": [
            "Accuracy: 0.9649122807017544\n",
            "ROC-AUC Score: 0.9580740255486406\n"
          ]
        }
      ]
    },
    {
      "cell_type": "markdown",
      "source": [
        "### Q42. Train a Bagging Classifier and evaluate its performance using cross-validation?\n",
        "**Ans**"
      ],
      "metadata": {
        "id": "gH3ofonTJZC_"
      }
    },
    {
      "cell_type": "code",
      "source": [
        "data = load_wine()\n",
        "df= pd.DataFrame(data.data, columns=data.feature_names)\n",
        "df['target'] = data.target\n",
        "\n",
        "x=df.drop(axis=1,columns='target')\n",
        "y=df['target']\n",
        "\n",
        "x_train,x_test,y_train,y_test=train_test_split(x,y,test_size=0.2,random_state=42)\n",
        "\n",
        "#bagging classifier\n",
        "bagging_clf = BaggingClassifier(estimator=DecisionTreeClassifier(), n_estimators=50, random_state=42)\n",
        "\n",
        "#cross valdation\n",
        "from sklearn.model_selection import cross_val_score\n",
        "cv_scores = cross_val_score(bagging_clf, x, y, cv=10, scoring='accuracy',verbose=3)\n",
        "print(f\"Cross-Validation Scores: {cv_scores}\")\n",
        "print(f\"Mean CV Score: {np.mean(cv_scores)}\")\n",
        "print(f\"Standard Deviation of CV Scores: {np.std(cv_scores)}\")\n"
      ],
      "metadata": {
        "colab": {
          "base_uri": "https://localhost:8080/"
        },
        "id": "FdnDQPoVJVvO",
        "outputId": "0dcd12e9-0475-475e-c4ca-213ead6cf176"
      },
      "execution_count": 24,
      "outputs": [
        {
          "output_type": "stream",
          "name": "stdout",
          "text": [
            "[CV] END ................................ score: (test=0.944) total time=   0.1s\n",
            "[CV] END ................................ score: (test=1.000) total time=   0.1s\n",
            "[CV] END ................................ score: (test=0.778) total time=   0.1s\n",
            "[CV] END ................................ score: (test=0.944) total time=   0.1s\n",
            "[CV] END ................................ score: (test=0.889) total time=   0.1s\n",
            "[CV] END ................................ score: (test=1.000) total time=   0.1s\n",
            "[CV] END ................................ score: (test=1.000) total time=   0.2s\n",
            "[CV] END ................................ score: (test=0.944) total time=   0.2s\n",
            "[CV] END ................................ score: (test=1.000) total time=   0.2s\n",
            "[CV] END ................................ score: (test=1.000) total time=   0.2s\n",
            "Cross-Validation Scores: [0.94444444 1.         0.77777778 0.94444444 0.88888889 1.\n",
            " 1.         0.94444444 1.         1.        ]\n",
            "Mean CV Score: 0.95\n",
            "Standard Deviation of CV Scores: 0.06781419786518725\n"
          ]
        }
      ]
    },
    {
      "cell_type": "markdown",
      "source": [
        "### Q43.  Train a Random Forest Classifier and plot the Precision-Recall curve?\n",
        "**Ans**"
      ],
      "metadata": {
        "id": "4IutsLvlLTJW"
      }
    },
    {
      "cell_type": "code",
      "source": [
        "data = load_breast_cancer()\n",
        "df= pd.DataFrame(data.data, columns=data.feature_names)\n",
        "df['target'] = data.target\n",
        "\n",
        "x=df.drop(axis=1,columns='target')\n",
        "y=df['target']\n",
        "\n",
        "x_train,x_test,y_train,y_test=train_test_split(x,y,test_size=0.2,random_state=42)\n",
        "\n",
        "#random forest clf\n",
        "rf_clf=RandomForestClassifier(n_estimators=100,random_state=42)\n",
        "rf_clf.fit(x_train,y_train)\n",
        "y_pred=rf_clf.predict(x_test)\n",
        "\n",
        "#evalution\n",
        "accuracy=accuracy_score(y_test,y_pred)\n",
        "print(f\"Accuracy: {accuracy}\")\n",
        "\n",
        "#precision recall curve\n",
        "from sklearn.metrics import precision_recall_curve\n",
        "precision, recall, thresholds = precision_recall_curve(y_test, y_pred)\n",
        "plt.figure(figsize=(8, 6))\n",
        "plt.plot(recall, precision, marker='.', label='Random Forest')\n",
        "plt.xlabel('Recall')\n",
        "plt.ylabel('Precision')\n",
        "plt.title('Precision-Recall Curve')\n",
        "plt.show()"
      ],
      "metadata": {
        "colab": {
          "base_uri": "https://localhost:8080/",
          "height": 581
        },
        "id": "GlwNq2QWKnuU",
        "outputId": "7e8a4d98-6afa-4986-9ee8-9dbc52f0f50f"
      },
      "execution_count": 25,
      "outputs": [
        {
          "output_type": "stream",
          "name": "stdout",
          "text": [
            "Accuracy: 0.9649122807017544\n"
          ]
        },
        {
          "output_type": "display_data",
          "data": {
            "text/plain": [
              "<Figure size 800x600 with 1 Axes>"
            ],
            "image/png": "[encoded data removed]"
          },
          "metadata": {}
        }
      ]
    },
    {
      "cell_type": "markdown",
      "source": [
        "### Q44. Train a Stacking Classifier with Random Forest and Logistic Regression and compare accuracy?\n",
        "**Ans**"
      ],
      "metadata": {
        "id": "NZD46HH7Pg8b"
      }
    },
    {
      "cell_type": "code",
      "source": [
        "data = load_wine()\n",
        "df = pd.DataFrame(data.data, columns=data.feature_names)\n",
        "df['target'] = data.target\n",
        "\n",
        "x = df.drop('target', axis=1)\n",
        "y = df['target']\n",
        "\n",
        "x_train, x_test, y_train, y_test = train_test_split(x, y, test_size=0.3, random_state=42)\n",
        "\n",
        "#stacking classifier\n",
        "from sklearn.ensemble import StackingClassifier\n",
        "rf_clf = RandomForestClassifier(n_estimators=100, random_state=42)\n",
        "lr_clf = LogisticRegression(max_iter=1000)\n",
        "stacking_clf = StackingClassifier(estimators=[('rf', rf_clf), ('lr', lr_clf)], final_estimator=LogisticRegression())\n",
        "stacking_clf.fit(x_train, y_train)\n",
        "y_pred = stacking_clf.predict(x_test)\n",
        "\n",
        "rf_clf.fit(x_train, y_train)\n",
        "lr_clf.fit(x_train, y_train)\n",
        "\n",
        "y_pred_rf = rf_clf.predict(x_test)\n",
        "y_pred_lr = lr_clf.predict(x_test)\n",
        "\n",
        "accuracy_rf = accuracy_score(y_test, y_pred_rf)\n",
        "accuracy_lr = accuracy_score(y_test, y_pred_lr)\n",
        "accuracy = accuracy_score(y_test, y_pred)\n",
        "\n",
        "print(f\"Accuracy with Random Forest: {accuracy_rf}\")\n",
        "print(f\"Accuracy with Logistic Regression: {accuracy_lr}\")\n",
        "print(f\"Accuracy with stacking: {accuracy}\")\n"
      ],
      "metadata": {
        "colab": {
          "base_uri": "https://localhost:8080/"
        },
        "id": "QbREs1ANMg15",
        "outputId": "5f846f2c-3b22-4a50-a012-2ff33e89f649"
      },
      "execution_count": 26,
      "outputs": [
        {
          "output_type": "stream",
          "name": "stdout",
          "text": [
            "Accuracy with Random Forest: 1.0\n",
            "Accuracy with Logistic Regression: 1.0\n",
            "Accuracy with stacking: 1.0\n"
          ]
        }
      ]
    },
    {
      "cell_type": "markdown",
      "source": [
        "### Q45.Train a Bagging Regressor with different levels of bootstrap samples and compare performance.\n",
        "**Ans**"
      ],
      "metadata": {
        "id": "waUr1sjxReBs"
      }
    },
    {
      "cell_type": "code",
      "source": [
        "data = fetch_california_housing()\n",
        "df = pd.DataFrame(data.data, columns=data.feature_names)\n",
        "df['target'] = data.target\n",
        "\n",
        "x = df.drop('target', axis=1)\n",
        "y = df['target']\n",
        "\n",
        "x_train, x_test, y_train, y_test = train_test_split(x, y, test_size=0.3, random_state=42)\n",
        "\n",
        "max_sample = [0.5,1,0.6,0.7]\n",
        "from sklearn.metrics import mean_squared_error, r2_score\n",
        "#bagging regressor\n",
        "for max_samples in max_sample:\n",
        "    bagging_reg = BaggingRegressor(estimator=DecisionTreeRegressor(), n_estimators=10, max_samples=max_samples, random_state=42)\n",
        "    cv_scores = cross_val_score(bagging_reg, x_train, y_train, cv=5, scoring='neg_mean_squared_error')\n",
        "    mse_cv = -cv_scores.mean()\n",
        "    print(f\"Mean Squared Error with max_samples={max_samples} (CV): {mse_cv}\")\n",
        "\n",
        "    bagging_reg.fit(x_train, y_train)\n",
        "    y_pred = bagging_reg.predict(x_test)\n",
        "    mse_test = mean_squared_error(y_test, y_pred)\n",
        "    r2_test = r2_score(y_test, y_pred)\n",
        "    print(f\"Test Mean Squared Error with max_samples={max_samples}: {mse_test}\")\n",
        "    print(f\"Test R2 Score with max_samples={max_samples}: {r2_test}\")\n",
        "    print('----------------------------')\n",
        ""
      ],
      "metadata": {
        "colab": {
          "base_uri": "https://localhost:8080/"
        },
        "id": "KajH-6MCQ8HM",
        "outputId": "40ccba63-25de-4221-f1a3-2776c8c5ea3d"
      },
      "execution_count": 27,
      "outputs": [
        {
          "output_type": "stream",
          "name": "stdout",
          "text": [
            "Mean Squared Error with max_samples=0.5 (CV): 0.30746133734095754\n",
            "Test Mean Squared Error with max_samples=0.5: 0.2968519387859436\n",
            "Test R2 Score with max_samples=0.5: 0.7738340055144117\n",
            "----------------------------\n",
            "Mean Squared Error with max_samples=1 (CV): 1.3717975975275427\n",
            "Test Mean Squared Error with max_samples=1: 1.3223278180545723\n",
            "Test R2 Score with max_samples=1: -0.007457075164743809\n",
            "----------------------------\n",
            "Mean Squared Error with max_samples=0.6 (CV): 0.30520554879166506\n",
            "Test Mean Squared Error with max_samples=0.6: 0.2895930194677194\n",
            "Test R2 Score with max_samples=0.6: 0.7793644417083307\n",
            "----------------------------\n",
            "Mean Squared Error with max_samples=0.7 (CV): 0.3022326019630189\n",
            "Test Mean Squared Error with max_samples=0.7: 0.2952169775521256\n",
            "Test R2 Score with max_samples=0.7: 0.7750796521990995\n",
            "----------------------------\n"
          ]
        }
      ]
    },
    {
      "cell_type": "code",
      "source": [],
      "metadata": {
        "id": "NprH9W_pWweN"
      },
      "execution_count": 27,
      "outputs": []
    }
  ]
}