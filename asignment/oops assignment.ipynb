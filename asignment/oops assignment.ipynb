{
 "cells": [
  {
   "cell_type": "markdown",
   "id": "3b76c615-9dd5-479f-a931-cfc8cd453c0f",
   "metadata": {},
   "source": [
    "#                                                      ***oops assignment***\n",
    "Name:-Yash solanki\n",
    "\n",
    "Reg email id:-yash87015@gmail.com\n",
    "\n",
    "Course name:-Data analytic\n",
    "\n",
    "Assignment name:-function assignment\n",
    "\n",
    "Submission date:-not declare\n",
    "\n",
    "Git link:-https://github.com/Yash87015/YASH\n",
    "(in git hub use assignment folder )"
   ]
  },
  {
   "cell_type": "markdown",
   "id": "d79df64b-c656-46f3-8fd7-75a1b1f2c97b",
   "metadata": {},
   "source": [
    "## 1. What are the five key concepts of Object-Oriented Programming (OOP)?"
   ]
  },
  {
   "cell_type": "markdown",
   "id": "3237ef50-3af8-4c17-8d8d-143cfda3d2a3",
   "metadata": {},
   "source": [
    "### Ans\n",
    "→ OOPS:-Object-oriented programming is based on the concept of objects. In object-oriented programming data structures, or objects are defined, each with its own properties or attributes. Each object can also contain its own procedures or methods. Software is designed by using objects that interact with one another.\n",
    "\n",
    "→ Object-oriented programming is a programming paradigm that is based on the concept of \"objects\", which can contain data and code that manipulates that data. In OOP, objects are created from templates called \"classes\", which define the properties and behavior of the objects they create.\n",
    "\n",
    "→ oops hasa following six key concept of oops\n",
    "1) Class \n",
    "2) Objects \n",
    "3) Polymorphism \n",
    "4) Encapsulation \n",
    "5) Inheritance \n",
    "6) Data Abstraction \n",
    "\n",
    "(1) class :- A class is a collection of objects. A class contains the blueprints or the prototype from which the objects are being created. It is a logical entity that contains some attributes and methods.\n",
    "\n",
    "(2) object :-In object oriented programming Python, The object is an entity that has a state and behavior associated with it. It may be any real-world object like a mouse, keyboard, chair, table, pen, etc. Integers, strings, floating-point numbers, even arrays, and dictionaries, are all objects. More specifically, any single integer or any single string is an object.\n",
    "\n",
    "(3)Polymorphism :-In object oriented Programming Python, Polymorphism simply means having many forms. For example, we need to determine if the given species of birds fly or not, using polymorphism we can do this using a single function.\n",
    "\n",
    "(4)Encapsulation :-In Python object oriented programming, Encapsulation is one of the fundamental concepts in object-oriented programming (OOP). It describes the idea of wrapping data and the methods that work on data within one unit. This puts restrictions on accessing variables and methods directly and can prevent the accidental modification of data. To prevent accidental change, an object’s variable can only be changed by an object’s method. Those types of variables are known as private variables\n",
    "\n",
    "(5)Inheritance :-In Python object oriented Programming, Inheritance is the capability of one class to derive or inherit the properties from another class. The class that derives properties is called the derived class or child class and the class from which the properties are being derived is called the base class or parent class. The benefits of inheritance are:\n",
    "It represents real-world relationships well.\n",
    "It provides the reusability of a code. We don’t have to write the same code again and again. Also, it allows us to add more features to a class without modifying it.\n",
    "It is transitive in nature, which means that if class B inherits from another class A, then all the subclasses of B would automatically inherit from class A.\n",
    "\n",
    "(6)Data Abstraction :-It hides unnecessary code details from the user. Also,  when we do not want to give out sensitive parts of our code implementation and this is where data abstraction came.Data Abstraction in Python can be achieved by creating abstract classes."
   ]
  },
  {
   "cell_type": "markdown",
   "id": "e9e53894-1184-49e1-bc92-d0626c4b60c9",
   "metadata": {},
   "source": [
    "## 2. Write a Python class for a Car with attributes for make, model, and year. Include a method to display the car's information?"
   ]
  },
  {
   "cell_type": "markdown",
   "id": "5e1337a6-465b-4611-887e-90a273c3e644",
   "metadata": {},
   "source": [
    "### Ans"
   ]
  },
  {
   "cell_type": "code",
   "execution_count": 11,
   "id": "bc5d5d8d-cf4f-4723-9305-9919b538cef7",
   "metadata": {},
   "outputs": [
    {
     "name": "stdout",
     "output_type": "stream",
     "text": [
      "the car is made in 2020 make by Toyota and model of the car is Camry\n"
     ]
    }
   ],
   "source": [
    "class Car:\n",
    "    def __init__(self, make, model, year):\n",
    "        self.make = make\n",
    "        self.model = model\n",
    "        self.year = year\n",
    "        \n",
    "    def display_info(self):\n",
    "        print(f\"the car is made in {self.year} make by {self.make} and model of the car is {self.model}\")\n",
    "\n",
    "# Create an object of the Car class\n",
    "car1 = Car(\"Toyota\", \"Camry\", 2020)\n",
    "\n",
    "# Display the car's information\n",
    "car1.display_info()"
   ]
  },
  {
   "cell_type": "code",
   "execution_count": null,
   "id": "60207804-6242-40c2-86d0-96ab4224537f",
   "metadata": {},
   "outputs": [],
   "source": []
  },
  {
   "cell_type": "markdown",
   "id": "655f3d10-27e4-4331-956d-722093cf6b25",
   "metadata": {},
   "source": [
    "## 3.Explain the difference between instance methods and class methods.Provide an example of each?"
   ]
  },
  {
   "cell_type": "markdown",
   "id": "aa6ad6cf-15a7-4436-8963-0e01cf396a4a",
   "metadata": {},
   "source": [
    "### Ans"
   ]
  },
  {
   "cell_type": "markdown",
   "id": "1ad987c2-39b5-432a-85ef-6080b3532faf",
   "metadata": {},
   "source": [
    "→ In Python, instance methods are more commonly used than class methods because they can access both instance and class attributes. Class methods can only access and modify class attributes. Here's how they differ:\n",
    "\n",
    "1) Instance methods:-\n",
    "Created from a specific object, instance methods can access the instance through self. They can read and modify an object's state and are the default choice for most methods within a class. Use instance methods when the method's behavior depends on the state of a specific instance.\n",
    "\n",
    "2) Class methods:-\n",
    "Don't require a specific instance and can't access the instance (self). They access the class itself via cls. Use class methods when the method needs to access or modify class-level attributes or when you want to create alternative constructors. "
   ]
  },
  {
   "cell_type": "code",
   "execution_count": null,
   "id": "36c8d09d-413e-4e43-b235-408e3f4cb6d3",
   "metadata": {},
   "outputs": [],
   "source": [
    "#example of instance metod\n"
   ]
  }
 ],
 "metadata": {
  "kernelspec": {
   "display_name": "Python 3 (ipykernel)",
   "language": "python",
   "name": "python3"
  },
  "language_info": {
   "codemirror_mode": {
    "name": "ipython",
    "version": 3
   },
   "file_extension": ".py",
   "mimetype": "text/x-python",
   "name": "python",
   "nbconvert_exporter": "python",
   "pygments_lexer": "ipython3",
   "version": "3.10.8"
  }
 },
 "nbformat": 4,
 "nbformat_minor": 5
}
