{
 "cells": [
  {
   "cell_type": "markdown",
   "id": "3b76c615-9dd5-479f-a931-cfc8cd453c0f",
   "metadata": {},
   "source": [
    "#                                                      ***oops assignment***\n",
    "Name:-Yash solanki\n",
    "\n",
    "Reg email id:-yash87015@gmail.com\n",
    "\n",
    "Course name:-Data analytic\n",
    "\n",
    "Assignment name:-OOPS assignment\n",
    "\n",
    "Submission date:-not declare\n",
    "\n",
    "Git link:-https://github.com/Yash87015/YASH\n",
    "(in git hub use assignment folder )"
   ]
  },
  {
   "cell_type": "markdown",
   "id": "d79df64b-c656-46f3-8fd7-75a1b1f2c97b",
   "metadata": {},
   "source": [
    "## 1. What are the five key concepts of Object-Oriented Programming (OOP)?"
   ]
  },
  {
   "cell_type": "markdown",
   "id": "3237ef50-3af8-4c17-8d8d-143cfda3d2a3",
   "metadata": {},
   "source": [
    "### Ans\n",
    "→ OOPS:-Object-oriented programming is based on the concept of objects. In object-oriented programming data structures, or objects are defined, each with its own properties or attributes. Each object can also contain its own procedures or methods. Software is designed by using objects that interact with one another.\n",
    "\n",
    "→ Object-oriented programming is a programming paradigm that is based on the concept of \"objects\", which can contain data and code that manipulates that data. In OOP, objects are created from templates called \"classes\", which define the properties and behavior of the objects they create.\n",
    "\n",
    "→ oops hasa following six key concept of oops\n",
    "1) Class \n",
    "2) Objects \n",
    "3) Polymorphism \n",
    "4) Encapsulation \n",
    "5) Inheritance \n",
    "6) Data Abstraction \n",
    "\n",
    "(1) class :- A class is a collection of objects. A class contains the blueprints or the prototype from which the objects are being created. It is a logical entity that contains some attributes and methods.\n",
    "\n",
    "(2) object :-In object oriented programming Python, The object is an entity that has a state and behavior associated with it. It may be any real-world object like a mouse, keyboard, chair, table, pen, etc. Integers, strings, floating-point numbers, even arrays, and dictionaries, are all objects. More specifically, any single integer or any single string is an object.\n",
    "\n",
    "(3)Polymorphism :-In object oriented Programming Python, Polymorphism simply means having many forms. For example, we need to determine if the given species of birds fly or not, using polymorphism we can do this using a single function.\n",
    "\n",
    "(4)Encapsulation :-In Python object oriented programming, Encapsulation is one of the fundamental concepts in object-oriented programming (OOP). It describes the idea of wrapping data and the methods that work on data within one unit. This puts restrictions on accessing variables and methods directly and can prevent the accidental modification of data. To prevent accidental change, an object’s variable can only be changed by an object’s method. Those types of variables are known as private variables\n",
    "\n",
    "(5)Inheritance :-In Python object oriented Programming, Inheritance is the capability of one class to derive or inherit the properties from another class. The class that derives properties is called the derived class or child class and the class from which the properties are being derived is called the base class or parent class. The benefits of inheritance are:\n",
    "It represents real-world relationships well.\n",
    "It provides the reusability of a code. We don’t have to write the same code again and again. Also, it allows us to add more features to a class without modifying it.\n",
    "It is transitive in nature, which means that if class B inherits from another class A, then all the subclasses of B would automatically inherit from class A.\n",
    "\n",
    "(6)Data Abstraction :-It hides unnecessary code details from the user. Also,  when we do not want to give out sensitive parts of our code implementation and this is where data abstraction came.Data Abstraction in Python can be achieved by creating abstract classes."
   ]
  },
  {
   "cell_type": "markdown",
   "id": "e9e53894-1184-49e1-bc92-d0626c4b60c9",
   "metadata": {},
   "source": [
    "## 2. Write a Python class for a Car with attributes for make, model, and year. Include a method to display the car's information?"
   ]
  },
  {
   "cell_type": "markdown",
   "id": "5e1337a6-465b-4611-887e-90a273c3e644",
   "metadata": {},
   "source": [
    "### Ans"
   ]
  },
  {
   "cell_type": "code",
   "execution_count": 11,
   "id": "bc5d5d8d-cf4f-4723-9305-9919b538cef7",
   "metadata": {},
   "outputs": [
    {
     "name": "stdout",
     "output_type": "stream",
     "text": [
      "the car is made in 2020 make by Toyota and model of the car is Camry\n"
     ]
    }
   ],
   "source": [
    "class Car:\n",
    "    def __init__(self, make, model, year):\n",
    "        self.make = make\n",
    "        self.model = model\n",
    "        self.year = year\n",
    "        \n",
    "    def display_info(self):\n",
    "        print(f\"the car is made in {self.year} make by {self.make} and model of the car is {self.model}\")\n",
    "\n",
    "# Create an object of the Car class\n",
    "car1 = Car(\"Toyota\", \"Camry\", 2020)\n",
    "\n",
    "# Display the car's information\n",
    "car1.display_info()"
   ]
  },
  {
   "cell_type": "code",
   "execution_count": null,
   "id": "60207804-6242-40c2-86d0-96ab4224537f",
   "metadata": {},
   "outputs": [],
   "source": []
  },
  {
   "cell_type": "markdown",
   "id": "655f3d10-27e4-4331-956d-722093cf6b25",
   "metadata": {},
   "source": [
    "## 3.Explain the difference between instance methods and class methods.Provide an example of each?"
   ]
  },
  {
   "cell_type": "markdown",
   "id": "aa6ad6cf-15a7-4436-8963-0e01cf396a4a",
   "metadata": {},
   "source": [
    "### Ans"
   ]
  },
  {
   "cell_type": "markdown",
   "id": "1ad987c2-39b5-432a-85ef-6080b3532faf",
   "metadata": {},
   "source": [
    "→ In Python, instance methods are more commonly used than class methods because they can access both instance and class attributes. Class methods can only access and modify class attributes. Here's how they differ:\n",
    "\n",
    "1) Instance methods:-\n",
    "Created from a specific object, instance methods can access the instance through self. They can read and modify an object's state and are the default choice for most methods within a class. Use instance methods when the method's behavior depends on the state of a specific instance.\n",
    "\n",
    "1.1) Use the def keyword to define an instance method in Python.\n",
    "\n",
    "1.2) Use self as the first parameter in the instance method when defining it. The self parameter refers to the current object.\n",
    "\n",
    "1.3) Using the self parameter to access or modify the current object attributes.\n",
    "\n",
    "2) Class methods:-\n",
    "Don't require a specific instance and can't access the instance (self). They access the class itself via cls. Use class methods when the method needs to access or modify class-level attributes or when you want to create alternative constructors. "
   ]
  },
  {
   "cell_type": "code",
   "execution_count": 1,
   "id": "36c8d09d-413e-4e43-b235-408e3f4cb6d3",
   "metadata": {},
   "outputs": [],
   "source": [
    "#example of instance metod\n",
    "class Book:\n",
    "    def __init__(self):\n",
    "        self.name_of_book = \"Python Crash Course, 2nd Edition\"\n",
    "        self.book_author = \"Eric Matthes\"\n",
    "        self.title_name = \"Python Crash Course, 2nd Edition: A Hand: A Hands-On, Project-Based Introduction to Programming\"\n",
    "        \n",
    "    def extract_details_name_title(self):\n",
    "        print(self.name_of_book, self.title_name)\n",
    "        \n",
    "    def extract_details_name_author(self):\n",
    "        print(self.name_of_book, self.book_author)\n",
    "        \n",
    "    def extract_details_name_ar(self):\n",
    "        print(self.book_author, self.title_name)"
   ]
  },
  {
   "cell_type": "code",
   "execution_count": 2,
   "id": "f76ba55c-dab1-4603-ac54-541ab064be78",
   "metadata": {},
   "outputs": [],
   "source": [
    "std=Book()"
   ]
  },
  {
   "cell_type": "code",
   "execution_count": 3,
   "id": "d2f54de0-0d89-4737-88d8-ca62be092181",
   "metadata": {},
   "outputs": [
    {
     "data": {
      "text/plain": [
       "'Eric Matthes'"
      ]
     },
     "execution_count": 3,
     "metadata": {},
     "output_type": "execute_result"
    }
   ],
   "source": [
    "std.book_author #thats how you called instance method "
   ]
  },
  {
   "cell_type": "code",
   "execution_count": 6,
   "id": "c868922d-afcf-4440-be5a-c58c347dcfa9",
   "metadata": {},
   "outputs": [
    {
     "data": {
      "text/plain": [
       "'Python Crash Course, 2nd Edition'"
      ]
     },
     "execution_count": 6,
     "metadata": {},
     "output_type": "execute_result"
    }
   ],
   "source": [
    "std.name_of_book"
   ]
  },
  {
   "cell_type": "code",
   "execution_count": 7,
   "id": "e82f0696-40f1-4e53-ad66-4e9d796a657b",
   "metadata": {},
   "outputs": [
    {
     "data": {
      "text/plain": [
       "'Python Crash Course, 2nd Edition: A Hand: A Hands-On, Project-Based Introduction to Programming'"
      ]
     },
     "execution_count": 7,
     "metadata": {},
     "output_type": "execute_result"
    }
   ],
   "source": [
    "std.title_name"
   ]
  },
  {
   "cell_type": "code",
   "execution_count": 8,
   "id": "77f2ff55-6c39-47a4-a12a-d5722eb0578e",
   "metadata": {},
   "outputs": [
    {
     "name": "stdout",
     "output_type": "stream",
     "text": [
      "Eric Matthes Python Crash Course, 2nd Edition: A Hand: A Hands-On, Project-Based Introduction to Programming\n"
     ]
    }
   ],
   "source": [
    "std.extract_details_name_ar() # thats how you called instance function called "
   ]
  },
  {
   "cell_type": "code",
   "execution_count": 10,
   "id": "77e366cb-a5cd-45cd-9195-abd4f09b6065",
   "metadata": {},
   "outputs": [
    {
     "name": "stdout",
     "output_type": "stream",
     "text": [
      "Python Crash Course, 2nd Edition Eric Matthes\n"
     ]
    }
   ],
   "source": [
    "std.extract_details_name_author()"
   ]
  },
  {
   "cell_type": "code",
   "execution_count": 11,
   "id": "124e8fe4-51f9-4452-9933-28919abd4f52",
   "metadata": {},
   "outputs": [
    {
     "name": "stdout",
     "output_type": "stream",
     "text": [
      "Python Crash Course, 2nd Edition Python Crash Course, 2nd Edition: A Hand: A Hands-On, Project-Based Introduction to Programming\n"
     ]
    }
   ],
   "source": [
    "std.extract_details_name_title()"
   ]
  },
  {
   "cell_type": "code",
   "execution_count": 41,
   "id": "c0e36f22-e2a9-4319-a4e3-5dc22aae228a",
   "metadata": {},
   "outputs": [],
   "source": [
    "#example of class method\n",
    "#class method can modify class state applicable to all the instances of the class\n",
    "class Student:\n",
    "    \n",
    "    total_students = 0 \n",
    "    def __init__(self, name):\n",
    "        self.name = name \n",
    "        Student.total_students = Student.total_students+1 #total_student is the class variable associated with all the instances\n",
    "        \n",
    "    @classmethod\n",
    "    def get_total_students(cls):\n",
    "        return cls.total_students"
   ]
  },
  {
   "cell_type": "code",
   "execution_count": 42,
   "id": "c28438f3-efae-4891-95c0-3f892f195455",
   "metadata": {},
   "outputs": [
    {
     "data": {
      "text/plain": [
       "0"
      ]
     },
     "execution_count": 42,
     "metadata": {},
     "output_type": "execute_result"
    }
   ],
   "source": [
    "Student.total_students"
   ]
  },
  {
   "cell_type": "code",
   "execution_count": 43,
   "id": "8caba1fd-f37b-4bf6-9ad3-8ca4b245cd6d",
   "metadata": {},
   "outputs": [],
   "source": [
    "std1=Student(\"dipen\")\n",
    "std2=Student(\"milan\")"
   ]
  },
  {
   "cell_type": "code",
   "execution_count": 44,
   "id": "e3dd2113-6ff6-4bbb-8dcf-19424fc64e0e",
   "metadata": {},
   "outputs": [
    {
     "data": {
      "text/plain": [
       "2"
      ]
     },
     "execution_count": 44,
     "metadata": {},
     "output_type": "execute_result"
    }
   ],
   "source": [
    "Student.total_students"
   ]
  },
  {
   "cell_type": "code",
   "execution_count": 45,
   "id": "2174284a-92ed-49d7-bbab-8e008eaf1f2c",
   "metadata": {},
   "outputs": [
    {
     "data": {
      "text/plain": [
       "'dipen'"
      ]
     },
     "execution_count": 45,
     "metadata": {},
     "output_type": "execute_result"
    }
   ],
   "source": [
    "std1.name"
   ]
  },
  {
   "cell_type": "code",
   "execution_count": 46,
   "id": "353566b0-51cb-4cf8-afed-3b497229d851",
   "metadata": {},
   "outputs": [
    {
     "data": {
      "text/plain": [
       "'milan'"
      ]
     },
     "execution_count": 46,
     "metadata": {},
     "output_type": "execute_result"
    }
   ],
   "source": [
    "std2.name"
   ]
  },
  {
   "cell_type": "code",
   "execution_count": 47,
   "id": "28844097-1752-4c9e-9974-e8a1d08565d0",
   "metadata": {},
   "outputs": [
    {
     "data": {
      "text/plain": [
       "2"
      ]
     },
     "execution_count": 47,
     "metadata": {},
     "output_type": "execute_result"
    }
   ],
   "source": [
    "std1.total_students"
   ]
  },
  {
   "cell_type": "code",
   "execution_count": null,
   "id": "b4638678-0b3e-424e-a9f1-5305d34e9562",
   "metadata": {},
   "outputs": [],
   "source": []
  },
  {
   "cell_type": "markdown",
   "id": "d0c4d885-1fea-44c5-92b1-aa85bf2e3b1f",
   "metadata": {},
   "source": [
    "## 4. How does Python implement method overloading? Give an example.?"
   ]
  },
  {
   "cell_type": "markdown",
   "id": "0e0668c9-f4e5-4763-b442-2128ea7cdb09",
   "metadata": {},
   "source": [
    "### Ans\n",
    "→ python doesnt support true method overloading\n",
    "method overloading:-Method overloading is a feature in object-oriented programming that allows multiple methods in a class to have the same name but different parameters. It's used to provide different ways to perform similar operations based on the parameters passed to the methods.\n",
    "\n",
    "→ Python doesn't support traditional method overloading like languages such as Java or C++. However, you can achieve similar functionality using different techniques:\n",
    "1) Default Arguments:You can define default values for parameters. If a value is not provided during the function call, the default value is used.\n",
    "2) Variable-length Arguments:*args allows you to pass any number of positional arguments, and **kwargs allows you to pass any number of keyword arguments\n",
    "3) Simulating Method Overloading:If you define multiple methods with the same name in a class, the last one defined will override any previous methods with the same name. here below exmple of simulating method overrinding"
   ]
  },
  {
   "cell_type": "code",
   "execution_count": 60,
   "id": "d0775e41-128e-41ac-ad85-34b2ea18728c",
   "metadata": {},
   "outputs": [],
   "source": [
    "#Method overloading example\n",
    "class Student:\n",
    "    def student(self):\n",
    "        print(\"Wecome to pwskills class\")\n",
    "    def student(self, name = \"\"):\n",
    "        print(\"Wecome to pwskills class\", name)\n",
    "    def student(self, name = \"\", course = \"\"):\n",
    "        print(\"Wecome to pwskills class\", name, course)"
   ]
  },
  {
   "cell_type": "code",
   "execution_count": 61,
   "id": "64f00498-ad28-413d-9ca5-e57f21df2ba9",
   "metadata": {},
   "outputs": [],
   "source": [
    "user=Student()"
   ]
  },
  {
   "cell_type": "code",
   "execution_count": 62,
   "id": "3d25171d-61da-4cb2-b4df-9e592482f34f",
   "metadata": {},
   "outputs": [
    {
     "name": "stdout",
     "output_type": "stream",
     "text": [
      "Wecome to pwskills class  \n"
     ]
    }
   ],
   "source": [
    "user.student()"
   ]
  },
  {
   "cell_type": "code",
   "execution_count": 63,
   "id": "76709f6c-2bef-4179-9e81-7dba9c769db0",
   "metadata": {},
   "outputs": [
    {
     "name": "stdout",
     "output_type": "stream",
     "text": [
      "Wecome to pwskills class milan \n"
     ]
    }
   ],
   "source": [
    "user.student(\"milan\")"
   ]
  },
  {
   "cell_type": "code",
   "execution_count": 65,
   "id": "978e37c4-128c-4da3-bf18-00a579f15a77",
   "metadata": {},
   "outputs": [
    {
     "name": "stdout",
     "output_type": "stream",
     "text": [
      "Wecome to pwskills class milan data analytic\n"
     ]
    }
   ],
   "source": [
    "user.student(\"milan\",\"data analytic\")"
   ]
  },
  {
   "cell_type": "code",
   "execution_count": null,
   "id": "ab36faa8-6e52-4cf5-ab97-dcd5e24b1d7f",
   "metadata": {},
   "outputs": [],
   "source": []
  },
  {
   "cell_type": "markdown",
   "id": "1d4c6f42-4f6d-45d4-b7b6-0a30c8295250",
   "metadata": {},
   "source": [
    "## 5. What are the three types of access modifiers in Python? How are they denoted?"
   ]
  },
  {
   "cell_type": "markdown",
   "id": "94699260-06ee-4c18-9987-1d885b3cd2ff",
   "metadata": {},
   "source": [
    "### Ans"
   ]
  },
  {
   "cell_type": "markdown",
   "id": "1bc07519-5e77-4fb3-ab06-6c65011e8533",
   "metadata": {},
   "source": [
    "→ Encapsulation is an OOPs principle which protects the internal data of the class using Access modifiers like Public,Private and Protected\n",
    "\n",
    "→ Python supports three types of access modifiers which are public,private and protected. These access modifiers provide restrictions on the access of member variables and methods of the class from any object outside the class.\n",
    "\n",
    "1) Public Access Modifier:-By default the member variables and methods are public which means they can be accessed from anywhere outside or inside the class. No public keyword is required to make the class or methods and properties public\n",
    "→ These members are accessible from anywhere in the program.\n",
    "→ No special notation is used, meaning all members are public by default.\n",
    "\n",
    "2) Private Access Modifier:- Class properties and methods with private access modifier can only be accessed within the class where they are defined and cannot be accessed outside the class. In Python private properties and methods are declared by adding a prefix with two underscores(‘__’) before their declaration[note:-Private members are not truly private. Python performs name mangling, which makes them harder to access from outside the class, but they can still be accessed if needed.]\n",
    "→ These members are accessible within the class and its subclasses.\n",
    "→ Denoted by a single underscore (_) prefixing the member name.\n",
    "\n",
    "3) Protected Access Modifier:-Class properties and methods with protected access modifier can be accessed within the class and from the class that inherits the protected class. In python, protected members and methods are declared using single underscore(‘_’) as prefix before their names.\n",
    "→These members are accessible only within the class itself.\n",
    "→Denoted by a double underscore (__) prefixing the member name.\n"
   ]
  },
  {
   "cell_type": "code",
   "execution_count": null,
   "id": "096f35c6-27ed-448c-9d58-897016d34652",
   "metadata": {},
   "outputs": [],
   "source": []
  },
  {
   "cell_type": "markdown",
   "id": "ff805d26-3671-4e44-9652-8a9ebaf46758",
   "metadata": {},
   "source": [
    "## 6. Describe the five types of inheritance in Python. Provide a simple example of multiple inheritance"
   ]
  },
  {
   "cell_type": "markdown",
   "id": "85c10f98-2117-4574-aa52-54f635f0e8b1",
   "metadata": {
    "tags": []
   },
   "source": [
    "### Ans\n",
    "#inheritance:-inheritence means refers to process of child class receiving the properties of parent class\n",
    "#syntax\n",
    " class BaseClass:\n",
    "     body of base class\n",
    " class DerivedClass(BaseClass):\n",
    "    body of derived class\n",
    "    \n",
    "→ In Python, inheritance is a mechanism that allows you to create a new class (called a child class or derived class) that inherits the attributes and methods of an existing class (called a parent class or base class). This promotes code reusability and helps to establish relationships between classes.\n",
    "\n",
    "→ Key points: Parent class: The class that provides the attributes and methods to be inherited. Child class: The class that inherits attributes and methods from the parent class. Code reusability: Child classes can use the code defined in the parent class, avoiding duplication. Extensibility: Child classes can add new\n",
    "\n",
    "→ parent class will not have access to the property(method/attribute) of child class but child class will have access to both"
   ]
  },
  {
   "cell_type": "markdown",
   "id": "78c12fb9-a326-4474-870b-49328a0656f5",
   "metadata": {},
   "source": [
    "→ Inheritance is categorized based on the hierarchy followed and the number of parent classes and subclasses involved.\n",
    "\n",
    "→ Python supports five types of inheritance: single inheritance, multiple inheritance, multilevel inheritance, hierarchical inheritance, and hybrid inheritance.\n",
    "1) Single Inheritance:-This type of inheritance enables a subclass or derived class to inherit properties and characteristics of the parent class, this avoids duplication of code and improves code reusability.It is fundamental and straightforward, enabling the subclass to acquire all the attributes and methods of its parent class.\n",
    "2) Multiple Inheritance:- This inheritance enables a child class to inherit from more than one parent class.It has a massive advantage if we have a requirement of gathering multiple characteristics from different classes.\n",
    "3) Multilevel Inheritance:- In multilevel inheritance, the transfer of the properties of characteristics is done to more than one class hierarchically. To get a better visualization we can consider it as an ancestor to grandchildren relation or a root to leaf in a tree with more than one level.\n",
    "4) Hierarchical Inheritance:-This inheritance allows a class to host as a parent class for more than one child class or subclass. This provides a benefit of sharing the functioning of methods with multiple child classes, hence avoiding code duplication.\n",
    "5) Hybrid Inheritance:- An inheritance is said hybrid inheritance if more than one type of inheritance is implemented in the same code. This feature enables the user to utilize the feature of inheritance at its best. This satisfies the requirement of implementing a code that needs multiple inheritances in implementation.\n",
    "\n"
   ]
  },
  {
   "cell_type": "code",
   "execution_count": 68,
   "id": "e3003473-c37c-4ffa-bfce-f91960f0eb2b",
   "metadata": {},
   "outputs": [],
   "source": [
    "#example of multiple inheritence\n",
    "class GrandFather:\n",
    "    def prop_grand_father(self):\n",
    "        print(\"I am your grand father, this is my property\")\n",
    "class Father(GrandFather):\n",
    "    def prop_father(self):\n",
    "        print(\"I am your father, I am having my and your grandfather's property\")\n",
    "class Son(Father):\n",
    "    def prop_son(self):\n",
    "        print(\"I am the King. I am having all the properties\")"
   ]
  },
  {
   "cell_type": "code",
   "execution_count": 69,
   "id": "fcb9939c-f1a7-404f-a0e7-73a1ef3c8976",
   "metadata": {},
   "outputs": [],
   "source": [
    "a3=GrandFather()"
   ]
  },
  {
   "cell_type": "code",
   "execution_count": 72,
   "id": "bc0eccf8-4409-46dd-9773-2fcb7282e568",
   "metadata": {},
   "outputs": [],
   "source": [
    "a2=Father()\n",
    "a1=Son()"
   ]
  },
  {
   "cell_type": "code",
   "execution_count": 73,
   "id": "0e32b727-141e-4b59-b31f-4bab5c401b3e",
   "metadata": {},
   "outputs": [
    {
     "name": "stdout",
     "output_type": "stream",
     "text": [
      "I am your grand father, this is my property\n"
     ]
    }
   ],
   "source": [
    "a3.prop_grand_father()"
   ]
  },
  {
   "cell_type": "code",
   "execution_count": 74,
   "id": "19bba0f5-0271-40a5-b21b-62335b42d34d",
   "metadata": {},
   "outputs": [
    {
     "name": "stdout",
     "output_type": "stream",
     "text": [
      "I am your father, I am having my and your grandfather's property\n"
     ]
    }
   ],
   "source": [
    "a2.prop_father()"
   ]
  },
  {
   "cell_type": "code",
   "execution_count": 75,
   "id": "0e254cfe-3cf4-4797-9b19-ccd91fd052d6",
   "metadata": {},
   "outputs": [
    {
     "name": "stdout",
     "output_type": "stream",
     "text": [
      "I am your grand father, this is my property\n"
     ]
    }
   ],
   "source": [
    "a2.prop_grand_father()"
   ]
  },
  {
   "cell_type": "code",
   "execution_count": 77,
   "id": "e9ad7e11-7b41-4f1a-bea9-5a1719dff48a",
   "metadata": {},
   "outputs": [
    {
     "name": "stdout",
     "output_type": "stream",
     "text": [
      "I am your grand father, this is my property\n"
     ]
    }
   ],
   "source": [
    "a1.prop_grand_father()"
   ]
  },
  {
   "cell_type": "code",
   "execution_count": 78,
   "id": "e4433e0b-0805-4088-a758-d20a3bfef502",
   "metadata": {},
   "outputs": [
    {
     "name": "stdout",
     "output_type": "stream",
     "text": [
      "I am your father, I am having my and your grandfather's property\n"
     ]
    }
   ],
   "source": [
    "a1.prop_father()"
   ]
  },
  {
   "cell_type": "code",
   "execution_count": 79,
   "id": "9ef1cfbc-62b5-485b-9ed2-5e03625c7cf9",
   "metadata": {},
   "outputs": [
    {
     "name": "stdout",
     "output_type": "stream",
     "text": [
      "I am the King. I am having all the properties\n"
     ]
    }
   ],
   "source": [
    "a1.prop_son()"
   ]
  },
  {
   "cell_type": "code",
   "execution_count": null,
   "id": "cb40576f-d218-4212-b9d5-6b4a5ef8bf4f",
   "metadata": {},
   "outputs": [],
   "source": []
  },
  {
   "cell_type": "markdown",
   "id": "52ff3849-7471-4d35-9f6e-394764950acd",
   "metadata": {},
   "source": [
    "## 7. What is the Method Resolution Order (MRO) in Python? How can you retrieve it programmatically?"
   ]
  },
  {
   "cell_type": "markdown",
   "id": "b0a32503-8ae3-4f03-a7c5-2b4cdf20c41c",
   "metadata": {},
   "source": [
    "### Ans"
   ]
  },
  {
   "cell_type": "markdown",
   "id": "546465e6-8c80-4423-99b1-5eea4d2def4b",
   "metadata": {},
   "source": [
    "Method Resolution Order : - Method Resolution Order(MRO) it denotes the way a programming language resolves a method or attribute. Python supports classes inheriting from other classes. The class being inherited is called the Parent or Superclass, while the class that inherits is called the Child or Subclass. In python, method resolution order defines the order in which the base classes are searched when executing a method. First, the method or attribute is searched within a class and then it follows the order we specified while inheriting. This order is also called Linearization of a class and set of rules are called MRO(Method Resolution Order). While inheriting from another class, the interpreter needs a way to resolve the methods that are being called via an instance. Thus we need the method resolution order\n",
    "\n",
    "→In Python, the Method Resolution Order (MRO) is the order in which the interpreter searches for a method in a class hierarchy, especially when dealing with multiple inheritance.\n",
    "\n",
    "**How MRO Works**\n",
    "→ Python uses the C3 linearization algorithm to determine the MRO.\n",
    "\n",
    "→ The MRO ensures that a class's methods are searched in a consistent and predictable order, prioritizing the current class and then moving up the inheritance chain.\n",
    "\n",
    "**Retrieving MRO Programmatically**\n",
    "→You can retrieve the MRO of a class in two ways:\n",
    "1) Using the mro() method\n",
    "2) Using the __mro__ attribute\n",
    "→ Both methods will output the same result"
   ]
  },
  {
   "cell_type": "code",
   "execution_count": 80,
   "id": "954e15b7-141e-4b5f-8ffc-85624801a229",
   "metadata": {},
   "outputs": [
    {
     "name": "stdout",
     "output_type": "stream",
     "text": [
      "this is in class C\n",
      "(<class '__main__.C'>, <class '__main__.A'>, <class '__main__.B'>, <class 'object'>)\n",
      "[<class '__main__.C'>, <class '__main__.A'>, <class '__main__.B'>, <class 'object'>]\n"
     ]
    }
   ],
   "source": [
    "#here the example of both method\n",
    "class A:#In this example, the MRO is C -> A -> B -> object. When the method() is called on the object c,\n",
    "                              #Python first looks for it in class C, then in class A, and finally in class B\n",
    "    def rk(self):\n",
    "        print(\"this is in class A\")\n",
    "class B:\n",
    "    def rk(self):\n",
    "        print(\"this is in class B\")\n",
    "\n",
    "class C(A, B):\n",
    "    def __init__(self):\n",
    "        print(\"this is in class C\")\n",
    "\n",
    "r = C()\n",
    "\n",
    "print(C.__mro__)\n",
    "print(C.mro())\n"
   ]
  },
  {
   "cell_type": "code",
   "execution_count": null,
   "id": "44055049-494f-4134-a4b8-1e7db28eb5c0",
   "metadata": {},
   "outputs": [],
   "source": []
  },
  {
   "cell_type": "markdown",
   "id": "b27b353b-57d7-4d1c-8c45-2820295424c3",
   "metadata": {},
   "source": [
    "## 8.. Create an abstract base class `Shape` with an abstract method `area()`. Then create two subclasses `Circle` and `Rectangle` that implement the `area()` method."
   ]
  },
  {
   "cell_type": "markdown",
   "id": "f8f8d12f-5b6f-4429-b8d8-13a8d4a260f4",
   "metadata": {},
   "source": [
    "### Ans\n",
    "1) Abstract Base Class Shape:area() is declared as an abstract method using raise NotImplementedError. This means any class inheriting from Shape must provide its own implementation of the area() method.\n",
    "2) Circle Class:-Takes a radius as an argument in its constructor.Implements area() to calculate the area of a circle using the formula π * radius^2.\n",
    "3) Rectangle Class:Takes length and width as arguments in its constructor.Implements area() to calculate the area of a rectangle using the formula length* width."
   ]
  },
  {
   "cell_type": "code",
   "execution_count": 96,
   "id": "929115a1-f9b1-43f3-be60-f0c4cdf6c041",
   "metadata": {},
   "outputs": [],
   "source": [
    "class Shape:\n",
    "    def area(self):\n",
    "        raise NotImplementedError(\"Subclasses must implement area method\")\n",
    "\n",
    "class Circle(Shape):\n",
    "    def __init__(self, radius):\n",
    "        self.radius = radius\n",
    "\n",
    "    def area(self):\n",
    "        return 3.14 * self.radius ** 2\n",
    "\n",
    "class Rectangle(Shape):\n",
    "    def __init__(self, length, width):\n",
    "        self.length = length\n",
    "        self.width = width\n",
    "\n",
    "    def area(self):\n",
    "        return self.length * self.width \n"
   ]
  },
  {
   "cell_type": "code",
   "execution_count": 97,
   "id": "8a1fb060-18f5-4605-9aae-b4d5e187272f",
   "metadata": {},
   "outputs": [],
   "source": [
    "ab=Circle(5)"
   ]
  },
  {
   "cell_type": "code",
   "execution_count": 98,
   "id": "50469333-2eeb-4f35-9de9-8c4ef4a96113",
   "metadata": {},
   "outputs": [
    {
     "data": {
      "text/plain": [
       "78.5"
      ]
     },
     "execution_count": 98,
     "metadata": {},
     "output_type": "execute_result"
    }
   ],
   "source": [
    "ab.area()"
   ]
  },
  {
   "cell_type": "code",
   "execution_count": 99,
   "id": "202123df-7cf3-4efb-82fe-29513eed40fd",
   "metadata": {},
   "outputs": [
    {
     "data": {
      "text/plain": [
       "5"
      ]
     },
     "execution_count": 99,
     "metadata": {},
     "output_type": "execute_result"
    }
   ],
   "source": [
    "ab.radius"
   ]
  },
  {
   "cell_type": "code",
   "execution_count": 100,
   "id": "d11177dc-469a-40a3-b61f-6cd37fd4a0b4",
   "metadata": {},
   "outputs": [],
   "source": [
    "bc=Rectangle(4,5)"
   ]
  },
  {
   "cell_type": "code",
   "execution_count": 101,
   "id": "ee98e3e2-8fd7-4c34-aaf7-4899d8e7d1d2",
   "metadata": {},
   "outputs": [
    {
     "data": {
      "text/plain": [
       "20"
      ]
     },
     "execution_count": 101,
     "metadata": {},
     "output_type": "execute_result"
    }
   ],
   "source": [
    "bc.area()"
   ]
  },
  {
   "cell_type": "code",
   "execution_count": 102,
   "id": "22db912f-10c3-4eb7-884d-1109a75cde6d",
   "metadata": {},
   "outputs": [
    {
     "data": {
      "text/plain": [
       "4"
      ]
     },
     "execution_count": 102,
     "metadata": {},
     "output_type": "execute_result"
    }
   ],
   "source": [
    "bc.length"
   ]
  },
  {
   "cell_type": "code",
   "execution_count": 103,
   "id": "9aedb89f-a428-451d-87a1-05169f5a3a5b",
   "metadata": {},
   "outputs": [
    {
     "data": {
      "text/plain": [
       "5"
      ]
     },
     "execution_count": 103,
     "metadata": {},
     "output_type": "execute_result"
    }
   ],
   "source": [
    "bc.width"
   ]
  },
  {
   "cell_type": "code",
   "execution_count": null,
   "id": "22526dd4-9275-4809-bc35-76aedfbba5ed",
   "metadata": {},
   "outputs": [],
   "source": []
  },
  {
   "cell_type": "markdown",
   "id": "08a30104-c0a5-41d6-8825-f9876e60d5dd",
   "metadata": {},
   "source": [
    "## 9. Demonstrate polymorphism by creating a function that can work with different shape objects to calculate and print their areas."
   ]
  },
  {
   "cell_type": "markdown",
   "id": "fca1bc4d-0ffb-454e-885c-6b4e69b5b90b",
   "metadata": {},
   "source": [
    "### Ans\n",
    "Base Class (Shape):-The Shape class defines a common interface with a calculate_area method that raises a NotImplementedError. This forces all subclasses to implement their own area calculation logic.\n",
    "Subclasses (Circle, Rectangle):-Each subclass inherits from Shape and overrides the calculate_area method to calculate the area specific to the shape type (circle, rectangle).\n",
    "Polymorphic Function (print_shape_area):-This function takes a Shape object as input and calls its calculate_area method, allowing it to work with any shape object (circle, rectangle, etc.) without needing to know the exact type at runtime.\n",
    "\n",
    "Key point:\n",
    "→ The print_shape_area function can handle different shape objects because it relies on the common interface defined in the Shape class, demonstrating polymorphism.\n",
    "\n",
    "How it works:\n",
    "→ When you create instances of Circle or Rectangle, they are actually Shape objects because they inherit from it.\n",
    "→ When you pass these objects to print_shape_area, the function automatically calls the appropriate calculate_area method based on the actual object type."
   ]
  },
  {
   "cell_type": "code",
   "execution_count": 105,
   "id": "a74ddc33-70a0-44c7-bd52-667489406c6b",
   "metadata": {},
   "outputs": [
    {
     "name": "stdout",
     "output_type": "stream",
     "text": [
      "Area of Circle: 254.34\n",
      "Area of Rectangle: 156\n"
     ]
    }
   ],
   "source": [
    "class Shape:\n",
    "    def calculate_area(self):\n",
    "        raise NotImplementedError(\"Subclasses must implement calculate_area\") \n",
    "\n",
    "class Circle(Shape):\n",
    "    def __init__(self, radius):\n",
    "        self.radius = radius\n",
    "    \n",
    "    def calculate_area(self):\n",
    "        return 3.14 * self.radius**2 \n",
    "\n",
    "class Rectangle(Shape):\n",
    "    def __init__(self, length, width):\n",
    "        self.length = length\n",
    "        self.width = width\n",
    "    \n",
    "    def calculate_area(self):\n",
    "        return self.length * self.width \n",
    "\n",
    "def print_shape_area(shape):\n",
    "    area = shape.calculate_area()\n",
    "    print(f\"Area of {type(shape).__name__}: {area}\") \n",
    "\n",
    "# Example usage\n",
    "circle = Circle(9)\n",
    "rectangle = Rectangle(12,13)\n",
    "\n",
    "print_shape_area(circle)  \n",
    "print_shape_area(rectangle)  "
   ]
  },
  {
   "cell_type": "code",
   "execution_count": null,
   "id": "bbb5755f-89c5-4e01-9ee9-247237b646b1",
   "metadata": {},
   "outputs": [],
   "source": []
  },
  {
   "cell_type": "markdown",
   "id": "403ab47a-74ef-42ce-b36d-6c70cd029ea4",
   "metadata": {},
   "source": [
    "## 10.Implement encapsulation in a `BankAccount` class with private attributes for `balance` and `account_number`. Include methods for deposit, withdrawal, and balance inquiry."
   ]
  },
  {
   "cell_type": "markdown",
   "id": "8ab0c679-ffdb-4703-86b5-64599bdb80f2",
   "metadata": {},
   "source": [
    "### Ans"
   ]
  },
  {
   "cell_type": "code",
   "execution_count": 106,
   "id": "71e5bdb9-b909-4579-9e9e-fe08af1c986c",
   "metadata": {},
   "outputs": [],
   "source": [
    "class BankAccount:\n",
    "    def __init__(self, balance):\n",
    "        self.__balance = balance\n",
    "        \n",
    "    def deposit(self, amount): \n",
    "        self.__balance = self.__balance + amount\n",
    "    \n",
    "    def withdraw(self, amount):\n",
    "        if self.__balance >= amount:\n",
    "            self.__balance = self.__balance - amount\n",
    "            return True\n",
    "        else:\n",
    "            return False\n",
    "        \n",
    "    def get_balance(self):\n",
    "        return self.__balance"
   ]
  },
  {
   "cell_type": "code",
   "execution_count": 108,
   "id": "e9d32e2f-5649-4e21-b3a2-8071caa33d0a",
   "metadata": {},
   "outputs": [],
   "source": [
    "account_number=BankAccount(10000)"
   ]
  },
  {
   "cell_type": "code",
   "execution_count": 109,
   "id": "1d2bc2b6-247e-4483-aad3-4398e81bf80f",
   "metadata": {},
   "outputs": [
    {
     "data": {
      "text/plain": [
       "10000"
      ]
     },
     "execution_count": 109,
     "metadata": {},
     "output_type": "execute_result"
    }
   ],
   "source": [
    "account_number.get_balance()"
   ]
  },
  {
   "cell_type": "code",
   "execution_count": 110,
   "id": "6fc2c093-f27a-4f70-8806-e05319d03f8c",
   "metadata": {},
   "outputs": [
    {
     "data": {
      "text/plain": [
       "True"
      ]
     },
     "execution_count": 110,
     "metadata": {},
     "output_type": "execute_result"
    }
   ],
   "source": [
    "account_number.withdraw(750)"
   ]
  },
  {
   "cell_type": "code",
   "execution_count": 111,
   "id": "28263d44-ca7d-44ac-b2d7-a54b4b499986",
   "metadata": {},
   "outputs": [
    {
     "data": {
      "text/plain": [
       "9250"
      ]
     },
     "execution_count": 111,
     "metadata": {},
     "output_type": "execute_result"
    }
   ],
   "source": [
    "account_number.get_balance()"
   ]
  },
  {
   "cell_type": "code",
   "execution_count": 112,
   "id": "ab4ee2bd-ae83-47dc-9063-716045a5ca4e",
   "metadata": {},
   "outputs": [],
   "source": [
    "account_number.deposit(150)"
   ]
  },
  {
   "cell_type": "code",
   "execution_count": 113,
   "id": "6b575ef0-31b3-4241-99b8-bfdf0545faca",
   "metadata": {},
   "outputs": [
    {
     "data": {
      "text/plain": [
       "9400"
      ]
     },
     "execution_count": 113,
     "metadata": {},
     "output_type": "execute_result"
    }
   ],
   "source": [
    "account_number.get_balance()"
   ]
  },
  {
   "cell_type": "code",
   "execution_count": null,
   "id": "c7711451-50b1-4fd8-aee1-1f11596890e5",
   "metadata": {},
   "outputs": [],
   "source": []
  },
  {
   "cell_type": "markdown",
   "id": "8e5e15e4-644b-4d31-81f0-6e7d53e13beb",
   "metadata": {},
   "source": [
    "## 11. Write a class that overrides the `__str__` and `__add__` magic methods. What will these methods allow you to do?"
   ]
  },
  {
   "cell_type": "markdown",
   "id": "bce691ec-3f7f-43e3-9601-57221e5a18fb",
   "metadata": {},
   "source": [
    "### Ans"
   ]
  },
  {
   "cell_type": "markdown",
   "id": "0e6ba8e0-5a79-4797-80be-fd30cf96fcf4",
   "metadata": {},
   "source": [
    "→ Magic methods or dundder method are special methods in Python that start and end with double underscores, like __init__ or __str__. These methods are automatically called by Python in response to specific operations. For example, when you add two numbers with the + operator, Python internally calls the __add__ method.\n",
    "\n",
    "→Magic methods allow you to define behaviors for built-in operations directly in your custom classes. This includes everything from how your objects are created and represented to how they respond to operators and functions.\n",
    "\n",
    "→ __str__ method:-The __str__ method returns a human-readable string representation of an object, making it useful for displaying information to users. This method is called by the built-in str() function and the print() function, allowing you to define a clear and descriptive output for your objects.\n",
    "\n",
    "→ Magic methods like __add__, __sub__, __mul__, and others allow you to define custom behaviors for arithmetic operations in your custom classes. These methods are invoked when you use the corresponding arithmetic operators (+, -, *, /, etc.) on instances of your classes. This is your route to customize how your objects interact with these operators, enabling them to perform more complex or domain-specific calculations.\n",
    "\n",
    "→ That means, you can define how two custom objects representing complex numbers should be added together or how a custom matrix class should handle multiplication. This capability is really powerful for creating classes that need to behave like built-in numeric types and allows you to seamlessly integrate your custom types into Python's arithmetic operations."
   ]
  },
  {
   "cell_type": "code",
   "execution_count": 19,
   "id": "3c063c50-092b-428e-820f-c1759724d531",
   "metadata": {},
   "outputs": [],
   "source": [
    "class Book:\n",
    "    def __init__(self,title,author,pages):\n",
    "        self.title = title\n",
    "        self.author = author\n",
    "        self.pages = pages\n",
    "        \n",
    "    def __str__(self):\n",
    "        return f\"{self.title} by{self.author}  {self.pages} pages\"\n",
    "    \n",
    "    def __add__(self, other):\n",
    "        if isinstance(other, Book):\n",
    "            total_pages = self.pages + other.pages\n",
    "            return Book(\"Combined Book\", f\"{self.author} & {other.author}\", total_pages)\n",
    "        return NotImplemented"
   ]
  },
  {
   "cell_type": "code",
   "execution_count": 20,
   "id": "c521cc54-6011-43c1-b05e-f6cdcf0f1847",
   "metadata": {},
   "outputs": [],
   "source": [
    "book1=Book(\"Data Science from Scratch: First Principles with Python\",\"Joel Grus\",356)\n",
    "book2=Book(\"Introduction to Data Science:Practical Approach with R and Python\",\"B. Uma Maheswari\",584)"
   ]
  },
  {
   "cell_type": "code",
   "execution_count": 21,
   "id": "d5a4d0bb-8e1c-4531-9025-b7fb156a7102",
   "metadata": {},
   "outputs": [
    {
     "name": "stdout",
     "output_type": "stream",
     "text": [
      "Data Science from Scratch: First Principles with Python byJoel Grus  356 pages\n"
     ]
    }
   ],
   "source": [
    "#using __str__\n",
    "print(book1)"
   ]
  },
  {
   "cell_type": "code",
   "execution_count": 22,
   "id": "3fe2eb89-a42d-44fa-a638-ca30eb1fd8ea",
   "metadata": {},
   "outputs": [
    {
     "name": "stdout",
     "output_type": "stream",
     "text": [
      "Combined Book byJoel Grus & B. Uma Maheswari  940 pages\n"
     ]
    }
   ],
   "source": [
    "#using __add__\n",
    "combined_book = book1+book2\n",
    "print(combined_book)"
   ]
  },
  {
   "cell_type": "code",
   "execution_count": null,
   "id": "0257cb21-988b-4a2e-86c8-7068935ca606",
   "metadata": {},
   "outputs": [],
   "source": []
  },
  {
   "cell_type": "markdown",
   "id": "844e2daf-bef8-4c0c-8b12-3b953fdebe42",
   "metadata": {},
   "source": [
    "## 12. Create a decorator that measures and prints the execution time of a function."
   ]
  },
  {
   "cell_type": "markdown",
   "id": "8484bd18-936b-48d3-99fe-a29f33413088",
   "metadata": {},
   "source": [
    "### Ans "
   ]
  },
  {
   "cell_type": "code",
   "execution_count": 23,
   "id": "fe9d8be6-9485-4329-8148-2a6d83c814a0",
   "metadata": {},
   "outputs": [],
   "source": [
    "import time\n",
    "def timer_decorator(func):\n",
    "    def timer():\n",
    "        start = time.time()\n",
    "        func()\n",
    "        end = time.time()\n",
    "        print(\"The time for executing the code\", end-start)\n",
    "    return timer"
   ]
  },
  {
   "cell_type": "code",
   "execution_count": 24,
   "id": "58b6b27c-2484-41a0-925e-d5aafc01a61d",
   "metadata": {},
   "outputs": [],
   "source": [
    "@timer_decorator\n",
    "def func_test():\n",
    "    print(1500*1500)"
   ]
  },
  {
   "cell_type": "code",
   "execution_count": 25,
   "id": "f61dce0b-88b1-44d8-89a1-7edf03a53d30",
   "metadata": {},
   "outputs": [
    {
     "name": "stdout",
     "output_type": "stream",
     "text": [
      "2250000\n",
      "The time for executing the code 0.0002892017364501953\n"
     ]
    }
   ],
   "source": [
    "func_test()"
   ]
  },
  {
   "cell_type": "code",
   "execution_count": null,
   "id": "e20697db-3a83-43aa-a47e-b3c2603ebc8a",
   "metadata": {},
   "outputs": [],
   "source": []
  },
  {
   "cell_type": "markdown",
   "id": "f52cf523-aa8a-444a-bbd4-a5353dfb92e4",
   "metadata": {},
   "source": [
    "## 13. Explain the concept of the Diamond Problem in multiple inheritance. How does Python resolve it?"
   ]
  },
  {
   "cell_type": "markdown",
   "id": "33c25bb9-2d4e-445e-988a-35b7e4183cce",
   "metadata": {},
   "source": [
    "### Ans"
   ]
  },
  {
   "cell_type": "markdown",
   "id": "fa0a4ebc-e5de-4b95-a036-196609a517a8",
   "metadata": {},
   "source": [
    "→The \"Diamond Problem\" in multiple inheritance refers to a situation where a class inherits from two classes that both inherit from the same base class, creating a diamond-shaped hierarchy, and causing ambiguity when trying to access a method or attribute because it's unclear which parent class's version should be used; essentially, the derived class inherits multiple copies of the same method from different paths, leading to confusion about which one to call. \n",
    " \n",
    "→diamond problem:- it occurs when a class inherits from 2 or more than 2 class and it will lead to ambiguity in execution of methods\n",
    "\n",
    "→ how does python resolve it :- To remove diamond problem in python uses method resolution order(MRO) algorithm called c3 linearization about this method detail explain in question no 7 and how to resolve it \n",
    "\n",
    "→Python uses a method resolution order (MRO) to resolve the Diamond Problem. It follows a specific algorithm called the C3 linearization algorithm, which ensures that:\n",
    "→The method in the subclass is called first.\n",
    "\n",
    "→If not found in the subclass, it searches the parent classes in the order they are listed in the class definition, from left to right.\n",
    "\n",
    "→It ensures that the common ancestor's method is called only once.\n",
    "\n",
    "→ meaning that the class that is inherited first in the derived class, that method will be called in this case method 1\n",
    "\n",
    "→lets see with example"
   ]
  },
  {
   "cell_type": "code",
   "execution_count": 27,
   "id": "11cf8a5a-cfab-4f32-a4a0-5f58b4c50a67",
   "metadata": {},
   "outputs": [],
   "source": [
    "#diomond problem occur\n",
    "class ParentClass1:\n",
    "    def method_par(self):\n",
    "        print(\"method 1 of parent class 1\")\n",
    "class ParentClass2:\n",
    "    def method_par(self):\n",
    "        print(\"method2 of parent class 2\")\n",
    "class ChildClass(ParentClass1, ParentClass2):\n",
    "    def method(self):\n",
    "        print(\"method of child class\")"
   ]
  },
  {
   "cell_type": "code",
   "execution_count": 28,
   "id": "20ffe431-6341-4aa3-b034-e07922542734",
   "metadata": {},
   "outputs": [],
   "source": [
    "e=ChildClass()"
   ]
  },
  {
   "cell_type": "code",
   "execution_count": 30,
   "id": "abefe991-c6e2-4140-933f-5b93898ebce9",
   "metadata": {},
   "outputs": [
    {
     "name": "stdout",
     "output_type": "stream",
     "text": [
      "method 1 of parent class 1\n"
     ]
    }
   ],
   "source": [
    "e.method_par()"
   ]
  },
  {
   "cell_type": "code",
   "execution_count": 31,
   "id": "5df2821f-8b5b-44e1-b631-10df8bf6560f",
   "metadata": {},
   "outputs": [
    {
     "name": "stdout",
     "output_type": "stream",
     "text": [
      "method of child class\n"
     ]
    }
   ],
   "source": [
    "e.method()"
   ]
  },
  {
   "cell_type": "code",
   "execution_count": 32,
   "id": "b955e008-f8df-42d5-9acb-c394ff1a1a53",
   "metadata": {},
   "outputs": [
    {
     "name": "stdout",
     "output_type": "stream",
     "text": [
      "Method from B\n"
     ]
    }
   ],
   "source": [
    "class A:\n",
    "    def method(self):\n",
    "        print(\"Method from A\")\n",
    "\n",
    "class B(A):\n",
    "    def method(self):\n",
    "        print(\"Method from B\")\n",
    "\n",
    "class C(A):\n",
    "    def method(self):\n",
    "        print(\"Method from C\")\n",
    "\n",
    "class D(B, C):\n",
    "    pass\n",
    "\n",
    "d = D()\n",
    "d.method() "
   ]
  },
  {
   "cell_type": "markdown",
   "id": "f0d18fcb-1a9b-4465-914c-22563af889f7",
   "metadata": {},
   "source": [
    "In this example:\n",
    "Class D inherits from both B and C, which both inherit from A.\n",
    "All three classes (A, B, and C) have a method called method.\n",
    "When you call d.method(), Python needs to determine which method to execute. Should it use the one from B or the one from C? \n",
    " \n",
    "This ambiguity is known as the Diamond Problem."
   ]
  },
  {
   "cell_type": "code",
   "execution_count": null,
   "id": "5c95945d-c1f2-426e-a6dc-60debd390367",
   "metadata": {},
   "outputs": [],
   "source": []
  },
  {
   "cell_type": "markdown",
   "id": "d6abda09-9b27-406b-8a63-aeb78015bcac",
   "metadata": {},
   "source": [
    "## 14. Write a class method that keeps track of the number of instances created from a class."
   ]
  },
  {
   "cell_type": "markdown",
   "id": "3b6ad15e-8ddf-4aa8-9825-36ae3d6626be",
   "metadata": {},
   "source": [
    "### Ans"
   ]
  },
  {
   "cell_type": "code",
   "execution_count": 35,
   "id": "ed55c113-6209-4954-a602-704225fdfaa0",
   "metadata": {},
   "outputs": [
    {
     "name": "stdout",
     "output_type": "stream",
     "text": [
      "3\n"
     ]
    }
   ],
   "source": [
    "class MyClass:\n",
    "    instance_count = 0  \n",
    "\n",
    "    def __init__(self):\n",
    "        MyClass.instance_count += 1 \n",
    "\n",
    "    @classmethod\n",
    "    def get_instance_count(cls):\n",
    "        return MyClass.instance_count   \n",
    "\n",
    "C1=MyClass()\n",
    "C2=MyClass()\n",
    "C3=MyClass()\n",
    "print(MyClass.get_instance_count())"
   ]
  },
  {
   "cell_type": "markdown",
   "id": "6ec0dd77-8edf-4bfc-b37b-6202ebaac3b5",
   "metadata": {},
   "source": [
    "→ instance_count:-A static variable within the class that is initialized to 0. This variable will store the total number of instances created.\n",
    "\n",
    "→ __init__:-The constructor method, which is called whenever a new object is created. Inside the constructor, MyClass.instance_count is incremented by 1, effectively counting each new instance.\n",
    "\n",
    "→get_instance_count:-A class method decorated with @classmethod that allows you to access the instance_count without needing an instance of the class. It simply returns the current value of the counter.\n",
    "\n",
    "→ Static variable:A variable declared with class_name.variable_name is shared across all instances of the class, making it ideal for tracking a count like this.\n",
    "\n",
    "→ Class method:-A method that can be called directly on the class itself, without needing an instance.\n",
    "\n",
    "→ Accessing the count:-To check the current number of instances, simply call MyClass.get_instance_count()."
   ]
  },
  {
   "cell_type": "code",
   "execution_count": null,
   "id": "b9994a88-08b8-4dcc-8599-89b797c13e8c",
   "metadata": {},
   "outputs": [],
   "source": []
  },
  {
   "cell_type": "markdown",
   "id": "e8cbc2af-ad5b-4b31-9037-0bf5d89236d1",
   "metadata": {},
   "source": [
    "## 15.Implement a static method in a class that checks if a given year is a leap year."
   ]
  },
  {
   "cell_type": "markdown",
   "id": "a455e618-cc6c-4485-bea5-662e05415634",
   "metadata": {},
   "source": [
    "### Ans"
   ]
  },
  {
   "cell_type": "code",
   "execution_count": 45,
   "id": "aa719245-b51e-40a7-a6a0-b2ca40bd3ca1",
   "metadata": {},
   "outputs": [],
   "source": [
    "class Year:\n",
    "    @staticmethod\n",
    "    def is_leap_year(year):\n",
    "        if (year % 4 == 0 and year % 100 != 0) or (year % 400 == 0):\n",
    "            return f\"year {year} is leap year\"\n",
    "        return f\"year {year} is not leap year\""
   ]
  },
  {
   "cell_type": "code",
   "execution_count": 46,
   "id": "88969ec1-359c-4a06-a107-98c48663dc32",
   "metadata": {},
   "outputs": [
    {
     "name": "stdout",
     "output_type": "stream",
     "text": [
      "year 2000 is leap year\n"
     ]
    }
   ],
   "source": [
    "print(Year.is_leap_year(2000))"
   ]
  },
  {
   "cell_type": "code",
   "execution_count": 47,
   "id": "0a60bc04-0a4f-4c1e-b2c9-5ee2c36801a4",
   "metadata": {},
   "outputs": [
    {
     "name": "stdout",
     "output_type": "stream",
     "text": [
      "year 1900 is not leap year\n"
     ]
    }
   ],
   "source": [
    "print(Year.is_leap_year(1900))"
   ]
  },
  {
   "cell_type": "code",
   "execution_count": null,
   "id": "6bdaf398-80ea-4b99-b5fd-742276b8ab35",
   "metadata": {},
   "outputs": [],
   "source": []
  }
 ],
 "metadata": {
  "kernelspec": {
   "display_name": "Python 3 (ipykernel)",
   "language": "python",
   "name": "python3"
  },
  "language_info": {
   "codemirror_mode": {
    "name": "ipython",
    "version": 3
   },
   "file_extension": ".py",
   "mimetype": "text/x-python",
   "name": "python",
   "nbconvert_exporter": "python",
   "pygments_lexer": "ipython3",
   "version": "3.10.8"
  }
 },
 "nbformat": 4,
 "nbformat_minor": 5
}
