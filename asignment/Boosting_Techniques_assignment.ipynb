{
  "nbformat": 4,
  "nbformat_minor": 0,
  "metadata": {
    "colab": {
      "provenance": []
    },
    "kernelspec": {
      "name": "python3",
      "display_name": "Python 3"
    },
    "language_info": {
      "name": "python"
    }
  },
  "cells": [
    {
      "cell_type": "markdown",
      "source": [
        "Name:-Yash solanki\n",
        "\n",
        "Reg email id:-yash87015@gmail.com\n",
        "\n",
        "Course name:-Data analytic\n",
        "\n",
        "Assignment name:-  Boosting Techniques assignment.\n",
        "\n",
        "Submission date:-17/3/2025\n",
        "\n",
        "Git link:-https://github.com/Yash87015/YASH (in git hub use assignment folder )"
      ],
      "metadata": {
        "id": "rQaNBYx261Af"
      }
    },
    {
      "cell_type": "markdown",
      "source": [
        "# Theoretical\n",
        "\n",
        "\n",
        "\n",
        "## Q1: What is Boosting in Machine Learning?  \n",
        "**Ans**  \n",
        "Boosting is an ensemble learning technique where multiple weak models (usually decision trees) are combined to create a strong predictive model. It focuses on correcting the errors of previous models by giving more weight to misclassified instances.\n",
        "\n",
        "\n",
        "\n",
        "## Q2: How does Boosting differ from Bagging?  \n",
        "**Ans**  \n",
        "- Boosting: Models are built sequentially, with each new model correcting the mistakes of the previous one.  \n",
        "- Bagging: Models are built independently in parallel and combined through averaging or voting.\n",
        "\n",
        "\n",
        "\n",
        "## Q3: What is the key idea behind AdaBoost?  \n",
        "**Ans**  \n",
        "- AdaBoost (Adaptive Boosting) combines weak classifiers, giving more weight to misclassified instances. It builds models sequentially, adjusting the weight of data points based on previous model errors.\n",
        "\n",
        "\n",
        "\n",
        "## Q4: Explain the working of AdaBoost with an example.  \n",
        "**Ans**  \n",
        "1. Train a weak classifier on the data.  \n",
        "2. Increase the weights of misclassified instances.  \n",
        "3. Train a new model on the adjusted dataset.  \n",
        "4. Repeat steps 2 and 3, and combine the models based on weighted voting.\n",
        "\n",
        "Example: AdaBoost could be used to improve decision tree performance in spam email classification by giving higher importance to emails that were incorrectly classified in previous iterations.\n",
        "\n",
        "\n",
        "## Q5: What is Gradient Boosting, and how is it different from AdaBoost?  \n",
        "**Ans**  \n",
        "- Gradient Boosting builds models sequentially, but instead of re-weighting misclassified instances, it minimizes a loss function by fitting new models to the residuals of the previous model. AdaBoost focuses on adjusting instance weights, while Gradient Boosting focuses on reducing the model's residual errors.\n",
        "\n",
        "\n",
        "\n",
        "## Q6: What is the loss function in Gradient Boosting?  \n",
        "**Ans**  \n",
        "- The loss function in Gradient Boosting is typically a differentiable function (e.g., Mean Squared Error for regression) that measures how well the model performs. The goal is to minimize this loss by adjusting the model in each iteration.\n",
        "\n",
        "\n",
        "\n",
        "## Q7: How does XGBoost improve over traditional Gradient Boosting?  \n",
        "**Ans**  XGBoost improves Gradient Boosting by introducing:  \n",
        "- Regularization to prevent overfitting.  \n",
        "- Tree pruning for better model complexity.  \n",
        "- Handling missing values more effectively.  \n",
        "- Parallelization for faster training.\n",
        "\n",
        "\n",
        "\n",
        "## Q8: What is the difference between XGBoost and CatBoost?  \n",
        "**Ans**  \n",
        "- XGBoost: More flexible, requires manual tuning of categorical variables.  \n",
        "- CatBoost: Automatically handles categorical variables, reducing preprocessing time and complexity.\n",
        "\n",
        "\n",
        "\n",
        "## Q9: What are some real-world applications of Boosting techniques?  \n",
        "**Ans**  \n",
        "- Credit scoring: Predicting the likelihood of loan default.  \n",
        "- Spam detection: Identifying spam emails.  \n",
        "- Medical diagnosis: Classifying diseases from medical records.  \n",
        "- Marketing: Predicting customer churn and targeting ads.\n",
        "\n",
        "\n",
        "## Q10: How does regularization help in XGBoost?  \n",
        "**Ans**  \n",
        "Regularization in XGBoost helps to control model complexity, reducing overfitting. It does this by penalizing large coefficients and promoting simpler models.\n",
        "\n",
        "\n",
        "\n",
        "## Q11: What are some hyperparameters to tune in Gradient Boosting models?  \n",
        "**Ans**  \n",
        "- Learning rate: Controls the contribution of each tree.  \n",
        "- Number of estimators: Number of trees to build.  \n",
        "- Max depth: Maximum depth of each tree.  \n",
        "- Min samples split: Minimum number of samples required to split an internal node.\n",
        "\n",
        "\n",
        "\n",
        "## Q12: What is the concept of Feature Importance in Boosting?  \n",
        "**Ans**  \n",
        "- Feature importance refers to the contribution of each feature in making predictions. In Boosting models, features that contribute more to reducing the error are given higher importance.\n",
        "\n",
        "\n",
        "\n",
        "## Q13: Why is CatBoost efficient for categorical data?  \n",
        "**Ans**  \n",
        "- CatBoost uses an efficient algorithm that automatically handles categorical features by encoding them in a way that reduces overfitting, requiring less preprocessing compared to other algorithms.\n",
        "\n",
        "\n"
      ],
      "metadata": {
        "id": "SGUWh53g74uf"
      }
    },
    {
      "cell_type": "code",
      "source": [
        "!pip install catboost"
      ],
      "metadata": {
        "colab": {
          "base_uri": "https://localhost:8080/"
        },
        "id": "RMIhXQ9Z-ky2",
        "outputId": "24928f77-9f26-4b20-d638-267d945426a9"
      },
      "execution_count": null,
      "outputs": [
        {
          "output_type": "stream",
          "name": "stdout",
          "text": [
            "Collecting catboost\n",
            "  Downloading catboost-1.2.7-cp311-cp311-manylinux2014_x86_64.whl.metadata (1.2 kB)\n",
            "Requirement already satisfied: graphviz in /usr/local/lib/python3.11/dist-packages (from catboost) (0.20.3)\n",
            "Requirement already satisfied: matplotlib in /usr/local/lib/python3.11/dist-packages (from catboost) (3.10.0)\n",
            "Requirement already satisfied: numpy<2.0,>=1.16.0 in /usr/local/lib/python3.11/dist-packages (from catboost) (1.26.4)\n",
            "Requirement already satisfied: pandas>=0.24 in /usr/local/lib/python3.11/dist-packages (from catboost) (2.2.2)\n",
            "Requirement already satisfied: scipy in /usr/local/lib/python3.11/dist-packages (from catboost) (1.14.1)\n",
            "Requirement already satisfied: plotly in /usr/local/lib/python3.11/dist-packages (from catboost) (5.24.1)\n",
            "Requirement already satisfied: six in /usr/local/lib/python3.11/dist-packages (from catboost) (1.17.0)\n",
            "Requirement already satisfied: python-dateutil>=2.8.2 in /usr/local/lib/python3.11/dist-packages (from pandas>=0.24->catboost) (2.8.2)\n",
            "Requirement already satisfied: pytz>=2020.1 in /usr/local/lib/python3.11/dist-packages (from pandas>=0.24->catboost) (2025.1)\n",
            "Requirement already satisfied: tzdata>=2022.7 in /usr/local/lib/python3.11/dist-packages (from pandas>=0.24->catboost) (2025.1)\n",
            "Requirement already satisfied: contourpy>=1.0.1 in /usr/local/lib/python3.11/dist-packages (from matplotlib->catboost) (1.3.1)\n",
            "Requirement already satisfied: cycler>=0.10 in /usr/local/lib/python3.11/dist-packages (from matplotlib->catboost) (0.12.1)\n",
            "Requirement already satisfied: fonttools>=4.22.0 in /usr/local/lib/python3.11/dist-packages (from matplotlib->catboost) (4.56.0)\n",
            "Requirement already satisfied: kiwisolver>=1.3.1 in /usr/local/lib/python3.11/dist-packages (from matplotlib->catboost) (1.4.8)\n",
            "Requirement already satisfied: packaging>=20.0 in /usr/local/lib/python3.11/dist-packages (from matplotlib->catboost) (24.2)\n",
            "Requirement already satisfied: pillow>=8 in /usr/local/lib/python3.11/dist-packages (from matplotlib->catboost) (11.1.0)\n",
            "Requirement already satisfied: pyparsing>=2.3.1 in /usr/local/lib/python3.11/dist-packages (from matplotlib->catboost) (3.2.1)\n",
            "Requirement already satisfied: tenacity>=6.2.0 in /usr/local/lib/python3.11/dist-packages (from plotly->catboost) (9.0.0)\n",
            "Downloading catboost-1.2.7-cp311-cp311-manylinux2014_x86_64.whl (98.7 MB)\n",
            "\u001b[2K   \u001b[90m━━━━━━━━━━━━━━━━━━━━━━━━━━━━━━━━━━━━━━━━\u001b[0m \u001b[32m98.7/98.7 MB\u001b[0m \u001b[31m8.0 MB/s\u001b[0m eta \u001b[36m0:00:00\u001b[0m\n",
            "\u001b[?25hInstalling collected packages: catboost\n",
            "Successfully installed catboost-1.2.7\n"
          ]
        }
      ]
    },
    {
      "cell_type": "code",
      "source": [
        "#import require library\n",
        "import pandas as pd\n",
        "import numpy as np\n",
        "import matplotlib.pyplot as plt\n",
        "import seaborn as sns\n",
        "import warnings\n",
        "warnings.filterwarnings('ignore')\n",
        "from sklearn.ensemble import AdaBoostClassifier,AdaBoostRegressor,GradientBoostingRegressor\n",
        "from sklearn.tree import DecisionTreeClassifier\n",
        "from sklearn.datasets import make_classification\n",
        "from sklearn.model_selection import train_test_split\n",
        "from sklearn.datasets import load_iris,load_wine,load_breast_cancer,fetch_california_housing,load_diabetes\n",
        "from sklearn.ensemble import GradientBoostingClassifier\n",
        "from xgboost import XGBClassifier\n",
        "from catboost import CatBoostClassifier\n",
        "from sklearn.model_selection import GridSearchCV\n",
        "from sklearn.metrics import accuracy_score, classification_report, confusion_matrix, mean_squared_error, r2_score, roc_auc_score, precision_score, recall_score, f1_score,mean_absolute_error"
      ],
      "metadata": {
        "id": "vdididZZ9tuV"
      },
      "execution_count": null,
      "outputs": []
    },
    {
      "cell_type": "markdown",
      "source": [
        "# Practical\n",
        "\n",
        "## Q14. Train an AdaBoost Classifier on a sample dataset and print model accuracy?\n",
        "**Ans**"
      ],
      "metadata": {
        "id": "xydL3eAr9iv3"
      }
    },
    {
      "cell_type": "code",
      "execution_count": null,
      "metadata": {
        "colab": {
          "base_uri": "https://localhost:8080/"
        },
        "id": "85WeCbG96maN",
        "outputId": "884d9d4f-a265-45f6-c60c-5871146aa062"
      },
      "outputs": [
        {
          "output_type": "stream",
          "name": "stdout",
          "text": [
            "Accuracy: 0.9333333333333333\n"
          ]
        }
      ],
      "source": [
        "from ast import mod\n",
        "# load same dataset\n",
        "iris = load_iris()\n",
        "df = pd.DataFrame(iris.data, columns=iris.feature_names)\n",
        "df['target'] = iris.target\n",
        "\n",
        "# x and y\n",
        "x = df.drop('target', axis=1)\n",
        "y = df['target']\n",
        "\n",
        "#train test split\n",
        "x_train, x_test, y_train, y_test = train_test_split(x, y, test_size=0.2, random_state=42)\n",
        "\n",
        "#adaboostclf\n",
        "model = AdaBoostClassifier(n_estimators=50, random_state=42)\n",
        "model.fit(x_train, y_train)\n",
        "y_pred = model.predict(x_test)\n",
        "accuracy = accuracy_score(y_test, y_pred)\n",
        "print(f\"Accuracy: {accuracy}\")\n"
      ]
    },
    {
      "cell_type": "markdown",
      "source": [
        "## 15. Train an AdaBoost Regressor and evaluate performance using Mean Absolute Error (MAE)?\n",
        "**Ans**"
      ],
      "metadata": {
        "id": "d9rf9ulY8To6"
      }
    },
    {
      "cell_type": "code",
      "source": [
        "data = fetch_california_housing()\n",
        "df = pd.DataFrame(data.data, columns=data.feature_names)\n",
        "df['target'] = data.target\n",
        "\n",
        "x = df.drop('target', axis=1)\n",
        "y = df['target']\n",
        "\n",
        "#standard scaler\n",
        "from sklearn.preprocessing import StandardScaler\n",
        "scaler = StandardScaler()\n",
        "x = scaler.fit_transform(x)\n",
        "\n",
        "#train test split\n",
        "x_train, x_test, y_train, y_test = train_test_split(x, y, test_size=0.2, random_state=42)\n",
        "\n",
        "#adaboost regressor\n",
        "model = AdaBoostRegressor(n_estimators=50, random_state=42,learning_rate=0.1,loss='linear')\n",
        "model.fit(x_train, y_train)\n",
        "y_pred = model.predict(x_test)\n",
        "mae = mean_absolute_error(y_test, y_pred)\n",
        "print(f\"Mean Absolute Error: {mae}\")\n",
        "print(f\"r2_score: {r2_score(y_test, y_pred)}\")"
      ],
      "metadata": {
        "id": "MyvRz1Hc_GGL",
        "colab": {
          "base_uri": "https://localhost:8080/"
        },
        "outputId": "0a21ac4d-b466-4a36-9708-d36597830c92"
      },
      "execution_count": null,
      "outputs": [
        {
          "output_type": "stream",
          "name": "stdout",
          "text": [
            "Mean Absolute Error: 0.5854034386560143\n",
            "r2_score: 0.5710090066389739\n"
          ]
        }
      ]
    },
    {
      "cell_type": "markdown",
      "source": [
        "## Q16. Train a Gradient Boosting Classifier on the Breast Cancer dataset and print feature importance?\n",
        "**Ans**"
      ],
      "metadata": {
        "id": "ixBi9bR_D3S9"
      }
    },
    {
      "cell_type": "code",
      "source": [
        "data = load_breast_cancer()\n",
        "df=pd.DataFrame(data.data,columns=data.feature_names)\n",
        "df['target']=data.target\n",
        "\n",
        "x=df.drop('target',axis=1)\n",
        "y=df['target']\n",
        "\n",
        "#train test split\n",
        "x_train, x_test, y_train, y_test = train_test_split(x, y, test_size=0.2, random_state=42)\n",
        "\n",
        "#gradiant boosting classifier\n",
        "model = GradientBoostingClassifier(n_estimators=100, learning_rate=0.1, max_depth=3, random_state=42)\n",
        "model.fit(x_train, y_train)\n",
        "y_pred = model.predict(x_test)\n",
        "accuracy = accuracy_score(y_test, y_pred)\n",
        "print(f\"Accuracy: {accuracy}\")\n",
        "print(f\"Feature Importance: {model.feature_importances_}\")\n"
      ],
      "metadata": {
        "colab": {
          "base_uri": "https://localhost:8080/"
        },
        "id": "5m103LpoD-kq",
        "outputId": "f8982049-071e-46bd-badb-c9437cf175c0"
      },
      "execution_count": null,
      "outputs": [
        {
          "output_type": "stream",
          "name": "stdout",
          "text": [
            "Accuracy: 0.956140350877193\n",
            "Feature Importance: [1.29234808e-05 2.78045836e-02 2.01183642e-04 4.25403304e-04\n",
            " 2.46660446e-03 2.99604699e-03 9.22233287e-04 4.50527588e-01\n",
            " 5.19940461e-04 1.06691601e-04 6.87020789e-03 3.60401381e-03\n",
            " 1.15680237e-03 8.41527251e-03 5.56452892e-04 2.51063498e-03\n",
            " 1.30679228e-02 2.03810848e-03 7.02862580e-04 4.22393330e-03\n",
            " 7.55888752e-02 3.98864800e-02 5.14082111e-02 3.82446946e-02\n",
            " 4.81083076e-03 4.50121585e-04 1.87249757e-02 2.40103086e-01\n",
            " 1.47800843e-03 1.75306929e-04]\n"
          ]
        }
      ]
    },
    {
      "cell_type": "markdown",
      "source": [
        "## Q17. Train a Gradient Boosting Regressor and evaluate using R-Squared Score?\n",
        "**Ans**"
      ],
      "metadata": {
        "id": "gw2zP02e-OFh"
      }
    },
    {
      "cell_type": "code",
      "source": [
        "data = fetch_california_housing()\n",
        "df = pd.DataFrame(data.data, columns=data.feature_names)\n",
        "df['target'] = data.target\n",
        "\n",
        "x = df.drop('target', axis=1)\n",
        "y = df['target']\n",
        "\n",
        "#standard scaler\n",
        "from sklearn.preprocessing import StandardScaler\n",
        "scaler = StandardScaler()\n",
        "x = scaler.fit_transform(x)\n",
        "\n",
        "#train test split\n",
        "x_train, x_test, y_train, y_test = train_test_split(x, y, test_size=0.2, random_state=42)\n",
        "\n",
        "#grading bossting regressor\n",
        "model = GradientBoostingRegressor(n_estimators=100, max_depth=3, random_state=42)\n",
        "model.fit(x_train, y_train)\n",
        "y_pred = model.predict(x_test)\n",
        "r2 = r2_score(y_test, y_pred)\n",
        "print(f\"R-squared Score: {r2}\")\n",
        "print(f\"Mean Absolute Error: {mean_absolute_error(y_test, y_pred)}\")"
      ],
      "metadata": {
        "colab": {
          "base_uri": "https://localhost:8080/"
        },
        "id": "4Sw5ddJO9HCj",
        "outputId": "e51075c6-1831-4561-959f-78a237c78b6e"
      },
      "execution_count": null,
      "outputs": [
        {
          "output_type": "stream",
          "name": "stdout",
          "text": [
            "R-squared Score: 0.7756433164710084\n",
            "Mean Absolute Error: 0.37165044848436773\n"
          ]
        }
      ]
    },
    {
      "cell_type": "markdown",
      "source": [
        "## Q18.Train an XGBoost Classifier on a dataset and compare accuracy with Gradient Boosting?\n",
        "**Ans**"
      ],
      "metadata": {
        "id": "VDSsxoEcAKYx"
      }
    },
    {
      "cell_type": "code",
      "source": [
        "data = load_wine()\n",
        "df = pd.DataFrame(data.data, columns=data.feature_names)\n",
        "df['target'] = data.target\n",
        "\n",
        "x = df.drop('target', axis=1)\n",
        "y = df['target']\n",
        "\n",
        "#train tests split\n",
        "x_train, x_test, y_train, y_test = train_test_split(x, y, test_size=0.2, random_state=42)\n",
        "\n",
        "#xgboost classifier\n",
        "model = XGBClassifier(n_estimators=100, learning_rate=0.1, max_depth=3, random_state=42)\n",
        "model.fit(x_train, y_train)\n",
        "\n",
        "#predict\n",
        "y_pred = model.predict(x_test)\n",
        "accuracy = accuracy_score(y_test, y_pred)\n",
        "print(f\"Accuracy: {accuracy}\")\n",
        "\n",
        "#gradiant boosting classifier\n",
        "model_2 = GradientBoostingClassifier(n_estimators=100, learning_rate=0.1, max_depth=3, random_state=42)\n",
        "model_2.fit(x_train, y_train)\n",
        "\n",
        "#predict\n",
        "y_pred = model_2.predict(x_test)\n",
        "accuracy_2 = accuracy_score(y_test, y_pred)\n",
        "print(f\"Accuracy: {accuracy_2}\")\n",
        "\n",
        "#compare\n",
        "if accuracy > accuracy_2:\n",
        "    print(\"XGBoost Classifier performs better.\")\n",
        "else:\n",
        "    print(\"Gradient Boosting Classifier performs better.\")\n"
      ],
      "metadata": {
        "colab": {
          "base_uri": "https://localhost:8080/"
        },
        "id": "EojnQ_aW_2CM",
        "outputId": "8cbec976-cd9b-468b-f18e-eb6563f08957"
      },
      "execution_count": null,
      "outputs": [
        {
          "output_type": "stream",
          "name": "stdout",
          "text": [
            "Accuracy: 0.9722222222222222\n",
            "Accuracy: 0.9444444444444444\n",
            "XGBoost Classifier performs better.\n"
          ]
        }
      ]
    },
    {
      "cell_type": "markdown",
      "source": [
        "## Q19. Train a CatBoost Classifier and evaluate using F1-Score?\n",
        "**Ans**"
      ],
      "metadata": {
        "id": "NCBYDK5sGdF7"
      }
    },
    {
      "cell_type": "code",
      "source": [
        "data = load_wine()\n",
        "df = pd.DataFrame(data.data, columns=data.feature_names)\n",
        "df['target']=data.target\n",
        "\n",
        "x = df.drop('target', axis=1)\n",
        "y = df['target']\n",
        "\n",
        "#train test split\n",
        "x_train, x_test, y_train, y_test = train_test_split(x, y, test_size=0.2, random_state=42)\n",
        "\n",
        "#catboost classifier\n",
        "model = CatBoostClassifier(iterations=100, learning_rate=0.1, depth=3, loss_function='MultiClass', random_state=42)\n",
        "model.fit(x_train, y_train)\n",
        "\n",
        "#predict\n",
        "y_pred = model.predict(x_test)\n",
        "f1 = f1_score(y_test, y_pred, average='weighted')\n",
        "print(f\"F1-Score: {f1}\")\n",
        "#accuracy\n",
        "accuracy = accuracy_score(y_test, y_pred)\n",
        "print(f\"Accuracy: {accuracy}\")"
      ],
      "metadata": {
        "id": "Zfxl0crvGQek",
        "colab": {
          "base_uri": "https://localhost:8080/"
        },
        "outputId": "272ea7f7-cb73-48bb-b70a-a0d285e24471"
      },
      "execution_count": null,
      "outputs": [
        {
          "output_type": "stream",
          "name": "stdout",
          "text": [
            "0:\tlearn: 0.9980319\ttotal: 886us\tremaining: 87.7ms\n",
            "1:\tlearn: 0.8930238\ttotal: 1.78ms\tremaining: 87.1ms\n",
            "2:\tlearn: 0.8162464\ttotal: 2.84ms\tremaining: 91.7ms\n",
            "3:\tlearn: 0.7598665\ttotal: 3.69ms\tremaining: 88.4ms\n",
            "4:\tlearn: 0.7038791\ttotal: 4.38ms\tremaining: 83.1ms\n",
            "5:\tlearn: 0.6462894\ttotal: 9.81ms\tremaining: 154ms\n",
            "6:\tlearn: 0.6019646\ttotal: 10.7ms\tremaining: 143ms\n",
            "7:\tlearn: 0.5496939\ttotal: 11.7ms\tremaining: 135ms\n",
            "8:\tlearn: 0.5120422\ttotal: 12.6ms\tremaining: 128ms\n",
            "9:\tlearn: 0.4796436\ttotal: 20.7ms\tremaining: 186ms\n",
            "10:\tlearn: 0.4533298\ttotal: 21.8ms\tremaining: 177ms\n",
            "11:\tlearn: 0.4232918\ttotal: 22.8ms\tremaining: 167ms\n",
            "12:\tlearn: 0.3967263\ttotal: 23.7ms\tremaining: 159ms\n",
            "13:\tlearn: 0.3769460\ttotal: 24.5ms\tremaining: 150ms\n",
            "14:\tlearn: 0.3542385\ttotal: 25.3ms\tremaining: 143ms\n",
            "15:\tlearn: 0.3329196\ttotal: 26.3ms\tremaining: 138ms\n",
            "16:\tlearn: 0.3118614\ttotal: 27.3ms\tremaining: 133ms\n",
            "17:\tlearn: 0.2951569\ttotal: 30.5ms\tremaining: 139ms\n",
            "18:\tlearn: 0.2805214\ttotal: 39.8ms\tremaining: 170ms\n",
            "19:\tlearn: 0.2671079\ttotal: 41ms\tremaining: 164ms\n",
            "20:\tlearn: 0.2511014\ttotal: 41.8ms\tremaining: 157ms\n",
            "21:\tlearn: 0.2396247\ttotal: 42.3ms\tremaining: 150ms\n",
            "22:\tlearn: 0.2302473\ttotal: 43.2ms\tremaining: 145ms\n",
            "23:\tlearn: 0.2213428\ttotal: 44.1ms\tremaining: 140ms\n",
            "24:\tlearn: 0.2128399\ttotal: 44.6ms\tremaining: 134ms\n",
            "25:\tlearn: 0.2047315\ttotal: 45.4ms\tremaining: 129ms\n",
            "26:\tlearn: 0.1960279\ttotal: 46.3ms\tremaining: 125ms\n",
            "27:\tlearn: 0.1891005\ttotal: 47.1ms\tremaining: 121ms\n",
            "28:\tlearn: 0.1815378\ttotal: 47.6ms\tremaining: 117ms\n",
            "29:\tlearn: 0.1756201\ttotal: 48.3ms\tremaining: 113ms\n",
            "30:\tlearn: 0.1676733\ttotal: 56.2ms\tremaining: 125ms\n",
            "31:\tlearn: 0.1622777\ttotal: 57.3ms\tremaining: 122ms\n",
            "32:\tlearn: 0.1550082\ttotal: 58.4ms\tremaining: 119ms\n",
            "33:\tlearn: 0.1496860\ttotal: 62ms\tremaining: 120ms\n",
            "34:\tlearn: 0.1452933\ttotal: 62.9ms\tremaining: 117ms\n",
            "35:\tlearn: 0.1397679\ttotal: 70ms\tremaining: 124ms\n",
            "36:\tlearn: 0.1347717\ttotal: 71ms\tremaining: 121ms\n",
            "37:\tlearn: 0.1283855\ttotal: 72ms\tremaining: 117ms\n",
            "38:\tlearn: 0.1250082\ttotal: 72.6ms\tremaining: 114ms\n",
            "39:\tlearn: 0.1223083\ttotal: 73.4ms\tremaining: 110ms\n",
            "40:\tlearn: 0.1189037\ttotal: 74.3ms\tremaining: 107ms\n",
            "41:\tlearn: 0.1164825\ttotal: 75.2ms\tremaining: 104ms\n",
            "42:\tlearn: 0.1142751\ttotal: 77ms\tremaining: 102ms\n",
            "43:\tlearn: 0.1107168\ttotal: 78ms\tremaining: 99.3ms\n",
            "44:\tlearn: 0.1070390\ttotal: 79ms\tremaining: 96.6ms\n",
            "45:\tlearn: 0.1034196\ttotal: 79.9ms\tremaining: 93.8ms\n",
            "46:\tlearn: 0.1014810\ttotal: 101ms\tremaining: 114ms\n",
            "47:\tlearn: 0.0985613\ttotal: 102ms\tremaining: 110ms\n",
            "48:\tlearn: 0.0957742\ttotal: 103ms\tremaining: 107ms\n",
            "49:\tlearn: 0.0936746\ttotal: 104ms\tremaining: 104ms\n",
            "50:\tlearn: 0.0916316\ttotal: 105ms\tremaining: 101ms\n",
            "51:\tlearn: 0.0902957\ttotal: 114ms\tremaining: 105ms\n",
            "52:\tlearn: 0.0889368\ttotal: 115ms\tremaining: 102ms\n",
            "53:\tlearn: 0.0872353\ttotal: 116ms\tremaining: 99.2ms\n",
            "54:\tlearn: 0.0849823\ttotal: 119ms\tremaining: 97.6ms\n",
            "55:\tlearn: 0.0834853\ttotal: 120ms\tremaining: 94.4ms\n",
            "56:\tlearn: 0.0819629\ttotal: 127ms\tremaining: 95.7ms\n",
            "57:\tlearn: 0.0800766\ttotal: 130ms\tremaining: 93.8ms\n",
            "58:\tlearn: 0.0790618\ttotal: 131ms\tremaining: 90.7ms\n",
            "59:\tlearn: 0.0764278\ttotal: 134ms\tremaining: 89.6ms\n",
            "60:\tlearn: 0.0745994\ttotal: 135ms\tremaining: 86.6ms\n",
            "61:\tlearn: 0.0731642\ttotal: 136ms\tremaining: 83.5ms\n",
            "62:\tlearn: 0.0721641\ttotal: 146ms\tremaining: 86ms\n",
            "63:\tlearn: 0.0703599\ttotal: 147ms\tremaining: 82.9ms\n",
            "64:\tlearn: 0.0701856\ttotal: 149ms\tremaining: 80.4ms\n",
            "65:\tlearn: 0.0678115\ttotal: 151ms\tremaining: 78ms\n",
            "66:\tlearn: 0.0676090\ttotal: 152ms\tremaining: 75ms\n",
            "67:\tlearn: 0.0658036\ttotal: 154ms\tremaining: 72.6ms\n",
            "68:\tlearn: 0.0653187\ttotal: 157ms\tremaining: 70.3ms\n",
            "69:\tlearn: 0.0639677\ttotal: 158ms\tremaining: 67.6ms\n",
            "70:\tlearn: 0.0628939\ttotal: 167ms\tremaining: 68ms\n",
            "71:\tlearn: 0.0621367\ttotal: 170ms\tremaining: 66.1ms\n",
            "72:\tlearn: 0.0615910\ttotal: 171ms\tremaining: 63.3ms\n",
            "73:\tlearn: 0.0600276\ttotal: 172ms\tremaining: 60.4ms\n",
            "74:\tlearn: 0.0593613\ttotal: 175ms\tremaining: 58.4ms\n",
            "75:\tlearn: 0.0586853\ttotal: 176ms\tremaining: 55.7ms\n",
            "76:\tlearn: 0.0571110\ttotal: 177ms\tremaining: 52.9ms\n",
            "77:\tlearn: 0.0561933\ttotal: 186ms\tremaining: 52.4ms\n",
            "78:\tlearn: 0.0552228\ttotal: 189ms\tremaining: 50.2ms\n",
            "79:\tlearn: 0.0537020\ttotal: 190ms\tremaining: 47.4ms\n",
            "80:\tlearn: 0.0526871\ttotal: 195ms\tremaining: 45.8ms\n",
            "81:\tlearn: 0.0520637\ttotal: 196ms\tremaining: 43.1ms\n",
            "82:\tlearn: 0.0513063\ttotal: 197ms\tremaining: 40.4ms\n",
            "83:\tlearn: 0.0505796\ttotal: 200ms\tremaining: 38.2ms\n",
            "84:\tlearn: 0.0501013\ttotal: 201ms\tremaining: 35.5ms\n",
            "85:\tlearn: 0.0499811\ttotal: 210ms\tremaining: 34.2ms\n",
            "86:\tlearn: 0.0498099\ttotal: 213ms\tremaining: 31.8ms\n",
            "87:\tlearn: 0.0497309\ttotal: 214ms\tremaining: 29.2ms\n",
            "88:\tlearn: 0.0492836\ttotal: 216ms\tremaining: 26.7ms\n",
            "89:\tlearn: 0.0484976\ttotal: 217ms\tremaining: 24.1ms\n",
            "90:\tlearn: 0.0476018\ttotal: 219ms\tremaining: 21.6ms\n",
            "91:\tlearn: 0.0461908\ttotal: 221ms\tremaining: 19.2ms\n",
            "92:\tlearn: 0.0460778\ttotal: 222ms\tremaining: 16.7ms\n",
            "93:\tlearn: 0.0448484\ttotal: 226ms\tremaining: 14.4ms\n",
            "94:\tlearn: 0.0437102\ttotal: 228ms\tremaining: 12ms\n",
            "95:\tlearn: 0.0428570\ttotal: 235ms\tremaining: 9.8ms\n",
            "96:\tlearn: 0.0419142\ttotal: 236ms\tremaining: 7.31ms\n",
            "97:\tlearn: 0.0413640\ttotal: 237ms\tremaining: 4.84ms\n",
            "98:\tlearn: 0.0410253\ttotal: 247ms\tremaining: 2.49ms\n",
            "99:\tlearn: 0.0404018\ttotal: 248ms\tremaining: 0us\n",
            "F1-Score: 1.0\n",
            "Accuracy: 1.0\n"
          ]
        }
      ]
    },
    {
      "cell_type": "code",
      "source": [
        "#classificacation report\n",
        "from sklearn.metrics import classification_report\n",
        "print(classification_report(y_test, y_pred))"
      ],
      "metadata": {
        "colab": {
          "base_uri": "https://localhost:8080/"
        },
        "id": "D3oT85BYXHCM",
        "outputId": "1ebe08cb-31f1-4a91-d278-580195b18fdd"
      },
      "execution_count": null,
      "outputs": [
        {
          "output_type": "stream",
          "name": "stdout",
          "text": [
            "              precision    recall  f1-score   support\n",
            "\n",
            "           0       1.00      1.00      1.00        14\n",
            "           1       1.00      1.00      1.00        14\n",
            "           2       1.00      1.00      1.00         8\n",
            "\n",
            "    accuracy                           1.00        36\n",
            "   macro avg       1.00      1.00      1.00        36\n",
            "weighted avg       1.00      1.00      1.00        36\n",
            "\n"
          ]
        }
      ]
    },
    {
      "cell_type": "markdown",
      "source": [
        "## Q20.Train an XGBoost Regressor and evaluate using Mean Squared Error (MSE)?\n",
        "**Ans**"
      ],
      "metadata": {
        "id": "QvsouEEEYGHW"
      }
    },
    {
      "cell_type": "code",
      "source": [
        "from sklearn import datasets\n",
        "data = datasets.fetch_california_housing()\n",
        "df = pd.DataFrame(data.data, columns=data.feature_names)\n",
        "df['target'] = data.target\n",
        "\n",
        "x = df.drop('target', axis=1)\n",
        "y = df['target']\n",
        "\n",
        "#scalling\n",
        "from sklearn.preprocessing import StandardScaler\n",
        "scaler = StandardScaler()\n",
        "x = scaler.fit_transform(x)\n",
        "\n",
        "#train test split\n",
        "x_train, x_test, y_train, y_test = train_test_split(x, y, test_size=0.2, random_state=42)\n",
        "\n",
        "#xgboost regressor\n",
        "from xgboost import XGBRegressor\n",
        "model = XGBRegressor(n_estimators=100, learning_rate=0.1, max_depth=3, random_state=42)\n",
        "model.fit(x_train, y_train)\n",
        "\n",
        "#predict\n",
        "y_pred = model.predict(x_test)\n",
        "mse = mean_squared_error(y_test, y_pred)\n",
        "print(f\"Mean Squared Error: {mse}\")\n",
        "print(f\"r2 score: {r2_score(y_test, y_pred)}\")\n"
      ],
      "metadata": {
        "colab": {
          "base_uri": "https://localhost:8080/"
        },
        "id": "CRTFLpY3YAql",
        "outputId": "90b00146-e9be-4531-e08c-c3e0400e5845"
      },
      "execution_count": null,
      "outputs": [
        {
          "output_type": "stream",
          "name": "stdout",
          "text": [
            "Mean Squared Error: 0.29522676196268116\n",
            "r2 score: 0.7747063955872805\n"
          ]
        }
      ]
    },
    {
      "cell_type": "markdown",
      "source": [
        "## Q21. Train an AdaBoost Classifier and visualize feature importance?\n",
        "**Ans**"
      ],
      "metadata": {
        "id": "tYVJW4YVcPV1"
      }
    },
    {
      "cell_type": "code",
      "source": [
        "data = load_wine()\n",
        "df = pd.DataFrame(data.data, columns=data.feature_names)\n",
        "df['target']=data.target\n",
        "\n",
        "x = df.drop('target', axis=1)\n",
        "y = df['target']\n",
        "\n",
        "#train test split\n",
        "x_train, x_test, y_train, y_test = train_test_split(x, y, test_size=0.2, random_state=42)\n",
        "\n",
        "#adaboost clf\n",
        "model = AdaBoostClassifier(n_estimators=50, random_state=42)\n",
        "model.fit(x_train, y_train)\n",
        "y_pred = model.predict(x_test)\n",
        "\n",
        "#evalution\n",
        "accuracy = accuracy_score(y_test, y_pred)\n",
        "print(f\"Accuracy: {accuracy}\")\n",
        "\n",
        "#feature importance\n",
        "feature_importance = model.feature_importances_\n",
        "print(f\"Feature Importance: {feature_importance}\")\n",
        "\n",
        "#visualize feature importance\n",
        "import matplotlib.pyplot as plt\n",
        "plt.bar(data.feature_names, feature_importance)\n",
        "plt.xlabel('Features')\n",
        "plt.ylabel('Importance')\n",
        "plt.title('Feature Importance')\n",
        "plt.xticks(rotation=90)\n",
        "plt.tight_layout()\n",
        "plt.show()\n"
      ],
      "metadata": {
        "colab": {
          "base_uri": "https://localhost:8080/",
          "height": 556
        },
        "id": "erhuFHvHZJEO",
        "outputId": "02cbe315-6fd5-4c88-9fb7-ed2fc1f3b1f6"
      },
      "execution_count": null,
      "outputs": [
        {
          "output_type": "stream",
          "name": "stdout",
          "text": [
            "Accuracy: 0.9444444444444444\n",
            "Feature Importance: [0.17962458 0.         0.         0.         0.         0.\n",
            " 0.47231733 0.         0.         0.13400472 0.05105083 0.04898639\n",
            " 0.11401615]\n"
          ]
        },
        {
          "output_type": "display_data",
          "data": {
            "text/plain": [
              "<Figure size 640x480 with 1 Axes>"
            ],
            "image/png": "[encoded data removed]"
          },
          "metadata": {}
        }
      ]
    },
    {
      "cell_type": "markdown",
      "source": [
        "## Q22. Train a Gradient Boosting Regressor and plot learning curves?\n",
        "**Ans**"
      ],
      "metadata": {
        "id": "IkkmoIqaiZaE"
      }
    },
    {
      "cell_type": "code",
      "source": [
        "import numpy as np\n",
        "import matplotlib.pyplot as plt\n",
        "from sklearn.datasets import fetch_california_housing\n",
        "from sklearn.ensemble import GradientBoostingRegressor\n",
        "from sklearn.model_selection import learning_curve, train_test_split\n",
        "from sklearn.metrics import mean_squared_error\n",
        "from sklearn.preprocessing import StandardScaler\n",
        "\n",
        "# Load dataset\n",
        "data = fetch_california_housing()\n",
        "X, y = data.data, data.target\n",
        "\n",
        "# Standardize features\n",
        "scaler = StandardScaler()\n",
        "X = scaler.fit_transform(X)\n",
        "\n",
        "# Split dataset\n",
        "X_train, X_test, y_train, y_test = train_test_split(X, y, test_size=0.2, random_state=42)\n",
        "\n",
        "# Define model\n",
        "gb_reg = GradientBoostingRegressor(n_estimators=200, learning_rate=0.1, max_depth=4, random_state=42)\n",
        "\n",
        "# Train model\n",
        "gb_reg.fit(X_train, y_train)\n",
        "\n",
        "# Predictions and evaluation\n",
        "y_pred = gb_reg.predict(X_test)\n",
        "mse = mean_squared_error(y_test, y_pred)\n",
        "print(f\"Test MSE: {mse:.4f}\")\n",
        "\n",
        "# Compute learning curve\n",
        "train_sizes, train_scores, test_scores = learning_curve(gb_reg, X_train, y_train, cv=5, scoring='neg_mean_squared_error')\n",
        "\n",
        "# Compute mean and std deviation\n",
        "train_mean = -np.mean(train_scores, axis=1)\n",
        "test_mean = -np.mean(test_scores, axis=1)\n",
        "\n",
        "# Plot learning curve\n",
        "plt.figure(figsize=(8, 6))\n",
        "plt.plot(train_sizes, train_mean, label=\"Training Error\", marker='o')\n",
        "plt.plot(train_sizes, test_mean, label=\"Validation Error\", marker='s')\n",
        "plt.xlabel(\"Training Size\")\n",
        "plt.ylabel(\"Mean Squared Error\")\n",
        "plt.title(\"Learning Curve - Gradient Boosting Regressor\")\n",
        "plt.legend()\n",
        "plt.grid()\n",
        "plt.show()\n"
      ],
      "metadata": {
        "id": "heq9Oioi6szd",
        "colab": {
          "base_uri": "https://localhost:8080/",
          "height": 581
        },
        "outputId": "c56b213a-1831-4559-d1d6-d00a8506d14a"
      },
      "execution_count": null,
      "outputs": [
        {
          "output_type": "stream",
          "name": "stdout",
          "text": [
            "Test MSE: 0.2378\n"
          ]
        },
        {
          "output_type": "display_data",
          "data": {
            "text/plain": [
              "<Figure size 800x600 with 1 Axes>"
            ],
            "image/png": "[encoded data removed]"
          },
          "metadata": {}
        }
      ]
    },
    {
      "cell_type": "markdown",
      "source": [
        "## Q23. Train an XGBoost Classifier and visualize feature importance?\n",
        "**Ans**"
      ],
      "metadata": {
        "id": "uUZxuGjqt0ZK"
      }
    },
    {
      "cell_type": "code",
      "source": [
        "data = load_wine()\n",
        "df = pd.DataFrame(data.data, columns=data.feature_names)\n",
        "df['target']=data.target\n",
        "\n",
        "x = df.drop('target', axis=1)\n",
        "y = df['target']\n",
        "\n",
        "#train test split\n",
        "x_train, x_test, y_train, y_test = train_test_split(x, y, test_size=0.2, random_state=42)\n",
        "\n",
        "#xgboost classifier\n",
        "model = XGBClassifier(n_estimators=100, learning_rate=0.1, max_depth=3, random_state=42)\n",
        "model.fit(x_train, y_train)\n",
        "#predict\n",
        "y_pred = model.predict(x_test)\n",
        "accuracy = accuracy_score(y_test, y_pred)\n",
        "print(f\"Accuracy: {accuracy}\")\n",
        "\n",
        "#feature importance\n",
        "feature_importance = model.feature_importances_\n",
        "print(f\"Feature Importance: {feature_importance}\")\n",
        "\n",
        "#visualize\n",
        "plt.figure(figsize=(8, 6))\n",
        "plt.bar(data.feature_names, feature_importance)\n",
        "plt.xlabel('Features')\n",
        "plt.ylabel('Importance')\n",
        "plt.title('Feature Importance')\n",
        "plt.xticks(rotation=90)\n",
        "plt.show()"
      ],
      "metadata": {
        "colab": {
          "base_uri": "https://localhost:8080/",
          "height": 834
        },
        "id": "KxXNzXhmtG8X",
        "outputId": "3b12ad93-db6c-4f04-9810-f8e77ebcc358"
      },
      "execution_count": null,
      "outputs": [
        {
          "output_type": "stream",
          "name": "stdout",
          "text": [
            "Accuracy: 0.9722222222222222\n",
            "Feature Importance: [0.0118808  0.03216758 0.00986664 0.00440199 0.02501612 0.01592019\n",
            " 0.10094967 0.00409993 0.00175859 0.13861522 0.00842555 0.53264725\n",
            " 0.11425051]\n"
          ]
        },
        {
          "output_type": "display_data",
          "data": {
            "text/plain": [
              "<Figure size 800x600 with 1 Axes>"
            ],
            "image/png": "[encoded data removed]"
          },
          "metadata": {}
        }
      ]
    },
    {
      "cell_type": "markdown",
      "source": [
        "## Q24.Train a CatBoost Classifier and plot the confusion matrix?\n",
        "**Ans**"
      ],
      "metadata": {
        "id": "O8T99RQsxKa6"
      }
    },
    {
      "cell_type": "code",
      "source": [
        "data = load_wine()\n",
        "df = pd.DataFrame(data.data, columns=data.feature_names)\n",
        "df['target'] = data.target\n",
        "\n",
        "x = df.drop('target', axis=1)\n",
        "y = df['target']\n",
        "\n",
        "#train test split\n",
        "x_train,x_test,y_train,y_test = train_test_split(x,y,test_size=0.3,random_state=42)\n",
        "\n",
        "#model\n",
        "model = CatBoostClassifier(iterations=100, learning_rate=0.1, depth=3, loss_function='MultiClass', random_state=42)\n",
        "model.fit(x_train, y_train)\n",
        "y_pred = model.predict(x_test)\n",
        "accuracy = accuracy_score(y_test, y_pred)\n",
        "print(f\"Accuracy: {accuracy}\")\n",
        "\n",
        "#confusion matrix\n",
        "cm = confusion_matrix(y_test, y_pred)\n",
        "print(f\"Confusion Matrix:\\n{cm}\")\n",
        "\n",
        "#plot\n",
        "plt.figure(figsize=(8, 6))\n",
        "sns.heatmap(cm, annot=True, fmt='d', cmap='Blues')\n",
        "plt.xlabel('Predicted')\n",
        "plt.ylabel('True')\n",
        "plt.title('Confusion Matrix')\n",
        "plt.show()\n"
      ],
      "metadata": {
        "id": "f6OThsw_vYqF",
        "colab": {
          "base_uri": "https://localhost:8080/",
          "height": 1000
        },
        "outputId": "01799693-62d2-43b4-8acf-06e15a0d3d5b"
      },
      "execution_count": 22,
      "outputs": [
        {
          "output_type": "stream",
          "name": "stdout",
          "text": [
            "0:\tlearn: 0.9939844\ttotal: 2.29ms\tremaining: 227ms\n",
            "1:\tlearn: 0.8980680\ttotal: 4.58ms\tremaining: 225ms\n",
            "2:\tlearn: 0.8222667\ttotal: 5.47ms\tremaining: 177ms\n",
            "3:\tlearn: 0.7562931\ttotal: 6.39ms\tremaining: 153ms\n",
            "4:\tlearn: 0.7046785\ttotal: 7.28ms\tremaining: 138ms\n",
            "5:\tlearn: 0.6510912\ttotal: 11.2ms\tremaining: 176ms\n",
            "6:\tlearn: 0.6153028\ttotal: 15.4ms\tremaining: 204ms\n",
            "7:\tlearn: 0.5741303\ttotal: 16.5ms\tremaining: 189ms\n",
            "8:\tlearn: 0.5337960\ttotal: 17.4ms\tremaining: 175ms\n",
            "9:\tlearn: 0.4995208\ttotal: 18.2ms\tremaining: 164ms\n",
            "10:\tlearn: 0.4726575\ttotal: 19ms\tremaining: 154ms\n",
            "11:\tlearn: 0.4438105\ttotal: 20ms\tremaining: 146ms\n",
            "12:\tlearn: 0.4153862\ttotal: 23.7ms\tremaining: 159ms\n",
            "13:\tlearn: 0.3937302\ttotal: 25.9ms\tremaining: 159ms\n",
            "14:\tlearn: 0.3704956\ttotal: 26.9ms\tremaining: 153ms\n",
            "15:\tlearn: 0.3487517\ttotal: 27.8ms\tremaining: 146ms\n",
            "16:\tlearn: 0.3325481\ttotal: 28.6ms\tremaining: 140ms\n",
            "17:\tlearn: 0.3161737\ttotal: 29.5ms\tremaining: 135ms\n",
            "18:\tlearn: 0.2986489\ttotal: 33.7ms\tremaining: 144ms\n",
            "19:\tlearn: 0.2844667\ttotal: 35.5ms\tremaining: 142ms\n",
            "20:\tlearn: 0.2678071\ttotal: 36.4ms\tremaining: 137ms\n",
            "21:\tlearn: 0.2568969\ttotal: 37.2ms\tremaining: 132ms\n",
            "22:\tlearn: 0.2460126\ttotal: 38.1ms\tremaining: 128ms\n",
            "23:\tlearn: 0.2384336\ttotal: 40ms\tremaining: 127ms\n",
            "24:\tlearn: 0.2314583\ttotal: 44.1ms\tremaining: 132ms\n",
            "25:\tlearn: 0.2197966\ttotal: 45.4ms\tremaining: 129ms\n",
            "26:\tlearn: 0.2102208\ttotal: 46.3ms\tremaining: 125ms\n",
            "27:\tlearn: 0.2021659\ttotal: 47.2ms\tremaining: 121ms\n",
            "28:\tlearn: 0.1936181\ttotal: 48.1ms\tremaining: 118ms\n",
            "29:\tlearn: 0.1860444\ttotal: 52.3ms\tremaining: 122ms\n",
            "30:\tlearn: 0.1802557\ttotal: 54.3ms\tremaining: 121ms\n",
            "31:\tlearn: 0.1753727\ttotal: 55.2ms\tremaining: 117ms\n",
            "32:\tlearn: 0.1700006\ttotal: 56.1ms\tremaining: 114ms\n",
            "33:\tlearn: 0.1637983\ttotal: 57ms\tremaining: 111ms\n",
            "34:\tlearn: 0.1599253\ttotal: 57.9ms\tremaining: 108ms\n",
            "35:\tlearn: 0.1546649\ttotal: 60.7ms\tremaining: 108ms\n",
            "36:\tlearn: 0.1500197\ttotal: 63.7ms\tremaining: 109ms\n",
            "37:\tlearn: 0.1449066\ttotal: 64.6ms\tremaining: 105ms\n",
            "38:\tlearn: 0.1407296\ttotal: 65.5ms\tremaining: 102ms\n",
            "39:\tlearn: 0.1369167\ttotal: 66.4ms\tremaining: 99.6ms\n",
            "40:\tlearn: 0.1321820\ttotal: 67.3ms\tremaining: 96.8ms\n",
            "41:\tlearn: 0.1283615\ttotal: 70ms\tremaining: 96.6ms\n",
            "42:\tlearn: 0.1257279\ttotal: 73.1ms\tremaining: 96.9ms\n",
            "43:\tlearn: 0.1229377\ttotal: 74ms\tremaining: 94.2ms\n",
            "44:\tlearn: 0.1186983\ttotal: 74.9ms\tremaining: 91.6ms\n",
            "45:\tlearn: 0.1161524\ttotal: 75.8ms\tremaining: 89ms\n",
            "46:\tlearn: 0.1140406\ttotal: 76.7ms\tremaining: 86.5ms\n",
            "47:\tlearn: 0.1106143\ttotal: 79.6ms\tremaining: 86.2ms\n",
            "48:\tlearn: 0.1073068\ttotal: 82.6ms\tremaining: 86ms\n",
            "49:\tlearn: 0.1061588\ttotal: 84.2ms\tremaining: 84.2ms\n",
            "50:\tlearn: 0.1043050\ttotal: 85ms\tremaining: 81.7ms\n",
            "51:\tlearn: 0.1033762\ttotal: 85.9ms\tremaining: 79.3ms\n",
            "52:\tlearn: 0.1010245\ttotal: 86.8ms\tremaining: 77ms\n",
            "53:\tlearn: 0.0976078\ttotal: 87.7ms\tremaining: 74.7ms\n",
            "54:\tlearn: 0.0967081\ttotal: 89.5ms\tremaining: 73.3ms\n",
            "55:\tlearn: 0.0949818\ttotal: 93.6ms\tremaining: 73.5ms\n",
            "56:\tlearn: 0.0934984\ttotal: 94.8ms\tremaining: 71.5ms\n",
            "57:\tlearn: 0.0901397\ttotal: 95.7ms\tremaining: 69.3ms\n",
            "58:\tlearn: 0.0881786\ttotal: 96.6ms\tremaining: 67.1ms\n",
            "59:\tlearn: 0.0858129\ttotal: 97.4ms\tremaining: 64.9ms\n",
            "60:\tlearn: 0.0833597\ttotal: 99.9ms\tremaining: 63.9ms\n",
            "61:\tlearn: 0.0831456\ttotal: 103ms\tremaining: 63.3ms\n",
            "62:\tlearn: 0.0819247\ttotal: 105ms\tremaining: 61.4ms\n",
            "63:\tlearn: 0.0817374\ttotal: 105ms\tremaining: 59.3ms\n",
            "64:\tlearn: 0.0800070\ttotal: 107ms\tremaining: 57.9ms\n",
            "65:\tlearn: 0.0782217\ttotal: 108ms\tremaining: 55.8ms\n",
            "66:\tlearn: 0.0766334\ttotal: 111ms\tremaining: 54.5ms\n",
            "67:\tlearn: 0.0751856\ttotal: 112ms\tremaining: 52.6ms\n",
            "68:\tlearn: 0.0734580\ttotal: 113ms\tremaining: 50.6ms\n",
            "69:\tlearn: 0.0720742\ttotal: 114ms\tremaining: 48.6ms\n",
            "70:\tlearn: 0.0707980\ttotal: 116ms\tremaining: 47.5ms\n",
            "71:\tlearn: 0.0691953\ttotal: 119ms\tremaining: 46.4ms\n",
            "72:\tlearn: 0.0668141\ttotal: 120ms\tremaining: 44.5ms\n",
            "73:\tlearn: 0.0657998\ttotal: 121ms\tremaining: 42.6ms\n",
            "74:\tlearn: 0.0643011\ttotal: 122ms\tremaining: 40.7ms\n",
            "75:\tlearn: 0.0635326\ttotal: 123ms\tremaining: 38.8ms\n",
            "76:\tlearn: 0.0614872\ttotal: 126ms\tremaining: 37.5ms\n",
            "77:\tlearn: 0.0607321\ttotal: 129ms\tremaining: 36.3ms\n",
            "78:\tlearn: 0.0594552\ttotal: 130ms\tremaining: 34.6ms\n",
            "79:\tlearn: 0.0586030\ttotal: 131ms\tremaining: 32.8ms\n",
            "80:\tlearn: 0.0571497\ttotal: 132ms\tremaining: 31ms\n",
            "81:\tlearn: 0.0563452\ttotal: 133ms\tremaining: 29.2ms\n",
            "82:\tlearn: 0.0556065\ttotal: 134ms\tremaining: 27.4ms\n",
            "83:\tlearn: 0.0553367\ttotal: 136ms\tremaining: 25.9ms\n",
            "84:\tlearn: 0.0542308\ttotal: 140ms\tremaining: 24.8ms\n",
            "85:\tlearn: 0.0533233\ttotal: 142ms\tremaining: 23ms\n",
            "86:\tlearn: 0.0524999\ttotal: 142ms\tremaining: 21.3ms\n",
            "87:\tlearn: 0.0516892\ttotal: 143ms\tremaining: 19.5ms\n",
            "88:\tlearn: 0.0512362\ttotal: 144ms\tremaining: 17.8ms\n",
            "89:\tlearn: 0.0501768\ttotal: 146ms\tremaining: 16.2ms\n",
            "90:\tlearn: 0.0500203\ttotal: 150ms\tremaining: 14.9ms\n",
            "91:\tlearn: 0.0499087\ttotal: 151ms\tremaining: 13.2ms\n",
            "92:\tlearn: 0.0495558\ttotal: 152ms\tremaining: 11.5ms\n",
            "93:\tlearn: 0.0487912\ttotal: 153ms\tremaining: 9.79ms\n",
            "94:\tlearn: 0.0477549\ttotal: 154ms\tremaining: 8.12ms\n",
            "95:\tlearn: 0.0476484\ttotal: 156ms\tremaining: 6.5ms\n",
            "96:\tlearn: 0.0465360\ttotal: 160ms\tremaining: 4.95ms\n",
            "97:\tlearn: 0.0460295\ttotal: 161ms\tremaining: 3.29ms\n",
            "98:\tlearn: 0.0458312\ttotal: 162ms\tremaining: 1.64ms\n",
            "99:\tlearn: 0.0450539\ttotal: 163ms\tremaining: 0us\n",
            "Accuracy: 0.9814814814814815\n",
            "Confusion Matrix:\n",
            "[[19  0  0]\n",
            " [ 1 20  0]\n",
            " [ 0  0 14]]\n"
          ]
        },
        {
          "output_type": "display_data",
          "data": {
            "text/plain": [
              "<Figure size 800x600 with 2 Axes>"
            ],
            "image/png": "[encoded data removed]"
          },
          "metadata": {}
        }
      ]
    },
    {
      "cell_type": "markdown",
      "source": [
        "## Q25.Train an AdaBoost Classifier with different numbers of estimators and compare accuracy?\n",
        "**Ans**"
      ],
      "metadata": {
        "id": "p2v34d4f0cSZ"
      }
    },
    {
      "cell_type": "code",
      "source": [
        "data = load_breast_cancer()\n",
        "df = pd.DataFrame(data.data, columns=data.feature_names)\n",
        "df['target'] = data.target\n",
        "\n",
        "x = df.drop('target', axis=1)\n",
        "y = df['target']\n",
        "\n",
        "#train test split\n",
        "x_train, x_test, y_train, y_test = train_test_split(x, y, test_size=0.2, random_state=42)\n",
        "\n",
        "#Adaboost clf\n",
        "estimators = [10,20,30,40,5, 50, 100, 200]\n",
        "accuracies = []\n",
        "\n",
        "for n_estimators in estimators:\n",
        "    model = AdaBoostClassifier(n_estimators=n_estimators, random_state=42)\n",
        "    model.fit(x_train, y_train)\n",
        "    y_pred = model.predict(x_test)\n",
        "    accuracy = accuracy_score(y_test, y_pred)\n",
        "    accuracies.append(accuracy)\n",
        "    print(f\"Number of Estimators: {n_estimators}, Accuracy: {accuracy}\")\n",
        "    print(confusion_matrix(y_test, y_pred))"
      ],
      "metadata": {
        "colab": {
          "base_uri": "https://localhost:8080/"
        },
        "id": "w9W04CDt0Ml3",
        "outputId": "47b554c7-152d-4fa0-fa71-ff3524b8a9c3"
      },
      "execution_count": 25,
      "outputs": [
        {
          "output_type": "stream",
          "name": "stdout",
          "text": [
            "Number of Estimators: 10, Accuracy: 0.9649122807017544\n",
            "[[40  3]\n",
            " [ 1 70]]\n",
            "Number of Estimators: 20, Accuracy: 0.9736842105263158\n",
            "[[40  3]\n",
            " [ 0 71]]\n",
            "Number of Estimators: 30, Accuracy: 0.9649122807017544\n",
            "[[40  3]\n",
            " [ 1 70]]\n",
            "Number of Estimators: 40, Accuracy: 0.9649122807017544\n",
            "[[40  3]\n",
            " [ 1 70]]\n",
            "Number of Estimators: 5, Accuracy: 0.9649122807017544\n",
            "[[39  4]\n",
            " [ 0 71]]\n",
            "Number of Estimators: 50, Accuracy: 0.9649122807017544\n",
            "[[40  3]\n",
            " [ 1 70]]\n",
            "Number of Estimators: 100, Accuracy: 0.9736842105263158\n",
            "[[41  2]\n",
            " [ 1 70]]\n",
            "Number of Estimators: 200, Accuracy: 0.9736842105263158\n",
            "[[41  2]\n",
            " [ 1 70]]\n"
          ]
        }
      ]
    },
    {
      "cell_type": "markdown",
      "source": [
        "## Q26. Train a Gradient Boosting Classifier and visualize the ROC curve?\n",
        "**Ans**"
      ],
      "metadata": {
        "id": "69pk1N9BDSff"
      }
    },
    {
      "cell_type": "code",
      "source": [
        "data = load_breast_cancer()\n",
        "df = pd.DataFrame(data.data, columns=data.feature_names)\n",
        "df['target'] = data.target\n",
        "\n",
        "x = df.drop('target', axis=1)\n",
        "y = df['target']\n",
        "\n",
        "#train test split\n",
        "x_train, x_test, y_train, y_test = train_test_split(x, y, test_size=0.3,random_state=1)\n",
        "\n",
        "#gradiant bosting classifier\n",
        "model = GradientBoostingClassifier(n_estimators=100, learning_rate=0.1, max_depth=3, random_state=42)\n",
        "model.fit(x_train, y_train)\n",
        "y_pred = model.predict(x_test)\n",
        "#accuracy\n",
        "acuuracy = accuracy_score(y_test, y_pred)\n",
        "print(f\"Accuracy: {acuuracy}\")\n",
        "\n",
        "#roc curve\n",
        "from sklearn.metrics import roc_curve\n",
        "fpr, tpr, thresholds = roc_curve(y_test, y_pred)\n",
        "plt.plot(fpr, tpr, label='Gradient Boosting')\n",
        "plt.plot([0, 1], [0, 1], 'k--', label='Random Guess')\n",
        "plt.xlabel('False Positive Rate')\n",
        "plt.ylabel('True Positive Rate')\n",
        "plt.title('ROC Curve')\n",
        "plt.legend()\n",
        "plt.show()\n"
      ],
      "metadata": {
        "colab": {
          "base_uri": "https://localhost:8080/",
          "height": 489
        },
        "id": "haIUdTRE1e8Y",
        "outputId": "4d9a6d2a-cd07-4b63-b268-074ee59e0b47"
      },
      "execution_count": 26,
      "outputs": [
        {
          "output_type": "stream",
          "name": "stdout",
          "text": [
            "Accuracy: 0.9649122807017544\n"
          ]
        },
        {
          "output_type": "display_data",
          "data": {
            "text/plain": [
              "<Figure size 640x480 with 1 Axes>"
            ],
            "image/png": "[encoded data removed]"
          },
          "metadata": {}
        }
      ]
    },
    {
      "cell_type": "markdown",
      "source": [
        "## Q27.Train an XGBoost Regressor and tune the learning rate using GridSearchCV?\n",
        "**Ans**"
      ],
      "metadata": {
        "id": "WJxZe3TnHrWH"
      }
    },
    {
      "cell_type": "code",
      "source": [
        "data = fetch_california_housing()\n",
        "df =  pd.DataFrame(data.data, columns=data.feature_names)\n",
        "df['target'] = data.target\n",
        "\n",
        "x = df.drop('target', axis=1)\n",
        "y = df['target']\n",
        "\n",
        "#train test split\n",
        "x_train, x_test, y_train, y_test = train_test_split(x, y, test_size=0.2, random_state=42)\n",
        "\n",
        "# XGboost regressor\n",
        "from xgboost import XGBRegressor\n",
        "model = XGBRegressor(random_state=42)\n",
        "\n",
        "#gridserch cv\n",
        "param_grid = {'learning_rate': [0.01, 0.1, 0.2, 0.3]}\n",
        "grid_search = GridSearchCV(model, param_grid, cv=5, verbose=3)\n",
        "grid_search.fit(x_train, y_train)\n",
        "\n",
        "#best parameter\n",
        "best_params = grid_search.best_params_\n",
        "print(f\"Best Parameters: {best_params}\")\n",
        "\n",
        "#best score\n",
        "best_score = grid_search.best_score_\n",
        "print(f\"Best Score: {best_score}\")\n",
        "\n",
        "#using best estimator buid final model\n",
        "final_model = grid_search.best_estimator_\n",
        "y_pred = final_model.predict(x_test)\n",
        "mse = mean_squared_error(y_test, y_pred)\n",
        "print(f\"Mean Squared Error: {mse}\")\n",
        "print(f\"r2 score: {r2_score(y_test, y_pred)}\")\n",
        "\n"
      ],
      "metadata": {
        "colab": {
          "base_uri": "https://localhost:8080/"
        },
        "id": "13TwJGA8HhDr",
        "outputId": "f058674f-b317-4cfd-fa00-cc36072a0f57"
      },
      "execution_count": 30,
      "outputs": [
        {
          "output_type": "stream",
          "name": "stdout",
          "text": [
            "Fitting 5 folds for each of 4 candidates, totalling 20 fits\n",
            "[CV 1/5] END ................learning_rate=0.01;, score=0.611 total time=   3.2s\n",
            "[CV 2/5] END ................learning_rate=0.01;, score=0.619 total time=   0.9s\n",
            "[CV 3/5] END ................learning_rate=0.01;, score=0.615 total time=   1.5s\n",
            "[CV 4/5] END ................learning_rate=0.01;, score=0.610 total time=   0.5s\n",
            "[CV 5/5] END ................learning_rate=0.01;, score=0.613 total time=   0.4s\n",
            "[CV 1/5] END .................learning_rate=0.1;, score=0.836 total time=   0.4s\n",
            "[CV 2/5] END .................learning_rate=0.1;, score=0.823 total time=   0.4s\n",
            "[CV 3/5] END .................learning_rate=0.1;, score=0.833 total time=   0.4s\n",
            "[CV 4/5] END .................learning_rate=0.1;, score=0.833 total time=   0.4s\n",
            "[CV 5/5] END .................learning_rate=0.1;, score=0.825 total time=   0.4s\n",
            "[CV 1/5] END .................learning_rate=0.2;, score=0.839 total time=   0.4s\n",
            "[CV 2/5] END .................learning_rate=0.2;, score=0.826 total time=   0.4s\n",
            "[CV 3/5] END .................learning_rate=0.2;, score=0.838 total time=   0.4s\n",
            "[CV 4/5] END .................learning_rate=0.2;, score=0.838 total time=   0.4s\n",
            "[CV 5/5] END .................learning_rate=0.2;, score=0.830 total time=   0.4s\n",
            "[CV 1/5] END .................learning_rate=0.3;, score=0.835 total time=   0.4s\n",
            "[CV 2/5] END .................learning_rate=0.3;, score=0.818 total time=   0.4s\n",
            "[CV 3/5] END .................learning_rate=0.3;, score=0.832 total time=   0.4s\n",
            "[CV 4/5] END .................learning_rate=0.3;, score=0.832 total time=   0.4s\n",
            "[CV 5/5] END .................learning_rate=0.3;, score=0.833 total time=   0.4s\n",
            "Best Parameters: {'learning_rate': 0.2}\n",
            "Best Score: 0.8342991723900116\n",
            "Mean Squared Error: 0.21596203014190907\n",
            "r2 score: 0.8351949401080739\n"
          ]
        }
      ]
    },
    {
      "cell_type": "markdown",
      "source": [
        "## Q28.Train a CatBoost Classifier on an imbalanced dataset and compare performance with class weighting?\n",
        "**Ans**"
      ],
      "metadata": {
        "id": "tOZLqUGIJAoH"
      }
    },
    {
      "cell_type": "code",
      "source": [
        "#generate sythetic dataset\n",
        "from sklearn.datasets import make_classification\n",
        "X, y = make_classification(n_samples=1000, n_features=20, weights=[0.9, 0.1], random_state=42)\n",
        "\n",
        "#train test split\n",
        "X_train, X_test, y_train, y_test = train_test_split(X, y, test_size=0.2, random_state=42,stratify=y)\n",
        "\n",
        "#model with without weight balaces\n",
        "model = CatBoostClassifier(iterations=100, learning_rate=0.1, depth=3, loss_function='Logloss', random_state=42,verbose=0)\n",
        "model.fit(X_train, y_train)\n",
        "y_pred = model.predict(X_test)\n",
        "accuracy = accuracy_score(y_test, y_pred)\n",
        "print(f\"Accuracy: {accuracy}\")\n",
        "\n",
        "#model with class balace\n",
        "model2 = CatBoostClassifier(iterations=100, learning_rate=0.1, depth=3, loss_function='Logloss', random_state=42, class_weights=[0.1,0.9],verbose=0)\n",
        "model2.fit(X_train, y_train)\n",
        "y_pred = model2.predict(X_test)\n",
        "accuracy2 = accuracy_score(y_test, y_pred)\n",
        "print(f\"Accuracy: {accuracy2}\")\n",
        "\n",
        "#compare\n",
        "if accuracy > accuracy2:\n",
        "    print(\"Model without class weights performs better.\")\n",
        "else:\n",
        "    print(\"Model with class weights performs better.\")\n",
        "\n",
        "\n"
      ],
      "metadata": {
        "colab": {
          "base_uri": "https://localhost:8080/"
        },
        "id": "CKPzaxWRIkl7",
        "outputId": "9e9d2a70-e3c2-492d-9d09-072d1fdad1d8"
      },
      "execution_count": 35,
      "outputs": [
        {
          "output_type": "stream",
          "name": "stdout",
          "text": [
            "Accuracy: 0.95\n",
            "Accuracy: 0.955\n",
            "Model with class weights performs better.\n"
          ]
        }
      ]
    },
    {
      "cell_type": "markdown",
      "source": [
        "## Q29.Train an AdaBoost Classifier and analyze the effect of different learning rates?\n",
        "**Ans**"
      ],
      "metadata": {
        "id": "gOZc34NHO81V"
      }
    },
    {
      "cell_type": "code",
      "source": [
        "data = load_wine()\n",
        "df = pd.DataFrame(data.data, columns=data.feature_names)\n",
        "df['target'] = data.target\n",
        "\n",
        "x = df.drop('target', axis=1)\n",
        "y = df['target']\n",
        "\n",
        "#train test split\n",
        "x_train, x_test, y_train, y_test = train_test_split(x, y, test_size=0.2, random_state=42)\n",
        "\n",
        "#AdaBoost classifier\n",
        "learning_rates = [0.01, 0.1, 1.0,1.2,1.5]\n",
        "for lr in learning_rates:\n",
        "    model = AdaBoostClassifier(n_estimators=50, learning_rate=lr, random_state=42)\n",
        "    model.fit(x_train, y_train)\n",
        "    y_pred = model.predict(x_test)\n",
        "    accuracy = accuracy_score(y_test, y_pred)\n",
        "    print(f\"Learning Rate: {lr}, Accuracy: {accuracy}\")\n"
      ],
      "metadata": {
        "colab": {
          "base_uri": "https://localhost:8080/"
        },
        "id": "YZJcqJo8LYLo",
        "outputId": "59f4200e-ba06-4340-dbd9-7a55af74e5b6"
      },
      "execution_count": 37,
      "outputs": [
        {
          "output_type": "stream",
          "name": "stdout",
          "text": [
            "Learning Rate: 0.01, Accuracy: 0.8611111111111112\n",
            "Learning Rate: 0.1, Accuracy: 0.8888888888888888\n",
            "Learning Rate: 1.0, Accuracy: 0.9444444444444444\n",
            "Learning Rate: 1.2, Accuracy: 0.9444444444444444\n",
            "Learning Rate: 1.5, Accuracy: 0.9166666666666666\n"
          ]
        }
      ]
    },
    {
      "cell_type": "markdown",
      "source": [
        "## Q30.Train an XGBoost Classifier for multi-class classification and evaluate using log-loss?\n",
        "**Ans**"
      ],
      "metadata": {
        "id": "xlhfqpbdQGNm"
      }
    },
    {
      "cell_type": "code",
      "source": [
        "#sythetic data\n",
        "x,y = make_classification(n_samples=1000, n_features=20, n_classes=4, n_clusters_per_class=1, random_state=42)\n",
        "x_train, x_test, y_train, y_test = train_test_split(x, y, test_size=0.2, random_state=42,stratify=y)\n",
        "\n",
        "#  Convert Data to XGBoost DMatrix Format (Optional but Efficient)\n",
        "import xgboost as xgb\n",
        "dtrain = xgb.DMatrix(x_train, label=y_train)\n",
        "dtest = xgb.DMatrix(x_test, label=y_test)\n",
        "\n",
        "#model\n",
        "from xgboost import XGBClassifier\n",
        "param = {'objective': 'multi:softmax', 'num_class': 4, 'max_depth': 3, 'learning_rate': 0.1}\n",
        "model = XGBClassifier(**param)\n",
        "model.fit(x_train, y_train)\n",
        "y_pred = model.predict(x_test)\n",
        "accuracy = accuracy_score(y_test, y_pred)\n",
        "print(f\"Accuracy: {accuracy}\")\n",
        "\n",
        "from sklearn.metrics import log_loss\n",
        "y_pred_proba = model.predict_proba(x_test)\n",
        "logloss = log_loss(y_test, y_pred_proba)\n",
        "print(f\"Log Loss: {logloss}\")"
      ],
      "metadata": {
        "colab": {
          "base_uri": "https://localhost:8080/"
        },
        "id": "5rJenwnQP2bB",
        "outputId": "ca1a6b87-45ab-4696-c926-20cba71090be"
      },
      "execution_count": 43,
      "outputs": [
        {
          "output_type": "stream",
          "name": "stdout",
          "text": [
            "Accuracy: 0.85\n",
            "Log Loss: 0.4281148645529764\n"
          ]
        }
      ]
    },
    {
      "cell_type": "code",
      "source": [],
      "metadata": {
        "id": "7iHq0OJITwnb"
      },
      "execution_count": null,
      "outputs": []
    }
  ]
}