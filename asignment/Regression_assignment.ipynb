{
  "nbformat": 4,
  "nbformat_minor": 0,
  "metadata": {
    "colab": {
      "provenance": []
    },
    "kernelspec": {
      "name": "python3",
      "display_name": "Python 3"
    },
    "language_info": {
      "name": "python"
    }
  },
  "cells": [
    {
      "cell_type": "markdown",
      "source": [
        "Name:-Yash solanki\n",
        "\n",
        "Reg email id:-yash87015@gmail.com\n",
        "\n",
        "Course name:-Data analytic\n",
        "\n",
        "Assignment name:- regression assignment\n",
        "\n",
        "Submission date:-28/1/2025\n",
        "\n",
        "Git link:-https://github.com/Yash87015/YASH (in git hub use assignment folder )"
      ],
      "metadata": {
        "id": "4UnNeHhLZeLW"
      }
    },
    {
      "cell_type": "markdown",
      "source": [
        "## Q1 What is Simple Linear Regression?\n",
        " - Simple Linear Regression is a statistical method used to model the relationship between two variables by fitting a straight line to the data. It predicts the value of a dependent variable (Y) based on the value of an independent variable (X).\n",
        " - formula:\n",
        "\n",
        "   - $Y=β 0+β 1⋅X$\n",
        "  \n",
        "   - Y: Dependent variable (what we're trying to predict)\n",
        "\n",
        "   - X: Independent variable (the predictor)\n",
        "\n",
        "   - β₀: Intercept (value of Y when X = 0)\n",
        "\n",
        "   - β₁: Slope (how much Y changes for a unit change in X)\n",
        "\n",
        "## Q2  What are the key assumptions of Simple Linear Regression?\n",
        "  - there are total 5 assumption thats given below\n",
        "   1. Linearity:-The relationship between the independent variable X and the dependent variable Y must be linear\n",
        "   2.  Independence of Errors:-The residuals (errors) should be independent of each other. In other words, the error for one data point should not provide any information about the error for another data point.\n",
        "   3. Homoscedasticity:-The variance (spread) of the residuals (errors) should be constant across all values of the independent variable x. This is called homoscedasticity.\n",
        "   4.  Normality of Errors:-he residuals (errors) should be normally distributed. This is mainly important for hypothesis testing, like testing whether the regression coefficients are significantly different from zero.\n",
        "   5.  No Multicollinearity :-  In multiple regression (when there are more than one independent variable), the independent variables should not be highly correlated with each other\n",
        "     - NOTE:-Not applicable in Simple Linear Regression, but relevant in multiple regression\n",
        "  \n",
        "## Q3. What does the coefficient m represent in the equation Y=mX+c?\n",
        "  -  In the equation Y = mX + c, which represents the equation of a straight line (also known as a linear equation), the coefficient m has a specific interpretation:\n",
        "   - m (Coefficient of X):-m represents the slope of the line.\n",
        "It shows how much Y (the dependent variable) changes for every 1 unit change in X (the independent variable).\n",
        "    - If m is positive, for each increase in X, Y will increase. The line goes upward from left to right.\n",
        "If m is negative, for each increase in X, Y will decrease. The line goes downward from left to right.\n",
        "   - m represents the rate of change of Y with respect to X.\n",
        "It's also called the slope of the line, and it indicates how steep the line is.\n"
      ],
      "metadata": {
        "id": "S3o0WaPrZf1k"
      }
    },
    {
      "cell_type": "markdown",
      "source": [
        "## Q4. What does the intercept c represent in the equation Y=mX+c?\n",
        "  - In the equation Y = mX + c, the intercept c represents the y-intercept of the line, which is the value of Y when X = 0.\n",
        "  - Interpretation of c (Intercept):-c is the point at which the line crosses the Y-axis (when X is 0).\n",
        "It tells you the starting value of Y when X does not contribute (i.e., when X = 0).\n",
        "  - c is the y-intercept, which is the value of Y when X is 0.\n",
        "It represents the baseline value of Y before any changes in X occur\n",
        "\n",
        "\n",
        "## Q5 How do we calculate the slope m in Simple Linear Regression?\n",
        "  - The slope (m) is calculated as the change in Y divided by the change in X:\n",
        "  - formula:-$𝑚=Δ𝑌/Δ𝑋$\n",
        "   - example:-Consider the equation Y = 2X + 3.\n",
        "    -  Here, m = 2 means that for every 1 unit increase in X, Y will increase by 2 units.\n",
        "   - If m = -1:-For every 1 unit increase in X, Y will decrease by 1 unit.\n",
        "\n",
        "## Q6 What is the purpose of the least squares method in Simple Linear Regression?\n",
        "  -  The goal of linear regression is to find the line of best fit that best represents the relationship between the independent variable (X) and the dependent variable (Y). The least squares method helps achieve this by minimizing the residual sum of squares (RSS), which is the sum of the squared differences between the actual values and the predicted values from the regression model.\n",
        "  - The method finds the values of m (slope) and c (intercept) that minimize this sum, resulting in the \"best-fitting\" line.\n",
        "\n",
        "  - By minimizing RSS, we ensure that the line is as close as possible to all the data points, thus improving the model's accuracy in predicting Y based on X.Minimize the sum of squared residuals (errors).\n",
        "\n",
        "\n",
        "## Q7.How is the coefficient of determination (R²) interpreted in Simple Linear Regression?\n",
        " - Simple Linear Regression, the coefficient of determination,\n",
        "$𝑅^2$ , represents the proportion of the variance in the dependent variable that is explained by the independent variable  \n",
        " - Essentially, the closer\n",
        "$𝑅^2$ is to 1, the better the model fits the data, while a value closer to 0 suggests the model doesn't capture much of the variability. However,\n",
        "$𝑅^2$ doesn't necessarily mean the model is perfect, nor does it imply causality—it only tells you about the strength of the relationship.\n",
        "   - exapmple $R^2$ = 0.80 means  that 80% of the variability in the dependent variable is explained by the model, and 20% is unexplained.\n",
        "\n",
        "\n"
      ],
      "metadata": {
        "id": "VgPV73TJjsNi"
      }
    },
    {
      "cell_type": "markdown",
      "source": [
        "## Q8.  What is Multiple Linear Regression?\n",
        " -  Multiple Linear Regression allows for the modeling of a relationship between two or more independent variables and a dependent variable.\n",
        " - In other words, it’s used to predict the value of a dependent variable (also called the \"outcome\" or \"response\") based on multiple predictors\n",
        " - $Y = \\beta_0 + \\beta_1 X_1 + \\beta_2 X_2 + \\cdots + \\beta_n X_n + \\epsilon$\n",
        " - Where:\n",
        "- $( Y )$ is the dependent variable.\n",
        "- $( X_1, X_2, \\dots, X_n )$ are the independent variables.\n",
        "- $( \\beta_0 )$ is the intercept (the value of ( Y ) when all ( X )'s are zero).\n",
        "- $( \\beta_1, \\beta_2, \\dots, \\beta_n )$ are the coefficients representing the impact of each independent variable on $( Y )$.\n",
        "- $( \\epsilon )$ is the error term, representing the variation in $( Y )$ not explained by the independent variables.\n",
        "\n",
        "## Q9. What is the main difference between Simple and Multiple Linear Regression?\n",
        " - simple linear regression is only one dependet and one independent variable are there but multiple simple linear regression is two or more independent varible and dependent varible in model thats the main differnce between both of them\n",
        " - In summary, Simple Linear Regression is used when you're dealing with a single predictor, while Multiple Linear Regression is used when multiple predictors are influencing the outcome.\n",
        "\n",
        "\n",
        "\n",
        "## Q10. What are the key assumptions of Multiple Linear Regression?\n",
        " -  in terms of simple liner regression assumptions are same only differnce is there only 1 assumption are not require for simple linere regression but there required in multiple liner regression thats in multiconiraty.\n",
        " - see q2 and this question conside q2 note\n",
        " 1.  Linearity:-The relationship between the independent variable X and the dependent variable Y must be linear\n",
        " 2. Independence of Errors:-The residuals (errors) should be independent of each other. In other words, the error for one data point should not provide any information about the error for another data point.\n",
        " 3. Homoscedasticity:-The variance (spread) of the residuals (errors) should be constant across all values of the independent variable x. This is called homoscedasticity.\n",
        " 4. Normality of Errors:-he residuals (errors) should be normally distributed. This is mainly important for hypothesis testing, like testing whether the regression coefficients are significantly different from zero.\n",
        " 5. No Multicollinearity :- In multiple regression (when there are more than one independent variable), the independent variables should not be highly correlated with each other\n",
        "\n",
        "## Q11. What is heteroscedasticity, and how does it affect the results of a Multiple Linear Regression model?\n",
        "\n",
        " -  Heteroscedasticity refers to a situation in which the variance of the errors (residuals) in a Multiple Linear Regression  model is not constant across all levels of the independent variables. In other words, the spread or \"scatter\" of the residuals increases or decreases as the value of the predicted values changes, or as any independent variable changes.\n",
        " -  When heteroscedasticity is present, the spread of residuals can widen or narrow as the value of the fitted predictions or independent variables changes.\n",
        " - The presence of heteroscedasticity does not bias the estimated coefficients (the betas), but it biases the standard errors of those coefficients.\n",
        "When standard errors are biased, it can lead to incorrect significance tests, making p-values unreliable. This means that you might either falsely reject the null hypothesis (Type I error) or fail to reject it when you should (Type II error).\n",
        " - Due to biased standard errors, the confidence intervals for the regression coefficients may be either too wide or too narrow.\n",
        " - This means your intervals may not reflect the true uncertainty of the estimates, leading to potentially misleading conclusions.\n",
        " - Since heteroscedasticity affects standard errors, the results of hypothesis tests (like t-tests for individual coefficients) might be incorrect.\n",
        " - This can lead to misleading conclusions about which predictors are statistically significant.\n",
        " - The method of estimation used in ordinary least squares (OLS), which assumes homoscedasticity, becomes inefficient when heteroscedasticity is present.\n",
        " - While the coefficients are still unbiased, OLS may not provide the smallest possible variance for the coefficient estimates, meaning other estimation methods could yield more efficient results.\n"
      ],
      "metadata": {
        "id": "9kdQgBh-AZYz"
      }
    },
    {
      "cell_type": "markdown",
      "source": [
        "## Q12 - How can you improve a Multiple Linear Regression model with high multicollinearity?\n",
        " - Multicollinearity occurs when independent variables in a regression model are highly correlated, which can make it difficult to assess the individual effect of each predictor on the dependent variable. Here are some ways to address this:\n",
        "\n",
        "1. Remove or combine correlated variables: If two variables are highly correlated, consider removing one of them or combining them into a single predictor.\n",
        "2. Use principal component analysis (PCA): PCA can transform correlated predictors into uncorrelated components.\n",
        "3. Regularization techniques: Methods like Lasso (L1 regularization) or Ridge (L2 regularization) can help reduce multicollinearity by penalizing large coefficients.\n",
        "4. Increase the sample size: Sometimes increasing the data points can help to minimize the effects of multicollinearity.\n",
        "\n",
        "## Q13. - What are some common techniques for transforming categorical variables for use in regression models?\n",
        " - One-Hot Encoding: This method creates binary variables for each category in a categorical variable. Each category is represented as a column with values of 0 or 1.\n",
        " - Label Encoding: This assigns a unique integer to each category. This is more suitable for ordinal variables.\n",
        " - Dummy Variables: Similar to one-hot encoding, but you might exclude one category to avoid the \"dummy variable trap\" (perfect multicollinearity).\n",
        " - Ordinal Encoding: For ordinal categorical variables, you can encode the values based on their order (e.g., \"Low\" = 1, \"Medium\" = 2, \"High\" = 3).\n",
        "\n",
        "## Q14  What is the role of interaction terms in Multiple Linear Regression?\n",
        " - Interaction terms allow you to examine if the effect of one independent variable on the dependent variable changes depending on the value of another independent variable. Including interaction terms helps you model more complex relationships between predictors. For example, the interaction between \"hours studied\" and \"prior knowledge\" might have a different impact on exam scores than when considered independently.\n",
        "\n",
        "##  Q15.  How can the interpretation of intercept differ between Simple and Multiple Linear Regression?\n",
        " -  In Simple Linear Regression, the intercept represents the predicted value of the dependent variable when the independent variable is zero.\n",
        " -  In Multiple Linear Regression, the intercept represents the predicted value of the dependent variable when all independent variables are zero. However, this interpretation can be less meaningful if the values of the independent variables cannot realistically be zero.\n",
        "\n",
        "\n",
        "## Q16. What is the significance of the slope in regression analysis, and how does it affect predictions?\n",
        " - The slope in regression analysis quantifies the change in the dependent variable for each unit change in the independent variable. It indicates the strength and direction of the relationship. For example, a positive slope means that as the independent variable increases, the dependent variable also increases. The slope directly influences predictions: for a given value of the independent variable, the predicted value of the dependent variable is adjusted by the slope.\n",
        "\n",
        "## Q17 - How does the intercept in a regression model provide context for the relationship between variables?\n",
        "  - The intercept is the baseline value of the dependent variable when all independent variables are zero. It helps set the context for the starting point of the relationship between predictors and the outcome. However, its meaning depends on the variables involved—if an independent variable cannot realistically be zero, the intercept may have little practical significance.\n",
        "\n",
        "## Q18. What are the limitations of using R² as a sole measure of model performance?\n",
        " - Overfitting: R² will always increase as you add more variables to the model, even if those variables don’t have any real predictive power. This can lead to overfitting.\n",
        " - Doesn’t account for model complexity: R² doesn’t penalize for adding irrelevant predictors.\n",
        " - Not informative in nonlinear relationships: R² might not be a good measure if the relationship between predictors and the outcome is not linear.\n",
        "\n",
        "## Q19  How would you interpret a large standard error for a regression coefficient?\n",
        " - A large standard error for a regression coefficient indicates that the estimated coefficient is highly uncertain, meaning the model's estimate of the effect of that variable on the dependent variable is not very precise. This can happen if there’s multicollinearity or if the sample size is small. A large standard error often makes it difficult to determine whether the coefficient is statistically significant.\n",
        "\n",
        "## Q20. How can heteroscedasticity be identified in residual plots, and why is it important to address it?\n",
        "  - Heteroscedasticity occurs when the variance of the residuals is not constant across all levels of the independent variable(s). In residual plots, this can be identified if the spread of the residuals increases or decreases as the fitted values change. For example, if the residuals form a \"cone\" shape, that's a sign of heteroscedasticity.\n",
        "\n",
        "  - It’s important to address because heteroscedasticity violates one of the assumptions of linear regression and can lead to inefficient estimates and biased statistical tests\n"
      ],
      "metadata": {
        "id": "NTn-Sout1pWJ"
      }
    },
    {
      "cell_type": "markdown",
      "source": [
        "## Q21.  What does it mean if a Multiple Linear Regression model has a high R² but low adjusted R²?\n",
        " - If a model has a high R² but a low adjusted R², it might be a sign that the model is overfitting the data by including too many predictors, some of which do not contribute meaningfully to the explanation of the dependent variable. The adjusted R² penalizes for the inclusion of unnecessary predictors, so a low adjusted R² suggests that the model may not generalize well.\n",
        "\n",
        "## Q22.  Why is it important to scale variables in Multiple Linear Regression?\n",
        "  -  Scaling variables ensures that all predictors are on the same scale, which is particularly important when using regularization methods like Lasso or Ridge, and it also makes it easier to interpret the relative importance of predictors. Additionally, some regression algorithms (like gradient descent) can perform better when the variables are scaled.\n",
        "\n",
        "## Q23 What is polynomial regression?\n",
        " - Polynomial regression is a type of regression analysis where the relationship between the independent variable(s) and the dependent variable is modeled as an nth-degree polynomial. This allows the model to capture non-linear relationships between variables by introducing higher powers of the predictor.\n",
        "\n",
        "## Q24.  How does polynomial regression differ from linear regression?\n",
        " - Linear regression assumes a linear relationship between the independent variable(s) and the dependent variable. The model fits a straight line to the data.\n",
        " -  Polynomial regression, on the other hand, can model non-linear relationships. It involves adding higher-degree terms of the predictor variable\n",
        " like (ex-degree 2 or $x^2$) to the model, allowing it to curve and better fit more complex data patterns.In simple terms, linear regression fits a straight line, while polynomial regression fits a curve.\n",
        "\n",
        "## Q25  When is polynomial regression used?\n",
        " - The relationship between the independent and dependent variables is non-linear, but still can be represented by a smooth curve (e.g., quadratic or cubic).\n",
        " - There are patterns of curvature in the data that linear regression cannot capture.\n",
        " - You want to fit a flexible curve to data points that shows more complexity than a straight line\n",
        "\n",
        "## Q26.  What is the general equation for polynomial regression?\n",
        " -  The general equation for polynomial regression is an extension of linear regression where the relationship between the dependent variable \\(y\\) and the independent variable \\(x\\) is modeled as a polynomial rather than a straight line. The general form of the equation for polynomial regression is:\n",
        "\n",
        "$[\n",
        "y = \\beta_0 + \\beta_1x + \\beta_2x^2 + \\beta_3x^3 + \\dots + \\beta_nx^n + \\epsilon\n",
        "]$\n",
        "\n",
        "Where:\n",
        "- $(y)$ is the dependent variable (the outcome you're trying to predict).\n",
        "- $(x)$ is the independent variable (the predictor).\n",
        "- $( \\beta_0 ) $is the intercept term (constant).\n",
        "- $( \\beta_1, \\beta_2, \\dots, \\beta_n )$ are the coefficients of the polynomial terms (determined by the model).\n",
        "- $(x^2, x^3, \\dots, x^n)$ are the higher-order terms (powers of \\(x\\)).\n",
        "- $(\\epsilon\\$ is the error term (captures the residuals or noise in the data).\n",
        "\n",
        "The degree of the polynomial \\(n\\) determines how many powers of \\(x\\) are included in the model. For example:\n",
        "- For a **linear** regression model, \\(n = 1\\), so the equation is simply \\(y = \\beta_0 + \\beta_1x + \\epsilon\\).\n",
        "- For a **quadratic** regression model, \\(n = 2\\), so the equation includes \\(x^2\\).\n",
        "- For a **cubic** regression model, \\(n = 3\\), and so on.\n",
        "\n",
        "This allows polynomial regression to capture more complex, non-linear relationships between the independent and dependent variables.\n",
        "\n",
        "## Q27  Can polynomial regression be applied to multiple variables?\n",
        " - Yes, polynomial regression can be applied to multiple variables (multiple polynomial regression). When you have multiple predictors, you can add polynomial terms for each predictor, leading to a model that includes interaction terms as well as higher powers of the variables.\n",
        "\n",
        "## Q28.  What are the limitations of polynomial regression?\n",
        " - 1.  Overfitting: Polynomial regression can easily overfit the data, especially with higher-degree polynomials. The model may fit the noise in the data rather than the underlying relationship, leading to poor generalization.\n",
        " - 2. Extrapolation issues: Beyond the range of observed data, polynomial regression may produce unrealistic predictions (e.g., wildly large or small values).\n",
        " - 3. Complexity and interpretability: Higher-degree polynomials can become difficult to interpret and analyze, as the relationship between the predictors and outcome becomes more complex.\n",
        " - 4. Computational cost: For large datasets, polynomial regression can become computationally expensive as you increase the degree of the polynomial.\n",
        "\n",
        "## Q29. What methods can be used to evaluate model fit when selecting the degree of a polynomial?\n",
        " - Cross-validation: This is one of the most reliable methods to evaluate how well the model will generalize to unseen data. It helps assess whether a higher-degree polynomial improves the model or leads to overfitting.\n",
        " - Adjusted R²: This takes into account the number of predictors in the model and helps in comparing models with different degrees of polynomials. It will penalize models that have too many predictors (or high-degree terms) that don’t contribute significantly.\n",
        " - Residual plots: Examining the residuals (the differences between observed and predicted values) can help assess how well the model is fitting the data. For example, if residuals show a pattern, a higher-degree polynomial might be necessary.\n",
        "\n",
        "# Q30.  Why is visualization important in polynomial regression?\n",
        " - Understanding the relationship: Visualizing the data along with the fitted polynomial curve helps to better understand the relationship between the variables. It allows you to visually confirm if a higher-degree polynomial is necessary.\n",
        " - Detecting overfitting: Plotting the model predictions can help you see if the curve is overfitting, particularly if it starts to wiggle too much in areas where the data is sparse.\n",
        " - Evaluating model performance: It provides insights into how well the model captures the trend in the data, helping to make decisions on whether a more complex model is justified.\n",
        "\n"
      ],
      "metadata": {
        "id": "xM5IscU8JN0a"
      }
    },
    {
      "cell_type": "markdown",
      "source": [
        "##  Q31.  How is polynomial regression implemented in Python?\n",
        " - Polynomial regression can be easily implemented in Python using libraries such as scikit-learn and numpy. Here's an example using scikit-learn:"
      ],
      "metadata": {
        "id": "aTxja8LPaAxI"
      }
    },
    {
      "cell_type": "code",
      "source": [
        "import numpy as np\n",
        "import matplotlib.pyplot as plt\n",
        "from sklearn.linear_model import LinearRegression\n",
        "from sklearn.preprocessing import PolynomialFeatures\n",
        "\n",
        "# Example data\n",
        "X = np.array([1, 2, 3, 4, 5]).reshape(-1, 1)  # Independent variable\n",
        "y = np.array([1, 4, 9, 16, 25])  # Dependent variable (quadratic relationship)\n",
        "\n",
        "# Transform the data to include polynomial features\n",
        "poly = PolynomialFeatures(degree=2)  # Polynomial degree 2 (quadratic)\n",
        "X_poly = poly.fit_transform(X)\n",
        "\n",
        "# Fit the polynomial regression model\n",
        "model = LinearRegression()\n",
        "model.fit(X_poly, y)\n",
        "\n",
        "# Make predictions\n",
        "y_pred = model.predict(X_poly)\n",
        "\n",
        "# Visualize the result\n",
        "plt.scatter(X, y, color='blue', label='Data points')\n",
        "plt.plot(X, y_pred, color='red', label='Polynomial regression curve')\n",
        "plt.legend()\n",
        "plt.show()\n"
      ],
      "metadata": {
        "id": "UALvRY167Cwd",
        "colab": {
          "base_uri": "https://localhost:8080/",
          "height": 430
        },
        "outputId": "6d4c0578-307f-4089-b96a-601166e12cca"
      },
      "execution_count": 1,
      "outputs": [
        {
          "output_type": "display_data",
          "data": {
            "text/plain": [
              "<Figure size 640x480 with 1 Axes>"
            ],
            "image/png": "[encoded data removed]"
          },
          "metadata": {}
        }
      ]
    },
    {
      "cell_type": "code",
      "source": [],
      "metadata": {
        "id": "rVyBqFRKaOdc"
      },
      "execution_count": null,
      "outputs": []
    }
  ]
}