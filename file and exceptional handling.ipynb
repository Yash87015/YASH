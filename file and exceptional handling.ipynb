{
 "cells": [
  {
   "cell_type": "markdown",
   "id": "2daaa235-eeec-4389-b81f-1023d639f171",
   "metadata": {},
   "source": [
    "mode\n",
    "r >> read mode\n",
    "w>> write mode\n",
    "a >> append mode\n",
    "r+>> both reading and writing\n",
    "\n",
    "open(\"files.txt\", 'r') #if there is no any file, and you open it in read mode it will throw an error"
   ]
  },
  {
   "cell_type": "code",
   "execution_count": 6,
   "id": "5ca3702a-ca5e-44dd-a277-081d116a3b09",
   "metadata": {},
   "outputs": [],
   "source": [
    "file = open(\"file.txt\", \"w\") #w>>write mode, if a file is not there it will create the file.txt and then read it"
   ]
  },
  {
   "cell_type": "code",
   "execution_count": 7,
   "id": "f539f231-6a79-4cef-80b1-e11409f65885",
   "metadata": {},
   "outputs": [
    {
     "data": {
      "text/plain": [
       "13"
      ]
     },
     "execution_count": 7,
     "metadata": {},
     "output_type": "execute_result"
    }
   ],
   "source": [
    "file.write(\"heelo aava de\")#nuber below means numbers of bits written"
   ]
  },
  {
   "cell_type": "code",
   "execution_count": 8,
   "id": "2d2ba948-61c3-4aa7-a43a-5944325821a5",
   "metadata": {},
   "outputs": [],
   "source": [
    "file.close()"
   ]
  },
  {
   "cell_type": "code",
   "execution_count": 9,
   "id": "27b755e1-950c-46f6-9ab6-7e4d0b23ea94",
   "metadata": {},
   "outputs": [
    {
     "data": {
      "text/plain": [
       "<_io.TextIOWrapper name='file.txt' mode='w' encoding='UTF-8'>"
      ]
     },
     "execution_count": 9,
     "metadata": {},
     "output_type": "execute_result"
    }
   ],
   "source": [
    "file"
   ]
  },
  {
   "cell_type": "code",
   "execution_count": 11,
   "id": "e8425db3-52fd-4d69-adfd-c82e47646bbe",
   "metadata": {},
   "outputs": [
    {
     "data": {
      "text/plain": [
       "True"
      ]
     },
     "execution_count": 11,
     "metadata": {},
     "output_type": "execute_result"
    }
   ],
   "source": [
    "file.closed"
   ]
  },
  {
   "cell_type": "code",
   "execution_count": 13,
   "id": "fbcf9624-1207-4c14-a8f4-2eb219e951ac",
   "metadata": {},
   "outputs": [],
   "source": [
    "file=open(\"file.txt\",'r')"
   ]
  },
  {
   "cell_type": "code",
   "execution_count": 14,
   "id": "1342ef08-08ec-4fb4-89d1-dcc1a4618382",
   "metadata": {},
   "outputs": [
    {
     "data": {
      "text/plain": [
       "False"
      ]
     },
     "execution_count": 14,
     "metadata": {},
     "output_type": "execute_result"
    }
   ],
   "source": [
    "file.closed"
   ]
  },
  {
   "cell_type": "code",
   "execution_count": 15,
   "id": "6108cbe9-753a-48ba-9b23-a67af9dc27f0",
   "metadata": {},
   "outputs": [],
   "source": [
    "file.close()"
   ]
  },
  {
   "cell_type": "code",
   "execution_count": 16,
   "id": "c2b27623-06da-49b3-8ece-58c0dc4ab098",
   "metadata": {},
   "outputs": [
    {
     "data": {
      "text/plain": [
       "True"
      ]
     },
     "execution_count": 16,
     "metadata": {},
     "output_type": "execute_result"
    }
   ],
   "source": [
    "file.closed"
   ]
  },
  {
   "cell_type": "code",
   "execution_count": 19,
   "id": "8bb3b9f9-ebde-49c5-9cb1-7b67d07dbf2a",
   "metadata": {},
   "outputs": [],
   "source": [
    "file=open('file.txt','w')#it will truncate(delete) all earlier contetnt and make a fresh file.txt"
   ]
  },
  {
   "cell_type": "code",
   "execution_count": 20,
   "id": "f9030006-d9e8-4d85-85ac-0e9a68a7ad4e",
   "metadata": {},
   "outputs": [
    {
     "data": {
      "text/plain": [
       "23"
      ]
     },
     "execution_count": 20,
     "metadata": {},
     "output_type": "execute_result"
    }
   ],
   "source": [
    "file.write(\"This is my first line\\n\")\n",
    "file.write(\"This is my second line\\n\")\n",
    "file.write(\"This is my third line\\n\")\n",
    "file.write(\"This is my fourth line\\n\")\n"
   ]
  },
  {
   "cell_type": "code",
   "execution_count": 21,
   "id": "7028ec41-d175-4f4c-8e9a-03342c040f8b",
   "metadata": {},
   "outputs": [],
   "source": [
    "file.close()"
   ]
  },
  {
   "cell_type": "code",
   "execution_count": 22,
   "id": "033b78e6-71a1-4e23-9b77-8332041a1746",
   "metadata": {},
   "outputs": [],
   "source": [
    "file = open(\"file.txt\", \"a\") #append the new line\n",
    "file.write(\"This is fifth line\")\n",
    "file.close()"
   ]
  },
  {
   "cell_type": "code",
   "execution_count": 32,
   "id": "26e55d3a-66a4-4991-8838-56273aa7c5cb",
   "metadata": {},
   "outputs": [],
   "source": [
    "file = open(\"file.txt\", 'r')"
   ]
  },
  {
   "cell_type": "code",
   "execution_count": 24,
   "id": "ab5f76b5-95a2-41a5-bd22-4aab3c7c145d",
   "metadata": {},
   "outputs": [
    {
     "name": "stdout",
     "output_type": "stream",
     "text": [
      "This is my first line\n",
      "\n",
      "This is my second line\n",
      "\n",
      "This is my third line\n",
      "\n",
      "This is my fourth line\n",
      "\n",
      "This is fifth line\n"
     ]
    }
   ],
   "source": [
    "for i in file:\n",
    "    print(i)"
   ]
  },
  {
   "cell_type": "code",
   "execution_count": 27,
   "id": "0e56ab7d-59ec-4f64-b8bf-4708f999dcdf",
   "metadata": {},
   "outputs": [
    {
     "data": {
      "text/plain": [
       "''"
      ]
     },
     "execution_count": 27,
     "metadata": {},
     "output_type": "execute_result"
    }
   ],
   "source": [
    "file.read()"
   ]
  },
  {
   "cell_type": "code",
   "execution_count": 29,
   "id": "519a67b2-f720-4906-bad0-3cb81f7e8d5d",
   "metadata": {},
   "outputs": [
    {
     "name": "stdout",
     "output_type": "stream",
     "text": [
      "\n"
     ]
    }
   ],
   "source": [
    "print(file.read())##here the cursor/pointer is at last position"
   ]
  },
  {
   "cell_type": "code",
   "execution_count": 30,
   "id": "682071fc-3c97-41fb-8827-70ea06b37eac",
   "metadata": {},
   "outputs": [
    {
     "data": {
      "text/plain": [
       "108"
      ]
     },
     "execution_count": 30,
     "metadata": {},
     "output_type": "execute_result"
    }
   ],
   "source": [
    "file.tell()#it tellse the current position of the cursor"
   ]
  },
  {
   "cell_type": "code",
   "execution_count": 31,
   "id": "92f24527-63b2-4bab-9e46-86e4121202bb",
   "metadata": {},
   "outputs": [
    {
     "data": {
      "text/plain": [
       "0"
      ]
     },
     "execution_count": 31,
     "metadata": {},
     "output_type": "execute_result"
    }
   ],
   "source": [
    "file.seek(0)"
   ]
  },
  {
   "cell_type": "code",
   "execution_count": 34,
   "id": "3b4cf2cd-427c-44d9-9147-ab36f44ce7d8",
   "metadata": {},
   "outputs": [
    {
     "name": "stdout",
     "output_type": "stream",
     "text": [
      "This is my first line\n",
      "\n"
     ]
    }
   ],
   "source": [
    "print(file.readline())#it will only read the first line\n",
    "file.close()"
   ]
  },
  {
   "cell_type": "code",
   "execution_count": 35,
   "id": "960d5e9a-aa79-427a-8040-ede8de36aa99",
   "metadata": {},
   "outputs": [
    {
     "name": "stdout",
     "output_type": "stream",
     "text": [
      "This is my first line\n",
      "This is my second line\n",
      "This is my third line\n",
      "This is my fourth line\n",
      "This is fifth line\n"
     ]
    }
   ],
   "source": [
    "f = open(\"file.txt\", 'r')\n",
    "f.seek(0) #it will bring cursor to start of the the file\n",
    "print(f.read()) #it will read everything from starting\n",
    "f.close()"
   ]
  },
  {
   "cell_type": "code",
   "execution_count": 36,
   "id": "2fdac0a3-bcf0-4660-bb0a-aed4cb98c559",
   "metadata": {},
   "outputs": [
    {
     "name": "stdout",
     "output_type": "stream",
     "text": [
      "['This is my first line\\n', 'This is my second line\\n', 'This is my third line\\n', 'This is my fourth line\\n', 'This is fifth line']\n"
     ]
    }
   ],
   "source": [
    "f = open(\"file.txt\", 'r')\n",
    "print(f.readlines())  #all the lines will be the element of a list\n",
    "f.close()#here readlines s is incuded not reanline"
   ]
  },
  {
   "cell_type": "code",
   "execution_count": 37,
   "id": "9fd757c4-167d-4eab-ae08-3e803974076c",
   "metadata": {},
   "outputs": [],
   "source": [
    "import os"
   ]
  },
  {
   "cell_type": "code",
   "execution_count": 39,
   "id": "d3e55c18-dbff-4d1a-977a-efac8e8b0a3d",
   "metadata": {},
   "outputs": [
    {
     "name": "stdout",
     "output_type": "stream",
     "text": [
      "/home/jovyan/work\n"
     ]
    }
   ],
   "source": [
    "#present working director\n",
    "!pwd"
   ]
  },
  {
   "cell_type": "code",
   "execution_count": 40,
   "id": "d3a68772-2682-4eae-b57f-d201e611f6e3",
   "metadata": {},
   "outputs": [
    {
     "data": {
      "text/plain": [
       "'/home/jovyan/work'"
      ]
     },
     "execution_count": 40,
     "metadata": {},
     "output_type": "execute_result"
    }
   ],
   "source": [
    "os.getcwd()"
   ]
  },
  {
   "cell_type": "code",
   "execution_count": 42,
   "id": "fede2c6f-348d-4664-a392-c55373c75827",
   "metadata": {},
   "outputs": [
    {
     "name": "stdout",
     "output_type": "stream",
     "text": [
      " \u001b[0m\u001b[01;34masignment\u001b[0m/                                         'git file.txt'\n",
      "'basic of python,flow contro,data structure.ipynb'   matplotlib.ipynb\n",
      "\u001b[01;34m'data toolkit'\u001b[0m/                                      oops.ipynb\n",
      "'file and exceptional handling.ipynb'               ' practice.ipynb'\n",
      " file.txt                                            README.md\n",
      " function.ipynb\n"
     ]
    }
   ],
   "source": [
    "ls"
   ]
  },
  {
   "cell_type": "code",
   "execution_count": 43,
   "id": "ccdba428-df9c-4fd4-bc86-a4c826d1c73e",
   "metadata": {},
   "outputs": [
    {
     "data": {
      "text/plain": [
       "238245"
      ]
     },
     "execution_count": 43,
     "metadata": {},
     "output_type": "execute_result"
    }
   ],
   "source": [
    "os.path.getsize(\"oops.ipynb\")"
   ]
  },
  {
   "cell_type": "code",
   "execution_count": 44,
   "id": "33265e74-4a65-49b7-a930-25ab694ce0cd",
   "metadata": {},
   "outputs": [
    {
     "data": {
      "text/plain": [
       "108"
      ]
     },
     "execution_count": 44,
     "metadata": {},
     "output_type": "execute_result"
    }
   ],
   "source": [
    "os.path.getsize('file.txt')"
   ]
  },
  {
   "cell_type": "code",
   "execution_count": 45,
   "id": "68265458-74eb-4208-a073-5289d5dd08c6",
   "metadata": {},
   "outputs": [],
   "source": [
    "os.mkdir('test')"
   ]
  },
  {
   "cell_type": "markdown",
   "id": "a42a2fc0-2575-4f3a-81bd-d17c7014d4d2",
   "metadata": {},
   "source": [
    "os.mkdir(\"1/2\") #it will throw an error>>because 1 is not made first"
   ]
  },
  {
   "cell_type": "code",
   "execution_count": 50,
   "id": "387960a4-b978-4e0d-b059-9c4039ba1ae8",
   "metadata": {},
   "outputs": [],
   "source": [
    "os.makedirs(\"1/2/3/4\")#if you use makedirs it will not throw a error it will create a directries or folder"
   ]
  },
  {
   "cell_type": "code",
   "execution_count": 47,
   "id": "7338b522-1697-415e-82b3-28146ec8e46d",
   "metadata": {},
   "outputs": [
    {
     "data": {
      "text/plain": [
       "['file and exceptional handling.ipynb',\n",
       " 'matplotlib.ipynb',\n",
       " ' practice.ipynb',\n",
       " 'basic of python,flow contro,data structure.ipynb',\n",
       " 'file.txt',\n",
       " '.ipynb_checkpoints',\n",
       " 'data toolkit',\n",
       " 'function.ipynb',\n",
       " 'oops.ipynb',\n",
       " 'asignment',\n",
       " '.git',\n",
       " 'git file.txt',\n",
       " 'README.md']"
      ]
     },
     "execution_count": 47,
     "metadata": {},
     "output_type": "execute_result"
    }
   ],
   "source": [
    "os.listdir()"
   ]
  },
  {
   "cell_type": "code",
   "execution_count": 48,
   "id": "4e254af1-ccb3-480f-9318-440bddb568a3",
   "metadata": {},
   "outputs": [],
   "source": [
    "os.mkdir(\"feat\")"
   ]
  },
  {
   "cell_type": "code",
   "execution_count": 49,
   "id": "3e208b56-920e-4007-b690-2d7108a22171",
   "metadata": {},
   "outputs": [],
   "source": [
    "os.rmdir(\"feat\") #to delete one directory without any content inside the directory"
   ]
  },
  {
   "cell_type": "markdown",
   "id": "bba84c0a-5e0d-4675-abc9-59229473f897",
   "metadata": {},
   "source": [
    "# if you have not empty folder than it will trow a error and not delete this file it should be empty if you want to delete the file \n",
    "\n",
    "# but if you use shutil then it will delete directly all inside as well"
   ]
  },
  {
   "cell_type": "code",
   "execution_count": 52,
   "id": "56065179-1ba9-4949-ad15-d472d2b5bede",
   "metadata": {},
   "outputs": [],
   "source": [
    "import shutil\n",
    "shutil.rmtree('1')#it will remove the folder hierarchy"
   ]
  },
  {
   "cell_type": "code",
   "execution_count": 53,
   "id": "8e66bb92-177d-4b59-a3c9-3eba498cfb21",
   "metadata": {},
   "outputs": [
    {
     "data": {
      "text/plain": [
       "'/home/jovyan/work'"
      ]
     },
     "execution_count": 53,
     "metadata": {},
     "output_type": "execute_result"
    }
   ],
   "source": [
    "os.getcwd()"
   ]
  },
  {
   "cell_type": "code",
   "execution_count": 54,
   "id": "13373a1e-d2f8-4abd-97ef-1b2bf055e894",
   "metadata": {},
   "outputs": [],
   "source": [
    "os.makedirs(\"1/2\")"
   ]
  },
  {
   "cell_type": "code",
   "execution_count": 55,
   "id": "e54ec94a-08b6-4810-89ba-64569e11e14e",
   "metadata": {},
   "outputs": [],
   "source": [
    "f=open('/home/jovyan/work/1/file.txt','w')"
   ]
  },
  {
   "cell_type": "code",
   "execution_count": 56,
   "id": "82c46620-affb-4488-a45f-45b9bd806507",
   "metadata": {},
   "outputs": [
    {
     "data": {
      "text/plain": [
       "'/home/jovyan/work/file.txt'"
      ]
     },
     "execution_count": 56,
     "metadata": {},
     "output_type": "execute_result"
    }
   ],
   "source": [
    "#copy above file in the cuuent location\n",
    "shutil.copy('/home/jovyan/work/1/file.txt','/home/jovyan/work')#keep a copy at original source as well"
   ]
  },
  {
   "cell_type": "code",
   "execution_count": 57,
   "id": "64ee397b-4143-4c6f-acdc-1c5c3060bc45",
   "metadata": {},
   "outputs": [
    {
     "data": {
      "text/plain": [
       "'/home/jovyan/work/file.txt'"
      ]
     },
     "execution_count": 57,
     "metadata": {},
     "output_type": "execute_result"
    }
   ],
   "source": [
    "#move a file\n",
    "shutil.move('/home/jovyan/work/1/file.txt','/home/jovyan/work')#move will remove the file from original source to destination source"
   ]
  },
  {
   "cell_type": "code",
   "execution_count": 58,
   "id": "50d97054-64cc-492e-89ef-9c84800ff1fb",
   "metadata": {},
   "outputs": [],
   "source": [
    "shutil.rmtree('1')"
   ]
  },
  {
   "cell_type": "markdown",
   "id": "bd39c0f8-af83-49a2-a24d-0b3eea504f20",
   "metadata": {},
   "source": [
    "# with statment ensures that the file is closed properly after the block of code is executed\n",
    "# important:- free up system resources and avoid issues like data corruption or file lock"
   ]
  },
  {
   "cell_type": "code",
   "execution_count": 59,
   "id": "05c58166-a72e-4ecc-aa49-0a7d15c0d573",
   "metadata": {},
   "outputs": [],
   "source": [
    "with open('file.txt', 'w') as f:#you dont need the closed file \n",
    "    f.write(\"This is my first line\")"
   ]
  },
  {
   "cell_type": "code",
   "execution_count": 60,
   "id": "48d018d0-af19-4ec7-916f-04d8e757be98",
   "metadata": {},
   "outputs": [
    {
     "name": "stdout",
     "output_type": "stream",
     "text": [
      "This is my first line\n"
     ]
    }
   ],
   "source": [
    "with open(\"file.txt\", 'r') as f:\n",
    "    line = f.readline()\n",
    "    print(line)"
   ]
  },
  {
   "cell_type": "code",
   "execution_count": 61,
   "id": "abceb0e7-f15e-4f82-9f78-237aed192b67",
   "metadata": {},
   "outputs": [],
   "source": [
    "text_content = \"\"\" \n",
    "example1\n",
    "example2\n",
    "example3\n",
    "\"\"\""
   ]
  },
  {
   "cell_type": "code",
   "execution_count": 62,
   "id": "aeca341c-c919-4748-8f70-8c1595a1b670",
   "metadata": {},
   "outputs": [],
   "source": [
    "with open('example.txt','w') as file:\n",
    "    file.write(text_content)"
   ]
  },
  {
   "cell_type": "code",
   "execution_count": 63,
   "id": "25895ef1-b102-4d9f-ada3-5ea1fac7b88e",
   "metadata": {},
   "outputs": [
    {
     "name": "stdout",
     "output_type": "stream",
     "text": [
      " \n",
      "example1\n",
      "example2\n",
      "example3\n",
      "\n"
     ]
    }
   ],
   "source": [
    "with open(\"example.txt\", \"r\") as file:\n",
    "    data = file.read()\n",
    "print(data)"
   ]
  },
  {
   "cell_type": "code",
   "execution_count": 64,
   "id": "e6f4ddb7-523c-4fc0-92bb-44c1314c7f5e",
   "metadata": {},
   "outputs": [],
   "source": [
    "#csv>>comma separated values file\n",
    "data = [[\"Name\", \"Course\", \"Fee\"],\n",
    "       [\"Ajay\", \"DS\", \"20000\"],\n",
    "       [\"Rahul\", \"DA\", \"30000\"]]"
   ]
  },
  {
   "cell_type": "code",
   "execution_count": 65,
   "id": "47ff66dc-c797-4bf0-af85-df6259885afc",
   "metadata": {},
   "outputs": [
    {
     "name": "stdout",
     "output_type": "stream",
     "text": [
      "['Name', 'Course', 'Fee']\n",
      "['Ajay', 'DS', '20000']\n",
      "['Rahul', 'DA', '30000']\n"
     ]
    }
   ],
   "source": [
    "for i in data:\n",
    "    print(i)"
   ]
  },
  {
   "cell_type": "code",
   "execution_count": 67,
   "id": "2efb7625-2816-43c6-bcc3-3f1398857708",
   "metadata": {},
   "outputs": [],
   "source": [
    "import csv\n",
    "with open(\"example_csv.csv\", \"w\") as f:\n",
    "    w = csv.writer(f)\n",
    "    for i in data:\n",
    "        w.writerow(i)"
   ]
  },
  {
   "cell_type": "code",
   "execution_count": 68,
   "id": "82926281-a374-4656-8bd9-7707fa8014e3",
   "metadata": {},
   "outputs": [
    {
     "name": "stdout",
     "output_type": "stream",
     "text": [
      "['Name', 'Course', 'Fee']\n",
      "['Ajay', 'DS', '20000']\n",
      "['Rahul', 'DA', '30000']\n"
     ]
    }
   ],
   "source": [
    "with open(\"example_csv.csv\", 'r') as f:\n",
    "    r = csv.reader(f)\n",
    "    for i in r:\n",
    "        print(i)"
   ]
  },
  {
   "cell_type": "code",
   "execution_count": 70,
   "id": "a8b1c5c5-c5d3-423c-a5ae-5ba6949db027",
   "metadata": {},
   "outputs": [
    {
     "data": {
      "text/plain": [
       "{'name': 'bikhari', 'course': 'pwskill', 'fee': 2000}"
      ]
     },
     "execution_count": 70,
     "metadata": {},
     "output_type": "execute_result"
    }
   ],
   "source": [
    "#JSON>> Javascript object notation\n",
    "data = {\"name\": \"bikhari\",\n",
    "       \"course\":\"pwskill\",\n",
    "       \"fee\": 2000}\n",
    "data"
   ]
  },
  {
   "cell_type": "code",
   "execution_count": 71,
   "id": "587472de-47ad-4086-8ffa-fbf0ad1308c2",
   "metadata": {},
   "outputs": [
    {
     "data": {
      "text/plain": [
       "dict"
      ]
     },
     "execution_count": 71,
     "metadata": {},
     "output_type": "execute_result"
    }
   ],
   "source": [
    "type(data)"
   ]
  },
  {
   "cell_type": "code",
   "execution_count": 72,
   "id": "d49af4a7-579e-47e1-ac3c-a965068439a5",
   "metadata": {},
   "outputs": [],
   "source": [
    "import json\n",
    "with open('json_file.json','w') as f:\n",
    "    json.dump(data,f)"
   ]
  },
  {
   "cell_type": "code",
   "execution_count": 74,
   "id": "6afb4e06-20d7-419f-bcb9-e52e34ccc570",
   "metadata": {},
   "outputs": [
    {
     "name": "stdout",
     "output_type": "stream",
     "text": [
      "{'name': 'bikhari', 'course': 'pwskill', 'fee': 2000}\n"
     ]
    }
   ],
   "source": [
    "with open(\"json_file.json\", \"r\") as f:\n",
    "    data = json.load(f)\n",
    "print(data)"
   ]
  },
  {
   "cell_type": "code",
   "execution_count": 75,
   "id": "dd63801d-c436-47d9-aca7-ca0a85711365",
   "metadata": {},
   "outputs": [],
   "source": [
    "#write a binary data in a file\n",
    "#wb>>write byte mode\n",
    "with open(\"test_bin.bin\", \"wb\") as f:\n",
    "    f.write(b\"\\x48\\x65\\x6c\\x6c\\x6f\\x2c\\x20\\x57\\x6f\\x72\\x6c\\x64\\x21\")"
   ]
  },
  {
   "cell_type": "code",
   "execution_count": 76,
   "id": "86ab6ee2-9670-4bfe-9361-14599d42043d",
   "metadata": {},
   "outputs": [
    {
     "name": "stdout",
     "output_type": "stream",
     "text": [
      "b'Hello, World!'\n"
     ]
    }
   ],
   "source": [
    "with open(\"test_bin.bin\", \"rb\") as f:\n",
    "    print(f.read())"
   ]
  },
  {
   "cell_type": "markdown",
   "id": "098c7aa3-a56d-4079-b7b1-47e84cfe7e8f",
   "metadata": {},
   "source": [
    "Buffered reading and writing\n",
    "it alllows the program to read and write data in chunks\n",
    "it increases teh performance and efficiency"
   ]
  },
  {
   "cell_type": "code",
   "execution_count": 80,
   "id": "62766096-fd1f-4577-a54b-73969ce4cc91",
   "metadata": {},
   "outputs": [],
   "source": [
    "import io\n",
    "with open('test_buf.txt', \"wb\") as f:\n",
    "    file = io.BufferedWriter(f)\n",
    "    file.write(b\"A computer is a machine that can be programmed to automatically carry out sequences of arithmetic or logical operations (computation). Modern digital electronic computers can perform generic sets of operations known as programs. These programs enable computers to perform a wide range of tasks. The term computer system may refer to a nominally complete computer that includes the hardware, operating system, software, and peripheral equipment needed and used for full operation; or to a group of computers that are linked and function together, such as a computer network or computer cluster.\\n\")\n",
    "    file.write(b\"Hello world, how are you?\\n\")\n",
    "    file.write(b\"I am studying ds\\n\")\n",
    "    file.flush()"
   ]
  },
  {
   "cell_type": "code",
   "execution_count": 84,
   "id": "6bab51e2-0efb-4df2-b606-d61342c50081",
   "metadata": {},
   "outputs": [
    {
     "name": "stdout",
     "output_type": "stream",
     "text": [
      "b'A computer is a'\n"
     ]
    }
   ],
   "source": [
    "with open('test_buf.txt', \"rb\") as f:\n",
    "    file = io.BufferedReader(f)\n",
    "    data = file.read(15) #read the first chunk of 100 bytes\n",
    "    print(data)"
   ]
  },
  {
   "cell_type": "code",
   "execution_count": null,
   "id": "1132b328-1959-4596-b307-97b44b36195a",
   "metadata": {},
   "outputs": [],
   "source": []
  }
 ],
 "metadata": {
  "kernelspec": {
   "display_name": "Python 3 (ipykernel)",
   "language": "python",
   "name": "python3"
  },
  "language_info": {
   "codemirror_mode": {
    "name": "ipython",
    "version": 3
   },
   "file_extension": ".py",
   "mimetype": "text/x-python",
   "name": "python",
   "nbconvert_exporter": "python",
   "pygments_lexer": "ipython3",
   "version": "3.10.8"
  }
 },
 "nbformat": 4,
 "nbformat_minor": 5
}
